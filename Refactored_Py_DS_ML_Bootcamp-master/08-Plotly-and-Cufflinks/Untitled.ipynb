{
 "cells": [
  {
   "cell_type": "code",
   "execution_count": 4,
   "id": "dfe0bc0d",
   "metadata": {},
   "outputs": [],
   "source": []
  },
  {
   "cell_type": "code",
   "execution_count": 7,
   "id": "dec5ed8f",
   "metadata": {},
   "outputs": [],
   "source": [
    "import cufflinks as cf\n",
    "import pandas as pd\n",
    "import numpy as np\n",
    "from plotly.offline import download_plotlyjs, init_notebook_mode,plot,iplot"
   ]
  },
  {
   "cell_type": "code",
   "execution_count": 8,
   "id": "a39b04cf",
   "metadata": {},
   "outputs": [
    {
     "data": {
      "text/html": [
       "        <script type=\"text/javascript\">\n",
       "        window.PlotlyConfig = {MathJaxConfig: 'local'};\n",
       "        if (window.MathJax) {MathJax.Hub.Config({SVG: {font: \"STIX-Web\"}});}\n",
       "        if (typeof require !== 'undefined') {\n",
       "        require.undef(\"plotly\");\n",
       "        requirejs.config({\n",
       "            paths: {\n",
       "                'plotly': ['https://cdn.plot.ly/plotly-2.8.3.min']\n",
       "            }\n",
       "        });\n",
       "        require(['plotly'], function(Plotly) {\n",
       "            window._Plotly = Plotly;\n",
       "        });\n",
       "        }\n",
       "        </script>\n",
       "        "
      ]
     },
     "metadata": {},
     "output_type": "display_data"
    }
   ],
   "source": [
    "init_notebook_mode(connected=True)"
   ]
  },
  {
   "cell_type": "code",
   "execution_count": 9,
   "id": "a415b889",
   "metadata": {},
   "outputs": [
    {
     "data": {
      "text/html": [
       "        <script type=\"text/javascript\">\n",
       "        window.PlotlyConfig = {MathJaxConfig: 'local'};\n",
       "        if (window.MathJax) {MathJax.Hub.Config({SVG: {font: \"STIX-Web\"}});}\n",
       "        if (typeof require !== 'undefined') {\n",
       "        require.undef(\"plotly\");\n",
       "        requirejs.config({\n",
       "            paths: {\n",
       "                'plotly': ['https://cdn.plot.ly/plotly-2.8.3.min']\n",
       "            }\n",
       "        });\n",
       "        require(['plotly'], function(Plotly) {\n",
       "            window._Plotly = Plotly;\n",
       "        });\n",
       "        }\n",
       "        </script>\n",
       "        "
      ]
     },
     "metadata": {},
     "output_type": "display_data"
    }
   ],
   "source": [
    "cf.go_offline()\n"
   ]
  },
  {
   "cell_type": "code",
   "execution_count": 21,
   "id": "fe929c87",
   "metadata": {},
   "outputs": [],
   "source": [
    "df=pd.DataFrame(np.random.randn(100,4),columns='A B C D'.split())"
   ]
  },
  {
   "cell_type": "code",
   "execution_count": 22,
   "id": "3d45d545",
   "metadata": {},
   "outputs": [
    {
     "data": {
      "text/html": [
       "<div>\n",
       "<style scoped>\n",
       "    .dataframe tbody tr th:only-of-type {\n",
       "        vertical-align: middle;\n",
       "    }\n",
       "\n",
       "    .dataframe tbody tr th {\n",
       "        vertical-align: top;\n",
       "    }\n",
       "\n",
       "    .dataframe thead th {\n",
       "        text-align: right;\n",
       "    }\n",
       "</style>\n",
       "<table border=\"1\" class=\"dataframe\">\n",
       "  <thead>\n",
       "    <tr style=\"text-align: right;\">\n",
       "      <th></th>\n",
       "      <th>A</th>\n",
       "      <th>B</th>\n",
       "      <th>C</th>\n",
       "      <th>D</th>\n",
       "    </tr>\n",
       "  </thead>\n",
       "  <tbody>\n",
       "    <tr>\n",
       "      <th>0</th>\n",
       "      <td>-1.381371</td>\n",
       "      <td>0.394085</td>\n",
       "      <td>-0.298789</td>\n",
       "      <td>1.219500</td>\n",
       "    </tr>\n",
       "    <tr>\n",
       "      <th>1</th>\n",
       "      <td>0.806509</td>\n",
       "      <td>0.559781</td>\n",
       "      <td>0.222590</td>\n",
       "      <td>1.491369</td>\n",
       "    </tr>\n",
       "    <tr>\n",
       "      <th>2</th>\n",
       "      <td>0.341865</td>\n",
       "      <td>1.187288</td>\n",
       "      <td>0.447194</td>\n",
       "      <td>0.586634</td>\n",
       "    </tr>\n",
       "    <tr>\n",
       "      <th>3</th>\n",
       "      <td>-0.332382</td>\n",
       "      <td>0.526107</td>\n",
       "      <td>1.281475</td>\n",
       "      <td>-0.898162</td>\n",
       "    </tr>\n",
       "    <tr>\n",
       "      <th>4</th>\n",
       "      <td>2.123141</td>\n",
       "      <td>0.832415</td>\n",
       "      <td>-0.955242</td>\n",
       "      <td>0.101679</td>\n",
       "    </tr>\n",
       "  </tbody>\n",
       "</table>\n",
       "</div>"
      ],
      "text/plain": [
       "          A         B         C         D\n",
       "0 -1.381371  0.394085 -0.298789  1.219500\n",
       "1  0.806509  0.559781  0.222590  1.491369\n",
       "2  0.341865  1.187288  0.447194  0.586634\n",
       "3 -0.332382  0.526107  1.281475 -0.898162\n",
       "4  2.123141  0.832415 -0.955242  0.101679"
      ]
     },
     "execution_count": 22,
     "metadata": {},
     "output_type": "execute_result"
    }
   ],
   "source": [
    "df.head()"
   ]
  },
  {
   "cell_type": "code",
   "execution_count": 23,
   "id": "934f010e",
   "metadata": {},
   "outputs": [],
   "source": [
    "df2=pd.DataFrame({'Category':['A','B','C'],\n",
    "                'Values':[32,43,50]})"
   ]
  },
  {
   "cell_type": "code",
   "execution_count": 24,
   "id": "12980c5c",
   "metadata": {},
   "outputs": [
    {
     "data": {
      "text/html": [
       "<div>\n",
       "<style scoped>\n",
       "    .dataframe tbody tr th:only-of-type {\n",
       "        vertical-align: middle;\n",
       "    }\n",
       "\n",
       "    .dataframe tbody tr th {\n",
       "        vertical-align: top;\n",
       "    }\n",
       "\n",
       "    .dataframe thead th {\n",
       "        text-align: right;\n",
       "    }\n",
       "</style>\n",
       "<table border=\"1\" class=\"dataframe\">\n",
       "  <thead>\n",
       "    <tr style=\"text-align: right;\">\n",
       "      <th></th>\n",
       "      <th>Category</th>\n",
       "      <th>Values</th>\n",
       "    </tr>\n",
       "  </thead>\n",
       "  <tbody>\n",
       "    <tr>\n",
       "      <th>0</th>\n",
       "      <td>A</td>\n",
       "      <td>32</td>\n",
       "    </tr>\n",
       "    <tr>\n",
       "      <th>1</th>\n",
       "      <td>B</td>\n",
       "      <td>43</td>\n",
       "    </tr>\n",
       "    <tr>\n",
       "      <th>2</th>\n",
       "      <td>C</td>\n",
       "      <td>50</td>\n",
       "    </tr>\n",
       "  </tbody>\n",
       "</table>\n",
       "</div>"
      ],
      "text/plain": [
       "  Category  Values\n",
       "0        A      32\n",
       "1        B      43\n",
       "2        C      50"
      ]
     },
     "execution_count": 24,
     "metadata": {},
     "output_type": "execute_result"
    }
   ],
   "source": [
    "df2"
   ]
  },
  {
   "cell_type": "code",
   "execution_count": 25,
   "id": "067471f2",
   "metadata": {},
   "outputs": [
    {
     "data": {
      "text/html": [
       "<div>\n",
       "<style scoped>\n",
       "    .dataframe tbody tr th:only-of-type {\n",
       "        vertical-align: middle;\n",
       "    }\n",
       "\n",
       "    .dataframe tbody tr th {\n",
       "        vertical-align: top;\n",
       "    }\n",
       "\n",
       "    .dataframe thead th {\n",
       "        text-align: right;\n",
       "    }\n",
       "</style>\n",
       "<table border=\"1\" class=\"dataframe\">\n",
       "  <thead>\n",
       "    <tr style=\"text-align: right;\">\n",
       "      <th></th>\n",
       "      <th>A</th>\n",
       "      <th>B</th>\n",
       "      <th>C</th>\n",
       "      <th>D</th>\n",
       "    </tr>\n",
       "  </thead>\n",
       "  <tbody>\n",
       "    <tr>\n",
       "      <th>0</th>\n",
       "      <td>-1.381371</td>\n",
       "      <td>0.394085</td>\n",
       "      <td>-0.298789</td>\n",
       "      <td>1.219500</td>\n",
       "    </tr>\n",
       "    <tr>\n",
       "      <th>1</th>\n",
       "      <td>0.806509</td>\n",
       "      <td>0.559781</td>\n",
       "      <td>0.222590</td>\n",
       "      <td>1.491369</td>\n",
       "    </tr>\n",
       "    <tr>\n",
       "      <th>2</th>\n",
       "      <td>0.341865</td>\n",
       "      <td>1.187288</td>\n",
       "      <td>0.447194</td>\n",
       "      <td>0.586634</td>\n",
       "    </tr>\n",
       "    <tr>\n",
       "      <th>3</th>\n",
       "      <td>-0.332382</td>\n",
       "      <td>0.526107</td>\n",
       "      <td>1.281475</td>\n",
       "      <td>-0.898162</td>\n",
       "    </tr>\n",
       "    <tr>\n",
       "      <th>4</th>\n",
       "      <td>2.123141</td>\n",
       "      <td>0.832415</td>\n",
       "      <td>-0.955242</td>\n",
       "      <td>0.101679</td>\n",
       "    </tr>\n",
       "    <tr>\n",
       "      <th>...</th>\n",
       "      <td>...</td>\n",
       "      <td>...</td>\n",
       "      <td>...</td>\n",
       "      <td>...</td>\n",
       "    </tr>\n",
       "    <tr>\n",
       "      <th>95</th>\n",
       "      <td>0.550537</td>\n",
       "      <td>0.780343</td>\n",
       "      <td>-0.134251</td>\n",
       "      <td>0.263509</td>\n",
       "    </tr>\n",
       "    <tr>\n",
       "      <th>96</th>\n",
       "      <td>-1.245727</td>\n",
       "      <td>0.454800</td>\n",
       "      <td>0.712608</td>\n",
       "      <td>-0.610326</td>\n",
       "    </tr>\n",
       "    <tr>\n",
       "      <th>97</th>\n",
       "      <td>2.197255</td>\n",
       "      <td>-1.918986</td>\n",
       "      <td>0.332457</td>\n",
       "      <td>-2.241185</td>\n",
       "    </tr>\n",
       "    <tr>\n",
       "      <th>98</th>\n",
       "      <td>-1.083599</td>\n",
       "      <td>0.742221</td>\n",
       "      <td>-0.458583</td>\n",
       "      <td>0.459734</td>\n",
       "    </tr>\n",
       "    <tr>\n",
       "      <th>99</th>\n",
       "      <td>-2.392757</td>\n",
       "      <td>-1.911585</td>\n",
       "      <td>-1.965372</td>\n",
       "      <td>-1.377248</td>\n",
       "    </tr>\n",
       "  </tbody>\n",
       "</table>\n",
       "<p>100 rows × 4 columns</p>\n",
       "</div>"
      ],
      "text/plain": [
       "           A         B         C         D\n",
       "0  -1.381371  0.394085 -0.298789  1.219500\n",
       "1   0.806509  0.559781  0.222590  1.491369\n",
       "2   0.341865  1.187288  0.447194  0.586634\n",
       "3  -0.332382  0.526107  1.281475 -0.898162\n",
       "4   2.123141  0.832415 -0.955242  0.101679\n",
       "..       ...       ...       ...       ...\n",
       "95  0.550537  0.780343 -0.134251  0.263509\n",
       "96 -1.245727  0.454800  0.712608 -0.610326\n",
       "97  2.197255 -1.918986  0.332457 -2.241185\n",
       "98 -1.083599  0.742221 -0.458583  0.459734\n",
       "99 -2.392757 -1.911585 -1.965372 -1.377248\n",
       "\n",
       "[100 rows x 4 columns]"
      ]
     },
     "execution_count": 25,
     "metadata": {},
     "output_type": "execute_result"
    }
   ],
   "source": [
    "df"
   ]
  },
  {
   "cell_type": "code",
   "execution_count": 26,
   "id": "b22b0a49",
   "metadata": {},
   "outputs": [],
   "source": [
    "%matplotlib inline"
   ]
  },
  {
   "cell_type": "code",
   "execution_count": 36,
   "id": "564371a2",
   "metadata": {},
   "outputs": [
    {
     "data": {
      "application/vnd.plotly.v1+json": {
       "config": {
        "linkText": "Export to plot.ly",
        "plotlyServerURL": "https://plot.ly",
        "showLink": true
       },
       "data": [
        {
         "line": {
          "color": "rgba(255, 153, 51, 1.0)",
          "dash": "solid",
          "shape": "linear",
          "width": 1.3
         },
         "marker": {
          "size": 20,
          "symbol": "circle"
         },
         "mode": "markers",
         "name": "B",
         "text": "",
         "type": "scatter",
         "x": [
          -1.3813706255062617,
          0.8065087300796255,
          0.3418651186982201,
          -0.3323817128521051,
          2.1231407918626863,
          -1.1202630656804664,
          -0.0838679423613188,
          -0.2323656787814356,
          -0.4448817191163479,
          -0.06875353456729144,
          -0.049574301014722454,
          2.210801449350267,
          -1.1063203713174574,
          -0.6063103665598676,
          -0.7011439170998087,
          -0.45395970306502087,
          2.766671816092905,
          0.5699573520404393,
          0.8808174816908407,
          1.3800745892046544,
          -0.1603764834931205,
          -1.0622118661110387,
          -1.562271295381666,
          -0.57761248853128,
          -0.8179651173239639,
          1.3851094626150695,
          1.419717830017316,
          1.490032752768479,
          0.4839879897208073,
          2.846600051376337,
          -0.19327060595834927,
          0.10695835574762955,
          -1.2772804565698301,
          0.1457265969364036,
          0.4980186780688667,
          0.37059896130240544,
          -1.7873621950489733,
          -0.8815719530555712,
          -1.0904553304750297,
          0.31263785194698335,
          -1.7657329345102317,
          -1.6644896212258584,
          -0.9985986717447229,
          -5.7910567175379e-05,
          -1.331707814385081,
          0.1134252366886889,
          0.759414790394926,
          -0.0599661947972707,
          0.6906859639390763,
          0.354321372436767,
          -1.1380592776587406,
          -0.9992273007320776,
          0.08349219406595834,
          1.4708225882710029,
          2.2572721833274625,
          0.7709653112317927,
          -0.23877889678292707,
          1.3451420206002938,
          -0.16746439868244084,
          0.5699618681293717,
          -0.3708267121936692,
          -1.8703385788607723,
          0.9215350628981622,
          -2.3333905191830175,
          0.43391561874284323,
          -0.7463278263388601,
          0.4737891000334945,
          1.0920180090401317,
          1.0325775036488705,
          -0.6106630768648215,
          -0.7382156222692969,
          -0.9584583679324162,
          -2.7421379622719124,
          -1.7506037789263569,
          0.31966563419627686,
          -0.7892062316286367,
          0.448996320741698,
          0.21294295276889807,
          0.9160624812720353,
          -0.28604664133610624,
          0.30985990443739675,
          -0.46754536872788194,
          -0.11610969135353229,
          0.48391664650310773,
          -0.520395981311585,
          1.1541095181196932,
          -0.45352152882079416,
          -0.05789549270731017,
          -1.2919838016797072,
          -0.3090001479193332,
          0.569241312546446,
          -0.934322907187918,
          0.3443265950499941,
          0.1456857429217968,
          -0.16409306709076685,
          0.5505366687670102,
          -1.2457267972453103,
          2.1972545707069133,
          -1.083598726767268,
          -2.39275691984455
         ],
         "y": [
          0.39408508751691174,
          0.5597812290844585,
          1.1872882937316844,
          0.5261069177621385,
          0.8324150081424387,
          2.0229924948473155,
          0.8016952099182463,
          -0.27250856543923707,
          0.5991969917690078,
          0.012408271151590967,
          1.498575989045239,
          -1.5252754697159996,
          0.14066922828746695,
          0.2001614896562864,
          0.7393141086675633,
          0.5218190410445782,
          -0.14099631099514778,
          0.746320335451686,
          0.2882068249559392,
          -0.6261179226215818,
          -1.3453418809785471,
          0.4485083513661857,
          -0.30337254173453476,
          -0.2573198650134465,
          1.8340919440261283,
          -1.723238043505735,
          2.2560989316205946,
          0.08307241884321633,
          -0.17902782356976163,
          0.3746919695015312,
          0.6907935307424771,
          -1.9052738453037013,
          -0.6944962604391867,
          -0.9560653935208608,
          -0.1260645549119327,
          -0.2820678692564736,
          -0.2899959469285368,
          -0.8697374037589303,
          1.4866174930332687,
          -0.358924788703825,
          -1.5454270107479176,
          -1.526480268544885,
          -0.9045299027694891,
          -0.49427429863164674,
          -0.09974524282445445,
          0.9496340986727977,
          -0.8322150144236892,
          -0.8063792658634675,
          1.312605694412341,
          0.1685132896260088,
          -1.4139505639110368,
          -0.4482508192546252,
          -0.5273928906970727,
          -0.6484514233815363,
          1.2933196429677625,
          0.15955467005039792,
          -1.4435626349802602,
          0.4894758579829374,
          1.0182449643440812,
          0.20611253270759147,
          -2.0742934113938274,
          0.7261227044394204,
          -0.9894261852623139,
          0.43174655067239753,
          0.23595597214069036,
          -0.6426900200374779,
          -0.2730663543060331,
          -0.5447654206263307,
          1.47959887301995,
          -2.035056494382499,
          0.39249244408448947,
          -0.444491041437767,
          0.3489655282637713,
          0.6535654394632688,
          -1.1795812678279245,
          -0.5415330568975902,
          -0.21101973071373986,
          -0.12649315801693273,
          0.5722210235128772,
          1.4461631141087352,
          0.6147519214766572,
          0.526200192436856,
          1.3598304924670988,
          0.253727520804128,
          0.9508513571872201,
          -0.33096300255923383,
          0.6422459455412688,
          -1.182840275342704,
          0.7776106033058436,
          0.7251921984089881,
          -0.8992954636081043,
          -0.2659385388815195,
          1.8702168449694738,
          -0.7927214636265612,
          1.3740151971820014,
          0.7803432925385417,
          0.4547995097119779,
          -1.9189864701064838,
          0.742221013929439,
          -1.911585229275281
         ]
        }
       ],
       "layout": {
        "legend": {
         "bgcolor": "#F5F6F9",
         "font": {
          "color": "#4D5663"
         }
        },
        "paper_bgcolor": "#F5F6F9",
        "plot_bgcolor": "#F5F6F9",
        "template": {
         "data": {
          "bar": [
           {
            "error_x": {
             "color": "#2a3f5f"
            },
            "error_y": {
             "color": "#2a3f5f"
            },
            "marker": {
             "line": {
              "color": "#E5ECF6",
              "width": 0.5
             },
             "pattern": {
              "fillmode": "overlay",
              "size": 10,
              "solidity": 0.2
             }
            },
            "type": "bar"
           }
          ],
          "barpolar": [
           {
            "marker": {
             "line": {
              "color": "#E5ECF6",
              "width": 0.5
             },
             "pattern": {
              "fillmode": "overlay",
              "size": 10,
              "solidity": 0.2
             }
            },
            "type": "barpolar"
           }
          ],
          "carpet": [
           {
            "aaxis": {
             "endlinecolor": "#2a3f5f",
             "gridcolor": "white",
             "linecolor": "white",
             "minorgridcolor": "white",
             "startlinecolor": "#2a3f5f"
            },
            "baxis": {
             "endlinecolor": "#2a3f5f",
             "gridcolor": "white",
             "linecolor": "white",
             "minorgridcolor": "white",
             "startlinecolor": "#2a3f5f"
            },
            "type": "carpet"
           }
          ],
          "choropleth": [
           {
            "colorbar": {
             "outlinewidth": 0,
             "ticks": ""
            },
            "type": "choropleth"
           }
          ],
          "contour": [
           {
            "colorbar": {
             "outlinewidth": 0,
             "ticks": ""
            },
            "colorscale": [
             [
              0,
              "#0d0887"
             ],
             [
              0.1111111111111111,
              "#46039f"
             ],
             [
              0.2222222222222222,
              "#7201a8"
             ],
             [
              0.3333333333333333,
              "#9c179e"
             ],
             [
              0.4444444444444444,
              "#bd3786"
             ],
             [
              0.5555555555555556,
              "#d8576b"
             ],
             [
              0.6666666666666666,
              "#ed7953"
             ],
             [
              0.7777777777777778,
              "#fb9f3a"
             ],
             [
              0.8888888888888888,
              "#fdca26"
             ],
             [
              1,
              "#f0f921"
             ]
            ],
            "type": "contour"
           }
          ],
          "contourcarpet": [
           {
            "colorbar": {
             "outlinewidth": 0,
             "ticks": ""
            },
            "type": "contourcarpet"
           }
          ],
          "heatmap": [
           {
            "colorbar": {
             "outlinewidth": 0,
             "ticks": ""
            },
            "colorscale": [
             [
              0,
              "#0d0887"
             ],
             [
              0.1111111111111111,
              "#46039f"
             ],
             [
              0.2222222222222222,
              "#7201a8"
             ],
             [
              0.3333333333333333,
              "#9c179e"
             ],
             [
              0.4444444444444444,
              "#bd3786"
             ],
             [
              0.5555555555555556,
              "#d8576b"
             ],
             [
              0.6666666666666666,
              "#ed7953"
             ],
             [
              0.7777777777777778,
              "#fb9f3a"
             ],
             [
              0.8888888888888888,
              "#fdca26"
             ],
             [
              1,
              "#f0f921"
             ]
            ],
            "type": "heatmap"
           }
          ],
          "heatmapgl": [
           {
            "colorbar": {
             "outlinewidth": 0,
             "ticks": ""
            },
            "colorscale": [
             [
              0,
              "#0d0887"
             ],
             [
              0.1111111111111111,
              "#46039f"
             ],
             [
              0.2222222222222222,
              "#7201a8"
             ],
             [
              0.3333333333333333,
              "#9c179e"
             ],
             [
              0.4444444444444444,
              "#bd3786"
             ],
             [
              0.5555555555555556,
              "#d8576b"
             ],
             [
              0.6666666666666666,
              "#ed7953"
             ],
             [
              0.7777777777777778,
              "#fb9f3a"
             ],
             [
              0.8888888888888888,
              "#fdca26"
             ],
             [
              1,
              "#f0f921"
             ]
            ],
            "type": "heatmapgl"
           }
          ],
          "histogram": [
           {
            "marker": {
             "pattern": {
              "fillmode": "overlay",
              "size": 10,
              "solidity": 0.2
             }
            },
            "type": "histogram"
           }
          ],
          "histogram2d": [
           {
            "colorbar": {
             "outlinewidth": 0,
             "ticks": ""
            },
            "colorscale": [
             [
              0,
              "#0d0887"
             ],
             [
              0.1111111111111111,
              "#46039f"
             ],
             [
              0.2222222222222222,
              "#7201a8"
             ],
             [
              0.3333333333333333,
              "#9c179e"
             ],
             [
              0.4444444444444444,
              "#bd3786"
             ],
             [
              0.5555555555555556,
              "#d8576b"
             ],
             [
              0.6666666666666666,
              "#ed7953"
             ],
             [
              0.7777777777777778,
              "#fb9f3a"
             ],
             [
              0.8888888888888888,
              "#fdca26"
             ],
             [
              1,
              "#f0f921"
             ]
            ],
            "type": "histogram2d"
           }
          ],
          "histogram2dcontour": [
           {
            "colorbar": {
             "outlinewidth": 0,
             "ticks": ""
            },
            "colorscale": [
             [
              0,
              "#0d0887"
             ],
             [
              0.1111111111111111,
              "#46039f"
             ],
             [
              0.2222222222222222,
              "#7201a8"
             ],
             [
              0.3333333333333333,
              "#9c179e"
             ],
             [
              0.4444444444444444,
              "#bd3786"
             ],
             [
              0.5555555555555556,
              "#d8576b"
             ],
             [
              0.6666666666666666,
              "#ed7953"
             ],
             [
              0.7777777777777778,
              "#fb9f3a"
             ],
             [
              0.8888888888888888,
              "#fdca26"
             ],
             [
              1,
              "#f0f921"
             ]
            ],
            "type": "histogram2dcontour"
           }
          ],
          "mesh3d": [
           {
            "colorbar": {
             "outlinewidth": 0,
             "ticks": ""
            },
            "type": "mesh3d"
           }
          ],
          "parcoords": [
           {
            "line": {
             "colorbar": {
              "outlinewidth": 0,
              "ticks": ""
             }
            },
            "type": "parcoords"
           }
          ],
          "pie": [
           {
            "automargin": true,
            "type": "pie"
           }
          ],
          "scatter": [
           {
            "marker": {
             "colorbar": {
              "outlinewidth": 0,
              "ticks": ""
             }
            },
            "type": "scatter"
           }
          ],
          "scatter3d": [
           {
            "line": {
             "colorbar": {
              "outlinewidth": 0,
              "ticks": ""
             }
            },
            "marker": {
             "colorbar": {
              "outlinewidth": 0,
              "ticks": ""
             }
            },
            "type": "scatter3d"
           }
          ],
          "scattercarpet": [
           {
            "marker": {
             "colorbar": {
              "outlinewidth": 0,
              "ticks": ""
             }
            },
            "type": "scattercarpet"
           }
          ],
          "scattergeo": [
           {
            "marker": {
             "colorbar": {
              "outlinewidth": 0,
              "ticks": ""
             }
            },
            "type": "scattergeo"
           }
          ],
          "scattergl": [
           {
            "marker": {
             "colorbar": {
              "outlinewidth": 0,
              "ticks": ""
             }
            },
            "type": "scattergl"
           }
          ],
          "scattermapbox": [
           {
            "marker": {
             "colorbar": {
              "outlinewidth": 0,
              "ticks": ""
             }
            },
            "type": "scattermapbox"
           }
          ],
          "scatterpolar": [
           {
            "marker": {
             "colorbar": {
              "outlinewidth": 0,
              "ticks": ""
             }
            },
            "type": "scatterpolar"
           }
          ],
          "scatterpolargl": [
           {
            "marker": {
             "colorbar": {
              "outlinewidth": 0,
              "ticks": ""
             }
            },
            "type": "scatterpolargl"
           }
          ],
          "scatterternary": [
           {
            "marker": {
             "colorbar": {
              "outlinewidth": 0,
              "ticks": ""
             }
            },
            "type": "scatterternary"
           }
          ],
          "surface": [
           {
            "colorbar": {
             "outlinewidth": 0,
             "ticks": ""
            },
            "colorscale": [
             [
              0,
              "#0d0887"
             ],
             [
              0.1111111111111111,
              "#46039f"
             ],
             [
              0.2222222222222222,
              "#7201a8"
             ],
             [
              0.3333333333333333,
              "#9c179e"
             ],
             [
              0.4444444444444444,
              "#bd3786"
             ],
             [
              0.5555555555555556,
              "#d8576b"
             ],
             [
              0.6666666666666666,
              "#ed7953"
             ],
             [
              0.7777777777777778,
              "#fb9f3a"
             ],
             [
              0.8888888888888888,
              "#fdca26"
             ],
             [
              1,
              "#f0f921"
             ]
            ],
            "type": "surface"
           }
          ],
          "table": [
           {
            "cells": {
             "fill": {
              "color": "#EBF0F8"
             },
             "line": {
              "color": "white"
             }
            },
            "header": {
             "fill": {
              "color": "#C8D4E3"
             },
             "line": {
              "color": "white"
             }
            },
            "type": "table"
           }
          ]
         },
         "layout": {
          "annotationdefaults": {
           "arrowcolor": "#2a3f5f",
           "arrowhead": 0,
           "arrowwidth": 1
          },
          "autotypenumbers": "strict",
          "coloraxis": {
           "colorbar": {
            "outlinewidth": 0,
            "ticks": ""
           }
          },
          "colorscale": {
           "diverging": [
            [
             0,
             "#8e0152"
            ],
            [
             0.1,
             "#c51b7d"
            ],
            [
             0.2,
             "#de77ae"
            ],
            [
             0.3,
             "#f1b6da"
            ],
            [
             0.4,
             "#fde0ef"
            ],
            [
             0.5,
             "#f7f7f7"
            ],
            [
             0.6,
             "#e6f5d0"
            ],
            [
             0.7,
             "#b8e186"
            ],
            [
             0.8,
             "#7fbc41"
            ],
            [
             0.9,
             "#4d9221"
            ],
            [
             1,
             "#276419"
            ]
           ],
           "sequential": [
            [
             0,
             "#0d0887"
            ],
            [
             0.1111111111111111,
             "#46039f"
            ],
            [
             0.2222222222222222,
             "#7201a8"
            ],
            [
             0.3333333333333333,
             "#9c179e"
            ],
            [
             0.4444444444444444,
             "#bd3786"
            ],
            [
             0.5555555555555556,
             "#d8576b"
            ],
            [
             0.6666666666666666,
             "#ed7953"
            ],
            [
             0.7777777777777778,
             "#fb9f3a"
            ],
            [
             0.8888888888888888,
             "#fdca26"
            ],
            [
             1,
             "#f0f921"
            ]
           ],
           "sequentialminus": [
            [
             0,
             "#0d0887"
            ],
            [
             0.1111111111111111,
             "#46039f"
            ],
            [
             0.2222222222222222,
             "#7201a8"
            ],
            [
             0.3333333333333333,
             "#9c179e"
            ],
            [
             0.4444444444444444,
             "#bd3786"
            ],
            [
             0.5555555555555556,
             "#d8576b"
            ],
            [
             0.6666666666666666,
             "#ed7953"
            ],
            [
             0.7777777777777778,
             "#fb9f3a"
            ],
            [
             0.8888888888888888,
             "#fdca26"
            ],
            [
             1,
             "#f0f921"
            ]
           ]
          },
          "colorway": [
           "#636efa",
           "#EF553B",
           "#00cc96",
           "#ab63fa",
           "#FFA15A",
           "#19d3f3",
           "#FF6692",
           "#B6E880",
           "#FF97FF",
           "#FECB52"
          ],
          "font": {
           "color": "#2a3f5f"
          },
          "geo": {
           "bgcolor": "white",
           "lakecolor": "white",
           "landcolor": "#E5ECF6",
           "showlakes": true,
           "showland": true,
           "subunitcolor": "white"
          },
          "hoverlabel": {
           "align": "left"
          },
          "hovermode": "closest",
          "mapbox": {
           "style": "light"
          },
          "paper_bgcolor": "white",
          "plot_bgcolor": "#E5ECF6",
          "polar": {
           "angularaxis": {
            "gridcolor": "white",
            "linecolor": "white",
            "ticks": ""
           },
           "bgcolor": "#E5ECF6",
           "radialaxis": {
            "gridcolor": "white",
            "linecolor": "white",
            "ticks": ""
           }
          },
          "scene": {
           "xaxis": {
            "backgroundcolor": "#E5ECF6",
            "gridcolor": "white",
            "gridwidth": 2,
            "linecolor": "white",
            "showbackground": true,
            "ticks": "",
            "zerolinecolor": "white"
           },
           "yaxis": {
            "backgroundcolor": "#E5ECF6",
            "gridcolor": "white",
            "gridwidth": 2,
            "linecolor": "white",
            "showbackground": true,
            "ticks": "",
            "zerolinecolor": "white"
           },
           "zaxis": {
            "backgroundcolor": "#E5ECF6",
            "gridcolor": "white",
            "gridwidth": 2,
            "linecolor": "white",
            "showbackground": true,
            "ticks": "",
            "zerolinecolor": "white"
           }
          },
          "shapedefaults": {
           "line": {
            "color": "#2a3f5f"
           }
          },
          "ternary": {
           "aaxis": {
            "gridcolor": "white",
            "linecolor": "white",
            "ticks": ""
           },
           "baxis": {
            "gridcolor": "white",
            "linecolor": "white",
            "ticks": ""
           },
           "bgcolor": "#E5ECF6",
           "caxis": {
            "gridcolor": "white",
            "linecolor": "white",
            "ticks": ""
           }
          },
          "title": {
           "x": 0.05
          },
          "xaxis": {
           "automargin": true,
           "gridcolor": "white",
           "linecolor": "white",
           "ticks": "",
           "title": {
            "standoff": 15
           },
           "zerolinecolor": "white",
           "zerolinewidth": 2
          },
          "yaxis": {
           "automargin": true,
           "gridcolor": "white",
           "linecolor": "white",
           "ticks": "",
           "title": {
            "standoff": 15
           },
           "zerolinecolor": "white",
           "zerolinewidth": 2
          }
         }
        },
        "title": {
         "font": {
          "color": "#4D5663"
         }
        },
        "xaxis": {
         "gridcolor": "#E1E5ED",
         "showgrid": true,
         "tickfont": {
          "color": "#4D5663"
         },
         "title": {
          "font": {
           "color": "#4D5663"
          },
          "text": ""
         },
         "zerolinecolor": "#E1E5ED"
        },
        "yaxis": {
         "gridcolor": "#E1E5ED",
         "showgrid": true,
         "tickfont": {
          "color": "#4D5663"
         },
         "title": {
          "font": {
           "color": "#4D5663"
          },
          "text": ""
         },
         "zerolinecolor": "#E1E5ED"
        }
       }
      },
      "text/html": [
       "<div>                            <div id=\"90dc1729-a56d-48df-9ab1-5c636db1fc2a\" class=\"plotly-graph-div\" style=\"height:525px; width:100%;\"></div>            <script type=\"text/javascript\">                require([\"plotly\"], function(Plotly) {                    window.PLOTLYENV=window.PLOTLYENV || {};\n",
       "                    window.PLOTLYENV.BASE_URL='https://plot.ly';                                    if (document.getElementById(\"90dc1729-a56d-48df-9ab1-5c636db1fc2a\")) {                    Plotly.newPlot(                        \"90dc1729-a56d-48df-9ab1-5c636db1fc2a\",                        [{\"line\":{\"color\":\"rgba(255, 153, 51, 1.0)\",\"dash\":\"solid\",\"shape\":\"linear\",\"width\":1.3},\"marker\":{\"size\":20,\"symbol\":\"circle\"},\"mode\":\"markers\",\"name\":\"B\",\"text\":\"\",\"x\":[-1.3813706255062617,0.8065087300796255,0.3418651186982201,-0.3323817128521051,2.1231407918626863,-1.1202630656804664,-0.0838679423613188,-0.2323656787814356,-0.4448817191163479,-0.06875353456729144,-0.049574301014722454,2.210801449350267,-1.1063203713174574,-0.6063103665598676,-0.7011439170998087,-0.45395970306502087,2.766671816092905,0.5699573520404393,0.8808174816908407,1.3800745892046544,-0.1603764834931205,-1.0622118661110387,-1.562271295381666,-0.57761248853128,-0.8179651173239639,1.3851094626150695,1.419717830017316,1.490032752768479,0.4839879897208073,2.846600051376337,-0.19327060595834927,0.10695835574762955,-1.2772804565698301,0.1457265969364036,0.4980186780688667,0.37059896130240544,-1.7873621950489733,-0.8815719530555712,-1.0904553304750297,0.31263785194698335,-1.7657329345102317,-1.6644896212258584,-0.9985986717447229,-5.7910567175379e-05,-1.331707814385081,0.1134252366886889,0.759414790394926,-0.0599661947972707,0.6906859639390763,0.354321372436767,-1.1380592776587406,-0.9992273007320776,0.08349219406595834,1.4708225882710029,2.2572721833274625,0.7709653112317927,-0.23877889678292707,1.3451420206002938,-0.16746439868244084,0.5699618681293717,-0.3708267121936692,-1.8703385788607723,0.9215350628981622,-2.3333905191830175,0.43391561874284323,-0.7463278263388601,0.4737891000334945,1.0920180090401317,1.0325775036488705,-0.6106630768648215,-0.7382156222692969,-0.9584583679324162,-2.7421379622719124,-1.7506037789263569,0.31966563419627686,-0.7892062316286367,0.448996320741698,0.21294295276889807,0.9160624812720353,-0.28604664133610624,0.30985990443739675,-0.46754536872788194,-0.11610969135353229,0.48391664650310773,-0.520395981311585,1.1541095181196932,-0.45352152882079416,-0.05789549270731017,-1.2919838016797072,-0.3090001479193332,0.569241312546446,-0.934322907187918,0.3443265950499941,0.1456857429217968,-0.16409306709076685,0.5505366687670102,-1.2457267972453103,2.1972545707069133,-1.083598726767268,-2.39275691984455],\"y\":[0.39408508751691174,0.5597812290844585,1.1872882937316844,0.5261069177621385,0.8324150081424387,2.0229924948473155,0.8016952099182463,-0.27250856543923707,0.5991969917690078,0.012408271151590967,1.498575989045239,-1.5252754697159996,0.14066922828746695,0.2001614896562864,0.7393141086675633,0.5218190410445782,-0.14099631099514778,0.746320335451686,0.2882068249559392,-0.6261179226215818,-1.3453418809785471,0.4485083513661857,-0.30337254173453476,-0.2573198650134465,1.8340919440261283,-1.723238043505735,2.2560989316205946,0.08307241884321633,-0.17902782356976163,0.3746919695015312,0.6907935307424771,-1.9052738453037013,-0.6944962604391867,-0.9560653935208608,-0.1260645549119327,-0.2820678692564736,-0.2899959469285368,-0.8697374037589303,1.4866174930332687,-0.358924788703825,-1.5454270107479176,-1.526480268544885,-0.9045299027694891,-0.49427429863164674,-0.09974524282445445,0.9496340986727977,-0.8322150144236892,-0.8063792658634675,1.312605694412341,0.1685132896260088,-1.4139505639110368,-0.4482508192546252,-0.5273928906970727,-0.6484514233815363,1.2933196429677625,0.15955467005039792,-1.4435626349802602,0.4894758579829374,1.0182449643440812,0.20611253270759147,-2.0742934113938274,0.7261227044394204,-0.9894261852623139,0.43174655067239753,0.23595597214069036,-0.6426900200374779,-0.2730663543060331,-0.5447654206263307,1.47959887301995,-2.035056494382499,0.39249244408448947,-0.444491041437767,0.3489655282637713,0.6535654394632688,-1.1795812678279245,-0.5415330568975902,-0.21101973071373986,-0.12649315801693273,0.5722210235128772,1.4461631141087352,0.6147519214766572,0.526200192436856,1.3598304924670988,0.253727520804128,0.9508513571872201,-0.33096300255923383,0.6422459455412688,-1.182840275342704,0.7776106033058436,0.7251921984089881,-0.8992954636081043,-0.2659385388815195,1.8702168449694738,-0.7927214636265612,1.3740151971820014,0.7803432925385417,0.4547995097119779,-1.9189864701064838,0.742221013929439,-1.911585229275281],\"type\":\"scatter\"}],                        {\"legend\":{\"bgcolor\":\"#F5F6F9\",\"font\":{\"color\":\"#4D5663\"}},\"paper_bgcolor\":\"#F5F6F9\",\"plot_bgcolor\":\"#F5F6F9\",\"template\":{\"data\":{\"barpolar\":[{\"marker\":{\"line\":{\"color\":\"#E5ECF6\",\"width\":0.5},\"pattern\":{\"fillmode\":\"overlay\",\"size\":10,\"solidity\":0.2}},\"type\":\"barpolar\"}],\"bar\":[{\"error_x\":{\"color\":\"#2a3f5f\"},\"error_y\":{\"color\":\"#2a3f5f\"},\"marker\":{\"line\":{\"color\":\"#E5ECF6\",\"width\":0.5},\"pattern\":{\"fillmode\":\"overlay\",\"size\":10,\"solidity\":0.2}},\"type\":\"bar\"}],\"carpet\":[{\"aaxis\":{\"endlinecolor\":\"#2a3f5f\",\"gridcolor\":\"white\",\"linecolor\":\"white\",\"minorgridcolor\":\"white\",\"startlinecolor\":\"#2a3f5f\"},\"baxis\":{\"endlinecolor\":\"#2a3f5f\",\"gridcolor\":\"white\",\"linecolor\":\"white\",\"minorgridcolor\":\"white\",\"startlinecolor\":\"#2a3f5f\"},\"type\":\"carpet\"}],\"choropleth\":[{\"colorbar\":{\"outlinewidth\":0,\"ticks\":\"\"},\"type\":\"choropleth\"}],\"contourcarpet\":[{\"colorbar\":{\"outlinewidth\":0,\"ticks\":\"\"},\"type\":\"contourcarpet\"}],\"contour\":[{\"colorbar\":{\"outlinewidth\":0,\"ticks\":\"\"},\"colorscale\":[[0.0,\"#0d0887\"],[0.1111111111111111,\"#46039f\"],[0.2222222222222222,\"#7201a8\"],[0.3333333333333333,\"#9c179e\"],[0.4444444444444444,\"#bd3786\"],[0.5555555555555556,\"#d8576b\"],[0.6666666666666666,\"#ed7953\"],[0.7777777777777778,\"#fb9f3a\"],[0.8888888888888888,\"#fdca26\"],[1.0,\"#f0f921\"]],\"type\":\"contour\"}],\"heatmapgl\":[{\"colorbar\":{\"outlinewidth\":0,\"ticks\":\"\"},\"colorscale\":[[0.0,\"#0d0887\"],[0.1111111111111111,\"#46039f\"],[0.2222222222222222,\"#7201a8\"],[0.3333333333333333,\"#9c179e\"],[0.4444444444444444,\"#bd3786\"],[0.5555555555555556,\"#d8576b\"],[0.6666666666666666,\"#ed7953\"],[0.7777777777777778,\"#fb9f3a\"],[0.8888888888888888,\"#fdca26\"],[1.0,\"#f0f921\"]],\"type\":\"heatmapgl\"}],\"heatmap\":[{\"colorbar\":{\"outlinewidth\":0,\"ticks\":\"\"},\"colorscale\":[[0.0,\"#0d0887\"],[0.1111111111111111,\"#46039f\"],[0.2222222222222222,\"#7201a8\"],[0.3333333333333333,\"#9c179e\"],[0.4444444444444444,\"#bd3786\"],[0.5555555555555556,\"#d8576b\"],[0.6666666666666666,\"#ed7953\"],[0.7777777777777778,\"#fb9f3a\"],[0.8888888888888888,\"#fdca26\"],[1.0,\"#f0f921\"]],\"type\":\"heatmap\"}],\"histogram2dcontour\":[{\"colorbar\":{\"outlinewidth\":0,\"ticks\":\"\"},\"colorscale\":[[0.0,\"#0d0887\"],[0.1111111111111111,\"#46039f\"],[0.2222222222222222,\"#7201a8\"],[0.3333333333333333,\"#9c179e\"],[0.4444444444444444,\"#bd3786\"],[0.5555555555555556,\"#d8576b\"],[0.6666666666666666,\"#ed7953\"],[0.7777777777777778,\"#fb9f3a\"],[0.8888888888888888,\"#fdca26\"],[1.0,\"#f0f921\"]],\"type\":\"histogram2dcontour\"}],\"histogram2d\":[{\"colorbar\":{\"outlinewidth\":0,\"ticks\":\"\"},\"colorscale\":[[0.0,\"#0d0887\"],[0.1111111111111111,\"#46039f\"],[0.2222222222222222,\"#7201a8\"],[0.3333333333333333,\"#9c179e\"],[0.4444444444444444,\"#bd3786\"],[0.5555555555555556,\"#d8576b\"],[0.6666666666666666,\"#ed7953\"],[0.7777777777777778,\"#fb9f3a\"],[0.8888888888888888,\"#fdca26\"],[1.0,\"#f0f921\"]],\"type\":\"histogram2d\"}],\"histogram\":[{\"marker\":{\"pattern\":{\"fillmode\":\"overlay\",\"size\":10,\"solidity\":0.2}},\"type\":\"histogram\"}],\"mesh3d\":[{\"colorbar\":{\"outlinewidth\":0,\"ticks\":\"\"},\"type\":\"mesh3d\"}],\"parcoords\":[{\"line\":{\"colorbar\":{\"outlinewidth\":0,\"ticks\":\"\"}},\"type\":\"parcoords\"}],\"pie\":[{\"automargin\":true,\"type\":\"pie\"}],\"scatter3d\":[{\"line\":{\"colorbar\":{\"outlinewidth\":0,\"ticks\":\"\"}},\"marker\":{\"colorbar\":{\"outlinewidth\":0,\"ticks\":\"\"}},\"type\":\"scatter3d\"}],\"scattercarpet\":[{\"marker\":{\"colorbar\":{\"outlinewidth\":0,\"ticks\":\"\"}},\"type\":\"scattercarpet\"}],\"scattergeo\":[{\"marker\":{\"colorbar\":{\"outlinewidth\":0,\"ticks\":\"\"}},\"type\":\"scattergeo\"}],\"scattergl\":[{\"marker\":{\"colorbar\":{\"outlinewidth\":0,\"ticks\":\"\"}},\"type\":\"scattergl\"}],\"scattermapbox\":[{\"marker\":{\"colorbar\":{\"outlinewidth\":0,\"ticks\":\"\"}},\"type\":\"scattermapbox\"}],\"scatterpolargl\":[{\"marker\":{\"colorbar\":{\"outlinewidth\":0,\"ticks\":\"\"}},\"type\":\"scatterpolargl\"}],\"scatterpolar\":[{\"marker\":{\"colorbar\":{\"outlinewidth\":0,\"ticks\":\"\"}},\"type\":\"scatterpolar\"}],\"scatter\":[{\"marker\":{\"colorbar\":{\"outlinewidth\":0,\"ticks\":\"\"}},\"type\":\"scatter\"}],\"scatterternary\":[{\"marker\":{\"colorbar\":{\"outlinewidth\":0,\"ticks\":\"\"}},\"type\":\"scatterternary\"}],\"surface\":[{\"colorbar\":{\"outlinewidth\":0,\"ticks\":\"\"},\"colorscale\":[[0.0,\"#0d0887\"],[0.1111111111111111,\"#46039f\"],[0.2222222222222222,\"#7201a8\"],[0.3333333333333333,\"#9c179e\"],[0.4444444444444444,\"#bd3786\"],[0.5555555555555556,\"#d8576b\"],[0.6666666666666666,\"#ed7953\"],[0.7777777777777778,\"#fb9f3a\"],[0.8888888888888888,\"#fdca26\"],[1.0,\"#f0f921\"]],\"type\":\"surface\"}],\"table\":[{\"cells\":{\"fill\":{\"color\":\"#EBF0F8\"},\"line\":{\"color\":\"white\"}},\"header\":{\"fill\":{\"color\":\"#C8D4E3\"},\"line\":{\"color\":\"white\"}},\"type\":\"table\"}]},\"layout\":{\"annotationdefaults\":{\"arrowcolor\":\"#2a3f5f\",\"arrowhead\":0,\"arrowwidth\":1},\"autotypenumbers\":\"strict\",\"coloraxis\":{\"colorbar\":{\"outlinewidth\":0,\"ticks\":\"\"}},\"colorscale\":{\"diverging\":[[0,\"#8e0152\"],[0.1,\"#c51b7d\"],[0.2,\"#de77ae\"],[0.3,\"#f1b6da\"],[0.4,\"#fde0ef\"],[0.5,\"#f7f7f7\"],[0.6,\"#e6f5d0\"],[0.7,\"#b8e186\"],[0.8,\"#7fbc41\"],[0.9,\"#4d9221\"],[1,\"#276419\"]],\"sequential\":[[0.0,\"#0d0887\"],[0.1111111111111111,\"#46039f\"],[0.2222222222222222,\"#7201a8\"],[0.3333333333333333,\"#9c179e\"],[0.4444444444444444,\"#bd3786\"],[0.5555555555555556,\"#d8576b\"],[0.6666666666666666,\"#ed7953\"],[0.7777777777777778,\"#fb9f3a\"],[0.8888888888888888,\"#fdca26\"],[1.0,\"#f0f921\"]],\"sequentialminus\":[[0.0,\"#0d0887\"],[0.1111111111111111,\"#46039f\"],[0.2222222222222222,\"#7201a8\"],[0.3333333333333333,\"#9c179e\"],[0.4444444444444444,\"#bd3786\"],[0.5555555555555556,\"#d8576b\"],[0.6666666666666666,\"#ed7953\"],[0.7777777777777778,\"#fb9f3a\"],[0.8888888888888888,\"#fdca26\"],[1.0,\"#f0f921\"]]},\"colorway\":[\"#636efa\",\"#EF553B\",\"#00cc96\",\"#ab63fa\",\"#FFA15A\",\"#19d3f3\",\"#FF6692\",\"#B6E880\",\"#FF97FF\",\"#FECB52\"],\"font\":{\"color\":\"#2a3f5f\"},\"geo\":{\"bgcolor\":\"white\",\"lakecolor\":\"white\",\"landcolor\":\"#E5ECF6\",\"showlakes\":true,\"showland\":true,\"subunitcolor\":\"white\"},\"hoverlabel\":{\"align\":\"left\"},\"hovermode\":\"closest\",\"mapbox\":{\"style\":\"light\"},\"paper_bgcolor\":\"white\",\"plot_bgcolor\":\"#E5ECF6\",\"polar\":{\"angularaxis\":{\"gridcolor\":\"white\",\"linecolor\":\"white\",\"ticks\":\"\"},\"bgcolor\":\"#E5ECF6\",\"radialaxis\":{\"gridcolor\":\"white\",\"linecolor\":\"white\",\"ticks\":\"\"}},\"scene\":{\"xaxis\":{\"backgroundcolor\":\"#E5ECF6\",\"gridcolor\":\"white\",\"gridwidth\":2,\"linecolor\":\"white\",\"showbackground\":true,\"ticks\":\"\",\"zerolinecolor\":\"white\"},\"yaxis\":{\"backgroundcolor\":\"#E5ECF6\",\"gridcolor\":\"white\",\"gridwidth\":2,\"linecolor\":\"white\",\"showbackground\":true,\"ticks\":\"\",\"zerolinecolor\":\"white\"},\"zaxis\":{\"backgroundcolor\":\"#E5ECF6\",\"gridcolor\":\"white\",\"gridwidth\":2,\"linecolor\":\"white\",\"showbackground\":true,\"ticks\":\"\",\"zerolinecolor\":\"white\"}},\"shapedefaults\":{\"line\":{\"color\":\"#2a3f5f\"}},\"ternary\":{\"aaxis\":{\"gridcolor\":\"white\",\"linecolor\":\"white\",\"ticks\":\"\"},\"baxis\":{\"gridcolor\":\"white\",\"linecolor\":\"white\",\"ticks\":\"\"},\"bgcolor\":\"#E5ECF6\",\"caxis\":{\"gridcolor\":\"white\",\"linecolor\":\"white\",\"ticks\":\"\"}},\"title\":{\"x\":0.05},\"xaxis\":{\"automargin\":true,\"gridcolor\":\"white\",\"linecolor\":\"white\",\"ticks\":\"\",\"title\":{\"standoff\":15},\"zerolinecolor\":\"white\",\"zerolinewidth\":2},\"yaxis\":{\"automargin\":true,\"gridcolor\":\"white\",\"linecolor\":\"white\",\"ticks\":\"\",\"title\":{\"standoff\":15},\"zerolinecolor\":\"white\",\"zerolinewidth\":2}}},\"title\":{\"font\":{\"color\":\"#4D5663\"}},\"xaxis\":{\"gridcolor\":\"#E1E5ED\",\"showgrid\":true,\"tickfont\":{\"color\":\"#4D5663\"},\"title\":{\"font\":{\"color\":\"#4D5663\"},\"text\":\"\"},\"zerolinecolor\":\"#E1E5ED\"},\"yaxis\":{\"gridcolor\":\"#E1E5ED\",\"showgrid\":true,\"tickfont\":{\"color\":\"#4D5663\"},\"title\":{\"font\":{\"color\":\"#4D5663\"},\"text\":\"\"},\"zerolinecolor\":\"#E1E5ED\"}},                        {\"showLink\": true, \"linkText\": \"Export to plot.ly\", \"plotlyServerURL\": \"https://plot.ly\", \"responsive\": true}                    ).then(function(){\n",
       "                            \n",
       "var gd = document.getElementById('90dc1729-a56d-48df-9ab1-5c636db1fc2a');\n",
       "var x = new MutationObserver(function (mutations, observer) {{\n",
       "        var display = window.getComputedStyle(gd).display;\n",
       "        if (!display || display === 'none') {{\n",
       "            console.log([gd, 'removed!']);\n",
       "            Plotly.purge(gd);\n",
       "            observer.disconnect();\n",
       "        }}\n",
       "}});\n",
       "\n",
       "// Listen for the removal of the full notebook cells\n",
       "var notebookContainer = gd.closest('#notebook-container');\n",
       "if (notebookContainer) {{\n",
       "    x.observe(notebookContainer, {childList: true});\n",
       "}}\n",
       "\n",
       "// Listen for the clearing of the current output cell\n",
       "var outputEl = gd.closest('.output');\n",
       "if (outputEl) {{\n",
       "    x.observe(outputEl, {childList: true});\n",
       "}}\n",
       "\n",
       "                        })                };                });            </script>        </div>"
      ]
     },
     "metadata": {},
     "output_type": "display_data"
    }
   ],
   "source": [
    "df.iplot(kind='scatter',x='A',y='B',mode='markers',size=20)"
   ]
  },
  {
   "cell_type": "code",
   "execution_count": 42,
   "id": "9b3416b6",
   "metadata": {},
   "outputs": [
    {
     "data": {
      "application/vnd.plotly.v1+json": {
       "config": {
        "linkText": "Export to plot.ly",
        "plotlyServerURL": "https://plot.ly",
        "showLink": true
       },
       "data": [
        {
         "marker": {
          "color": "rgba(255, 153, 51, 0.6)",
          "line": {
           "color": "rgba(255, 153, 51, 1.0)",
           "width": 1
          }
         },
         "name": "Values",
         "orientation": "v",
         "text": "",
         "type": "bar",
         "x": [
          "A",
          "B",
          "C"
         ],
         "y": [
          32,
          43,
          50
         ]
        }
       ],
       "layout": {
        "legend": {
         "bgcolor": "#F5F6F9",
         "font": {
          "color": "#4D5663"
         }
        },
        "paper_bgcolor": "#F5F6F9",
        "plot_bgcolor": "#F5F6F9",
        "template": {
         "data": {
          "bar": [
           {
            "error_x": {
             "color": "#2a3f5f"
            },
            "error_y": {
             "color": "#2a3f5f"
            },
            "marker": {
             "line": {
              "color": "#E5ECF6",
              "width": 0.5
             },
             "pattern": {
              "fillmode": "overlay",
              "size": 10,
              "solidity": 0.2
             }
            },
            "type": "bar"
           }
          ],
          "barpolar": [
           {
            "marker": {
             "line": {
              "color": "#E5ECF6",
              "width": 0.5
             },
             "pattern": {
              "fillmode": "overlay",
              "size": 10,
              "solidity": 0.2
             }
            },
            "type": "barpolar"
           }
          ],
          "carpet": [
           {
            "aaxis": {
             "endlinecolor": "#2a3f5f",
             "gridcolor": "white",
             "linecolor": "white",
             "minorgridcolor": "white",
             "startlinecolor": "#2a3f5f"
            },
            "baxis": {
             "endlinecolor": "#2a3f5f",
             "gridcolor": "white",
             "linecolor": "white",
             "minorgridcolor": "white",
             "startlinecolor": "#2a3f5f"
            },
            "type": "carpet"
           }
          ],
          "choropleth": [
           {
            "colorbar": {
             "outlinewidth": 0,
             "ticks": ""
            },
            "type": "choropleth"
           }
          ],
          "contour": [
           {
            "colorbar": {
             "outlinewidth": 0,
             "ticks": ""
            },
            "colorscale": [
             [
              0,
              "#0d0887"
             ],
             [
              0.1111111111111111,
              "#46039f"
             ],
             [
              0.2222222222222222,
              "#7201a8"
             ],
             [
              0.3333333333333333,
              "#9c179e"
             ],
             [
              0.4444444444444444,
              "#bd3786"
             ],
             [
              0.5555555555555556,
              "#d8576b"
             ],
             [
              0.6666666666666666,
              "#ed7953"
             ],
             [
              0.7777777777777778,
              "#fb9f3a"
             ],
             [
              0.8888888888888888,
              "#fdca26"
             ],
             [
              1,
              "#f0f921"
             ]
            ],
            "type": "contour"
           }
          ],
          "contourcarpet": [
           {
            "colorbar": {
             "outlinewidth": 0,
             "ticks": ""
            },
            "type": "contourcarpet"
           }
          ],
          "heatmap": [
           {
            "colorbar": {
             "outlinewidth": 0,
             "ticks": ""
            },
            "colorscale": [
             [
              0,
              "#0d0887"
             ],
             [
              0.1111111111111111,
              "#46039f"
             ],
             [
              0.2222222222222222,
              "#7201a8"
             ],
             [
              0.3333333333333333,
              "#9c179e"
             ],
             [
              0.4444444444444444,
              "#bd3786"
             ],
             [
              0.5555555555555556,
              "#d8576b"
             ],
             [
              0.6666666666666666,
              "#ed7953"
             ],
             [
              0.7777777777777778,
              "#fb9f3a"
             ],
             [
              0.8888888888888888,
              "#fdca26"
             ],
             [
              1,
              "#f0f921"
             ]
            ],
            "type": "heatmap"
           }
          ],
          "heatmapgl": [
           {
            "colorbar": {
             "outlinewidth": 0,
             "ticks": ""
            },
            "colorscale": [
             [
              0,
              "#0d0887"
             ],
             [
              0.1111111111111111,
              "#46039f"
             ],
             [
              0.2222222222222222,
              "#7201a8"
             ],
             [
              0.3333333333333333,
              "#9c179e"
             ],
             [
              0.4444444444444444,
              "#bd3786"
             ],
             [
              0.5555555555555556,
              "#d8576b"
             ],
             [
              0.6666666666666666,
              "#ed7953"
             ],
             [
              0.7777777777777778,
              "#fb9f3a"
             ],
             [
              0.8888888888888888,
              "#fdca26"
             ],
             [
              1,
              "#f0f921"
             ]
            ],
            "type": "heatmapgl"
           }
          ],
          "histogram": [
           {
            "marker": {
             "pattern": {
              "fillmode": "overlay",
              "size": 10,
              "solidity": 0.2
             }
            },
            "type": "histogram"
           }
          ],
          "histogram2d": [
           {
            "colorbar": {
             "outlinewidth": 0,
             "ticks": ""
            },
            "colorscale": [
             [
              0,
              "#0d0887"
             ],
             [
              0.1111111111111111,
              "#46039f"
             ],
             [
              0.2222222222222222,
              "#7201a8"
             ],
             [
              0.3333333333333333,
              "#9c179e"
             ],
             [
              0.4444444444444444,
              "#bd3786"
             ],
             [
              0.5555555555555556,
              "#d8576b"
             ],
             [
              0.6666666666666666,
              "#ed7953"
             ],
             [
              0.7777777777777778,
              "#fb9f3a"
             ],
             [
              0.8888888888888888,
              "#fdca26"
             ],
             [
              1,
              "#f0f921"
             ]
            ],
            "type": "histogram2d"
           }
          ],
          "histogram2dcontour": [
           {
            "colorbar": {
             "outlinewidth": 0,
             "ticks": ""
            },
            "colorscale": [
             [
              0,
              "#0d0887"
             ],
             [
              0.1111111111111111,
              "#46039f"
             ],
             [
              0.2222222222222222,
              "#7201a8"
             ],
             [
              0.3333333333333333,
              "#9c179e"
             ],
             [
              0.4444444444444444,
              "#bd3786"
             ],
             [
              0.5555555555555556,
              "#d8576b"
             ],
             [
              0.6666666666666666,
              "#ed7953"
             ],
             [
              0.7777777777777778,
              "#fb9f3a"
             ],
             [
              0.8888888888888888,
              "#fdca26"
             ],
             [
              1,
              "#f0f921"
             ]
            ],
            "type": "histogram2dcontour"
           }
          ],
          "mesh3d": [
           {
            "colorbar": {
             "outlinewidth": 0,
             "ticks": ""
            },
            "type": "mesh3d"
           }
          ],
          "parcoords": [
           {
            "line": {
             "colorbar": {
              "outlinewidth": 0,
              "ticks": ""
             }
            },
            "type": "parcoords"
           }
          ],
          "pie": [
           {
            "automargin": true,
            "type": "pie"
           }
          ],
          "scatter": [
           {
            "marker": {
             "colorbar": {
              "outlinewidth": 0,
              "ticks": ""
             }
            },
            "type": "scatter"
           }
          ],
          "scatter3d": [
           {
            "line": {
             "colorbar": {
              "outlinewidth": 0,
              "ticks": ""
             }
            },
            "marker": {
             "colorbar": {
              "outlinewidth": 0,
              "ticks": ""
             }
            },
            "type": "scatter3d"
           }
          ],
          "scattercarpet": [
           {
            "marker": {
             "colorbar": {
              "outlinewidth": 0,
              "ticks": ""
             }
            },
            "type": "scattercarpet"
           }
          ],
          "scattergeo": [
           {
            "marker": {
             "colorbar": {
              "outlinewidth": 0,
              "ticks": ""
             }
            },
            "type": "scattergeo"
           }
          ],
          "scattergl": [
           {
            "marker": {
             "colorbar": {
              "outlinewidth": 0,
              "ticks": ""
             }
            },
            "type": "scattergl"
           }
          ],
          "scattermapbox": [
           {
            "marker": {
             "colorbar": {
              "outlinewidth": 0,
              "ticks": ""
             }
            },
            "type": "scattermapbox"
           }
          ],
          "scatterpolar": [
           {
            "marker": {
             "colorbar": {
              "outlinewidth": 0,
              "ticks": ""
             }
            },
            "type": "scatterpolar"
           }
          ],
          "scatterpolargl": [
           {
            "marker": {
             "colorbar": {
              "outlinewidth": 0,
              "ticks": ""
             }
            },
            "type": "scatterpolargl"
           }
          ],
          "scatterternary": [
           {
            "marker": {
             "colorbar": {
              "outlinewidth": 0,
              "ticks": ""
             }
            },
            "type": "scatterternary"
           }
          ],
          "surface": [
           {
            "colorbar": {
             "outlinewidth": 0,
             "ticks": ""
            },
            "colorscale": [
             [
              0,
              "#0d0887"
             ],
             [
              0.1111111111111111,
              "#46039f"
             ],
             [
              0.2222222222222222,
              "#7201a8"
             ],
             [
              0.3333333333333333,
              "#9c179e"
             ],
             [
              0.4444444444444444,
              "#bd3786"
             ],
             [
              0.5555555555555556,
              "#d8576b"
             ],
             [
              0.6666666666666666,
              "#ed7953"
             ],
             [
              0.7777777777777778,
              "#fb9f3a"
             ],
             [
              0.8888888888888888,
              "#fdca26"
             ],
             [
              1,
              "#f0f921"
             ]
            ],
            "type": "surface"
           }
          ],
          "table": [
           {
            "cells": {
             "fill": {
              "color": "#EBF0F8"
             },
             "line": {
              "color": "white"
             }
            },
            "header": {
             "fill": {
              "color": "#C8D4E3"
             },
             "line": {
              "color": "white"
             }
            },
            "type": "table"
           }
          ]
         },
         "layout": {
          "annotationdefaults": {
           "arrowcolor": "#2a3f5f",
           "arrowhead": 0,
           "arrowwidth": 1
          },
          "autotypenumbers": "strict",
          "coloraxis": {
           "colorbar": {
            "outlinewidth": 0,
            "ticks": ""
           }
          },
          "colorscale": {
           "diverging": [
            [
             0,
             "#8e0152"
            ],
            [
             0.1,
             "#c51b7d"
            ],
            [
             0.2,
             "#de77ae"
            ],
            [
             0.3,
             "#f1b6da"
            ],
            [
             0.4,
             "#fde0ef"
            ],
            [
             0.5,
             "#f7f7f7"
            ],
            [
             0.6,
             "#e6f5d0"
            ],
            [
             0.7,
             "#b8e186"
            ],
            [
             0.8,
             "#7fbc41"
            ],
            [
             0.9,
             "#4d9221"
            ],
            [
             1,
             "#276419"
            ]
           ],
           "sequential": [
            [
             0,
             "#0d0887"
            ],
            [
             0.1111111111111111,
             "#46039f"
            ],
            [
             0.2222222222222222,
             "#7201a8"
            ],
            [
             0.3333333333333333,
             "#9c179e"
            ],
            [
             0.4444444444444444,
             "#bd3786"
            ],
            [
             0.5555555555555556,
             "#d8576b"
            ],
            [
             0.6666666666666666,
             "#ed7953"
            ],
            [
             0.7777777777777778,
             "#fb9f3a"
            ],
            [
             0.8888888888888888,
             "#fdca26"
            ],
            [
             1,
             "#f0f921"
            ]
           ],
           "sequentialminus": [
            [
             0,
             "#0d0887"
            ],
            [
             0.1111111111111111,
             "#46039f"
            ],
            [
             0.2222222222222222,
             "#7201a8"
            ],
            [
             0.3333333333333333,
             "#9c179e"
            ],
            [
             0.4444444444444444,
             "#bd3786"
            ],
            [
             0.5555555555555556,
             "#d8576b"
            ],
            [
             0.6666666666666666,
             "#ed7953"
            ],
            [
             0.7777777777777778,
             "#fb9f3a"
            ],
            [
             0.8888888888888888,
             "#fdca26"
            ],
            [
             1,
             "#f0f921"
            ]
           ]
          },
          "colorway": [
           "#636efa",
           "#EF553B",
           "#00cc96",
           "#ab63fa",
           "#FFA15A",
           "#19d3f3",
           "#FF6692",
           "#B6E880",
           "#FF97FF",
           "#FECB52"
          ],
          "font": {
           "color": "#2a3f5f"
          },
          "geo": {
           "bgcolor": "white",
           "lakecolor": "white",
           "landcolor": "#E5ECF6",
           "showlakes": true,
           "showland": true,
           "subunitcolor": "white"
          },
          "hoverlabel": {
           "align": "left"
          },
          "hovermode": "closest",
          "mapbox": {
           "style": "light"
          },
          "paper_bgcolor": "white",
          "plot_bgcolor": "#E5ECF6",
          "polar": {
           "angularaxis": {
            "gridcolor": "white",
            "linecolor": "white",
            "ticks": ""
           },
           "bgcolor": "#E5ECF6",
           "radialaxis": {
            "gridcolor": "white",
            "linecolor": "white",
            "ticks": ""
           }
          },
          "scene": {
           "xaxis": {
            "backgroundcolor": "#E5ECF6",
            "gridcolor": "white",
            "gridwidth": 2,
            "linecolor": "white",
            "showbackground": true,
            "ticks": "",
            "zerolinecolor": "white"
           },
           "yaxis": {
            "backgroundcolor": "#E5ECF6",
            "gridcolor": "white",
            "gridwidth": 2,
            "linecolor": "white",
            "showbackground": true,
            "ticks": "",
            "zerolinecolor": "white"
           },
           "zaxis": {
            "backgroundcolor": "#E5ECF6",
            "gridcolor": "white",
            "gridwidth": 2,
            "linecolor": "white",
            "showbackground": true,
            "ticks": "",
            "zerolinecolor": "white"
           }
          },
          "shapedefaults": {
           "line": {
            "color": "#2a3f5f"
           }
          },
          "ternary": {
           "aaxis": {
            "gridcolor": "white",
            "linecolor": "white",
            "ticks": ""
           },
           "baxis": {
            "gridcolor": "white",
            "linecolor": "white",
            "ticks": ""
           },
           "bgcolor": "#E5ECF6",
           "caxis": {
            "gridcolor": "white",
            "linecolor": "white",
            "ticks": ""
           }
          },
          "title": {
           "x": 0.05
          },
          "xaxis": {
           "automargin": true,
           "gridcolor": "white",
           "linecolor": "white",
           "ticks": "",
           "title": {
            "standoff": 15
           },
           "zerolinecolor": "white",
           "zerolinewidth": 2
          },
          "yaxis": {
           "automargin": true,
           "gridcolor": "white",
           "linecolor": "white",
           "ticks": "",
           "title": {
            "standoff": 15
           },
           "zerolinecolor": "white",
           "zerolinewidth": 2
          }
         }
        },
        "title": {
         "font": {
          "color": "#4D5663"
         }
        },
        "xaxis": {
         "gridcolor": "#E1E5ED",
         "showgrid": true,
         "tickfont": {
          "color": "#4D5663"
         },
         "title": {
          "font": {
           "color": "#4D5663"
          },
          "text": ""
         },
         "zerolinecolor": "#E1E5ED"
        },
        "yaxis": {
         "gridcolor": "#E1E5ED",
         "showgrid": true,
         "tickfont": {
          "color": "#4D5663"
         },
         "title": {
          "font": {
           "color": "#4D5663"
          },
          "text": ""
         },
         "zerolinecolor": "#E1E5ED"
        }
       }
      },
      "text/html": [
       "<div>                            <div id=\"544f64fa-dde2-4185-b246-45bdb7f28e99\" class=\"plotly-graph-div\" style=\"height:525px; width:100%;\"></div>            <script type=\"text/javascript\">                require([\"plotly\"], function(Plotly) {                    window.PLOTLYENV=window.PLOTLYENV || {};\n",
       "                    window.PLOTLYENV.BASE_URL='https://plot.ly';                                    if (document.getElementById(\"544f64fa-dde2-4185-b246-45bdb7f28e99\")) {                    Plotly.newPlot(                        \"544f64fa-dde2-4185-b246-45bdb7f28e99\",                        [{\"marker\":{\"color\":\"rgba(255, 153, 51, 0.6)\",\"line\":{\"color\":\"rgba(255, 153, 51, 1.0)\",\"width\":1}},\"name\":\"Values\",\"orientation\":\"v\",\"text\":\"\",\"x\":[\"A\",\"B\",\"C\"],\"y\":[32,43,50],\"type\":\"bar\"}],                        {\"legend\":{\"bgcolor\":\"#F5F6F9\",\"font\":{\"color\":\"#4D5663\"}},\"paper_bgcolor\":\"#F5F6F9\",\"plot_bgcolor\":\"#F5F6F9\",\"template\":{\"data\":{\"barpolar\":[{\"marker\":{\"line\":{\"color\":\"#E5ECF6\",\"width\":0.5},\"pattern\":{\"fillmode\":\"overlay\",\"size\":10,\"solidity\":0.2}},\"type\":\"barpolar\"}],\"bar\":[{\"error_x\":{\"color\":\"#2a3f5f\"},\"error_y\":{\"color\":\"#2a3f5f\"},\"marker\":{\"line\":{\"color\":\"#E5ECF6\",\"width\":0.5},\"pattern\":{\"fillmode\":\"overlay\",\"size\":10,\"solidity\":0.2}},\"type\":\"bar\"}],\"carpet\":[{\"aaxis\":{\"endlinecolor\":\"#2a3f5f\",\"gridcolor\":\"white\",\"linecolor\":\"white\",\"minorgridcolor\":\"white\",\"startlinecolor\":\"#2a3f5f\"},\"baxis\":{\"endlinecolor\":\"#2a3f5f\",\"gridcolor\":\"white\",\"linecolor\":\"white\",\"minorgridcolor\":\"white\",\"startlinecolor\":\"#2a3f5f\"},\"type\":\"carpet\"}],\"choropleth\":[{\"colorbar\":{\"outlinewidth\":0,\"ticks\":\"\"},\"type\":\"choropleth\"}],\"contourcarpet\":[{\"colorbar\":{\"outlinewidth\":0,\"ticks\":\"\"},\"type\":\"contourcarpet\"}],\"contour\":[{\"colorbar\":{\"outlinewidth\":0,\"ticks\":\"\"},\"colorscale\":[[0.0,\"#0d0887\"],[0.1111111111111111,\"#46039f\"],[0.2222222222222222,\"#7201a8\"],[0.3333333333333333,\"#9c179e\"],[0.4444444444444444,\"#bd3786\"],[0.5555555555555556,\"#d8576b\"],[0.6666666666666666,\"#ed7953\"],[0.7777777777777778,\"#fb9f3a\"],[0.8888888888888888,\"#fdca26\"],[1.0,\"#f0f921\"]],\"type\":\"contour\"}],\"heatmapgl\":[{\"colorbar\":{\"outlinewidth\":0,\"ticks\":\"\"},\"colorscale\":[[0.0,\"#0d0887\"],[0.1111111111111111,\"#46039f\"],[0.2222222222222222,\"#7201a8\"],[0.3333333333333333,\"#9c179e\"],[0.4444444444444444,\"#bd3786\"],[0.5555555555555556,\"#d8576b\"],[0.6666666666666666,\"#ed7953\"],[0.7777777777777778,\"#fb9f3a\"],[0.8888888888888888,\"#fdca26\"],[1.0,\"#f0f921\"]],\"type\":\"heatmapgl\"}],\"heatmap\":[{\"colorbar\":{\"outlinewidth\":0,\"ticks\":\"\"},\"colorscale\":[[0.0,\"#0d0887\"],[0.1111111111111111,\"#46039f\"],[0.2222222222222222,\"#7201a8\"],[0.3333333333333333,\"#9c179e\"],[0.4444444444444444,\"#bd3786\"],[0.5555555555555556,\"#d8576b\"],[0.6666666666666666,\"#ed7953\"],[0.7777777777777778,\"#fb9f3a\"],[0.8888888888888888,\"#fdca26\"],[1.0,\"#f0f921\"]],\"type\":\"heatmap\"}],\"histogram2dcontour\":[{\"colorbar\":{\"outlinewidth\":0,\"ticks\":\"\"},\"colorscale\":[[0.0,\"#0d0887\"],[0.1111111111111111,\"#46039f\"],[0.2222222222222222,\"#7201a8\"],[0.3333333333333333,\"#9c179e\"],[0.4444444444444444,\"#bd3786\"],[0.5555555555555556,\"#d8576b\"],[0.6666666666666666,\"#ed7953\"],[0.7777777777777778,\"#fb9f3a\"],[0.8888888888888888,\"#fdca26\"],[1.0,\"#f0f921\"]],\"type\":\"histogram2dcontour\"}],\"histogram2d\":[{\"colorbar\":{\"outlinewidth\":0,\"ticks\":\"\"},\"colorscale\":[[0.0,\"#0d0887\"],[0.1111111111111111,\"#46039f\"],[0.2222222222222222,\"#7201a8\"],[0.3333333333333333,\"#9c179e\"],[0.4444444444444444,\"#bd3786\"],[0.5555555555555556,\"#d8576b\"],[0.6666666666666666,\"#ed7953\"],[0.7777777777777778,\"#fb9f3a\"],[0.8888888888888888,\"#fdca26\"],[1.0,\"#f0f921\"]],\"type\":\"histogram2d\"}],\"histogram\":[{\"marker\":{\"pattern\":{\"fillmode\":\"overlay\",\"size\":10,\"solidity\":0.2}},\"type\":\"histogram\"}],\"mesh3d\":[{\"colorbar\":{\"outlinewidth\":0,\"ticks\":\"\"},\"type\":\"mesh3d\"}],\"parcoords\":[{\"line\":{\"colorbar\":{\"outlinewidth\":0,\"ticks\":\"\"}},\"type\":\"parcoords\"}],\"pie\":[{\"automargin\":true,\"type\":\"pie\"}],\"scatter3d\":[{\"line\":{\"colorbar\":{\"outlinewidth\":0,\"ticks\":\"\"}},\"marker\":{\"colorbar\":{\"outlinewidth\":0,\"ticks\":\"\"}},\"type\":\"scatter3d\"}],\"scattercarpet\":[{\"marker\":{\"colorbar\":{\"outlinewidth\":0,\"ticks\":\"\"}},\"type\":\"scattercarpet\"}],\"scattergeo\":[{\"marker\":{\"colorbar\":{\"outlinewidth\":0,\"ticks\":\"\"}},\"type\":\"scattergeo\"}],\"scattergl\":[{\"marker\":{\"colorbar\":{\"outlinewidth\":0,\"ticks\":\"\"}},\"type\":\"scattergl\"}],\"scattermapbox\":[{\"marker\":{\"colorbar\":{\"outlinewidth\":0,\"ticks\":\"\"}},\"type\":\"scattermapbox\"}],\"scatterpolargl\":[{\"marker\":{\"colorbar\":{\"outlinewidth\":0,\"ticks\":\"\"}},\"type\":\"scatterpolargl\"}],\"scatterpolar\":[{\"marker\":{\"colorbar\":{\"outlinewidth\":0,\"ticks\":\"\"}},\"type\":\"scatterpolar\"}],\"scatter\":[{\"marker\":{\"colorbar\":{\"outlinewidth\":0,\"ticks\":\"\"}},\"type\":\"scatter\"}],\"scatterternary\":[{\"marker\":{\"colorbar\":{\"outlinewidth\":0,\"ticks\":\"\"}},\"type\":\"scatterternary\"}],\"surface\":[{\"colorbar\":{\"outlinewidth\":0,\"ticks\":\"\"},\"colorscale\":[[0.0,\"#0d0887\"],[0.1111111111111111,\"#46039f\"],[0.2222222222222222,\"#7201a8\"],[0.3333333333333333,\"#9c179e\"],[0.4444444444444444,\"#bd3786\"],[0.5555555555555556,\"#d8576b\"],[0.6666666666666666,\"#ed7953\"],[0.7777777777777778,\"#fb9f3a\"],[0.8888888888888888,\"#fdca26\"],[1.0,\"#f0f921\"]],\"type\":\"surface\"}],\"table\":[{\"cells\":{\"fill\":{\"color\":\"#EBF0F8\"},\"line\":{\"color\":\"white\"}},\"header\":{\"fill\":{\"color\":\"#C8D4E3\"},\"line\":{\"color\":\"white\"}},\"type\":\"table\"}]},\"layout\":{\"annotationdefaults\":{\"arrowcolor\":\"#2a3f5f\",\"arrowhead\":0,\"arrowwidth\":1},\"autotypenumbers\":\"strict\",\"coloraxis\":{\"colorbar\":{\"outlinewidth\":0,\"ticks\":\"\"}},\"colorscale\":{\"diverging\":[[0,\"#8e0152\"],[0.1,\"#c51b7d\"],[0.2,\"#de77ae\"],[0.3,\"#f1b6da\"],[0.4,\"#fde0ef\"],[0.5,\"#f7f7f7\"],[0.6,\"#e6f5d0\"],[0.7,\"#b8e186\"],[0.8,\"#7fbc41\"],[0.9,\"#4d9221\"],[1,\"#276419\"]],\"sequential\":[[0.0,\"#0d0887\"],[0.1111111111111111,\"#46039f\"],[0.2222222222222222,\"#7201a8\"],[0.3333333333333333,\"#9c179e\"],[0.4444444444444444,\"#bd3786\"],[0.5555555555555556,\"#d8576b\"],[0.6666666666666666,\"#ed7953\"],[0.7777777777777778,\"#fb9f3a\"],[0.8888888888888888,\"#fdca26\"],[1.0,\"#f0f921\"]],\"sequentialminus\":[[0.0,\"#0d0887\"],[0.1111111111111111,\"#46039f\"],[0.2222222222222222,\"#7201a8\"],[0.3333333333333333,\"#9c179e\"],[0.4444444444444444,\"#bd3786\"],[0.5555555555555556,\"#d8576b\"],[0.6666666666666666,\"#ed7953\"],[0.7777777777777778,\"#fb9f3a\"],[0.8888888888888888,\"#fdca26\"],[1.0,\"#f0f921\"]]},\"colorway\":[\"#636efa\",\"#EF553B\",\"#00cc96\",\"#ab63fa\",\"#FFA15A\",\"#19d3f3\",\"#FF6692\",\"#B6E880\",\"#FF97FF\",\"#FECB52\"],\"font\":{\"color\":\"#2a3f5f\"},\"geo\":{\"bgcolor\":\"white\",\"lakecolor\":\"white\",\"landcolor\":\"#E5ECF6\",\"showlakes\":true,\"showland\":true,\"subunitcolor\":\"white\"},\"hoverlabel\":{\"align\":\"left\"},\"hovermode\":\"closest\",\"mapbox\":{\"style\":\"light\"},\"paper_bgcolor\":\"white\",\"plot_bgcolor\":\"#E5ECF6\",\"polar\":{\"angularaxis\":{\"gridcolor\":\"white\",\"linecolor\":\"white\",\"ticks\":\"\"},\"bgcolor\":\"#E5ECF6\",\"radialaxis\":{\"gridcolor\":\"white\",\"linecolor\":\"white\",\"ticks\":\"\"}},\"scene\":{\"xaxis\":{\"backgroundcolor\":\"#E5ECF6\",\"gridcolor\":\"white\",\"gridwidth\":2,\"linecolor\":\"white\",\"showbackground\":true,\"ticks\":\"\",\"zerolinecolor\":\"white\"},\"yaxis\":{\"backgroundcolor\":\"#E5ECF6\",\"gridcolor\":\"white\",\"gridwidth\":2,\"linecolor\":\"white\",\"showbackground\":true,\"ticks\":\"\",\"zerolinecolor\":\"white\"},\"zaxis\":{\"backgroundcolor\":\"#E5ECF6\",\"gridcolor\":\"white\",\"gridwidth\":2,\"linecolor\":\"white\",\"showbackground\":true,\"ticks\":\"\",\"zerolinecolor\":\"white\"}},\"shapedefaults\":{\"line\":{\"color\":\"#2a3f5f\"}},\"ternary\":{\"aaxis\":{\"gridcolor\":\"white\",\"linecolor\":\"white\",\"ticks\":\"\"},\"baxis\":{\"gridcolor\":\"white\",\"linecolor\":\"white\",\"ticks\":\"\"},\"bgcolor\":\"#E5ECF6\",\"caxis\":{\"gridcolor\":\"white\",\"linecolor\":\"white\",\"ticks\":\"\"}},\"title\":{\"x\":0.05},\"xaxis\":{\"automargin\":true,\"gridcolor\":\"white\",\"linecolor\":\"white\",\"ticks\":\"\",\"title\":{\"standoff\":15},\"zerolinecolor\":\"white\",\"zerolinewidth\":2},\"yaxis\":{\"automargin\":true,\"gridcolor\":\"white\",\"linecolor\":\"white\",\"ticks\":\"\",\"title\":{\"standoff\":15},\"zerolinecolor\":\"white\",\"zerolinewidth\":2}}},\"title\":{\"font\":{\"color\":\"#4D5663\"}},\"xaxis\":{\"gridcolor\":\"#E1E5ED\",\"showgrid\":true,\"tickfont\":{\"color\":\"#4D5663\"},\"title\":{\"font\":{\"color\":\"#4D5663\"},\"text\":\"\"},\"zerolinecolor\":\"#E1E5ED\"},\"yaxis\":{\"gridcolor\":\"#E1E5ED\",\"showgrid\":true,\"tickfont\":{\"color\":\"#4D5663\"},\"title\":{\"font\":{\"color\":\"#4D5663\"},\"text\":\"\"},\"zerolinecolor\":\"#E1E5ED\"}},                        {\"showLink\": true, \"linkText\": \"Export to plot.ly\", \"plotlyServerURL\": \"https://plot.ly\", \"responsive\": true}                    ).then(function(){\n",
       "                            \n",
       "var gd = document.getElementById('544f64fa-dde2-4185-b246-45bdb7f28e99');\n",
       "var x = new MutationObserver(function (mutations, observer) {{\n",
       "        var display = window.getComputedStyle(gd).display;\n",
       "        if (!display || display === 'none') {{\n",
       "            console.log([gd, 'removed!']);\n",
       "            Plotly.purge(gd);\n",
       "            observer.disconnect();\n",
       "        }}\n",
       "}});\n",
       "\n",
       "// Listen for the removal of the full notebook cells\n",
       "var notebookContainer = gd.closest('#notebook-container');\n",
       "if (notebookContainer) {{\n",
       "    x.observe(notebookContainer, {childList: true});\n",
       "}}\n",
       "\n",
       "// Listen for the clearing of the current output cell\n",
       "var outputEl = gd.closest('.output');\n",
       "if (outputEl) {{\n",
       "    x.observe(outputEl, {childList: true});\n",
       "}}\n",
       "\n",
       "                        })                };                });            </script>        </div>"
      ]
     },
     "metadata": {},
     "output_type": "display_data"
    }
   ],
   "source": [
    "df2.iplot(kind='bar',x='Category',y='Values')"
   ]
  },
  {
   "cell_type": "code",
   "execution_count": 45,
   "id": "acb08022",
   "metadata": {},
   "outputs": [
    {
     "data": {
      "application/vnd.plotly.v1+json": {
       "config": {
        "linkText": "Export to plot.ly",
        "plotlyServerURL": "https://plot.ly",
        "showLink": true
       },
       "data": [
        {
         "marker": {
          "color": "rgba(255, 153, 51, 0.6)",
          "line": {
           "color": "rgba(255, 153, 51, 1.0)",
           "width": 1
          }
         },
         "name": "None",
         "orientation": "v",
         "text": "",
         "type": "bar",
         "x": [
          "A",
          "B",
          "C",
          "D"
         ],
         "y": [
          -6.42765646841923,
          2.2899792438651234,
          -8.618006199979279,
          -6.841419850276323
         ]
        }
       ],
       "layout": {
        "legend": {
         "bgcolor": "#F5F6F9",
         "font": {
          "color": "#4D5663"
         }
        },
        "paper_bgcolor": "#F5F6F9",
        "plot_bgcolor": "#F5F6F9",
        "template": {
         "data": {
          "bar": [
           {
            "error_x": {
             "color": "#2a3f5f"
            },
            "error_y": {
             "color": "#2a3f5f"
            },
            "marker": {
             "line": {
              "color": "#E5ECF6",
              "width": 0.5
             },
             "pattern": {
              "fillmode": "overlay",
              "size": 10,
              "solidity": 0.2
             }
            },
            "type": "bar"
           }
          ],
          "barpolar": [
           {
            "marker": {
             "line": {
              "color": "#E5ECF6",
              "width": 0.5
             },
             "pattern": {
              "fillmode": "overlay",
              "size": 10,
              "solidity": 0.2
             }
            },
            "type": "barpolar"
           }
          ],
          "carpet": [
           {
            "aaxis": {
             "endlinecolor": "#2a3f5f",
             "gridcolor": "white",
             "linecolor": "white",
             "minorgridcolor": "white",
             "startlinecolor": "#2a3f5f"
            },
            "baxis": {
             "endlinecolor": "#2a3f5f",
             "gridcolor": "white",
             "linecolor": "white",
             "minorgridcolor": "white",
             "startlinecolor": "#2a3f5f"
            },
            "type": "carpet"
           }
          ],
          "choropleth": [
           {
            "colorbar": {
             "outlinewidth": 0,
             "ticks": ""
            },
            "type": "choropleth"
           }
          ],
          "contour": [
           {
            "colorbar": {
             "outlinewidth": 0,
             "ticks": ""
            },
            "colorscale": [
             [
              0,
              "#0d0887"
             ],
             [
              0.1111111111111111,
              "#46039f"
             ],
             [
              0.2222222222222222,
              "#7201a8"
             ],
             [
              0.3333333333333333,
              "#9c179e"
             ],
             [
              0.4444444444444444,
              "#bd3786"
             ],
             [
              0.5555555555555556,
              "#d8576b"
             ],
             [
              0.6666666666666666,
              "#ed7953"
             ],
             [
              0.7777777777777778,
              "#fb9f3a"
             ],
             [
              0.8888888888888888,
              "#fdca26"
             ],
             [
              1,
              "#f0f921"
             ]
            ],
            "type": "contour"
           }
          ],
          "contourcarpet": [
           {
            "colorbar": {
             "outlinewidth": 0,
             "ticks": ""
            },
            "type": "contourcarpet"
           }
          ],
          "heatmap": [
           {
            "colorbar": {
             "outlinewidth": 0,
             "ticks": ""
            },
            "colorscale": [
             [
              0,
              "#0d0887"
             ],
             [
              0.1111111111111111,
              "#46039f"
             ],
             [
              0.2222222222222222,
              "#7201a8"
             ],
             [
              0.3333333333333333,
              "#9c179e"
             ],
             [
              0.4444444444444444,
              "#bd3786"
             ],
             [
              0.5555555555555556,
              "#d8576b"
             ],
             [
              0.6666666666666666,
              "#ed7953"
             ],
             [
              0.7777777777777778,
              "#fb9f3a"
             ],
             [
              0.8888888888888888,
              "#fdca26"
             ],
             [
              1,
              "#f0f921"
             ]
            ],
            "type": "heatmap"
           }
          ],
          "heatmapgl": [
           {
            "colorbar": {
             "outlinewidth": 0,
             "ticks": ""
            },
            "colorscale": [
             [
              0,
              "#0d0887"
             ],
             [
              0.1111111111111111,
              "#46039f"
             ],
             [
              0.2222222222222222,
              "#7201a8"
             ],
             [
              0.3333333333333333,
              "#9c179e"
             ],
             [
              0.4444444444444444,
              "#bd3786"
             ],
             [
              0.5555555555555556,
              "#d8576b"
             ],
             [
              0.6666666666666666,
              "#ed7953"
             ],
             [
              0.7777777777777778,
              "#fb9f3a"
             ],
             [
              0.8888888888888888,
              "#fdca26"
             ],
             [
              1,
              "#f0f921"
             ]
            ],
            "type": "heatmapgl"
           }
          ],
          "histogram": [
           {
            "marker": {
             "pattern": {
              "fillmode": "overlay",
              "size": 10,
              "solidity": 0.2
             }
            },
            "type": "histogram"
           }
          ],
          "histogram2d": [
           {
            "colorbar": {
             "outlinewidth": 0,
             "ticks": ""
            },
            "colorscale": [
             [
              0,
              "#0d0887"
             ],
             [
              0.1111111111111111,
              "#46039f"
             ],
             [
              0.2222222222222222,
              "#7201a8"
             ],
             [
              0.3333333333333333,
              "#9c179e"
             ],
             [
              0.4444444444444444,
              "#bd3786"
             ],
             [
              0.5555555555555556,
              "#d8576b"
             ],
             [
              0.6666666666666666,
              "#ed7953"
             ],
             [
              0.7777777777777778,
              "#fb9f3a"
             ],
             [
              0.8888888888888888,
              "#fdca26"
             ],
             [
              1,
              "#f0f921"
             ]
            ],
            "type": "histogram2d"
           }
          ],
          "histogram2dcontour": [
           {
            "colorbar": {
             "outlinewidth": 0,
             "ticks": ""
            },
            "colorscale": [
             [
              0,
              "#0d0887"
             ],
             [
              0.1111111111111111,
              "#46039f"
             ],
             [
              0.2222222222222222,
              "#7201a8"
             ],
             [
              0.3333333333333333,
              "#9c179e"
             ],
             [
              0.4444444444444444,
              "#bd3786"
             ],
             [
              0.5555555555555556,
              "#d8576b"
             ],
             [
              0.6666666666666666,
              "#ed7953"
             ],
             [
              0.7777777777777778,
              "#fb9f3a"
             ],
             [
              0.8888888888888888,
              "#fdca26"
             ],
             [
              1,
              "#f0f921"
             ]
            ],
            "type": "histogram2dcontour"
           }
          ],
          "mesh3d": [
           {
            "colorbar": {
             "outlinewidth": 0,
             "ticks": ""
            },
            "type": "mesh3d"
           }
          ],
          "parcoords": [
           {
            "line": {
             "colorbar": {
              "outlinewidth": 0,
              "ticks": ""
             }
            },
            "type": "parcoords"
           }
          ],
          "pie": [
           {
            "automargin": true,
            "type": "pie"
           }
          ],
          "scatter": [
           {
            "marker": {
             "colorbar": {
              "outlinewidth": 0,
              "ticks": ""
             }
            },
            "type": "scatter"
           }
          ],
          "scatter3d": [
           {
            "line": {
             "colorbar": {
              "outlinewidth": 0,
              "ticks": ""
             }
            },
            "marker": {
             "colorbar": {
              "outlinewidth": 0,
              "ticks": ""
             }
            },
            "type": "scatter3d"
           }
          ],
          "scattercarpet": [
           {
            "marker": {
             "colorbar": {
              "outlinewidth": 0,
              "ticks": ""
             }
            },
            "type": "scattercarpet"
           }
          ],
          "scattergeo": [
           {
            "marker": {
             "colorbar": {
              "outlinewidth": 0,
              "ticks": ""
             }
            },
            "type": "scattergeo"
           }
          ],
          "scattergl": [
           {
            "marker": {
             "colorbar": {
              "outlinewidth": 0,
              "ticks": ""
             }
            },
            "type": "scattergl"
           }
          ],
          "scattermapbox": [
           {
            "marker": {
             "colorbar": {
              "outlinewidth": 0,
              "ticks": ""
             }
            },
            "type": "scattermapbox"
           }
          ],
          "scatterpolar": [
           {
            "marker": {
             "colorbar": {
              "outlinewidth": 0,
              "ticks": ""
             }
            },
            "type": "scatterpolar"
           }
          ],
          "scatterpolargl": [
           {
            "marker": {
             "colorbar": {
              "outlinewidth": 0,
              "ticks": ""
             }
            },
            "type": "scatterpolargl"
           }
          ],
          "scatterternary": [
           {
            "marker": {
             "colorbar": {
              "outlinewidth": 0,
              "ticks": ""
             }
            },
            "type": "scatterternary"
           }
          ],
          "surface": [
           {
            "colorbar": {
             "outlinewidth": 0,
             "ticks": ""
            },
            "colorscale": [
             [
              0,
              "#0d0887"
             ],
             [
              0.1111111111111111,
              "#46039f"
             ],
             [
              0.2222222222222222,
              "#7201a8"
             ],
             [
              0.3333333333333333,
              "#9c179e"
             ],
             [
              0.4444444444444444,
              "#bd3786"
             ],
             [
              0.5555555555555556,
              "#d8576b"
             ],
             [
              0.6666666666666666,
              "#ed7953"
             ],
             [
              0.7777777777777778,
              "#fb9f3a"
             ],
             [
              0.8888888888888888,
              "#fdca26"
             ],
             [
              1,
              "#f0f921"
             ]
            ],
            "type": "surface"
           }
          ],
          "table": [
           {
            "cells": {
             "fill": {
              "color": "#EBF0F8"
             },
             "line": {
              "color": "white"
             }
            },
            "header": {
             "fill": {
              "color": "#C8D4E3"
             },
             "line": {
              "color": "white"
             }
            },
            "type": "table"
           }
          ]
         },
         "layout": {
          "annotationdefaults": {
           "arrowcolor": "#2a3f5f",
           "arrowhead": 0,
           "arrowwidth": 1
          },
          "autotypenumbers": "strict",
          "coloraxis": {
           "colorbar": {
            "outlinewidth": 0,
            "ticks": ""
           }
          },
          "colorscale": {
           "diverging": [
            [
             0,
             "#8e0152"
            ],
            [
             0.1,
             "#c51b7d"
            ],
            [
             0.2,
             "#de77ae"
            ],
            [
             0.3,
             "#f1b6da"
            ],
            [
             0.4,
             "#fde0ef"
            ],
            [
             0.5,
             "#f7f7f7"
            ],
            [
             0.6,
             "#e6f5d0"
            ],
            [
             0.7,
             "#b8e186"
            ],
            [
             0.8,
             "#7fbc41"
            ],
            [
             0.9,
             "#4d9221"
            ],
            [
             1,
             "#276419"
            ]
           ],
           "sequential": [
            [
             0,
             "#0d0887"
            ],
            [
             0.1111111111111111,
             "#46039f"
            ],
            [
             0.2222222222222222,
             "#7201a8"
            ],
            [
             0.3333333333333333,
             "#9c179e"
            ],
            [
             0.4444444444444444,
             "#bd3786"
            ],
            [
             0.5555555555555556,
             "#d8576b"
            ],
            [
             0.6666666666666666,
             "#ed7953"
            ],
            [
             0.7777777777777778,
             "#fb9f3a"
            ],
            [
             0.8888888888888888,
             "#fdca26"
            ],
            [
             1,
             "#f0f921"
            ]
           ],
           "sequentialminus": [
            [
             0,
             "#0d0887"
            ],
            [
             0.1111111111111111,
             "#46039f"
            ],
            [
             0.2222222222222222,
             "#7201a8"
            ],
            [
             0.3333333333333333,
             "#9c179e"
            ],
            [
             0.4444444444444444,
             "#bd3786"
            ],
            [
             0.5555555555555556,
             "#d8576b"
            ],
            [
             0.6666666666666666,
             "#ed7953"
            ],
            [
             0.7777777777777778,
             "#fb9f3a"
            ],
            [
             0.8888888888888888,
             "#fdca26"
            ],
            [
             1,
             "#f0f921"
            ]
           ]
          },
          "colorway": [
           "#636efa",
           "#EF553B",
           "#00cc96",
           "#ab63fa",
           "#FFA15A",
           "#19d3f3",
           "#FF6692",
           "#B6E880",
           "#FF97FF",
           "#FECB52"
          ],
          "font": {
           "color": "#2a3f5f"
          },
          "geo": {
           "bgcolor": "white",
           "lakecolor": "white",
           "landcolor": "#E5ECF6",
           "showlakes": true,
           "showland": true,
           "subunitcolor": "white"
          },
          "hoverlabel": {
           "align": "left"
          },
          "hovermode": "closest",
          "mapbox": {
           "style": "light"
          },
          "paper_bgcolor": "white",
          "plot_bgcolor": "#E5ECF6",
          "polar": {
           "angularaxis": {
            "gridcolor": "white",
            "linecolor": "white",
            "ticks": ""
           },
           "bgcolor": "#E5ECF6",
           "radialaxis": {
            "gridcolor": "white",
            "linecolor": "white",
            "ticks": ""
           }
          },
          "scene": {
           "xaxis": {
            "backgroundcolor": "#E5ECF6",
            "gridcolor": "white",
            "gridwidth": 2,
            "linecolor": "white",
            "showbackground": true,
            "ticks": "",
            "zerolinecolor": "white"
           },
           "yaxis": {
            "backgroundcolor": "#E5ECF6",
            "gridcolor": "white",
            "gridwidth": 2,
            "linecolor": "white",
            "showbackground": true,
            "ticks": "",
            "zerolinecolor": "white"
           },
           "zaxis": {
            "backgroundcolor": "#E5ECF6",
            "gridcolor": "white",
            "gridwidth": 2,
            "linecolor": "white",
            "showbackground": true,
            "ticks": "",
            "zerolinecolor": "white"
           }
          },
          "shapedefaults": {
           "line": {
            "color": "#2a3f5f"
           }
          },
          "ternary": {
           "aaxis": {
            "gridcolor": "white",
            "linecolor": "white",
            "ticks": ""
           },
           "baxis": {
            "gridcolor": "white",
            "linecolor": "white",
            "ticks": ""
           },
           "bgcolor": "#E5ECF6",
           "caxis": {
            "gridcolor": "white",
            "linecolor": "white",
            "ticks": ""
           }
          },
          "title": {
           "x": 0.05
          },
          "xaxis": {
           "automargin": true,
           "gridcolor": "white",
           "linecolor": "white",
           "ticks": "",
           "title": {
            "standoff": 15
           },
           "zerolinecolor": "white",
           "zerolinewidth": 2
          },
          "yaxis": {
           "automargin": true,
           "gridcolor": "white",
           "linecolor": "white",
           "ticks": "",
           "title": {
            "standoff": 15
           },
           "zerolinecolor": "white",
           "zerolinewidth": 2
          }
         }
        },
        "title": {
         "font": {
          "color": "#4D5663"
         }
        },
        "xaxis": {
         "gridcolor": "#E1E5ED",
         "showgrid": true,
         "tickfont": {
          "color": "#4D5663"
         },
         "title": {
          "font": {
           "color": "#4D5663"
          },
          "text": ""
         },
         "zerolinecolor": "#E1E5ED"
        },
        "yaxis": {
         "gridcolor": "#E1E5ED",
         "showgrid": true,
         "tickfont": {
          "color": "#4D5663"
         },
         "title": {
          "font": {
           "color": "#4D5663"
          },
          "text": ""
         },
         "zerolinecolor": "#E1E5ED"
        }
       }
      },
      "text/html": [
       "<div>                            <div id=\"b8c5a2e0-56ba-4def-bced-e9fc8e8f310c\" class=\"plotly-graph-div\" style=\"height:525px; width:100%;\"></div>            <script type=\"text/javascript\">                require([\"plotly\"], function(Plotly) {                    window.PLOTLYENV=window.PLOTLYENV || {};\n",
       "                    window.PLOTLYENV.BASE_URL='https://plot.ly';                                    if (document.getElementById(\"b8c5a2e0-56ba-4def-bced-e9fc8e8f310c\")) {                    Plotly.newPlot(                        \"b8c5a2e0-56ba-4def-bced-e9fc8e8f310c\",                        [{\"marker\":{\"color\":\"rgba(255, 153, 51, 0.6)\",\"line\":{\"color\":\"rgba(255, 153, 51, 1.0)\",\"width\":1}},\"name\":\"None\",\"orientation\":\"v\",\"text\":\"\",\"x\":[\"A\",\"B\",\"C\",\"D\"],\"y\":[-6.42765646841923,2.2899792438651234,-8.618006199979279,-6.841419850276323],\"type\":\"bar\"}],                        {\"legend\":{\"bgcolor\":\"#F5F6F9\",\"font\":{\"color\":\"#4D5663\"}},\"paper_bgcolor\":\"#F5F6F9\",\"plot_bgcolor\":\"#F5F6F9\",\"template\":{\"data\":{\"barpolar\":[{\"marker\":{\"line\":{\"color\":\"#E5ECF6\",\"width\":0.5},\"pattern\":{\"fillmode\":\"overlay\",\"size\":10,\"solidity\":0.2}},\"type\":\"barpolar\"}],\"bar\":[{\"error_x\":{\"color\":\"#2a3f5f\"},\"error_y\":{\"color\":\"#2a3f5f\"},\"marker\":{\"line\":{\"color\":\"#E5ECF6\",\"width\":0.5},\"pattern\":{\"fillmode\":\"overlay\",\"size\":10,\"solidity\":0.2}},\"type\":\"bar\"}],\"carpet\":[{\"aaxis\":{\"endlinecolor\":\"#2a3f5f\",\"gridcolor\":\"white\",\"linecolor\":\"white\",\"minorgridcolor\":\"white\",\"startlinecolor\":\"#2a3f5f\"},\"baxis\":{\"endlinecolor\":\"#2a3f5f\",\"gridcolor\":\"white\",\"linecolor\":\"white\",\"minorgridcolor\":\"white\",\"startlinecolor\":\"#2a3f5f\"},\"type\":\"carpet\"}],\"choropleth\":[{\"colorbar\":{\"outlinewidth\":0,\"ticks\":\"\"},\"type\":\"choropleth\"}],\"contourcarpet\":[{\"colorbar\":{\"outlinewidth\":0,\"ticks\":\"\"},\"type\":\"contourcarpet\"}],\"contour\":[{\"colorbar\":{\"outlinewidth\":0,\"ticks\":\"\"},\"colorscale\":[[0.0,\"#0d0887\"],[0.1111111111111111,\"#46039f\"],[0.2222222222222222,\"#7201a8\"],[0.3333333333333333,\"#9c179e\"],[0.4444444444444444,\"#bd3786\"],[0.5555555555555556,\"#d8576b\"],[0.6666666666666666,\"#ed7953\"],[0.7777777777777778,\"#fb9f3a\"],[0.8888888888888888,\"#fdca26\"],[1.0,\"#f0f921\"]],\"type\":\"contour\"}],\"heatmapgl\":[{\"colorbar\":{\"outlinewidth\":0,\"ticks\":\"\"},\"colorscale\":[[0.0,\"#0d0887\"],[0.1111111111111111,\"#46039f\"],[0.2222222222222222,\"#7201a8\"],[0.3333333333333333,\"#9c179e\"],[0.4444444444444444,\"#bd3786\"],[0.5555555555555556,\"#d8576b\"],[0.6666666666666666,\"#ed7953\"],[0.7777777777777778,\"#fb9f3a\"],[0.8888888888888888,\"#fdca26\"],[1.0,\"#f0f921\"]],\"type\":\"heatmapgl\"}],\"heatmap\":[{\"colorbar\":{\"outlinewidth\":0,\"ticks\":\"\"},\"colorscale\":[[0.0,\"#0d0887\"],[0.1111111111111111,\"#46039f\"],[0.2222222222222222,\"#7201a8\"],[0.3333333333333333,\"#9c179e\"],[0.4444444444444444,\"#bd3786\"],[0.5555555555555556,\"#d8576b\"],[0.6666666666666666,\"#ed7953\"],[0.7777777777777778,\"#fb9f3a\"],[0.8888888888888888,\"#fdca26\"],[1.0,\"#f0f921\"]],\"type\":\"heatmap\"}],\"histogram2dcontour\":[{\"colorbar\":{\"outlinewidth\":0,\"ticks\":\"\"},\"colorscale\":[[0.0,\"#0d0887\"],[0.1111111111111111,\"#46039f\"],[0.2222222222222222,\"#7201a8\"],[0.3333333333333333,\"#9c179e\"],[0.4444444444444444,\"#bd3786\"],[0.5555555555555556,\"#d8576b\"],[0.6666666666666666,\"#ed7953\"],[0.7777777777777778,\"#fb9f3a\"],[0.8888888888888888,\"#fdca26\"],[1.0,\"#f0f921\"]],\"type\":\"histogram2dcontour\"}],\"histogram2d\":[{\"colorbar\":{\"outlinewidth\":0,\"ticks\":\"\"},\"colorscale\":[[0.0,\"#0d0887\"],[0.1111111111111111,\"#46039f\"],[0.2222222222222222,\"#7201a8\"],[0.3333333333333333,\"#9c179e\"],[0.4444444444444444,\"#bd3786\"],[0.5555555555555556,\"#d8576b\"],[0.6666666666666666,\"#ed7953\"],[0.7777777777777778,\"#fb9f3a\"],[0.8888888888888888,\"#fdca26\"],[1.0,\"#f0f921\"]],\"type\":\"histogram2d\"}],\"histogram\":[{\"marker\":{\"pattern\":{\"fillmode\":\"overlay\",\"size\":10,\"solidity\":0.2}},\"type\":\"histogram\"}],\"mesh3d\":[{\"colorbar\":{\"outlinewidth\":0,\"ticks\":\"\"},\"type\":\"mesh3d\"}],\"parcoords\":[{\"line\":{\"colorbar\":{\"outlinewidth\":0,\"ticks\":\"\"}},\"type\":\"parcoords\"}],\"pie\":[{\"automargin\":true,\"type\":\"pie\"}],\"scatter3d\":[{\"line\":{\"colorbar\":{\"outlinewidth\":0,\"ticks\":\"\"}},\"marker\":{\"colorbar\":{\"outlinewidth\":0,\"ticks\":\"\"}},\"type\":\"scatter3d\"}],\"scattercarpet\":[{\"marker\":{\"colorbar\":{\"outlinewidth\":0,\"ticks\":\"\"}},\"type\":\"scattercarpet\"}],\"scattergeo\":[{\"marker\":{\"colorbar\":{\"outlinewidth\":0,\"ticks\":\"\"}},\"type\":\"scattergeo\"}],\"scattergl\":[{\"marker\":{\"colorbar\":{\"outlinewidth\":0,\"ticks\":\"\"}},\"type\":\"scattergl\"}],\"scattermapbox\":[{\"marker\":{\"colorbar\":{\"outlinewidth\":0,\"ticks\":\"\"}},\"type\":\"scattermapbox\"}],\"scatterpolargl\":[{\"marker\":{\"colorbar\":{\"outlinewidth\":0,\"ticks\":\"\"}},\"type\":\"scatterpolargl\"}],\"scatterpolar\":[{\"marker\":{\"colorbar\":{\"outlinewidth\":0,\"ticks\":\"\"}},\"type\":\"scatterpolar\"}],\"scatter\":[{\"marker\":{\"colorbar\":{\"outlinewidth\":0,\"ticks\":\"\"}},\"type\":\"scatter\"}],\"scatterternary\":[{\"marker\":{\"colorbar\":{\"outlinewidth\":0,\"ticks\":\"\"}},\"type\":\"scatterternary\"}],\"surface\":[{\"colorbar\":{\"outlinewidth\":0,\"ticks\":\"\"},\"colorscale\":[[0.0,\"#0d0887\"],[0.1111111111111111,\"#46039f\"],[0.2222222222222222,\"#7201a8\"],[0.3333333333333333,\"#9c179e\"],[0.4444444444444444,\"#bd3786\"],[0.5555555555555556,\"#d8576b\"],[0.6666666666666666,\"#ed7953\"],[0.7777777777777778,\"#fb9f3a\"],[0.8888888888888888,\"#fdca26\"],[1.0,\"#f0f921\"]],\"type\":\"surface\"}],\"table\":[{\"cells\":{\"fill\":{\"color\":\"#EBF0F8\"},\"line\":{\"color\":\"white\"}},\"header\":{\"fill\":{\"color\":\"#C8D4E3\"},\"line\":{\"color\":\"white\"}},\"type\":\"table\"}]},\"layout\":{\"annotationdefaults\":{\"arrowcolor\":\"#2a3f5f\",\"arrowhead\":0,\"arrowwidth\":1},\"autotypenumbers\":\"strict\",\"coloraxis\":{\"colorbar\":{\"outlinewidth\":0,\"ticks\":\"\"}},\"colorscale\":{\"diverging\":[[0,\"#8e0152\"],[0.1,\"#c51b7d\"],[0.2,\"#de77ae\"],[0.3,\"#f1b6da\"],[0.4,\"#fde0ef\"],[0.5,\"#f7f7f7\"],[0.6,\"#e6f5d0\"],[0.7,\"#b8e186\"],[0.8,\"#7fbc41\"],[0.9,\"#4d9221\"],[1,\"#276419\"]],\"sequential\":[[0.0,\"#0d0887\"],[0.1111111111111111,\"#46039f\"],[0.2222222222222222,\"#7201a8\"],[0.3333333333333333,\"#9c179e\"],[0.4444444444444444,\"#bd3786\"],[0.5555555555555556,\"#d8576b\"],[0.6666666666666666,\"#ed7953\"],[0.7777777777777778,\"#fb9f3a\"],[0.8888888888888888,\"#fdca26\"],[1.0,\"#f0f921\"]],\"sequentialminus\":[[0.0,\"#0d0887\"],[0.1111111111111111,\"#46039f\"],[0.2222222222222222,\"#7201a8\"],[0.3333333333333333,\"#9c179e\"],[0.4444444444444444,\"#bd3786\"],[0.5555555555555556,\"#d8576b\"],[0.6666666666666666,\"#ed7953\"],[0.7777777777777778,\"#fb9f3a\"],[0.8888888888888888,\"#fdca26\"],[1.0,\"#f0f921\"]]},\"colorway\":[\"#636efa\",\"#EF553B\",\"#00cc96\",\"#ab63fa\",\"#FFA15A\",\"#19d3f3\",\"#FF6692\",\"#B6E880\",\"#FF97FF\",\"#FECB52\"],\"font\":{\"color\":\"#2a3f5f\"},\"geo\":{\"bgcolor\":\"white\",\"lakecolor\":\"white\",\"landcolor\":\"#E5ECF6\",\"showlakes\":true,\"showland\":true,\"subunitcolor\":\"white\"},\"hoverlabel\":{\"align\":\"left\"},\"hovermode\":\"closest\",\"mapbox\":{\"style\":\"light\"},\"paper_bgcolor\":\"white\",\"plot_bgcolor\":\"#E5ECF6\",\"polar\":{\"angularaxis\":{\"gridcolor\":\"white\",\"linecolor\":\"white\",\"ticks\":\"\"},\"bgcolor\":\"#E5ECF6\",\"radialaxis\":{\"gridcolor\":\"white\",\"linecolor\":\"white\",\"ticks\":\"\"}},\"scene\":{\"xaxis\":{\"backgroundcolor\":\"#E5ECF6\",\"gridcolor\":\"white\",\"gridwidth\":2,\"linecolor\":\"white\",\"showbackground\":true,\"ticks\":\"\",\"zerolinecolor\":\"white\"},\"yaxis\":{\"backgroundcolor\":\"#E5ECF6\",\"gridcolor\":\"white\",\"gridwidth\":2,\"linecolor\":\"white\",\"showbackground\":true,\"ticks\":\"\",\"zerolinecolor\":\"white\"},\"zaxis\":{\"backgroundcolor\":\"#E5ECF6\",\"gridcolor\":\"white\",\"gridwidth\":2,\"linecolor\":\"white\",\"showbackground\":true,\"ticks\":\"\",\"zerolinecolor\":\"white\"}},\"shapedefaults\":{\"line\":{\"color\":\"#2a3f5f\"}},\"ternary\":{\"aaxis\":{\"gridcolor\":\"white\",\"linecolor\":\"white\",\"ticks\":\"\"},\"baxis\":{\"gridcolor\":\"white\",\"linecolor\":\"white\",\"ticks\":\"\"},\"bgcolor\":\"#E5ECF6\",\"caxis\":{\"gridcolor\":\"white\",\"linecolor\":\"white\",\"ticks\":\"\"}},\"title\":{\"x\":0.05},\"xaxis\":{\"automargin\":true,\"gridcolor\":\"white\",\"linecolor\":\"white\",\"ticks\":\"\",\"title\":{\"standoff\":15},\"zerolinecolor\":\"white\",\"zerolinewidth\":2},\"yaxis\":{\"automargin\":true,\"gridcolor\":\"white\",\"linecolor\":\"white\",\"ticks\":\"\",\"title\":{\"standoff\":15},\"zerolinecolor\":\"white\",\"zerolinewidth\":2}}},\"title\":{\"font\":{\"color\":\"#4D5663\"}},\"xaxis\":{\"gridcolor\":\"#E1E5ED\",\"showgrid\":true,\"tickfont\":{\"color\":\"#4D5663\"},\"title\":{\"font\":{\"color\":\"#4D5663\"},\"text\":\"\"},\"zerolinecolor\":\"#E1E5ED\"},\"yaxis\":{\"gridcolor\":\"#E1E5ED\",\"showgrid\":true,\"tickfont\":{\"color\":\"#4D5663\"},\"title\":{\"font\":{\"color\":\"#4D5663\"},\"text\":\"\"},\"zerolinecolor\":\"#E1E5ED\"}},                        {\"showLink\": true, \"linkText\": \"Export to plot.ly\", \"plotlyServerURL\": \"https://plot.ly\", \"responsive\": true}                    ).then(function(){\n",
       "                            \n",
       "var gd = document.getElementById('b8c5a2e0-56ba-4def-bced-e9fc8e8f310c');\n",
       "var x = new MutationObserver(function (mutations, observer) {{\n",
       "        var display = window.getComputedStyle(gd).display;\n",
       "        if (!display || display === 'none') {{\n",
       "            console.log([gd, 'removed!']);\n",
       "            Plotly.purge(gd);\n",
       "            observer.disconnect();\n",
       "        }}\n",
       "}});\n",
       "\n",
       "// Listen for the removal of the full notebook cells\n",
       "var notebookContainer = gd.closest('#notebook-container');\n",
       "if (notebookContainer) {{\n",
       "    x.observe(notebookContainer, {childList: true});\n",
       "}}\n",
       "\n",
       "// Listen for the clearing of the current output cell\n",
       "var outputEl = gd.closest('.output');\n",
       "if (outputEl) {{\n",
       "    x.observe(outputEl, {childList: true});\n",
       "}}\n",
       "\n",
       "                        })                };                });            </script>        </div>"
      ]
     },
     "metadata": {},
     "output_type": "display_data"
    }
   ],
   "source": [
    "df.sum().iplot(kind='bar')"
   ]
  },
  {
   "cell_type": "code",
   "execution_count": 46,
   "id": "eceb8e26",
   "metadata": {},
   "outputs": [
    {
     "data": {
      "application/vnd.plotly.v1+json": {
       "config": {
        "linkText": "Export to plot.ly",
        "plotlyServerURL": "https://plot.ly",
        "showLink": true
       },
       "data": [
        {
         "boxpoints": false,
         "line": {
          "width": 1.3
         },
         "marker": {
          "color": "rgba(255, 153, 51, 1.0)"
         },
         "name": "A",
         "orientation": "v",
         "type": "box",
         "y": [
          -1.3813706255062617,
          0.8065087300796255,
          0.3418651186982201,
          -0.3323817128521051,
          2.1231407918626863,
          -1.1202630656804664,
          -0.0838679423613188,
          -0.2323656787814356,
          -0.4448817191163479,
          -0.06875353456729144,
          -0.049574301014722454,
          2.210801449350267,
          -1.1063203713174574,
          -0.6063103665598676,
          -0.7011439170998087,
          -0.45395970306502087,
          2.766671816092905,
          0.5699573520404393,
          0.8808174816908407,
          1.3800745892046544,
          -0.1603764834931205,
          -1.0622118661110387,
          -1.562271295381666,
          -0.57761248853128,
          -0.8179651173239639,
          1.3851094626150695,
          1.419717830017316,
          1.490032752768479,
          0.4839879897208073,
          2.846600051376337,
          -0.19327060595834927,
          0.10695835574762955,
          -1.2772804565698301,
          0.1457265969364036,
          0.4980186780688667,
          0.37059896130240544,
          -1.7873621950489733,
          -0.8815719530555712,
          -1.0904553304750297,
          0.31263785194698335,
          -1.7657329345102317,
          -1.6644896212258584,
          -0.9985986717447229,
          -5.7910567175379e-05,
          -1.331707814385081,
          0.1134252366886889,
          0.759414790394926,
          -0.0599661947972707,
          0.6906859639390763,
          0.354321372436767,
          -1.1380592776587406,
          -0.9992273007320776,
          0.08349219406595834,
          1.4708225882710029,
          2.2572721833274625,
          0.7709653112317927,
          -0.23877889678292707,
          1.3451420206002938,
          -0.16746439868244084,
          0.5699618681293717,
          -0.3708267121936692,
          -1.8703385788607723,
          0.9215350628981622,
          -2.3333905191830175,
          0.43391561874284323,
          -0.7463278263388601,
          0.4737891000334945,
          1.0920180090401317,
          1.0325775036488705,
          -0.6106630768648215,
          -0.7382156222692969,
          -0.9584583679324162,
          -2.7421379622719124,
          -1.7506037789263569,
          0.31966563419627686,
          -0.7892062316286367,
          0.448996320741698,
          0.21294295276889807,
          0.9160624812720353,
          -0.28604664133610624,
          0.30985990443739675,
          -0.46754536872788194,
          -0.11610969135353229,
          0.48391664650310773,
          -0.520395981311585,
          1.1541095181196932,
          -0.45352152882079416,
          -0.05789549270731017,
          -1.2919838016797072,
          -0.3090001479193332,
          0.569241312546446,
          -0.934322907187918,
          0.3443265950499941,
          0.1456857429217968,
          -0.16409306709076685,
          0.5505366687670102,
          -1.2457267972453103,
          2.1972545707069133,
          -1.083598726767268,
          -2.39275691984455
         ]
        },
        {
         "boxpoints": false,
         "line": {
          "width": 1.3
         },
         "marker": {
          "color": "rgba(55, 128, 191, 1.0)"
         },
         "name": "B",
         "orientation": "v",
         "type": "box",
         "y": [
          0.39408508751691174,
          0.5597812290844585,
          1.1872882937316844,
          0.5261069177621385,
          0.8324150081424387,
          2.0229924948473155,
          0.8016952099182463,
          -0.27250856543923707,
          0.5991969917690078,
          0.012408271151590967,
          1.498575989045239,
          -1.5252754697159996,
          0.14066922828746695,
          0.2001614896562864,
          0.7393141086675633,
          0.5218190410445782,
          -0.14099631099514778,
          0.746320335451686,
          0.2882068249559392,
          -0.6261179226215818,
          -1.3453418809785471,
          0.4485083513661857,
          -0.30337254173453476,
          -0.2573198650134465,
          1.8340919440261283,
          -1.723238043505735,
          2.2560989316205946,
          0.08307241884321633,
          -0.17902782356976163,
          0.3746919695015312,
          0.6907935307424771,
          -1.9052738453037013,
          -0.6944962604391867,
          -0.9560653935208608,
          -0.1260645549119327,
          -0.2820678692564736,
          -0.2899959469285368,
          -0.8697374037589303,
          1.4866174930332687,
          -0.358924788703825,
          -1.5454270107479176,
          -1.526480268544885,
          -0.9045299027694891,
          -0.49427429863164674,
          -0.09974524282445445,
          0.9496340986727977,
          -0.8322150144236892,
          -0.8063792658634675,
          1.312605694412341,
          0.1685132896260088,
          -1.4139505639110368,
          -0.4482508192546252,
          -0.5273928906970727,
          -0.6484514233815363,
          1.2933196429677625,
          0.15955467005039792,
          -1.4435626349802602,
          0.4894758579829374,
          1.0182449643440812,
          0.20611253270759147,
          -2.0742934113938274,
          0.7261227044394204,
          -0.9894261852623139,
          0.43174655067239753,
          0.23595597214069036,
          -0.6426900200374779,
          -0.2730663543060331,
          -0.5447654206263307,
          1.47959887301995,
          -2.035056494382499,
          0.39249244408448947,
          -0.444491041437767,
          0.3489655282637713,
          0.6535654394632688,
          -1.1795812678279245,
          -0.5415330568975902,
          -0.21101973071373986,
          -0.12649315801693273,
          0.5722210235128772,
          1.4461631141087352,
          0.6147519214766572,
          0.526200192436856,
          1.3598304924670988,
          0.253727520804128,
          0.9508513571872201,
          -0.33096300255923383,
          0.6422459455412688,
          -1.182840275342704,
          0.7776106033058436,
          0.7251921984089881,
          -0.8992954636081043,
          -0.2659385388815195,
          1.8702168449694738,
          -0.7927214636265612,
          1.3740151971820014,
          0.7803432925385417,
          0.4547995097119779,
          -1.9189864701064838,
          0.742221013929439,
          -1.911585229275281
         ]
        },
        {
         "boxpoints": false,
         "line": {
          "width": 1.3
         },
         "marker": {
          "color": "rgba(50, 171, 96, 1.0)"
         },
         "name": "C",
         "orientation": "v",
         "type": "box",
         "y": [
          -0.2987894811036943,
          0.2225901646326759,
          0.4471936317963176,
          1.2814747332123524,
          -0.9552418673241627,
          2.060801706420197,
          -0.8797151015943191,
          -0.192546107039639,
          -0.46354470304234485,
          0.3305274097754041,
          0.5916004496576012,
          -1.375880586782106,
          -0.9207913336047217,
          0.14465223796691287,
          -0.2061086066280525,
          1.2674441883745204,
          0.20614590633728108,
          0.9052633794840721,
          0.9239174387714885,
          -0.7714672768665449,
          -0.1434020969717301,
          0.5585111397671629,
          1.0195780223148523,
          -0.07894797858200932,
          -1.8733880676435746,
          -0.41003749605034523,
          -0.3026443579727646,
          1.2821863127444708,
          -0.5565980490656567,
          -0.145248179737183,
          -1.8170013757109285,
          -1.1665076712559546,
          0.21431642850883828,
          -0.082021984380936,
          1.724281178128171,
          0.24318452448370406,
          2.0063449440240135,
          3.181650342247564,
          -0.17756112300209012,
          0.48670781257785706,
          -0.2216332574732512,
          0.9764349569522697,
          -1.2279952664572942,
          -0.7322244940565237,
          0.7038773844468086,
          -0.9825239295840146,
          0.6564170609631838,
          0.47320941675032435,
          -0.37464334670458405,
          -0.4532774880173421,
          -1.706366667605841,
          -0.4222680391946654,
          -0.29592653322574575,
          -0.20714821645298415,
          -0.8204968071147439,
          -1.9996417589002398,
          2.166104317282843,
          -0.022306212806870503,
          0.4551462595429836,
          -0.2979940515821381,
          -1.4818824407457283,
          -0.4780354334268793,
          0.41716212088670035,
          1.3046645507432006,
          -1.0411800096722719,
          -1.5130830164682152,
          -1.7434667903682146,
          -0.532914484831036,
          0.7692315168817534,
          0.7019656636207262,
          2.0538410221083065,
          1.8461172032230562,
          -0.45845633020735316,
          1.2562126486282355,
          -0.7463729527436335,
          0.07580553003946819,
          -0.8516574150018253,
          -0.370335400938513,
          0.2152695059196037,
          -1.8848171565320522,
          -0.10570196660186361,
          -0.2505068644384753,
          -0.5105942242224086,
          0.6139344751993816,
          -0.4737087543127613,
          -0.510188215541777,
          -1.3732479220251184,
          0.2767888416064128,
          -0.757193036837109,
          -0.8614603832931432,
          -0.557865585916297,
          0.9146575558097446,
          -1.5926850872805938,
          -0.8666455086184387,
          -0.536189391669879,
          -0.1342509107682199,
          0.7126084653006022,
          0.33245708912809635,
          -0.45858295913384756,
          -1.9653719811077877
         ]
        },
        {
         "boxpoints": false,
         "line": {
          "width": 1.3
         },
         "marker": {
          "color": "rgba(128, 0, 128, 1.0)"
         },
         "name": "D",
         "orientation": "v",
         "type": "box",
         "y": [
          1.2194998401815422,
          1.4913690042868526,
          0.5866339684329975,
          -0.8981621815400568,
          0.10167850804286419,
          -0.028381903162272983,
          -0.797979607898795,
          -0.22865948209205025,
          0.9532435168779463,
          0.93315048531111,
          1.4923707943986648,
          -0.5725789117978047,
          -0.2992674939912139,
          0.235709350300886,
          0.8351999504395523,
          0.5499302620579634,
          0.39304119881731764,
          0.7754212333815512,
          -0.09787901601362829,
          -0.23018426089024807,
          -0.46580940392060394,
          -0.6415912919024988,
          1.6379790384483537,
          1.554032022298955,
          0.45549533009842275,
          1.0031262484513215,
          1.3744089459600939,
          -1.3291581693843357,
          1.08096648864211,
          0.9019015033679907,
          -0.3592830930551365,
          -1.1249523410327373,
          -1.5875157299559755,
          -2.1062198846429347,
          0.025986401000826907,
          1.107055110853875,
          -0.40251434139730535,
          0.7445831803562862,
          0.129146395087142,
          -0.6820336215180516,
          1.153890938085677,
          -0.018211398924067236,
          -0.10426390036368663,
          1.1370735505214558,
          -1.688281763490834,
          0.1784278202773879,
          -0.04980231182279294,
          0.08938089451133488,
          -0.9210276455703743,
          0.3738223326718488,
          -0.1225170591280318,
          -2.157678449864731,
          -1.466295277308384,
          -1.2590354402311885,
          -1.714943627485368,
          0.09930544733285096,
          0.44262751580901993,
          0.11698678890919124,
          1.23977238365395,
          0.39026593502045837,
          -0.8269971459787546,
          -2.002139406375383,
          1.4340395753856423,
          -1.4074271264849452,
          -0.8535461491029694,
          -0.24604970837605986,
          -0.5921374277366798,
          0.03455704122587057,
          1.2854317626397362,
          -0.8475504293300136,
          0.7367096866032476,
          0.771477834869765,
          1.2046137179958973,
          -0.06032608825021621,
          1.3807155679355227,
          -0.5888565686343111,
          -0.3999907165483855,
          -1.8003727732432382,
          0.41430467294995027,
          0.30757970826674325,
          -0.24598597165186836,
          -1.2979224753787815,
          -1.0890247707256264,
          -1.481762559002663,
          0.4368807885545567,
          -0.24700045581395563,
          -2.2639443216507162,
          -0.6277351372321153,
          0.3524778826059403,
          0.042900047732522026,
          0.7032593947332072,
          1.0024635365061323,
          1.041521153522514,
          0.04485887562230921,
          -1.1001807578663265,
          0.26350896070320257,
          -0.6103259308751904,
          -2.2411846779712126,
          0.45973392781672434,
          -1.3772481632190896
         ]
        }
       ],
       "layout": {
        "legend": {
         "bgcolor": "#F5F6F9",
         "font": {
          "color": "#4D5663"
         }
        },
        "paper_bgcolor": "#F5F6F9",
        "plot_bgcolor": "#F5F6F9",
        "template": {
         "data": {
          "bar": [
           {
            "error_x": {
             "color": "#2a3f5f"
            },
            "error_y": {
             "color": "#2a3f5f"
            },
            "marker": {
             "line": {
              "color": "#E5ECF6",
              "width": 0.5
             },
             "pattern": {
              "fillmode": "overlay",
              "size": 10,
              "solidity": 0.2
             }
            },
            "type": "bar"
           }
          ],
          "barpolar": [
           {
            "marker": {
             "line": {
              "color": "#E5ECF6",
              "width": 0.5
             },
             "pattern": {
              "fillmode": "overlay",
              "size": 10,
              "solidity": 0.2
             }
            },
            "type": "barpolar"
           }
          ],
          "carpet": [
           {
            "aaxis": {
             "endlinecolor": "#2a3f5f",
             "gridcolor": "white",
             "linecolor": "white",
             "minorgridcolor": "white",
             "startlinecolor": "#2a3f5f"
            },
            "baxis": {
             "endlinecolor": "#2a3f5f",
             "gridcolor": "white",
             "linecolor": "white",
             "minorgridcolor": "white",
             "startlinecolor": "#2a3f5f"
            },
            "type": "carpet"
           }
          ],
          "choropleth": [
           {
            "colorbar": {
             "outlinewidth": 0,
             "ticks": ""
            },
            "type": "choropleth"
           }
          ],
          "contour": [
           {
            "colorbar": {
             "outlinewidth": 0,
             "ticks": ""
            },
            "colorscale": [
             [
              0,
              "#0d0887"
             ],
             [
              0.1111111111111111,
              "#46039f"
             ],
             [
              0.2222222222222222,
              "#7201a8"
             ],
             [
              0.3333333333333333,
              "#9c179e"
             ],
             [
              0.4444444444444444,
              "#bd3786"
             ],
             [
              0.5555555555555556,
              "#d8576b"
             ],
             [
              0.6666666666666666,
              "#ed7953"
             ],
             [
              0.7777777777777778,
              "#fb9f3a"
             ],
             [
              0.8888888888888888,
              "#fdca26"
             ],
             [
              1,
              "#f0f921"
             ]
            ],
            "type": "contour"
           }
          ],
          "contourcarpet": [
           {
            "colorbar": {
             "outlinewidth": 0,
             "ticks": ""
            },
            "type": "contourcarpet"
           }
          ],
          "heatmap": [
           {
            "colorbar": {
             "outlinewidth": 0,
             "ticks": ""
            },
            "colorscale": [
             [
              0,
              "#0d0887"
             ],
             [
              0.1111111111111111,
              "#46039f"
             ],
             [
              0.2222222222222222,
              "#7201a8"
             ],
             [
              0.3333333333333333,
              "#9c179e"
             ],
             [
              0.4444444444444444,
              "#bd3786"
             ],
             [
              0.5555555555555556,
              "#d8576b"
             ],
             [
              0.6666666666666666,
              "#ed7953"
             ],
             [
              0.7777777777777778,
              "#fb9f3a"
             ],
             [
              0.8888888888888888,
              "#fdca26"
             ],
             [
              1,
              "#f0f921"
             ]
            ],
            "type": "heatmap"
           }
          ],
          "heatmapgl": [
           {
            "colorbar": {
             "outlinewidth": 0,
             "ticks": ""
            },
            "colorscale": [
             [
              0,
              "#0d0887"
             ],
             [
              0.1111111111111111,
              "#46039f"
             ],
             [
              0.2222222222222222,
              "#7201a8"
             ],
             [
              0.3333333333333333,
              "#9c179e"
             ],
             [
              0.4444444444444444,
              "#bd3786"
             ],
             [
              0.5555555555555556,
              "#d8576b"
             ],
             [
              0.6666666666666666,
              "#ed7953"
             ],
             [
              0.7777777777777778,
              "#fb9f3a"
             ],
             [
              0.8888888888888888,
              "#fdca26"
             ],
             [
              1,
              "#f0f921"
             ]
            ],
            "type": "heatmapgl"
           }
          ],
          "histogram": [
           {
            "marker": {
             "pattern": {
              "fillmode": "overlay",
              "size": 10,
              "solidity": 0.2
             }
            },
            "type": "histogram"
           }
          ],
          "histogram2d": [
           {
            "colorbar": {
             "outlinewidth": 0,
             "ticks": ""
            },
            "colorscale": [
             [
              0,
              "#0d0887"
             ],
             [
              0.1111111111111111,
              "#46039f"
             ],
             [
              0.2222222222222222,
              "#7201a8"
             ],
             [
              0.3333333333333333,
              "#9c179e"
             ],
             [
              0.4444444444444444,
              "#bd3786"
             ],
             [
              0.5555555555555556,
              "#d8576b"
             ],
             [
              0.6666666666666666,
              "#ed7953"
             ],
             [
              0.7777777777777778,
              "#fb9f3a"
             ],
             [
              0.8888888888888888,
              "#fdca26"
             ],
             [
              1,
              "#f0f921"
             ]
            ],
            "type": "histogram2d"
           }
          ],
          "histogram2dcontour": [
           {
            "colorbar": {
             "outlinewidth": 0,
             "ticks": ""
            },
            "colorscale": [
             [
              0,
              "#0d0887"
             ],
             [
              0.1111111111111111,
              "#46039f"
             ],
             [
              0.2222222222222222,
              "#7201a8"
             ],
             [
              0.3333333333333333,
              "#9c179e"
             ],
             [
              0.4444444444444444,
              "#bd3786"
             ],
             [
              0.5555555555555556,
              "#d8576b"
             ],
             [
              0.6666666666666666,
              "#ed7953"
             ],
             [
              0.7777777777777778,
              "#fb9f3a"
             ],
             [
              0.8888888888888888,
              "#fdca26"
             ],
             [
              1,
              "#f0f921"
             ]
            ],
            "type": "histogram2dcontour"
           }
          ],
          "mesh3d": [
           {
            "colorbar": {
             "outlinewidth": 0,
             "ticks": ""
            },
            "type": "mesh3d"
           }
          ],
          "parcoords": [
           {
            "line": {
             "colorbar": {
              "outlinewidth": 0,
              "ticks": ""
             }
            },
            "type": "parcoords"
           }
          ],
          "pie": [
           {
            "automargin": true,
            "type": "pie"
           }
          ],
          "scatter": [
           {
            "marker": {
             "colorbar": {
              "outlinewidth": 0,
              "ticks": ""
             }
            },
            "type": "scatter"
           }
          ],
          "scatter3d": [
           {
            "line": {
             "colorbar": {
              "outlinewidth": 0,
              "ticks": ""
             }
            },
            "marker": {
             "colorbar": {
              "outlinewidth": 0,
              "ticks": ""
             }
            },
            "type": "scatter3d"
           }
          ],
          "scattercarpet": [
           {
            "marker": {
             "colorbar": {
              "outlinewidth": 0,
              "ticks": ""
             }
            },
            "type": "scattercarpet"
           }
          ],
          "scattergeo": [
           {
            "marker": {
             "colorbar": {
              "outlinewidth": 0,
              "ticks": ""
             }
            },
            "type": "scattergeo"
           }
          ],
          "scattergl": [
           {
            "marker": {
             "colorbar": {
              "outlinewidth": 0,
              "ticks": ""
             }
            },
            "type": "scattergl"
           }
          ],
          "scattermapbox": [
           {
            "marker": {
             "colorbar": {
              "outlinewidth": 0,
              "ticks": ""
             }
            },
            "type": "scattermapbox"
           }
          ],
          "scatterpolar": [
           {
            "marker": {
             "colorbar": {
              "outlinewidth": 0,
              "ticks": ""
             }
            },
            "type": "scatterpolar"
           }
          ],
          "scatterpolargl": [
           {
            "marker": {
             "colorbar": {
              "outlinewidth": 0,
              "ticks": ""
             }
            },
            "type": "scatterpolargl"
           }
          ],
          "scatterternary": [
           {
            "marker": {
             "colorbar": {
              "outlinewidth": 0,
              "ticks": ""
             }
            },
            "type": "scatterternary"
           }
          ],
          "surface": [
           {
            "colorbar": {
             "outlinewidth": 0,
             "ticks": ""
            },
            "colorscale": [
             [
              0,
              "#0d0887"
             ],
             [
              0.1111111111111111,
              "#46039f"
             ],
             [
              0.2222222222222222,
              "#7201a8"
             ],
             [
              0.3333333333333333,
              "#9c179e"
             ],
             [
              0.4444444444444444,
              "#bd3786"
             ],
             [
              0.5555555555555556,
              "#d8576b"
             ],
             [
              0.6666666666666666,
              "#ed7953"
             ],
             [
              0.7777777777777778,
              "#fb9f3a"
             ],
             [
              0.8888888888888888,
              "#fdca26"
             ],
             [
              1,
              "#f0f921"
             ]
            ],
            "type": "surface"
           }
          ],
          "table": [
           {
            "cells": {
             "fill": {
              "color": "#EBF0F8"
             },
             "line": {
              "color": "white"
             }
            },
            "header": {
             "fill": {
              "color": "#C8D4E3"
             },
             "line": {
              "color": "white"
             }
            },
            "type": "table"
           }
          ]
         },
         "layout": {
          "annotationdefaults": {
           "arrowcolor": "#2a3f5f",
           "arrowhead": 0,
           "arrowwidth": 1
          },
          "autotypenumbers": "strict",
          "coloraxis": {
           "colorbar": {
            "outlinewidth": 0,
            "ticks": ""
           }
          },
          "colorscale": {
           "diverging": [
            [
             0,
             "#8e0152"
            ],
            [
             0.1,
             "#c51b7d"
            ],
            [
             0.2,
             "#de77ae"
            ],
            [
             0.3,
             "#f1b6da"
            ],
            [
             0.4,
             "#fde0ef"
            ],
            [
             0.5,
             "#f7f7f7"
            ],
            [
             0.6,
             "#e6f5d0"
            ],
            [
             0.7,
             "#b8e186"
            ],
            [
             0.8,
             "#7fbc41"
            ],
            [
             0.9,
             "#4d9221"
            ],
            [
             1,
             "#276419"
            ]
           ],
           "sequential": [
            [
             0,
             "#0d0887"
            ],
            [
             0.1111111111111111,
             "#46039f"
            ],
            [
             0.2222222222222222,
             "#7201a8"
            ],
            [
             0.3333333333333333,
             "#9c179e"
            ],
            [
             0.4444444444444444,
             "#bd3786"
            ],
            [
             0.5555555555555556,
             "#d8576b"
            ],
            [
             0.6666666666666666,
             "#ed7953"
            ],
            [
             0.7777777777777778,
             "#fb9f3a"
            ],
            [
             0.8888888888888888,
             "#fdca26"
            ],
            [
             1,
             "#f0f921"
            ]
           ],
           "sequentialminus": [
            [
             0,
             "#0d0887"
            ],
            [
             0.1111111111111111,
             "#46039f"
            ],
            [
             0.2222222222222222,
             "#7201a8"
            ],
            [
             0.3333333333333333,
             "#9c179e"
            ],
            [
             0.4444444444444444,
             "#bd3786"
            ],
            [
             0.5555555555555556,
             "#d8576b"
            ],
            [
             0.6666666666666666,
             "#ed7953"
            ],
            [
             0.7777777777777778,
             "#fb9f3a"
            ],
            [
             0.8888888888888888,
             "#fdca26"
            ],
            [
             1,
             "#f0f921"
            ]
           ]
          },
          "colorway": [
           "#636efa",
           "#EF553B",
           "#00cc96",
           "#ab63fa",
           "#FFA15A",
           "#19d3f3",
           "#FF6692",
           "#B6E880",
           "#FF97FF",
           "#FECB52"
          ],
          "font": {
           "color": "#2a3f5f"
          },
          "geo": {
           "bgcolor": "white",
           "lakecolor": "white",
           "landcolor": "#E5ECF6",
           "showlakes": true,
           "showland": true,
           "subunitcolor": "white"
          },
          "hoverlabel": {
           "align": "left"
          },
          "hovermode": "closest",
          "mapbox": {
           "style": "light"
          },
          "paper_bgcolor": "white",
          "plot_bgcolor": "#E5ECF6",
          "polar": {
           "angularaxis": {
            "gridcolor": "white",
            "linecolor": "white",
            "ticks": ""
           },
           "bgcolor": "#E5ECF6",
           "radialaxis": {
            "gridcolor": "white",
            "linecolor": "white",
            "ticks": ""
           }
          },
          "scene": {
           "xaxis": {
            "backgroundcolor": "#E5ECF6",
            "gridcolor": "white",
            "gridwidth": 2,
            "linecolor": "white",
            "showbackground": true,
            "ticks": "",
            "zerolinecolor": "white"
           },
           "yaxis": {
            "backgroundcolor": "#E5ECF6",
            "gridcolor": "white",
            "gridwidth": 2,
            "linecolor": "white",
            "showbackground": true,
            "ticks": "",
            "zerolinecolor": "white"
           },
           "zaxis": {
            "backgroundcolor": "#E5ECF6",
            "gridcolor": "white",
            "gridwidth": 2,
            "linecolor": "white",
            "showbackground": true,
            "ticks": "",
            "zerolinecolor": "white"
           }
          },
          "shapedefaults": {
           "line": {
            "color": "#2a3f5f"
           }
          },
          "ternary": {
           "aaxis": {
            "gridcolor": "white",
            "linecolor": "white",
            "ticks": ""
           },
           "baxis": {
            "gridcolor": "white",
            "linecolor": "white",
            "ticks": ""
           },
           "bgcolor": "#E5ECF6",
           "caxis": {
            "gridcolor": "white",
            "linecolor": "white",
            "ticks": ""
           }
          },
          "title": {
           "x": 0.05
          },
          "xaxis": {
           "automargin": true,
           "gridcolor": "white",
           "linecolor": "white",
           "ticks": "",
           "title": {
            "standoff": 15
           },
           "zerolinecolor": "white",
           "zerolinewidth": 2
          },
          "yaxis": {
           "automargin": true,
           "gridcolor": "white",
           "linecolor": "white",
           "ticks": "",
           "title": {
            "standoff": 15
           },
           "zerolinecolor": "white",
           "zerolinewidth": 2
          }
         }
        },
        "title": {
         "font": {
          "color": "#4D5663"
         }
        },
        "xaxis": {
         "gridcolor": "#E1E5ED",
         "showgrid": true,
         "tickfont": {
          "color": "#4D5663"
         },
         "title": {
          "font": {
           "color": "#4D5663"
          },
          "text": ""
         },
         "zerolinecolor": "#E1E5ED"
        },
        "yaxis": {
         "gridcolor": "#E1E5ED",
         "showgrid": true,
         "tickfont": {
          "color": "#4D5663"
         },
         "title": {
          "font": {
           "color": "#4D5663"
          },
          "text": ""
         },
         "zerolinecolor": "#E1E5ED"
        }
       }
      },
      "text/html": [
       "<div>                            <div id=\"84fe5089-6ec8-4626-9817-d6918098413f\" class=\"plotly-graph-div\" style=\"height:525px; width:100%;\"></div>            <script type=\"text/javascript\">                require([\"plotly\"], function(Plotly) {                    window.PLOTLYENV=window.PLOTLYENV || {};\n",
       "                    window.PLOTLYENV.BASE_URL='https://plot.ly';                                    if (document.getElementById(\"84fe5089-6ec8-4626-9817-d6918098413f\")) {                    Plotly.newPlot(                        \"84fe5089-6ec8-4626-9817-d6918098413f\",                        [{\"boxpoints\":false,\"line\":{\"width\":1.3},\"marker\":{\"color\":\"rgba(255, 153, 51, 1.0)\"},\"name\":\"A\",\"orientation\":\"v\",\"y\":[-1.3813706255062617,0.8065087300796255,0.3418651186982201,-0.3323817128521051,2.1231407918626863,-1.1202630656804664,-0.0838679423613188,-0.2323656787814356,-0.4448817191163479,-0.06875353456729144,-0.049574301014722454,2.210801449350267,-1.1063203713174574,-0.6063103665598676,-0.7011439170998087,-0.45395970306502087,2.766671816092905,0.5699573520404393,0.8808174816908407,1.3800745892046544,-0.1603764834931205,-1.0622118661110387,-1.562271295381666,-0.57761248853128,-0.8179651173239639,1.3851094626150695,1.419717830017316,1.490032752768479,0.4839879897208073,2.846600051376337,-0.19327060595834927,0.10695835574762955,-1.2772804565698301,0.1457265969364036,0.4980186780688667,0.37059896130240544,-1.7873621950489733,-0.8815719530555712,-1.0904553304750297,0.31263785194698335,-1.7657329345102317,-1.6644896212258584,-0.9985986717447229,-5.7910567175379e-05,-1.331707814385081,0.1134252366886889,0.759414790394926,-0.0599661947972707,0.6906859639390763,0.354321372436767,-1.1380592776587406,-0.9992273007320776,0.08349219406595834,1.4708225882710029,2.2572721833274625,0.7709653112317927,-0.23877889678292707,1.3451420206002938,-0.16746439868244084,0.5699618681293717,-0.3708267121936692,-1.8703385788607723,0.9215350628981622,-2.3333905191830175,0.43391561874284323,-0.7463278263388601,0.4737891000334945,1.0920180090401317,1.0325775036488705,-0.6106630768648215,-0.7382156222692969,-0.9584583679324162,-2.7421379622719124,-1.7506037789263569,0.31966563419627686,-0.7892062316286367,0.448996320741698,0.21294295276889807,0.9160624812720353,-0.28604664133610624,0.30985990443739675,-0.46754536872788194,-0.11610969135353229,0.48391664650310773,-0.520395981311585,1.1541095181196932,-0.45352152882079416,-0.05789549270731017,-1.2919838016797072,-0.3090001479193332,0.569241312546446,-0.934322907187918,0.3443265950499941,0.1456857429217968,-0.16409306709076685,0.5505366687670102,-1.2457267972453103,2.1972545707069133,-1.083598726767268,-2.39275691984455],\"type\":\"box\"},{\"boxpoints\":false,\"line\":{\"width\":1.3},\"marker\":{\"color\":\"rgba(55, 128, 191, 1.0)\"},\"name\":\"B\",\"orientation\":\"v\",\"y\":[0.39408508751691174,0.5597812290844585,1.1872882937316844,0.5261069177621385,0.8324150081424387,2.0229924948473155,0.8016952099182463,-0.27250856543923707,0.5991969917690078,0.012408271151590967,1.498575989045239,-1.5252754697159996,0.14066922828746695,0.2001614896562864,0.7393141086675633,0.5218190410445782,-0.14099631099514778,0.746320335451686,0.2882068249559392,-0.6261179226215818,-1.3453418809785471,0.4485083513661857,-0.30337254173453476,-0.2573198650134465,1.8340919440261283,-1.723238043505735,2.2560989316205946,0.08307241884321633,-0.17902782356976163,0.3746919695015312,0.6907935307424771,-1.9052738453037013,-0.6944962604391867,-0.9560653935208608,-0.1260645549119327,-0.2820678692564736,-0.2899959469285368,-0.8697374037589303,1.4866174930332687,-0.358924788703825,-1.5454270107479176,-1.526480268544885,-0.9045299027694891,-0.49427429863164674,-0.09974524282445445,0.9496340986727977,-0.8322150144236892,-0.8063792658634675,1.312605694412341,0.1685132896260088,-1.4139505639110368,-0.4482508192546252,-0.5273928906970727,-0.6484514233815363,1.2933196429677625,0.15955467005039792,-1.4435626349802602,0.4894758579829374,1.0182449643440812,0.20611253270759147,-2.0742934113938274,0.7261227044394204,-0.9894261852623139,0.43174655067239753,0.23595597214069036,-0.6426900200374779,-0.2730663543060331,-0.5447654206263307,1.47959887301995,-2.035056494382499,0.39249244408448947,-0.444491041437767,0.3489655282637713,0.6535654394632688,-1.1795812678279245,-0.5415330568975902,-0.21101973071373986,-0.12649315801693273,0.5722210235128772,1.4461631141087352,0.6147519214766572,0.526200192436856,1.3598304924670988,0.253727520804128,0.9508513571872201,-0.33096300255923383,0.6422459455412688,-1.182840275342704,0.7776106033058436,0.7251921984089881,-0.8992954636081043,-0.2659385388815195,1.8702168449694738,-0.7927214636265612,1.3740151971820014,0.7803432925385417,0.4547995097119779,-1.9189864701064838,0.742221013929439,-1.911585229275281],\"type\":\"box\"},{\"boxpoints\":false,\"line\":{\"width\":1.3},\"marker\":{\"color\":\"rgba(50, 171, 96, 1.0)\"},\"name\":\"C\",\"orientation\":\"v\",\"y\":[-0.2987894811036943,0.2225901646326759,0.4471936317963176,1.2814747332123524,-0.9552418673241627,2.060801706420197,-0.8797151015943191,-0.192546107039639,-0.46354470304234485,0.3305274097754041,0.5916004496576012,-1.375880586782106,-0.9207913336047217,0.14465223796691287,-0.2061086066280525,1.2674441883745204,0.20614590633728108,0.9052633794840721,0.9239174387714885,-0.7714672768665449,-0.1434020969717301,0.5585111397671629,1.0195780223148523,-0.07894797858200932,-1.8733880676435746,-0.41003749605034523,-0.3026443579727646,1.2821863127444708,-0.5565980490656567,-0.145248179737183,-1.8170013757109285,-1.1665076712559546,0.21431642850883828,-0.082021984380936,1.724281178128171,0.24318452448370406,2.0063449440240135,3.181650342247564,-0.17756112300209012,0.48670781257785706,-0.2216332574732512,0.9764349569522697,-1.2279952664572942,-0.7322244940565237,0.7038773844468086,-0.9825239295840146,0.6564170609631838,0.47320941675032435,-0.37464334670458405,-0.4532774880173421,-1.706366667605841,-0.4222680391946654,-0.29592653322574575,-0.20714821645298415,-0.8204968071147439,-1.9996417589002398,2.166104317282843,-0.022306212806870503,0.4551462595429836,-0.2979940515821381,-1.4818824407457283,-0.4780354334268793,0.41716212088670035,1.3046645507432006,-1.0411800096722719,-1.5130830164682152,-1.7434667903682146,-0.532914484831036,0.7692315168817534,0.7019656636207262,2.0538410221083065,1.8461172032230562,-0.45845633020735316,1.2562126486282355,-0.7463729527436335,0.07580553003946819,-0.8516574150018253,-0.370335400938513,0.2152695059196037,-1.8848171565320522,-0.10570196660186361,-0.2505068644384753,-0.5105942242224086,0.6139344751993816,-0.4737087543127613,-0.510188215541777,-1.3732479220251184,0.2767888416064128,-0.757193036837109,-0.8614603832931432,-0.557865585916297,0.9146575558097446,-1.5926850872805938,-0.8666455086184387,-0.536189391669879,-0.1342509107682199,0.7126084653006022,0.33245708912809635,-0.45858295913384756,-1.9653719811077877],\"type\":\"box\"},{\"boxpoints\":false,\"line\":{\"width\":1.3},\"marker\":{\"color\":\"rgba(128, 0, 128, 1.0)\"},\"name\":\"D\",\"orientation\":\"v\",\"y\":[1.2194998401815422,1.4913690042868526,0.5866339684329975,-0.8981621815400568,0.10167850804286419,-0.028381903162272983,-0.797979607898795,-0.22865948209205025,0.9532435168779463,0.93315048531111,1.4923707943986648,-0.5725789117978047,-0.2992674939912139,0.235709350300886,0.8351999504395523,0.5499302620579634,0.39304119881731764,0.7754212333815512,-0.09787901601362829,-0.23018426089024807,-0.46580940392060394,-0.6415912919024988,1.6379790384483537,1.554032022298955,0.45549533009842275,1.0031262484513215,1.3744089459600939,-1.3291581693843357,1.08096648864211,0.9019015033679907,-0.3592830930551365,-1.1249523410327373,-1.5875157299559755,-2.1062198846429347,0.025986401000826907,1.107055110853875,-0.40251434139730535,0.7445831803562862,0.129146395087142,-0.6820336215180516,1.153890938085677,-0.018211398924067236,-0.10426390036368663,1.1370735505214558,-1.688281763490834,0.1784278202773879,-0.04980231182279294,0.08938089451133488,-0.9210276455703743,0.3738223326718488,-0.1225170591280318,-2.157678449864731,-1.466295277308384,-1.2590354402311885,-1.714943627485368,0.09930544733285096,0.44262751580901993,0.11698678890919124,1.23977238365395,0.39026593502045837,-0.8269971459787546,-2.002139406375383,1.4340395753856423,-1.4074271264849452,-0.8535461491029694,-0.24604970837605986,-0.5921374277366798,0.03455704122587057,1.2854317626397362,-0.8475504293300136,0.7367096866032476,0.771477834869765,1.2046137179958973,-0.06032608825021621,1.3807155679355227,-0.5888565686343111,-0.3999907165483855,-1.8003727732432382,0.41430467294995027,0.30757970826674325,-0.24598597165186836,-1.2979224753787815,-1.0890247707256264,-1.481762559002663,0.4368807885545567,-0.24700045581395563,-2.2639443216507162,-0.6277351372321153,0.3524778826059403,0.042900047732522026,0.7032593947332072,1.0024635365061323,1.041521153522514,0.04485887562230921,-1.1001807578663265,0.26350896070320257,-0.6103259308751904,-2.2411846779712126,0.45973392781672434,-1.3772481632190896],\"type\":\"box\"}],                        {\"legend\":{\"bgcolor\":\"#F5F6F9\",\"font\":{\"color\":\"#4D5663\"}},\"paper_bgcolor\":\"#F5F6F9\",\"plot_bgcolor\":\"#F5F6F9\",\"template\":{\"data\":{\"barpolar\":[{\"marker\":{\"line\":{\"color\":\"#E5ECF6\",\"width\":0.5},\"pattern\":{\"fillmode\":\"overlay\",\"size\":10,\"solidity\":0.2}},\"type\":\"barpolar\"}],\"bar\":[{\"error_x\":{\"color\":\"#2a3f5f\"},\"error_y\":{\"color\":\"#2a3f5f\"},\"marker\":{\"line\":{\"color\":\"#E5ECF6\",\"width\":0.5},\"pattern\":{\"fillmode\":\"overlay\",\"size\":10,\"solidity\":0.2}},\"type\":\"bar\"}],\"carpet\":[{\"aaxis\":{\"endlinecolor\":\"#2a3f5f\",\"gridcolor\":\"white\",\"linecolor\":\"white\",\"minorgridcolor\":\"white\",\"startlinecolor\":\"#2a3f5f\"},\"baxis\":{\"endlinecolor\":\"#2a3f5f\",\"gridcolor\":\"white\",\"linecolor\":\"white\",\"minorgridcolor\":\"white\",\"startlinecolor\":\"#2a3f5f\"},\"type\":\"carpet\"}],\"choropleth\":[{\"colorbar\":{\"outlinewidth\":0,\"ticks\":\"\"},\"type\":\"choropleth\"}],\"contourcarpet\":[{\"colorbar\":{\"outlinewidth\":0,\"ticks\":\"\"},\"type\":\"contourcarpet\"}],\"contour\":[{\"colorbar\":{\"outlinewidth\":0,\"ticks\":\"\"},\"colorscale\":[[0.0,\"#0d0887\"],[0.1111111111111111,\"#46039f\"],[0.2222222222222222,\"#7201a8\"],[0.3333333333333333,\"#9c179e\"],[0.4444444444444444,\"#bd3786\"],[0.5555555555555556,\"#d8576b\"],[0.6666666666666666,\"#ed7953\"],[0.7777777777777778,\"#fb9f3a\"],[0.8888888888888888,\"#fdca26\"],[1.0,\"#f0f921\"]],\"type\":\"contour\"}],\"heatmapgl\":[{\"colorbar\":{\"outlinewidth\":0,\"ticks\":\"\"},\"colorscale\":[[0.0,\"#0d0887\"],[0.1111111111111111,\"#46039f\"],[0.2222222222222222,\"#7201a8\"],[0.3333333333333333,\"#9c179e\"],[0.4444444444444444,\"#bd3786\"],[0.5555555555555556,\"#d8576b\"],[0.6666666666666666,\"#ed7953\"],[0.7777777777777778,\"#fb9f3a\"],[0.8888888888888888,\"#fdca26\"],[1.0,\"#f0f921\"]],\"type\":\"heatmapgl\"}],\"heatmap\":[{\"colorbar\":{\"outlinewidth\":0,\"ticks\":\"\"},\"colorscale\":[[0.0,\"#0d0887\"],[0.1111111111111111,\"#46039f\"],[0.2222222222222222,\"#7201a8\"],[0.3333333333333333,\"#9c179e\"],[0.4444444444444444,\"#bd3786\"],[0.5555555555555556,\"#d8576b\"],[0.6666666666666666,\"#ed7953\"],[0.7777777777777778,\"#fb9f3a\"],[0.8888888888888888,\"#fdca26\"],[1.0,\"#f0f921\"]],\"type\":\"heatmap\"}],\"histogram2dcontour\":[{\"colorbar\":{\"outlinewidth\":0,\"ticks\":\"\"},\"colorscale\":[[0.0,\"#0d0887\"],[0.1111111111111111,\"#46039f\"],[0.2222222222222222,\"#7201a8\"],[0.3333333333333333,\"#9c179e\"],[0.4444444444444444,\"#bd3786\"],[0.5555555555555556,\"#d8576b\"],[0.6666666666666666,\"#ed7953\"],[0.7777777777777778,\"#fb9f3a\"],[0.8888888888888888,\"#fdca26\"],[1.0,\"#f0f921\"]],\"type\":\"histogram2dcontour\"}],\"histogram2d\":[{\"colorbar\":{\"outlinewidth\":0,\"ticks\":\"\"},\"colorscale\":[[0.0,\"#0d0887\"],[0.1111111111111111,\"#46039f\"],[0.2222222222222222,\"#7201a8\"],[0.3333333333333333,\"#9c179e\"],[0.4444444444444444,\"#bd3786\"],[0.5555555555555556,\"#d8576b\"],[0.6666666666666666,\"#ed7953\"],[0.7777777777777778,\"#fb9f3a\"],[0.8888888888888888,\"#fdca26\"],[1.0,\"#f0f921\"]],\"type\":\"histogram2d\"}],\"histogram\":[{\"marker\":{\"pattern\":{\"fillmode\":\"overlay\",\"size\":10,\"solidity\":0.2}},\"type\":\"histogram\"}],\"mesh3d\":[{\"colorbar\":{\"outlinewidth\":0,\"ticks\":\"\"},\"type\":\"mesh3d\"}],\"parcoords\":[{\"line\":{\"colorbar\":{\"outlinewidth\":0,\"ticks\":\"\"}},\"type\":\"parcoords\"}],\"pie\":[{\"automargin\":true,\"type\":\"pie\"}],\"scatter3d\":[{\"line\":{\"colorbar\":{\"outlinewidth\":0,\"ticks\":\"\"}},\"marker\":{\"colorbar\":{\"outlinewidth\":0,\"ticks\":\"\"}},\"type\":\"scatter3d\"}],\"scattercarpet\":[{\"marker\":{\"colorbar\":{\"outlinewidth\":0,\"ticks\":\"\"}},\"type\":\"scattercarpet\"}],\"scattergeo\":[{\"marker\":{\"colorbar\":{\"outlinewidth\":0,\"ticks\":\"\"}},\"type\":\"scattergeo\"}],\"scattergl\":[{\"marker\":{\"colorbar\":{\"outlinewidth\":0,\"ticks\":\"\"}},\"type\":\"scattergl\"}],\"scattermapbox\":[{\"marker\":{\"colorbar\":{\"outlinewidth\":0,\"ticks\":\"\"}},\"type\":\"scattermapbox\"}],\"scatterpolargl\":[{\"marker\":{\"colorbar\":{\"outlinewidth\":0,\"ticks\":\"\"}},\"type\":\"scatterpolargl\"}],\"scatterpolar\":[{\"marker\":{\"colorbar\":{\"outlinewidth\":0,\"ticks\":\"\"}},\"type\":\"scatterpolar\"}],\"scatter\":[{\"marker\":{\"colorbar\":{\"outlinewidth\":0,\"ticks\":\"\"}},\"type\":\"scatter\"}],\"scatterternary\":[{\"marker\":{\"colorbar\":{\"outlinewidth\":0,\"ticks\":\"\"}},\"type\":\"scatterternary\"}],\"surface\":[{\"colorbar\":{\"outlinewidth\":0,\"ticks\":\"\"},\"colorscale\":[[0.0,\"#0d0887\"],[0.1111111111111111,\"#46039f\"],[0.2222222222222222,\"#7201a8\"],[0.3333333333333333,\"#9c179e\"],[0.4444444444444444,\"#bd3786\"],[0.5555555555555556,\"#d8576b\"],[0.6666666666666666,\"#ed7953\"],[0.7777777777777778,\"#fb9f3a\"],[0.8888888888888888,\"#fdca26\"],[1.0,\"#f0f921\"]],\"type\":\"surface\"}],\"table\":[{\"cells\":{\"fill\":{\"color\":\"#EBF0F8\"},\"line\":{\"color\":\"white\"}},\"header\":{\"fill\":{\"color\":\"#C8D4E3\"},\"line\":{\"color\":\"white\"}},\"type\":\"table\"}]},\"layout\":{\"annotationdefaults\":{\"arrowcolor\":\"#2a3f5f\",\"arrowhead\":0,\"arrowwidth\":1},\"autotypenumbers\":\"strict\",\"coloraxis\":{\"colorbar\":{\"outlinewidth\":0,\"ticks\":\"\"}},\"colorscale\":{\"diverging\":[[0,\"#8e0152\"],[0.1,\"#c51b7d\"],[0.2,\"#de77ae\"],[0.3,\"#f1b6da\"],[0.4,\"#fde0ef\"],[0.5,\"#f7f7f7\"],[0.6,\"#e6f5d0\"],[0.7,\"#b8e186\"],[0.8,\"#7fbc41\"],[0.9,\"#4d9221\"],[1,\"#276419\"]],\"sequential\":[[0.0,\"#0d0887\"],[0.1111111111111111,\"#46039f\"],[0.2222222222222222,\"#7201a8\"],[0.3333333333333333,\"#9c179e\"],[0.4444444444444444,\"#bd3786\"],[0.5555555555555556,\"#d8576b\"],[0.6666666666666666,\"#ed7953\"],[0.7777777777777778,\"#fb9f3a\"],[0.8888888888888888,\"#fdca26\"],[1.0,\"#f0f921\"]],\"sequentialminus\":[[0.0,\"#0d0887\"],[0.1111111111111111,\"#46039f\"],[0.2222222222222222,\"#7201a8\"],[0.3333333333333333,\"#9c179e\"],[0.4444444444444444,\"#bd3786\"],[0.5555555555555556,\"#d8576b\"],[0.6666666666666666,\"#ed7953\"],[0.7777777777777778,\"#fb9f3a\"],[0.8888888888888888,\"#fdca26\"],[1.0,\"#f0f921\"]]},\"colorway\":[\"#636efa\",\"#EF553B\",\"#00cc96\",\"#ab63fa\",\"#FFA15A\",\"#19d3f3\",\"#FF6692\",\"#B6E880\",\"#FF97FF\",\"#FECB52\"],\"font\":{\"color\":\"#2a3f5f\"},\"geo\":{\"bgcolor\":\"white\",\"lakecolor\":\"white\",\"landcolor\":\"#E5ECF6\",\"showlakes\":true,\"showland\":true,\"subunitcolor\":\"white\"},\"hoverlabel\":{\"align\":\"left\"},\"hovermode\":\"closest\",\"mapbox\":{\"style\":\"light\"},\"paper_bgcolor\":\"white\",\"plot_bgcolor\":\"#E5ECF6\",\"polar\":{\"angularaxis\":{\"gridcolor\":\"white\",\"linecolor\":\"white\",\"ticks\":\"\"},\"bgcolor\":\"#E5ECF6\",\"radialaxis\":{\"gridcolor\":\"white\",\"linecolor\":\"white\",\"ticks\":\"\"}},\"scene\":{\"xaxis\":{\"backgroundcolor\":\"#E5ECF6\",\"gridcolor\":\"white\",\"gridwidth\":2,\"linecolor\":\"white\",\"showbackground\":true,\"ticks\":\"\",\"zerolinecolor\":\"white\"},\"yaxis\":{\"backgroundcolor\":\"#E5ECF6\",\"gridcolor\":\"white\",\"gridwidth\":2,\"linecolor\":\"white\",\"showbackground\":true,\"ticks\":\"\",\"zerolinecolor\":\"white\"},\"zaxis\":{\"backgroundcolor\":\"#E5ECF6\",\"gridcolor\":\"white\",\"gridwidth\":2,\"linecolor\":\"white\",\"showbackground\":true,\"ticks\":\"\",\"zerolinecolor\":\"white\"}},\"shapedefaults\":{\"line\":{\"color\":\"#2a3f5f\"}},\"ternary\":{\"aaxis\":{\"gridcolor\":\"white\",\"linecolor\":\"white\",\"ticks\":\"\"},\"baxis\":{\"gridcolor\":\"white\",\"linecolor\":\"white\",\"ticks\":\"\"},\"bgcolor\":\"#E5ECF6\",\"caxis\":{\"gridcolor\":\"white\",\"linecolor\":\"white\",\"ticks\":\"\"}},\"title\":{\"x\":0.05},\"xaxis\":{\"automargin\":true,\"gridcolor\":\"white\",\"linecolor\":\"white\",\"ticks\":\"\",\"title\":{\"standoff\":15},\"zerolinecolor\":\"white\",\"zerolinewidth\":2},\"yaxis\":{\"automargin\":true,\"gridcolor\":\"white\",\"linecolor\":\"white\",\"ticks\":\"\",\"title\":{\"standoff\":15},\"zerolinecolor\":\"white\",\"zerolinewidth\":2}}},\"title\":{\"font\":{\"color\":\"#4D5663\"}},\"xaxis\":{\"gridcolor\":\"#E1E5ED\",\"showgrid\":true,\"tickfont\":{\"color\":\"#4D5663\"},\"title\":{\"font\":{\"color\":\"#4D5663\"},\"text\":\"\"},\"zerolinecolor\":\"#E1E5ED\"},\"yaxis\":{\"gridcolor\":\"#E1E5ED\",\"showgrid\":true,\"tickfont\":{\"color\":\"#4D5663\"},\"title\":{\"font\":{\"color\":\"#4D5663\"},\"text\":\"\"},\"zerolinecolor\":\"#E1E5ED\"}},                        {\"showLink\": true, \"linkText\": \"Export to plot.ly\", \"plotlyServerURL\": \"https://plot.ly\", \"responsive\": true}                    ).then(function(){\n",
       "                            \n",
       "var gd = document.getElementById('84fe5089-6ec8-4626-9817-d6918098413f');\n",
       "var x = new MutationObserver(function (mutations, observer) {{\n",
       "        var display = window.getComputedStyle(gd).display;\n",
       "        if (!display || display === 'none') {{\n",
       "            console.log([gd, 'removed!']);\n",
       "            Plotly.purge(gd);\n",
       "            observer.disconnect();\n",
       "        }}\n",
       "}});\n",
       "\n",
       "// Listen for the removal of the full notebook cells\n",
       "var notebookContainer = gd.closest('#notebook-container');\n",
       "if (notebookContainer) {{\n",
       "    x.observe(notebookContainer, {childList: true});\n",
       "}}\n",
       "\n",
       "// Listen for the clearing of the current output cell\n",
       "var outputEl = gd.closest('.output');\n",
       "if (outputEl) {{\n",
       "    x.observe(outputEl, {childList: true});\n",
       "}}\n",
       "\n",
       "                        })                };                });            </script>        </div>"
      ]
     },
     "metadata": {},
     "output_type": "display_data"
    }
   ],
   "source": [
    "df.iplot(kind='box')"
   ]
  },
  {
   "cell_type": "code",
   "execution_count": 49,
   "id": "14e00187",
   "metadata": {},
   "outputs": [],
   "source": [
    "df3=pd.DataFrame({'x':[1,2,3,4,5],'y':[10,20,30,20,10],'z':[5,4,3,2,1]})"
   ]
  },
  {
   "cell_type": "code",
   "execution_count": 50,
   "id": "c25a9c2b",
   "metadata": {},
   "outputs": [
    {
     "data": {
      "application/vnd.plotly.v1+json": {
       "config": {
        "linkText": "Export to plot.ly",
        "plotlyServerURL": "https://plot.ly",
        "showLink": true
       },
       "data": [
        {
         "colorscale": [
          [
           0,
           "rgb(255, 153, 51)"
          ],
          [
           0.1111111111111111,
           "rgb(55, 128, 191)"
          ],
          [
           0.2222222222222222,
           "rgb(50, 171, 96)"
          ],
          [
           0.3333333333333333,
           "rgb(128, 0, 128)"
          ],
          [
           0.4444444444444444,
           "rgb(219, 64, 82)"
          ],
          [
           0.5555555555555556,
           "rgb(0, 128, 128)"
          ],
          [
           0.6666666666666666,
           "rgb(255, 255, 51)"
          ],
          [
           0.7777777777777778,
           "rgb(128, 128, 0)"
          ],
          [
           0.8888888888888888,
           "rgb(251, 128, 114)"
          ],
          [
           1,
           "rgb(128, 177, 211)"
          ]
         ],
         "type": "surface",
         "x": [
          0,
          1,
          2,
          3,
          4
         ],
         "y": [
          "x",
          "y",
          "z"
         ],
         "z": [
          [
           1,
           2,
           3,
           4,
           5
          ],
          [
           10,
           20,
           30,
           20,
           10
          ],
          [
           5,
           4,
           3,
           2,
           1
          ]
         ]
        }
       ],
       "layout": {
        "legend": {
         "bgcolor": "#F5F6F9",
         "font": {
          "color": "#4D5663"
         }
        },
        "paper_bgcolor": "#F5F6F9",
        "plot_bgcolor": "#F5F6F9",
        "template": {
         "data": {
          "bar": [
           {
            "error_x": {
             "color": "#2a3f5f"
            },
            "error_y": {
             "color": "#2a3f5f"
            },
            "marker": {
             "line": {
              "color": "#E5ECF6",
              "width": 0.5
             },
             "pattern": {
              "fillmode": "overlay",
              "size": 10,
              "solidity": 0.2
             }
            },
            "type": "bar"
           }
          ],
          "barpolar": [
           {
            "marker": {
             "line": {
              "color": "#E5ECF6",
              "width": 0.5
             },
             "pattern": {
              "fillmode": "overlay",
              "size": 10,
              "solidity": 0.2
             }
            },
            "type": "barpolar"
           }
          ],
          "carpet": [
           {
            "aaxis": {
             "endlinecolor": "#2a3f5f",
             "gridcolor": "white",
             "linecolor": "white",
             "minorgridcolor": "white",
             "startlinecolor": "#2a3f5f"
            },
            "baxis": {
             "endlinecolor": "#2a3f5f",
             "gridcolor": "white",
             "linecolor": "white",
             "minorgridcolor": "white",
             "startlinecolor": "#2a3f5f"
            },
            "type": "carpet"
           }
          ],
          "choropleth": [
           {
            "colorbar": {
             "outlinewidth": 0,
             "ticks": ""
            },
            "type": "choropleth"
           }
          ],
          "contour": [
           {
            "colorbar": {
             "outlinewidth": 0,
             "ticks": ""
            },
            "colorscale": [
             [
              0,
              "#0d0887"
             ],
             [
              0.1111111111111111,
              "#46039f"
             ],
             [
              0.2222222222222222,
              "#7201a8"
             ],
             [
              0.3333333333333333,
              "#9c179e"
             ],
             [
              0.4444444444444444,
              "#bd3786"
             ],
             [
              0.5555555555555556,
              "#d8576b"
             ],
             [
              0.6666666666666666,
              "#ed7953"
             ],
             [
              0.7777777777777778,
              "#fb9f3a"
             ],
             [
              0.8888888888888888,
              "#fdca26"
             ],
             [
              1,
              "#f0f921"
             ]
            ],
            "type": "contour"
           }
          ],
          "contourcarpet": [
           {
            "colorbar": {
             "outlinewidth": 0,
             "ticks": ""
            },
            "type": "contourcarpet"
           }
          ],
          "heatmap": [
           {
            "colorbar": {
             "outlinewidth": 0,
             "ticks": ""
            },
            "colorscale": [
             [
              0,
              "#0d0887"
             ],
             [
              0.1111111111111111,
              "#46039f"
             ],
             [
              0.2222222222222222,
              "#7201a8"
             ],
             [
              0.3333333333333333,
              "#9c179e"
             ],
             [
              0.4444444444444444,
              "#bd3786"
             ],
             [
              0.5555555555555556,
              "#d8576b"
             ],
             [
              0.6666666666666666,
              "#ed7953"
             ],
             [
              0.7777777777777778,
              "#fb9f3a"
             ],
             [
              0.8888888888888888,
              "#fdca26"
             ],
             [
              1,
              "#f0f921"
             ]
            ],
            "type": "heatmap"
           }
          ],
          "heatmapgl": [
           {
            "colorbar": {
             "outlinewidth": 0,
             "ticks": ""
            },
            "colorscale": [
             [
              0,
              "#0d0887"
             ],
             [
              0.1111111111111111,
              "#46039f"
             ],
             [
              0.2222222222222222,
              "#7201a8"
             ],
             [
              0.3333333333333333,
              "#9c179e"
             ],
             [
              0.4444444444444444,
              "#bd3786"
             ],
             [
              0.5555555555555556,
              "#d8576b"
             ],
             [
              0.6666666666666666,
              "#ed7953"
             ],
             [
              0.7777777777777778,
              "#fb9f3a"
             ],
             [
              0.8888888888888888,
              "#fdca26"
             ],
             [
              1,
              "#f0f921"
             ]
            ],
            "type": "heatmapgl"
           }
          ],
          "histogram": [
           {
            "marker": {
             "pattern": {
              "fillmode": "overlay",
              "size": 10,
              "solidity": 0.2
             }
            },
            "type": "histogram"
           }
          ],
          "histogram2d": [
           {
            "colorbar": {
             "outlinewidth": 0,
             "ticks": ""
            },
            "colorscale": [
             [
              0,
              "#0d0887"
             ],
             [
              0.1111111111111111,
              "#46039f"
             ],
             [
              0.2222222222222222,
              "#7201a8"
             ],
             [
              0.3333333333333333,
              "#9c179e"
             ],
             [
              0.4444444444444444,
              "#bd3786"
             ],
             [
              0.5555555555555556,
              "#d8576b"
             ],
             [
              0.6666666666666666,
              "#ed7953"
             ],
             [
              0.7777777777777778,
              "#fb9f3a"
             ],
             [
              0.8888888888888888,
              "#fdca26"
             ],
             [
              1,
              "#f0f921"
             ]
            ],
            "type": "histogram2d"
           }
          ],
          "histogram2dcontour": [
           {
            "colorbar": {
             "outlinewidth": 0,
             "ticks": ""
            },
            "colorscale": [
             [
              0,
              "#0d0887"
             ],
             [
              0.1111111111111111,
              "#46039f"
             ],
             [
              0.2222222222222222,
              "#7201a8"
             ],
             [
              0.3333333333333333,
              "#9c179e"
             ],
             [
              0.4444444444444444,
              "#bd3786"
             ],
             [
              0.5555555555555556,
              "#d8576b"
             ],
             [
              0.6666666666666666,
              "#ed7953"
             ],
             [
              0.7777777777777778,
              "#fb9f3a"
             ],
             [
              0.8888888888888888,
              "#fdca26"
             ],
             [
              1,
              "#f0f921"
             ]
            ],
            "type": "histogram2dcontour"
           }
          ],
          "mesh3d": [
           {
            "colorbar": {
             "outlinewidth": 0,
             "ticks": ""
            },
            "type": "mesh3d"
           }
          ],
          "parcoords": [
           {
            "line": {
             "colorbar": {
              "outlinewidth": 0,
              "ticks": ""
             }
            },
            "type": "parcoords"
           }
          ],
          "pie": [
           {
            "automargin": true,
            "type": "pie"
           }
          ],
          "scatter": [
           {
            "marker": {
             "colorbar": {
              "outlinewidth": 0,
              "ticks": ""
             }
            },
            "type": "scatter"
           }
          ],
          "scatter3d": [
           {
            "line": {
             "colorbar": {
              "outlinewidth": 0,
              "ticks": ""
             }
            },
            "marker": {
             "colorbar": {
              "outlinewidth": 0,
              "ticks": ""
             }
            },
            "type": "scatter3d"
           }
          ],
          "scattercarpet": [
           {
            "marker": {
             "colorbar": {
              "outlinewidth": 0,
              "ticks": ""
             }
            },
            "type": "scattercarpet"
           }
          ],
          "scattergeo": [
           {
            "marker": {
             "colorbar": {
              "outlinewidth": 0,
              "ticks": ""
             }
            },
            "type": "scattergeo"
           }
          ],
          "scattergl": [
           {
            "marker": {
             "colorbar": {
              "outlinewidth": 0,
              "ticks": ""
             }
            },
            "type": "scattergl"
           }
          ],
          "scattermapbox": [
           {
            "marker": {
             "colorbar": {
              "outlinewidth": 0,
              "ticks": ""
             }
            },
            "type": "scattermapbox"
           }
          ],
          "scatterpolar": [
           {
            "marker": {
             "colorbar": {
              "outlinewidth": 0,
              "ticks": ""
             }
            },
            "type": "scatterpolar"
           }
          ],
          "scatterpolargl": [
           {
            "marker": {
             "colorbar": {
              "outlinewidth": 0,
              "ticks": ""
             }
            },
            "type": "scatterpolargl"
           }
          ],
          "scatterternary": [
           {
            "marker": {
             "colorbar": {
              "outlinewidth": 0,
              "ticks": ""
             }
            },
            "type": "scatterternary"
           }
          ],
          "surface": [
           {
            "colorbar": {
             "outlinewidth": 0,
             "ticks": ""
            },
            "colorscale": [
             [
              0,
              "#0d0887"
             ],
             [
              0.1111111111111111,
              "#46039f"
             ],
             [
              0.2222222222222222,
              "#7201a8"
             ],
             [
              0.3333333333333333,
              "#9c179e"
             ],
             [
              0.4444444444444444,
              "#bd3786"
             ],
             [
              0.5555555555555556,
              "#d8576b"
             ],
             [
              0.6666666666666666,
              "#ed7953"
             ],
             [
              0.7777777777777778,
              "#fb9f3a"
             ],
             [
              0.8888888888888888,
              "#fdca26"
             ],
             [
              1,
              "#f0f921"
             ]
            ],
            "type": "surface"
           }
          ],
          "table": [
           {
            "cells": {
             "fill": {
              "color": "#EBF0F8"
             },
             "line": {
              "color": "white"
             }
            },
            "header": {
             "fill": {
              "color": "#C8D4E3"
             },
             "line": {
              "color": "white"
             }
            },
            "type": "table"
           }
          ]
         },
         "layout": {
          "annotationdefaults": {
           "arrowcolor": "#2a3f5f",
           "arrowhead": 0,
           "arrowwidth": 1
          },
          "autotypenumbers": "strict",
          "coloraxis": {
           "colorbar": {
            "outlinewidth": 0,
            "ticks": ""
           }
          },
          "colorscale": {
           "diverging": [
            [
             0,
             "#8e0152"
            ],
            [
             0.1,
             "#c51b7d"
            ],
            [
             0.2,
             "#de77ae"
            ],
            [
             0.3,
             "#f1b6da"
            ],
            [
             0.4,
             "#fde0ef"
            ],
            [
             0.5,
             "#f7f7f7"
            ],
            [
             0.6,
             "#e6f5d0"
            ],
            [
             0.7,
             "#b8e186"
            ],
            [
             0.8,
             "#7fbc41"
            ],
            [
             0.9,
             "#4d9221"
            ],
            [
             1,
             "#276419"
            ]
           ],
           "sequential": [
            [
             0,
             "#0d0887"
            ],
            [
             0.1111111111111111,
             "#46039f"
            ],
            [
             0.2222222222222222,
             "#7201a8"
            ],
            [
             0.3333333333333333,
             "#9c179e"
            ],
            [
             0.4444444444444444,
             "#bd3786"
            ],
            [
             0.5555555555555556,
             "#d8576b"
            ],
            [
             0.6666666666666666,
             "#ed7953"
            ],
            [
             0.7777777777777778,
             "#fb9f3a"
            ],
            [
             0.8888888888888888,
             "#fdca26"
            ],
            [
             1,
             "#f0f921"
            ]
           ],
           "sequentialminus": [
            [
             0,
             "#0d0887"
            ],
            [
             0.1111111111111111,
             "#46039f"
            ],
            [
             0.2222222222222222,
             "#7201a8"
            ],
            [
             0.3333333333333333,
             "#9c179e"
            ],
            [
             0.4444444444444444,
             "#bd3786"
            ],
            [
             0.5555555555555556,
             "#d8576b"
            ],
            [
             0.6666666666666666,
             "#ed7953"
            ],
            [
             0.7777777777777778,
             "#fb9f3a"
            ],
            [
             0.8888888888888888,
             "#fdca26"
            ],
            [
             1,
             "#f0f921"
            ]
           ]
          },
          "colorway": [
           "#636efa",
           "#EF553B",
           "#00cc96",
           "#ab63fa",
           "#FFA15A",
           "#19d3f3",
           "#FF6692",
           "#B6E880",
           "#FF97FF",
           "#FECB52"
          ],
          "font": {
           "color": "#2a3f5f"
          },
          "geo": {
           "bgcolor": "white",
           "lakecolor": "white",
           "landcolor": "#E5ECF6",
           "showlakes": true,
           "showland": true,
           "subunitcolor": "white"
          },
          "hoverlabel": {
           "align": "left"
          },
          "hovermode": "closest",
          "mapbox": {
           "style": "light"
          },
          "paper_bgcolor": "white",
          "plot_bgcolor": "#E5ECF6",
          "polar": {
           "angularaxis": {
            "gridcolor": "white",
            "linecolor": "white",
            "ticks": ""
           },
           "bgcolor": "#E5ECF6",
           "radialaxis": {
            "gridcolor": "white",
            "linecolor": "white",
            "ticks": ""
           }
          },
          "scene": {
           "xaxis": {
            "backgroundcolor": "#E5ECF6",
            "gridcolor": "white",
            "gridwidth": 2,
            "linecolor": "white",
            "showbackground": true,
            "ticks": "",
            "zerolinecolor": "white"
           },
           "yaxis": {
            "backgroundcolor": "#E5ECF6",
            "gridcolor": "white",
            "gridwidth": 2,
            "linecolor": "white",
            "showbackground": true,
            "ticks": "",
            "zerolinecolor": "white"
           },
           "zaxis": {
            "backgroundcolor": "#E5ECF6",
            "gridcolor": "white",
            "gridwidth": 2,
            "linecolor": "white",
            "showbackground": true,
            "ticks": "",
            "zerolinecolor": "white"
           }
          },
          "shapedefaults": {
           "line": {
            "color": "#2a3f5f"
           }
          },
          "ternary": {
           "aaxis": {
            "gridcolor": "white",
            "linecolor": "white",
            "ticks": ""
           },
           "baxis": {
            "gridcolor": "white",
            "linecolor": "white",
            "ticks": ""
           },
           "bgcolor": "#E5ECF6",
           "caxis": {
            "gridcolor": "white",
            "linecolor": "white",
            "ticks": ""
           }
          },
          "title": {
           "x": 0.05
          },
          "xaxis": {
           "automargin": true,
           "gridcolor": "white",
           "linecolor": "white",
           "ticks": "",
           "title": {
            "standoff": 15
           },
           "zerolinecolor": "white",
           "zerolinewidth": 2
          },
          "yaxis": {
           "automargin": true,
           "gridcolor": "white",
           "linecolor": "white",
           "ticks": "",
           "title": {
            "standoff": 15
           },
           "zerolinecolor": "white",
           "zerolinewidth": 2
          }
         }
        },
        "title": {
         "font": {
          "color": "#4D5663"
         }
        },
        "xaxis": {
         "gridcolor": "#E1E5ED",
         "showgrid": true,
         "tickfont": {
          "color": "#4D5663"
         },
         "title": {
          "font": {
           "color": "#4D5663"
          },
          "text": ""
         },
         "zerolinecolor": "#E1E5ED"
        },
        "yaxis": {
         "gridcolor": "#E1E5ED",
         "showgrid": true,
         "tickfont": {
          "color": "#4D5663"
         },
         "title": {
          "font": {
           "color": "#4D5663"
          },
          "text": ""
         },
         "zerolinecolor": "#E1E5ED"
        }
       }
      },
      "text/html": [
       "<div>                            <div id=\"aab6c0e3-3f2a-4826-b923-d9739cc71a2c\" class=\"plotly-graph-div\" style=\"height:525px; width:100%;\"></div>            <script type=\"text/javascript\">                require([\"plotly\"], function(Plotly) {                    window.PLOTLYENV=window.PLOTLYENV || {};\n",
       "                    window.PLOTLYENV.BASE_URL='https://plot.ly';                                    if (document.getElementById(\"aab6c0e3-3f2a-4826-b923-d9739cc71a2c\")) {                    Plotly.newPlot(                        \"aab6c0e3-3f2a-4826-b923-d9739cc71a2c\",                        [{\"colorscale\":[[0.0,\"rgb(255, 153, 51)\"],[0.1111111111111111,\"rgb(55, 128, 191)\"],[0.2222222222222222,\"rgb(50, 171, 96)\"],[0.3333333333333333,\"rgb(128, 0, 128)\"],[0.4444444444444444,\"rgb(219, 64, 82)\"],[0.5555555555555556,\"rgb(0, 128, 128)\"],[0.6666666666666666,\"rgb(255, 255, 51)\"],[0.7777777777777778,\"rgb(128, 128, 0)\"],[0.8888888888888888,\"rgb(251, 128, 114)\"],[1.0,\"rgb(128, 177, 211)\"]],\"x\":[0,1,2,3,4],\"y\":[\"x\",\"y\",\"z\"],\"z\":[[1,2,3,4,5],[10,20,30,20,10],[5,4,3,2,1]],\"type\":\"surface\"}],                        {\"legend\":{\"bgcolor\":\"#F5F6F9\",\"font\":{\"color\":\"#4D5663\"}},\"paper_bgcolor\":\"#F5F6F9\",\"plot_bgcolor\":\"#F5F6F9\",\"template\":{\"data\":{\"barpolar\":[{\"marker\":{\"line\":{\"color\":\"#E5ECF6\",\"width\":0.5},\"pattern\":{\"fillmode\":\"overlay\",\"size\":10,\"solidity\":0.2}},\"type\":\"barpolar\"}],\"bar\":[{\"error_x\":{\"color\":\"#2a3f5f\"},\"error_y\":{\"color\":\"#2a3f5f\"},\"marker\":{\"line\":{\"color\":\"#E5ECF6\",\"width\":0.5},\"pattern\":{\"fillmode\":\"overlay\",\"size\":10,\"solidity\":0.2}},\"type\":\"bar\"}],\"carpet\":[{\"aaxis\":{\"endlinecolor\":\"#2a3f5f\",\"gridcolor\":\"white\",\"linecolor\":\"white\",\"minorgridcolor\":\"white\",\"startlinecolor\":\"#2a3f5f\"},\"baxis\":{\"endlinecolor\":\"#2a3f5f\",\"gridcolor\":\"white\",\"linecolor\":\"white\",\"minorgridcolor\":\"white\",\"startlinecolor\":\"#2a3f5f\"},\"type\":\"carpet\"}],\"choropleth\":[{\"colorbar\":{\"outlinewidth\":0,\"ticks\":\"\"},\"type\":\"choropleth\"}],\"contourcarpet\":[{\"colorbar\":{\"outlinewidth\":0,\"ticks\":\"\"},\"type\":\"contourcarpet\"}],\"contour\":[{\"colorbar\":{\"outlinewidth\":0,\"ticks\":\"\"},\"colorscale\":[[0.0,\"#0d0887\"],[0.1111111111111111,\"#46039f\"],[0.2222222222222222,\"#7201a8\"],[0.3333333333333333,\"#9c179e\"],[0.4444444444444444,\"#bd3786\"],[0.5555555555555556,\"#d8576b\"],[0.6666666666666666,\"#ed7953\"],[0.7777777777777778,\"#fb9f3a\"],[0.8888888888888888,\"#fdca26\"],[1.0,\"#f0f921\"]],\"type\":\"contour\"}],\"heatmapgl\":[{\"colorbar\":{\"outlinewidth\":0,\"ticks\":\"\"},\"colorscale\":[[0.0,\"#0d0887\"],[0.1111111111111111,\"#46039f\"],[0.2222222222222222,\"#7201a8\"],[0.3333333333333333,\"#9c179e\"],[0.4444444444444444,\"#bd3786\"],[0.5555555555555556,\"#d8576b\"],[0.6666666666666666,\"#ed7953\"],[0.7777777777777778,\"#fb9f3a\"],[0.8888888888888888,\"#fdca26\"],[1.0,\"#f0f921\"]],\"type\":\"heatmapgl\"}],\"heatmap\":[{\"colorbar\":{\"outlinewidth\":0,\"ticks\":\"\"},\"colorscale\":[[0.0,\"#0d0887\"],[0.1111111111111111,\"#46039f\"],[0.2222222222222222,\"#7201a8\"],[0.3333333333333333,\"#9c179e\"],[0.4444444444444444,\"#bd3786\"],[0.5555555555555556,\"#d8576b\"],[0.6666666666666666,\"#ed7953\"],[0.7777777777777778,\"#fb9f3a\"],[0.8888888888888888,\"#fdca26\"],[1.0,\"#f0f921\"]],\"type\":\"heatmap\"}],\"histogram2dcontour\":[{\"colorbar\":{\"outlinewidth\":0,\"ticks\":\"\"},\"colorscale\":[[0.0,\"#0d0887\"],[0.1111111111111111,\"#46039f\"],[0.2222222222222222,\"#7201a8\"],[0.3333333333333333,\"#9c179e\"],[0.4444444444444444,\"#bd3786\"],[0.5555555555555556,\"#d8576b\"],[0.6666666666666666,\"#ed7953\"],[0.7777777777777778,\"#fb9f3a\"],[0.8888888888888888,\"#fdca26\"],[1.0,\"#f0f921\"]],\"type\":\"histogram2dcontour\"}],\"histogram2d\":[{\"colorbar\":{\"outlinewidth\":0,\"ticks\":\"\"},\"colorscale\":[[0.0,\"#0d0887\"],[0.1111111111111111,\"#46039f\"],[0.2222222222222222,\"#7201a8\"],[0.3333333333333333,\"#9c179e\"],[0.4444444444444444,\"#bd3786\"],[0.5555555555555556,\"#d8576b\"],[0.6666666666666666,\"#ed7953\"],[0.7777777777777778,\"#fb9f3a\"],[0.8888888888888888,\"#fdca26\"],[1.0,\"#f0f921\"]],\"type\":\"histogram2d\"}],\"histogram\":[{\"marker\":{\"pattern\":{\"fillmode\":\"overlay\",\"size\":10,\"solidity\":0.2}},\"type\":\"histogram\"}],\"mesh3d\":[{\"colorbar\":{\"outlinewidth\":0,\"ticks\":\"\"},\"type\":\"mesh3d\"}],\"parcoords\":[{\"line\":{\"colorbar\":{\"outlinewidth\":0,\"ticks\":\"\"}},\"type\":\"parcoords\"}],\"pie\":[{\"automargin\":true,\"type\":\"pie\"}],\"scatter3d\":[{\"line\":{\"colorbar\":{\"outlinewidth\":0,\"ticks\":\"\"}},\"marker\":{\"colorbar\":{\"outlinewidth\":0,\"ticks\":\"\"}},\"type\":\"scatter3d\"}],\"scattercarpet\":[{\"marker\":{\"colorbar\":{\"outlinewidth\":0,\"ticks\":\"\"}},\"type\":\"scattercarpet\"}],\"scattergeo\":[{\"marker\":{\"colorbar\":{\"outlinewidth\":0,\"ticks\":\"\"}},\"type\":\"scattergeo\"}],\"scattergl\":[{\"marker\":{\"colorbar\":{\"outlinewidth\":0,\"ticks\":\"\"}},\"type\":\"scattergl\"}],\"scattermapbox\":[{\"marker\":{\"colorbar\":{\"outlinewidth\":0,\"ticks\":\"\"}},\"type\":\"scattermapbox\"}],\"scatterpolargl\":[{\"marker\":{\"colorbar\":{\"outlinewidth\":0,\"ticks\":\"\"}},\"type\":\"scatterpolargl\"}],\"scatterpolar\":[{\"marker\":{\"colorbar\":{\"outlinewidth\":0,\"ticks\":\"\"}},\"type\":\"scatterpolar\"}],\"scatter\":[{\"marker\":{\"colorbar\":{\"outlinewidth\":0,\"ticks\":\"\"}},\"type\":\"scatter\"}],\"scatterternary\":[{\"marker\":{\"colorbar\":{\"outlinewidth\":0,\"ticks\":\"\"}},\"type\":\"scatterternary\"}],\"surface\":[{\"colorbar\":{\"outlinewidth\":0,\"ticks\":\"\"},\"colorscale\":[[0.0,\"#0d0887\"],[0.1111111111111111,\"#46039f\"],[0.2222222222222222,\"#7201a8\"],[0.3333333333333333,\"#9c179e\"],[0.4444444444444444,\"#bd3786\"],[0.5555555555555556,\"#d8576b\"],[0.6666666666666666,\"#ed7953\"],[0.7777777777777778,\"#fb9f3a\"],[0.8888888888888888,\"#fdca26\"],[1.0,\"#f0f921\"]],\"type\":\"surface\"}],\"table\":[{\"cells\":{\"fill\":{\"color\":\"#EBF0F8\"},\"line\":{\"color\":\"white\"}},\"header\":{\"fill\":{\"color\":\"#C8D4E3\"},\"line\":{\"color\":\"white\"}},\"type\":\"table\"}]},\"layout\":{\"annotationdefaults\":{\"arrowcolor\":\"#2a3f5f\",\"arrowhead\":0,\"arrowwidth\":1},\"autotypenumbers\":\"strict\",\"coloraxis\":{\"colorbar\":{\"outlinewidth\":0,\"ticks\":\"\"}},\"colorscale\":{\"diverging\":[[0,\"#8e0152\"],[0.1,\"#c51b7d\"],[0.2,\"#de77ae\"],[0.3,\"#f1b6da\"],[0.4,\"#fde0ef\"],[0.5,\"#f7f7f7\"],[0.6,\"#e6f5d0\"],[0.7,\"#b8e186\"],[0.8,\"#7fbc41\"],[0.9,\"#4d9221\"],[1,\"#276419\"]],\"sequential\":[[0.0,\"#0d0887\"],[0.1111111111111111,\"#46039f\"],[0.2222222222222222,\"#7201a8\"],[0.3333333333333333,\"#9c179e\"],[0.4444444444444444,\"#bd3786\"],[0.5555555555555556,\"#d8576b\"],[0.6666666666666666,\"#ed7953\"],[0.7777777777777778,\"#fb9f3a\"],[0.8888888888888888,\"#fdca26\"],[1.0,\"#f0f921\"]],\"sequentialminus\":[[0.0,\"#0d0887\"],[0.1111111111111111,\"#46039f\"],[0.2222222222222222,\"#7201a8\"],[0.3333333333333333,\"#9c179e\"],[0.4444444444444444,\"#bd3786\"],[0.5555555555555556,\"#d8576b\"],[0.6666666666666666,\"#ed7953\"],[0.7777777777777778,\"#fb9f3a\"],[0.8888888888888888,\"#fdca26\"],[1.0,\"#f0f921\"]]},\"colorway\":[\"#636efa\",\"#EF553B\",\"#00cc96\",\"#ab63fa\",\"#FFA15A\",\"#19d3f3\",\"#FF6692\",\"#B6E880\",\"#FF97FF\",\"#FECB52\"],\"font\":{\"color\":\"#2a3f5f\"},\"geo\":{\"bgcolor\":\"white\",\"lakecolor\":\"white\",\"landcolor\":\"#E5ECF6\",\"showlakes\":true,\"showland\":true,\"subunitcolor\":\"white\"},\"hoverlabel\":{\"align\":\"left\"},\"hovermode\":\"closest\",\"mapbox\":{\"style\":\"light\"},\"paper_bgcolor\":\"white\",\"plot_bgcolor\":\"#E5ECF6\",\"polar\":{\"angularaxis\":{\"gridcolor\":\"white\",\"linecolor\":\"white\",\"ticks\":\"\"},\"bgcolor\":\"#E5ECF6\",\"radialaxis\":{\"gridcolor\":\"white\",\"linecolor\":\"white\",\"ticks\":\"\"}},\"scene\":{\"xaxis\":{\"backgroundcolor\":\"#E5ECF6\",\"gridcolor\":\"white\",\"gridwidth\":2,\"linecolor\":\"white\",\"showbackground\":true,\"ticks\":\"\",\"zerolinecolor\":\"white\"},\"yaxis\":{\"backgroundcolor\":\"#E5ECF6\",\"gridcolor\":\"white\",\"gridwidth\":2,\"linecolor\":\"white\",\"showbackground\":true,\"ticks\":\"\",\"zerolinecolor\":\"white\"},\"zaxis\":{\"backgroundcolor\":\"#E5ECF6\",\"gridcolor\":\"white\",\"gridwidth\":2,\"linecolor\":\"white\",\"showbackground\":true,\"ticks\":\"\",\"zerolinecolor\":\"white\"}},\"shapedefaults\":{\"line\":{\"color\":\"#2a3f5f\"}},\"ternary\":{\"aaxis\":{\"gridcolor\":\"white\",\"linecolor\":\"white\",\"ticks\":\"\"},\"baxis\":{\"gridcolor\":\"white\",\"linecolor\":\"white\",\"ticks\":\"\"},\"bgcolor\":\"#E5ECF6\",\"caxis\":{\"gridcolor\":\"white\",\"linecolor\":\"white\",\"ticks\":\"\"}},\"title\":{\"x\":0.05},\"xaxis\":{\"automargin\":true,\"gridcolor\":\"white\",\"linecolor\":\"white\",\"ticks\":\"\",\"title\":{\"standoff\":15},\"zerolinecolor\":\"white\",\"zerolinewidth\":2},\"yaxis\":{\"automargin\":true,\"gridcolor\":\"white\",\"linecolor\":\"white\",\"ticks\":\"\",\"title\":{\"standoff\":15},\"zerolinecolor\":\"white\",\"zerolinewidth\":2}}},\"title\":{\"font\":{\"color\":\"#4D5663\"}},\"xaxis\":{\"gridcolor\":\"#E1E5ED\",\"showgrid\":true,\"tickfont\":{\"color\":\"#4D5663\"},\"title\":{\"font\":{\"color\":\"#4D5663\"},\"text\":\"\"},\"zerolinecolor\":\"#E1E5ED\"},\"yaxis\":{\"gridcolor\":\"#E1E5ED\",\"showgrid\":true,\"tickfont\":{\"color\":\"#4D5663\"},\"title\":{\"font\":{\"color\":\"#4D5663\"},\"text\":\"\"},\"zerolinecolor\":\"#E1E5ED\"}},                        {\"showLink\": true, \"linkText\": \"Export to plot.ly\", \"plotlyServerURL\": \"https://plot.ly\", \"responsive\": true}                    ).then(function(){\n",
       "                            \n",
       "var gd = document.getElementById('aab6c0e3-3f2a-4826-b923-d9739cc71a2c');\n",
       "var x = new MutationObserver(function (mutations, observer) {{\n",
       "        var display = window.getComputedStyle(gd).display;\n",
       "        if (!display || display === 'none') {{\n",
       "            console.log([gd, 'removed!']);\n",
       "            Plotly.purge(gd);\n",
       "            observer.disconnect();\n",
       "        }}\n",
       "}});\n",
       "\n",
       "// Listen for the removal of the full notebook cells\n",
       "var notebookContainer = gd.closest('#notebook-container');\n",
       "if (notebookContainer) {{\n",
       "    x.observe(notebookContainer, {childList: true});\n",
       "}}\n",
       "\n",
       "// Listen for the clearing of the current output cell\n",
       "var outputEl = gd.closest('.output');\n",
       "if (outputEl) {{\n",
       "    x.observe(outputEl, {childList: true});\n",
       "}}\n",
       "\n",
       "                        })                };                });            </script>        </div>"
      ]
     },
     "metadata": {},
     "output_type": "display_data"
    }
   ],
   "source": [
    "df3.iplot(kind='surface')"
   ]
  },
  {
   "cell_type": "code",
   "execution_count": 53,
   "id": "94419c1f",
   "metadata": {},
   "outputs": [
    {
     "data": {
      "application/vnd.plotly.v1+json": {
       "config": {
        "linkText": "Export to plot.ly",
        "plotlyServerURL": "https://plot.ly",
        "showLink": true
       },
       "data": [
        {
         "histfunc": "count",
         "histnorm": "",
         "marker": {
          "color": "rgba(255, 153, 51, 1.0)",
          "line": {
           "color": "#4D5663",
           "width": 1.3
          }
         },
         "name": "A",
         "nbinsx": 30,
         "opacity": 0.8,
         "orientation": "v",
         "type": "histogram",
         "x": [
          -1.3813706255062617,
          0.8065087300796255,
          0.3418651186982201,
          -0.3323817128521051,
          2.1231407918626863,
          -1.1202630656804664,
          -0.0838679423613188,
          -0.2323656787814356,
          -0.4448817191163479,
          -0.06875353456729144,
          -0.049574301014722454,
          2.210801449350267,
          -1.1063203713174574,
          -0.6063103665598676,
          -0.7011439170998087,
          -0.45395970306502087,
          2.766671816092905,
          0.5699573520404393,
          0.8808174816908407,
          1.3800745892046544,
          -0.1603764834931205,
          -1.0622118661110387,
          -1.562271295381666,
          -0.57761248853128,
          -0.8179651173239639,
          1.3851094626150695,
          1.419717830017316,
          1.490032752768479,
          0.4839879897208073,
          2.846600051376337,
          -0.19327060595834927,
          0.10695835574762955,
          -1.2772804565698301,
          0.1457265969364036,
          0.4980186780688667,
          0.37059896130240544,
          -1.7873621950489733,
          -0.8815719530555712,
          -1.0904553304750297,
          0.31263785194698335,
          -1.7657329345102317,
          -1.6644896212258584,
          -0.9985986717447229,
          -5.7910567175379e-05,
          -1.331707814385081,
          0.1134252366886889,
          0.759414790394926,
          -0.0599661947972707,
          0.6906859639390763,
          0.354321372436767,
          -1.1380592776587406,
          -0.9992273007320776,
          0.08349219406595834,
          1.4708225882710029,
          2.2572721833274625,
          0.7709653112317927,
          -0.23877889678292707,
          1.3451420206002938,
          -0.16746439868244084,
          0.5699618681293717,
          -0.3708267121936692,
          -1.8703385788607723,
          0.9215350628981622,
          -2.3333905191830175,
          0.43391561874284323,
          -0.7463278263388601,
          0.4737891000334945,
          1.0920180090401317,
          1.0325775036488705,
          -0.6106630768648215,
          -0.7382156222692969,
          -0.9584583679324162,
          -2.7421379622719124,
          -1.7506037789263569,
          0.31966563419627686,
          -0.7892062316286367,
          0.448996320741698,
          0.21294295276889807,
          0.9160624812720353,
          -0.28604664133610624,
          0.30985990443739675,
          -0.46754536872788194,
          -0.11610969135353229,
          0.48391664650310773,
          -0.520395981311585,
          1.1541095181196932,
          -0.45352152882079416,
          -0.05789549270731017,
          -1.2919838016797072,
          -0.3090001479193332,
          0.569241312546446,
          -0.934322907187918,
          0.3443265950499941,
          0.1456857429217968,
          -0.16409306709076685,
          0.5505366687670102,
          -1.2457267972453103,
          2.1972545707069133,
          -1.083598726767268,
          -2.39275691984455
         ]
        },
        {
         "histfunc": "count",
         "histnorm": "",
         "marker": {
          "color": "rgba(55, 128, 191, 1.0)",
          "line": {
           "color": "#4D5663",
           "width": 1.3
          }
         },
         "name": "B",
         "nbinsx": 30,
         "opacity": 0.8,
         "orientation": "v",
         "type": "histogram",
         "x": [
          0.39408508751691174,
          0.5597812290844585,
          1.1872882937316844,
          0.5261069177621385,
          0.8324150081424387,
          2.0229924948473155,
          0.8016952099182463,
          -0.27250856543923707,
          0.5991969917690078,
          0.012408271151590967,
          1.498575989045239,
          -1.5252754697159996,
          0.14066922828746695,
          0.2001614896562864,
          0.7393141086675633,
          0.5218190410445782,
          -0.14099631099514778,
          0.746320335451686,
          0.2882068249559392,
          -0.6261179226215818,
          -1.3453418809785471,
          0.4485083513661857,
          -0.30337254173453476,
          -0.2573198650134465,
          1.8340919440261283,
          -1.723238043505735,
          2.2560989316205946,
          0.08307241884321633,
          -0.17902782356976163,
          0.3746919695015312,
          0.6907935307424771,
          -1.9052738453037013,
          -0.6944962604391867,
          -0.9560653935208608,
          -0.1260645549119327,
          -0.2820678692564736,
          -0.2899959469285368,
          -0.8697374037589303,
          1.4866174930332687,
          -0.358924788703825,
          -1.5454270107479176,
          -1.526480268544885,
          -0.9045299027694891,
          -0.49427429863164674,
          -0.09974524282445445,
          0.9496340986727977,
          -0.8322150144236892,
          -0.8063792658634675,
          1.312605694412341,
          0.1685132896260088,
          -1.4139505639110368,
          -0.4482508192546252,
          -0.5273928906970727,
          -0.6484514233815363,
          1.2933196429677625,
          0.15955467005039792,
          -1.4435626349802602,
          0.4894758579829374,
          1.0182449643440812,
          0.20611253270759147,
          -2.0742934113938274,
          0.7261227044394204,
          -0.9894261852623139,
          0.43174655067239753,
          0.23595597214069036,
          -0.6426900200374779,
          -0.2730663543060331,
          -0.5447654206263307,
          1.47959887301995,
          -2.035056494382499,
          0.39249244408448947,
          -0.444491041437767,
          0.3489655282637713,
          0.6535654394632688,
          -1.1795812678279245,
          -0.5415330568975902,
          -0.21101973071373986,
          -0.12649315801693273,
          0.5722210235128772,
          1.4461631141087352,
          0.6147519214766572,
          0.526200192436856,
          1.3598304924670988,
          0.253727520804128,
          0.9508513571872201,
          -0.33096300255923383,
          0.6422459455412688,
          -1.182840275342704,
          0.7776106033058436,
          0.7251921984089881,
          -0.8992954636081043,
          -0.2659385388815195,
          1.8702168449694738,
          -0.7927214636265612,
          1.3740151971820014,
          0.7803432925385417,
          0.4547995097119779,
          -1.9189864701064838,
          0.742221013929439,
          -1.911585229275281
         ]
        },
        {
         "histfunc": "count",
         "histnorm": "",
         "marker": {
          "color": "rgba(50, 171, 96, 1.0)",
          "line": {
           "color": "#4D5663",
           "width": 1.3
          }
         },
         "name": "C",
         "nbinsx": 30,
         "opacity": 0.8,
         "orientation": "v",
         "type": "histogram",
         "x": [
          -0.2987894811036943,
          0.2225901646326759,
          0.4471936317963176,
          1.2814747332123524,
          -0.9552418673241627,
          2.060801706420197,
          -0.8797151015943191,
          -0.192546107039639,
          -0.46354470304234485,
          0.3305274097754041,
          0.5916004496576012,
          -1.375880586782106,
          -0.9207913336047217,
          0.14465223796691287,
          -0.2061086066280525,
          1.2674441883745204,
          0.20614590633728108,
          0.9052633794840721,
          0.9239174387714885,
          -0.7714672768665449,
          -0.1434020969717301,
          0.5585111397671629,
          1.0195780223148523,
          -0.07894797858200932,
          -1.8733880676435746,
          -0.41003749605034523,
          -0.3026443579727646,
          1.2821863127444708,
          -0.5565980490656567,
          -0.145248179737183,
          -1.8170013757109285,
          -1.1665076712559546,
          0.21431642850883828,
          -0.082021984380936,
          1.724281178128171,
          0.24318452448370406,
          2.0063449440240135,
          3.181650342247564,
          -0.17756112300209012,
          0.48670781257785706,
          -0.2216332574732512,
          0.9764349569522697,
          -1.2279952664572942,
          -0.7322244940565237,
          0.7038773844468086,
          -0.9825239295840146,
          0.6564170609631838,
          0.47320941675032435,
          -0.37464334670458405,
          -0.4532774880173421,
          -1.706366667605841,
          -0.4222680391946654,
          -0.29592653322574575,
          -0.20714821645298415,
          -0.8204968071147439,
          -1.9996417589002398,
          2.166104317282843,
          -0.022306212806870503,
          0.4551462595429836,
          -0.2979940515821381,
          -1.4818824407457283,
          -0.4780354334268793,
          0.41716212088670035,
          1.3046645507432006,
          -1.0411800096722719,
          -1.5130830164682152,
          -1.7434667903682146,
          -0.532914484831036,
          0.7692315168817534,
          0.7019656636207262,
          2.0538410221083065,
          1.8461172032230562,
          -0.45845633020735316,
          1.2562126486282355,
          -0.7463729527436335,
          0.07580553003946819,
          -0.8516574150018253,
          -0.370335400938513,
          0.2152695059196037,
          -1.8848171565320522,
          -0.10570196660186361,
          -0.2505068644384753,
          -0.5105942242224086,
          0.6139344751993816,
          -0.4737087543127613,
          -0.510188215541777,
          -1.3732479220251184,
          0.2767888416064128,
          -0.757193036837109,
          -0.8614603832931432,
          -0.557865585916297,
          0.9146575558097446,
          -1.5926850872805938,
          -0.8666455086184387,
          -0.536189391669879,
          -0.1342509107682199,
          0.7126084653006022,
          0.33245708912809635,
          -0.45858295913384756,
          -1.9653719811077877
         ]
        },
        {
         "histfunc": "count",
         "histnorm": "",
         "marker": {
          "color": "rgba(128, 0, 128, 1.0)",
          "line": {
           "color": "#4D5663",
           "width": 1.3
          }
         },
         "name": "D",
         "nbinsx": 30,
         "opacity": 0.8,
         "orientation": "v",
         "type": "histogram",
         "x": [
          1.2194998401815422,
          1.4913690042868526,
          0.5866339684329975,
          -0.8981621815400568,
          0.10167850804286419,
          -0.028381903162272983,
          -0.797979607898795,
          -0.22865948209205025,
          0.9532435168779463,
          0.93315048531111,
          1.4923707943986648,
          -0.5725789117978047,
          -0.2992674939912139,
          0.235709350300886,
          0.8351999504395523,
          0.5499302620579634,
          0.39304119881731764,
          0.7754212333815512,
          -0.09787901601362829,
          -0.23018426089024807,
          -0.46580940392060394,
          -0.6415912919024988,
          1.6379790384483537,
          1.554032022298955,
          0.45549533009842275,
          1.0031262484513215,
          1.3744089459600939,
          -1.3291581693843357,
          1.08096648864211,
          0.9019015033679907,
          -0.3592830930551365,
          -1.1249523410327373,
          -1.5875157299559755,
          -2.1062198846429347,
          0.025986401000826907,
          1.107055110853875,
          -0.40251434139730535,
          0.7445831803562862,
          0.129146395087142,
          -0.6820336215180516,
          1.153890938085677,
          -0.018211398924067236,
          -0.10426390036368663,
          1.1370735505214558,
          -1.688281763490834,
          0.1784278202773879,
          -0.04980231182279294,
          0.08938089451133488,
          -0.9210276455703743,
          0.3738223326718488,
          -0.1225170591280318,
          -2.157678449864731,
          -1.466295277308384,
          -1.2590354402311885,
          -1.714943627485368,
          0.09930544733285096,
          0.44262751580901993,
          0.11698678890919124,
          1.23977238365395,
          0.39026593502045837,
          -0.8269971459787546,
          -2.002139406375383,
          1.4340395753856423,
          -1.4074271264849452,
          -0.8535461491029694,
          -0.24604970837605986,
          -0.5921374277366798,
          0.03455704122587057,
          1.2854317626397362,
          -0.8475504293300136,
          0.7367096866032476,
          0.771477834869765,
          1.2046137179958973,
          -0.06032608825021621,
          1.3807155679355227,
          -0.5888565686343111,
          -0.3999907165483855,
          -1.8003727732432382,
          0.41430467294995027,
          0.30757970826674325,
          -0.24598597165186836,
          -1.2979224753787815,
          -1.0890247707256264,
          -1.481762559002663,
          0.4368807885545567,
          -0.24700045581395563,
          -2.2639443216507162,
          -0.6277351372321153,
          0.3524778826059403,
          0.042900047732522026,
          0.7032593947332072,
          1.0024635365061323,
          1.041521153522514,
          0.04485887562230921,
          -1.1001807578663265,
          0.26350896070320257,
          -0.6103259308751904,
          -2.2411846779712126,
          0.45973392781672434,
          -1.3772481632190896
         ]
        }
       ],
       "layout": {
        "barmode": "overlay",
        "legend": {
         "bgcolor": "#F5F6F9",
         "font": {
          "color": "#4D5663"
         }
        },
        "paper_bgcolor": "#F5F6F9",
        "plot_bgcolor": "#F5F6F9",
        "template": {
         "data": {
          "bar": [
           {
            "error_x": {
             "color": "#2a3f5f"
            },
            "error_y": {
             "color": "#2a3f5f"
            },
            "marker": {
             "line": {
              "color": "#E5ECF6",
              "width": 0.5
             },
             "pattern": {
              "fillmode": "overlay",
              "size": 10,
              "solidity": 0.2
             }
            },
            "type": "bar"
           }
          ],
          "barpolar": [
           {
            "marker": {
             "line": {
              "color": "#E5ECF6",
              "width": 0.5
             },
             "pattern": {
              "fillmode": "overlay",
              "size": 10,
              "solidity": 0.2
             }
            },
            "type": "barpolar"
           }
          ],
          "carpet": [
           {
            "aaxis": {
             "endlinecolor": "#2a3f5f",
             "gridcolor": "white",
             "linecolor": "white",
             "minorgridcolor": "white",
             "startlinecolor": "#2a3f5f"
            },
            "baxis": {
             "endlinecolor": "#2a3f5f",
             "gridcolor": "white",
             "linecolor": "white",
             "minorgridcolor": "white",
             "startlinecolor": "#2a3f5f"
            },
            "type": "carpet"
           }
          ],
          "choropleth": [
           {
            "colorbar": {
             "outlinewidth": 0,
             "ticks": ""
            },
            "type": "choropleth"
           }
          ],
          "contour": [
           {
            "colorbar": {
             "outlinewidth": 0,
             "ticks": ""
            },
            "colorscale": [
             [
              0,
              "#0d0887"
             ],
             [
              0.1111111111111111,
              "#46039f"
             ],
             [
              0.2222222222222222,
              "#7201a8"
             ],
             [
              0.3333333333333333,
              "#9c179e"
             ],
             [
              0.4444444444444444,
              "#bd3786"
             ],
             [
              0.5555555555555556,
              "#d8576b"
             ],
             [
              0.6666666666666666,
              "#ed7953"
             ],
             [
              0.7777777777777778,
              "#fb9f3a"
             ],
             [
              0.8888888888888888,
              "#fdca26"
             ],
             [
              1,
              "#f0f921"
             ]
            ],
            "type": "contour"
           }
          ],
          "contourcarpet": [
           {
            "colorbar": {
             "outlinewidth": 0,
             "ticks": ""
            },
            "type": "contourcarpet"
           }
          ],
          "heatmap": [
           {
            "colorbar": {
             "outlinewidth": 0,
             "ticks": ""
            },
            "colorscale": [
             [
              0,
              "#0d0887"
             ],
             [
              0.1111111111111111,
              "#46039f"
             ],
             [
              0.2222222222222222,
              "#7201a8"
             ],
             [
              0.3333333333333333,
              "#9c179e"
             ],
             [
              0.4444444444444444,
              "#bd3786"
             ],
             [
              0.5555555555555556,
              "#d8576b"
             ],
             [
              0.6666666666666666,
              "#ed7953"
             ],
             [
              0.7777777777777778,
              "#fb9f3a"
             ],
             [
              0.8888888888888888,
              "#fdca26"
             ],
             [
              1,
              "#f0f921"
             ]
            ],
            "type": "heatmap"
           }
          ],
          "heatmapgl": [
           {
            "colorbar": {
             "outlinewidth": 0,
             "ticks": ""
            },
            "colorscale": [
             [
              0,
              "#0d0887"
             ],
             [
              0.1111111111111111,
              "#46039f"
             ],
             [
              0.2222222222222222,
              "#7201a8"
             ],
             [
              0.3333333333333333,
              "#9c179e"
             ],
             [
              0.4444444444444444,
              "#bd3786"
             ],
             [
              0.5555555555555556,
              "#d8576b"
             ],
             [
              0.6666666666666666,
              "#ed7953"
             ],
             [
              0.7777777777777778,
              "#fb9f3a"
             ],
             [
              0.8888888888888888,
              "#fdca26"
             ],
             [
              1,
              "#f0f921"
             ]
            ],
            "type": "heatmapgl"
           }
          ],
          "histogram": [
           {
            "marker": {
             "pattern": {
              "fillmode": "overlay",
              "size": 10,
              "solidity": 0.2
             }
            },
            "type": "histogram"
           }
          ],
          "histogram2d": [
           {
            "colorbar": {
             "outlinewidth": 0,
             "ticks": ""
            },
            "colorscale": [
             [
              0,
              "#0d0887"
             ],
             [
              0.1111111111111111,
              "#46039f"
             ],
             [
              0.2222222222222222,
              "#7201a8"
             ],
             [
              0.3333333333333333,
              "#9c179e"
             ],
             [
              0.4444444444444444,
              "#bd3786"
             ],
             [
              0.5555555555555556,
              "#d8576b"
             ],
             [
              0.6666666666666666,
              "#ed7953"
             ],
             [
              0.7777777777777778,
              "#fb9f3a"
             ],
             [
              0.8888888888888888,
              "#fdca26"
             ],
             [
              1,
              "#f0f921"
             ]
            ],
            "type": "histogram2d"
           }
          ],
          "histogram2dcontour": [
           {
            "colorbar": {
             "outlinewidth": 0,
             "ticks": ""
            },
            "colorscale": [
             [
              0,
              "#0d0887"
             ],
             [
              0.1111111111111111,
              "#46039f"
             ],
             [
              0.2222222222222222,
              "#7201a8"
             ],
             [
              0.3333333333333333,
              "#9c179e"
             ],
             [
              0.4444444444444444,
              "#bd3786"
             ],
             [
              0.5555555555555556,
              "#d8576b"
             ],
             [
              0.6666666666666666,
              "#ed7953"
             ],
             [
              0.7777777777777778,
              "#fb9f3a"
             ],
             [
              0.8888888888888888,
              "#fdca26"
             ],
             [
              1,
              "#f0f921"
             ]
            ],
            "type": "histogram2dcontour"
           }
          ],
          "mesh3d": [
           {
            "colorbar": {
             "outlinewidth": 0,
             "ticks": ""
            },
            "type": "mesh3d"
           }
          ],
          "parcoords": [
           {
            "line": {
             "colorbar": {
              "outlinewidth": 0,
              "ticks": ""
             }
            },
            "type": "parcoords"
           }
          ],
          "pie": [
           {
            "automargin": true,
            "type": "pie"
           }
          ],
          "scatter": [
           {
            "marker": {
             "colorbar": {
              "outlinewidth": 0,
              "ticks": ""
             }
            },
            "type": "scatter"
           }
          ],
          "scatter3d": [
           {
            "line": {
             "colorbar": {
              "outlinewidth": 0,
              "ticks": ""
             }
            },
            "marker": {
             "colorbar": {
              "outlinewidth": 0,
              "ticks": ""
             }
            },
            "type": "scatter3d"
           }
          ],
          "scattercarpet": [
           {
            "marker": {
             "colorbar": {
              "outlinewidth": 0,
              "ticks": ""
             }
            },
            "type": "scattercarpet"
           }
          ],
          "scattergeo": [
           {
            "marker": {
             "colorbar": {
              "outlinewidth": 0,
              "ticks": ""
             }
            },
            "type": "scattergeo"
           }
          ],
          "scattergl": [
           {
            "marker": {
             "colorbar": {
              "outlinewidth": 0,
              "ticks": ""
             }
            },
            "type": "scattergl"
           }
          ],
          "scattermapbox": [
           {
            "marker": {
             "colorbar": {
              "outlinewidth": 0,
              "ticks": ""
             }
            },
            "type": "scattermapbox"
           }
          ],
          "scatterpolar": [
           {
            "marker": {
             "colorbar": {
              "outlinewidth": 0,
              "ticks": ""
             }
            },
            "type": "scatterpolar"
           }
          ],
          "scatterpolargl": [
           {
            "marker": {
             "colorbar": {
              "outlinewidth": 0,
              "ticks": ""
             }
            },
            "type": "scatterpolargl"
           }
          ],
          "scatterternary": [
           {
            "marker": {
             "colorbar": {
              "outlinewidth": 0,
              "ticks": ""
             }
            },
            "type": "scatterternary"
           }
          ],
          "surface": [
           {
            "colorbar": {
             "outlinewidth": 0,
             "ticks": ""
            },
            "colorscale": [
             [
              0,
              "#0d0887"
             ],
             [
              0.1111111111111111,
              "#46039f"
             ],
             [
              0.2222222222222222,
              "#7201a8"
             ],
             [
              0.3333333333333333,
              "#9c179e"
             ],
             [
              0.4444444444444444,
              "#bd3786"
             ],
             [
              0.5555555555555556,
              "#d8576b"
             ],
             [
              0.6666666666666666,
              "#ed7953"
             ],
             [
              0.7777777777777778,
              "#fb9f3a"
             ],
             [
              0.8888888888888888,
              "#fdca26"
             ],
             [
              1,
              "#f0f921"
             ]
            ],
            "type": "surface"
           }
          ],
          "table": [
           {
            "cells": {
             "fill": {
              "color": "#EBF0F8"
             },
             "line": {
              "color": "white"
             }
            },
            "header": {
             "fill": {
              "color": "#C8D4E3"
             },
             "line": {
              "color": "white"
             }
            },
            "type": "table"
           }
          ]
         },
         "layout": {
          "annotationdefaults": {
           "arrowcolor": "#2a3f5f",
           "arrowhead": 0,
           "arrowwidth": 1
          },
          "autotypenumbers": "strict",
          "coloraxis": {
           "colorbar": {
            "outlinewidth": 0,
            "ticks": ""
           }
          },
          "colorscale": {
           "diverging": [
            [
             0,
             "#8e0152"
            ],
            [
             0.1,
             "#c51b7d"
            ],
            [
             0.2,
             "#de77ae"
            ],
            [
             0.3,
             "#f1b6da"
            ],
            [
             0.4,
             "#fde0ef"
            ],
            [
             0.5,
             "#f7f7f7"
            ],
            [
             0.6,
             "#e6f5d0"
            ],
            [
             0.7,
             "#b8e186"
            ],
            [
             0.8,
             "#7fbc41"
            ],
            [
             0.9,
             "#4d9221"
            ],
            [
             1,
             "#276419"
            ]
           ],
           "sequential": [
            [
             0,
             "#0d0887"
            ],
            [
             0.1111111111111111,
             "#46039f"
            ],
            [
             0.2222222222222222,
             "#7201a8"
            ],
            [
             0.3333333333333333,
             "#9c179e"
            ],
            [
             0.4444444444444444,
             "#bd3786"
            ],
            [
             0.5555555555555556,
             "#d8576b"
            ],
            [
             0.6666666666666666,
             "#ed7953"
            ],
            [
             0.7777777777777778,
             "#fb9f3a"
            ],
            [
             0.8888888888888888,
             "#fdca26"
            ],
            [
             1,
             "#f0f921"
            ]
           ],
           "sequentialminus": [
            [
             0,
             "#0d0887"
            ],
            [
             0.1111111111111111,
             "#46039f"
            ],
            [
             0.2222222222222222,
             "#7201a8"
            ],
            [
             0.3333333333333333,
             "#9c179e"
            ],
            [
             0.4444444444444444,
             "#bd3786"
            ],
            [
             0.5555555555555556,
             "#d8576b"
            ],
            [
             0.6666666666666666,
             "#ed7953"
            ],
            [
             0.7777777777777778,
             "#fb9f3a"
            ],
            [
             0.8888888888888888,
             "#fdca26"
            ],
            [
             1,
             "#f0f921"
            ]
           ]
          },
          "colorway": [
           "#636efa",
           "#EF553B",
           "#00cc96",
           "#ab63fa",
           "#FFA15A",
           "#19d3f3",
           "#FF6692",
           "#B6E880",
           "#FF97FF",
           "#FECB52"
          ],
          "font": {
           "color": "#2a3f5f"
          },
          "geo": {
           "bgcolor": "white",
           "lakecolor": "white",
           "landcolor": "#E5ECF6",
           "showlakes": true,
           "showland": true,
           "subunitcolor": "white"
          },
          "hoverlabel": {
           "align": "left"
          },
          "hovermode": "closest",
          "mapbox": {
           "style": "light"
          },
          "paper_bgcolor": "white",
          "plot_bgcolor": "#E5ECF6",
          "polar": {
           "angularaxis": {
            "gridcolor": "white",
            "linecolor": "white",
            "ticks": ""
           },
           "bgcolor": "#E5ECF6",
           "radialaxis": {
            "gridcolor": "white",
            "linecolor": "white",
            "ticks": ""
           }
          },
          "scene": {
           "xaxis": {
            "backgroundcolor": "#E5ECF6",
            "gridcolor": "white",
            "gridwidth": 2,
            "linecolor": "white",
            "showbackground": true,
            "ticks": "",
            "zerolinecolor": "white"
           },
           "yaxis": {
            "backgroundcolor": "#E5ECF6",
            "gridcolor": "white",
            "gridwidth": 2,
            "linecolor": "white",
            "showbackground": true,
            "ticks": "",
            "zerolinecolor": "white"
           },
           "zaxis": {
            "backgroundcolor": "#E5ECF6",
            "gridcolor": "white",
            "gridwidth": 2,
            "linecolor": "white",
            "showbackground": true,
            "ticks": "",
            "zerolinecolor": "white"
           }
          },
          "shapedefaults": {
           "line": {
            "color": "#2a3f5f"
           }
          },
          "ternary": {
           "aaxis": {
            "gridcolor": "white",
            "linecolor": "white",
            "ticks": ""
           },
           "baxis": {
            "gridcolor": "white",
            "linecolor": "white",
            "ticks": ""
           },
           "bgcolor": "#E5ECF6",
           "caxis": {
            "gridcolor": "white",
            "linecolor": "white",
            "ticks": ""
           }
          },
          "title": {
           "x": 0.05
          },
          "xaxis": {
           "automargin": true,
           "gridcolor": "white",
           "linecolor": "white",
           "ticks": "",
           "title": {
            "standoff": 15
           },
           "zerolinecolor": "white",
           "zerolinewidth": 2
          },
          "yaxis": {
           "automargin": true,
           "gridcolor": "white",
           "linecolor": "white",
           "ticks": "",
           "title": {
            "standoff": 15
           },
           "zerolinecolor": "white",
           "zerolinewidth": 2
          }
         }
        },
        "title": {
         "font": {
          "color": "#4D5663"
         }
        },
        "xaxis": {
         "gridcolor": "#E1E5ED",
         "showgrid": true,
         "tickfont": {
          "color": "#4D5663"
         },
         "title": {
          "font": {
           "color": "#4D5663"
          },
          "text": ""
         },
         "zerolinecolor": "#E1E5ED"
        },
        "yaxis": {
         "gridcolor": "#E1E5ED",
         "showgrid": true,
         "tickfont": {
          "color": "#4D5663"
         },
         "title": {
          "font": {
           "color": "#4D5663"
          },
          "text": ""
         },
         "zerolinecolor": "#E1E5ED"
        }
       }
      },
      "text/html": [
       "<div>                            <div id=\"2c8cbe50-b24e-4039-8e6a-dd4b7ad4f01e\" class=\"plotly-graph-div\" style=\"height:525px; width:100%;\"></div>            <script type=\"text/javascript\">                require([\"plotly\"], function(Plotly) {                    window.PLOTLYENV=window.PLOTLYENV || {};\n",
       "                    window.PLOTLYENV.BASE_URL='https://plot.ly';                                    if (document.getElementById(\"2c8cbe50-b24e-4039-8e6a-dd4b7ad4f01e\")) {                    Plotly.newPlot(                        \"2c8cbe50-b24e-4039-8e6a-dd4b7ad4f01e\",                        [{\"histfunc\":\"count\",\"histnorm\":\"\",\"marker\":{\"color\":\"rgba(255, 153, 51, 1.0)\",\"line\":{\"color\":\"#4D5663\",\"width\":1.3}},\"name\":\"A\",\"nbinsx\":30,\"opacity\":0.8,\"orientation\":\"v\",\"x\":[-1.3813706255062617,0.8065087300796255,0.3418651186982201,-0.3323817128521051,2.1231407918626863,-1.1202630656804664,-0.0838679423613188,-0.2323656787814356,-0.4448817191163479,-0.06875353456729144,-0.049574301014722454,2.210801449350267,-1.1063203713174574,-0.6063103665598676,-0.7011439170998087,-0.45395970306502087,2.766671816092905,0.5699573520404393,0.8808174816908407,1.3800745892046544,-0.1603764834931205,-1.0622118661110387,-1.562271295381666,-0.57761248853128,-0.8179651173239639,1.3851094626150695,1.419717830017316,1.490032752768479,0.4839879897208073,2.846600051376337,-0.19327060595834927,0.10695835574762955,-1.2772804565698301,0.1457265969364036,0.4980186780688667,0.37059896130240544,-1.7873621950489733,-0.8815719530555712,-1.0904553304750297,0.31263785194698335,-1.7657329345102317,-1.6644896212258584,-0.9985986717447229,-5.7910567175379e-05,-1.331707814385081,0.1134252366886889,0.759414790394926,-0.0599661947972707,0.6906859639390763,0.354321372436767,-1.1380592776587406,-0.9992273007320776,0.08349219406595834,1.4708225882710029,2.2572721833274625,0.7709653112317927,-0.23877889678292707,1.3451420206002938,-0.16746439868244084,0.5699618681293717,-0.3708267121936692,-1.8703385788607723,0.9215350628981622,-2.3333905191830175,0.43391561874284323,-0.7463278263388601,0.4737891000334945,1.0920180090401317,1.0325775036488705,-0.6106630768648215,-0.7382156222692969,-0.9584583679324162,-2.7421379622719124,-1.7506037789263569,0.31966563419627686,-0.7892062316286367,0.448996320741698,0.21294295276889807,0.9160624812720353,-0.28604664133610624,0.30985990443739675,-0.46754536872788194,-0.11610969135353229,0.48391664650310773,-0.520395981311585,1.1541095181196932,-0.45352152882079416,-0.05789549270731017,-1.2919838016797072,-0.3090001479193332,0.569241312546446,-0.934322907187918,0.3443265950499941,0.1456857429217968,-0.16409306709076685,0.5505366687670102,-1.2457267972453103,2.1972545707069133,-1.083598726767268,-2.39275691984455],\"type\":\"histogram\"},{\"histfunc\":\"count\",\"histnorm\":\"\",\"marker\":{\"color\":\"rgba(55, 128, 191, 1.0)\",\"line\":{\"color\":\"#4D5663\",\"width\":1.3}},\"name\":\"B\",\"nbinsx\":30,\"opacity\":0.8,\"orientation\":\"v\",\"x\":[0.39408508751691174,0.5597812290844585,1.1872882937316844,0.5261069177621385,0.8324150081424387,2.0229924948473155,0.8016952099182463,-0.27250856543923707,0.5991969917690078,0.012408271151590967,1.498575989045239,-1.5252754697159996,0.14066922828746695,0.2001614896562864,0.7393141086675633,0.5218190410445782,-0.14099631099514778,0.746320335451686,0.2882068249559392,-0.6261179226215818,-1.3453418809785471,0.4485083513661857,-0.30337254173453476,-0.2573198650134465,1.8340919440261283,-1.723238043505735,2.2560989316205946,0.08307241884321633,-0.17902782356976163,0.3746919695015312,0.6907935307424771,-1.9052738453037013,-0.6944962604391867,-0.9560653935208608,-0.1260645549119327,-0.2820678692564736,-0.2899959469285368,-0.8697374037589303,1.4866174930332687,-0.358924788703825,-1.5454270107479176,-1.526480268544885,-0.9045299027694891,-0.49427429863164674,-0.09974524282445445,0.9496340986727977,-0.8322150144236892,-0.8063792658634675,1.312605694412341,0.1685132896260088,-1.4139505639110368,-0.4482508192546252,-0.5273928906970727,-0.6484514233815363,1.2933196429677625,0.15955467005039792,-1.4435626349802602,0.4894758579829374,1.0182449643440812,0.20611253270759147,-2.0742934113938274,0.7261227044394204,-0.9894261852623139,0.43174655067239753,0.23595597214069036,-0.6426900200374779,-0.2730663543060331,-0.5447654206263307,1.47959887301995,-2.035056494382499,0.39249244408448947,-0.444491041437767,0.3489655282637713,0.6535654394632688,-1.1795812678279245,-0.5415330568975902,-0.21101973071373986,-0.12649315801693273,0.5722210235128772,1.4461631141087352,0.6147519214766572,0.526200192436856,1.3598304924670988,0.253727520804128,0.9508513571872201,-0.33096300255923383,0.6422459455412688,-1.182840275342704,0.7776106033058436,0.7251921984089881,-0.8992954636081043,-0.2659385388815195,1.8702168449694738,-0.7927214636265612,1.3740151971820014,0.7803432925385417,0.4547995097119779,-1.9189864701064838,0.742221013929439,-1.911585229275281],\"type\":\"histogram\"},{\"histfunc\":\"count\",\"histnorm\":\"\",\"marker\":{\"color\":\"rgba(50, 171, 96, 1.0)\",\"line\":{\"color\":\"#4D5663\",\"width\":1.3}},\"name\":\"C\",\"nbinsx\":30,\"opacity\":0.8,\"orientation\":\"v\",\"x\":[-0.2987894811036943,0.2225901646326759,0.4471936317963176,1.2814747332123524,-0.9552418673241627,2.060801706420197,-0.8797151015943191,-0.192546107039639,-0.46354470304234485,0.3305274097754041,0.5916004496576012,-1.375880586782106,-0.9207913336047217,0.14465223796691287,-0.2061086066280525,1.2674441883745204,0.20614590633728108,0.9052633794840721,0.9239174387714885,-0.7714672768665449,-0.1434020969717301,0.5585111397671629,1.0195780223148523,-0.07894797858200932,-1.8733880676435746,-0.41003749605034523,-0.3026443579727646,1.2821863127444708,-0.5565980490656567,-0.145248179737183,-1.8170013757109285,-1.1665076712559546,0.21431642850883828,-0.082021984380936,1.724281178128171,0.24318452448370406,2.0063449440240135,3.181650342247564,-0.17756112300209012,0.48670781257785706,-0.2216332574732512,0.9764349569522697,-1.2279952664572942,-0.7322244940565237,0.7038773844468086,-0.9825239295840146,0.6564170609631838,0.47320941675032435,-0.37464334670458405,-0.4532774880173421,-1.706366667605841,-0.4222680391946654,-0.29592653322574575,-0.20714821645298415,-0.8204968071147439,-1.9996417589002398,2.166104317282843,-0.022306212806870503,0.4551462595429836,-0.2979940515821381,-1.4818824407457283,-0.4780354334268793,0.41716212088670035,1.3046645507432006,-1.0411800096722719,-1.5130830164682152,-1.7434667903682146,-0.532914484831036,0.7692315168817534,0.7019656636207262,2.0538410221083065,1.8461172032230562,-0.45845633020735316,1.2562126486282355,-0.7463729527436335,0.07580553003946819,-0.8516574150018253,-0.370335400938513,0.2152695059196037,-1.8848171565320522,-0.10570196660186361,-0.2505068644384753,-0.5105942242224086,0.6139344751993816,-0.4737087543127613,-0.510188215541777,-1.3732479220251184,0.2767888416064128,-0.757193036837109,-0.8614603832931432,-0.557865585916297,0.9146575558097446,-1.5926850872805938,-0.8666455086184387,-0.536189391669879,-0.1342509107682199,0.7126084653006022,0.33245708912809635,-0.45858295913384756,-1.9653719811077877],\"type\":\"histogram\"},{\"histfunc\":\"count\",\"histnorm\":\"\",\"marker\":{\"color\":\"rgba(128, 0, 128, 1.0)\",\"line\":{\"color\":\"#4D5663\",\"width\":1.3}},\"name\":\"D\",\"nbinsx\":30,\"opacity\":0.8,\"orientation\":\"v\",\"x\":[1.2194998401815422,1.4913690042868526,0.5866339684329975,-0.8981621815400568,0.10167850804286419,-0.028381903162272983,-0.797979607898795,-0.22865948209205025,0.9532435168779463,0.93315048531111,1.4923707943986648,-0.5725789117978047,-0.2992674939912139,0.235709350300886,0.8351999504395523,0.5499302620579634,0.39304119881731764,0.7754212333815512,-0.09787901601362829,-0.23018426089024807,-0.46580940392060394,-0.6415912919024988,1.6379790384483537,1.554032022298955,0.45549533009842275,1.0031262484513215,1.3744089459600939,-1.3291581693843357,1.08096648864211,0.9019015033679907,-0.3592830930551365,-1.1249523410327373,-1.5875157299559755,-2.1062198846429347,0.025986401000826907,1.107055110853875,-0.40251434139730535,0.7445831803562862,0.129146395087142,-0.6820336215180516,1.153890938085677,-0.018211398924067236,-0.10426390036368663,1.1370735505214558,-1.688281763490834,0.1784278202773879,-0.04980231182279294,0.08938089451133488,-0.9210276455703743,0.3738223326718488,-0.1225170591280318,-2.157678449864731,-1.466295277308384,-1.2590354402311885,-1.714943627485368,0.09930544733285096,0.44262751580901993,0.11698678890919124,1.23977238365395,0.39026593502045837,-0.8269971459787546,-2.002139406375383,1.4340395753856423,-1.4074271264849452,-0.8535461491029694,-0.24604970837605986,-0.5921374277366798,0.03455704122587057,1.2854317626397362,-0.8475504293300136,0.7367096866032476,0.771477834869765,1.2046137179958973,-0.06032608825021621,1.3807155679355227,-0.5888565686343111,-0.3999907165483855,-1.8003727732432382,0.41430467294995027,0.30757970826674325,-0.24598597165186836,-1.2979224753787815,-1.0890247707256264,-1.481762559002663,0.4368807885545567,-0.24700045581395563,-2.2639443216507162,-0.6277351372321153,0.3524778826059403,0.042900047732522026,0.7032593947332072,1.0024635365061323,1.041521153522514,0.04485887562230921,-1.1001807578663265,0.26350896070320257,-0.6103259308751904,-2.2411846779712126,0.45973392781672434,-1.3772481632190896],\"type\":\"histogram\"}],                        {\"barmode\":\"overlay\",\"legend\":{\"bgcolor\":\"#F5F6F9\",\"font\":{\"color\":\"#4D5663\"}},\"paper_bgcolor\":\"#F5F6F9\",\"plot_bgcolor\":\"#F5F6F9\",\"template\":{\"data\":{\"barpolar\":[{\"marker\":{\"line\":{\"color\":\"#E5ECF6\",\"width\":0.5},\"pattern\":{\"fillmode\":\"overlay\",\"size\":10,\"solidity\":0.2}},\"type\":\"barpolar\"}],\"bar\":[{\"error_x\":{\"color\":\"#2a3f5f\"},\"error_y\":{\"color\":\"#2a3f5f\"},\"marker\":{\"line\":{\"color\":\"#E5ECF6\",\"width\":0.5},\"pattern\":{\"fillmode\":\"overlay\",\"size\":10,\"solidity\":0.2}},\"type\":\"bar\"}],\"carpet\":[{\"aaxis\":{\"endlinecolor\":\"#2a3f5f\",\"gridcolor\":\"white\",\"linecolor\":\"white\",\"minorgridcolor\":\"white\",\"startlinecolor\":\"#2a3f5f\"},\"baxis\":{\"endlinecolor\":\"#2a3f5f\",\"gridcolor\":\"white\",\"linecolor\":\"white\",\"minorgridcolor\":\"white\",\"startlinecolor\":\"#2a3f5f\"},\"type\":\"carpet\"}],\"choropleth\":[{\"colorbar\":{\"outlinewidth\":0,\"ticks\":\"\"},\"type\":\"choropleth\"}],\"contourcarpet\":[{\"colorbar\":{\"outlinewidth\":0,\"ticks\":\"\"},\"type\":\"contourcarpet\"}],\"contour\":[{\"colorbar\":{\"outlinewidth\":0,\"ticks\":\"\"},\"colorscale\":[[0.0,\"#0d0887\"],[0.1111111111111111,\"#46039f\"],[0.2222222222222222,\"#7201a8\"],[0.3333333333333333,\"#9c179e\"],[0.4444444444444444,\"#bd3786\"],[0.5555555555555556,\"#d8576b\"],[0.6666666666666666,\"#ed7953\"],[0.7777777777777778,\"#fb9f3a\"],[0.8888888888888888,\"#fdca26\"],[1.0,\"#f0f921\"]],\"type\":\"contour\"}],\"heatmapgl\":[{\"colorbar\":{\"outlinewidth\":0,\"ticks\":\"\"},\"colorscale\":[[0.0,\"#0d0887\"],[0.1111111111111111,\"#46039f\"],[0.2222222222222222,\"#7201a8\"],[0.3333333333333333,\"#9c179e\"],[0.4444444444444444,\"#bd3786\"],[0.5555555555555556,\"#d8576b\"],[0.6666666666666666,\"#ed7953\"],[0.7777777777777778,\"#fb9f3a\"],[0.8888888888888888,\"#fdca26\"],[1.0,\"#f0f921\"]],\"type\":\"heatmapgl\"}],\"heatmap\":[{\"colorbar\":{\"outlinewidth\":0,\"ticks\":\"\"},\"colorscale\":[[0.0,\"#0d0887\"],[0.1111111111111111,\"#46039f\"],[0.2222222222222222,\"#7201a8\"],[0.3333333333333333,\"#9c179e\"],[0.4444444444444444,\"#bd3786\"],[0.5555555555555556,\"#d8576b\"],[0.6666666666666666,\"#ed7953\"],[0.7777777777777778,\"#fb9f3a\"],[0.8888888888888888,\"#fdca26\"],[1.0,\"#f0f921\"]],\"type\":\"heatmap\"}],\"histogram2dcontour\":[{\"colorbar\":{\"outlinewidth\":0,\"ticks\":\"\"},\"colorscale\":[[0.0,\"#0d0887\"],[0.1111111111111111,\"#46039f\"],[0.2222222222222222,\"#7201a8\"],[0.3333333333333333,\"#9c179e\"],[0.4444444444444444,\"#bd3786\"],[0.5555555555555556,\"#d8576b\"],[0.6666666666666666,\"#ed7953\"],[0.7777777777777778,\"#fb9f3a\"],[0.8888888888888888,\"#fdca26\"],[1.0,\"#f0f921\"]],\"type\":\"histogram2dcontour\"}],\"histogram2d\":[{\"colorbar\":{\"outlinewidth\":0,\"ticks\":\"\"},\"colorscale\":[[0.0,\"#0d0887\"],[0.1111111111111111,\"#46039f\"],[0.2222222222222222,\"#7201a8\"],[0.3333333333333333,\"#9c179e\"],[0.4444444444444444,\"#bd3786\"],[0.5555555555555556,\"#d8576b\"],[0.6666666666666666,\"#ed7953\"],[0.7777777777777778,\"#fb9f3a\"],[0.8888888888888888,\"#fdca26\"],[1.0,\"#f0f921\"]],\"type\":\"histogram2d\"}],\"histogram\":[{\"marker\":{\"pattern\":{\"fillmode\":\"overlay\",\"size\":10,\"solidity\":0.2}},\"type\":\"histogram\"}],\"mesh3d\":[{\"colorbar\":{\"outlinewidth\":0,\"ticks\":\"\"},\"type\":\"mesh3d\"}],\"parcoords\":[{\"line\":{\"colorbar\":{\"outlinewidth\":0,\"ticks\":\"\"}},\"type\":\"parcoords\"}],\"pie\":[{\"automargin\":true,\"type\":\"pie\"}],\"scatter3d\":[{\"line\":{\"colorbar\":{\"outlinewidth\":0,\"ticks\":\"\"}},\"marker\":{\"colorbar\":{\"outlinewidth\":0,\"ticks\":\"\"}},\"type\":\"scatter3d\"}],\"scattercarpet\":[{\"marker\":{\"colorbar\":{\"outlinewidth\":0,\"ticks\":\"\"}},\"type\":\"scattercarpet\"}],\"scattergeo\":[{\"marker\":{\"colorbar\":{\"outlinewidth\":0,\"ticks\":\"\"}},\"type\":\"scattergeo\"}],\"scattergl\":[{\"marker\":{\"colorbar\":{\"outlinewidth\":0,\"ticks\":\"\"}},\"type\":\"scattergl\"}],\"scattermapbox\":[{\"marker\":{\"colorbar\":{\"outlinewidth\":0,\"ticks\":\"\"}},\"type\":\"scattermapbox\"}],\"scatterpolargl\":[{\"marker\":{\"colorbar\":{\"outlinewidth\":0,\"ticks\":\"\"}},\"type\":\"scatterpolargl\"}],\"scatterpolar\":[{\"marker\":{\"colorbar\":{\"outlinewidth\":0,\"ticks\":\"\"}},\"type\":\"scatterpolar\"}],\"scatter\":[{\"marker\":{\"colorbar\":{\"outlinewidth\":0,\"ticks\":\"\"}},\"type\":\"scatter\"}],\"scatterternary\":[{\"marker\":{\"colorbar\":{\"outlinewidth\":0,\"ticks\":\"\"}},\"type\":\"scatterternary\"}],\"surface\":[{\"colorbar\":{\"outlinewidth\":0,\"ticks\":\"\"},\"colorscale\":[[0.0,\"#0d0887\"],[0.1111111111111111,\"#46039f\"],[0.2222222222222222,\"#7201a8\"],[0.3333333333333333,\"#9c179e\"],[0.4444444444444444,\"#bd3786\"],[0.5555555555555556,\"#d8576b\"],[0.6666666666666666,\"#ed7953\"],[0.7777777777777778,\"#fb9f3a\"],[0.8888888888888888,\"#fdca26\"],[1.0,\"#f0f921\"]],\"type\":\"surface\"}],\"table\":[{\"cells\":{\"fill\":{\"color\":\"#EBF0F8\"},\"line\":{\"color\":\"white\"}},\"header\":{\"fill\":{\"color\":\"#C8D4E3\"},\"line\":{\"color\":\"white\"}},\"type\":\"table\"}]},\"layout\":{\"annotationdefaults\":{\"arrowcolor\":\"#2a3f5f\",\"arrowhead\":0,\"arrowwidth\":1},\"autotypenumbers\":\"strict\",\"coloraxis\":{\"colorbar\":{\"outlinewidth\":0,\"ticks\":\"\"}},\"colorscale\":{\"diverging\":[[0,\"#8e0152\"],[0.1,\"#c51b7d\"],[0.2,\"#de77ae\"],[0.3,\"#f1b6da\"],[0.4,\"#fde0ef\"],[0.5,\"#f7f7f7\"],[0.6,\"#e6f5d0\"],[0.7,\"#b8e186\"],[0.8,\"#7fbc41\"],[0.9,\"#4d9221\"],[1,\"#276419\"]],\"sequential\":[[0.0,\"#0d0887\"],[0.1111111111111111,\"#46039f\"],[0.2222222222222222,\"#7201a8\"],[0.3333333333333333,\"#9c179e\"],[0.4444444444444444,\"#bd3786\"],[0.5555555555555556,\"#d8576b\"],[0.6666666666666666,\"#ed7953\"],[0.7777777777777778,\"#fb9f3a\"],[0.8888888888888888,\"#fdca26\"],[1.0,\"#f0f921\"]],\"sequentialminus\":[[0.0,\"#0d0887\"],[0.1111111111111111,\"#46039f\"],[0.2222222222222222,\"#7201a8\"],[0.3333333333333333,\"#9c179e\"],[0.4444444444444444,\"#bd3786\"],[0.5555555555555556,\"#d8576b\"],[0.6666666666666666,\"#ed7953\"],[0.7777777777777778,\"#fb9f3a\"],[0.8888888888888888,\"#fdca26\"],[1.0,\"#f0f921\"]]},\"colorway\":[\"#636efa\",\"#EF553B\",\"#00cc96\",\"#ab63fa\",\"#FFA15A\",\"#19d3f3\",\"#FF6692\",\"#B6E880\",\"#FF97FF\",\"#FECB52\"],\"font\":{\"color\":\"#2a3f5f\"},\"geo\":{\"bgcolor\":\"white\",\"lakecolor\":\"white\",\"landcolor\":\"#E5ECF6\",\"showlakes\":true,\"showland\":true,\"subunitcolor\":\"white\"},\"hoverlabel\":{\"align\":\"left\"},\"hovermode\":\"closest\",\"mapbox\":{\"style\":\"light\"},\"paper_bgcolor\":\"white\",\"plot_bgcolor\":\"#E5ECF6\",\"polar\":{\"angularaxis\":{\"gridcolor\":\"white\",\"linecolor\":\"white\",\"ticks\":\"\"},\"bgcolor\":\"#E5ECF6\",\"radialaxis\":{\"gridcolor\":\"white\",\"linecolor\":\"white\",\"ticks\":\"\"}},\"scene\":{\"xaxis\":{\"backgroundcolor\":\"#E5ECF6\",\"gridcolor\":\"white\",\"gridwidth\":2,\"linecolor\":\"white\",\"showbackground\":true,\"ticks\":\"\",\"zerolinecolor\":\"white\"},\"yaxis\":{\"backgroundcolor\":\"#E5ECF6\",\"gridcolor\":\"white\",\"gridwidth\":2,\"linecolor\":\"white\",\"showbackground\":true,\"ticks\":\"\",\"zerolinecolor\":\"white\"},\"zaxis\":{\"backgroundcolor\":\"#E5ECF6\",\"gridcolor\":\"white\",\"gridwidth\":2,\"linecolor\":\"white\",\"showbackground\":true,\"ticks\":\"\",\"zerolinecolor\":\"white\"}},\"shapedefaults\":{\"line\":{\"color\":\"#2a3f5f\"}},\"ternary\":{\"aaxis\":{\"gridcolor\":\"white\",\"linecolor\":\"white\",\"ticks\":\"\"},\"baxis\":{\"gridcolor\":\"white\",\"linecolor\":\"white\",\"ticks\":\"\"},\"bgcolor\":\"#E5ECF6\",\"caxis\":{\"gridcolor\":\"white\",\"linecolor\":\"white\",\"ticks\":\"\"}},\"title\":{\"x\":0.05},\"xaxis\":{\"automargin\":true,\"gridcolor\":\"white\",\"linecolor\":\"white\",\"ticks\":\"\",\"title\":{\"standoff\":15},\"zerolinecolor\":\"white\",\"zerolinewidth\":2},\"yaxis\":{\"automargin\":true,\"gridcolor\":\"white\",\"linecolor\":\"white\",\"ticks\":\"\",\"title\":{\"standoff\":15},\"zerolinecolor\":\"white\",\"zerolinewidth\":2}}},\"title\":{\"font\":{\"color\":\"#4D5663\"}},\"xaxis\":{\"gridcolor\":\"#E1E5ED\",\"showgrid\":true,\"tickfont\":{\"color\":\"#4D5663\"},\"title\":{\"font\":{\"color\":\"#4D5663\"},\"text\":\"\"},\"zerolinecolor\":\"#E1E5ED\"},\"yaxis\":{\"gridcolor\":\"#E1E5ED\",\"showgrid\":true,\"tickfont\":{\"color\":\"#4D5663\"},\"title\":{\"font\":{\"color\":\"#4D5663\"},\"text\":\"\"},\"zerolinecolor\":\"#E1E5ED\"}},                        {\"showLink\": true, \"linkText\": \"Export to plot.ly\", \"plotlyServerURL\": \"https://plot.ly\", \"responsive\": true}                    ).then(function(){\n",
       "                            \n",
       "var gd = document.getElementById('2c8cbe50-b24e-4039-8e6a-dd4b7ad4f01e');\n",
       "var x = new MutationObserver(function (mutations, observer) {{\n",
       "        var display = window.getComputedStyle(gd).display;\n",
       "        if (!display || display === 'none') {{\n",
       "            console.log([gd, 'removed!']);\n",
       "            Plotly.purge(gd);\n",
       "            observer.disconnect();\n",
       "        }}\n",
       "}});\n",
       "\n",
       "// Listen for the removal of the full notebook cells\n",
       "var notebookContainer = gd.closest('#notebook-container');\n",
       "if (notebookContainer) {{\n",
       "    x.observe(notebookContainer, {childList: true});\n",
       "}}\n",
       "\n",
       "// Listen for the clearing of the current output cell\n",
       "var outputEl = gd.closest('.output');\n",
       "if (outputEl) {{\n",
       "    x.observe(outputEl, {childList: true});\n",
       "}}\n",
       "\n",
       "                        })                };                });            </script>        </div>"
      ]
     },
     "metadata": {},
     "output_type": "display_data"
    }
   ],
   "source": [
    "df.iplot(kind='hist',bins=30)"
   ]
  },
  {
   "cell_type": "code",
   "execution_count": 56,
   "id": "f662f59d",
   "metadata": {},
   "outputs": [
    {
     "name": "stderr",
     "output_type": "stream",
     "text": [
      "C:\\ProgramData\\Anaconda3\\lib\\site-packages\\cufflinks\\plotlytools.py:849: FutureWarning:\n",
      "\n",
      "The pandas.np module is deprecated and will be removed from pandas in a future version. Import numpy directly instead\n",
      "\n",
      "C:\\ProgramData\\Anaconda3\\lib\\site-packages\\cufflinks\\plotlytools.py:850: FutureWarning:\n",
      "\n",
      "The pandas.np module is deprecated and will be removed from pandas in a future version. Import numpy directly instead\n",
      "\n"
     ]
    },
    {
     "data": {
      "application/vnd.plotly.v1+json": {
       "config": {
        "linkText": "Export to plot.ly",
        "plotlyServerURL": "https://plot.ly",
        "showLink": true
       },
       "data": [
        {
         "line": {
          "color": "rgba(255, 153, 51, 1.0)",
          "dash": "solid",
          "shape": "linear",
          "width": 1.3
         },
         "mode": "lines",
         "name": "A",
         "text": "",
         "type": "scatter",
         "x": [
          0,
          1,
          2,
          3,
          4,
          5,
          6,
          7,
          8,
          9,
          10,
          11,
          12,
          13,
          14,
          15,
          16,
          17,
          18,
          19,
          20,
          21,
          22,
          23,
          24,
          25,
          26,
          27,
          28,
          29,
          30,
          31,
          32,
          33,
          34,
          35,
          36,
          37,
          38,
          39,
          40,
          41,
          42,
          43,
          44,
          45,
          46,
          47,
          48,
          49,
          50,
          51,
          52,
          53,
          54,
          55,
          56,
          57,
          58,
          59,
          60,
          61,
          62,
          63,
          64,
          65,
          66,
          67,
          68,
          69,
          70,
          71,
          72,
          73,
          74,
          75,
          76,
          77,
          78,
          79,
          80,
          81,
          82,
          83,
          84,
          85,
          86,
          87,
          88,
          89,
          90,
          91,
          92,
          93,
          94,
          95,
          96,
          97,
          98,
          99
         ],
         "y": [
          -1.3813706255062617,
          0.8065087300796255,
          0.3418651186982201,
          -0.3323817128521051,
          2.1231407918626863,
          -1.1202630656804664,
          -0.0838679423613188,
          -0.2323656787814356,
          -0.4448817191163479,
          -0.06875353456729144,
          -0.049574301014722454,
          2.210801449350267,
          -1.1063203713174574,
          -0.6063103665598676,
          -0.7011439170998087,
          -0.45395970306502087,
          2.766671816092905,
          0.5699573520404393,
          0.8808174816908407,
          1.3800745892046544,
          -0.1603764834931205,
          -1.0622118661110387,
          -1.562271295381666,
          -0.57761248853128,
          -0.8179651173239639,
          1.3851094626150695,
          1.419717830017316,
          1.490032752768479,
          0.4839879897208073,
          2.846600051376337,
          -0.19327060595834927,
          0.10695835574762955,
          -1.2772804565698301,
          0.1457265969364036,
          0.4980186780688667,
          0.37059896130240544,
          -1.7873621950489733,
          -0.8815719530555712,
          -1.0904553304750297,
          0.31263785194698335,
          -1.7657329345102317,
          -1.6644896212258584,
          -0.9985986717447229,
          -5.7910567175379e-05,
          -1.331707814385081,
          0.1134252366886889,
          0.759414790394926,
          -0.0599661947972707,
          0.6906859639390763,
          0.354321372436767,
          -1.1380592776587406,
          -0.9992273007320776,
          0.08349219406595834,
          1.4708225882710029,
          2.2572721833274625,
          0.7709653112317927,
          -0.23877889678292707,
          1.3451420206002938,
          -0.16746439868244084,
          0.5699618681293717,
          -0.3708267121936692,
          -1.8703385788607723,
          0.9215350628981622,
          -2.3333905191830175,
          0.43391561874284323,
          -0.7463278263388601,
          0.4737891000334945,
          1.0920180090401317,
          1.0325775036488705,
          -0.6106630768648215,
          -0.7382156222692969,
          -0.9584583679324162,
          -2.7421379622719124,
          -1.7506037789263569,
          0.31966563419627686,
          -0.7892062316286367,
          0.448996320741698,
          0.21294295276889807,
          0.9160624812720353,
          -0.28604664133610624,
          0.30985990443739675,
          -0.46754536872788194,
          -0.11610969135353229,
          0.48391664650310773,
          -0.520395981311585,
          1.1541095181196932,
          -0.45352152882079416,
          -0.05789549270731017,
          -1.2919838016797072,
          -0.3090001479193332,
          0.569241312546446,
          -0.934322907187918,
          0.3443265950499941,
          0.1456857429217968,
          -0.16409306709076685,
          0.5505366687670102,
          -1.2457267972453103,
          2.1972545707069133,
          -1.083598726767268,
          -2.39275691984455
         ]
        },
        {
         "line": {
          "color": "rgba(55, 128, 191, 1.0)",
          "dash": "solid",
          "shape": "linear",
          "width": 1.3
         },
         "mode": "lines",
         "name": "B",
         "text": "",
         "type": "scatter",
         "x": [
          0,
          1,
          2,
          3,
          4,
          5,
          6,
          7,
          8,
          9,
          10,
          11,
          12,
          13,
          14,
          15,
          16,
          17,
          18,
          19,
          20,
          21,
          22,
          23,
          24,
          25,
          26,
          27,
          28,
          29,
          30,
          31,
          32,
          33,
          34,
          35,
          36,
          37,
          38,
          39,
          40,
          41,
          42,
          43,
          44,
          45,
          46,
          47,
          48,
          49,
          50,
          51,
          52,
          53,
          54,
          55,
          56,
          57,
          58,
          59,
          60,
          61,
          62,
          63,
          64,
          65,
          66,
          67,
          68,
          69,
          70,
          71,
          72,
          73,
          74,
          75,
          76,
          77,
          78,
          79,
          80,
          81,
          82,
          83,
          84,
          85,
          86,
          87,
          88,
          89,
          90,
          91,
          92,
          93,
          94,
          95,
          96,
          97,
          98,
          99
         ],
         "y": [
          0.39408508751691174,
          0.5597812290844585,
          1.1872882937316844,
          0.5261069177621385,
          0.8324150081424387,
          2.0229924948473155,
          0.8016952099182463,
          -0.27250856543923707,
          0.5991969917690078,
          0.012408271151590967,
          1.498575989045239,
          -1.5252754697159996,
          0.14066922828746695,
          0.2001614896562864,
          0.7393141086675633,
          0.5218190410445782,
          -0.14099631099514778,
          0.746320335451686,
          0.2882068249559392,
          -0.6261179226215818,
          -1.3453418809785471,
          0.4485083513661857,
          -0.30337254173453476,
          -0.2573198650134465,
          1.8340919440261283,
          -1.723238043505735,
          2.2560989316205946,
          0.08307241884321633,
          -0.17902782356976163,
          0.3746919695015312,
          0.6907935307424771,
          -1.9052738453037013,
          -0.6944962604391867,
          -0.9560653935208608,
          -0.1260645549119327,
          -0.2820678692564736,
          -0.2899959469285368,
          -0.8697374037589303,
          1.4866174930332687,
          -0.358924788703825,
          -1.5454270107479176,
          -1.526480268544885,
          -0.9045299027694891,
          -0.49427429863164674,
          -0.09974524282445445,
          0.9496340986727977,
          -0.8322150144236892,
          -0.8063792658634675,
          1.312605694412341,
          0.1685132896260088,
          -1.4139505639110368,
          -0.4482508192546252,
          -0.5273928906970727,
          -0.6484514233815363,
          1.2933196429677625,
          0.15955467005039792,
          -1.4435626349802602,
          0.4894758579829374,
          1.0182449643440812,
          0.20611253270759147,
          -2.0742934113938274,
          0.7261227044394204,
          -0.9894261852623139,
          0.43174655067239753,
          0.23595597214069036,
          -0.6426900200374779,
          -0.2730663543060331,
          -0.5447654206263307,
          1.47959887301995,
          -2.035056494382499,
          0.39249244408448947,
          -0.444491041437767,
          0.3489655282637713,
          0.6535654394632688,
          -1.1795812678279245,
          -0.5415330568975902,
          -0.21101973071373986,
          -0.12649315801693273,
          0.5722210235128772,
          1.4461631141087352,
          0.6147519214766572,
          0.526200192436856,
          1.3598304924670988,
          0.253727520804128,
          0.9508513571872201,
          -0.33096300255923383,
          0.6422459455412688,
          -1.182840275342704,
          0.7776106033058436,
          0.7251921984089881,
          -0.8992954636081043,
          -0.2659385388815195,
          1.8702168449694738,
          -0.7927214636265612,
          1.3740151971820014,
          0.7803432925385417,
          0.4547995097119779,
          -1.9189864701064838,
          0.742221013929439,
          -1.911585229275281
         ]
        },
        {
         "connectgaps": false,
         "fill": "tozeroy",
         "line": {
          "color": "green",
          "dash": "solid",
          "shape": "linear",
          "width": 0.5
         },
         "mode": "lines",
         "name": "Spread",
         "showlegend": false,
         "type": "scatter",
         "x": [
          0,
          1,
          2,
          3,
          4,
          5,
          6,
          7,
          8,
          9,
          10,
          11,
          12,
          13,
          14,
          15,
          16,
          17,
          18,
          19,
          20,
          21,
          22,
          23,
          24,
          25,
          26,
          27,
          28,
          29,
          30,
          31,
          32,
          33,
          34,
          35,
          36,
          37,
          38,
          39,
          40,
          41,
          42,
          43,
          44,
          45,
          46,
          47,
          48,
          49,
          50,
          51,
          52,
          53,
          54,
          55,
          56,
          57,
          58,
          59,
          60,
          61,
          62,
          63,
          64,
          65,
          66,
          67,
          68,
          69,
          70,
          71,
          72,
          73,
          74,
          75,
          76,
          77,
          78,
          79,
          80,
          81,
          82,
          83,
          84,
          85,
          86,
          87,
          88,
          89,
          90,
          91,
          92,
          93,
          94,
          95,
          96,
          97,
          98,
          99
         ],
         "xaxis": "x2",
         "y": [
          "",
          0.24672750099516705,
          "",
          "",
          1.2907257837202475,
          "",
          "",
          0.04014288665780147,
          "",
          "",
          "",
          3.7360769190662664,
          "",
          "",
          "",
          "",
          2.9076681270880527,
          "",
          0.5926106567349015,
          2.006192511826236,
          1.1849653974854266,
          "",
          "",
          "",
          "",
          3.1083475061208046,
          "",
          1.4069603339252625,
          0.6630158132905689,
          2.4719080818748056,
          "",
          2.0122322010513307,
          "",
          1.1017919904572644,
          0.6240832329807994,
          0.652666830558879,
          "",
          "",
          "",
          0.6715626406508084,
          "",
          "",
          "",
          0.4942163880644714,
          "",
          "",
          1.591629804818615,
          0.7464130710661968,
          "",
          0.18580808281075817,
          0.2758912862522962,
          "",
          0.610885084763031,
          2.1192740116525393,
          0.9639525403597,
          0.6114106411813948,
          1.204783738197333,
          0.8556661626173563,
          "",
          0.3638493354217802,
          1.7034666992001581,
          "",
          1.910961248160476,
          "",
          0.19795964660215287,
          "",
          0.7468554543395276,
          1.6367834296664623,
          "",
          1.4243934175176776,
          "",
          "",
          "",
          "",
          1.4992469020242014,
          "",
          0.6600160514554378,
          0.3394361107858308,
          0.3438414577591581,
          "",
          "",
          "",
          "",
          0.2301891256989797,
          "",
          1.485072520678927,
          "",
          1.124944782635394,
          "",
          "",
          1.4685367761545502,
          "",
          "",
          0.938407206548358,
          "",
          "",
          "",
          4.116241040813398,
          "",
          ""
         ],
         "yaxis": "y2"
        },
        {
         "connectgaps": false,
         "fill": "tozeroy",
         "line": {
          "color": "red",
          "dash": "solid",
          "shape": "linear",
          "width": 0.5
         },
         "mode": "lines",
         "name": "Spread",
         "showlegend": false,
         "type": "scatter",
         "x": [
          0,
          1,
          2,
          3,
          4,
          5,
          6,
          7,
          8,
          9,
          10,
          11,
          12,
          13,
          14,
          15,
          16,
          17,
          18,
          19,
          20,
          21,
          22,
          23,
          24,
          25,
          26,
          27,
          28,
          29,
          30,
          31,
          32,
          33,
          34,
          35,
          36,
          37,
          38,
          39,
          40,
          41,
          42,
          43,
          44,
          45,
          46,
          47,
          48,
          49,
          50,
          51,
          52,
          53,
          54,
          55,
          56,
          57,
          58,
          59,
          60,
          61,
          62,
          63,
          64,
          65,
          66,
          67,
          68,
          69,
          70,
          71,
          72,
          73,
          74,
          75,
          76,
          77,
          78,
          79,
          80,
          81,
          82,
          83,
          84,
          85,
          86,
          87,
          88,
          89,
          90,
          91,
          92,
          93,
          94,
          95,
          96,
          97,
          98,
          99
         ],
         "xaxis": "x2",
         "y": [
          -1.7754557130231734,
          "",
          -0.8454231750334643,
          -0.8584886306142436,
          "",
          -3.143255560527782,
          -0.8855631522795651,
          "",
          -1.0440787108853558,
          -0.0811618057188824,
          -1.5481502900599615,
          "",
          -1.2469895996049243,
          -0.806471856216154,
          -1.440458025767372,
          -0.9757787441095991,
          "",
          -0.17636298341124668,
          "",
          "",
          "",
          -1.5107202174772243,
          -1.2588987536471312,
          -0.3202926235178335,
          -2.6520570613500922,
          "",
          -0.8363811016032785,
          "",
          "",
          "",
          -0.8840641367008264,
          "",
          -0.5827841961306435,
          "",
          "",
          "",
          -1.4973662481204366,
          -0.011834549296640962,
          -2.5770728235082982,
          "",
          -0.22030592376231417,
          -0.13800935268097336,
          -0.09406876897523386,
          "",
          -1.2319625715606264,
          -0.8362088619841088,
          "",
          "",
          -0.6219197304732647,
          "",
          "",
          -0.5509764814774524,
          "",
          "",
          "",
          "",
          "",
          "",
          -1.185709363026522,
          "",
          "",
          -2.5964612833001928,
          "",
          -2.765137069855415,
          "",
          -0.1036378063013822,
          "",
          "",
          -0.4470213693710796,
          "",
          -1.1307080663537863,
          -0.5139673264946492,
          -3.0911034905356836,
          -2.404169218389626,
          "",
          -0.24767317473104644,
          "",
          "",
          "",
          -1.7322097554448415,
          -0.3048920170392605,
          -0.9937455611647379,
          -1.475940183820631,
          "",
          -1.4712473384988052,
          "",
          -1.095767474362063,
          "",
          -2.069594404985551,
          -1.0341923463283214,
          "",
          -0.6683843683063985,
          -1.5258902499194797,
          "",
          -1.5381082642727681,
          -0.2298066237715315,
          -1.7005263069572882,
          "",
          -1.825819740696707,
          -0.4811716905692691
         ],
         "yaxis": "y2"
        }
       ],
       "layout": {
        "hovermode": "x",
        "legend": {
         "bgcolor": "#F5F6F9",
         "font": {
          "color": "#4D5663"
         }
        },
        "paper_bgcolor": "#F5F6F9",
        "plot_bgcolor": "#F5F6F9",
        "template": {
         "data": {
          "bar": [
           {
            "error_x": {
             "color": "#2a3f5f"
            },
            "error_y": {
             "color": "#2a3f5f"
            },
            "marker": {
             "line": {
              "color": "#E5ECF6",
              "width": 0.5
             },
             "pattern": {
              "fillmode": "overlay",
              "size": 10,
              "solidity": 0.2
             }
            },
            "type": "bar"
           }
          ],
          "barpolar": [
           {
            "marker": {
             "line": {
              "color": "#E5ECF6",
              "width": 0.5
             },
             "pattern": {
              "fillmode": "overlay",
              "size": 10,
              "solidity": 0.2
             }
            },
            "type": "barpolar"
           }
          ],
          "carpet": [
           {
            "aaxis": {
             "endlinecolor": "#2a3f5f",
             "gridcolor": "white",
             "linecolor": "white",
             "minorgridcolor": "white",
             "startlinecolor": "#2a3f5f"
            },
            "baxis": {
             "endlinecolor": "#2a3f5f",
             "gridcolor": "white",
             "linecolor": "white",
             "minorgridcolor": "white",
             "startlinecolor": "#2a3f5f"
            },
            "type": "carpet"
           }
          ],
          "choropleth": [
           {
            "colorbar": {
             "outlinewidth": 0,
             "ticks": ""
            },
            "type": "choropleth"
           }
          ],
          "contour": [
           {
            "colorbar": {
             "outlinewidth": 0,
             "ticks": ""
            },
            "colorscale": [
             [
              0,
              "#0d0887"
             ],
             [
              0.1111111111111111,
              "#46039f"
             ],
             [
              0.2222222222222222,
              "#7201a8"
             ],
             [
              0.3333333333333333,
              "#9c179e"
             ],
             [
              0.4444444444444444,
              "#bd3786"
             ],
             [
              0.5555555555555556,
              "#d8576b"
             ],
             [
              0.6666666666666666,
              "#ed7953"
             ],
             [
              0.7777777777777778,
              "#fb9f3a"
             ],
             [
              0.8888888888888888,
              "#fdca26"
             ],
             [
              1,
              "#f0f921"
             ]
            ],
            "type": "contour"
           }
          ],
          "contourcarpet": [
           {
            "colorbar": {
             "outlinewidth": 0,
             "ticks": ""
            },
            "type": "contourcarpet"
           }
          ],
          "heatmap": [
           {
            "colorbar": {
             "outlinewidth": 0,
             "ticks": ""
            },
            "colorscale": [
             [
              0,
              "#0d0887"
             ],
             [
              0.1111111111111111,
              "#46039f"
             ],
             [
              0.2222222222222222,
              "#7201a8"
             ],
             [
              0.3333333333333333,
              "#9c179e"
             ],
             [
              0.4444444444444444,
              "#bd3786"
             ],
             [
              0.5555555555555556,
              "#d8576b"
             ],
             [
              0.6666666666666666,
              "#ed7953"
             ],
             [
              0.7777777777777778,
              "#fb9f3a"
             ],
             [
              0.8888888888888888,
              "#fdca26"
             ],
             [
              1,
              "#f0f921"
             ]
            ],
            "type": "heatmap"
           }
          ],
          "heatmapgl": [
           {
            "colorbar": {
             "outlinewidth": 0,
             "ticks": ""
            },
            "colorscale": [
             [
              0,
              "#0d0887"
             ],
             [
              0.1111111111111111,
              "#46039f"
             ],
             [
              0.2222222222222222,
              "#7201a8"
             ],
             [
              0.3333333333333333,
              "#9c179e"
             ],
             [
              0.4444444444444444,
              "#bd3786"
             ],
             [
              0.5555555555555556,
              "#d8576b"
             ],
             [
              0.6666666666666666,
              "#ed7953"
             ],
             [
              0.7777777777777778,
              "#fb9f3a"
             ],
             [
              0.8888888888888888,
              "#fdca26"
             ],
             [
              1,
              "#f0f921"
             ]
            ],
            "type": "heatmapgl"
           }
          ],
          "histogram": [
           {
            "marker": {
             "pattern": {
              "fillmode": "overlay",
              "size": 10,
              "solidity": 0.2
             }
            },
            "type": "histogram"
           }
          ],
          "histogram2d": [
           {
            "colorbar": {
             "outlinewidth": 0,
             "ticks": ""
            },
            "colorscale": [
             [
              0,
              "#0d0887"
             ],
             [
              0.1111111111111111,
              "#46039f"
             ],
             [
              0.2222222222222222,
              "#7201a8"
             ],
             [
              0.3333333333333333,
              "#9c179e"
             ],
             [
              0.4444444444444444,
              "#bd3786"
             ],
             [
              0.5555555555555556,
              "#d8576b"
             ],
             [
              0.6666666666666666,
              "#ed7953"
             ],
             [
              0.7777777777777778,
              "#fb9f3a"
             ],
             [
              0.8888888888888888,
              "#fdca26"
             ],
             [
              1,
              "#f0f921"
             ]
            ],
            "type": "histogram2d"
           }
          ],
          "histogram2dcontour": [
           {
            "colorbar": {
             "outlinewidth": 0,
             "ticks": ""
            },
            "colorscale": [
             [
              0,
              "#0d0887"
             ],
             [
              0.1111111111111111,
              "#46039f"
             ],
             [
              0.2222222222222222,
              "#7201a8"
             ],
             [
              0.3333333333333333,
              "#9c179e"
             ],
             [
              0.4444444444444444,
              "#bd3786"
             ],
             [
              0.5555555555555556,
              "#d8576b"
             ],
             [
              0.6666666666666666,
              "#ed7953"
             ],
             [
              0.7777777777777778,
              "#fb9f3a"
             ],
             [
              0.8888888888888888,
              "#fdca26"
             ],
             [
              1,
              "#f0f921"
             ]
            ],
            "type": "histogram2dcontour"
           }
          ],
          "mesh3d": [
           {
            "colorbar": {
             "outlinewidth": 0,
             "ticks": ""
            },
            "type": "mesh3d"
           }
          ],
          "parcoords": [
           {
            "line": {
             "colorbar": {
              "outlinewidth": 0,
              "ticks": ""
             }
            },
            "type": "parcoords"
           }
          ],
          "pie": [
           {
            "automargin": true,
            "type": "pie"
           }
          ],
          "scatter": [
           {
            "marker": {
             "colorbar": {
              "outlinewidth": 0,
              "ticks": ""
             }
            },
            "type": "scatter"
           }
          ],
          "scatter3d": [
           {
            "line": {
             "colorbar": {
              "outlinewidth": 0,
              "ticks": ""
             }
            },
            "marker": {
             "colorbar": {
              "outlinewidth": 0,
              "ticks": ""
             }
            },
            "type": "scatter3d"
           }
          ],
          "scattercarpet": [
           {
            "marker": {
             "colorbar": {
              "outlinewidth": 0,
              "ticks": ""
             }
            },
            "type": "scattercarpet"
           }
          ],
          "scattergeo": [
           {
            "marker": {
             "colorbar": {
              "outlinewidth": 0,
              "ticks": ""
             }
            },
            "type": "scattergeo"
           }
          ],
          "scattergl": [
           {
            "marker": {
             "colorbar": {
              "outlinewidth": 0,
              "ticks": ""
             }
            },
            "type": "scattergl"
           }
          ],
          "scattermapbox": [
           {
            "marker": {
             "colorbar": {
              "outlinewidth": 0,
              "ticks": ""
             }
            },
            "type": "scattermapbox"
           }
          ],
          "scatterpolar": [
           {
            "marker": {
             "colorbar": {
              "outlinewidth": 0,
              "ticks": ""
             }
            },
            "type": "scatterpolar"
           }
          ],
          "scatterpolargl": [
           {
            "marker": {
             "colorbar": {
              "outlinewidth": 0,
              "ticks": ""
             }
            },
            "type": "scatterpolargl"
           }
          ],
          "scatterternary": [
           {
            "marker": {
             "colorbar": {
              "outlinewidth": 0,
              "ticks": ""
             }
            },
            "type": "scatterternary"
           }
          ],
          "surface": [
           {
            "colorbar": {
             "outlinewidth": 0,
             "ticks": ""
            },
            "colorscale": [
             [
              0,
              "#0d0887"
             ],
             [
              0.1111111111111111,
              "#46039f"
             ],
             [
              0.2222222222222222,
              "#7201a8"
             ],
             [
              0.3333333333333333,
              "#9c179e"
             ],
             [
              0.4444444444444444,
              "#bd3786"
             ],
             [
              0.5555555555555556,
              "#d8576b"
             ],
             [
              0.6666666666666666,
              "#ed7953"
             ],
             [
              0.7777777777777778,
              "#fb9f3a"
             ],
             [
              0.8888888888888888,
              "#fdca26"
             ],
             [
              1,
              "#f0f921"
             ]
            ],
            "type": "surface"
           }
          ],
          "table": [
           {
            "cells": {
             "fill": {
              "color": "#EBF0F8"
             },
             "line": {
              "color": "white"
             }
            },
            "header": {
             "fill": {
              "color": "#C8D4E3"
             },
             "line": {
              "color": "white"
             }
            },
            "type": "table"
           }
          ]
         },
         "layout": {
          "annotationdefaults": {
           "arrowcolor": "#2a3f5f",
           "arrowhead": 0,
           "arrowwidth": 1
          },
          "autotypenumbers": "strict",
          "coloraxis": {
           "colorbar": {
            "outlinewidth": 0,
            "ticks": ""
           }
          },
          "colorscale": {
           "diverging": [
            [
             0,
             "#8e0152"
            ],
            [
             0.1,
             "#c51b7d"
            ],
            [
             0.2,
             "#de77ae"
            ],
            [
             0.3,
             "#f1b6da"
            ],
            [
             0.4,
             "#fde0ef"
            ],
            [
             0.5,
             "#f7f7f7"
            ],
            [
             0.6,
             "#e6f5d0"
            ],
            [
             0.7,
             "#b8e186"
            ],
            [
             0.8,
             "#7fbc41"
            ],
            [
             0.9,
             "#4d9221"
            ],
            [
             1,
             "#276419"
            ]
           ],
           "sequential": [
            [
             0,
             "#0d0887"
            ],
            [
             0.1111111111111111,
             "#46039f"
            ],
            [
             0.2222222222222222,
             "#7201a8"
            ],
            [
             0.3333333333333333,
             "#9c179e"
            ],
            [
             0.4444444444444444,
             "#bd3786"
            ],
            [
             0.5555555555555556,
             "#d8576b"
            ],
            [
             0.6666666666666666,
             "#ed7953"
            ],
            [
             0.7777777777777778,
             "#fb9f3a"
            ],
            [
             0.8888888888888888,
             "#fdca26"
            ],
            [
             1,
             "#f0f921"
            ]
           ],
           "sequentialminus": [
            [
             0,
             "#0d0887"
            ],
            [
             0.1111111111111111,
             "#46039f"
            ],
            [
             0.2222222222222222,
             "#7201a8"
            ],
            [
             0.3333333333333333,
             "#9c179e"
            ],
            [
             0.4444444444444444,
             "#bd3786"
            ],
            [
             0.5555555555555556,
             "#d8576b"
            ],
            [
             0.6666666666666666,
             "#ed7953"
            ],
            [
             0.7777777777777778,
             "#fb9f3a"
            ],
            [
             0.8888888888888888,
             "#fdca26"
            ],
            [
             1,
             "#f0f921"
            ]
           ]
          },
          "colorway": [
           "#636efa",
           "#EF553B",
           "#00cc96",
           "#ab63fa",
           "#FFA15A",
           "#19d3f3",
           "#FF6692",
           "#B6E880",
           "#FF97FF",
           "#FECB52"
          ],
          "font": {
           "color": "#2a3f5f"
          },
          "geo": {
           "bgcolor": "white",
           "lakecolor": "white",
           "landcolor": "#E5ECF6",
           "showlakes": true,
           "showland": true,
           "subunitcolor": "white"
          },
          "hoverlabel": {
           "align": "left"
          },
          "hovermode": "closest",
          "mapbox": {
           "style": "light"
          },
          "paper_bgcolor": "white",
          "plot_bgcolor": "#E5ECF6",
          "polar": {
           "angularaxis": {
            "gridcolor": "white",
            "linecolor": "white",
            "ticks": ""
           },
           "bgcolor": "#E5ECF6",
           "radialaxis": {
            "gridcolor": "white",
            "linecolor": "white",
            "ticks": ""
           }
          },
          "scene": {
           "xaxis": {
            "backgroundcolor": "#E5ECF6",
            "gridcolor": "white",
            "gridwidth": 2,
            "linecolor": "white",
            "showbackground": true,
            "ticks": "",
            "zerolinecolor": "white"
           },
           "yaxis": {
            "backgroundcolor": "#E5ECF6",
            "gridcolor": "white",
            "gridwidth": 2,
            "linecolor": "white",
            "showbackground": true,
            "ticks": "",
            "zerolinecolor": "white"
           },
           "zaxis": {
            "backgroundcolor": "#E5ECF6",
            "gridcolor": "white",
            "gridwidth": 2,
            "linecolor": "white",
            "showbackground": true,
            "ticks": "",
            "zerolinecolor": "white"
           }
          },
          "shapedefaults": {
           "line": {
            "color": "#2a3f5f"
           }
          },
          "ternary": {
           "aaxis": {
            "gridcolor": "white",
            "linecolor": "white",
            "ticks": ""
           },
           "baxis": {
            "gridcolor": "white",
            "linecolor": "white",
            "ticks": ""
           },
           "bgcolor": "#E5ECF6",
           "caxis": {
            "gridcolor": "white",
            "linecolor": "white",
            "ticks": ""
           }
          },
          "title": {
           "x": 0.05
          },
          "xaxis": {
           "automargin": true,
           "gridcolor": "white",
           "linecolor": "white",
           "ticks": "",
           "title": {
            "standoff": 15
           },
           "zerolinecolor": "white",
           "zerolinewidth": 2
          },
          "yaxis": {
           "automargin": true,
           "gridcolor": "white",
           "linecolor": "white",
           "ticks": "",
           "title": {
            "standoff": 15
           },
           "zerolinecolor": "white",
           "zerolinewidth": 2
          }
         }
        },
        "title": {
         "font": {
          "color": "#4D5663"
         }
        },
        "xaxis": {
         "gridcolor": "#E1E5ED",
         "showgrid": true,
         "tickfont": {
          "color": "#4D5663"
         },
         "title": {
          "font": {
           "color": "#4D5663"
          },
          "text": ""
         },
         "zerolinecolor": "#E1E5ED"
        },
        "xaxis2": {
         "anchor": "y2",
         "gridcolor": "#E1E5ED",
         "showgrid": true,
         "showticklabels": false,
         "tickfont": {
          "color": "#4D5663"
         },
         "title": {
          "font": {
           "color": "#4D5663"
          },
          "text": ""
         },
         "zerolinecolor": "#E1E5ED"
        },
        "yaxis": {
         "domain": [
          0.3,
          1
         ],
         "gridcolor": "#E1E5ED",
         "showgrid": true,
         "tickfont": {
          "color": "#4D5663"
         },
         "title": {
          "font": {
           "color": "#4D5663"
          },
          "text": ""
         },
         "zerolinecolor": "#E1E5ED"
        },
        "yaxis2": {
         "domain": [
          0,
          0.25
         ],
         "gridcolor": "#E1E5ED",
         "showgrid": true,
         "tickfont": {
          "color": "#4D5663"
         },
         "title": {
          "font": {
           "color": "#4D5663"
          },
          "text": "Spread"
         },
         "zerolinecolor": "#E1E5ED"
        }
       }
      },
      "text/html": [
       "<div>                            <div id=\"f32c95a4-ddf3-4af6-89a5-2b6a5bdc2416\" class=\"plotly-graph-div\" style=\"height:525px; width:100%;\"></div>            <script type=\"text/javascript\">                require([\"plotly\"], function(Plotly) {                    window.PLOTLYENV=window.PLOTLYENV || {};\n",
       "                    window.PLOTLYENV.BASE_URL='https://plot.ly';                                    if (document.getElementById(\"f32c95a4-ddf3-4af6-89a5-2b6a5bdc2416\")) {                    Plotly.newPlot(                        \"f32c95a4-ddf3-4af6-89a5-2b6a5bdc2416\",                        [{\"line\":{\"color\":\"rgba(255, 153, 51, 1.0)\",\"dash\":\"solid\",\"shape\":\"linear\",\"width\":1.3},\"mode\":\"lines\",\"name\":\"A\",\"text\":\"\",\"x\":[0,1,2,3,4,5,6,7,8,9,10,11,12,13,14,15,16,17,18,19,20,21,22,23,24,25,26,27,28,29,30,31,32,33,34,35,36,37,38,39,40,41,42,43,44,45,46,47,48,49,50,51,52,53,54,55,56,57,58,59,60,61,62,63,64,65,66,67,68,69,70,71,72,73,74,75,76,77,78,79,80,81,82,83,84,85,86,87,88,89,90,91,92,93,94,95,96,97,98,99],\"y\":[-1.3813706255062617,0.8065087300796255,0.3418651186982201,-0.3323817128521051,2.1231407918626863,-1.1202630656804664,-0.0838679423613188,-0.2323656787814356,-0.4448817191163479,-0.06875353456729144,-0.049574301014722454,2.210801449350267,-1.1063203713174574,-0.6063103665598676,-0.7011439170998087,-0.45395970306502087,2.766671816092905,0.5699573520404393,0.8808174816908407,1.3800745892046544,-0.1603764834931205,-1.0622118661110387,-1.562271295381666,-0.57761248853128,-0.8179651173239639,1.3851094626150695,1.419717830017316,1.490032752768479,0.4839879897208073,2.846600051376337,-0.19327060595834927,0.10695835574762955,-1.2772804565698301,0.1457265969364036,0.4980186780688667,0.37059896130240544,-1.7873621950489733,-0.8815719530555712,-1.0904553304750297,0.31263785194698335,-1.7657329345102317,-1.6644896212258584,-0.9985986717447229,-5.7910567175379e-05,-1.331707814385081,0.1134252366886889,0.759414790394926,-0.0599661947972707,0.6906859639390763,0.354321372436767,-1.1380592776587406,-0.9992273007320776,0.08349219406595834,1.4708225882710029,2.2572721833274625,0.7709653112317927,-0.23877889678292707,1.3451420206002938,-0.16746439868244084,0.5699618681293717,-0.3708267121936692,-1.8703385788607723,0.9215350628981622,-2.3333905191830175,0.43391561874284323,-0.7463278263388601,0.4737891000334945,1.0920180090401317,1.0325775036488705,-0.6106630768648215,-0.7382156222692969,-0.9584583679324162,-2.7421379622719124,-1.7506037789263569,0.31966563419627686,-0.7892062316286367,0.448996320741698,0.21294295276889807,0.9160624812720353,-0.28604664133610624,0.30985990443739675,-0.46754536872788194,-0.11610969135353229,0.48391664650310773,-0.520395981311585,1.1541095181196932,-0.45352152882079416,-0.05789549270731017,-1.2919838016797072,-0.3090001479193332,0.569241312546446,-0.934322907187918,0.3443265950499941,0.1456857429217968,-0.16409306709076685,0.5505366687670102,-1.2457267972453103,2.1972545707069133,-1.083598726767268,-2.39275691984455],\"type\":\"scatter\"},{\"line\":{\"color\":\"rgba(55, 128, 191, 1.0)\",\"dash\":\"solid\",\"shape\":\"linear\",\"width\":1.3},\"mode\":\"lines\",\"name\":\"B\",\"text\":\"\",\"x\":[0,1,2,3,4,5,6,7,8,9,10,11,12,13,14,15,16,17,18,19,20,21,22,23,24,25,26,27,28,29,30,31,32,33,34,35,36,37,38,39,40,41,42,43,44,45,46,47,48,49,50,51,52,53,54,55,56,57,58,59,60,61,62,63,64,65,66,67,68,69,70,71,72,73,74,75,76,77,78,79,80,81,82,83,84,85,86,87,88,89,90,91,92,93,94,95,96,97,98,99],\"y\":[0.39408508751691174,0.5597812290844585,1.1872882937316844,0.5261069177621385,0.8324150081424387,2.0229924948473155,0.8016952099182463,-0.27250856543923707,0.5991969917690078,0.012408271151590967,1.498575989045239,-1.5252754697159996,0.14066922828746695,0.2001614896562864,0.7393141086675633,0.5218190410445782,-0.14099631099514778,0.746320335451686,0.2882068249559392,-0.6261179226215818,-1.3453418809785471,0.4485083513661857,-0.30337254173453476,-0.2573198650134465,1.8340919440261283,-1.723238043505735,2.2560989316205946,0.08307241884321633,-0.17902782356976163,0.3746919695015312,0.6907935307424771,-1.9052738453037013,-0.6944962604391867,-0.9560653935208608,-0.1260645549119327,-0.2820678692564736,-0.2899959469285368,-0.8697374037589303,1.4866174930332687,-0.358924788703825,-1.5454270107479176,-1.526480268544885,-0.9045299027694891,-0.49427429863164674,-0.09974524282445445,0.9496340986727977,-0.8322150144236892,-0.8063792658634675,1.312605694412341,0.1685132896260088,-1.4139505639110368,-0.4482508192546252,-0.5273928906970727,-0.6484514233815363,1.2933196429677625,0.15955467005039792,-1.4435626349802602,0.4894758579829374,1.0182449643440812,0.20611253270759147,-2.0742934113938274,0.7261227044394204,-0.9894261852623139,0.43174655067239753,0.23595597214069036,-0.6426900200374779,-0.2730663543060331,-0.5447654206263307,1.47959887301995,-2.035056494382499,0.39249244408448947,-0.444491041437767,0.3489655282637713,0.6535654394632688,-1.1795812678279245,-0.5415330568975902,-0.21101973071373986,-0.12649315801693273,0.5722210235128772,1.4461631141087352,0.6147519214766572,0.526200192436856,1.3598304924670988,0.253727520804128,0.9508513571872201,-0.33096300255923383,0.6422459455412688,-1.182840275342704,0.7776106033058436,0.7251921984089881,-0.8992954636081043,-0.2659385388815195,1.8702168449694738,-0.7927214636265612,1.3740151971820014,0.7803432925385417,0.4547995097119779,-1.9189864701064838,0.742221013929439,-1.911585229275281],\"type\":\"scatter\"},{\"connectgaps\":false,\"fill\":\"tozeroy\",\"line\":{\"color\":\"green\",\"dash\":\"solid\",\"shape\":\"linear\",\"width\":0.5},\"mode\":\"lines\",\"name\":\"Spread\",\"showlegend\":false,\"x\":[0,1,2,3,4,5,6,7,8,9,10,11,12,13,14,15,16,17,18,19,20,21,22,23,24,25,26,27,28,29,30,31,32,33,34,35,36,37,38,39,40,41,42,43,44,45,46,47,48,49,50,51,52,53,54,55,56,57,58,59,60,61,62,63,64,65,66,67,68,69,70,71,72,73,74,75,76,77,78,79,80,81,82,83,84,85,86,87,88,89,90,91,92,93,94,95,96,97,98,99],\"xaxis\":\"x2\",\"y\":[\"\",0.24672750099516705,\"\",\"\",1.2907257837202475,\"\",\"\",0.04014288665780147,\"\",\"\",\"\",3.7360769190662664,\"\",\"\",\"\",\"\",2.9076681270880527,\"\",0.5926106567349015,2.006192511826236,1.1849653974854266,\"\",\"\",\"\",\"\",3.1083475061208046,\"\",1.4069603339252625,0.6630158132905689,2.4719080818748056,\"\",2.0122322010513307,\"\",1.1017919904572644,0.6240832329807994,0.652666830558879,\"\",\"\",\"\",0.6715626406508084,\"\",\"\",\"\",0.4942163880644714,\"\",\"\",1.591629804818615,0.7464130710661968,\"\",0.18580808281075817,0.2758912862522962,\"\",0.610885084763031,2.1192740116525393,0.9639525403597,0.6114106411813948,1.204783738197333,0.8556661626173563,\"\",0.3638493354217802,1.7034666992001581,\"\",1.910961248160476,\"\",0.19795964660215287,\"\",0.7468554543395276,1.6367834296664623,\"\",1.4243934175176776,\"\",\"\",\"\",\"\",1.4992469020242014,\"\",0.6600160514554378,0.3394361107858308,0.3438414577591581,\"\",\"\",\"\",\"\",0.2301891256989797,\"\",1.485072520678927,\"\",1.124944782635394,\"\",\"\",1.4685367761545502,\"\",\"\",0.938407206548358,\"\",\"\",\"\",4.116241040813398,\"\",\"\"],\"yaxis\":\"y2\",\"type\":\"scatter\"},{\"connectgaps\":false,\"fill\":\"tozeroy\",\"line\":{\"color\":\"red\",\"dash\":\"solid\",\"shape\":\"linear\",\"width\":0.5},\"mode\":\"lines\",\"name\":\"Spread\",\"showlegend\":false,\"x\":[0,1,2,3,4,5,6,7,8,9,10,11,12,13,14,15,16,17,18,19,20,21,22,23,24,25,26,27,28,29,30,31,32,33,34,35,36,37,38,39,40,41,42,43,44,45,46,47,48,49,50,51,52,53,54,55,56,57,58,59,60,61,62,63,64,65,66,67,68,69,70,71,72,73,74,75,76,77,78,79,80,81,82,83,84,85,86,87,88,89,90,91,92,93,94,95,96,97,98,99],\"xaxis\":\"x2\",\"y\":[-1.7754557130231734,\"\",-0.8454231750334643,-0.8584886306142436,\"\",-3.143255560527782,-0.8855631522795651,\"\",-1.0440787108853558,-0.0811618057188824,-1.5481502900599615,\"\",-1.2469895996049243,-0.806471856216154,-1.440458025767372,-0.9757787441095991,\"\",-0.17636298341124668,\"\",\"\",\"\",-1.5107202174772243,-1.2588987536471312,-0.3202926235178335,-2.6520570613500922,\"\",-0.8363811016032785,\"\",\"\",\"\",-0.8840641367008264,\"\",-0.5827841961306435,\"\",\"\",\"\",-1.4973662481204366,-0.011834549296640962,-2.5770728235082982,\"\",-0.22030592376231417,-0.13800935268097336,-0.09406876897523386,\"\",-1.2319625715606264,-0.8362088619841088,\"\",\"\",-0.6219197304732647,\"\",\"\",-0.5509764814774524,\"\",\"\",\"\",\"\",\"\",\"\",-1.185709363026522,\"\",\"\",-2.5964612833001928,\"\",-2.765137069855415,\"\",-0.1036378063013822,\"\",\"\",-0.4470213693710796,\"\",-1.1307080663537863,-0.5139673264946492,-3.0911034905356836,-2.404169218389626,\"\",-0.24767317473104644,\"\",\"\",\"\",-1.7322097554448415,-0.3048920170392605,-0.9937455611647379,-1.475940183820631,\"\",-1.4712473384988052,\"\",-1.095767474362063,\"\",-2.069594404985551,-1.0341923463283214,\"\",-0.6683843683063985,-1.5258902499194797,\"\",-1.5381082642727681,-0.2298066237715315,-1.7005263069572882,\"\",-1.825819740696707,-0.4811716905692691],\"yaxis\":\"y2\",\"type\":\"scatter\"}],                        {\"hovermode\":\"x\",\"legend\":{\"bgcolor\":\"#F5F6F9\",\"font\":{\"color\":\"#4D5663\"}},\"paper_bgcolor\":\"#F5F6F9\",\"plot_bgcolor\":\"#F5F6F9\",\"template\":{\"data\":{\"barpolar\":[{\"marker\":{\"line\":{\"color\":\"#E5ECF6\",\"width\":0.5},\"pattern\":{\"fillmode\":\"overlay\",\"size\":10,\"solidity\":0.2}},\"type\":\"barpolar\"}],\"bar\":[{\"error_x\":{\"color\":\"#2a3f5f\"},\"error_y\":{\"color\":\"#2a3f5f\"},\"marker\":{\"line\":{\"color\":\"#E5ECF6\",\"width\":0.5},\"pattern\":{\"fillmode\":\"overlay\",\"size\":10,\"solidity\":0.2}},\"type\":\"bar\"}],\"carpet\":[{\"aaxis\":{\"endlinecolor\":\"#2a3f5f\",\"gridcolor\":\"white\",\"linecolor\":\"white\",\"minorgridcolor\":\"white\",\"startlinecolor\":\"#2a3f5f\"},\"baxis\":{\"endlinecolor\":\"#2a3f5f\",\"gridcolor\":\"white\",\"linecolor\":\"white\",\"minorgridcolor\":\"white\",\"startlinecolor\":\"#2a3f5f\"},\"type\":\"carpet\"}],\"choropleth\":[{\"colorbar\":{\"outlinewidth\":0,\"ticks\":\"\"},\"type\":\"choropleth\"}],\"contourcarpet\":[{\"colorbar\":{\"outlinewidth\":0,\"ticks\":\"\"},\"type\":\"contourcarpet\"}],\"contour\":[{\"colorbar\":{\"outlinewidth\":0,\"ticks\":\"\"},\"colorscale\":[[0.0,\"#0d0887\"],[0.1111111111111111,\"#46039f\"],[0.2222222222222222,\"#7201a8\"],[0.3333333333333333,\"#9c179e\"],[0.4444444444444444,\"#bd3786\"],[0.5555555555555556,\"#d8576b\"],[0.6666666666666666,\"#ed7953\"],[0.7777777777777778,\"#fb9f3a\"],[0.8888888888888888,\"#fdca26\"],[1.0,\"#f0f921\"]],\"type\":\"contour\"}],\"heatmapgl\":[{\"colorbar\":{\"outlinewidth\":0,\"ticks\":\"\"},\"colorscale\":[[0.0,\"#0d0887\"],[0.1111111111111111,\"#46039f\"],[0.2222222222222222,\"#7201a8\"],[0.3333333333333333,\"#9c179e\"],[0.4444444444444444,\"#bd3786\"],[0.5555555555555556,\"#d8576b\"],[0.6666666666666666,\"#ed7953\"],[0.7777777777777778,\"#fb9f3a\"],[0.8888888888888888,\"#fdca26\"],[1.0,\"#f0f921\"]],\"type\":\"heatmapgl\"}],\"heatmap\":[{\"colorbar\":{\"outlinewidth\":0,\"ticks\":\"\"},\"colorscale\":[[0.0,\"#0d0887\"],[0.1111111111111111,\"#46039f\"],[0.2222222222222222,\"#7201a8\"],[0.3333333333333333,\"#9c179e\"],[0.4444444444444444,\"#bd3786\"],[0.5555555555555556,\"#d8576b\"],[0.6666666666666666,\"#ed7953\"],[0.7777777777777778,\"#fb9f3a\"],[0.8888888888888888,\"#fdca26\"],[1.0,\"#f0f921\"]],\"type\":\"heatmap\"}],\"histogram2dcontour\":[{\"colorbar\":{\"outlinewidth\":0,\"ticks\":\"\"},\"colorscale\":[[0.0,\"#0d0887\"],[0.1111111111111111,\"#46039f\"],[0.2222222222222222,\"#7201a8\"],[0.3333333333333333,\"#9c179e\"],[0.4444444444444444,\"#bd3786\"],[0.5555555555555556,\"#d8576b\"],[0.6666666666666666,\"#ed7953\"],[0.7777777777777778,\"#fb9f3a\"],[0.8888888888888888,\"#fdca26\"],[1.0,\"#f0f921\"]],\"type\":\"histogram2dcontour\"}],\"histogram2d\":[{\"colorbar\":{\"outlinewidth\":0,\"ticks\":\"\"},\"colorscale\":[[0.0,\"#0d0887\"],[0.1111111111111111,\"#46039f\"],[0.2222222222222222,\"#7201a8\"],[0.3333333333333333,\"#9c179e\"],[0.4444444444444444,\"#bd3786\"],[0.5555555555555556,\"#d8576b\"],[0.6666666666666666,\"#ed7953\"],[0.7777777777777778,\"#fb9f3a\"],[0.8888888888888888,\"#fdca26\"],[1.0,\"#f0f921\"]],\"type\":\"histogram2d\"}],\"histogram\":[{\"marker\":{\"pattern\":{\"fillmode\":\"overlay\",\"size\":10,\"solidity\":0.2}},\"type\":\"histogram\"}],\"mesh3d\":[{\"colorbar\":{\"outlinewidth\":0,\"ticks\":\"\"},\"type\":\"mesh3d\"}],\"parcoords\":[{\"line\":{\"colorbar\":{\"outlinewidth\":0,\"ticks\":\"\"}},\"type\":\"parcoords\"}],\"pie\":[{\"automargin\":true,\"type\":\"pie\"}],\"scatter3d\":[{\"line\":{\"colorbar\":{\"outlinewidth\":0,\"ticks\":\"\"}},\"marker\":{\"colorbar\":{\"outlinewidth\":0,\"ticks\":\"\"}},\"type\":\"scatter3d\"}],\"scattercarpet\":[{\"marker\":{\"colorbar\":{\"outlinewidth\":0,\"ticks\":\"\"}},\"type\":\"scattercarpet\"}],\"scattergeo\":[{\"marker\":{\"colorbar\":{\"outlinewidth\":0,\"ticks\":\"\"}},\"type\":\"scattergeo\"}],\"scattergl\":[{\"marker\":{\"colorbar\":{\"outlinewidth\":0,\"ticks\":\"\"}},\"type\":\"scattergl\"}],\"scattermapbox\":[{\"marker\":{\"colorbar\":{\"outlinewidth\":0,\"ticks\":\"\"}},\"type\":\"scattermapbox\"}],\"scatterpolargl\":[{\"marker\":{\"colorbar\":{\"outlinewidth\":0,\"ticks\":\"\"}},\"type\":\"scatterpolargl\"}],\"scatterpolar\":[{\"marker\":{\"colorbar\":{\"outlinewidth\":0,\"ticks\":\"\"}},\"type\":\"scatterpolar\"}],\"scatter\":[{\"marker\":{\"colorbar\":{\"outlinewidth\":0,\"ticks\":\"\"}},\"type\":\"scatter\"}],\"scatterternary\":[{\"marker\":{\"colorbar\":{\"outlinewidth\":0,\"ticks\":\"\"}},\"type\":\"scatterternary\"}],\"surface\":[{\"colorbar\":{\"outlinewidth\":0,\"ticks\":\"\"},\"colorscale\":[[0.0,\"#0d0887\"],[0.1111111111111111,\"#46039f\"],[0.2222222222222222,\"#7201a8\"],[0.3333333333333333,\"#9c179e\"],[0.4444444444444444,\"#bd3786\"],[0.5555555555555556,\"#d8576b\"],[0.6666666666666666,\"#ed7953\"],[0.7777777777777778,\"#fb9f3a\"],[0.8888888888888888,\"#fdca26\"],[1.0,\"#f0f921\"]],\"type\":\"surface\"}],\"table\":[{\"cells\":{\"fill\":{\"color\":\"#EBF0F8\"},\"line\":{\"color\":\"white\"}},\"header\":{\"fill\":{\"color\":\"#C8D4E3\"},\"line\":{\"color\":\"white\"}},\"type\":\"table\"}]},\"layout\":{\"annotationdefaults\":{\"arrowcolor\":\"#2a3f5f\",\"arrowhead\":0,\"arrowwidth\":1},\"autotypenumbers\":\"strict\",\"coloraxis\":{\"colorbar\":{\"outlinewidth\":0,\"ticks\":\"\"}},\"colorscale\":{\"diverging\":[[0,\"#8e0152\"],[0.1,\"#c51b7d\"],[0.2,\"#de77ae\"],[0.3,\"#f1b6da\"],[0.4,\"#fde0ef\"],[0.5,\"#f7f7f7\"],[0.6,\"#e6f5d0\"],[0.7,\"#b8e186\"],[0.8,\"#7fbc41\"],[0.9,\"#4d9221\"],[1,\"#276419\"]],\"sequential\":[[0.0,\"#0d0887\"],[0.1111111111111111,\"#46039f\"],[0.2222222222222222,\"#7201a8\"],[0.3333333333333333,\"#9c179e\"],[0.4444444444444444,\"#bd3786\"],[0.5555555555555556,\"#d8576b\"],[0.6666666666666666,\"#ed7953\"],[0.7777777777777778,\"#fb9f3a\"],[0.8888888888888888,\"#fdca26\"],[1.0,\"#f0f921\"]],\"sequentialminus\":[[0.0,\"#0d0887\"],[0.1111111111111111,\"#46039f\"],[0.2222222222222222,\"#7201a8\"],[0.3333333333333333,\"#9c179e\"],[0.4444444444444444,\"#bd3786\"],[0.5555555555555556,\"#d8576b\"],[0.6666666666666666,\"#ed7953\"],[0.7777777777777778,\"#fb9f3a\"],[0.8888888888888888,\"#fdca26\"],[1.0,\"#f0f921\"]]},\"colorway\":[\"#636efa\",\"#EF553B\",\"#00cc96\",\"#ab63fa\",\"#FFA15A\",\"#19d3f3\",\"#FF6692\",\"#B6E880\",\"#FF97FF\",\"#FECB52\"],\"font\":{\"color\":\"#2a3f5f\"},\"geo\":{\"bgcolor\":\"white\",\"lakecolor\":\"white\",\"landcolor\":\"#E5ECF6\",\"showlakes\":true,\"showland\":true,\"subunitcolor\":\"white\"},\"hoverlabel\":{\"align\":\"left\"},\"hovermode\":\"closest\",\"mapbox\":{\"style\":\"light\"},\"paper_bgcolor\":\"white\",\"plot_bgcolor\":\"#E5ECF6\",\"polar\":{\"angularaxis\":{\"gridcolor\":\"white\",\"linecolor\":\"white\",\"ticks\":\"\"},\"bgcolor\":\"#E5ECF6\",\"radialaxis\":{\"gridcolor\":\"white\",\"linecolor\":\"white\",\"ticks\":\"\"}},\"scene\":{\"xaxis\":{\"backgroundcolor\":\"#E5ECF6\",\"gridcolor\":\"white\",\"gridwidth\":2,\"linecolor\":\"white\",\"showbackground\":true,\"ticks\":\"\",\"zerolinecolor\":\"white\"},\"yaxis\":{\"backgroundcolor\":\"#E5ECF6\",\"gridcolor\":\"white\",\"gridwidth\":2,\"linecolor\":\"white\",\"showbackground\":true,\"ticks\":\"\",\"zerolinecolor\":\"white\"},\"zaxis\":{\"backgroundcolor\":\"#E5ECF6\",\"gridcolor\":\"white\",\"gridwidth\":2,\"linecolor\":\"white\",\"showbackground\":true,\"ticks\":\"\",\"zerolinecolor\":\"white\"}},\"shapedefaults\":{\"line\":{\"color\":\"#2a3f5f\"}},\"ternary\":{\"aaxis\":{\"gridcolor\":\"white\",\"linecolor\":\"white\",\"ticks\":\"\"},\"baxis\":{\"gridcolor\":\"white\",\"linecolor\":\"white\",\"ticks\":\"\"},\"bgcolor\":\"#E5ECF6\",\"caxis\":{\"gridcolor\":\"white\",\"linecolor\":\"white\",\"ticks\":\"\"}},\"title\":{\"x\":0.05},\"xaxis\":{\"automargin\":true,\"gridcolor\":\"white\",\"linecolor\":\"white\",\"ticks\":\"\",\"title\":{\"standoff\":15},\"zerolinecolor\":\"white\",\"zerolinewidth\":2},\"yaxis\":{\"automargin\":true,\"gridcolor\":\"white\",\"linecolor\":\"white\",\"ticks\":\"\",\"title\":{\"standoff\":15},\"zerolinecolor\":\"white\",\"zerolinewidth\":2}}},\"title\":{\"font\":{\"color\":\"#4D5663\"}},\"xaxis\":{\"gridcolor\":\"#E1E5ED\",\"showgrid\":true,\"tickfont\":{\"color\":\"#4D5663\"},\"title\":{\"font\":{\"color\":\"#4D5663\"},\"text\":\"\"},\"zerolinecolor\":\"#E1E5ED\"},\"yaxis\":{\"domain\":[0.3,1],\"gridcolor\":\"#E1E5ED\",\"showgrid\":true,\"tickfont\":{\"color\":\"#4D5663\"},\"title\":{\"font\":{\"color\":\"#4D5663\"},\"text\":\"\"},\"zerolinecolor\":\"#E1E5ED\"},\"yaxis2\":{\"domain\":[0,0.25],\"gridcolor\":\"#E1E5ED\",\"showgrid\":true,\"tickfont\":{\"color\":\"#4D5663\"},\"title\":{\"font\":{\"color\":\"#4D5663\"},\"text\":\"Spread\"},\"zerolinecolor\":\"#E1E5ED\"},\"xaxis2\":{\"anchor\":\"y2\",\"gridcolor\":\"#E1E5ED\",\"showgrid\":true,\"showticklabels\":false,\"tickfont\":{\"color\":\"#4D5663\"},\"title\":{\"font\":{\"color\":\"#4D5663\"},\"text\":\"\"},\"zerolinecolor\":\"#E1E5ED\"}},                        {\"showLink\": true, \"linkText\": \"Export to plot.ly\", \"plotlyServerURL\": \"https://plot.ly\", \"responsive\": true}                    ).then(function(){\n",
       "                            \n",
       "var gd = document.getElementById('f32c95a4-ddf3-4af6-89a5-2b6a5bdc2416');\n",
       "var x = new MutationObserver(function (mutations, observer) {{\n",
       "        var display = window.getComputedStyle(gd).display;\n",
       "        if (!display || display === 'none') {{\n",
       "            console.log([gd, 'removed!']);\n",
       "            Plotly.purge(gd);\n",
       "            observer.disconnect();\n",
       "        }}\n",
       "}});\n",
       "\n",
       "// Listen for the removal of the full notebook cells\n",
       "var notebookContainer = gd.closest('#notebook-container');\n",
       "if (notebookContainer) {{\n",
       "    x.observe(notebookContainer, {childList: true});\n",
       "}}\n",
       "\n",
       "// Listen for the clearing of the current output cell\n",
       "var outputEl = gd.closest('.output');\n",
       "if (outputEl) {{\n",
       "    x.observe(outputEl, {childList: true});\n",
       "}}\n",
       "\n",
       "                        })                };                });            </script>        </div>"
      ]
     },
     "metadata": {},
     "output_type": "display_data"
    }
   ],
   "source": [
    "df[['A','B']].iplot(kind='spread')"
   ]
  },
  {
   "cell_type": "code",
   "execution_count": 59,
   "id": "0032a891",
   "metadata": {},
   "outputs": [
    {
     "data": {
      "application/vnd.plotly.v1+json": {
       "config": {
        "linkText": "Export to plot.ly",
        "plotlyServerURL": "https://plot.ly",
        "showLink": true
       },
       "data": [
        {
         "marker": {
          "color": [
           "rgb(255, 153, 51)",
           "rgb(55, 128, 191)",
           "rgb(50, 171, 96)",
           "rgb(128, 0, 128)",
           "rgb(219, 64, 82)",
           "rgb(0, 128, 128)",
           "rgb(255, 255, 51)",
           "rgb(128, 128, 0)",
           "rgb(251, 128, 114)",
           "rgb(128, 177, 211)"
          ],
          "line": {
           "width": 1.3
          },
          "size": [
           44,
           54,
           59,
           75,
           32,
           90,
           33,
           46,
           41,
           56,
           62,
           24,
           32,
           53,
           46,
           75,
           54,
           68,
           68,
           35,
           47,
           61,
           70,
           49,
           14,
           42,
           44,
           75,
           39,
           47,
           15,
           28,
           54,
           49,
           83,
           55,
           89,
           111,
           47,
           59,
           46,
           69,
           26,
           36,
           64,
           31,
           63,
           59,
           43,
           41,
           17,
           42,
           44,
           46,
           34,
           12,
           92,
           50,
           59,
           44,
           21,
           41,
           58,
           75,
           30,
           21,
           16,
           40,
           65,
           64,
           90,
           86,
           41,
           74,
           36,
           52,
           34,
           43,
           54,
           14,
           48,
           45,
           40,
           62,
           41,
           40,
           24,
           55,
           35,
           33,
           39,
           68,
           19,
           33,
           40,
           48,
           64,
           57,
           41,
           12
          ],
          "symbol": "circle"
         },
         "mode": "markers",
         "text": "",
         "type": "scatter",
         "x": [
          -1.3813706255062617,
          0.8065087300796255,
          0.3418651186982201,
          -0.3323817128521051,
          2.1231407918626863,
          -1.1202630656804664,
          -0.0838679423613188,
          -0.2323656787814356,
          -0.4448817191163479,
          -0.06875353456729144,
          -0.049574301014722454,
          2.210801449350267,
          -1.1063203713174574,
          -0.6063103665598676,
          -0.7011439170998087,
          -0.45395970306502087,
          2.766671816092905,
          0.5699573520404393,
          0.8808174816908407,
          1.3800745892046544,
          -0.1603764834931205,
          -1.0622118661110387,
          -1.562271295381666,
          -0.57761248853128,
          -0.8179651173239639,
          1.3851094626150695,
          1.419717830017316,
          1.490032752768479,
          0.4839879897208073,
          2.846600051376337,
          -0.19327060595834927,
          0.10695835574762955,
          -1.2772804565698301,
          0.1457265969364036,
          0.4980186780688667,
          0.37059896130240544,
          -1.7873621950489733,
          -0.8815719530555712,
          -1.0904553304750297,
          0.31263785194698335,
          -1.7657329345102317,
          -1.6644896212258584,
          -0.9985986717447229,
          -5.7910567175379e-05,
          -1.331707814385081,
          0.1134252366886889,
          0.759414790394926,
          -0.0599661947972707,
          0.6906859639390763,
          0.354321372436767,
          -1.1380592776587406,
          -0.9992273007320776,
          0.08349219406595834,
          1.4708225882710029,
          2.2572721833274625,
          0.7709653112317927,
          -0.23877889678292707,
          1.3451420206002938,
          -0.16746439868244084,
          0.5699618681293717,
          -0.3708267121936692,
          -1.8703385788607723,
          0.9215350628981622,
          -2.3333905191830175,
          0.43391561874284323,
          -0.7463278263388601,
          0.4737891000334945,
          1.0920180090401317,
          1.0325775036488705,
          -0.6106630768648215,
          -0.7382156222692969,
          -0.9584583679324162,
          -2.7421379622719124,
          -1.7506037789263569,
          0.31966563419627686,
          -0.7892062316286367,
          0.448996320741698,
          0.21294295276889807,
          0.9160624812720353,
          -0.28604664133610624,
          0.30985990443739675,
          -0.46754536872788194,
          -0.11610969135353229,
          0.48391664650310773,
          -0.520395981311585,
          1.1541095181196932,
          -0.45352152882079416,
          -0.05789549270731017,
          -1.2919838016797072,
          -0.3090001479193332,
          0.569241312546446,
          -0.934322907187918,
          0.3443265950499941,
          0.1456857429217968,
          -0.16409306709076685,
          0.5505366687670102,
          -1.2457267972453103,
          2.1972545707069133,
          -1.083598726767268,
          -2.39275691984455
         ],
         "y": [
          0.39408508751691174,
          0.5597812290844585,
          1.1872882937316844,
          0.5261069177621385,
          0.8324150081424387,
          2.0229924948473155,
          0.8016952099182463,
          -0.27250856543923707,
          0.5991969917690078,
          0.012408271151590967,
          1.498575989045239,
          -1.5252754697159996,
          0.14066922828746695,
          0.2001614896562864,
          0.7393141086675633,
          0.5218190410445782,
          -0.14099631099514778,
          0.746320335451686,
          0.2882068249559392,
          -0.6261179226215818,
          -1.3453418809785471,
          0.4485083513661857,
          -0.30337254173453476,
          -0.2573198650134465,
          1.8340919440261283,
          -1.723238043505735,
          2.2560989316205946,
          0.08307241884321633,
          -0.17902782356976163,
          0.3746919695015312,
          0.6907935307424771,
          -1.9052738453037013,
          -0.6944962604391867,
          -0.9560653935208608,
          -0.1260645549119327,
          -0.2820678692564736,
          -0.2899959469285368,
          -0.8697374037589303,
          1.4866174930332687,
          -0.358924788703825,
          -1.5454270107479176,
          -1.526480268544885,
          -0.9045299027694891,
          -0.49427429863164674,
          -0.09974524282445445,
          0.9496340986727977,
          -0.8322150144236892,
          -0.8063792658634675,
          1.312605694412341,
          0.1685132896260088,
          -1.4139505639110368,
          -0.4482508192546252,
          -0.5273928906970727,
          -0.6484514233815363,
          1.2933196429677625,
          0.15955467005039792,
          -1.4435626349802602,
          0.4894758579829374,
          1.0182449643440812,
          0.20611253270759147,
          -2.0742934113938274,
          0.7261227044394204,
          -0.9894261852623139,
          0.43174655067239753,
          0.23595597214069036,
          -0.6426900200374779,
          -0.2730663543060331,
          -0.5447654206263307,
          1.47959887301995,
          -2.035056494382499,
          0.39249244408448947,
          -0.444491041437767,
          0.3489655282637713,
          0.6535654394632688,
          -1.1795812678279245,
          -0.5415330568975902,
          -0.21101973071373986,
          -0.12649315801693273,
          0.5722210235128772,
          1.4461631141087352,
          0.6147519214766572,
          0.526200192436856,
          1.3598304924670988,
          0.253727520804128,
          0.9508513571872201,
          -0.33096300255923383,
          0.6422459455412688,
          -1.182840275342704,
          0.7776106033058436,
          0.7251921984089881,
          -0.8992954636081043,
          -0.2659385388815195,
          1.8702168449694738,
          -0.7927214636265612,
          1.3740151971820014,
          0.7803432925385417,
          0.4547995097119779,
          -1.9189864701064838,
          0.742221013929439,
          -1.911585229275281
         ]
        }
       ],
       "layout": {
        "legend": {
         "bgcolor": "#F5F6F9",
         "font": {
          "color": "#4D5663"
         }
        },
        "paper_bgcolor": "#F5F6F9",
        "plot_bgcolor": "#F5F6F9",
        "template": {
         "data": {
          "bar": [
           {
            "error_x": {
             "color": "#2a3f5f"
            },
            "error_y": {
             "color": "#2a3f5f"
            },
            "marker": {
             "line": {
              "color": "#E5ECF6",
              "width": 0.5
             },
             "pattern": {
              "fillmode": "overlay",
              "size": 10,
              "solidity": 0.2
             }
            },
            "type": "bar"
           }
          ],
          "barpolar": [
           {
            "marker": {
             "line": {
              "color": "#E5ECF6",
              "width": 0.5
             },
             "pattern": {
              "fillmode": "overlay",
              "size": 10,
              "solidity": 0.2
             }
            },
            "type": "barpolar"
           }
          ],
          "carpet": [
           {
            "aaxis": {
             "endlinecolor": "#2a3f5f",
             "gridcolor": "white",
             "linecolor": "white",
             "minorgridcolor": "white",
             "startlinecolor": "#2a3f5f"
            },
            "baxis": {
             "endlinecolor": "#2a3f5f",
             "gridcolor": "white",
             "linecolor": "white",
             "minorgridcolor": "white",
             "startlinecolor": "#2a3f5f"
            },
            "type": "carpet"
           }
          ],
          "choropleth": [
           {
            "colorbar": {
             "outlinewidth": 0,
             "ticks": ""
            },
            "type": "choropleth"
           }
          ],
          "contour": [
           {
            "colorbar": {
             "outlinewidth": 0,
             "ticks": ""
            },
            "colorscale": [
             [
              0,
              "#0d0887"
             ],
             [
              0.1111111111111111,
              "#46039f"
             ],
             [
              0.2222222222222222,
              "#7201a8"
             ],
             [
              0.3333333333333333,
              "#9c179e"
             ],
             [
              0.4444444444444444,
              "#bd3786"
             ],
             [
              0.5555555555555556,
              "#d8576b"
             ],
             [
              0.6666666666666666,
              "#ed7953"
             ],
             [
              0.7777777777777778,
              "#fb9f3a"
             ],
             [
              0.8888888888888888,
              "#fdca26"
             ],
             [
              1,
              "#f0f921"
             ]
            ],
            "type": "contour"
           }
          ],
          "contourcarpet": [
           {
            "colorbar": {
             "outlinewidth": 0,
             "ticks": ""
            },
            "type": "contourcarpet"
           }
          ],
          "heatmap": [
           {
            "colorbar": {
             "outlinewidth": 0,
             "ticks": ""
            },
            "colorscale": [
             [
              0,
              "#0d0887"
             ],
             [
              0.1111111111111111,
              "#46039f"
             ],
             [
              0.2222222222222222,
              "#7201a8"
             ],
             [
              0.3333333333333333,
              "#9c179e"
             ],
             [
              0.4444444444444444,
              "#bd3786"
             ],
             [
              0.5555555555555556,
              "#d8576b"
             ],
             [
              0.6666666666666666,
              "#ed7953"
             ],
             [
              0.7777777777777778,
              "#fb9f3a"
             ],
             [
              0.8888888888888888,
              "#fdca26"
             ],
             [
              1,
              "#f0f921"
             ]
            ],
            "type": "heatmap"
           }
          ],
          "heatmapgl": [
           {
            "colorbar": {
             "outlinewidth": 0,
             "ticks": ""
            },
            "colorscale": [
             [
              0,
              "#0d0887"
             ],
             [
              0.1111111111111111,
              "#46039f"
             ],
             [
              0.2222222222222222,
              "#7201a8"
             ],
             [
              0.3333333333333333,
              "#9c179e"
             ],
             [
              0.4444444444444444,
              "#bd3786"
             ],
             [
              0.5555555555555556,
              "#d8576b"
             ],
             [
              0.6666666666666666,
              "#ed7953"
             ],
             [
              0.7777777777777778,
              "#fb9f3a"
             ],
             [
              0.8888888888888888,
              "#fdca26"
             ],
             [
              1,
              "#f0f921"
             ]
            ],
            "type": "heatmapgl"
           }
          ],
          "histogram": [
           {
            "marker": {
             "pattern": {
              "fillmode": "overlay",
              "size": 10,
              "solidity": 0.2
             }
            },
            "type": "histogram"
           }
          ],
          "histogram2d": [
           {
            "colorbar": {
             "outlinewidth": 0,
             "ticks": ""
            },
            "colorscale": [
             [
              0,
              "#0d0887"
             ],
             [
              0.1111111111111111,
              "#46039f"
             ],
             [
              0.2222222222222222,
              "#7201a8"
             ],
             [
              0.3333333333333333,
              "#9c179e"
             ],
             [
              0.4444444444444444,
              "#bd3786"
             ],
             [
              0.5555555555555556,
              "#d8576b"
             ],
             [
              0.6666666666666666,
              "#ed7953"
             ],
             [
              0.7777777777777778,
              "#fb9f3a"
             ],
             [
              0.8888888888888888,
              "#fdca26"
             ],
             [
              1,
              "#f0f921"
             ]
            ],
            "type": "histogram2d"
           }
          ],
          "histogram2dcontour": [
           {
            "colorbar": {
             "outlinewidth": 0,
             "ticks": ""
            },
            "colorscale": [
             [
              0,
              "#0d0887"
             ],
             [
              0.1111111111111111,
              "#46039f"
             ],
             [
              0.2222222222222222,
              "#7201a8"
             ],
             [
              0.3333333333333333,
              "#9c179e"
             ],
             [
              0.4444444444444444,
              "#bd3786"
             ],
             [
              0.5555555555555556,
              "#d8576b"
             ],
             [
              0.6666666666666666,
              "#ed7953"
             ],
             [
              0.7777777777777778,
              "#fb9f3a"
             ],
             [
              0.8888888888888888,
              "#fdca26"
             ],
             [
              1,
              "#f0f921"
             ]
            ],
            "type": "histogram2dcontour"
           }
          ],
          "mesh3d": [
           {
            "colorbar": {
             "outlinewidth": 0,
             "ticks": ""
            },
            "type": "mesh3d"
           }
          ],
          "parcoords": [
           {
            "line": {
             "colorbar": {
              "outlinewidth": 0,
              "ticks": ""
             }
            },
            "type": "parcoords"
           }
          ],
          "pie": [
           {
            "automargin": true,
            "type": "pie"
           }
          ],
          "scatter": [
           {
            "marker": {
             "colorbar": {
              "outlinewidth": 0,
              "ticks": ""
             }
            },
            "type": "scatter"
           }
          ],
          "scatter3d": [
           {
            "line": {
             "colorbar": {
              "outlinewidth": 0,
              "ticks": ""
             }
            },
            "marker": {
             "colorbar": {
              "outlinewidth": 0,
              "ticks": ""
             }
            },
            "type": "scatter3d"
           }
          ],
          "scattercarpet": [
           {
            "marker": {
             "colorbar": {
              "outlinewidth": 0,
              "ticks": ""
             }
            },
            "type": "scattercarpet"
           }
          ],
          "scattergeo": [
           {
            "marker": {
             "colorbar": {
              "outlinewidth": 0,
              "ticks": ""
             }
            },
            "type": "scattergeo"
           }
          ],
          "scattergl": [
           {
            "marker": {
             "colorbar": {
              "outlinewidth": 0,
              "ticks": ""
             }
            },
            "type": "scattergl"
           }
          ],
          "scattermapbox": [
           {
            "marker": {
             "colorbar": {
              "outlinewidth": 0,
              "ticks": ""
             }
            },
            "type": "scattermapbox"
           }
          ],
          "scatterpolar": [
           {
            "marker": {
             "colorbar": {
              "outlinewidth": 0,
              "ticks": ""
             }
            },
            "type": "scatterpolar"
           }
          ],
          "scatterpolargl": [
           {
            "marker": {
             "colorbar": {
              "outlinewidth": 0,
              "ticks": ""
             }
            },
            "type": "scatterpolargl"
           }
          ],
          "scatterternary": [
           {
            "marker": {
             "colorbar": {
              "outlinewidth": 0,
              "ticks": ""
             }
            },
            "type": "scatterternary"
           }
          ],
          "surface": [
           {
            "colorbar": {
             "outlinewidth": 0,
             "ticks": ""
            },
            "colorscale": [
             [
              0,
              "#0d0887"
             ],
             [
              0.1111111111111111,
              "#46039f"
             ],
             [
              0.2222222222222222,
              "#7201a8"
             ],
             [
              0.3333333333333333,
              "#9c179e"
             ],
             [
              0.4444444444444444,
              "#bd3786"
             ],
             [
              0.5555555555555556,
              "#d8576b"
             ],
             [
              0.6666666666666666,
              "#ed7953"
             ],
             [
              0.7777777777777778,
              "#fb9f3a"
             ],
             [
              0.8888888888888888,
              "#fdca26"
             ],
             [
              1,
              "#f0f921"
             ]
            ],
            "type": "surface"
           }
          ],
          "table": [
           {
            "cells": {
             "fill": {
              "color": "#EBF0F8"
             },
             "line": {
              "color": "white"
             }
            },
            "header": {
             "fill": {
              "color": "#C8D4E3"
             },
             "line": {
              "color": "white"
             }
            },
            "type": "table"
           }
          ]
         },
         "layout": {
          "annotationdefaults": {
           "arrowcolor": "#2a3f5f",
           "arrowhead": 0,
           "arrowwidth": 1
          },
          "autotypenumbers": "strict",
          "coloraxis": {
           "colorbar": {
            "outlinewidth": 0,
            "ticks": ""
           }
          },
          "colorscale": {
           "diverging": [
            [
             0,
             "#8e0152"
            ],
            [
             0.1,
             "#c51b7d"
            ],
            [
             0.2,
             "#de77ae"
            ],
            [
             0.3,
             "#f1b6da"
            ],
            [
             0.4,
             "#fde0ef"
            ],
            [
             0.5,
             "#f7f7f7"
            ],
            [
             0.6,
             "#e6f5d0"
            ],
            [
             0.7,
             "#b8e186"
            ],
            [
             0.8,
             "#7fbc41"
            ],
            [
             0.9,
             "#4d9221"
            ],
            [
             1,
             "#276419"
            ]
           ],
           "sequential": [
            [
             0,
             "#0d0887"
            ],
            [
             0.1111111111111111,
             "#46039f"
            ],
            [
             0.2222222222222222,
             "#7201a8"
            ],
            [
             0.3333333333333333,
             "#9c179e"
            ],
            [
             0.4444444444444444,
             "#bd3786"
            ],
            [
             0.5555555555555556,
             "#d8576b"
            ],
            [
             0.6666666666666666,
             "#ed7953"
            ],
            [
             0.7777777777777778,
             "#fb9f3a"
            ],
            [
             0.8888888888888888,
             "#fdca26"
            ],
            [
             1,
             "#f0f921"
            ]
           ],
           "sequentialminus": [
            [
             0,
             "#0d0887"
            ],
            [
             0.1111111111111111,
             "#46039f"
            ],
            [
             0.2222222222222222,
             "#7201a8"
            ],
            [
             0.3333333333333333,
             "#9c179e"
            ],
            [
             0.4444444444444444,
             "#bd3786"
            ],
            [
             0.5555555555555556,
             "#d8576b"
            ],
            [
             0.6666666666666666,
             "#ed7953"
            ],
            [
             0.7777777777777778,
             "#fb9f3a"
            ],
            [
             0.8888888888888888,
             "#fdca26"
            ],
            [
             1,
             "#f0f921"
            ]
           ]
          },
          "colorway": [
           "#636efa",
           "#EF553B",
           "#00cc96",
           "#ab63fa",
           "#FFA15A",
           "#19d3f3",
           "#FF6692",
           "#B6E880",
           "#FF97FF",
           "#FECB52"
          ],
          "font": {
           "color": "#2a3f5f"
          },
          "geo": {
           "bgcolor": "white",
           "lakecolor": "white",
           "landcolor": "#E5ECF6",
           "showlakes": true,
           "showland": true,
           "subunitcolor": "white"
          },
          "hoverlabel": {
           "align": "left"
          },
          "hovermode": "closest",
          "mapbox": {
           "style": "light"
          },
          "paper_bgcolor": "white",
          "plot_bgcolor": "#E5ECF6",
          "polar": {
           "angularaxis": {
            "gridcolor": "white",
            "linecolor": "white",
            "ticks": ""
           },
           "bgcolor": "#E5ECF6",
           "radialaxis": {
            "gridcolor": "white",
            "linecolor": "white",
            "ticks": ""
           }
          },
          "scene": {
           "xaxis": {
            "backgroundcolor": "#E5ECF6",
            "gridcolor": "white",
            "gridwidth": 2,
            "linecolor": "white",
            "showbackground": true,
            "ticks": "",
            "zerolinecolor": "white"
           },
           "yaxis": {
            "backgroundcolor": "#E5ECF6",
            "gridcolor": "white",
            "gridwidth": 2,
            "linecolor": "white",
            "showbackground": true,
            "ticks": "",
            "zerolinecolor": "white"
           },
           "zaxis": {
            "backgroundcolor": "#E5ECF6",
            "gridcolor": "white",
            "gridwidth": 2,
            "linecolor": "white",
            "showbackground": true,
            "ticks": "",
            "zerolinecolor": "white"
           }
          },
          "shapedefaults": {
           "line": {
            "color": "#2a3f5f"
           }
          },
          "ternary": {
           "aaxis": {
            "gridcolor": "white",
            "linecolor": "white",
            "ticks": ""
           },
           "baxis": {
            "gridcolor": "white",
            "linecolor": "white",
            "ticks": ""
           },
           "bgcolor": "#E5ECF6",
           "caxis": {
            "gridcolor": "white",
            "linecolor": "white",
            "ticks": ""
           }
          },
          "title": {
           "x": 0.05
          },
          "xaxis": {
           "automargin": true,
           "gridcolor": "white",
           "linecolor": "white",
           "ticks": "",
           "title": {
            "standoff": 15
           },
           "zerolinecolor": "white",
           "zerolinewidth": 2
          },
          "yaxis": {
           "automargin": true,
           "gridcolor": "white",
           "linecolor": "white",
           "ticks": "",
           "title": {
            "standoff": 15
           },
           "zerolinecolor": "white",
           "zerolinewidth": 2
          }
         }
        },
        "title": {
         "font": {
          "color": "#4D5663"
         }
        },
        "xaxis": {
         "gridcolor": "#E1E5ED",
         "showgrid": true,
         "tickfont": {
          "color": "#4D5663"
         },
         "title": {
          "font": {
           "color": "#4D5663"
          },
          "text": ""
         },
         "zerolinecolor": "#E1E5ED"
        },
        "yaxis": {
         "gridcolor": "#E1E5ED",
         "showgrid": true,
         "tickfont": {
          "color": "#4D5663"
         },
         "title": {
          "font": {
           "color": "#4D5663"
          },
          "text": ""
         },
         "zerolinecolor": "#E1E5ED"
        }
       }
      },
      "text/html": [
       "<div>                            <div id=\"5f413639-f8ff-4deb-8e90-357ed158600a\" class=\"plotly-graph-div\" style=\"height:525px; width:100%;\"></div>            <script type=\"text/javascript\">                require([\"plotly\"], function(Plotly) {                    window.PLOTLYENV=window.PLOTLYENV || {};\n",
       "                    window.PLOTLYENV.BASE_URL='https://plot.ly';                                    if (document.getElementById(\"5f413639-f8ff-4deb-8e90-357ed158600a\")) {                    Plotly.newPlot(                        \"5f413639-f8ff-4deb-8e90-357ed158600a\",                        [{\"marker\":{\"color\":[\"rgb(255, 153, 51)\",\"rgb(55, 128, 191)\",\"rgb(50, 171, 96)\",\"rgb(128, 0, 128)\",\"rgb(219, 64, 82)\",\"rgb(0, 128, 128)\",\"rgb(255, 255, 51)\",\"rgb(128, 128, 0)\",\"rgb(251, 128, 114)\",\"rgb(128, 177, 211)\"],\"line\":{\"width\":1.3},\"size\":[44,54,59,75,32,90,33,46,41,56,62,24,32,53,46,75,54,68,68,35,47,61,70,49,14,42,44,75,39,47,15,28,54,49,83,55,89,111,47,59,46,69,26,36,64,31,63,59,43,41,17,42,44,46,34,12,92,50,59,44,21,41,58,75,30,21,16,40,65,64,90,86,41,74,36,52,34,43,54,14,48,45,40,62,41,40,24,55,35,33,39,68,19,33,40,48,64,57,41,12],\"symbol\":\"circle\"},\"mode\":\"markers\",\"text\":\"\",\"x\":[-1.3813706255062617,0.8065087300796255,0.3418651186982201,-0.3323817128521051,2.1231407918626863,-1.1202630656804664,-0.0838679423613188,-0.2323656787814356,-0.4448817191163479,-0.06875353456729144,-0.049574301014722454,2.210801449350267,-1.1063203713174574,-0.6063103665598676,-0.7011439170998087,-0.45395970306502087,2.766671816092905,0.5699573520404393,0.8808174816908407,1.3800745892046544,-0.1603764834931205,-1.0622118661110387,-1.562271295381666,-0.57761248853128,-0.8179651173239639,1.3851094626150695,1.419717830017316,1.490032752768479,0.4839879897208073,2.846600051376337,-0.19327060595834927,0.10695835574762955,-1.2772804565698301,0.1457265969364036,0.4980186780688667,0.37059896130240544,-1.7873621950489733,-0.8815719530555712,-1.0904553304750297,0.31263785194698335,-1.7657329345102317,-1.6644896212258584,-0.9985986717447229,-5.7910567175379e-05,-1.331707814385081,0.1134252366886889,0.759414790394926,-0.0599661947972707,0.6906859639390763,0.354321372436767,-1.1380592776587406,-0.9992273007320776,0.08349219406595834,1.4708225882710029,2.2572721833274625,0.7709653112317927,-0.23877889678292707,1.3451420206002938,-0.16746439868244084,0.5699618681293717,-0.3708267121936692,-1.8703385788607723,0.9215350628981622,-2.3333905191830175,0.43391561874284323,-0.7463278263388601,0.4737891000334945,1.0920180090401317,1.0325775036488705,-0.6106630768648215,-0.7382156222692969,-0.9584583679324162,-2.7421379622719124,-1.7506037789263569,0.31966563419627686,-0.7892062316286367,0.448996320741698,0.21294295276889807,0.9160624812720353,-0.28604664133610624,0.30985990443739675,-0.46754536872788194,-0.11610969135353229,0.48391664650310773,-0.520395981311585,1.1541095181196932,-0.45352152882079416,-0.05789549270731017,-1.2919838016797072,-0.3090001479193332,0.569241312546446,-0.934322907187918,0.3443265950499941,0.1456857429217968,-0.16409306709076685,0.5505366687670102,-1.2457267972453103,2.1972545707069133,-1.083598726767268,-2.39275691984455],\"y\":[0.39408508751691174,0.5597812290844585,1.1872882937316844,0.5261069177621385,0.8324150081424387,2.0229924948473155,0.8016952099182463,-0.27250856543923707,0.5991969917690078,0.012408271151590967,1.498575989045239,-1.5252754697159996,0.14066922828746695,0.2001614896562864,0.7393141086675633,0.5218190410445782,-0.14099631099514778,0.746320335451686,0.2882068249559392,-0.6261179226215818,-1.3453418809785471,0.4485083513661857,-0.30337254173453476,-0.2573198650134465,1.8340919440261283,-1.723238043505735,2.2560989316205946,0.08307241884321633,-0.17902782356976163,0.3746919695015312,0.6907935307424771,-1.9052738453037013,-0.6944962604391867,-0.9560653935208608,-0.1260645549119327,-0.2820678692564736,-0.2899959469285368,-0.8697374037589303,1.4866174930332687,-0.358924788703825,-1.5454270107479176,-1.526480268544885,-0.9045299027694891,-0.49427429863164674,-0.09974524282445445,0.9496340986727977,-0.8322150144236892,-0.8063792658634675,1.312605694412341,0.1685132896260088,-1.4139505639110368,-0.4482508192546252,-0.5273928906970727,-0.6484514233815363,1.2933196429677625,0.15955467005039792,-1.4435626349802602,0.4894758579829374,1.0182449643440812,0.20611253270759147,-2.0742934113938274,0.7261227044394204,-0.9894261852623139,0.43174655067239753,0.23595597214069036,-0.6426900200374779,-0.2730663543060331,-0.5447654206263307,1.47959887301995,-2.035056494382499,0.39249244408448947,-0.444491041437767,0.3489655282637713,0.6535654394632688,-1.1795812678279245,-0.5415330568975902,-0.21101973071373986,-0.12649315801693273,0.5722210235128772,1.4461631141087352,0.6147519214766572,0.526200192436856,1.3598304924670988,0.253727520804128,0.9508513571872201,-0.33096300255923383,0.6422459455412688,-1.182840275342704,0.7776106033058436,0.7251921984089881,-0.8992954636081043,-0.2659385388815195,1.8702168449694738,-0.7927214636265612,1.3740151971820014,0.7803432925385417,0.4547995097119779,-1.9189864701064838,0.742221013929439,-1.911585229275281],\"type\":\"scatter\"}],                        {\"legend\":{\"bgcolor\":\"#F5F6F9\",\"font\":{\"color\":\"#4D5663\"}},\"paper_bgcolor\":\"#F5F6F9\",\"plot_bgcolor\":\"#F5F6F9\",\"template\":{\"data\":{\"barpolar\":[{\"marker\":{\"line\":{\"color\":\"#E5ECF6\",\"width\":0.5},\"pattern\":{\"fillmode\":\"overlay\",\"size\":10,\"solidity\":0.2}},\"type\":\"barpolar\"}],\"bar\":[{\"error_x\":{\"color\":\"#2a3f5f\"},\"error_y\":{\"color\":\"#2a3f5f\"},\"marker\":{\"line\":{\"color\":\"#E5ECF6\",\"width\":0.5},\"pattern\":{\"fillmode\":\"overlay\",\"size\":10,\"solidity\":0.2}},\"type\":\"bar\"}],\"carpet\":[{\"aaxis\":{\"endlinecolor\":\"#2a3f5f\",\"gridcolor\":\"white\",\"linecolor\":\"white\",\"minorgridcolor\":\"white\",\"startlinecolor\":\"#2a3f5f\"},\"baxis\":{\"endlinecolor\":\"#2a3f5f\",\"gridcolor\":\"white\",\"linecolor\":\"white\",\"minorgridcolor\":\"white\",\"startlinecolor\":\"#2a3f5f\"},\"type\":\"carpet\"}],\"choropleth\":[{\"colorbar\":{\"outlinewidth\":0,\"ticks\":\"\"},\"type\":\"choropleth\"}],\"contourcarpet\":[{\"colorbar\":{\"outlinewidth\":0,\"ticks\":\"\"},\"type\":\"contourcarpet\"}],\"contour\":[{\"colorbar\":{\"outlinewidth\":0,\"ticks\":\"\"},\"colorscale\":[[0.0,\"#0d0887\"],[0.1111111111111111,\"#46039f\"],[0.2222222222222222,\"#7201a8\"],[0.3333333333333333,\"#9c179e\"],[0.4444444444444444,\"#bd3786\"],[0.5555555555555556,\"#d8576b\"],[0.6666666666666666,\"#ed7953\"],[0.7777777777777778,\"#fb9f3a\"],[0.8888888888888888,\"#fdca26\"],[1.0,\"#f0f921\"]],\"type\":\"contour\"}],\"heatmapgl\":[{\"colorbar\":{\"outlinewidth\":0,\"ticks\":\"\"},\"colorscale\":[[0.0,\"#0d0887\"],[0.1111111111111111,\"#46039f\"],[0.2222222222222222,\"#7201a8\"],[0.3333333333333333,\"#9c179e\"],[0.4444444444444444,\"#bd3786\"],[0.5555555555555556,\"#d8576b\"],[0.6666666666666666,\"#ed7953\"],[0.7777777777777778,\"#fb9f3a\"],[0.8888888888888888,\"#fdca26\"],[1.0,\"#f0f921\"]],\"type\":\"heatmapgl\"}],\"heatmap\":[{\"colorbar\":{\"outlinewidth\":0,\"ticks\":\"\"},\"colorscale\":[[0.0,\"#0d0887\"],[0.1111111111111111,\"#46039f\"],[0.2222222222222222,\"#7201a8\"],[0.3333333333333333,\"#9c179e\"],[0.4444444444444444,\"#bd3786\"],[0.5555555555555556,\"#d8576b\"],[0.6666666666666666,\"#ed7953\"],[0.7777777777777778,\"#fb9f3a\"],[0.8888888888888888,\"#fdca26\"],[1.0,\"#f0f921\"]],\"type\":\"heatmap\"}],\"histogram2dcontour\":[{\"colorbar\":{\"outlinewidth\":0,\"ticks\":\"\"},\"colorscale\":[[0.0,\"#0d0887\"],[0.1111111111111111,\"#46039f\"],[0.2222222222222222,\"#7201a8\"],[0.3333333333333333,\"#9c179e\"],[0.4444444444444444,\"#bd3786\"],[0.5555555555555556,\"#d8576b\"],[0.6666666666666666,\"#ed7953\"],[0.7777777777777778,\"#fb9f3a\"],[0.8888888888888888,\"#fdca26\"],[1.0,\"#f0f921\"]],\"type\":\"histogram2dcontour\"}],\"histogram2d\":[{\"colorbar\":{\"outlinewidth\":0,\"ticks\":\"\"},\"colorscale\":[[0.0,\"#0d0887\"],[0.1111111111111111,\"#46039f\"],[0.2222222222222222,\"#7201a8\"],[0.3333333333333333,\"#9c179e\"],[0.4444444444444444,\"#bd3786\"],[0.5555555555555556,\"#d8576b\"],[0.6666666666666666,\"#ed7953\"],[0.7777777777777778,\"#fb9f3a\"],[0.8888888888888888,\"#fdca26\"],[1.0,\"#f0f921\"]],\"type\":\"histogram2d\"}],\"histogram\":[{\"marker\":{\"pattern\":{\"fillmode\":\"overlay\",\"size\":10,\"solidity\":0.2}},\"type\":\"histogram\"}],\"mesh3d\":[{\"colorbar\":{\"outlinewidth\":0,\"ticks\":\"\"},\"type\":\"mesh3d\"}],\"parcoords\":[{\"line\":{\"colorbar\":{\"outlinewidth\":0,\"ticks\":\"\"}},\"type\":\"parcoords\"}],\"pie\":[{\"automargin\":true,\"type\":\"pie\"}],\"scatter3d\":[{\"line\":{\"colorbar\":{\"outlinewidth\":0,\"ticks\":\"\"}},\"marker\":{\"colorbar\":{\"outlinewidth\":0,\"ticks\":\"\"}},\"type\":\"scatter3d\"}],\"scattercarpet\":[{\"marker\":{\"colorbar\":{\"outlinewidth\":0,\"ticks\":\"\"}},\"type\":\"scattercarpet\"}],\"scattergeo\":[{\"marker\":{\"colorbar\":{\"outlinewidth\":0,\"ticks\":\"\"}},\"type\":\"scattergeo\"}],\"scattergl\":[{\"marker\":{\"colorbar\":{\"outlinewidth\":0,\"ticks\":\"\"}},\"type\":\"scattergl\"}],\"scattermapbox\":[{\"marker\":{\"colorbar\":{\"outlinewidth\":0,\"ticks\":\"\"}},\"type\":\"scattermapbox\"}],\"scatterpolargl\":[{\"marker\":{\"colorbar\":{\"outlinewidth\":0,\"ticks\":\"\"}},\"type\":\"scatterpolargl\"}],\"scatterpolar\":[{\"marker\":{\"colorbar\":{\"outlinewidth\":0,\"ticks\":\"\"}},\"type\":\"scatterpolar\"}],\"scatter\":[{\"marker\":{\"colorbar\":{\"outlinewidth\":0,\"ticks\":\"\"}},\"type\":\"scatter\"}],\"scatterternary\":[{\"marker\":{\"colorbar\":{\"outlinewidth\":0,\"ticks\":\"\"}},\"type\":\"scatterternary\"}],\"surface\":[{\"colorbar\":{\"outlinewidth\":0,\"ticks\":\"\"},\"colorscale\":[[0.0,\"#0d0887\"],[0.1111111111111111,\"#46039f\"],[0.2222222222222222,\"#7201a8\"],[0.3333333333333333,\"#9c179e\"],[0.4444444444444444,\"#bd3786\"],[0.5555555555555556,\"#d8576b\"],[0.6666666666666666,\"#ed7953\"],[0.7777777777777778,\"#fb9f3a\"],[0.8888888888888888,\"#fdca26\"],[1.0,\"#f0f921\"]],\"type\":\"surface\"}],\"table\":[{\"cells\":{\"fill\":{\"color\":\"#EBF0F8\"},\"line\":{\"color\":\"white\"}},\"header\":{\"fill\":{\"color\":\"#C8D4E3\"},\"line\":{\"color\":\"white\"}},\"type\":\"table\"}]},\"layout\":{\"annotationdefaults\":{\"arrowcolor\":\"#2a3f5f\",\"arrowhead\":0,\"arrowwidth\":1},\"autotypenumbers\":\"strict\",\"coloraxis\":{\"colorbar\":{\"outlinewidth\":0,\"ticks\":\"\"}},\"colorscale\":{\"diverging\":[[0,\"#8e0152\"],[0.1,\"#c51b7d\"],[0.2,\"#de77ae\"],[0.3,\"#f1b6da\"],[0.4,\"#fde0ef\"],[0.5,\"#f7f7f7\"],[0.6,\"#e6f5d0\"],[0.7,\"#b8e186\"],[0.8,\"#7fbc41\"],[0.9,\"#4d9221\"],[1,\"#276419\"]],\"sequential\":[[0.0,\"#0d0887\"],[0.1111111111111111,\"#46039f\"],[0.2222222222222222,\"#7201a8\"],[0.3333333333333333,\"#9c179e\"],[0.4444444444444444,\"#bd3786\"],[0.5555555555555556,\"#d8576b\"],[0.6666666666666666,\"#ed7953\"],[0.7777777777777778,\"#fb9f3a\"],[0.8888888888888888,\"#fdca26\"],[1.0,\"#f0f921\"]],\"sequentialminus\":[[0.0,\"#0d0887\"],[0.1111111111111111,\"#46039f\"],[0.2222222222222222,\"#7201a8\"],[0.3333333333333333,\"#9c179e\"],[0.4444444444444444,\"#bd3786\"],[0.5555555555555556,\"#d8576b\"],[0.6666666666666666,\"#ed7953\"],[0.7777777777777778,\"#fb9f3a\"],[0.8888888888888888,\"#fdca26\"],[1.0,\"#f0f921\"]]},\"colorway\":[\"#636efa\",\"#EF553B\",\"#00cc96\",\"#ab63fa\",\"#FFA15A\",\"#19d3f3\",\"#FF6692\",\"#B6E880\",\"#FF97FF\",\"#FECB52\"],\"font\":{\"color\":\"#2a3f5f\"},\"geo\":{\"bgcolor\":\"white\",\"lakecolor\":\"white\",\"landcolor\":\"#E5ECF6\",\"showlakes\":true,\"showland\":true,\"subunitcolor\":\"white\"},\"hoverlabel\":{\"align\":\"left\"},\"hovermode\":\"closest\",\"mapbox\":{\"style\":\"light\"},\"paper_bgcolor\":\"white\",\"plot_bgcolor\":\"#E5ECF6\",\"polar\":{\"angularaxis\":{\"gridcolor\":\"white\",\"linecolor\":\"white\",\"ticks\":\"\"},\"bgcolor\":\"#E5ECF6\",\"radialaxis\":{\"gridcolor\":\"white\",\"linecolor\":\"white\",\"ticks\":\"\"}},\"scene\":{\"xaxis\":{\"backgroundcolor\":\"#E5ECF6\",\"gridcolor\":\"white\",\"gridwidth\":2,\"linecolor\":\"white\",\"showbackground\":true,\"ticks\":\"\",\"zerolinecolor\":\"white\"},\"yaxis\":{\"backgroundcolor\":\"#E5ECF6\",\"gridcolor\":\"white\",\"gridwidth\":2,\"linecolor\":\"white\",\"showbackground\":true,\"ticks\":\"\",\"zerolinecolor\":\"white\"},\"zaxis\":{\"backgroundcolor\":\"#E5ECF6\",\"gridcolor\":\"white\",\"gridwidth\":2,\"linecolor\":\"white\",\"showbackground\":true,\"ticks\":\"\",\"zerolinecolor\":\"white\"}},\"shapedefaults\":{\"line\":{\"color\":\"#2a3f5f\"}},\"ternary\":{\"aaxis\":{\"gridcolor\":\"white\",\"linecolor\":\"white\",\"ticks\":\"\"},\"baxis\":{\"gridcolor\":\"white\",\"linecolor\":\"white\",\"ticks\":\"\"},\"bgcolor\":\"#E5ECF6\",\"caxis\":{\"gridcolor\":\"white\",\"linecolor\":\"white\",\"ticks\":\"\"}},\"title\":{\"x\":0.05},\"xaxis\":{\"automargin\":true,\"gridcolor\":\"white\",\"linecolor\":\"white\",\"ticks\":\"\",\"title\":{\"standoff\":15},\"zerolinecolor\":\"white\",\"zerolinewidth\":2},\"yaxis\":{\"automargin\":true,\"gridcolor\":\"white\",\"linecolor\":\"white\",\"ticks\":\"\",\"title\":{\"standoff\":15},\"zerolinecolor\":\"white\",\"zerolinewidth\":2}}},\"title\":{\"font\":{\"color\":\"#4D5663\"}},\"xaxis\":{\"gridcolor\":\"#E1E5ED\",\"showgrid\":true,\"tickfont\":{\"color\":\"#4D5663\"},\"title\":{\"font\":{\"color\":\"#4D5663\"},\"text\":\"\"},\"zerolinecolor\":\"#E1E5ED\"},\"yaxis\":{\"gridcolor\":\"#E1E5ED\",\"showgrid\":true,\"tickfont\":{\"color\":\"#4D5663\"},\"title\":{\"font\":{\"color\":\"#4D5663\"},\"text\":\"\"},\"zerolinecolor\":\"#E1E5ED\"}},                        {\"showLink\": true, \"linkText\": \"Export to plot.ly\", \"plotlyServerURL\": \"https://plot.ly\", \"responsive\": true}                    ).then(function(){\n",
       "                            \n",
       "var gd = document.getElementById('5f413639-f8ff-4deb-8e90-357ed158600a');\n",
       "var x = new MutationObserver(function (mutations, observer) {{\n",
       "        var display = window.getComputedStyle(gd).display;\n",
       "        if (!display || display === 'none') {{\n",
       "            console.log([gd, 'removed!']);\n",
       "            Plotly.purge(gd);\n",
       "            observer.disconnect();\n",
       "        }}\n",
       "}});\n",
       "\n",
       "// Listen for the removal of the full notebook cells\n",
       "var notebookContainer = gd.closest('#notebook-container');\n",
       "if (notebookContainer) {{\n",
       "    x.observe(notebookContainer, {childList: true});\n",
       "}}\n",
       "\n",
       "// Listen for the clearing of the current output cell\n",
       "var outputEl = gd.closest('.output');\n",
       "if (outputEl) {{\n",
       "    x.observe(outputEl, {childList: true});\n",
       "}}\n",
       "\n",
       "                        })                };                });            </script>        </div>"
      ]
     },
     "metadata": {},
     "output_type": "display_data"
    }
   ],
   "source": [
    "df.iplot(kind='bubble',x='A',y='B',size='C')"
   ]
  },
  {
   "cell_type": "code",
   "execution_count": 60,
   "id": "dcda079a",
   "metadata": {},
   "outputs": [
    {
     "data": {
      "application/vnd.plotly.v1+json": {
       "config": {
        "linkText": "Export to plot.ly",
        "plotlyServerURL": "https://plot.ly",
        "showLink": true
       },
       "data": [
        {
         "histfunc": "count",
         "histnorm": "",
         "marker": {
          "color": "rgba(255, 153, 51, 1.0)",
          "line": {
           "color": "#4D5663",
           "width": 1.3
          }
         },
         "name": "A",
         "nbinsx": 10,
         "opacity": 0.8,
         "orientation": "v",
         "type": "histogram",
         "x": [
          -1.3813706255062617,
          0.8065087300796255,
          0.3418651186982201,
          -0.3323817128521051,
          2.1231407918626863,
          -1.1202630656804664,
          -0.0838679423613188,
          -0.2323656787814356,
          -0.4448817191163479,
          -0.06875353456729144,
          -0.049574301014722454,
          2.210801449350267,
          -1.1063203713174574,
          -0.6063103665598676,
          -0.7011439170998087,
          -0.45395970306502087,
          2.766671816092905,
          0.5699573520404393,
          0.8808174816908407,
          1.3800745892046544,
          -0.1603764834931205,
          -1.0622118661110387,
          -1.562271295381666,
          -0.57761248853128,
          -0.8179651173239639,
          1.3851094626150695,
          1.419717830017316,
          1.490032752768479,
          0.4839879897208073,
          2.846600051376337,
          -0.19327060595834927,
          0.10695835574762955,
          -1.2772804565698301,
          0.1457265969364036,
          0.4980186780688667,
          0.37059896130240544,
          -1.7873621950489733,
          -0.8815719530555712,
          -1.0904553304750297,
          0.31263785194698335,
          -1.7657329345102317,
          -1.6644896212258584,
          -0.9985986717447229,
          -5.7910567175379e-05,
          -1.331707814385081,
          0.1134252366886889,
          0.759414790394926,
          -0.0599661947972707,
          0.6906859639390763,
          0.354321372436767,
          -1.1380592776587406,
          -0.9992273007320776,
          0.08349219406595834,
          1.4708225882710029,
          2.2572721833274625,
          0.7709653112317927,
          -0.23877889678292707,
          1.3451420206002938,
          -0.16746439868244084,
          0.5699618681293717,
          -0.3708267121936692,
          -1.8703385788607723,
          0.9215350628981622,
          -2.3333905191830175,
          0.43391561874284323,
          -0.7463278263388601,
          0.4737891000334945,
          1.0920180090401317,
          1.0325775036488705,
          -0.6106630768648215,
          -0.7382156222692969,
          -0.9584583679324162,
          -2.7421379622719124,
          -1.7506037789263569,
          0.31966563419627686,
          -0.7892062316286367,
          0.448996320741698,
          0.21294295276889807,
          0.9160624812720353,
          -0.28604664133610624,
          0.30985990443739675,
          -0.46754536872788194,
          -0.11610969135353229,
          0.48391664650310773,
          -0.520395981311585,
          1.1541095181196932,
          -0.45352152882079416,
          -0.05789549270731017,
          -1.2919838016797072,
          -0.3090001479193332,
          0.569241312546446,
          -0.934322907187918,
          0.3443265950499941,
          0.1456857429217968,
          -0.16409306709076685,
          0.5505366687670102,
          -1.2457267972453103,
          2.1972545707069133,
          -1.083598726767268,
          -2.39275691984455
         ],
         "xaxis": "x",
         "yaxis": "y"
        },
        {
         "line": {
          "color": "rgba(128, 128, 128, 1.0)",
          "dash": "solid",
          "shape": "linear",
          "width": 1.3
         },
         "marker": {
          "size": 2,
          "symbol": "circle"
         },
         "mode": "markers",
         "name": "A",
         "text": "",
         "type": "scatter",
         "x": [
          0.39408508751691174,
          0.5597812290844585,
          1.1872882937316844,
          0.5261069177621385,
          0.8324150081424387,
          2.0229924948473155,
          0.8016952099182463,
          -0.27250856543923707,
          0.5991969917690078,
          0.012408271151590967,
          1.498575989045239,
          -1.5252754697159996,
          0.14066922828746695,
          0.2001614896562864,
          0.7393141086675633,
          0.5218190410445782,
          -0.14099631099514778,
          0.746320335451686,
          0.2882068249559392,
          -0.6261179226215818,
          -1.3453418809785471,
          0.4485083513661857,
          -0.30337254173453476,
          -0.2573198650134465,
          1.8340919440261283,
          -1.723238043505735,
          2.2560989316205946,
          0.08307241884321633,
          -0.17902782356976163,
          0.3746919695015312,
          0.6907935307424771,
          -1.9052738453037013,
          -0.6944962604391867,
          -0.9560653935208608,
          -0.1260645549119327,
          -0.2820678692564736,
          -0.2899959469285368,
          -0.8697374037589303,
          1.4866174930332687,
          -0.358924788703825,
          -1.5454270107479176,
          -1.526480268544885,
          -0.9045299027694891,
          -0.49427429863164674,
          -0.09974524282445445,
          0.9496340986727977,
          -0.8322150144236892,
          -0.8063792658634675,
          1.312605694412341,
          0.1685132896260088,
          -1.4139505639110368,
          -0.4482508192546252,
          -0.5273928906970727,
          -0.6484514233815363,
          1.2933196429677625,
          0.15955467005039792,
          -1.4435626349802602,
          0.4894758579829374,
          1.0182449643440812,
          0.20611253270759147,
          -2.0742934113938274,
          0.7261227044394204,
          -0.9894261852623139,
          0.43174655067239753,
          0.23595597214069036,
          -0.6426900200374779,
          -0.2730663543060331,
          -0.5447654206263307,
          1.47959887301995,
          -2.035056494382499,
          0.39249244408448947,
          -0.444491041437767,
          0.3489655282637713,
          0.6535654394632688,
          -1.1795812678279245,
          -0.5415330568975902,
          -0.21101973071373986,
          -0.12649315801693273,
          0.5722210235128772,
          1.4461631141087352,
          0.6147519214766572,
          0.526200192436856,
          1.3598304924670988,
          0.253727520804128,
          0.9508513571872201,
          -0.33096300255923383,
          0.6422459455412688,
          -1.182840275342704,
          0.7776106033058436,
          0.7251921984089881,
          -0.8992954636081043,
          -0.2659385388815195,
          1.8702168449694738,
          -0.7927214636265612,
          1.3740151971820014,
          0.7803432925385417,
          0.4547995097119779,
          -1.9189864701064838,
          0.742221013929439,
          -1.911585229275281
         ],
         "xaxis": "x2",
         "y": [
          -1.3813706255062617,
          0.8065087300796255,
          0.3418651186982201,
          -0.3323817128521051,
          2.1231407918626863,
          -1.1202630656804664,
          -0.0838679423613188,
          -0.2323656787814356,
          -0.4448817191163479,
          -0.06875353456729144,
          -0.049574301014722454,
          2.210801449350267,
          -1.1063203713174574,
          -0.6063103665598676,
          -0.7011439170998087,
          -0.45395970306502087,
          2.766671816092905,
          0.5699573520404393,
          0.8808174816908407,
          1.3800745892046544,
          -0.1603764834931205,
          -1.0622118661110387,
          -1.562271295381666,
          -0.57761248853128,
          -0.8179651173239639,
          1.3851094626150695,
          1.419717830017316,
          1.490032752768479,
          0.4839879897208073,
          2.846600051376337,
          -0.19327060595834927,
          0.10695835574762955,
          -1.2772804565698301,
          0.1457265969364036,
          0.4980186780688667,
          0.37059896130240544,
          -1.7873621950489733,
          -0.8815719530555712,
          -1.0904553304750297,
          0.31263785194698335,
          -1.7657329345102317,
          -1.6644896212258584,
          -0.9985986717447229,
          -5.7910567175379e-05,
          -1.331707814385081,
          0.1134252366886889,
          0.759414790394926,
          -0.0599661947972707,
          0.6906859639390763,
          0.354321372436767,
          -1.1380592776587406,
          -0.9992273007320776,
          0.08349219406595834,
          1.4708225882710029,
          2.2572721833274625,
          0.7709653112317927,
          -0.23877889678292707,
          1.3451420206002938,
          -0.16746439868244084,
          0.5699618681293717,
          -0.3708267121936692,
          -1.8703385788607723,
          0.9215350628981622,
          -2.3333905191830175,
          0.43391561874284323,
          -0.7463278263388601,
          0.4737891000334945,
          1.0920180090401317,
          1.0325775036488705,
          -0.6106630768648215,
          -0.7382156222692969,
          -0.9584583679324162,
          -2.7421379622719124,
          -1.7506037789263569,
          0.31966563419627686,
          -0.7892062316286367,
          0.448996320741698,
          0.21294295276889807,
          0.9160624812720353,
          -0.28604664133610624,
          0.30985990443739675,
          -0.46754536872788194,
          -0.11610969135353229,
          0.48391664650310773,
          -0.520395981311585,
          1.1541095181196932,
          -0.45352152882079416,
          -0.05789549270731017,
          -1.2919838016797072,
          -0.3090001479193332,
          0.569241312546446,
          -0.934322907187918,
          0.3443265950499941,
          0.1456857429217968,
          -0.16409306709076685,
          0.5505366687670102,
          -1.2457267972453103,
          2.1972545707069133,
          -1.083598726767268,
          -2.39275691984455
         ],
         "yaxis": "y2"
        },
        {
         "line": {
          "color": "rgba(128, 128, 128, 1.0)",
          "dash": "solid",
          "shape": "linear",
          "width": 1.3
         },
         "marker": {
          "size": 2,
          "symbol": "circle"
         },
         "mode": "markers",
         "name": "A",
         "text": "",
         "type": "scatter",
         "x": [
          -0.2987894811036943,
          0.2225901646326759,
          0.4471936317963176,
          1.2814747332123524,
          -0.9552418673241627,
          2.060801706420197,
          -0.8797151015943191,
          -0.192546107039639,
          -0.46354470304234485,
          0.3305274097754041,
          0.5916004496576012,
          -1.375880586782106,
          -0.9207913336047217,
          0.14465223796691287,
          -0.2061086066280525,
          1.2674441883745204,
          0.20614590633728108,
          0.9052633794840721,
          0.9239174387714885,
          -0.7714672768665449,
          -0.1434020969717301,
          0.5585111397671629,
          1.0195780223148523,
          -0.07894797858200932,
          -1.8733880676435746,
          -0.41003749605034523,
          -0.3026443579727646,
          1.2821863127444708,
          -0.5565980490656567,
          -0.145248179737183,
          -1.8170013757109285,
          -1.1665076712559546,
          0.21431642850883828,
          -0.082021984380936,
          1.724281178128171,
          0.24318452448370406,
          2.0063449440240135,
          3.181650342247564,
          -0.17756112300209012,
          0.48670781257785706,
          -0.2216332574732512,
          0.9764349569522697,
          -1.2279952664572942,
          -0.7322244940565237,
          0.7038773844468086,
          -0.9825239295840146,
          0.6564170609631838,
          0.47320941675032435,
          -0.37464334670458405,
          -0.4532774880173421,
          -1.706366667605841,
          -0.4222680391946654,
          -0.29592653322574575,
          -0.20714821645298415,
          -0.8204968071147439,
          -1.9996417589002398,
          2.166104317282843,
          -0.022306212806870503,
          0.4551462595429836,
          -0.2979940515821381,
          -1.4818824407457283,
          -0.4780354334268793,
          0.41716212088670035,
          1.3046645507432006,
          -1.0411800096722719,
          -1.5130830164682152,
          -1.7434667903682146,
          -0.532914484831036,
          0.7692315168817534,
          0.7019656636207262,
          2.0538410221083065,
          1.8461172032230562,
          -0.45845633020735316,
          1.2562126486282355,
          -0.7463729527436335,
          0.07580553003946819,
          -0.8516574150018253,
          -0.370335400938513,
          0.2152695059196037,
          -1.8848171565320522,
          -0.10570196660186361,
          -0.2505068644384753,
          -0.5105942242224086,
          0.6139344751993816,
          -0.4737087543127613,
          -0.510188215541777,
          -1.3732479220251184,
          0.2767888416064128,
          -0.757193036837109,
          -0.8614603832931432,
          -0.557865585916297,
          0.9146575558097446,
          -1.5926850872805938,
          -0.8666455086184387,
          -0.536189391669879,
          -0.1342509107682199,
          0.7126084653006022,
          0.33245708912809635,
          -0.45858295913384756,
          -1.9653719811077877
         ],
         "xaxis": "x3",
         "y": [
          -1.3813706255062617,
          0.8065087300796255,
          0.3418651186982201,
          -0.3323817128521051,
          2.1231407918626863,
          -1.1202630656804664,
          -0.0838679423613188,
          -0.2323656787814356,
          -0.4448817191163479,
          -0.06875353456729144,
          -0.049574301014722454,
          2.210801449350267,
          -1.1063203713174574,
          -0.6063103665598676,
          -0.7011439170998087,
          -0.45395970306502087,
          2.766671816092905,
          0.5699573520404393,
          0.8808174816908407,
          1.3800745892046544,
          -0.1603764834931205,
          -1.0622118661110387,
          -1.562271295381666,
          -0.57761248853128,
          -0.8179651173239639,
          1.3851094626150695,
          1.419717830017316,
          1.490032752768479,
          0.4839879897208073,
          2.846600051376337,
          -0.19327060595834927,
          0.10695835574762955,
          -1.2772804565698301,
          0.1457265969364036,
          0.4980186780688667,
          0.37059896130240544,
          -1.7873621950489733,
          -0.8815719530555712,
          -1.0904553304750297,
          0.31263785194698335,
          -1.7657329345102317,
          -1.6644896212258584,
          -0.9985986717447229,
          -5.7910567175379e-05,
          -1.331707814385081,
          0.1134252366886889,
          0.759414790394926,
          -0.0599661947972707,
          0.6906859639390763,
          0.354321372436767,
          -1.1380592776587406,
          -0.9992273007320776,
          0.08349219406595834,
          1.4708225882710029,
          2.2572721833274625,
          0.7709653112317927,
          -0.23877889678292707,
          1.3451420206002938,
          -0.16746439868244084,
          0.5699618681293717,
          -0.3708267121936692,
          -1.8703385788607723,
          0.9215350628981622,
          -2.3333905191830175,
          0.43391561874284323,
          -0.7463278263388601,
          0.4737891000334945,
          1.0920180090401317,
          1.0325775036488705,
          -0.6106630768648215,
          -0.7382156222692969,
          -0.9584583679324162,
          -2.7421379622719124,
          -1.7506037789263569,
          0.31966563419627686,
          -0.7892062316286367,
          0.448996320741698,
          0.21294295276889807,
          0.9160624812720353,
          -0.28604664133610624,
          0.30985990443739675,
          -0.46754536872788194,
          -0.11610969135353229,
          0.48391664650310773,
          -0.520395981311585,
          1.1541095181196932,
          -0.45352152882079416,
          -0.05789549270731017,
          -1.2919838016797072,
          -0.3090001479193332,
          0.569241312546446,
          -0.934322907187918,
          0.3443265950499941,
          0.1456857429217968,
          -0.16409306709076685,
          0.5505366687670102,
          -1.2457267972453103,
          2.1972545707069133,
          -1.083598726767268,
          -2.39275691984455
         ],
         "yaxis": "y3"
        },
        {
         "line": {
          "color": "rgba(128, 128, 128, 1.0)",
          "dash": "solid",
          "shape": "linear",
          "width": 1.3
         },
         "marker": {
          "size": 2,
          "symbol": "circle"
         },
         "mode": "markers",
         "name": "A",
         "text": "",
         "type": "scatter",
         "x": [
          1.2194998401815422,
          1.4913690042868526,
          0.5866339684329975,
          -0.8981621815400568,
          0.10167850804286419,
          -0.028381903162272983,
          -0.797979607898795,
          -0.22865948209205025,
          0.9532435168779463,
          0.93315048531111,
          1.4923707943986648,
          -0.5725789117978047,
          -0.2992674939912139,
          0.235709350300886,
          0.8351999504395523,
          0.5499302620579634,
          0.39304119881731764,
          0.7754212333815512,
          -0.09787901601362829,
          -0.23018426089024807,
          -0.46580940392060394,
          -0.6415912919024988,
          1.6379790384483537,
          1.554032022298955,
          0.45549533009842275,
          1.0031262484513215,
          1.3744089459600939,
          -1.3291581693843357,
          1.08096648864211,
          0.9019015033679907,
          -0.3592830930551365,
          -1.1249523410327373,
          -1.5875157299559755,
          -2.1062198846429347,
          0.025986401000826907,
          1.107055110853875,
          -0.40251434139730535,
          0.7445831803562862,
          0.129146395087142,
          -0.6820336215180516,
          1.153890938085677,
          -0.018211398924067236,
          -0.10426390036368663,
          1.1370735505214558,
          -1.688281763490834,
          0.1784278202773879,
          -0.04980231182279294,
          0.08938089451133488,
          -0.9210276455703743,
          0.3738223326718488,
          -0.1225170591280318,
          -2.157678449864731,
          -1.466295277308384,
          -1.2590354402311885,
          -1.714943627485368,
          0.09930544733285096,
          0.44262751580901993,
          0.11698678890919124,
          1.23977238365395,
          0.39026593502045837,
          -0.8269971459787546,
          -2.002139406375383,
          1.4340395753856423,
          -1.4074271264849452,
          -0.8535461491029694,
          -0.24604970837605986,
          -0.5921374277366798,
          0.03455704122587057,
          1.2854317626397362,
          -0.8475504293300136,
          0.7367096866032476,
          0.771477834869765,
          1.2046137179958973,
          -0.06032608825021621,
          1.3807155679355227,
          -0.5888565686343111,
          -0.3999907165483855,
          -1.8003727732432382,
          0.41430467294995027,
          0.30757970826674325,
          -0.24598597165186836,
          -1.2979224753787815,
          -1.0890247707256264,
          -1.481762559002663,
          0.4368807885545567,
          -0.24700045581395563,
          -2.2639443216507162,
          -0.6277351372321153,
          0.3524778826059403,
          0.042900047732522026,
          0.7032593947332072,
          1.0024635365061323,
          1.041521153522514,
          0.04485887562230921,
          -1.1001807578663265,
          0.26350896070320257,
          -0.6103259308751904,
          -2.2411846779712126,
          0.45973392781672434,
          -1.3772481632190896
         ],
         "xaxis": "x4",
         "y": [
          -1.3813706255062617,
          0.8065087300796255,
          0.3418651186982201,
          -0.3323817128521051,
          2.1231407918626863,
          -1.1202630656804664,
          -0.0838679423613188,
          -0.2323656787814356,
          -0.4448817191163479,
          -0.06875353456729144,
          -0.049574301014722454,
          2.210801449350267,
          -1.1063203713174574,
          -0.6063103665598676,
          -0.7011439170998087,
          -0.45395970306502087,
          2.766671816092905,
          0.5699573520404393,
          0.8808174816908407,
          1.3800745892046544,
          -0.1603764834931205,
          -1.0622118661110387,
          -1.562271295381666,
          -0.57761248853128,
          -0.8179651173239639,
          1.3851094626150695,
          1.419717830017316,
          1.490032752768479,
          0.4839879897208073,
          2.846600051376337,
          -0.19327060595834927,
          0.10695835574762955,
          -1.2772804565698301,
          0.1457265969364036,
          0.4980186780688667,
          0.37059896130240544,
          -1.7873621950489733,
          -0.8815719530555712,
          -1.0904553304750297,
          0.31263785194698335,
          -1.7657329345102317,
          -1.6644896212258584,
          -0.9985986717447229,
          -5.7910567175379e-05,
          -1.331707814385081,
          0.1134252366886889,
          0.759414790394926,
          -0.0599661947972707,
          0.6906859639390763,
          0.354321372436767,
          -1.1380592776587406,
          -0.9992273007320776,
          0.08349219406595834,
          1.4708225882710029,
          2.2572721833274625,
          0.7709653112317927,
          -0.23877889678292707,
          1.3451420206002938,
          -0.16746439868244084,
          0.5699618681293717,
          -0.3708267121936692,
          -1.8703385788607723,
          0.9215350628981622,
          -2.3333905191830175,
          0.43391561874284323,
          -0.7463278263388601,
          0.4737891000334945,
          1.0920180090401317,
          1.0325775036488705,
          -0.6106630768648215,
          -0.7382156222692969,
          -0.9584583679324162,
          -2.7421379622719124,
          -1.7506037789263569,
          0.31966563419627686,
          -0.7892062316286367,
          0.448996320741698,
          0.21294295276889807,
          0.9160624812720353,
          -0.28604664133610624,
          0.30985990443739675,
          -0.46754536872788194,
          -0.11610969135353229,
          0.48391664650310773,
          -0.520395981311585,
          1.1541095181196932,
          -0.45352152882079416,
          -0.05789549270731017,
          -1.2919838016797072,
          -0.3090001479193332,
          0.569241312546446,
          -0.934322907187918,
          0.3443265950499941,
          0.1456857429217968,
          -0.16409306709076685,
          0.5505366687670102,
          -1.2457267972453103,
          2.1972545707069133,
          -1.083598726767268,
          -2.39275691984455
         ],
         "yaxis": "y4"
        },
        {
         "line": {
          "color": "rgba(128, 128, 128, 1.0)",
          "dash": "solid",
          "shape": "linear",
          "width": 1.3
         },
         "marker": {
          "size": 2,
          "symbol": "circle"
         },
         "mode": "markers",
         "name": "B",
         "text": "",
         "type": "scatter",
         "x": [
          -1.3813706255062617,
          0.8065087300796255,
          0.3418651186982201,
          -0.3323817128521051,
          2.1231407918626863,
          -1.1202630656804664,
          -0.0838679423613188,
          -0.2323656787814356,
          -0.4448817191163479,
          -0.06875353456729144,
          -0.049574301014722454,
          2.210801449350267,
          -1.1063203713174574,
          -0.6063103665598676,
          -0.7011439170998087,
          -0.45395970306502087,
          2.766671816092905,
          0.5699573520404393,
          0.8808174816908407,
          1.3800745892046544,
          -0.1603764834931205,
          -1.0622118661110387,
          -1.562271295381666,
          -0.57761248853128,
          -0.8179651173239639,
          1.3851094626150695,
          1.419717830017316,
          1.490032752768479,
          0.4839879897208073,
          2.846600051376337,
          -0.19327060595834927,
          0.10695835574762955,
          -1.2772804565698301,
          0.1457265969364036,
          0.4980186780688667,
          0.37059896130240544,
          -1.7873621950489733,
          -0.8815719530555712,
          -1.0904553304750297,
          0.31263785194698335,
          -1.7657329345102317,
          -1.6644896212258584,
          -0.9985986717447229,
          -5.7910567175379e-05,
          -1.331707814385081,
          0.1134252366886889,
          0.759414790394926,
          -0.0599661947972707,
          0.6906859639390763,
          0.354321372436767,
          -1.1380592776587406,
          -0.9992273007320776,
          0.08349219406595834,
          1.4708225882710029,
          2.2572721833274625,
          0.7709653112317927,
          -0.23877889678292707,
          1.3451420206002938,
          -0.16746439868244084,
          0.5699618681293717,
          -0.3708267121936692,
          -1.8703385788607723,
          0.9215350628981622,
          -2.3333905191830175,
          0.43391561874284323,
          -0.7463278263388601,
          0.4737891000334945,
          1.0920180090401317,
          1.0325775036488705,
          -0.6106630768648215,
          -0.7382156222692969,
          -0.9584583679324162,
          -2.7421379622719124,
          -1.7506037789263569,
          0.31966563419627686,
          -0.7892062316286367,
          0.448996320741698,
          0.21294295276889807,
          0.9160624812720353,
          -0.28604664133610624,
          0.30985990443739675,
          -0.46754536872788194,
          -0.11610969135353229,
          0.48391664650310773,
          -0.520395981311585,
          1.1541095181196932,
          -0.45352152882079416,
          -0.05789549270731017,
          -1.2919838016797072,
          -0.3090001479193332,
          0.569241312546446,
          -0.934322907187918,
          0.3443265950499941,
          0.1456857429217968,
          -0.16409306709076685,
          0.5505366687670102,
          -1.2457267972453103,
          2.1972545707069133,
          -1.083598726767268,
          -2.39275691984455
         ],
         "xaxis": "x5",
         "y": [
          0.39408508751691174,
          0.5597812290844585,
          1.1872882937316844,
          0.5261069177621385,
          0.8324150081424387,
          2.0229924948473155,
          0.8016952099182463,
          -0.27250856543923707,
          0.5991969917690078,
          0.012408271151590967,
          1.498575989045239,
          -1.5252754697159996,
          0.14066922828746695,
          0.2001614896562864,
          0.7393141086675633,
          0.5218190410445782,
          -0.14099631099514778,
          0.746320335451686,
          0.2882068249559392,
          -0.6261179226215818,
          -1.3453418809785471,
          0.4485083513661857,
          -0.30337254173453476,
          -0.2573198650134465,
          1.8340919440261283,
          -1.723238043505735,
          2.2560989316205946,
          0.08307241884321633,
          -0.17902782356976163,
          0.3746919695015312,
          0.6907935307424771,
          -1.9052738453037013,
          -0.6944962604391867,
          -0.9560653935208608,
          -0.1260645549119327,
          -0.2820678692564736,
          -0.2899959469285368,
          -0.8697374037589303,
          1.4866174930332687,
          -0.358924788703825,
          -1.5454270107479176,
          -1.526480268544885,
          -0.9045299027694891,
          -0.49427429863164674,
          -0.09974524282445445,
          0.9496340986727977,
          -0.8322150144236892,
          -0.8063792658634675,
          1.312605694412341,
          0.1685132896260088,
          -1.4139505639110368,
          -0.4482508192546252,
          -0.5273928906970727,
          -0.6484514233815363,
          1.2933196429677625,
          0.15955467005039792,
          -1.4435626349802602,
          0.4894758579829374,
          1.0182449643440812,
          0.20611253270759147,
          -2.0742934113938274,
          0.7261227044394204,
          -0.9894261852623139,
          0.43174655067239753,
          0.23595597214069036,
          -0.6426900200374779,
          -0.2730663543060331,
          -0.5447654206263307,
          1.47959887301995,
          -2.035056494382499,
          0.39249244408448947,
          -0.444491041437767,
          0.3489655282637713,
          0.6535654394632688,
          -1.1795812678279245,
          -0.5415330568975902,
          -0.21101973071373986,
          -0.12649315801693273,
          0.5722210235128772,
          1.4461631141087352,
          0.6147519214766572,
          0.526200192436856,
          1.3598304924670988,
          0.253727520804128,
          0.9508513571872201,
          -0.33096300255923383,
          0.6422459455412688,
          -1.182840275342704,
          0.7776106033058436,
          0.7251921984089881,
          -0.8992954636081043,
          -0.2659385388815195,
          1.8702168449694738,
          -0.7927214636265612,
          1.3740151971820014,
          0.7803432925385417,
          0.4547995097119779,
          -1.9189864701064838,
          0.742221013929439,
          -1.911585229275281
         ],
         "yaxis": "y5"
        },
        {
         "histfunc": "count",
         "histnorm": "",
         "marker": {
          "color": "rgba(55, 128, 191, 1.0)",
          "line": {
           "color": "#4D5663",
           "width": 1.3
          }
         },
         "name": "B",
         "nbinsx": 10,
         "opacity": 0.8,
         "orientation": "v",
         "type": "histogram",
         "x": [
          0.39408508751691174,
          0.5597812290844585,
          1.1872882937316844,
          0.5261069177621385,
          0.8324150081424387,
          2.0229924948473155,
          0.8016952099182463,
          -0.27250856543923707,
          0.5991969917690078,
          0.012408271151590967,
          1.498575989045239,
          -1.5252754697159996,
          0.14066922828746695,
          0.2001614896562864,
          0.7393141086675633,
          0.5218190410445782,
          -0.14099631099514778,
          0.746320335451686,
          0.2882068249559392,
          -0.6261179226215818,
          -1.3453418809785471,
          0.4485083513661857,
          -0.30337254173453476,
          -0.2573198650134465,
          1.8340919440261283,
          -1.723238043505735,
          2.2560989316205946,
          0.08307241884321633,
          -0.17902782356976163,
          0.3746919695015312,
          0.6907935307424771,
          -1.9052738453037013,
          -0.6944962604391867,
          -0.9560653935208608,
          -0.1260645549119327,
          -0.2820678692564736,
          -0.2899959469285368,
          -0.8697374037589303,
          1.4866174930332687,
          -0.358924788703825,
          -1.5454270107479176,
          -1.526480268544885,
          -0.9045299027694891,
          -0.49427429863164674,
          -0.09974524282445445,
          0.9496340986727977,
          -0.8322150144236892,
          -0.8063792658634675,
          1.312605694412341,
          0.1685132896260088,
          -1.4139505639110368,
          -0.4482508192546252,
          -0.5273928906970727,
          -0.6484514233815363,
          1.2933196429677625,
          0.15955467005039792,
          -1.4435626349802602,
          0.4894758579829374,
          1.0182449643440812,
          0.20611253270759147,
          -2.0742934113938274,
          0.7261227044394204,
          -0.9894261852623139,
          0.43174655067239753,
          0.23595597214069036,
          -0.6426900200374779,
          -0.2730663543060331,
          -0.5447654206263307,
          1.47959887301995,
          -2.035056494382499,
          0.39249244408448947,
          -0.444491041437767,
          0.3489655282637713,
          0.6535654394632688,
          -1.1795812678279245,
          -0.5415330568975902,
          -0.21101973071373986,
          -0.12649315801693273,
          0.5722210235128772,
          1.4461631141087352,
          0.6147519214766572,
          0.526200192436856,
          1.3598304924670988,
          0.253727520804128,
          0.9508513571872201,
          -0.33096300255923383,
          0.6422459455412688,
          -1.182840275342704,
          0.7776106033058436,
          0.7251921984089881,
          -0.8992954636081043,
          -0.2659385388815195,
          1.8702168449694738,
          -0.7927214636265612,
          1.3740151971820014,
          0.7803432925385417,
          0.4547995097119779,
          -1.9189864701064838,
          0.742221013929439,
          -1.911585229275281
         ],
         "xaxis": "x6",
         "yaxis": "y6"
        },
        {
         "line": {
          "color": "rgba(128, 128, 128, 1.0)",
          "dash": "solid",
          "shape": "linear",
          "width": 1.3
         },
         "marker": {
          "size": 2,
          "symbol": "circle"
         },
         "mode": "markers",
         "name": "B",
         "text": "",
         "type": "scatter",
         "x": [
          -0.2987894811036943,
          0.2225901646326759,
          0.4471936317963176,
          1.2814747332123524,
          -0.9552418673241627,
          2.060801706420197,
          -0.8797151015943191,
          -0.192546107039639,
          -0.46354470304234485,
          0.3305274097754041,
          0.5916004496576012,
          -1.375880586782106,
          -0.9207913336047217,
          0.14465223796691287,
          -0.2061086066280525,
          1.2674441883745204,
          0.20614590633728108,
          0.9052633794840721,
          0.9239174387714885,
          -0.7714672768665449,
          -0.1434020969717301,
          0.5585111397671629,
          1.0195780223148523,
          -0.07894797858200932,
          -1.8733880676435746,
          -0.41003749605034523,
          -0.3026443579727646,
          1.2821863127444708,
          -0.5565980490656567,
          -0.145248179737183,
          -1.8170013757109285,
          -1.1665076712559546,
          0.21431642850883828,
          -0.082021984380936,
          1.724281178128171,
          0.24318452448370406,
          2.0063449440240135,
          3.181650342247564,
          -0.17756112300209012,
          0.48670781257785706,
          -0.2216332574732512,
          0.9764349569522697,
          -1.2279952664572942,
          -0.7322244940565237,
          0.7038773844468086,
          -0.9825239295840146,
          0.6564170609631838,
          0.47320941675032435,
          -0.37464334670458405,
          -0.4532774880173421,
          -1.706366667605841,
          -0.4222680391946654,
          -0.29592653322574575,
          -0.20714821645298415,
          -0.8204968071147439,
          -1.9996417589002398,
          2.166104317282843,
          -0.022306212806870503,
          0.4551462595429836,
          -0.2979940515821381,
          -1.4818824407457283,
          -0.4780354334268793,
          0.41716212088670035,
          1.3046645507432006,
          -1.0411800096722719,
          -1.5130830164682152,
          -1.7434667903682146,
          -0.532914484831036,
          0.7692315168817534,
          0.7019656636207262,
          2.0538410221083065,
          1.8461172032230562,
          -0.45845633020735316,
          1.2562126486282355,
          -0.7463729527436335,
          0.07580553003946819,
          -0.8516574150018253,
          -0.370335400938513,
          0.2152695059196037,
          -1.8848171565320522,
          -0.10570196660186361,
          -0.2505068644384753,
          -0.5105942242224086,
          0.6139344751993816,
          -0.4737087543127613,
          -0.510188215541777,
          -1.3732479220251184,
          0.2767888416064128,
          -0.757193036837109,
          -0.8614603832931432,
          -0.557865585916297,
          0.9146575558097446,
          -1.5926850872805938,
          -0.8666455086184387,
          -0.536189391669879,
          -0.1342509107682199,
          0.7126084653006022,
          0.33245708912809635,
          -0.45858295913384756,
          -1.9653719811077877
         ],
         "xaxis": "x7",
         "y": [
          0.39408508751691174,
          0.5597812290844585,
          1.1872882937316844,
          0.5261069177621385,
          0.8324150081424387,
          2.0229924948473155,
          0.8016952099182463,
          -0.27250856543923707,
          0.5991969917690078,
          0.012408271151590967,
          1.498575989045239,
          -1.5252754697159996,
          0.14066922828746695,
          0.2001614896562864,
          0.7393141086675633,
          0.5218190410445782,
          -0.14099631099514778,
          0.746320335451686,
          0.2882068249559392,
          -0.6261179226215818,
          -1.3453418809785471,
          0.4485083513661857,
          -0.30337254173453476,
          -0.2573198650134465,
          1.8340919440261283,
          -1.723238043505735,
          2.2560989316205946,
          0.08307241884321633,
          -0.17902782356976163,
          0.3746919695015312,
          0.6907935307424771,
          -1.9052738453037013,
          -0.6944962604391867,
          -0.9560653935208608,
          -0.1260645549119327,
          -0.2820678692564736,
          -0.2899959469285368,
          -0.8697374037589303,
          1.4866174930332687,
          -0.358924788703825,
          -1.5454270107479176,
          -1.526480268544885,
          -0.9045299027694891,
          -0.49427429863164674,
          -0.09974524282445445,
          0.9496340986727977,
          -0.8322150144236892,
          -0.8063792658634675,
          1.312605694412341,
          0.1685132896260088,
          -1.4139505639110368,
          -0.4482508192546252,
          -0.5273928906970727,
          -0.6484514233815363,
          1.2933196429677625,
          0.15955467005039792,
          -1.4435626349802602,
          0.4894758579829374,
          1.0182449643440812,
          0.20611253270759147,
          -2.0742934113938274,
          0.7261227044394204,
          -0.9894261852623139,
          0.43174655067239753,
          0.23595597214069036,
          -0.6426900200374779,
          -0.2730663543060331,
          -0.5447654206263307,
          1.47959887301995,
          -2.035056494382499,
          0.39249244408448947,
          -0.444491041437767,
          0.3489655282637713,
          0.6535654394632688,
          -1.1795812678279245,
          -0.5415330568975902,
          -0.21101973071373986,
          -0.12649315801693273,
          0.5722210235128772,
          1.4461631141087352,
          0.6147519214766572,
          0.526200192436856,
          1.3598304924670988,
          0.253727520804128,
          0.9508513571872201,
          -0.33096300255923383,
          0.6422459455412688,
          -1.182840275342704,
          0.7776106033058436,
          0.7251921984089881,
          -0.8992954636081043,
          -0.2659385388815195,
          1.8702168449694738,
          -0.7927214636265612,
          1.3740151971820014,
          0.7803432925385417,
          0.4547995097119779,
          -1.9189864701064838,
          0.742221013929439,
          -1.911585229275281
         ],
         "yaxis": "y7"
        },
        {
         "line": {
          "color": "rgba(128, 128, 128, 1.0)",
          "dash": "solid",
          "shape": "linear",
          "width": 1.3
         },
         "marker": {
          "size": 2,
          "symbol": "circle"
         },
         "mode": "markers",
         "name": "B",
         "text": "",
         "type": "scatter",
         "x": [
          1.2194998401815422,
          1.4913690042868526,
          0.5866339684329975,
          -0.8981621815400568,
          0.10167850804286419,
          -0.028381903162272983,
          -0.797979607898795,
          -0.22865948209205025,
          0.9532435168779463,
          0.93315048531111,
          1.4923707943986648,
          -0.5725789117978047,
          -0.2992674939912139,
          0.235709350300886,
          0.8351999504395523,
          0.5499302620579634,
          0.39304119881731764,
          0.7754212333815512,
          -0.09787901601362829,
          -0.23018426089024807,
          -0.46580940392060394,
          -0.6415912919024988,
          1.6379790384483537,
          1.554032022298955,
          0.45549533009842275,
          1.0031262484513215,
          1.3744089459600939,
          -1.3291581693843357,
          1.08096648864211,
          0.9019015033679907,
          -0.3592830930551365,
          -1.1249523410327373,
          -1.5875157299559755,
          -2.1062198846429347,
          0.025986401000826907,
          1.107055110853875,
          -0.40251434139730535,
          0.7445831803562862,
          0.129146395087142,
          -0.6820336215180516,
          1.153890938085677,
          -0.018211398924067236,
          -0.10426390036368663,
          1.1370735505214558,
          -1.688281763490834,
          0.1784278202773879,
          -0.04980231182279294,
          0.08938089451133488,
          -0.9210276455703743,
          0.3738223326718488,
          -0.1225170591280318,
          -2.157678449864731,
          -1.466295277308384,
          -1.2590354402311885,
          -1.714943627485368,
          0.09930544733285096,
          0.44262751580901993,
          0.11698678890919124,
          1.23977238365395,
          0.39026593502045837,
          -0.8269971459787546,
          -2.002139406375383,
          1.4340395753856423,
          -1.4074271264849452,
          -0.8535461491029694,
          -0.24604970837605986,
          -0.5921374277366798,
          0.03455704122587057,
          1.2854317626397362,
          -0.8475504293300136,
          0.7367096866032476,
          0.771477834869765,
          1.2046137179958973,
          -0.06032608825021621,
          1.3807155679355227,
          -0.5888565686343111,
          -0.3999907165483855,
          -1.8003727732432382,
          0.41430467294995027,
          0.30757970826674325,
          -0.24598597165186836,
          -1.2979224753787815,
          -1.0890247707256264,
          -1.481762559002663,
          0.4368807885545567,
          -0.24700045581395563,
          -2.2639443216507162,
          -0.6277351372321153,
          0.3524778826059403,
          0.042900047732522026,
          0.7032593947332072,
          1.0024635365061323,
          1.041521153522514,
          0.04485887562230921,
          -1.1001807578663265,
          0.26350896070320257,
          -0.6103259308751904,
          -2.2411846779712126,
          0.45973392781672434,
          -1.3772481632190896
         ],
         "xaxis": "x8",
         "y": [
          0.39408508751691174,
          0.5597812290844585,
          1.1872882937316844,
          0.5261069177621385,
          0.8324150081424387,
          2.0229924948473155,
          0.8016952099182463,
          -0.27250856543923707,
          0.5991969917690078,
          0.012408271151590967,
          1.498575989045239,
          -1.5252754697159996,
          0.14066922828746695,
          0.2001614896562864,
          0.7393141086675633,
          0.5218190410445782,
          -0.14099631099514778,
          0.746320335451686,
          0.2882068249559392,
          -0.6261179226215818,
          -1.3453418809785471,
          0.4485083513661857,
          -0.30337254173453476,
          -0.2573198650134465,
          1.8340919440261283,
          -1.723238043505735,
          2.2560989316205946,
          0.08307241884321633,
          -0.17902782356976163,
          0.3746919695015312,
          0.6907935307424771,
          -1.9052738453037013,
          -0.6944962604391867,
          -0.9560653935208608,
          -0.1260645549119327,
          -0.2820678692564736,
          -0.2899959469285368,
          -0.8697374037589303,
          1.4866174930332687,
          -0.358924788703825,
          -1.5454270107479176,
          -1.526480268544885,
          -0.9045299027694891,
          -0.49427429863164674,
          -0.09974524282445445,
          0.9496340986727977,
          -0.8322150144236892,
          -0.8063792658634675,
          1.312605694412341,
          0.1685132896260088,
          -1.4139505639110368,
          -0.4482508192546252,
          -0.5273928906970727,
          -0.6484514233815363,
          1.2933196429677625,
          0.15955467005039792,
          -1.4435626349802602,
          0.4894758579829374,
          1.0182449643440812,
          0.20611253270759147,
          -2.0742934113938274,
          0.7261227044394204,
          -0.9894261852623139,
          0.43174655067239753,
          0.23595597214069036,
          -0.6426900200374779,
          -0.2730663543060331,
          -0.5447654206263307,
          1.47959887301995,
          -2.035056494382499,
          0.39249244408448947,
          -0.444491041437767,
          0.3489655282637713,
          0.6535654394632688,
          -1.1795812678279245,
          -0.5415330568975902,
          -0.21101973071373986,
          -0.12649315801693273,
          0.5722210235128772,
          1.4461631141087352,
          0.6147519214766572,
          0.526200192436856,
          1.3598304924670988,
          0.253727520804128,
          0.9508513571872201,
          -0.33096300255923383,
          0.6422459455412688,
          -1.182840275342704,
          0.7776106033058436,
          0.7251921984089881,
          -0.8992954636081043,
          -0.2659385388815195,
          1.8702168449694738,
          -0.7927214636265612,
          1.3740151971820014,
          0.7803432925385417,
          0.4547995097119779,
          -1.9189864701064838,
          0.742221013929439,
          -1.911585229275281
         ],
         "yaxis": "y8"
        },
        {
         "line": {
          "color": "rgba(128, 128, 128, 1.0)",
          "dash": "solid",
          "shape": "linear",
          "width": 1.3
         },
         "marker": {
          "size": 2,
          "symbol": "circle"
         },
         "mode": "markers",
         "name": "C",
         "text": "",
         "type": "scatter",
         "x": [
          -1.3813706255062617,
          0.8065087300796255,
          0.3418651186982201,
          -0.3323817128521051,
          2.1231407918626863,
          -1.1202630656804664,
          -0.0838679423613188,
          -0.2323656787814356,
          -0.4448817191163479,
          -0.06875353456729144,
          -0.049574301014722454,
          2.210801449350267,
          -1.1063203713174574,
          -0.6063103665598676,
          -0.7011439170998087,
          -0.45395970306502087,
          2.766671816092905,
          0.5699573520404393,
          0.8808174816908407,
          1.3800745892046544,
          -0.1603764834931205,
          -1.0622118661110387,
          -1.562271295381666,
          -0.57761248853128,
          -0.8179651173239639,
          1.3851094626150695,
          1.419717830017316,
          1.490032752768479,
          0.4839879897208073,
          2.846600051376337,
          -0.19327060595834927,
          0.10695835574762955,
          -1.2772804565698301,
          0.1457265969364036,
          0.4980186780688667,
          0.37059896130240544,
          -1.7873621950489733,
          -0.8815719530555712,
          -1.0904553304750297,
          0.31263785194698335,
          -1.7657329345102317,
          -1.6644896212258584,
          -0.9985986717447229,
          -5.7910567175379e-05,
          -1.331707814385081,
          0.1134252366886889,
          0.759414790394926,
          -0.0599661947972707,
          0.6906859639390763,
          0.354321372436767,
          -1.1380592776587406,
          -0.9992273007320776,
          0.08349219406595834,
          1.4708225882710029,
          2.2572721833274625,
          0.7709653112317927,
          -0.23877889678292707,
          1.3451420206002938,
          -0.16746439868244084,
          0.5699618681293717,
          -0.3708267121936692,
          -1.8703385788607723,
          0.9215350628981622,
          -2.3333905191830175,
          0.43391561874284323,
          -0.7463278263388601,
          0.4737891000334945,
          1.0920180090401317,
          1.0325775036488705,
          -0.6106630768648215,
          -0.7382156222692969,
          -0.9584583679324162,
          -2.7421379622719124,
          -1.7506037789263569,
          0.31966563419627686,
          -0.7892062316286367,
          0.448996320741698,
          0.21294295276889807,
          0.9160624812720353,
          -0.28604664133610624,
          0.30985990443739675,
          -0.46754536872788194,
          -0.11610969135353229,
          0.48391664650310773,
          -0.520395981311585,
          1.1541095181196932,
          -0.45352152882079416,
          -0.05789549270731017,
          -1.2919838016797072,
          -0.3090001479193332,
          0.569241312546446,
          -0.934322907187918,
          0.3443265950499941,
          0.1456857429217968,
          -0.16409306709076685,
          0.5505366687670102,
          -1.2457267972453103,
          2.1972545707069133,
          -1.083598726767268,
          -2.39275691984455
         ],
         "xaxis": "x9",
         "y": [
          -0.2987894811036943,
          0.2225901646326759,
          0.4471936317963176,
          1.2814747332123524,
          -0.9552418673241627,
          2.060801706420197,
          -0.8797151015943191,
          -0.192546107039639,
          -0.46354470304234485,
          0.3305274097754041,
          0.5916004496576012,
          -1.375880586782106,
          -0.9207913336047217,
          0.14465223796691287,
          -0.2061086066280525,
          1.2674441883745204,
          0.20614590633728108,
          0.9052633794840721,
          0.9239174387714885,
          -0.7714672768665449,
          -0.1434020969717301,
          0.5585111397671629,
          1.0195780223148523,
          -0.07894797858200932,
          -1.8733880676435746,
          -0.41003749605034523,
          -0.3026443579727646,
          1.2821863127444708,
          -0.5565980490656567,
          -0.145248179737183,
          -1.8170013757109285,
          -1.1665076712559546,
          0.21431642850883828,
          -0.082021984380936,
          1.724281178128171,
          0.24318452448370406,
          2.0063449440240135,
          3.181650342247564,
          -0.17756112300209012,
          0.48670781257785706,
          -0.2216332574732512,
          0.9764349569522697,
          -1.2279952664572942,
          -0.7322244940565237,
          0.7038773844468086,
          -0.9825239295840146,
          0.6564170609631838,
          0.47320941675032435,
          -0.37464334670458405,
          -0.4532774880173421,
          -1.706366667605841,
          -0.4222680391946654,
          -0.29592653322574575,
          -0.20714821645298415,
          -0.8204968071147439,
          -1.9996417589002398,
          2.166104317282843,
          -0.022306212806870503,
          0.4551462595429836,
          -0.2979940515821381,
          -1.4818824407457283,
          -0.4780354334268793,
          0.41716212088670035,
          1.3046645507432006,
          -1.0411800096722719,
          -1.5130830164682152,
          -1.7434667903682146,
          -0.532914484831036,
          0.7692315168817534,
          0.7019656636207262,
          2.0538410221083065,
          1.8461172032230562,
          -0.45845633020735316,
          1.2562126486282355,
          -0.7463729527436335,
          0.07580553003946819,
          -0.8516574150018253,
          -0.370335400938513,
          0.2152695059196037,
          -1.8848171565320522,
          -0.10570196660186361,
          -0.2505068644384753,
          -0.5105942242224086,
          0.6139344751993816,
          -0.4737087543127613,
          -0.510188215541777,
          -1.3732479220251184,
          0.2767888416064128,
          -0.757193036837109,
          -0.8614603832931432,
          -0.557865585916297,
          0.9146575558097446,
          -1.5926850872805938,
          -0.8666455086184387,
          -0.536189391669879,
          -0.1342509107682199,
          0.7126084653006022,
          0.33245708912809635,
          -0.45858295913384756,
          -1.9653719811077877
         ],
         "yaxis": "y9"
        },
        {
         "line": {
          "color": "rgba(128, 128, 128, 1.0)",
          "dash": "solid",
          "shape": "linear",
          "width": 1.3
         },
         "marker": {
          "size": 2,
          "symbol": "circle"
         },
         "mode": "markers",
         "name": "C",
         "text": "",
         "type": "scatter",
         "x": [
          0.39408508751691174,
          0.5597812290844585,
          1.1872882937316844,
          0.5261069177621385,
          0.8324150081424387,
          2.0229924948473155,
          0.8016952099182463,
          -0.27250856543923707,
          0.5991969917690078,
          0.012408271151590967,
          1.498575989045239,
          -1.5252754697159996,
          0.14066922828746695,
          0.2001614896562864,
          0.7393141086675633,
          0.5218190410445782,
          -0.14099631099514778,
          0.746320335451686,
          0.2882068249559392,
          -0.6261179226215818,
          -1.3453418809785471,
          0.4485083513661857,
          -0.30337254173453476,
          -0.2573198650134465,
          1.8340919440261283,
          -1.723238043505735,
          2.2560989316205946,
          0.08307241884321633,
          -0.17902782356976163,
          0.3746919695015312,
          0.6907935307424771,
          -1.9052738453037013,
          -0.6944962604391867,
          -0.9560653935208608,
          -0.1260645549119327,
          -0.2820678692564736,
          -0.2899959469285368,
          -0.8697374037589303,
          1.4866174930332687,
          -0.358924788703825,
          -1.5454270107479176,
          -1.526480268544885,
          -0.9045299027694891,
          -0.49427429863164674,
          -0.09974524282445445,
          0.9496340986727977,
          -0.8322150144236892,
          -0.8063792658634675,
          1.312605694412341,
          0.1685132896260088,
          -1.4139505639110368,
          -0.4482508192546252,
          -0.5273928906970727,
          -0.6484514233815363,
          1.2933196429677625,
          0.15955467005039792,
          -1.4435626349802602,
          0.4894758579829374,
          1.0182449643440812,
          0.20611253270759147,
          -2.0742934113938274,
          0.7261227044394204,
          -0.9894261852623139,
          0.43174655067239753,
          0.23595597214069036,
          -0.6426900200374779,
          -0.2730663543060331,
          -0.5447654206263307,
          1.47959887301995,
          -2.035056494382499,
          0.39249244408448947,
          -0.444491041437767,
          0.3489655282637713,
          0.6535654394632688,
          -1.1795812678279245,
          -0.5415330568975902,
          -0.21101973071373986,
          -0.12649315801693273,
          0.5722210235128772,
          1.4461631141087352,
          0.6147519214766572,
          0.526200192436856,
          1.3598304924670988,
          0.253727520804128,
          0.9508513571872201,
          -0.33096300255923383,
          0.6422459455412688,
          -1.182840275342704,
          0.7776106033058436,
          0.7251921984089881,
          -0.8992954636081043,
          -0.2659385388815195,
          1.8702168449694738,
          -0.7927214636265612,
          1.3740151971820014,
          0.7803432925385417,
          0.4547995097119779,
          -1.9189864701064838,
          0.742221013929439,
          -1.911585229275281
         ],
         "xaxis": "x10",
         "y": [
          -0.2987894811036943,
          0.2225901646326759,
          0.4471936317963176,
          1.2814747332123524,
          -0.9552418673241627,
          2.060801706420197,
          -0.8797151015943191,
          -0.192546107039639,
          -0.46354470304234485,
          0.3305274097754041,
          0.5916004496576012,
          -1.375880586782106,
          -0.9207913336047217,
          0.14465223796691287,
          -0.2061086066280525,
          1.2674441883745204,
          0.20614590633728108,
          0.9052633794840721,
          0.9239174387714885,
          -0.7714672768665449,
          -0.1434020969717301,
          0.5585111397671629,
          1.0195780223148523,
          -0.07894797858200932,
          -1.8733880676435746,
          -0.41003749605034523,
          -0.3026443579727646,
          1.2821863127444708,
          -0.5565980490656567,
          -0.145248179737183,
          -1.8170013757109285,
          -1.1665076712559546,
          0.21431642850883828,
          -0.082021984380936,
          1.724281178128171,
          0.24318452448370406,
          2.0063449440240135,
          3.181650342247564,
          -0.17756112300209012,
          0.48670781257785706,
          -0.2216332574732512,
          0.9764349569522697,
          -1.2279952664572942,
          -0.7322244940565237,
          0.7038773844468086,
          -0.9825239295840146,
          0.6564170609631838,
          0.47320941675032435,
          -0.37464334670458405,
          -0.4532774880173421,
          -1.706366667605841,
          -0.4222680391946654,
          -0.29592653322574575,
          -0.20714821645298415,
          -0.8204968071147439,
          -1.9996417589002398,
          2.166104317282843,
          -0.022306212806870503,
          0.4551462595429836,
          -0.2979940515821381,
          -1.4818824407457283,
          -0.4780354334268793,
          0.41716212088670035,
          1.3046645507432006,
          -1.0411800096722719,
          -1.5130830164682152,
          -1.7434667903682146,
          -0.532914484831036,
          0.7692315168817534,
          0.7019656636207262,
          2.0538410221083065,
          1.8461172032230562,
          -0.45845633020735316,
          1.2562126486282355,
          -0.7463729527436335,
          0.07580553003946819,
          -0.8516574150018253,
          -0.370335400938513,
          0.2152695059196037,
          -1.8848171565320522,
          -0.10570196660186361,
          -0.2505068644384753,
          -0.5105942242224086,
          0.6139344751993816,
          -0.4737087543127613,
          -0.510188215541777,
          -1.3732479220251184,
          0.2767888416064128,
          -0.757193036837109,
          -0.8614603832931432,
          -0.557865585916297,
          0.9146575558097446,
          -1.5926850872805938,
          -0.8666455086184387,
          -0.536189391669879,
          -0.1342509107682199,
          0.7126084653006022,
          0.33245708912809635,
          -0.45858295913384756,
          -1.9653719811077877
         ],
         "yaxis": "y10"
        },
        {
         "histfunc": "count",
         "histnorm": "",
         "marker": {
          "color": "rgba(50, 171, 96, 1.0)",
          "line": {
           "color": "#4D5663",
           "width": 1.3
          }
         },
         "name": "C",
         "nbinsx": 10,
         "opacity": 0.8,
         "orientation": "v",
         "type": "histogram",
         "x": [
          -0.2987894811036943,
          0.2225901646326759,
          0.4471936317963176,
          1.2814747332123524,
          -0.9552418673241627,
          2.060801706420197,
          -0.8797151015943191,
          -0.192546107039639,
          -0.46354470304234485,
          0.3305274097754041,
          0.5916004496576012,
          -1.375880586782106,
          -0.9207913336047217,
          0.14465223796691287,
          -0.2061086066280525,
          1.2674441883745204,
          0.20614590633728108,
          0.9052633794840721,
          0.9239174387714885,
          -0.7714672768665449,
          -0.1434020969717301,
          0.5585111397671629,
          1.0195780223148523,
          -0.07894797858200932,
          -1.8733880676435746,
          -0.41003749605034523,
          -0.3026443579727646,
          1.2821863127444708,
          -0.5565980490656567,
          -0.145248179737183,
          -1.8170013757109285,
          -1.1665076712559546,
          0.21431642850883828,
          -0.082021984380936,
          1.724281178128171,
          0.24318452448370406,
          2.0063449440240135,
          3.181650342247564,
          -0.17756112300209012,
          0.48670781257785706,
          -0.2216332574732512,
          0.9764349569522697,
          -1.2279952664572942,
          -0.7322244940565237,
          0.7038773844468086,
          -0.9825239295840146,
          0.6564170609631838,
          0.47320941675032435,
          -0.37464334670458405,
          -0.4532774880173421,
          -1.706366667605841,
          -0.4222680391946654,
          -0.29592653322574575,
          -0.20714821645298415,
          -0.8204968071147439,
          -1.9996417589002398,
          2.166104317282843,
          -0.022306212806870503,
          0.4551462595429836,
          -0.2979940515821381,
          -1.4818824407457283,
          -0.4780354334268793,
          0.41716212088670035,
          1.3046645507432006,
          -1.0411800096722719,
          -1.5130830164682152,
          -1.7434667903682146,
          -0.532914484831036,
          0.7692315168817534,
          0.7019656636207262,
          2.0538410221083065,
          1.8461172032230562,
          -0.45845633020735316,
          1.2562126486282355,
          -0.7463729527436335,
          0.07580553003946819,
          -0.8516574150018253,
          -0.370335400938513,
          0.2152695059196037,
          -1.8848171565320522,
          -0.10570196660186361,
          -0.2505068644384753,
          -0.5105942242224086,
          0.6139344751993816,
          -0.4737087543127613,
          -0.510188215541777,
          -1.3732479220251184,
          0.2767888416064128,
          -0.757193036837109,
          -0.8614603832931432,
          -0.557865585916297,
          0.9146575558097446,
          -1.5926850872805938,
          -0.8666455086184387,
          -0.536189391669879,
          -0.1342509107682199,
          0.7126084653006022,
          0.33245708912809635,
          -0.45858295913384756,
          -1.9653719811077877
         ],
         "xaxis": "x11",
         "yaxis": "y11"
        },
        {
         "line": {
          "color": "rgba(128, 128, 128, 1.0)",
          "dash": "solid",
          "shape": "linear",
          "width": 1.3
         },
         "marker": {
          "size": 2,
          "symbol": "circle"
         },
         "mode": "markers",
         "name": "C",
         "text": "",
         "type": "scatter",
         "x": [
          1.2194998401815422,
          1.4913690042868526,
          0.5866339684329975,
          -0.8981621815400568,
          0.10167850804286419,
          -0.028381903162272983,
          -0.797979607898795,
          -0.22865948209205025,
          0.9532435168779463,
          0.93315048531111,
          1.4923707943986648,
          -0.5725789117978047,
          -0.2992674939912139,
          0.235709350300886,
          0.8351999504395523,
          0.5499302620579634,
          0.39304119881731764,
          0.7754212333815512,
          -0.09787901601362829,
          -0.23018426089024807,
          -0.46580940392060394,
          -0.6415912919024988,
          1.6379790384483537,
          1.554032022298955,
          0.45549533009842275,
          1.0031262484513215,
          1.3744089459600939,
          -1.3291581693843357,
          1.08096648864211,
          0.9019015033679907,
          -0.3592830930551365,
          -1.1249523410327373,
          -1.5875157299559755,
          -2.1062198846429347,
          0.025986401000826907,
          1.107055110853875,
          -0.40251434139730535,
          0.7445831803562862,
          0.129146395087142,
          -0.6820336215180516,
          1.153890938085677,
          -0.018211398924067236,
          -0.10426390036368663,
          1.1370735505214558,
          -1.688281763490834,
          0.1784278202773879,
          -0.04980231182279294,
          0.08938089451133488,
          -0.9210276455703743,
          0.3738223326718488,
          -0.1225170591280318,
          -2.157678449864731,
          -1.466295277308384,
          -1.2590354402311885,
          -1.714943627485368,
          0.09930544733285096,
          0.44262751580901993,
          0.11698678890919124,
          1.23977238365395,
          0.39026593502045837,
          -0.8269971459787546,
          -2.002139406375383,
          1.4340395753856423,
          -1.4074271264849452,
          -0.8535461491029694,
          -0.24604970837605986,
          -0.5921374277366798,
          0.03455704122587057,
          1.2854317626397362,
          -0.8475504293300136,
          0.7367096866032476,
          0.771477834869765,
          1.2046137179958973,
          -0.06032608825021621,
          1.3807155679355227,
          -0.5888565686343111,
          -0.3999907165483855,
          -1.8003727732432382,
          0.41430467294995027,
          0.30757970826674325,
          -0.24598597165186836,
          -1.2979224753787815,
          -1.0890247707256264,
          -1.481762559002663,
          0.4368807885545567,
          -0.24700045581395563,
          -2.2639443216507162,
          -0.6277351372321153,
          0.3524778826059403,
          0.042900047732522026,
          0.7032593947332072,
          1.0024635365061323,
          1.041521153522514,
          0.04485887562230921,
          -1.1001807578663265,
          0.26350896070320257,
          -0.6103259308751904,
          -2.2411846779712126,
          0.45973392781672434,
          -1.3772481632190896
         ],
         "xaxis": "x12",
         "y": [
          -0.2987894811036943,
          0.2225901646326759,
          0.4471936317963176,
          1.2814747332123524,
          -0.9552418673241627,
          2.060801706420197,
          -0.8797151015943191,
          -0.192546107039639,
          -0.46354470304234485,
          0.3305274097754041,
          0.5916004496576012,
          -1.375880586782106,
          -0.9207913336047217,
          0.14465223796691287,
          -0.2061086066280525,
          1.2674441883745204,
          0.20614590633728108,
          0.9052633794840721,
          0.9239174387714885,
          -0.7714672768665449,
          -0.1434020969717301,
          0.5585111397671629,
          1.0195780223148523,
          -0.07894797858200932,
          -1.8733880676435746,
          -0.41003749605034523,
          -0.3026443579727646,
          1.2821863127444708,
          -0.5565980490656567,
          -0.145248179737183,
          -1.8170013757109285,
          -1.1665076712559546,
          0.21431642850883828,
          -0.082021984380936,
          1.724281178128171,
          0.24318452448370406,
          2.0063449440240135,
          3.181650342247564,
          -0.17756112300209012,
          0.48670781257785706,
          -0.2216332574732512,
          0.9764349569522697,
          -1.2279952664572942,
          -0.7322244940565237,
          0.7038773844468086,
          -0.9825239295840146,
          0.6564170609631838,
          0.47320941675032435,
          -0.37464334670458405,
          -0.4532774880173421,
          -1.706366667605841,
          -0.4222680391946654,
          -0.29592653322574575,
          -0.20714821645298415,
          -0.8204968071147439,
          -1.9996417589002398,
          2.166104317282843,
          -0.022306212806870503,
          0.4551462595429836,
          -0.2979940515821381,
          -1.4818824407457283,
          -0.4780354334268793,
          0.41716212088670035,
          1.3046645507432006,
          -1.0411800096722719,
          -1.5130830164682152,
          -1.7434667903682146,
          -0.532914484831036,
          0.7692315168817534,
          0.7019656636207262,
          2.0538410221083065,
          1.8461172032230562,
          -0.45845633020735316,
          1.2562126486282355,
          -0.7463729527436335,
          0.07580553003946819,
          -0.8516574150018253,
          -0.370335400938513,
          0.2152695059196037,
          -1.8848171565320522,
          -0.10570196660186361,
          -0.2505068644384753,
          -0.5105942242224086,
          0.6139344751993816,
          -0.4737087543127613,
          -0.510188215541777,
          -1.3732479220251184,
          0.2767888416064128,
          -0.757193036837109,
          -0.8614603832931432,
          -0.557865585916297,
          0.9146575558097446,
          -1.5926850872805938,
          -0.8666455086184387,
          -0.536189391669879,
          -0.1342509107682199,
          0.7126084653006022,
          0.33245708912809635,
          -0.45858295913384756,
          -1.9653719811077877
         ],
         "yaxis": "y12"
        },
        {
         "line": {
          "color": "rgba(128, 128, 128, 1.0)",
          "dash": "solid",
          "shape": "linear",
          "width": 1.3
         },
         "marker": {
          "size": 2,
          "symbol": "circle"
         },
         "mode": "markers",
         "name": "D",
         "text": "",
         "type": "scatter",
         "x": [
          -1.3813706255062617,
          0.8065087300796255,
          0.3418651186982201,
          -0.3323817128521051,
          2.1231407918626863,
          -1.1202630656804664,
          -0.0838679423613188,
          -0.2323656787814356,
          -0.4448817191163479,
          -0.06875353456729144,
          -0.049574301014722454,
          2.210801449350267,
          -1.1063203713174574,
          -0.6063103665598676,
          -0.7011439170998087,
          -0.45395970306502087,
          2.766671816092905,
          0.5699573520404393,
          0.8808174816908407,
          1.3800745892046544,
          -0.1603764834931205,
          -1.0622118661110387,
          -1.562271295381666,
          -0.57761248853128,
          -0.8179651173239639,
          1.3851094626150695,
          1.419717830017316,
          1.490032752768479,
          0.4839879897208073,
          2.846600051376337,
          -0.19327060595834927,
          0.10695835574762955,
          -1.2772804565698301,
          0.1457265969364036,
          0.4980186780688667,
          0.37059896130240544,
          -1.7873621950489733,
          -0.8815719530555712,
          -1.0904553304750297,
          0.31263785194698335,
          -1.7657329345102317,
          -1.6644896212258584,
          -0.9985986717447229,
          -5.7910567175379e-05,
          -1.331707814385081,
          0.1134252366886889,
          0.759414790394926,
          -0.0599661947972707,
          0.6906859639390763,
          0.354321372436767,
          -1.1380592776587406,
          -0.9992273007320776,
          0.08349219406595834,
          1.4708225882710029,
          2.2572721833274625,
          0.7709653112317927,
          -0.23877889678292707,
          1.3451420206002938,
          -0.16746439868244084,
          0.5699618681293717,
          -0.3708267121936692,
          -1.8703385788607723,
          0.9215350628981622,
          -2.3333905191830175,
          0.43391561874284323,
          -0.7463278263388601,
          0.4737891000334945,
          1.0920180090401317,
          1.0325775036488705,
          -0.6106630768648215,
          -0.7382156222692969,
          -0.9584583679324162,
          -2.7421379622719124,
          -1.7506037789263569,
          0.31966563419627686,
          -0.7892062316286367,
          0.448996320741698,
          0.21294295276889807,
          0.9160624812720353,
          -0.28604664133610624,
          0.30985990443739675,
          -0.46754536872788194,
          -0.11610969135353229,
          0.48391664650310773,
          -0.520395981311585,
          1.1541095181196932,
          -0.45352152882079416,
          -0.05789549270731017,
          -1.2919838016797072,
          -0.3090001479193332,
          0.569241312546446,
          -0.934322907187918,
          0.3443265950499941,
          0.1456857429217968,
          -0.16409306709076685,
          0.5505366687670102,
          -1.2457267972453103,
          2.1972545707069133,
          -1.083598726767268,
          -2.39275691984455
         ],
         "xaxis": "x13",
         "y": [
          1.2194998401815422,
          1.4913690042868526,
          0.5866339684329975,
          -0.8981621815400568,
          0.10167850804286419,
          -0.028381903162272983,
          -0.797979607898795,
          -0.22865948209205025,
          0.9532435168779463,
          0.93315048531111,
          1.4923707943986648,
          -0.5725789117978047,
          -0.2992674939912139,
          0.235709350300886,
          0.8351999504395523,
          0.5499302620579634,
          0.39304119881731764,
          0.7754212333815512,
          -0.09787901601362829,
          -0.23018426089024807,
          -0.46580940392060394,
          -0.6415912919024988,
          1.6379790384483537,
          1.554032022298955,
          0.45549533009842275,
          1.0031262484513215,
          1.3744089459600939,
          -1.3291581693843357,
          1.08096648864211,
          0.9019015033679907,
          -0.3592830930551365,
          -1.1249523410327373,
          -1.5875157299559755,
          -2.1062198846429347,
          0.025986401000826907,
          1.107055110853875,
          -0.40251434139730535,
          0.7445831803562862,
          0.129146395087142,
          -0.6820336215180516,
          1.153890938085677,
          -0.018211398924067236,
          -0.10426390036368663,
          1.1370735505214558,
          -1.688281763490834,
          0.1784278202773879,
          -0.04980231182279294,
          0.08938089451133488,
          -0.9210276455703743,
          0.3738223326718488,
          -0.1225170591280318,
          -2.157678449864731,
          -1.466295277308384,
          -1.2590354402311885,
          -1.714943627485368,
          0.09930544733285096,
          0.44262751580901993,
          0.11698678890919124,
          1.23977238365395,
          0.39026593502045837,
          -0.8269971459787546,
          -2.002139406375383,
          1.4340395753856423,
          -1.4074271264849452,
          -0.8535461491029694,
          -0.24604970837605986,
          -0.5921374277366798,
          0.03455704122587057,
          1.2854317626397362,
          -0.8475504293300136,
          0.7367096866032476,
          0.771477834869765,
          1.2046137179958973,
          -0.06032608825021621,
          1.3807155679355227,
          -0.5888565686343111,
          -0.3999907165483855,
          -1.8003727732432382,
          0.41430467294995027,
          0.30757970826674325,
          -0.24598597165186836,
          -1.2979224753787815,
          -1.0890247707256264,
          -1.481762559002663,
          0.4368807885545567,
          -0.24700045581395563,
          -2.2639443216507162,
          -0.6277351372321153,
          0.3524778826059403,
          0.042900047732522026,
          0.7032593947332072,
          1.0024635365061323,
          1.041521153522514,
          0.04485887562230921,
          -1.1001807578663265,
          0.26350896070320257,
          -0.6103259308751904,
          -2.2411846779712126,
          0.45973392781672434,
          -1.3772481632190896
         ],
         "yaxis": "y13"
        },
        {
         "line": {
          "color": "rgba(128, 128, 128, 1.0)",
          "dash": "solid",
          "shape": "linear",
          "width": 1.3
         },
         "marker": {
          "size": 2,
          "symbol": "circle"
         },
         "mode": "markers",
         "name": "D",
         "text": "",
         "type": "scatter",
         "x": [
          0.39408508751691174,
          0.5597812290844585,
          1.1872882937316844,
          0.5261069177621385,
          0.8324150081424387,
          2.0229924948473155,
          0.8016952099182463,
          -0.27250856543923707,
          0.5991969917690078,
          0.012408271151590967,
          1.498575989045239,
          -1.5252754697159996,
          0.14066922828746695,
          0.2001614896562864,
          0.7393141086675633,
          0.5218190410445782,
          -0.14099631099514778,
          0.746320335451686,
          0.2882068249559392,
          -0.6261179226215818,
          -1.3453418809785471,
          0.4485083513661857,
          -0.30337254173453476,
          -0.2573198650134465,
          1.8340919440261283,
          -1.723238043505735,
          2.2560989316205946,
          0.08307241884321633,
          -0.17902782356976163,
          0.3746919695015312,
          0.6907935307424771,
          -1.9052738453037013,
          -0.6944962604391867,
          -0.9560653935208608,
          -0.1260645549119327,
          -0.2820678692564736,
          -0.2899959469285368,
          -0.8697374037589303,
          1.4866174930332687,
          -0.358924788703825,
          -1.5454270107479176,
          -1.526480268544885,
          -0.9045299027694891,
          -0.49427429863164674,
          -0.09974524282445445,
          0.9496340986727977,
          -0.8322150144236892,
          -0.8063792658634675,
          1.312605694412341,
          0.1685132896260088,
          -1.4139505639110368,
          -0.4482508192546252,
          -0.5273928906970727,
          -0.6484514233815363,
          1.2933196429677625,
          0.15955467005039792,
          -1.4435626349802602,
          0.4894758579829374,
          1.0182449643440812,
          0.20611253270759147,
          -2.0742934113938274,
          0.7261227044394204,
          -0.9894261852623139,
          0.43174655067239753,
          0.23595597214069036,
          -0.6426900200374779,
          -0.2730663543060331,
          -0.5447654206263307,
          1.47959887301995,
          -2.035056494382499,
          0.39249244408448947,
          -0.444491041437767,
          0.3489655282637713,
          0.6535654394632688,
          -1.1795812678279245,
          -0.5415330568975902,
          -0.21101973071373986,
          -0.12649315801693273,
          0.5722210235128772,
          1.4461631141087352,
          0.6147519214766572,
          0.526200192436856,
          1.3598304924670988,
          0.253727520804128,
          0.9508513571872201,
          -0.33096300255923383,
          0.6422459455412688,
          -1.182840275342704,
          0.7776106033058436,
          0.7251921984089881,
          -0.8992954636081043,
          -0.2659385388815195,
          1.8702168449694738,
          -0.7927214636265612,
          1.3740151971820014,
          0.7803432925385417,
          0.4547995097119779,
          -1.9189864701064838,
          0.742221013929439,
          -1.911585229275281
         ],
         "xaxis": "x14",
         "y": [
          1.2194998401815422,
          1.4913690042868526,
          0.5866339684329975,
          -0.8981621815400568,
          0.10167850804286419,
          -0.028381903162272983,
          -0.797979607898795,
          -0.22865948209205025,
          0.9532435168779463,
          0.93315048531111,
          1.4923707943986648,
          -0.5725789117978047,
          -0.2992674939912139,
          0.235709350300886,
          0.8351999504395523,
          0.5499302620579634,
          0.39304119881731764,
          0.7754212333815512,
          -0.09787901601362829,
          -0.23018426089024807,
          -0.46580940392060394,
          -0.6415912919024988,
          1.6379790384483537,
          1.554032022298955,
          0.45549533009842275,
          1.0031262484513215,
          1.3744089459600939,
          -1.3291581693843357,
          1.08096648864211,
          0.9019015033679907,
          -0.3592830930551365,
          -1.1249523410327373,
          -1.5875157299559755,
          -2.1062198846429347,
          0.025986401000826907,
          1.107055110853875,
          -0.40251434139730535,
          0.7445831803562862,
          0.129146395087142,
          -0.6820336215180516,
          1.153890938085677,
          -0.018211398924067236,
          -0.10426390036368663,
          1.1370735505214558,
          -1.688281763490834,
          0.1784278202773879,
          -0.04980231182279294,
          0.08938089451133488,
          -0.9210276455703743,
          0.3738223326718488,
          -0.1225170591280318,
          -2.157678449864731,
          -1.466295277308384,
          -1.2590354402311885,
          -1.714943627485368,
          0.09930544733285096,
          0.44262751580901993,
          0.11698678890919124,
          1.23977238365395,
          0.39026593502045837,
          -0.8269971459787546,
          -2.002139406375383,
          1.4340395753856423,
          -1.4074271264849452,
          -0.8535461491029694,
          -0.24604970837605986,
          -0.5921374277366798,
          0.03455704122587057,
          1.2854317626397362,
          -0.8475504293300136,
          0.7367096866032476,
          0.771477834869765,
          1.2046137179958973,
          -0.06032608825021621,
          1.3807155679355227,
          -0.5888565686343111,
          -0.3999907165483855,
          -1.8003727732432382,
          0.41430467294995027,
          0.30757970826674325,
          -0.24598597165186836,
          -1.2979224753787815,
          -1.0890247707256264,
          -1.481762559002663,
          0.4368807885545567,
          -0.24700045581395563,
          -2.2639443216507162,
          -0.6277351372321153,
          0.3524778826059403,
          0.042900047732522026,
          0.7032593947332072,
          1.0024635365061323,
          1.041521153522514,
          0.04485887562230921,
          -1.1001807578663265,
          0.26350896070320257,
          -0.6103259308751904,
          -2.2411846779712126,
          0.45973392781672434,
          -1.3772481632190896
         ],
         "yaxis": "y14"
        },
        {
         "line": {
          "color": "rgba(128, 128, 128, 1.0)",
          "dash": "solid",
          "shape": "linear",
          "width": 1.3
         },
         "marker": {
          "size": 2,
          "symbol": "circle"
         },
         "mode": "markers",
         "name": "D",
         "text": "",
         "type": "scatter",
         "x": [
          -0.2987894811036943,
          0.2225901646326759,
          0.4471936317963176,
          1.2814747332123524,
          -0.9552418673241627,
          2.060801706420197,
          -0.8797151015943191,
          -0.192546107039639,
          -0.46354470304234485,
          0.3305274097754041,
          0.5916004496576012,
          -1.375880586782106,
          -0.9207913336047217,
          0.14465223796691287,
          -0.2061086066280525,
          1.2674441883745204,
          0.20614590633728108,
          0.9052633794840721,
          0.9239174387714885,
          -0.7714672768665449,
          -0.1434020969717301,
          0.5585111397671629,
          1.0195780223148523,
          -0.07894797858200932,
          -1.8733880676435746,
          -0.41003749605034523,
          -0.3026443579727646,
          1.2821863127444708,
          -0.5565980490656567,
          -0.145248179737183,
          -1.8170013757109285,
          -1.1665076712559546,
          0.21431642850883828,
          -0.082021984380936,
          1.724281178128171,
          0.24318452448370406,
          2.0063449440240135,
          3.181650342247564,
          -0.17756112300209012,
          0.48670781257785706,
          -0.2216332574732512,
          0.9764349569522697,
          -1.2279952664572942,
          -0.7322244940565237,
          0.7038773844468086,
          -0.9825239295840146,
          0.6564170609631838,
          0.47320941675032435,
          -0.37464334670458405,
          -0.4532774880173421,
          -1.706366667605841,
          -0.4222680391946654,
          -0.29592653322574575,
          -0.20714821645298415,
          -0.8204968071147439,
          -1.9996417589002398,
          2.166104317282843,
          -0.022306212806870503,
          0.4551462595429836,
          -0.2979940515821381,
          -1.4818824407457283,
          -0.4780354334268793,
          0.41716212088670035,
          1.3046645507432006,
          -1.0411800096722719,
          -1.5130830164682152,
          -1.7434667903682146,
          -0.532914484831036,
          0.7692315168817534,
          0.7019656636207262,
          2.0538410221083065,
          1.8461172032230562,
          -0.45845633020735316,
          1.2562126486282355,
          -0.7463729527436335,
          0.07580553003946819,
          -0.8516574150018253,
          -0.370335400938513,
          0.2152695059196037,
          -1.8848171565320522,
          -0.10570196660186361,
          -0.2505068644384753,
          -0.5105942242224086,
          0.6139344751993816,
          -0.4737087543127613,
          -0.510188215541777,
          -1.3732479220251184,
          0.2767888416064128,
          -0.757193036837109,
          -0.8614603832931432,
          -0.557865585916297,
          0.9146575558097446,
          -1.5926850872805938,
          -0.8666455086184387,
          -0.536189391669879,
          -0.1342509107682199,
          0.7126084653006022,
          0.33245708912809635,
          -0.45858295913384756,
          -1.9653719811077877
         ],
         "xaxis": "x15",
         "y": [
          1.2194998401815422,
          1.4913690042868526,
          0.5866339684329975,
          -0.8981621815400568,
          0.10167850804286419,
          -0.028381903162272983,
          -0.797979607898795,
          -0.22865948209205025,
          0.9532435168779463,
          0.93315048531111,
          1.4923707943986648,
          -0.5725789117978047,
          -0.2992674939912139,
          0.235709350300886,
          0.8351999504395523,
          0.5499302620579634,
          0.39304119881731764,
          0.7754212333815512,
          -0.09787901601362829,
          -0.23018426089024807,
          -0.46580940392060394,
          -0.6415912919024988,
          1.6379790384483537,
          1.554032022298955,
          0.45549533009842275,
          1.0031262484513215,
          1.3744089459600939,
          -1.3291581693843357,
          1.08096648864211,
          0.9019015033679907,
          -0.3592830930551365,
          -1.1249523410327373,
          -1.5875157299559755,
          -2.1062198846429347,
          0.025986401000826907,
          1.107055110853875,
          -0.40251434139730535,
          0.7445831803562862,
          0.129146395087142,
          -0.6820336215180516,
          1.153890938085677,
          -0.018211398924067236,
          -0.10426390036368663,
          1.1370735505214558,
          -1.688281763490834,
          0.1784278202773879,
          -0.04980231182279294,
          0.08938089451133488,
          -0.9210276455703743,
          0.3738223326718488,
          -0.1225170591280318,
          -2.157678449864731,
          -1.466295277308384,
          -1.2590354402311885,
          -1.714943627485368,
          0.09930544733285096,
          0.44262751580901993,
          0.11698678890919124,
          1.23977238365395,
          0.39026593502045837,
          -0.8269971459787546,
          -2.002139406375383,
          1.4340395753856423,
          -1.4074271264849452,
          -0.8535461491029694,
          -0.24604970837605986,
          -0.5921374277366798,
          0.03455704122587057,
          1.2854317626397362,
          -0.8475504293300136,
          0.7367096866032476,
          0.771477834869765,
          1.2046137179958973,
          -0.06032608825021621,
          1.3807155679355227,
          -0.5888565686343111,
          -0.3999907165483855,
          -1.8003727732432382,
          0.41430467294995027,
          0.30757970826674325,
          -0.24598597165186836,
          -1.2979224753787815,
          -1.0890247707256264,
          -1.481762559002663,
          0.4368807885545567,
          -0.24700045581395563,
          -2.2639443216507162,
          -0.6277351372321153,
          0.3524778826059403,
          0.042900047732522026,
          0.7032593947332072,
          1.0024635365061323,
          1.041521153522514,
          0.04485887562230921,
          -1.1001807578663265,
          0.26350896070320257,
          -0.6103259308751904,
          -2.2411846779712126,
          0.45973392781672434,
          -1.3772481632190896
         ],
         "yaxis": "y15"
        },
        {
         "histfunc": "count",
         "histnorm": "",
         "marker": {
          "color": "rgba(128, 0, 128, 1.0)",
          "line": {
           "color": "#4D5663",
           "width": 1.3
          }
         },
         "name": "D",
         "nbinsx": 10,
         "opacity": 0.8,
         "orientation": "v",
         "type": "histogram",
         "x": [
          1.2194998401815422,
          1.4913690042868526,
          0.5866339684329975,
          -0.8981621815400568,
          0.10167850804286419,
          -0.028381903162272983,
          -0.797979607898795,
          -0.22865948209205025,
          0.9532435168779463,
          0.93315048531111,
          1.4923707943986648,
          -0.5725789117978047,
          -0.2992674939912139,
          0.235709350300886,
          0.8351999504395523,
          0.5499302620579634,
          0.39304119881731764,
          0.7754212333815512,
          -0.09787901601362829,
          -0.23018426089024807,
          -0.46580940392060394,
          -0.6415912919024988,
          1.6379790384483537,
          1.554032022298955,
          0.45549533009842275,
          1.0031262484513215,
          1.3744089459600939,
          -1.3291581693843357,
          1.08096648864211,
          0.9019015033679907,
          -0.3592830930551365,
          -1.1249523410327373,
          -1.5875157299559755,
          -2.1062198846429347,
          0.025986401000826907,
          1.107055110853875,
          -0.40251434139730535,
          0.7445831803562862,
          0.129146395087142,
          -0.6820336215180516,
          1.153890938085677,
          -0.018211398924067236,
          -0.10426390036368663,
          1.1370735505214558,
          -1.688281763490834,
          0.1784278202773879,
          -0.04980231182279294,
          0.08938089451133488,
          -0.9210276455703743,
          0.3738223326718488,
          -0.1225170591280318,
          -2.157678449864731,
          -1.466295277308384,
          -1.2590354402311885,
          -1.714943627485368,
          0.09930544733285096,
          0.44262751580901993,
          0.11698678890919124,
          1.23977238365395,
          0.39026593502045837,
          -0.8269971459787546,
          -2.002139406375383,
          1.4340395753856423,
          -1.4074271264849452,
          -0.8535461491029694,
          -0.24604970837605986,
          -0.5921374277366798,
          0.03455704122587057,
          1.2854317626397362,
          -0.8475504293300136,
          0.7367096866032476,
          0.771477834869765,
          1.2046137179958973,
          -0.06032608825021621,
          1.3807155679355227,
          -0.5888565686343111,
          -0.3999907165483855,
          -1.8003727732432382,
          0.41430467294995027,
          0.30757970826674325,
          -0.24598597165186836,
          -1.2979224753787815,
          -1.0890247707256264,
          -1.481762559002663,
          0.4368807885545567,
          -0.24700045581395563,
          -2.2639443216507162,
          -0.6277351372321153,
          0.3524778826059403,
          0.042900047732522026,
          0.7032593947332072,
          1.0024635365061323,
          1.041521153522514,
          0.04485887562230921,
          -1.1001807578663265,
          0.26350896070320257,
          -0.6103259308751904,
          -2.2411846779712126,
          0.45973392781672434,
          -1.3772481632190896
         ],
         "xaxis": "x16",
         "yaxis": "y16"
        }
       ],
       "layout": {
        "bargap": 0.02,
        "legend": {
         "bgcolor": "#F5F6F9",
         "font": {
          "color": "#4D5663"
         }
        },
        "paper_bgcolor": "#F5F6F9",
        "plot_bgcolor": "#F5F6F9",
        "showlegend": false,
        "template": {
         "data": {
          "bar": [
           {
            "error_x": {
             "color": "#2a3f5f"
            },
            "error_y": {
             "color": "#2a3f5f"
            },
            "marker": {
             "line": {
              "color": "#E5ECF6",
              "width": 0.5
             },
             "pattern": {
              "fillmode": "overlay",
              "size": 10,
              "solidity": 0.2
             }
            },
            "type": "bar"
           }
          ],
          "barpolar": [
           {
            "marker": {
             "line": {
              "color": "#E5ECF6",
              "width": 0.5
             },
             "pattern": {
              "fillmode": "overlay",
              "size": 10,
              "solidity": 0.2
             }
            },
            "type": "barpolar"
           }
          ],
          "carpet": [
           {
            "aaxis": {
             "endlinecolor": "#2a3f5f",
             "gridcolor": "white",
             "linecolor": "white",
             "minorgridcolor": "white",
             "startlinecolor": "#2a3f5f"
            },
            "baxis": {
             "endlinecolor": "#2a3f5f",
             "gridcolor": "white",
             "linecolor": "white",
             "minorgridcolor": "white",
             "startlinecolor": "#2a3f5f"
            },
            "type": "carpet"
           }
          ],
          "choropleth": [
           {
            "colorbar": {
             "outlinewidth": 0,
             "ticks": ""
            },
            "type": "choropleth"
           }
          ],
          "contour": [
           {
            "colorbar": {
             "outlinewidth": 0,
             "ticks": ""
            },
            "colorscale": [
             [
              0,
              "#0d0887"
             ],
             [
              0.1111111111111111,
              "#46039f"
             ],
             [
              0.2222222222222222,
              "#7201a8"
             ],
             [
              0.3333333333333333,
              "#9c179e"
             ],
             [
              0.4444444444444444,
              "#bd3786"
             ],
             [
              0.5555555555555556,
              "#d8576b"
             ],
             [
              0.6666666666666666,
              "#ed7953"
             ],
             [
              0.7777777777777778,
              "#fb9f3a"
             ],
             [
              0.8888888888888888,
              "#fdca26"
             ],
             [
              1,
              "#f0f921"
             ]
            ],
            "type": "contour"
           }
          ],
          "contourcarpet": [
           {
            "colorbar": {
             "outlinewidth": 0,
             "ticks": ""
            },
            "type": "contourcarpet"
           }
          ],
          "heatmap": [
           {
            "colorbar": {
             "outlinewidth": 0,
             "ticks": ""
            },
            "colorscale": [
             [
              0,
              "#0d0887"
             ],
             [
              0.1111111111111111,
              "#46039f"
             ],
             [
              0.2222222222222222,
              "#7201a8"
             ],
             [
              0.3333333333333333,
              "#9c179e"
             ],
             [
              0.4444444444444444,
              "#bd3786"
             ],
             [
              0.5555555555555556,
              "#d8576b"
             ],
             [
              0.6666666666666666,
              "#ed7953"
             ],
             [
              0.7777777777777778,
              "#fb9f3a"
             ],
             [
              0.8888888888888888,
              "#fdca26"
             ],
             [
              1,
              "#f0f921"
             ]
            ],
            "type": "heatmap"
           }
          ],
          "heatmapgl": [
           {
            "colorbar": {
             "outlinewidth": 0,
             "ticks": ""
            },
            "colorscale": [
             [
              0,
              "#0d0887"
             ],
             [
              0.1111111111111111,
              "#46039f"
             ],
             [
              0.2222222222222222,
              "#7201a8"
             ],
             [
              0.3333333333333333,
              "#9c179e"
             ],
             [
              0.4444444444444444,
              "#bd3786"
             ],
             [
              0.5555555555555556,
              "#d8576b"
             ],
             [
              0.6666666666666666,
              "#ed7953"
             ],
             [
              0.7777777777777778,
              "#fb9f3a"
             ],
             [
              0.8888888888888888,
              "#fdca26"
             ],
             [
              1,
              "#f0f921"
             ]
            ],
            "type": "heatmapgl"
           }
          ],
          "histogram": [
           {
            "marker": {
             "pattern": {
              "fillmode": "overlay",
              "size": 10,
              "solidity": 0.2
             }
            },
            "type": "histogram"
           }
          ],
          "histogram2d": [
           {
            "colorbar": {
             "outlinewidth": 0,
             "ticks": ""
            },
            "colorscale": [
             [
              0,
              "#0d0887"
             ],
             [
              0.1111111111111111,
              "#46039f"
             ],
             [
              0.2222222222222222,
              "#7201a8"
             ],
             [
              0.3333333333333333,
              "#9c179e"
             ],
             [
              0.4444444444444444,
              "#bd3786"
             ],
             [
              0.5555555555555556,
              "#d8576b"
             ],
             [
              0.6666666666666666,
              "#ed7953"
             ],
             [
              0.7777777777777778,
              "#fb9f3a"
             ],
             [
              0.8888888888888888,
              "#fdca26"
             ],
             [
              1,
              "#f0f921"
             ]
            ],
            "type": "histogram2d"
           }
          ],
          "histogram2dcontour": [
           {
            "colorbar": {
             "outlinewidth": 0,
             "ticks": ""
            },
            "colorscale": [
             [
              0,
              "#0d0887"
             ],
             [
              0.1111111111111111,
              "#46039f"
             ],
             [
              0.2222222222222222,
              "#7201a8"
             ],
             [
              0.3333333333333333,
              "#9c179e"
             ],
             [
              0.4444444444444444,
              "#bd3786"
             ],
             [
              0.5555555555555556,
              "#d8576b"
             ],
             [
              0.6666666666666666,
              "#ed7953"
             ],
             [
              0.7777777777777778,
              "#fb9f3a"
             ],
             [
              0.8888888888888888,
              "#fdca26"
             ],
             [
              1,
              "#f0f921"
             ]
            ],
            "type": "histogram2dcontour"
           }
          ],
          "mesh3d": [
           {
            "colorbar": {
             "outlinewidth": 0,
             "ticks": ""
            },
            "type": "mesh3d"
           }
          ],
          "parcoords": [
           {
            "line": {
             "colorbar": {
              "outlinewidth": 0,
              "ticks": ""
             }
            },
            "type": "parcoords"
           }
          ],
          "pie": [
           {
            "automargin": true,
            "type": "pie"
           }
          ],
          "scatter": [
           {
            "marker": {
             "colorbar": {
              "outlinewidth": 0,
              "ticks": ""
             }
            },
            "type": "scatter"
           }
          ],
          "scatter3d": [
           {
            "line": {
             "colorbar": {
              "outlinewidth": 0,
              "ticks": ""
             }
            },
            "marker": {
             "colorbar": {
              "outlinewidth": 0,
              "ticks": ""
             }
            },
            "type": "scatter3d"
           }
          ],
          "scattercarpet": [
           {
            "marker": {
             "colorbar": {
              "outlinewidth": 0,
              "ticks": ""
             }
            },
            "type": "scattercarpet"
           }
          ],
          "scattergeo": [
           {
            "marker": {
             "colorbar": {
              "outlinewidth": 0,
              "ticks": ""
             }
            },
            "type": "scattergeo"
           }
          ],
          "scattergl": [
           {
            "marker": {
             "colorbar": {
              "outlinewidth": 0,
              "ticks": ""
             }
            },
            "type": "scattergl"
           }
          ],
          "scattermapbox": [
           {
            "marker": {
             "colorbar": {
              "outlinewidth": 0,
              "ticks": ""
             }
            },
            "type": "scattermapbox"
           }
          ],
          "scatterpolar": [
           {
            "marker": {
             "colorbar": {
              "outlinewidth": 0,
              "ticks": ""
             }
            },
            "type": "scatterpolar"
           }
          ],
          "scatterpolargl": [
           {
            "marker": {
             "colorbar": {
              "outlinewidth": 0,
              "ticks": ""
             }
            },
            "type": "scatterpolargl"
           }
          ],
          "scatterternary": [
           {
            "marker": {
             "colorbar": {
              "outlinewidth": 0,
              "ticks": ""
             }
            },
            "type": "scatterternary"
           }
          ],
          "surface": [
           {
            "colorbar": {
             "outlinewidth": 0,
             "ticks": ""
            },
            "colorscale": [
             [
              0,
              "#0d0887"
             ],
             [
              0.1111111111111111,
              "#46039f"
             ],
             [
              0.2222222222222222,
              "#7201a8"
             ],
             [
              0.3333333333333333,
              "#9c179e"
             ],
             [
              0.4444444444444444,
              "#bd3786"
             ],
             [
              0.5555555555555556,
              "#d8576b"
             ],
             [
              0.6666666666666666,
              "#ed7953"
             ],
             [
              0.7777777777777778,
              "#fb9f3a"
             ],
             [
              0.8888888888888888,
              "#fdca26"
             ],
             [
              1,
              "#f0f921"
             ]
            ],
            "type": "surface"
           }
          ],
          "table": [
           {
            "cells": {
             "fill": {
              "color": "#EBF0F8"
             },
             "line": {
              "color": "white"
             }
            },
            "header": {
             "fill": {
              "color": "#C8D4E3"
             },
             "line": {
              "color": "white"
             }
            },
            "type": "table"
           }
          ]
         },
         "layout": {
          "annotationdefaults": {
           "arrowcolor": "#2a3f5f",
           "arrowhead": 0,
           "arrowwidth": 1
          },
          "autotypenumbers": "strict",
          "coloraxis": {
           "colorbar": {
            "outlinewidth": 0,
            "ticks": ""
           }
          },
          "colorscale": {
           "diverging": [
            [
             0,
             "#8e0152"
            ],
            [
             0.1,
             "#c51b7d"
            ],
            [
             0.2,
             "#de77ae"
            ],
            [
             0.3,
             "#f1b6da"
            ],
            [
             0.4,
             "#fde0ef"
            ],
            [
             0.5,
             "#f7f7f7"
            ],
            [
             0.6,
             "#e6f5d0"
            ],
            [
             0.7,
             "#b8e186"
            ],
            [
             0.8,
             "#7fbc41"
            ],
            [
             0.9,
             "#4d9221"
            ],
            [
             1,
             "#276419"
            ]
           ],
           "sequential": [
            [
             0,
             "#0d0887"
            ],
            [
             0.1111111111111111,
             "#46039f"
            ],
            [
             0.2222222222222222,
             "#7201a8"
            ],
            [
             0.3333333333333333,
             "#9c179e"
            ],
            [
             0.4444444444444444,
             "#bd3786"
            ],
            [
             0.5555555555555556,
             "#d8576b"
            ],
            [
             0.6666666666666666,
             "#ed7953"
            ],
            [
             0.7777777777777778,
             "#fb9f3a"
            ],
            [
             0.8888888888888888,
             "#fdca26"
            ],
            [
             1,
             "#f0f921"
            ]
           ],
           "sequentialminus": [
            [
             0,
             "#0d0887"
            ],
            [
             0.1111111111111111,
             "#46039f"
            ],
            [
             0.2222222222222222,
             "#7201a8"
            ],
            [
             0.3333333333333333,
             "#9c179e"
            ],
            [
             0.4444444444444444,
             "#bd3786"
            ],
            [
             0.5555555555555556,
             "#d8576b"
            ],
            [
             0.6666666666666666,
             "#ed7953"
            ],
            [
             0.7777777777777778,
             "#fb9f3a"
            ],
            [
             0.8888888888888888,
             "#fdca26"
            ],
            [
             1,
             "#f0f921"
            ]
           ]
          },
          "colorway": [
           "#636efa",
           "#EF553B",
           "#00cc96",
           "#ab63fa",
           "#FFA15A",
           "#19d3f3",
           "#FF6692",
           "#B6E880",
           "#FF97FF",
           "#FECB52"
          ],
          "font": {
           "color": "#2a3f5f"
          },
          "geo": {
           "bgcolor": "white",
           "lakecolor": "white",
           "landcolor": "#E5ECF6",
           "showlakes": true,
           "showland": true,
           "subunitcolor": "white"
          },
          "hoverlabel": {
           "align": "left"
          },
          "hovermode": "closest",
          "mapbox": {
           "style": "light"
          },
          "paper_bgcolor": "white",
          "plot_bgcolor": "#E5ECF6",
          "polar": {
           "angularaxis": {
            "gridcolor": "white",
            "linecolor": "white",
            "ticks": ""
           },
           "bgcolor": "#E5ECF6",
           "radialaxis": {
            "gridcolor": "white",
            "linecolor": "white",
            "ticks": ""
           }
          },
          "scene": {
           "xaxis": {
            "backgroundcolor": "#E5ECF6",
            "gridcolor": "white",
            "gridwidth": 2,
            "linecolor": "white",
            "showbackground": true,
            "ticks": "",
            "zerolinecolor": "white"
           },
           "yaxis": {
            "backgroundcolor": "#E5ECF6",
            "gridcolor": "white",
            "gridwidth": 2,
            "linecolor": "white",
            "showbackground": true,
            "ticks": "",
            "zerolinecolor": "white"
           },
           "zaxis": {
            "backgroundcolor": "#E5ECF6",
            "gridcolor": "white",
            "gridwidth": 2,
            "linecolor": "white",
            "showbackground": true,
            "ticks": "",
            "zerolinecolor": "white"
           }
          },
          "shapedefaults": {
           "line": {
            "color": "#2a3f5f"
           }
          },
          "ternary": {
           "aaxis": {
            "gridcolor": "white",
            "linecolor": "white",
            "ticks": ""
           },
           "baxis": {
            "gridcolor": "white",
            "linecolor": "white",
            "ticks": ""
           },
           "bgcolor": "#E5ECF6",
           "caxis": {
            "gridcolor": "white",
            "linecolor": "white",
            "ticks": ""
           }
          },
          "title": {
           "x": 0.05
          },
          "xaxis": {
           "automargin": true,
           "gridcolor": "white",
           "linecolor": "white",
           "ticks": "",
           "title": {
            "standoff": 15
           },
           "zerolinecolor": "white",
           "zerolinewidth": 2
          },
          "yaxis": {
           "automargin": true,
           "gridcolor": "white",
           "linecolor": "white",
           "ticks": "",
           "title": {
            "standoff": 15
           },
           "zerolinecolor": "white",
           "zerolinewidth": 2
          }
         }
        },
        "title": {
         "font": {
          "color": "#4D5663"
         }
        },
        "xaxis": {
         "anchor": "y",
         "domain": [
          0,
          0.2125
         ],
         "gridcolor": "#E1E5ED",
         "showgrid": false,
         "tickfont": {
          "color": "#4D5663"
         },
         "title": {
          "font": {
           "color": "#4D5663"
          },
          "text": ""
         },
         "zerolinecolor": "#E1E5ED"
        },
        "xaxis10": {
         "anchor": "y10",
         "domain": [
          0.2625,
          0.475
         ],
         "gridcolor": "#E1E5ED",
         "showgrid": false,
         "tickfont": {
          "color": "#4D5663"
         },
         "title": {
          "font": {
           "color": "#4D5663"
          },
          "text": ""
         },
         "zerolinecolor": "#E1E5ED"
        },
        "xaxis11": {
         "anchor": "y11",
         "domain": [
          0.525,
          0.7375
         ],
         "gridcolor": "#E1E5ED",
         "showgrid": false,
         "tickfont": {
          "color": "#4D5663"
         },
         "title": {
          "font": {
           "color": "#4D5663"
          },
          "text": ""
         },
         "zerolinecolor": "#E1E5ED"
        },
        "xaxis12": {
         "anchor": "y12",
         "domain": [
          0.7875,
          1
         ],
         "gridcolor": "#E1E5ED",
         "showgrid": false,
         "tickfont": {
          "color": "#4D5663"
         },
         "title": {
          "font": {
           "color": "#4D5663"
          },
          "text": ""
         },
         "zerolinecolor": "#E1E5ED"
        },
        "xaxis13": {
         "anchor": "y13",
         "domain": [
          0,
          0.2125
         ],
         "gridcolor": "#E1E5ED",
         "showgrid": false,
         "tickfont": {
          "color": "#4D5663"
         },
         "title": {
          "font": {
           "color": "#4D5663"
          },
          "text": ""
         },
         "zerolinecolor": "#E1E5ED"
        },
        "xaxis14": {
         "anchor": "y14",
         "domain": [
          0.2625,
          0.475
         ],
         "gridcolor": "#E1E5ED",
         "showgrid": false,
         "tickfont": {
          "color": "#4D5663"
         },
         "title": {
          "font": {
           "color": "#4D5663"
          },
          "text": ""
         },
         "zerolinecolor": "#E1E5ED"
        },
        "xaxis15": {
         "anchor": "y15",
         "domain": [
          0.525,
          0.7375
         ],
         "gridcolor": "#E1E5ED",
         "showgrid": false,
         "tickfont": {
          "color": "#4D5663"
         },
         "title": {
          "font": {
           "color": "#4D5663"
          },
          "text": ""
         },
         "zerolinecolor": "#E1E5ED"
        },
        "xaxis16": {
         "anchor": "y16",
         "domain": [
          0.7875,
          1
         ],
         "gridcolor": "#E1E5ED",
         "showgrid": false,
         "tickfont": {
          "color": "#4D5663"
         },
         "title": {
          "font": {
           "color": "#4D5663"
          },
          "text": ""
         },
         "zerolinecolor": "#E1E5ED"
        },
        "xaxis2": {
         "anchor": "y2",
         "domain": [
          0.2625,
          0.475
         ],
         "gridcolor": "#E1E5ED",
         "showgrid": false,
         "tickfont": {
          "color": "#4D5663"
         },
         "title": {
          "font": {
           "color": "#4D5663"
          },
          "text": ""
         },
         "zerolinecolor": "#E1E5ED"
        },
        "xaxis3": {
         "anchor": "y3",
         "domain": [
          0.525,
          0.7375
         ],
         "gridcolor": "#E1E5ED",
         "showgrid": false,
         "tickfont": {
          "color": "#4D5663"
         },
         "title": {
          "font": {
           "color": "#4D5663"
          },
          "text": ""
         },
         "zerolinecolor": "#E1E5ED"
        },
        "xaxis4": {
         "anchor": "y4",
         "domain": [
          0.7875,
          1
         ],
         "gridcolor": "#E1E5ED",
         "showgrid": false,
         "tickfont": {
          "color": "#4D5663"
         },
         "title": {
          "font": {
           "color": "#4D5663"
          },
          "text": ""
         },
         "zerolinecolor": "#E1E5ED"
        },
        "xaxis5": {
         "anchor": "y5",
         "domain": [
          0,
          0.2125
         ],
         "gridcolor": "#E1E5ED",
         "showgrid": false,
         "tickfont": {
          "color": "#4D5663"
         },
         "title": {
          "font": {
           "color": "#4D5663"
          },
          "text": ""
         },
         "zerolinecolor": "#E1E5ED"
        },
        "xaxis6": {
         "anchor": "y6",
         "domain": [
          0.2625,
          0.475
         ],
         "gridcolor": "#E1E5ED",
         "showgrid": false,
         "tickfont": {
          "color": "#4D5663"
         },
         "title": {
          "font": {
           "color": "#4D5663"
          },
          "text": ""
         },
         "zerolinecolor": "#E1E5ED"
        },
        "xaxis7": {
         "anchor": "y7",
         "domain": [
          0.525,
          0.7375
         ],
         "gridcolor": "#E1E5ED",
         "showgrid": false,
         "tickfont": {
          "color": "#4D5663"
         },
         "title": {
          "font": {
           "color": "#4D5663"
          },
          "text": ""
         },
         "zerolinecolor": "#E1E5ED"
        },
        "xaxis8": {
         "anchor": "y8",
         "domain": [
          0.7875,
          1
         ],
         "gridcolor": "#E1E5ED",
         "showgrid": false,
         "tickfont": {
          "color": "#4D5663"
         },
         "title": {
          "font": {
           "color": "#4D5663"
          },
          "text": ""
         },
         "zerolinecolor": "#E1E5ED"
        },
        "xaxis9": {
         "anchor": "y9",
         "domain": [
          0,
          0.2125
         ],
         "gridcolor": "#E1E5ED",
         "showgrid": false,
         "tickfont": {
          "color": "#4D5663"
         },
         "title": {
          "font": {
           "color": "#4D5663"
          },
          "text": ""
         },
         "zerolinecolor": "#E1E5ED"
        },
        "yaxis": {
         "anchor": "x",
         "domain": [
          0.8025,
          1
         ],
         "gridcolor": "#E1E5ED",
         "showgrid": false,
         "tickfont": {
          "color": "#4D5663"
         },
         "title": {
          "font": {
           "color": "#4D5663"
          },
          "text": ""
         },
         "zerolinecolor": "#E1E5ED"
        },
        "yaxis10": {
         "anchor": "x10",
         "domain": [
          0.2675,
          0.465
         ],
         "gridcolor": "#E1E5ED",
         "showgrid": false,
         "tickfont": {
          "color": "#4D5663"
         },
         "title": {
          "font": {
           "color": "#4D5663"
          },
          "text": ""
         },
         "zerolinecolor": "#E1E5ED"
        },
        "yaxis11": {
         "anchor": "x11",
         "domain": [
          0.2675,
          0.465
         ],
         "gridcolor": "#E1E5ED",
         "showgrid": false,
         "tickfont": {
          "color": "#4D5663"
         },
         "title": {
          "font": {
           "color": "#4D5663"
          },
          "text": ""
         },
         "zerolinecolor": "#E1E5ED"
        },
        "yaxis12": {
         "anchor": "x12",
         "domain": [
          0.2675,
          0.465
         ],
         "gridcolor": "#E1E5ED",
         "showgrid": false,
         "tickfont": {
          "color": "#4D5663"
         },
         "title": {
          "font": {
           "color": "#4D5663"
          },
          "text": ""
         },
         "zerolinecolor": "#E1E5ED"
        },
        "yaxis13": {
         "anchor": "x13",
         "domain": [
          0,
          0.1975
         ],
         "gridcolor": "#E1E5ED",
         "showgrid": false,
         "tickfont": {
          "color": "#4D5663"
         },
         "title": {
          "font": {
           "color": "#4D5663"
          },
          "text": ""
         },
         "zerolinecolor": "#E1E5ED"
        },
        "yaxis14": {
         "anchor": "x14",
         "domain": [
          0,
          0.1975
         ],
         "gridcolor": "#E1E5ED",
         "showgrid": false,
         "tickfont": {
          "color": "#4D5663"
         },
         "title": {
          "font": {
           "color": "#4D5663"
          },
          "text": ""
         },
         "zerolinecolor": "#E1E5ED"
        },
        "yaxis15": {
         "anchor": "x15",
         "domain": [
          0,
          0.1975
         ],
         "gridcolor": "#E1E5ED",
         "showgrid": false,
         "tickfont": {
          "color": "#4D5663"
         },
         "title": {
          "font": {
           "color": "#4D5663"
          },
          "text": ""
         },
         "zerolinecolor": "#E1E5ED"
        },
        "yaxis16": {
         "anchor": "x16",
         "domain": [
          0,
          0.1975
         ],
         "gridcolor": "#E1E5ED",
         "showgrid": false,
         "tickfont": {
          "color": "#4D5663"
         },
         "title": {
          "font": {
           "color": "#4D5663"
          },
          "text": ""
         },
         "zerolinecolor": "#E1E5ED"
        },
        "yaxis2": {
         "anchor": "x2",
         "domain": [
          0.8025,
          1
         ],
         "gridcolor": "#E1E5ED",
         "showgrid": false,
         "tickfont": {
          "color": "#4D5663"
         },
         "title": {
          "font": {
           "color": "#4D5663"
          },
          "text": ""
         },
         "zerolinecolor": "#E1E5ED"
        },
        "yaxis3": {
         "anchor": "x3",
         "domain": [
          0.8025,
          1
         ],
         "gridcolor": "#E1E5ED",
         "showgrid": false,
         "tickfont": {
          "color": "#4D5663"
         },
         "title": {
          "font": {
           "color": "#4D5663"
          },
          "text": ""
         },
         "zerolinecolor": "#E1E5ED"
        },
        "yaxis4": {
         "anchor": "x4",
         "domain": [
          0.8025,
          1
         ],
         "gridcolor": "#E1E5ED",
         "showgrid": false,
         "tickfont": {
          "color": "#4D5663"
         },
         "title": {
          "font": {
           "color": "#4D5663"
          },
          "text": ""
         },
         "zerolinecolor": "#E1E5ED"
        },
        "yaxis5": {
         "anchor": "x5",
         "domain": [
          0.535,
          0.7325
         ],
         "gridcolor": "#E1E5ED",
         "showgrid": false,
         "tickfont": {
          "color": "#4D5663"
         },
         "title": {
          "font": {
           "color": "#4D5663"
          },
          "text": ""
         },
         "zerolinecolor": "#E1E5ED"
        },
        "yaxis6": {
         "anchor": "x6",
         "domain": [
          0.535,
          0.7325
         ],
         "gridcolor": "#E1E5ED",
         "showgrid": false,
         "tickfont": {
          "color": "#4D5663"
         },
         "title": {
          "font": {
           "color": "#4D5663"
          },
          "text": ""
         },
         "zerolinecolor": "#E1E5ED"
        },
        "yaxis7": {
         "anchor": "x7",
         "domain": [
          0.535,
          0.7325
         ],
         "gridcolor": "#E1E5ED",
         "showgrid": false,
         "tickfont": {
          "color": "#4D5663"
         },
         "title": {
          "font": {
           "color": "#4D5663"
          },
          "text": ""
         },
         "zerolinecolor": "#E1E5ED"
        },
        "yaxis8": {
         "anchor": "x8",
         "domain": [
          0.535,
          0.7325
         ],
         "gridcolor": "#E1E5ED",
         "showgrid": false,
         "tickfont": {
          "color": "#4D5663"
         },
         "title": {
          "font": {
           "color": "#4D5663"
          },
          "text": ""
         },
         "zerolinecolor": "#E1E5ED"
        },
        "yaxis9": {
         "anchor": "x9",
         "domain": [
          0.2675,
          0.465
         ],
         "gridcolor": "#E1E5ED",
         "showgrid": false,
         "tickfont": {
          "color": "#4D5663"
         },
         "title": {
          "font": {
           "color": "#4D5663"
          },
          "text": ""
         },
         "zerolinecolor": "#E1E5ED"
        }
       }
      },
      "text/html": [
       "<div>                            <div id=\"cae9be0b-7a94-460d-9c03-eb6e2b806dfc\" class=\"plotly-graph-div\" style=\"height:525px; width:100%;\"></div>            <script type=\"text/javascript\">                require([\"plotly\"], function(Plotly) {                    window.PLOTLYENV=window.PLOTLYENV || {};\n",
       "                    window.PLOTLYENV.BASE_URL='https://plot.ly';                                    if (document.getElementById(\"cae9be0b-7a94-460d-9c03-eb6e2b806dfc\")) {                    Plotly.newPlot(                        \"cae9be0b-7a94-460d-9c03-eb6e2b806dfc\",                        [{\"histfunc\":\"count\",\"histnorm\":\"\",\"marker\":{\"color\":\"rgba(255, 153, 51, 1.0)\",\"line\":{\"color\":\"#4D5663\",\"width\":1.3}},\"name\":\"A\",\"nbinsx\":10,\"opacity\":0.8,\"orientation\":\"v\",\"x\":[-1.3813706255062617,0.8065087300796255,0.3418651186982201,-0.3323817128521051,2.1231407918626863,-1.1202630656804664,-0.0838679423613188,-0.2323656787814356,-0.4448817191163479,-0.06875353456729144,-0.049574301014722454,2.210801449350267,-1.1063203713174574,-0.6063103665598676,-0.7011439170998087,-0.45395970306502087,2.766671816092905,0.5699573520404393,0.8808174816908407,1.3800745892046544,-0.1603764834931205,-1.0622118661110387,-1.562271295381666,-0.57761248853128,-0.8179651173239639,1.3851094626150695,1.419717830017316,1.490032752768479,0.4839879897208073,2.846600051376337,-0.19327060595834927,0.10695835574762955,-1.2772804565698301,0.1457265969364036,0.4980186780688667,0.37059896130240544,-1.7873621950489733,-0.8815719530555712,-1.0904553304750297,0.31263785194698335,-1.7657329345102317,-1.6644896212258584,-0.9985986717447229,-5.7910567175379e-05,-1.331707814385081,0.1134252366886889,0.759414790394926,-0.0599661947972707,0.6906859639390763,0.354321372436767,-1.1380592776587406,-0.9992273007320776,0.08349219406595834,1.4708225882710029,2.2572721833274625,0.7709653112317927,-0.23877889678292707,1.3451420206002938,-0.16746439868244084,0.5699618681293717,-0.3708267121936692,-1.8703385788607723,0.9215350628981622,-2.3333905191830175,0.43391561874284323,-0.7463278263388601,0.4737891000334945,1.0920180090401317,1.0325775036488705,-0.6106630768648215,-0.7382156222692969,-0.9584583679324162,-2.7421379622719124,-1.7506037789263569,0.31966563419627686,-0.7892062316286367,0.448996320741698,0.21294295276889807,0.9160624812720353,-0.28604664133610624,0.30985990443739675,-0.46754536872788194,-0.11610969135353229,0.48391664650310773,-0.520395981311585,1.1541095181196932,-0.45352152882079416,-0.05789549270731017,-1.2919838016797072,-0.3090001479193332,0.569241312546446,-0.934322907187918,0.3443265950499941,0.1456857429217968,-0.16409306709076685,0.5505366687670102,-1.2457267972453103,2.1972545707069133,-1.083598726767268,-2.39275691984455],\"xaxis\":\"x\",\"yaxis\":\"y\",\"type\":\"histogram\"},{\"line\":{\"color\":\"rgba(128, 128, 128, 1.0)\",\"dash\":\"solid\",\"shape\":\"linear\",\"width\":1.3},\"marker\":{\"size\":2,\"symbol\":\"circle\"},\"mode\":\"markers\",\"name\":\"A\",\"text\":\"\",\"x\":[0.39408508751691174,0.5597812290844585,1.1872882937316844,0.5261069177621385,0.8324150081424387,2.0229924948473155,0.8016952099182463,-0.27250856543923707,0.5991969917690078,0.012408271151590967,1.498575989045239,-1.5252754697159996,0.14066922828746695,0.2001614896562864,0.7393141086675633,0.5218190410445782,-0.14099631099514778,0.746320335451686,0.2882068249559392,-0.6261179226215818,-1.3453418809785471,0.4485083513661857,-0.30337254173453476,-0.2573198650134465,1.8340919440261283,-1.723238043505735,2.2560989316205946,0.08307241884321633,-0.17902782356976163,0.3746919695015312,0.6907935307424771,-1.9052738453037013,-0.6944962604391867,-0.9560653935208608,-0.1260645549119327,-0.2820678692564736,-0.2899959469285368,-0.8697374037589303,1.4866174930332687,-0.358924788703825,-1.5454270107479176,-1.526480268544885,-0.9045299027694891,-0.49427429863164674,-0.09974524282445445,0.9496340986727977,-0.8322150144236892,-0.8063792658634675,1.312605694412341,0.1685132896260088,-1.4139505639110368,-0.4482508192546252,-0.5273928906970727,-0.6484514233815363,1.2933196429677625,0.15955467005039792,-1.4435626349802602,0.4894758579829374,1.0182449643440812,0.20611253270759147,-2.0742934113938274,0.7261227044394204,-0.9894261852623139,0.43174655067239753,0.23595597214069036,-0.6426900200374779,-0.2730663543060331,-0.5447654206263307,1.47959887301995,-2.035056494382499,0.39249244408448947,-0.444491041437767,0.3489655282637713,0.6535654394632688,-1.1795812678279245,-0.5415330568975902,-0.21101973071373986,-0.12649315801693273,0.5722210235128772,1.4461631141087352,0.6147519214766572,0.526200192436856,1.3598304924670988,0.253727520804128,0.9508513571872201,-0.33096300255923383,0.6422459455412688,-1.182840275342704,0.7776106033058436,0.7251921984089881,-0.8992954636081043,-0.2659385388815195,1.8702168449694738,-0.7927214636265612,1.3740151971820014,0.7803432925385417,0.4547995097119779,-1.9189864701064838,0.742221013929439,-1.911585229275281],\"xaxis\":\"x2\",\"y\":[-1.3813706255062617,0.8065087300796255,0.3418651186982201,-0.3323817128521051,2.1231407918626863,-1.1202630656804664,-0.0838679423613188,-0.2323656787814356,-0.4448817191163479,-0.06875353456729144,-0.049574301014722454,2.210801449350267,-1.1063203713174574,-0.6063103665598676,-0.7011439170998087,-0.45395970306502087,2.766671816092905,0.5699573520404393,0.8808174816908407,1.3800745892046544,-0.1603764834931205,-1.0622118661110387,-1.562271295381666,-0.57761248853128,-0.8179651173239639,1.3851094626150695,1.419717830017316,1.490032752768479,0.4839879897208073,2.846600051376337,-0.19327060595834927,0.10695835574762955,-1.2772804565698301,0.1457265969364036,0.4980186780688667,0.37059896130240544,-1.7873621950489733,-0.8815719530555712,-1.0904553304750297,0.31263785194698335,-1.7657329345102317,-1.6644896212258584,-0.9985986717447229,-5.7910567175379e-05,-1.331707814385081,0.1134252366886889,0.759414790394926,-0.0599661947972707,0.6906859639390763,0.354321372436767,-1.1380592776587406,-0.9992273007320776,0.08349219406595834,1.4708225882710029,2.2572721833274625,0.7709653112317927,-0.23877889678292707,1.3451420206002938,-0.16746439868244084,0.5699618681293717,-0.3708267121936692,-1.8703385788607723,0.9215350628981622,-2.3333905191830175,0.43391561874284323,-0.7463278263388601,0.4737891000334945,1.0920180090401317,1.0325775036488705,-0.6106630768648215,-0.7382156222692969,-0.9584583679324162,-2.7421379622719124,-1.7506037789263569,0.31966563419627686,-0.7892062316286367,0.448996320741698,0.21294295276889807,0.9160624812720353,-0.28604664133610624,0.30985990443739675,-0.46754536872788194,-0.11610969135353229,0.48391664650310773,-0.520395981311585,1.1541095181196932,-0.45352152882079416,-0.05789549270731017,-1.2919838016797072,-0.3090001479193332,0.569241312546446,-0.934322907187918,0.3443265950499941,0.1456857429217968,-0.16409306709076685,0.5505366687670102,-1.2457267972453103,2.1972545707069133,-1.083598726767268,-2.39275691984455],\"yaxis\":\"y2\",\"type\":\"scatter\"},{\"line\":{\"color\":\"rgba(128, 128, 128, 1.0)\",\"dash\":\"solid\",\"shape\":\"linear\",\"width\":1.3},\"marker\":{\"size\":2,\"symbol\":\"circle\"},\"mode\":\"markers\",\"name\":\"A\",\"text\":\"\",\"x\":[-0.2987894811036943,0.2225901646326759,0.4471936317963176,1.2814747332123524,-0.9552418673241627,2.060801706420197,-0.8797151015943191,-0.192546107039639,-0.46354470304234485,0.3305274097754041,0.5916004496576012,-1.375880586782106,-0.9207913336047217,0.14465223796691287,-0.2061086066280525,1.2674441883745204,0.20614590633728108,0.9052633794840721,0.9239174387714885,-0.7714672768665449,-0.1434020969717301,0.5585111397671629,1.0195780223148523,-0.07894797858200932,-1.8733880676435746,-0.41003749605034523,-0.3026443579727646,1.2821863127444708,-0.5565980490656567,-0.145248179737183,-1.8170013757109285,-1.1665076712559546,0.21431642850883828,-0.082021984380936,1.724281178128171,0.24318452448370406,2.0063449440240135,3.181650342247564,-0.17756112300209012,0.48670781257785706,-0.2216332574732512,0.9764349569522697,-1.2279952664572942,-0.7322244940565237,0.7038773844468086,-0.9825239295840146,0.6564170609631838,0.47320941675032435,-0.37464334670458405,-0.4532774880173421,-1.706366667605841,-0.4222680391946654,-0.29592653322574575,-0.20714821645298415,-0.8204968071147439,-1.9996417589002398,2.166104317282843,-0.022306212806870503,0.4551462595429836,-0.2979940515821381,-1.4818824407457283,-0.4780354334268793,0.41716212088670035,1.3046645507432006,-1.0411800096722719,-1.5130830164682152,-1.7434667903682146,-0.532914484831036,0.7692315168817534,0.7019656636207262,2.0538410221083065,1.8461172032230562,-0.45845633020735316,1.2562126486282355,-0.7463729527436335,0.07580553003946819,-0.8516574150018253,-0.370335400938513,0.2152695059196037,-1.8848171565320522,-0.10570196660186361,-0.2505068644384753,-0.5105942242224086,0.6139344751993816,-0.4737087543127613,-0.510188215541777,-1.3732479220251184,0.2767888416064128,-0.757193036837109,-0.8614603832931432,-0.557865585916297,0.9146575558097446,-1.5926850872805938,-0.8666455086184387,-0.536189391669879,-0.1342509107682199,0.7126084653006022,0.33245708912809635,-0.45858295913384756,-1.9653719811077877],\"xaxis\":\"x3\",\"y\":[-1.3813706255062617,0.8065087300796255,0.3418651186982201,-0.3323817128521051,2.1231407918626863,-1.1202630656804664,-0.0838679423613188,-0.2323656787814356,-0.4448817191163479,-0.06875353456729144,-0.049574301014722454,2.210801449350267,-1.1063203713174574,-0.6063103665598676,-0.7011439170998087,-0.45395970306502087,2.766671816092905,0.5699573520404393,0.8808174816908407,1.3800745892046544,-0.1603764834931205,-1.0622118661110387,-1.562271295381666,-0.57761248853128,-0.8179651173239639,1.3851094626150695,1.419717830017316,1.490032752768479,0.4839879897208073,2.846600051376337,-0.19327060595834927,0.10695835574762955,-1.2772804565698301,0.1457265969364036,0.4980186780688667,0.37059896130240544,-1.7873621950489733,-0.8815719530555712,-1.0904553304750297,0.31263785194698335,-1.7657329345102317,-1.6644896212258584,-0.9985986717447229,-5.7910567175379e-05,-1.331707814385081,0.1134252366886889,0.759414790394926,-0.0599661947972707,0.6906859639390763,0.354321372436767,-1.1380592776587406,-0.9992273007320776,0.08349219406595834,1.4708225882710029,2.2572721833274625,0.7709653112317927,-0.23877889678292707,1.3451420206002938,-0.16746439868244084,0.5699618681293717,-0.3708267121936692,-1.8703385788607723,0.9215350628981622,-2.3333905191830175,0.43391561874284323,-0.7463278263388601,0.4737891000334945,1.0920180090401317,1.0325775036488705,-0.6106630768648215,-0.7382156222692969,-0.9584583679324162,-2.7421379622719124,-1.7506037789263569,0.31966563419627686,-0.7892062316286367,0.448996320741698,0.21294295276889807,0.9160624812720353,-0.28604664133610624,0.30985990443739675,-0.46754536872788194,-0.11610969135353229,0.48391664650310773,-0.520395981311585,1.1541095181196932,-0.45352152882079416,-0.05789549270731017,-1.2919838016797072,-0.3090001479193332,0.569241312546446,-0.934322907187918,0.3443265950499941,0.1456857429217968,-0.16409306709076685,0.5505366687670102,-1.2457267972453103,2.1972545707069133,-1.083598726767268,-2.39275691984455],\"yaxis\":\"y3\",\"type\":\"scatter\"},{\"line\":{\"color\":\"rgba(128, 128, 128, 1.0)\",\"dash\":\"solid\",\"shape\":\"linear\",\"width\":1.3},\"marker\":{\"size\":2,\"symbol\":\"circle\"},\"mode\":\"markers\",\"name\":\"A\",\"text\":\"\",\"x\":[1.2194998401815422,1.4913690042868526,0.5866339684329975,-0.8981621815400568,0.10167850804286419,-0.028381903162272983,-0.797979607898795,-0.22865948209205025,0.9532435168779463,0.93315048531111,1.4923707943986648,-0.5725789117978047,-0.2992674939912139,0.235709350300886,0.8351999504395523,0.5499302620579634,0.39304119881731764,0.7754212333815512,-0.09787901601362829,-0.23018426089024807,-0.46580940392060394,-0.6415912919024988,1.6379790384483537,1.554032022298955,0.45549533009842275,1.0031262484513215,1.3744089459600939,-1.3291581693843357,1.08096648864211,0.9019015033679907,-0.3592830930551365,-1.1249523410327373,-1.5875157299559755,-2.1062198846429347,0.025986401000826907,1.107055110853875,-0.40251434139730535,0.7445831803562862,0.129146395087142,-0.6820336215180516,1.153890938085677,-0.018211398924067236,-0.10426390036368663,1.1370735505214558,-1.688281763490834,0.1784278202773879,-0.04980231182279294,0.08938089451133488,-0.9210276455703743,0.3738223326718488,-0.1225170591280318,-2.157678449864731,-1.466295277308384,-1.2590354402311885,-1.714943627485368,0.09930544733285096,0.44262751580901993,0.11698678890919124,1.23977238365395,0.39026593502045837,-0.8269971459787546,-2.002139406375383,1.4340395753856423,-1.4074271264849452,-0.8535461491029694,-0.24604970837605986,-0.5921374277366798,0.03455704122587057,1.2854317626397362,-0.8475504293300136,0.7367096866032476,0.771477834869765,1.2046137179958973,-0.06032608825021621,1.3807155679355227,-0.5888565686343111,-0.3999907165483855,-1.8003727732432382,0.41430467294995027,0.30757970826674325,-0.24598597165186836,-1.2979224753787815,-1.0890247707256264,-1.481762559002663,0.4368807885545567,-0.24700045581395563,-2.2639443216507162,-0.6277351372321153,0.3524778826059403,0.042900047732522026,0.7032593947332072,1.0024635365061323,1.041521153522514,0.04485887562230921,-1.1001807578663265,0.26350896070320257,-0.6103259308751904,-2.2411846779712126,0.45973392781672434,-1.3772481632190896],\"xaxis\":\"x4\",\"y\":[-1.3813706255062617,0.8065087300796255,0.3418651186982201,-0.3323817128521051,2.1231407918626863,-1.1202630656804664,-0.0838679423613188,-0.2323656787814356,-0.4448817191163479,-0.06875353456729144,-0.049574301014722454,2.210801449350267,-1.1063203713174574,-0.6063103665598676,-0.7011439170998087,-0.45395970306502087,2.766671816092905,0.5699573520404393,0.8808174816908407,1.3800745892046544,-0.1603764834931205,-1.0622118661110387,-1.562271295381666,-0.57761248853128,-0.8179651173239639,1.3851094626150695,1.419717830017316,1.490032752768479,0.4839879897208073,2.846600051376337,-0.19327060595834927,0.10695835574762955,-1.2772804565698301,0.1457265969364036,0.4980186780688667,0.37059896130240544,-1.7873621950489733,-0.8815719530555712,-1.0904553304750297,0.31263785194698335,-1.7657329345102317,-1.6644896212258584,-0.9985986717447229,-5.7910567175379e-05,-1.331707814385081,0.1134252366886889,0.759414790394926,-0.0599661947972707,0.6906859639390763,0.354321372436767,-1.1380592776587406,-0.9992273007320776,0.08349219406595834,1.4708225882710029,2.2572721833274625,0.7709653112317927,-0.23877889678292707,1.3451420206002938,-0.16746439868244084,0.5699618681293717,-0.3708267121936692,-1.8703385788607723,0.9215350628981622,-2.3333905191830175,0.43391561874284323,-0.7463278263388601,0.4737891000334945,1.0920180090401317,1.0325775036488705,-0.6106630768648215,-0.7382156222692969,-0.9584583679324162,-2.7421379622719124,-1.7506037789263569,0.31966563419627686,-0.7892062316286367,0.448996320741698,0.21294295276889807,0.9160624812720353,-0.28604664133610624,0.30985990443739675,-0.46754536872788194,-0.11610969135353229,0.48391664650310773,-0.520395981311585,1.1541095181196932,-0.45352152882079416,-0.05789549270731017,-1.2919838016797072,-0.3090001479193332,0.569241312546446,-0.934322907187918,0.3443265950499941,0.1456857429217968,-0.16409306709076685,0.5505366687670102,-1.2457267972453103,2.1972545707069133,-1.083598726767268,-2.39275691984455],\"yaxis\":\"y4\",\"type\":\"scatter\"},{\"line\":{\"color\":\"rgba(128, 128, 128, 1.0)\",\"dash\":\"solid\",\"shape\":\"linear\",\"width\":1.3},\"marker\":{\"size\":2,\"symbol\":\"circle\"},\"mode\":\"markers\",\"name\":\"B\",\"text\":\"\",\"x\":[-1.3813706255062617,0.8065087300796255,0.3418651186982201,-0.3323817128521051,2.1231407918626863,-1.1202630656804664,-0.0838679423613188,-0.2323656787814356,-0.4448817191163479,-0.06875353456729144,-0.049574301014722454,2.210801449350267,-1.1063203713174574,-0.6063103665598676,-0.7011439170998087,-0.45395970306502087,2.766671816092905,0.5699573520404393,0.8808174816908407,1.3800745892046544,-0.1603764834931205,-1.0622118661110387,-1.562271295381666,-0.57761248853128,-0.8179651173239639,1.3851094626150695,1.419717830017316,1.490032752768479,0.4839879897208073,2.846600051376337,-0.19327060595834927,0.10695835574762955,-1.2772804565698301,0.1457265969364036,0.4980186780688667,0.37059896130240544,-1.7873621950489733,-0.8815719530555712,-1.0904553304750297,0.31263785194698335,-1.7657329345102317,-1.6644896212258584,-0.9985986717447229,-5.7910567175379e-05,-1.331707814385081,0.1134252366886889,0.759414790394926,-0.0599661947972707,0.6906859639390763,0.354321372436767,-1.1380592776587406,-0.9992273007320776,0.08349219406595834,1.4708225882710029,2.2572721833274625,0.7709653112317927,-0.23877889678292707,1.3451420206002938,-0.16746439868244084,0.5699618681293717,-0.3708267121936692,-1.8703385788607723,0.9215350628981622,-2.3333905191830175,0.43391561874284323,-0.7463278263388601,0.4737891000334945,1.0920180090401317,1.0325775036488705,-0.6106630768648215,-0.7382156222692969,-0.9584583679324162,-2.7421379622719124,-1.7506037789263569,0.31966563419627686,-0.7892062316286367,0.448996320741698,0.21294295276889807,0.9160624812720353,-0.28604664133610624,0.30985990443739675,-0.46754536872788194,-0.11610969135353229,0.48391664650310773,-0.520395981311585,1.1541095181196932,-0.45352152882079416,-0.05789549270731017,-1.2919838016797072,-0.3090001479193332,0.569241312546446,-0.934322907187918,0.3443265950499941,0.1456857429217968,-0.16409306709076685,0.5505366687670102,-1.2457267972453103,2.1972545707069133,-1.083598726767268,-2.39275691984455],\"xaxis\":\"x5\",\"y\":[0.39408508751691174,0.5597812290844585,1.1872882937316844,0.5261069177621385,0.8324150081424387,2.0229924948473155,0.8016952099182463,-0.27250856543923707,0.5991969917690078,0.012408271151590967,1.498575989045239,-1.5252754697159996,0.14066922828746695,0.2001614896562864,0.7393141086675633,0.5218190410445782,-0.14099631099514778,0.746320335451686,0.2882068249559392,-0.6261179226215818,-1.3453418809785471,0.4485083513661857,-0.30337254173453476,-0.2573198650134465,1.8340919440261283,-1.723238043505735,2.2560989316205946,0.08307241884321633,-0.17902782356976163,0.3746919695015312,0.6907935307424771,-1.9052738453037013,-0.6944962604391867,-0.9560653935208608,-0.1260645549119327,-0.2820678692564736,-0.2899959469285368,-0.8697374037589303,1.4866174930332687,-0.358924788703825,-1.5454270107479176,-1.526480268544885,-0.9045299027694891,-0.49427429863164674,-0.09974524282445445,0.9496340986727977,-0.8322150144236892,-0.8063792658634675,1.312605694412341,0.1685132896260088,-1.4139505639110368,-0.4482508192546252,-0.5273928906970727,-0.6484514233815363,1.2933196429677625,0.15955467005039792,-1.4435626349802602,0.4894758579829374,1.0182449643440812,0.20611253270759147,-2.0742934113938274,0.7261227044394204,-0.9894261852623139,0.43174655067239753,0.23595597214069036,-0.6426900200374779,-0.2730663543060331,-0.5447654206263307,1.47959887301995,-2.035056494382499,0.39249244408448947,-0.444491041437767,0.3489655282637713,0.6535654394632688,-1.1795812678279245,-0.5415330568975902,-0.21101973071373986,-0.12649315801693273,0.5722210235128772,1.4461631141087352,0.6147519214766572,0.526200192436856,1.3598304924670988,0.253727520804128,0.9508513571872201,-0.33096300255923383,0.6422459455412688,-1.182840275342704,0.7776106033058436,0.7251921984089881,-0.8992954636081043,-0.2659385388815195,1.8702168449694738,-0.7927214636265612,1.3740151971820014,0.7803432925385417,0.4547995097119779,-1.9189864701064838,0.742221013929439,-1.911585229275281],\"yaxis\":\"y5\",\"type\":\"scatter\"},{\"histfunc\":\"count\",\"histnorm\":\"\",\"marker\":{\"color\":\"rgba(55, 128, 191, 1.0)\",\"line\":{\"color\":\"#4D5663\",\"width\":1.3}},\"name\":\"B\",\"nbinsx\":10,\"opacity\":0.8,\"orientation\":\"v\",\"x\":[0.39408508751691174,0.5597812290844585,1.1872882937316844,0.5261069177621385,0.8324150081424387,2.0229924948473155,0.8016952099182463,-0.27250856543923707,0.5991969917690078,0.012408271151590967,1.498575989045239,-1.5252754697159996,0.14066922828746695,0.2001614896562864,0.7393141086675633,0.5218190410445782,-0.14099631099514778,0.746320335451686,0.2882068249559392,-0.6261179226215818,-1.3453418809785471,0.4485083513661857,-0.30337254173453476,-0.2573198650134465,1.8340919440261283,-1.723238043505735,2.2560989316205946,0.08307241884321633,-0.17902782356976163,0.3746919695015312,0.6907935307424771,-1.9052738453037013,-0.6944962604391867,-0.9560653935208608,-0.1260645549119327,-0.2820678692564736,-0.2899959469285368,-0.8697374037589303,1.4866174930332687,-0.358924788703825,-1.5454270107479176,-1.526480268544885,-0.9045299027694891,-0.49427429863164674,-0.09974524282445445,0.9496340986727977,-0.8322150144236892,-0.8063792658634675,1.312605694412341,0.1685132896260088,-1.4139505639110368,-0.4482508192546252,-0.5273928906970727,-0.6484514233815363,1.2933196429677625,0.15955467005039792,-1.4435626349802602,0.4894758579829374,1.0182449643440812,0.20611253270759147,-2.0742934113938274,0.7261227044394204,-0.9894261852623139,0.43174655067239753,0.23595597214069036,-0.6426900200374779,-0.2730663543060331,-0.5447654206263307,1.47959887301995,-2.035056494382499,0.39249244408448947,-0.444491041437767,0.3489655282637713,0.6535654394632688,-1.1795812678279245,-0.5415330568975902,-0.21101973071373986,-0.12649315801693273,0.5722210235128772,1.4461631141087352,0.6147519214766572,0.526200192436856,1.3598304924670988,0.253727520804128,0.9508513571872201,-0.33096300255923383,0.6422459455412688,-1.182840275342704,0.7776106033058436,0.7251921984089881,-0.8992954636081043,-0.2659385388815195,1.8702168449694738,-0.7927214636265612,1.3740151971820014,0.7803432925385417,0.4547995097119779,-1.9189864701064838,0.742221013929439,-1.911585229275281],\"xaxis\":\"x6\",\"yaxis\":\"y6\",\"type\":\"histogram\"},{\"line\":{\"color\":\"rgba(128, 128, 128, 1.0)\",\"dash\":\"solid\",\"shape\":\"linear\",\"width\":1.3},\"marker\":{\"size\":2,\"symbol\":\"circle\"},\"mode\":\"markers\",\"name\":\"B\",\"text\":\"\",\"x\":[-0.2987894811036943,0.2225901646326759,0.4471936317963176,1.2814747332123524,-0.9552418673241627,2.060801706420197,-0.8797151015943191,-0.192546107039639,-0.46354470304234485,0.3305274097754041,0.5916004496576012,-1.375880586782106,-0.9207913336047217,0.14465223796691287,-0.2061086066280525,1.2674441883745204,0.20614590633728108,0.9052633794840721,0.9239174387714885,-0.7714672768665449,-0.1434020969717301,0.5585111397671629,1.0195780223148523,-0.07894797858200932,-1.8733880676435746,-0.41003749605034523,-0.3026443579727646,1.2821863127444708,-0.5565980490656567,-0.145248179737183,-1.8170013757109285,-1.1665076712559546,0.21431642850883828,-0.082021984380936,1.724281178128171,0.24318452448370406,2.0063449440240135,3.181650342247564,-0.17756112300209012,0.48670781257785706,-0.2216332574732512,0.9764349569522697,-1.2279952664572942,-0.7322244940565237,0.7038773844468086,-0.9825239295840146,0.6564170609631838,0.47320941675032435,-0.37464334670458405,-0.4532774880173421,-1.706366667605841,-0.4222680391946654,-0.29592653322574575,-0.20714821645298415,-0.8204968071147439,-1.9996417589002398,2.166104317282843,-0.022306212806870503,0.4551462595429836,-0.2979940515821381,-1.4818824407457283,-0.4780354334268793,0.41716212088670035,1.3046645507432006,-1.0411800096722719,-1.5130830164682152,-1.7434667903682146,-0.532914484831036,0.7692315168817534,0.7019656636207262,2.0538410221083065,1.8461172032230562,-0.45845633020735316,1.2562126486282355,-0.7463729527436335,0.07580553003946819,-0.8516574150018253,-0.370335400938513,0.2152695059196037,-1.8848171565320522,-0.10570196660186361,-0.2505068644384753,-0.5105942242224086,0.6139344751993816,-0.4737087543127613,-0.510188215541777,-1.3732479220251184,0.2767888416064128,-0.757193036837109,-0.8614603832931432,-0.557865585916297,0.9146575558097446,-1.5926850872805938,-0.8666455086184387,-0.536189391669879,-0.1342509107682199,0.7126084653006022,0.33245708912809635,-0.45858295913384756,-1.9653719811077877],\"xaxis\":\"x7\",\"y\":[0.39408508751691174,0.5597812290844585,1.1872882937316844,0.5261069177621385,0.8324150081424387,2.0229924948473155,0.8016952099182463,-0.27250856543923707,0.5991969917690078,0.012408271151590967,1.498575989045239,-1.5252754697159996,0.14066922828746695,0.2001614896562864,0.7393141086675633,0.5218190410445782,-0.14099631099514778,0.746320335451686,0.2882068249559392,-0.6261179226215818,-1.3453418809785471,0.4485083513661857,-0.30337254173453476,-0.2573198650134465,1.8340919440261283,-1.723238043505735,2.2560989316205946,0.08307241884321633,-0.17902782356976163,0.3746919695015312,0.6907935307424771,-1.9052738453037013,-0.6944962604391867,-0.9560653935208608,-0.1260645549119327,-0.2820678692564736,-0.2899959469285368,-0.8697374037589303,1.4866174930332687,-0.358924788703825,-1.5454270107479176,-1.526480268544885,-0.9045299027694891,-0.49427429863164674,-0.09974524282445445,0.9496340986727977,-0.8322150144236892,-0.8063792658634675,1.312605694412341,0.1685132896260088,-1.4139505639110368,-0.4482508192546252,-0.5273928906970727,-0.6484514233815363,1.2933196429677625,0.15955467005039792,-1.4435626349802602,0.4894758579829374,1.0182449643440812,0.20611253270759147,-2.0742934113938274,0.7261227044394204,-0.9894261852623139,0.43174655067239753,0.23595597214069036,-0.6426900200374779,-0.2730663543060331,-0.5447654206263307,1.47959887301995,-2.035056494382499,0.39249244408448947,-0.444491041437767,0.3489655282637713,0.6535654394632688,-1.1795812678279245,-0.5415330568975902,-0.21101973071373986,-0.12649315801693273,0.5722210235128772,1.4461631141087352,0.6147519214766572,0.526200192436856,1.3598304924670988,0.253727520804128,0.9508513571872201,-0.33096300255923383,0.6422459455412688,-1.182840275342704,0.7776106033058436,0.7251921984089881,-0.8992954636081043,-0.2659385388815195,1.8702168449694738,-0.7927214636265612,1.3740151971820014,0.7803432925385417,0.4547995097119779,-1.9189864701064838,0.742221013929439,-1.911585229275281],\"yaxis\":\"y7\",\"type\":\"scatter\"},{\"line\":{\"color\":\"rgba(128, 128, 128, 1.0)\",\"dash\":\"solid\",\"shape\":\"linear\",\"width\":1.3},\"marker\":{\"size\":2,\"symbol\":\"circle\"},\"mode\":\"markers\",\"name\":\"B\",\"text\":\"\",\"x\":[1.2194998401815422,1.4913690042868526,0.5866339684329975,-0.8981621815400568,0.10167850804286419,-0.028381903162272983,-0.797979607898795,-0.22865948209205025,0.9532435168779463,0.93315048531111,1.4923707943986648,-0.5725789117978047,-0.2992674939912139,0.235709350300886,0.8351999504395523,0.5499302620579634,0.39304119881731764,0.7754212333815512,-0.09787901601362829,-0.23018426089024807,-0.46580940392060394,-0.6415912919024988,1.6379790384483537,1.554032022298955,0.45549533009842275,1.0031262484513215,1.3744089459600939,-1.3291581693843357,1.08096648864211,0.9019015033679907,-0.3592830930551365,-1.1249523410327373,-1.5875157299559755,-2.1062198846429347,0.025986401000826907,1.107055110853875,-0.40251434139730535,0.7445831803562862,0.129146395087142,-0.6820336215180516,1.153890938085677,-0.018211398924067236,-0.10426390036368663,1.1370735505214558,-1.688281763490834,0.1784278202773879,-0.04980231182279294,0.08938089451133488,-0.9210276455703743,0.3738223326718488,-0.1225170591280318,-2.157678449864731,-1.466295277308384,-1.2590354402311885,-1.714943627485368,0.09930544733285096,0.44262751580901993,0.11698678890919124,1.23977238365395,0.39026593502045837,-0.8269971459787546,-2.002139406375383,1.4340395753856423,-1.4074271264849452,-0.8535461491029694,-0.24604970837605986,-0.5921374277366798,0.03455704122587057,1.2854317626397362,-0.8475504293300136,0.7367096866032476,0.771477834869765,1.2046137179958973,-0.06032608825021621,1.3807155679355227,-0.5888565686343111,-0.3999907165483855,-1.8003727732432382,0.41430467294995027,0.30757970826674325,-0.24598597165186836,-1.2979224753787815,-1.0890247707256264,-1.481762559002663,0.4368807885545567,-0.24700045581395563,-2.2639443216507162,-0.6277351372321153,0.3524778826059403,0.042900047732522026,0.7032593947332072,1.0024635365061323,1.041521153522514,0.04485887562230921,-1.1001807578663265,0.26350896070320257,-0.6103259308751904,-2.2411846779712126,0.45973392781672434,-1.3772481632190896],\"xaxis\":\"x8\",\"y\":[0.39408508751691174,0.5597812290844585,1.1872882937316844,0.5261069177621385,0.8324150081424387,2.0229924948473155,0.8016952099182463,-0.27250856543923707,0.5991969917690078,0.012408271151590967,1.498575989045239,-1.5252754697159996,0.14066922828746695,0.2001614896562864,0.7393141086675633,0.5218190410445782,-0.14099631099514778,0.746320335451686,0.2882068249559392,-0.6261179226215818,-1.3453418809785471,0.4485083513661857,-0.30337254173453476,-0.2573198650134465,1.8340919440261283,-1.723238043505735,2.2560989316205946,0.08307241884321633,-0.17902782356976163,0.3746919695015312,0.6907935307424771,-1.9052738453037013,-0.6944962604391867,-0.9560653935208608,-0.1260645549119327,-0.2820678692564736,-0.2899959469285368,-0.8697374037589303,1.4866174930332687,-0.358924788703825,-1.5454270107479176,-1.526480268544885,-0.9045299027694891,-0.49427429863164674,-0.09974524282445445,0.9496340986727977,-0.8322150144236892,-0.8063792658634675,1.312605694412341,0.1685132896260088,-1.4139505639110368,-0.4482508192546252,-0.5273928906970727,-0.6484514233815363,1.2933196429677625,0.15955467005039792,-1.4435626349802602,0.4894758579829374,1.0182449643440812,0.20611253270759147,-2.0742934113938274,0.7261227044394204,-0.9894261852623139,0.43174655067239753,0.23595597214069036,-0.6426900200374779,-0.2730663543060331,-0.5447654206263307,1.47959887301995,-2.035056494382499,0.39249244408448947,-0.444491041437767,0.3489655282637713,0.6535654394632688,-1.1795812678279245,-0.5415330568975902,-0.21101973071373986,-0.12649315801693273,0.5722210235128772,1.4461631141087352,0.6147519214766572,0.526200192436856,1.3598304924670988,0.253727520804128,0.9508513571872201,-0.33096300255923383,0.6422459455412688,-1.182840275342704,0.7776106033058436,0.7251921984089881,-0.8992954636081043,-0.2659385388815195,1.8702168449694738,-0.7927214636265612,1.3740151971820014,0.7803432925385417,0.4547995097119779,-1.9189864701064838,0.742221013929439,-1.911585229275281],\"yaxis\":\"y8\",\"type\":\"scatter\"},{\"line\":{\"color\":\"rgba(128, 128, 128, 1.0)\",\"dash\":\"solid\",\"shape\":\"linear\",\"width\":1.3},\"marker\":{\"size\":2,\"symbol\":\"circle\"},\"mode\":\"markers\",\"name\":\"C\",\"text\":\"\",\"x\":[-1.3813706255062617,0.8065087300796255,0.3418651186982201,-0.3323817128521051,2.1231407918626863,-1.1202630656804664,-0.0838679423613188,-0.2323656787814356,-0.4448817191163479,-0.06875353456729144,-0.049574301014722454,2.210801449350267,-1.1063203713174574,-0.6063103665598676,-0.7011439170998087,-0.45395970306502087,2.766671816092905,0.5699573520404393,0.8808174816908407,1.3800745892046544,-0.1603764834931205,-1.0622118661110387,-1.562271295381666,-0.57761248853128,-0.8179651173239639,1.3851094626150695,1.419717830017316,1.490032752768479,0.4839879897208073,2.846600051376337,-0.19327060595834927,0.10695835574762955,-1.2772804565698301,0.1457265969364036,0.4980186780688667,0.37059896130240544,-1.7873621950489733,-0.8815719530555712,-1.0904553304750297,0.31263785194698335,-1.7657329345102317,-1.6644896212258584,-0.9985986717447229,-5.7910567175379e-05,-1.331707814385081,0.1134252366886889,0.759414790394926,-0.0599661947972707,0.6906859639390763,0.354321372436767,-1.1380592776587406,-0.9992273007320776,0.08349219406595834,1.4708225882710029,2.2572721833274625,0.7709653112317927,-0.23877889678292707,1.3451420206002938,-0.16746439868244084,0.5699618681293717,-0.3708267121936692,-1.8703385788607723,0.9215350628981622,-2.3333905191830175,0.43391561874284323,-0.7463278263388601,0.4737891000334945,1.0920180090401317,1.0325775036488705,-0.6106630768648215,-0.7382156222692969,-0.9584583679324162,-2.7421379622719124,-1.7506037789263569,0.31966563419627686,-0.7892062316286367,0.448996320741698,0.21294295276889807,0.9160624812720353,-0.28604664133610624,0.30985990443739675,-0.46754536872788194,-0.11610969135353229,0.48391664650310773,-0.520395981311585,1.1541095181196932,-0.45352152882079416,-0.05789549270731017,-1.2919838016797072,-0.3090001479193332,0.569241312546446,-0.934322907187918,0.3443265950499941,0.1456857429217968,-0.16409306709076685,0.5505366687670102,-1.2457267972453103,2.1972545707069133,-1.083598726767268,-2.39275691984455],\"xaxis\":\"x9\",\"y\":[-0.2987894811036943,0.2225901646326759,0.4471936317963176,1.2814747332123524,-0.9552418673241627,2.060801706420197,-0.8797151015943191,-0.192546107039639,-0.46354470304234485,0.3305274097754041,0.5916004496576012,-1.375880586782106,-0.9207913336047217,0.14465223796691287,-0.2061086066280525,1.2674441883745204,0.20614590633728108,0.9052633794840721,0.9239174387714885,-0.7714672768665449,-0.1434020969717301,0.5585111397671629,1.0195780223148523,-0.07894797858200932,-1.8733880676435746,-0.41003749605034523,-0.3026443579727646,1.2821863127444708,-0.5565980490656567,-0.145248179737183,-1.8170013757109285,-1.1665076712559546,0.21431642850883828,-0.082021984380936,1.724281178128171,0.24318452448370406,2.0063449440240135,3.181650342247564,-0.17756112300209012,0.48670781257785706,-0.2216332574732512,0.9764349569522697,-1.2279952664572942,-0.7322244940565237,0.7038773844468086,-0.9825239295840146,0.6564170609631838,0.47320941675032435,-0.37464334670458405,-0.4532774880173421,-1.706366667605841,-0.4222680391946654,-0.29592653322574575,-0.20714821645298415,-0.8204968071147439,-1.9996417589002398,2.166104317282843,-0.022306212806870503,0.4551462595429836,-0.2979940515821381,-1.4818824407457283,-0.4780354334268793,0.41716212088670035,1.3046645507432006,-1.0411800096722719,-1.5130830164682152,-1.7434667903682146,-0.532914484831036,0.7692315168817534,0.7019656636207262,2.0538410221083065,1.8461172032230562,-0.45845633020735316,1.2562126486282355,-0.7463729527436335,0.07580553003946819,-0.8516574150018253,-0.370335400938513,0.2152695059196037,-1.8848171565320522,-0.10570196660186361,-0.2505068644384753,-0.5105942242224086,0.6139344751993816,-0.4737087543127613,-0.510188215541777,-1.3732479220251184,0.2767888416064128,-0.757193036837109,-0.8614603832931432,-0.557865585916297,0.9146575558097446,-1.5926850872805938,-0.8666455086184387,-0.536189391669879,-0.1342509107682199,0.7126084653006022,0.33245708912809635,-0.45858295913384756,-1.9653719811077877],\"yaxis\":\"y9\",\"type\":\"scatter\"},{\"line\":{\"color\":\"rgba(128, 128, 128, 1.0)\",\"dash\":\"solid\",\"shape\":\"linear\",\"width\":1.3},\"marker\":{\"size\":2,\"symbol\":\"circle\"},\"mode\":\"markers\",\"name\":\"C\",\"text\":\"\",\"x\":[0.39408508751691174,0.5597812290844585,1.1872882937316844,0.5261069177621385,0.8324150081424387,2.0229924948473155,0.8016952099182463,-0.27250856543923707,0.5991969917690078,0.012408271151590967,1.498575989045239,-1.5252754697159996,0.14066922828746695,0.2001614896562864,0.7393141086675633,0.5218190410445782,-0.14099631099514778,0.746320335451686,0.2882068249559392,-0.6261179226215818,-1.3453418809785471,0.4485083513661857,-0.30337254173453476,-0.2573198650134465,1.8340919440261283,-1.723238043505735,2.2560989316205946,0.08307241884321633,-0.17902782356976163,0.3746919695015312,0.6907935307424771,-1.9052738453037013,-0.6944962604391867,-0.9560653935208608,-0.1260645549119327,-0.2820678692564736,-0.2899959469285368,-0.8697374037589303,1.4866174930332687,-0.358924788703825,-1.5454270107479176,-1.526480268544885,-0.9045299027694891,-0.49427429863164674,-0.09974524282445445,0.9496340986727977,-0.8322150144236892,-0.8063792658634675,1.312605694412341,0.1685132896260088,-1.4139505639110368,-0.4482508192546252,-0.5273928906970727,-0.6484514233815363,1.2933196429677625,0.15955467005039792,-1.4435626349802602,0.4894758579829374,1.0182449643440812,0.20611253270759147,-2.0742934113938274,0.7261227044394204,-0.9894261852623139,0.43174655067239753,0.23595597214069036,-0.6426900200374779,-0.2730663543060331,-0.5447654206263307,1.47959887301995,-2.035056494382499,0.39249244408448947,-0.444491041437767,0.3489655282637713,0.6535654394632688,-1.1795812678279245,-0.5415330568975902,-0.21101973071373986,-0.12649315801693273,0.5722210235128772,1.4461631141087352,0.6147519214766572,0.526200192436856,1.3598304924670988,0.253727520804128,0.9508513571872201,-0.33096300255923383,0.6422459455412688,-1.182840275342704,0.7776106033058436,0.7251921984089881,-0.8992954636081043,-0.2659385388815195,1.8702168449694738,-0.7927214636265612,1.3740151971820014,0.7803432925385417,0.4547995097119779,-1.9189864701064838,0.742221013929439,-1.911585229275281],\"xaxis\":\"x10\",\"y\":[-0.2987894811036943,0.2225901646326759,0.4471936317963176,1.2814747332123524,-0.9552418673241627,2.060801706420197,-0.8797151015943191,-0.192546107039639,-0.46354470304234485,0.3305274097754041,0.5916004496576012,-1.375880586782106,-0.9207913336047217,0.14465223796691287,-0.2061086066280525,1.2674441883745204,0.20614590633728108,0.9052633794840721,0.9239174387714885,-0.7714672768665449,-0.1434020969717301,0.5585111397671629,1.0195780223148523,-0.07894797858200932,-1.8733880676435746,-0.41003749605034523,-0.3026443579727646,1.2821863127444708,-0.5565980490656567,-0.145248179737183,-1.8170013757109285,-1.1665076712559546,0.21431642850883828,-0.082021984380936,1.724281178128171,0.24318452448370406,2.0063449440240135,3.181650342247564,-0.17756112300209012,0.48670781257785706,-0.2216332574732512,0.9764349569522697,-1.2279952664572942,-0.7322244940565237,0.7038773844468086,-0.9825239295840146,0.6564170609631838,0.47320941675032435,-0.37464334670458405,-0.4532774880173421,-1.706366667605841,-0.4222680391946654,-0.29592653322574575,-0.20714821645298415,-0.8204968071147439,-1.9996417589002398,2.166104317282843,-0.022306212806870503,0.4551462595429836,-0.2979940515821381,-1.4818824407457283,-0.4780354334268793,0.41716212088670035,1.3046645507432006,-1.0411800096722719,-1.5130830164682152,-1.7434667903682146,-0.532914484831036,0.7692315168817534,0.7019656636207262,2.0538410221083065,1.8461172032230562,-0.45845633020735316,1.2562126486282355,-0.7463729527436335,0.07580553003946819,-0.8516574150018253,-0.370335400938513,0.2152695059196037,-1.8848171565320522,-0.10570196660186361,-0.2505068644384753,-0.5105942242224086,0.6139344751993816,-0.4737087543127613,-0.510188215541777,-1.3732479220251184,0.2767888416064128,-0.757193036837109,-0.8614603832931432,-0.557865585916297,0.9146575558097446,-1.5926850872805938,-0.8666455086184387,-0.536189391669879,-0.1342509107682199,0.7126084653006022,0.33245708912809635,-0.45858295913384756,-1.9653719811077877],\"yaxis\":\"y10\",\"type\":\"scatter\"},{\"histfunc\":\"count\",\"histnorm\":\"\",\"marker\":{\"color\":\"rgba(50, 171, 96, 1.0)\",\"line\":{\"color\":\"#4D5663\",\"width\":1.3}},\"name\":\"C\",\"nbinsx\":10,\"opacity\":0.8,\"orientation\":\"v\",\"x\":[-0.2987894811036943,0.2225901646326759,0.4471936317963176,1.2814747332123524,-0.9552418673241627,2.060801706420197,-0.8797151015943191,-0.192546107039639,-0.46354470304234485,0.3305274097754041,0.5916004496576012,-1.375880586782106,-0.9207913336047217,0.14465223796691287,-0.2061086066280525,1.2674441883745204,0.20614590633728108,0.9052633794840721,0.9239174387714885,-0.7714672768665449,-0.1434020969717301,0.5585111397671629,1.0195780223148523,-0.07894797858200932,-1.8733880676435746,-0.41003749605034523,-0.3026443579727646,1.2821863127444708,-0.5565980490656567,-0.145248179737183,-1.8170013757109285,-1.1665076712559546,0.21431642850883828,-0.082021984380936,1.724281178128171,0.24318452448370406,2.0063449440240135,3.181650342247564,-0.17756112300209012,0.48670781257785706,-0.2216332574732512,0.9764349569522697,-1.2279952664572942,-0.7322244940565237,0.7038773844468086,-0.9825239295840146,0.6564170609631838,0.47320941675032435,-0.37464334670458405,-0.4532774880173421,-1.706366667605841,-0.4222680391946654,-0.29592653322574575,-0.20714821645298415,-0.8204968071147439,-1.9996417589002398,2.166104317282843,-0.022306212806870503,0.4551462595429836,-0.2979940515821381,-1.4818824407457283,-0.4780354334268793,0.41716212088670035,1.3046645507432006,-1.0411800096722719,-1.5130830164682152,-1.7434667903682146,-0.532914484831036,0.7692315168817534,0.7019656636207262,2.0538410221083065,1.8461172032230562,-0.45845633020735316,1.2562126486282355,-0.7463729527436335,0.07580553003946819,-0.8516574150018253,-0.370335400938513,0.2152695059196037,-1.8848171565320522,-0.10570196660186361,-0.2505068644384753,-0.5105942242224086,0.6139344751993816,-0.4737087543127613,-0.510188215541777,-1.3732479220251184,0.2767888416064128,-0.757193036837109,-0.8614603832931432,-0.557865585916297,0.9146575558097446,-1.5926850872805938,-0.8666455086184387,-0.536189391669879,-0.1342509107682199,0.7126084653006022,0.33245708912809635,-0.45858295913384756,-1.9653719811077877],\"xaxis\":\"x11\",\"yaxis\":\"y11\",\"type\":\"histogram\"},{\"line\":{\"color\":\"rgba(128, 128, 128, 1.0)\",\"dash\":\"solid\",\"shape\":\"linear\",\"width\":1.3},\"marker\":{\"size\":2,\"symbol\":\"circle\"},\"mode\":\"markers\",\"name\":\"C\",\"text\":\"\",\"x\":[1.2194998401815422,1.4913690042868526,0.5866339684329975,-0.8981621815400568,0.10167850804286419,-0.028381903162272983,-0.797979607898795,-0.22865948209205025,0.9532435168779463,0.93315048531111,1.4923707943986648,-0.5725789117978047,-0.2992674939912139,0.235709350300886,0.8351999504395523,0.5499302620579634,0.39304119881731764,0.7754212333815512,-0.09787901601362829,-0.23018426089024807,-0.46580940392060394,-0.6415912919024988,1.6379790384483537,1.554032022298955,0.45549533009842275,1.0031262484513215,1.3744089459600939,-1.3291581693843357,1.08096648864211,0.9019015033679907,-0.3592830930551365,-1.1249523410327373,-1.5875157299559755,-2.1062198846429347,0.025986401000826907,1.107055110853875,-0.40251434139730535,0.7445831803562862,0.129146395087142,-0.6820336215180516,1.153890938085677,-0.018211398924067236,-0.10426390036368663,1.1370735505214558,-1.688281763490834,0.1784278202773879,-0.04980231182279294,0.08938089451133488,-0.9210276455703743,0.3738223326718488,-0.1225170591280318,-2.157678449864731,-1.466295277308384,-1.2590354402311885,-1.714943627485368,0.09930544733285096,0.44262751580901993,0.11698678890919124,1.23977238365395,0.39026593502045837,-0.8269971459787546,-2.002139406375383,1.4340395753856423,-1.4074271264849452,-0.8535461491029694,-0.24604970837605986,-0.5921374277366798,0.03455704122587057,1.2854317626397362,-0.8475504293300136,0.7367096866032476,0.771477834869765,1.2046137179958973,-0.06032608825021621,1.3807155679355227,-0.5888565686343111,-0.3999907165483855,-1.8003727732432382,0.41430467294995027,0.30757970826674325,-0.24598597165186836,-1.2979224753787815,-1.0890247707256264,-1.481762559002663,0.4368807885545567,-0.24700045581395563,-2.2639443216507162,-0.6277351372321153,0.3524778826059403,0.042900047732522026,0.7032593947332072,1.0024635365061323,1.041521153522514,0.04485887562230921,-1.1001807578663265,0.26350896070320257,-0.6103259308751904,-2.2411846779712126,0.45973392781672434,-1.3772481632190896],\"xaxis\":\"x12\",\"y\":[-0.2987894811036943,0.2225901646326759,0.4471936317963176,1.2814747332123524,-0.9552418673241627,2.060801706420197,-0.8797151015943191,-0.192546107039639,-0.46354470304234485,0.3305274097754041,0.5916004496576012,-1.375880586782106,-0.9207913336047217,0.14465223796691287,-0.2061086066280525,1.2674441883745204,0.20614590633728108,0.9052633794840721,0.9239174387714885,-0.7714672768665449,-0.1434020969717301,0.5585111397671629,1.0195780223148523,-0.07894797858200932,-1.8733880676435746,-0.41003749605034523,-0.3026443579727646,1.2821863127444708,-0.5565980490656567,-0.145248179737183,-1.8170013757109285,-1.1665076712559546,0.21431642850883828,-0.082021984380936,1.724281178128171,0.24318452448370406,2.0063449440240135,3.181650342247564,-0.17756112300209012,0.48670781257785706,-0.2216332574732512,0.9764349569522697,-1.2279952664572942,-0.7322244940565237,0.7038773844468086,-0.9825239295840146,0.6564170609631838,0.47320941675032435,-0.37464334670458405,-0.4532774880173421,-1.706366667605841,-0.4222680391946654,-0.29592653322574575,-0.20714821645298415,-0.8204968071147439,-1.9996417589002398,2.166104317282843,-0.022306212806870503,0.4551462595429836,-0.2979940515821381,-1.4818824407457283,-0.4780354334268793,0.41716212088670035,1.3046645507432006,-1.0411800096722719,-1.5130830164682152,-1.7434667903682146,-0.532914484831036,0.7692315168817534,0.7019656636207262,2.0538410221083065,1.8461172032230562,-0.45845633020735316,1.2562126486282355,-0.7463729527436335,0.07580553003946819,-0.8516574150018253,-0.370335400938513,0.2152695059196037,-1.8848171565320522,-0.10570196660186361,-0.2505068644384753,-0.5105942242224086,0.6139344751993816,-0.4737087543127613,-0.510188215541777,-1.3732479220251184,0.2767888416064128,-0.757193036837109,-0.8614603832931432,-0.557865585916297,0.9146575558097446,-1.5926850872805938,-0.8666455086184387,-0.536189391669879,-0.1342509107682199,0.7126084653006022,0.33245708912809635,-0.45858295913384756,-1.9653719811077877],\"yaxis\":\"y12\",\"type\":\"scatter\"},{\"line\":{\"color\":\"rgba(128, 128, 128, 1.0)\",\"dash\":\"solid\",\"shape\":\"linear\",\"width\":1.3},\"marker\":{\"size\":2,\"symbol\":\"circle\"},\"mode\":\"markers\",\"name\":\"D\",\"text\":\"\",\"x\":[-1.3813706255062617,0.8065087300796255,0.3418651186982201,-0.3323817128521051,2.1231407918626863,-1.1202630656804664,-0.0838679423613188,-0.2323656787814356,-0.4448817191163479,-0.06875353456729144,-0.049574301014722454,2.210801449350267,-1.1063203713174574,-0.6063103665598676,-0.7011439170998087,-0.45395970306502087,2.766671816092905,0.5699573520404393,0.8808174816908407,1.3800745892046544,-0.1603764834931205,-1.0622118661110387,-1.562271295381666,-0.57761248853128,-0.8179651173239639,1.3851094626150695,1.419717830017316,1.490032752768479,0.4839879897208073,2.846600051376337,-0.19327060595834927,0.10695835574762955,-1.2772804565698301,0.1457265969364036,0.4980186780688667,0.37059896130240544,-1.7873621950489733,-0.8815719530555712,-1.0904553304750297,0.31263785194698335,-1.7657329345102317,-1.6644896212258584,-0.9985986717447229,-5.7910567175379e-05,-1.331707814385081,0.1134252366886889,0.759414790394926,-0.0599661947972707,0.6906859639390763,0.354321372436767,-1.1380592776587406,-0.9992273007320776,0.08349219406595834,1.4708225882710029,2.2572721833274625,0.7709653112317927,-0.23877889678292707,1.3451420206002938,-0.16746439868244084,0.5699618681293717,-0.3708267121936692,-1.8703385788607723,0.9215350628981622,-2.3333905191830175,0.43391561874284323,-0.7463278263388601,0.4737891000334945,1.0920180090401317,1.0325775036488705,-0.6106630768648215,-0.7382156222692969,-0.9584583679324162,-2.7421379622719124,-1.7506037789263569,0.31966563419627686,-0.7892062316286367,0.448996320741698,0.21294295276889807,0.9160624812720353,-0.28604664133610624,0.30985990443739675,-0.46754536872788194,-0.11610969135353229,0.48391664650310773,-0.520395981311585,1.1541095181196932,-0.45352152882079416,-0.05789549270731017,-1.2919838016797072,-0.3090001479193332,0.569241312546446,-0.934322907187918,0.3443265950499941,0.1456857429217968,-0.16409306709076685,0.5505366687670102,-1.2457267972453103,2.1972545707069133,-1.083598726767268,-2.39275691984455],\"xaxis\":\"x13\",\"y\":[1.2194998401815422,1.4913690042868526,0.5866339684329975,-0.8981621815400568,0.10167850804286419,-0.028381903162272983,-0.797979607898795,-0.22865948209205025,0.9532435168779463,0.93315048531111,1.4923707943986648,-0.5725789117978047,-0.2992674939912139,0.235709350300886,0.8351999504395523,0.5499302620579634,0.39304119881731764,0.7754212333815512,-0.09787901601362829,-0.23018426089024807,-0.46580940392060394,-0.6415912919024988,1.6379790384483537,1.554032022298955,0.45549533009842275,1.0031262484513215,1.3744089459600939,-1.3291581693843357,1.08096648864211,0.9019015033679907,-0.3592830930551365,-1.1249523410327373,-1.5875157299559755,-2.1062198846429347,0.025986401000826907,1.107055110853875,-0.40251434139730535,0.7445831803562862,0.129146395087142,-0.6820336215180516,1.153890938085677,-0.018211398924067236,-0.10426390036368663,1.1370735505214558,-1.688281763490834,0.1784278202773879,-0.04980231182279294,0.08938089451133488,-0.9210276455703743,0.3738223326718488,-0.1225170591280318,-2.157678449864731,-1.466295277308384,-1.2590354402311885,-1.714943627485368,0.09930544733285096,0.44262751580901993,0.11698678890919124,1.23977238365395,0.39026593502045837,-0.8269971459787546,-2.002139406375383,1.4340395753856423,-1.4074271264849452,-0.8535461491029694,-0.24604970837605986,-0.5921374277366798,0.03455704122587057,1.2854317626397362,-0.8475504293300136,0.7367096866032476,0.771477834869765,1.2046137179958973,-0.06032608825021621,1.3807155679355227,-0.5888565686343111,-0.3999907165483855,-1.8003727732432382,0.41430467294995027,0.30757970826674325,-0.24598597165186836,-1.2979224753787815,-1.0890247707256264,-1.481762559002663,0.4368807885545567,-0.24700045581395563,-2.2639443216507162,-0.6277351372321153,0.3524778826059403,0.042900047732522026,0.7032593947332072,1.0024635365061323,1.041521153522514,0.04485887562230921,-1.1001807578663265,0.26350896070320257,-0.6103259308751904,-2.2411846779712126,0.45973392781672434,-1.3772481632190896],\"yaxis\":\"y13\",\"type\":\"scatter\"},{\"line\":{\"color\":\"rgba(128, 128, 128, 1.0)\",\"dash\":\"solid\",\"shape\":\"linear\",\"width\":1.3},\"marker\":{\"size\":2,\"symbol\":\"circle\"},\"mode\":\"markers\",\"name\":\"D\",\"text\":\"\",\"x\":[0.39408508751691174,0.5597812290844585,1.1872882937316844,0.5261069177621385,0.8324150081424387,2.0229924948473155,0.8016952099182463,-0.27250856543923707,0.5991969917690078,0.012408271151590967,1.498575989045239,-1.5252754697159996,0.14066922828746695,0.2001614896562864,0.7393141086675633,0.5218190410445782,-0.14099631099514778,0.746320335451686,0.2882068249559392,-0.6261179226215818,-1.3453418809785471,0.4485083513661857,-0.30337254173453476,-0.2573198650134465,1.8340919440261283,-1.723238043505735,2.2560989316205946,0.08307241884321633,-0.17902782356976163,0.3746919695015312,0.6907935307424771,-1.9052738453037013,-0.6944962604391867,-0.9560653935208608,-0.1260645549119327,-0.2820678692564736,-0.2899959469285368,-0.8697374037589303,1.4866174930332687,-0.358924788703825,-1.5454270107479176,-1.526480268544885,-0.9045299027694891,-0.49427429863164674,-0.09974524282445445,0.9496340986727977,-0.8322150144236892,-0.8063792658634675,1.312605694412341,0.1685132896260088,-1.4139505639110368,-0.4482508192546252,-0.5273928906970727,-0.6484514233815363,1.2933196429677625,0.15955467005039792,-1.4435626349802602,0.4894758579829374,1.0182449643440812,0.20611253270759147,-2.0742934113938274,0.7261227044394204,-0.9894261852623139,0.43174655067239753,0.23595597214069036,-0.6426900200374779,-0.2730663543060331,-0.5447654206263307,1.47959887301995,-2.035056494382499,0.39249244408448947,-0.444491041437767,0.3489655282637713,0.6535654394632688,-1.1795812678279245,-0.5415330568975902,-0.21101973071373986,-0.12649315801693273,0.5722210235128772,1.4461631141087352,0.6147519214766572,0.526200192436856,1.3598304924670988,0.253727520804128,0.9508513571872201,-0.33096300255923383,0.6422459455412688,-1.182840275342704,0.7776106033058436,0.7251921984089881,-0.8992954636081043,-0.2659385388815195,1.8702168449694738,-0.7927214636265612,1.3740151971820014,0.7803432925385417,0.4547995097119779,-1.9189864701064838,0.742221013929439,-1.911585229275281],\"xaxis\":\"x14\",\"y\":[1.2194998401815422,1.4913690042868526,0.5866339684329975,-0.8981621815400568,0.10167850804286419,-0.028381903162272983,-0.797979607898795,-0.22865948209205025,0.9532435168779463,0.93315048531111,1.4923707943986648,-0.5725789117978047,-0.2992674939912139,0.235709350300886,0.8351999504395523,0.5499302620579634,0.39304119881731764,0.7754212333815512,-0.09787901601362829,-0.23018426089024807,-0.46580940392060394,-0.6415912919024988,1.6379790384483537,1.554032022298955,0.45549533009842275,1.0031262484513215,1.3744089459600939,-1.3291581693843357,1.08096648864211,0.9019015033679907,-0.3592830930551365,-1.1249523410327373,-1.5875157299559755,-2.1062198846429347,0.025986401000826907,1.107055110853875,-0.40251434139730535,0.7445831803562862,0.129146395087142,-0.6820336215180516,1.153890938085677,-0.018211398924067236,-0.10426390036368663,1.1370735505214558,-1.688281763490834,0.1784278202773879,-0.04980231182279294,0.08938089451133488,-0.9210276455703743,0.3738223326718488,-0.1225170591280318,-2.157678449864731,-1.466295277308384,-1.2590354402311885,-1.714943627485368,0.09930544733285096,0.44262751580901993,0.11698678890919124,1.23977238365395,0.39026593502045837,-0.8269971459787546,-2.002139406375383,1.4340395753856423,-1.4074271264849452,-0.8535461491029694,-0.24604970837605986,-0.5921374277366798,0.03455704122587057,1.2854317626397362,-0.8475504293300136,0.7367096866032476,0.771477834869765,1.2046137179958973,-0.06032608825021621,1.3807155679355227,-0.5888565686343111,-0.3999907165483855,-1.8003727732432382,0.41430467294995027,0.30757970826674325,-0.24598597165186836,-1.2979224753787815,-1.0890247707256264,-1.481762559002663,0.4368807885545567,-0.24700045581395563,-2.2639443216507162,-0.6277351372321153,0.3524778826059403,0.042900047732522026,0.7032593947332072,1.0024635365061323,1.041521153522514,0.04485887562230921,-1.1001807578663265,0.26350896070320257,-0.6103259308751904,-2.2411846779712126,0.45973392781672434,-1.3772481632190896],\"yaxis\":\"y14\",\"type\":\"scatter\"},{\"line\":{\"color\":\"rgba(128, 128, 128, 1.0)\",\"dash\":\"solid\",\"shape\":\"linear\",\"width\":1.3},\"marker\":{\"size\":2,\"symbol\":\"circle\"},\"mode\":\"markers\",\"name\":\"D\",\"text\":\"\",\"x\":[-0.2987894811036943,0.2225901646326759,0.4471936317963176,1.2814747332123524,-0.9552418673241627,2.060801706420197,-0.8797151015943191,-0.192546107039639,-0.46354470304234485,0.3305274097754041,0.5916004496576012,-1.375880586782106,-0.9207913336047217,0.14465223796691287,-0.2061086066280525,1.2674441883745204,0.20614590633728108,0.9052633794840721,0.9239174387714885,-0.7714672768665449,-0.1434020969717301,0.5585111397671629,1.0195780223148523,-0.07894797858200932,-1.8733880676435746,-0.41003749605034523,-0.3026443579727646,1.2821863127444708,-0.5565980490656567,-0.145248179737183,-1.8170013757109285,-1.1665076712559546,0.21431642850883828,-0.082021984380936,1.724281178128171,0.24318452448370406,2.0063449440240135,3.181650342247564,-0.17756112300209012,0.48670781257785706,-0.2216332574732512,0.9764349569522697,-1.2279952664572942,-0.7322244940565237,0.7038773844468086,-0.9825239295840146,0.6564170609631838,0.47320941675032435,-0.37464334670458405,-0.4532774880173421,-1.706366667605841,-0.4222680391946654,-0.29592653322574575,-0.20714821645298415,-0.8204968071147439,-1.9996417589002398,2.166104317282843,-0.022306212806870503,0.4551462595429836,-0.2979940515821381,-1.4818824407457283,-0.4780354334268793,0.41716212088670035,1.3046645507432006,-1.0411800096722719,-1.5130830164682152,-1.7434667903682146,-0.532914484831036,0.7692315168817534,0.7019656636207262,2.0538410221083065,1.8461172032230562,-0.45845633020735316,1.2562126486282355,-0.7463729527436335,0.07580553003946819,-0.8516574150018253,-0.370335400938513,0.2152695059196037,-1.8848171565320522,-0.10570196660186361,-0.2505068644384753,-0.5105942242224086,0.6139344751993816,-0.4737087543127613,-0.510188215541777,-1.3732479220251184,0.2767888416064128,-0.757193036837109,-0.8614603832931432,-0.557865585916297,0.9146575558097446,-1.5926850872805938,-0.8666455086184387,-0.536189391669879,-0.1342509107682199,0.7126084653006022,0.33245708912809635,-0.45858295913384756,-1.9653719811077877],\"xaxis\":\"x15\",\"y\":[1.2194998401815422,1.4913690042868526,0.5866339684329975,-0.8981621815400568,0.10167850804286419,-0.028381903162272983,-0.797979607898795,-0.22865948209205025,0.9532435168779463,0.93315048531111,1.4923707943986648,-0.5725789117978047,-0.2992674939912139,0.235709350300886,0.8351999504395523,0.5499302620579634,0.39304119881731764,0.7754212333815512,-0.09787901601362829,-0.23018426089024807,-0.46580940392060394,-0.6415912919024988,1.6379790384483537,1.554032022298955,0.45549533009842275,1.0031262484513215,1.3744089459600939,-1.3291581693843357,1.08096648864211,0.9019015033679907,-0.3592830930551365,-1.1249523410327373,-1.5875157299559755,-2.1062198846429347,0.025986401000826907,1.107055110853875,-0.40251434139730535,0.7445831803562862,0.129146395087142,-0.6820336215180516,1.153890938085677,-0.018211398924067236,-0.10426390036368663,1.1370735505214558,-1.688281763490834,0.1784278202773879,-0.04980231182279294,0.08938089451133488,-0.9210276455703743,0.3738223326718488,-0.1225170591280318,-2.157678449864731,-1.466295277308384,-1.2590354402311885,-1.714943627485368,0.09930544733285096,0.44262751580901993,0.11698678890919124,1.23977238365395,0.39026593502045837,-0.8269971459787546,-2.002139406375383,1.4340395753856423,-1.4074271264849452,-0.8535461491029694,-0.24604970837605986,-0.5921374277366798,0.03455704122587057,1.2854317626397362,-0.8475504293300136,0.7367096866032476,0.771477834869765,1.2046137179958973,-0.06032608825021621,1.3807155679355227,-0.5888565686343111,-0.3999907165483855,-1.8003727732432382,0.41430467294995027,0.30757970826674325,-0.24598597165186836,-1.2979224753787815,-1.0890247707256264,-1.481762559002663,0.4368807885545567,-0.24700045581395563,-2.2639443216507162,-0.6277351372321153,0.3524778826059403,0.042900047732522026,0.7032593947332072,1.0024635365061323,1.041521153522514,0.04485887562230921,-1.1001807578663265,0.26350896070320257,-0.6103259308751904,-2.2411846779712126,0.45973392781672434,-1.3772481632190896],\"yaxis\":\"y15\",\"type\":\"scatter\"},{\"histfunc\":\"count\",\"histnorm\":\"\",\"marker\":{\"color\":\"rgba(128, 0, 128, 1.0)\",\"line\":{\"color\":\"#4D5663\",\"width\":1.3}},\"name\":\"D\",\"nbinsx\":10,\"opacity\":0.8,\"orientation\":\"v\",\"x\":[1.2194998401815422,1.4913690042868526,0.5866339684329975,-0.8981621815400568,0.10167850804286419,-0.028381903162272983,-0.797979607898795,-0.22865948209205025,0.9532435168779463,0.93315048531111,1.4923707943986648,-0.5725789117978047,-0.2992674939912139,0.235709350300886,0.8351999504395523,0.5499302620579634,0.39304119881731764,0.7754212333815512,-0.09787901601362829,-0.23018426089024807,-0.46580940392060394,-0.6415912919024988,1.6379790384483537,1.554032022298955,0.45549533009842275,1.0031262484513215,1.3744089459600939,-1.3291581693843357,1.08096648864211,0.9019015033679907,-0.3592830930551365,-1.1249523410327373,-1.5875157299559755,-2.1062198846429347,0.025986401000826907,1.107055110853875,-0.40251434139730535,0.7445831803562862,0.129146395087142,-0.6820336215180516,1.153890938085677,-0.018211398924067236,-0.10426390036368663,1.1370735505214558,-1.688281763490834,0.1784278202773879,-0.04980231182279294,0.08938089451133488,-0.9210276455703743,0.3738223326718488,-0.1225170591280318,-2.157678449864731,-1.466295277308384,-1.2590354402311885,-1.714943627485368,0.09930544733285096,0.44262751580901993,0.11698678890919124,1.23977238365395,0.39026593502045837,-0.8269971459787546,-2.002139406375383,1.4340395753856423,-1.4074271264849452,-0.8535461491029694,-0.24604970837605986,-0.5921374277366798,0.03455704122587057,1.2854317626397362,-0.8475504293300136,0.7367096866032476,0.771477834869765,1.2046137179958973,-0.06032608825021621,1.3807155679355227,-0.5888565686343111,-0.3999907165483855,-1.8003727732432382,0.41430467294995027,0.30757970826674325,-0.24598597165186836,-1.2979224753787815,-1.0890247707256264,-1.481762559002663,0.4368807885545567,-0.24700045581395563,-2.2639443216507162,-0.6277351372321153,0.3524778826059403,0.042900047732522026,0.7032593947332072,1.0024635365061323,1.041521153522514,0.04485887562230921,-1.1001807578663265,0.26350896070320257,-0.6103259308751904,-2.2411846779712126,0.45973392781672434,-1.3772481632190896],\"xaxis\":\"x16\",\"yaxis\":\"y16\",\"type\":\"histogram\"}],                        {\"bargap\":0.02,\"legend\":{\"bgcolor\":\"#F5F6F9\",\"font\":{\"color\":\"#4D5663\"}},\"paper_bgcolor\":\"#F5F6F9\",\"plot_bgcolor\":\"#F5F6F9\",\"showlegend\":false,\"template\":{\"data\":{\"barpolar\":[{\"marker\":{\"line\":{\"color\":\"#E5ECF6\",\"width\":0.5},\"pattern\":{\"fillmode\":\"overlay\",\"size\":10,\"solidity\":0.2}},\"type\":\"barpolar\"}],\"bar\":[{\"error_x\":{\"color\":\"#2a3f5f\"},\"error_y\":{\"color\":\"#2a3f5f\"},\"marker\":{\"line\":{\"color\":\"#E5ECF6\",\"width\":0.5},\"pattern\":{\"fillmode\":\"overlay\",\"size\":10,\"solidity\":0.2}},\"type\":\"bar\"}],\"carpet\":[{\"aaxis\":{\"endlinecolor\":\"#2a3f5f\",\"gridcolor\":\"white\",\"linecolor\":\"white\",\"minorgridcolor\":\"white\",\"startlinecolor\":\"#2a3f5f\"},\"baxis\":{\"endlinecolor\":\"#2a3f5f\",\"gridcolor\":\"white\",\"linecolor\":\"white\",\"minorgridcolor\":\"white\",\"startlinecolor\":\"#2a3f5f\"},\"type\":\"carpet\"}],\"choropleth\":[{\"colorbar\":{\"outlinewidth\":0,\"ticks\":\"\"},\"type\":\"choropleth\"}],\"contourcarpet\":[{\"colorbar\":{\"outlinewidth\":0,\"ticks\":\"\"},\"type\":\"contourcarpet\"}],\"contour\":[{\"colorbar\":{\"outlinewidth\":0,\"ticks\":\"\"},\"colorscale\":[[0.0,\"#0d0887\"],[0.1111111111111111,\"#46039f\"],[0.2222222222222222,\"#7201a8\"],[0.3333333333333333,\"#9c179e\"],[0.4444444444444444,\"#bd3786\"],[0.5555555555555556,\"#d8576b\"],[0.6666666666666666,\"#ed7953\"],[0.7777777777777778,\"#fb9f3a\"],[0.8888888888888888,\"#fdca26\"],[1.0,\"#f0f921\"]],\"type\":\"contour\"}],\"heatmapgl\":[{\"colorbar\":{\"outlinewidth\":0,\"ticks\":\"\"},\"colorscale\":[[0.0,\"#0d0887\"],[0.1111111111111111,\"#46039f\"],[0.2222222222222222,\"#7201a8\"],[0.3333333333333333,\"#9c179e\"],[0.4444444444444444,\"#bd3786\"],[0.5555555555555556,\"#d8576b\"],[0.6666666666666666,\"#ed7953\"],[0.7777777777777778,\"#fb9f3a\"],[0.8888888888888888,\"#fdca26\"],[1.0,\"#f0f921\"]],\"type\":\"heatmapgl\"}],\"heatmap\":[{\"colorbar\":{\"outlinewidth\":0,\"ticks\":\"\"},\"colorscale\":[[0.0,\"#0d0887\"],[0.1111111111111111,\"#46039f\"],[0.2222222222222222,\"#7201a8\"],[0.3333333333333333,\"#9c179e\"],[0.4444444444444444,\"#bd3786\"],[0.5555555555555556,\"#d8576b\"],[0.6666666666666666,\"#ed7953\"],[0.7777777777777778,\"#fb9f3a\"],[0.8888888888888888,\"#fdca26\"],[1.0,\"#f0f921\"]],\"type\":\"heatmap\"}],\"histogram2dcontour\":[{\"colorbar\":{\"outlinewidth\":0,\"ticks\":\"\"},\"colorscale\":[[0.0,\"#0d0887\"],[0.1111111111111111,\"#46039f\"],[0.2222222222222222,\"#7201a8\"],[0.3333333333333333,\"#9c179e\"],[0.4444444444444444,\"#bd3786\"],[0.5555555555555556,\"#d8576b\"],[0.6666666666666666,\"#ed7953\"],[0.7777777777777778,\"#fb9f3a\"],[0.8888888888888888,\"#fdca26\"],[1.0,\"#f0f921\"]],\"type\":\"histogram2dcontour\"}],\"histogram2d\":[{\"colorbar\":{\"outlinewidth\":0,\"ticks\":\"\"},\"colorscale\":[[0.0,\"#0d0887\"],[0.1111111111111111,\"#46039f\"],[0.2222222222222222,\"#7201a8\"],[0.3333333333333333,\"#9c179e\"],[0.4444444444444444,\"#bd3786\"],[0.5555555555555556,\"#d8576b\"],[0.6666666666666666,\"#ed7953\"],[0.7777777777777778,\"#fb9f3a\"],[0.8888888888888888,\"#fdca26\"],[1.0,\"#f0f921\"]],\"type\":\"histogram2d\"}],\"histogram\":[{\"marker\":{\"pattern\":{\"fillmode\":\"overlay\",\"size\":10,\"solidity\":0.2}},\"type\":\"histogram\"}],\"mesh3d\":[{\"colorbar\":{\"outlinewidth\":0,\"ticks\":\"\"},\"type\":\"mesh3d\"}],\"parcoords\":[{\"line\":{\"colorbar\":{\"outlinewidth\":0,\"ticks\":\"\"}},\"type\":\"parcoords\"}],\"pie\":[{\"automargin\":true,\"type\":\"pie\"}],\"scatter3d\":[{\"line\":{\"colorbar\":{\"outlinewidth\":0,\"ticks\":\"\"}},\"marker\":{\"colorbar\":{\"outlinewidth\":0,\"ticks\":\"\"}},\"type\":\"scatter3d\"}],\"scattercarpet\":[{\"marker\":{\"colorbar\":{\"outlinewidth\":0,\"ticks\":\"\"}},\"type\":\"scattercarpet\"}],\"scattergeo\":[{\"marker\":{\"colorbar\":{\"outlinewidth\":0,\"ticks\":\"\"}},\"type\":\"scattergeo\"}],\"scattergl\":[{\"marker\":{\"colorbar\":{\"outlinewidth\":0,\"ticks\":\"\"}},\"type\":\"scattergl\"}],\"scattermapbox\":[{\"marker\":{\"colorbar\":{\"outlinewidth\":0,\"ticks\":\"\"}},\"type\":\"scattermapbox\"}],\"scatterpolargl\":[{\"marker\":{\"colorbar\":{\"outlinewidth\":0,\"ticks\":\"\"}},\"type\":\"scatterpolargl\"}],\"scatterpolar\":[{\"marker\":{\"colorbar\":{\"outlinewidth\":0,\"ticks\":\"\"}},\"type\":\"scatterpolar\"}],\"scatter\":[{\"marker\":{\"colorbar\":{\"outlinewidth\":0,\"ticks\":\"\"}},\"type\":\"scatter\"}],\"scatterternary\":[{\"marker\":{\"colorbar\":{\"outlinewidth\":0,\"ticks\":\"\"}},\"type\":\"scatterternary\"}],\"surface\":[{\"colorbar\":{\"outlinewidth\":0,\"ticks\":\"\"},\"colorscale\":[[0.0,\"#0d0887\"],[0.1111111111111111,\"#46039f\"],[0.2222222222222222,\"#7201a8\"],[0.3333333333333333,\"#9c179e\"],[0.4444444444444444,\"#bd3786\"],[0.5555555555555556,\"#d8576b\"],[0.6666666666666666,\"#ed7953\"],[0.7777777777777778,\"#fb9f3a\"],[0.8888888888888888,\"#fdca26\"],[1.0,\"#f0f921\"]],\"type\":\"surface\"}],\"table\":[{\"cells\":{\"fill\":{\"color\":\"#EBF0F8\"},\"line\":{\"color\":\"white\"}},\"header\":{\"fill\":{\"color\":\"#C8D4E3\"},\"line\":{\"color\":\"white\"}},\"type\":\"table\"}]},\"layout\":{\"annotationdefaults\":{\"arrowcolor\":\"#2a3f5f\",\"arrowhead\":0,\"arrowwidth\":1},\"autotypenumbers\":\"strict\",\"coloraxis\":{\"colorbar\":{\"outlinewidth\":0,\"ticks\":\"\"}},\"colorscale\":{\"diverging\":[[0,\"#8e0152\"],[0.1,\"#c51b7d\"],[0.2,\"#de77ae\"],[0.3,\"#f1b6da\"],[0.4,\"#fde0ef\"],[0.5,\"#f7f7f7\"],[0.6,\"#e6f5d0\"],[0.7,\"#b8e186\"],[0.8,\"#7fbc41\"],[0.9,\"#4d9221\"],[1,\"#276419\"]],\"sequential\":[[0.0,\"#0d0887\"],[0.1111111111111111,\"#46039f\"],[0.2222222222222222,\"#7201a8\"],[0.3333333333333333,\"#9c179e\"],[0.4444444444444444,\"#bd3786\"],[0.5555555555555556,\"#d8576b\"],[0.6666666666666666,\"#ed7953\"],[0.7777777777777778,\"#fb9f3a\"],[0.8888888888888888,\"#fdca26\"],[1.0,\"#f0f921\"]],\"sequentialminus\":[[0.0,\"#0d0887\"],[0.1111111111111111,\"#46039f\"],[0.2222222222222222,\"#7201a8\"],[0.3333333333333333,\"#9c179e\"],[0.4444444444444444,\"#bd3786\"],[0.5555555555555556,\"#d8576b\"],[0.6666666666666666,\"#ed7953\"],[0.7777777777777778,\"#fb9f3a\"],[0.8888888888888888,\"#fdca26\"],[1.0,\"#f0f921\"]]},\"colorway\":[\"#636efa\",\"#EF553B\",\"#00cc96\",\"#ab63fa\",\"#FFA15A\",\"#19d3f3\",\"#FF6692\",\"#B6E880\",\"#FF97FF\",\"#FECB52\"],\"font\":{\"color\":\"#2a3f5f\"},\"geo\":{\"bgcolor\":\"white\",\"lakecolor\":\"white\",\"landcolor\":\"#E5ECF6\",\"showlakes\":true,\"showland\":true,\"subunitcolor\":\"white\"},\"hoverlabel\":{\"align\":\"left\"},\"hovermode\":\"closest\",\"mapbox\":{\"style\":\"light\"},\"paper_bgcolor\":\"white\",\"plot_bgcolor\":\"#E5ECF6\",\"polar\":{\"angularaxis\":{\"gridcolor\":\"white\",\"linecolor\":\"white\",\"ticks\":\"\"},\"bgcolor\":\"#E5ECF6\",\"radialaxis\":{\"gridcolor\":\"white\",\"linecolor\":\"white\",\"ticks\":\"\"}},\"scene\":{\"xaxis\":{\"backgroundcolor\":\"#E5ECF6\",\"gridcolor\":\"white\",\"gridwidth\":2,\"linecolor\":\"white\",\"showbackground\":true,\"ticks\":\"\",\"zerolinecolor\":\"white\"},\"yaxis\":{\"backgroundcolor\":\"#E5ECF6\",\"gridcolor\":\"white\",\"gridwidth\":2,\"linecolor\":\"white\",\"showbackground\":true,\"ticks\":\"\",\"zerolinecolor\":\"white\"},\"zaxis\":{\"backgroundcolor\":\"#E5ECF6\",\"gridcolor\":\"white\",\"gridwidth\":2,\"linecolor\":\"white\",\"showbackground\":true,\"ticks\":\"\",\"zerolinecolor\":\"white\"}},\"shapedefaults\":{\"line\":{\"color\":\"#2a3f5f\"}},\"ternary\":{\"aaxis\":{\"gridcolor\":\"white\",\"linecolor\":\"white\",\"ticks\":\"\"},\"baxis\":{\"gridcolor\":\"white\",\"linecolor\":\"white\",\"ticks\":\"\"},\"bgcolor\":\"#E5ECF6\",\"caxis\":{\"gridcolor\":\"white\",\"linecolor\":\"white\",\"ticks\":\"\"}},\"title\":{\"x\":0.05},\"xaxis\":{\"automargin\":true,\"gridcolor\":\"white\",\"linecolor\":\"white\",\"ticks\":\"\",\"title\":{\"standoff\":15},\"zerolinecolor\":\"white\",\"zerolinewidth\":2},\"yaxis\":{\"automargin\":true,\"gridcolor\":\"white\",\"linecolor\":\"white\",\"ticks\":\"\",\"title\":{\"standoff\":15},\"zerolinecolor\":\"white\",\"zerolinewidth\":2}}},\"title\":{\"font\":{\"color\":\"#4D5663\"}},\"xaxis\":{\"anchor\":\"y\",\"domain\":[0.0,0.2125],\"gridcolor\":\"#E1E5ED\",\"showgrid\":false,\"tickfont\":{\"color\":\"#4D5663\"},\"title\":{\"font\":{\"color\":\"#4D5663\"},\"text\":\"\"},\"zerolinecolor\":\"#E1E5ED\"},\"yaxis\":{\"anchor\":\"x\",\"domain\":[0.8025,1.0],\"gridcolor\":\"#E1E5ED\",\"showgrid\":false,\"tickfont\":{\"color\":\"#4D5663\"},\"title\":{\"font\":{\"color\":\"#4D5663\"},\"text\":\"\"},\"zerolinecolor\":\"#E1E5ED\"},\"xaxis2\":{\"anchor\":\"y2\",\"domain\":[0.2625,0.475],\"gridcolor\":\"#E1E5ED\",\"showgrid\":false,\"tickfont\":{\"color\":\"#4D5663\"},\"title\":{\"font\":{\"color\":\"#4D5663\"},\"text\":\"\"},\"zerolinecolor\":\"#E1E5ED\"},\"yaxis2\":{\"anchor\":\"x2\",\"domain\":[0.8025,1.0],\"gridcolor\":\"#E1E5ED\",\"showgrid\":false,\"tickfont\":{\"color\":\"#4D5663\"},\"title\":{\"font\":{\"color\":\"#4D5663\"},\"text\":\"\"},\"zerolinecolor\":\"#E1E5ED\"},\"xaxis3\":{\"anchor\":\"y3\",\"domain\":[0.525,0.7375],\"gridcolor\":\"#E1E5ED\",\"showgrid\":false,\"tickfont\":{\"color\":\"#4D5663\"},\"title\":{\"font\":{\"color\":\"#4D5663\"},\"text\":\"\"},\"zerolinecolor\":\"#E1E5ED\"},\"yaxis3\":{\"anchor\":\"x3\",\"domain\":[0.8025,1.0],\"gridcolor\":\"#E1E5ED\",\"showgrid\":false,\"tickfont\":{\"color\":\"#4D5663\"},\"title\":{\"font\":{\"color\":\"#4D5663\"},\"text\":\"\"},\"zerolinecolor\":\"#E1E5ED\"},\"xaxis4\":{\"anchor\":\"y4\",\"domain\":[0.7875,1.0],\"gridcolor\":\"#E1E5ED\",\"showgrid\":false,\"tickfont\":{\"color\":\"#4D5663\"},\"title\":{\"font\":{\"color\":\"#4D5663\"},\"text\":\"\"},\"zerolinecolor\":\"#E1E5ED\"},\"yaxis4\":{\"anchor\":\"x4\",\"domain\":[0.8025,1.0],\"gridcolor\":\"#E1E5ED\",\"showgrid\":false,\"tickfont\":{\"color\":\"#4D5663\"},\"title\":{\"font\":{\"color\":\"#4D5663\"},\"text\":\"\"},\"zerolinecolor\":\"#E1E5ED\"},\"xaxis5\":{\"anchor\":\"y5\",\"domain\":[0.0,0.2125],\"gridcolor\":\"#E1E5ED\",\"showgrid\":false,\"tickfont\":{\"color\":\"#4D5663\"},\"title\":{\"font\":{\"color\":\"#4D5663\"},\"text\":\"\"},\"zerolinecolor\":\"#E1E5ED\"},\"yaxis5\":{\"anchor\":\"x5\",\"domain\":[0.535,0.7325],\"gridcolor\":\"#E1E5ED\",\"showgrid\":false,\"tickfont\":{\"color\":\"#4D5663\"},\"title\":{\"font\":{\"color\":\"#4D5663\"},\"text\":\"\"},\"zerolinecolor\":\"#E1E5ED\"},\"xaxis6\":{\"anchor\":\"y6\",\"domain\":[0.2625,0.475],\"gridcolor\":\"#E1E5ED\",\"showgrid\":false,\"tickfont\":{\"color\":\"#4D5663\"},\"title\":{\"font\":{\"color\":\"#4D5663\"},\"text\":\"\"},\"zerolinecolor\":\"#E1E5ED\"},\"yaxis6\":{\"anchor\":\"x6\",\"domain\":[0.535,0.7325],\"gridcolor\":\"#E1E5ED\",\"showgrid\":false,\"tickfont\":{\"color\":\"#4D5663\"},\"title\":{\"font\":{\"color\":\"#4D5663\"},\"text\":\"\"},\"zerolinecolor\":\"#E1E5ED\"},\"xaxis7\":{\"anchor\":\"y7\",\"domain\":[0.525,0.7375],\"gridcolor\":\"#E1E5ED\",\"showgrid\":false,\"tickfont\":{\"color\":\"#4D5663\"},\"title\":{\"font\":{\"color\":\"#4D5663\"},\"text\":\"\"},\"zerolinecolor\":\"#E1E5ED\"},\"yaxis7\":{\"anchor\":\"x7\",\"domain\":[0.535,0.7325],\"gridcolor\":\"#E1E5ED\",\"showgrid\":false,\"tickfont\":{\"color\":\"#4D5663\"},\"title\":{\"font\":{\"color\":\"#4D5663\"},\"text\":\"\"},\"zerolinecolor\":\"#E1E5ED\"},\"xaxis8\":{\"anchor\":\"y8\",\"domain\":[0.7875,1.0],\"gridcolor\":\"#E1E5ED\",\"showgrid\":false,\"tickfont\":{\"color\":\"#4D5663\"},\"title\":{\"font\":{\"color\":\"#4D5663\"},\"text\":\"\"},\"zerolinecolor\":\"#E1E5ED\"},\"yaxis8\":{\"anchor\":\"x8\",\"domain\":[0.535,0.7325],\"gridcolor\":\"#E1E5ED\",\"showgrid\":false,\"tickfont\":{\"color\":\"#4D5663\"},\"title\":{\"font\":{\"color\":\"#4D5663\"},\"text\":\"\"},\"zerolinecolor\":\"#E1E5ED\"},\"xaxis9\":{\"anchor\":\"y9\",\"domain\":[0.0,0.2125],\"gridcolor\":\"#E1E5ED\",\"showgrid\":false,\"tickfont\":{\"color\":\"#4D5663\"},\"title\":{\"font\":{\"color\":\"#4D5663\"},\"text\":\"\"},\"zerolinecolor\":\"#E1E5ED\"},\"yaxis9\":{\"anchor\":\"x9\",\"domain\":[0.2675,0.465],\"gridcolor\":\"#E1E5ED\",\"showgrid\":false,\"tickfont\":{\"color\":\"#4D5663\"},\"title\":{\"font\":{\"color\":\"#4D5663\"},\"text\":\"\"},\"zerolinecolor\":\"#E1E5ED\"},\"xaxis10\":{\"anchor\":\"y10\",\"domain\":[0.2625,0.475],\"gridcolor\":\"#E1E5ED\",\"showgrid\":false,\"tickfont\":{\"color\":\"#4D5663\"},\"title\":{\"font\":{\"color\":\"#4D5663\"},\"text\":\"\"},\"zerolinecolor\":\"#E1E5ED\"},\"yaxis10\":{\"anchor\":\"x10\",\"domain\":[0.2675,0.465],\"gridcolor\":\"#E1E5ED\",\"showgrid\":false,\"tickfont\":{\"color\":\"#4D5663\"},\"title\":{\"font\":{\"color\":\"#4D5663\"},\"text\":\"\"},\"zerolinecolor\":\"#E1E5ED\"},\"xaxis11\":{\"anchor\":\"y11\",\"domain\":[0.525,0.7375],\"gridcolor\":\"#E1E5ED\",\"showgrid\":false,\"tickfont\":{\"color\":\"#4D5663\"},\"title\":{\"font\":{\"color\":\"#4D5663\"},\"text\":\"\"},\"zerolinecolor\":\"#E1E5ED\"},\"yaxis11\":{\"anchor\":\"x11\",\"domain\":[0.2675,0.465],\"gridcolor\":\"#E1E5ED\",\"showgrid\":false,\"tickfont\":{\"color\":\"#4D5663\"},\"title\":{\"font\":{\"color\":\"#4D5663\"},\"text\":\"\"},\"zerolinecolor\":\"#E1E5ED\"},\"xaxis12\":{\"anchor\":\"y12\",\"domain\":[0.7875,1.0],\"gridcolor\":\"#E1E5ED\",\"showgrid\":false,\"tickfont\":{\"color\":\"#4D5663\"},\"title\":{\"font\":{\"color\":\"#4D5663\"},\"text\":\"\"},\"zerolinecolor\":\"#E1E5ED\"},\"yaxis12\":{\"anchor\":\"x12\",\"domain\":[0.2675,0.465],\"gridcolor\":\"#E1E5ED\",\"showgrid\":false,\"tickfont\":{\"color\":\"#4D5663\"},\"title\":{\"font\":{\"color\":\"#4D5663\"},\"text\":\"\"},\"zerolinecolor\":\"#E1E5ED\"},\"xaxis13\":{\"anchor\":\"y13\",\"domain\":[0.0,0.2125],\"gridcolor\":\"#E1E5ED\",\"showgrid\":false,\"tickfont\":{\"color\":\"#4D5663\"},\"title\":{\"font\":{\"color\":\"#4D5663\"},\"text\":\"\"},\"zerolinecolor\":\"#E1E5ED\"},\"yaxis13\":{\"anchor\":\"x13\",\"domain\":[0.0,0.1975],\"gridcolor\":\"#E1E5ED\",\"showgrid\":false,\"tickfont\":{\"color\":\"#4D5663\"},\"title\":{\"font\":{\"color\":\"#4D5663\"},\"text\":\"\"},\"zerolinecolor\":\"#E1E5ED\"},\"xaxis14\":{\"anchor\":\"y14\",\"domain\":[0.2625,0.475],\"gridcolor\":\"#E1E5ED\",\"showgrid\":false,\"tickfont\":{\"color\":\"#4D5663\"},\"title\":{\"font\":{\"color\":\"#4D5663\"},\"text\":\"\"},\"zerolinecolor\":\"#E1E5ED\"},\"yaxis14\":{\"anchor\":\"x14\",\"domain\":[0.0,0.1975],\"gridcolor\":\"#E1E5ED\",\"showgrid\":false,\"tickfont\":{\"color\":\"#4D5663\"},\"title\":{\"font\":{\"color\":\"#4D5663\"},\"text\":\"\"},\"zerolinecolor\":\"#E1E5ED\"},\"xaxis15\":{\"anchor\":\"y15\",\"domain\":[0.525,0.7375],\"gridcolor\":\"#E1E5ED\",\"showgrid\":false,\"tickfont\":{\"color\":\"#4D5663\"},\"title\":{\"font\":{\"color\":\"#4D5663\"},\"text\":\"\"},\"zerolinecolor\":\"#E1E5ED\"},\"yaxis15\":{\"anchor\":\"x15\",\"domain\":[0.0,0.1975],\"gridcolor\":\"#E1E5ED\",\"showgrid\":false,\"tickfont\":{\"color\":\"#4D5663\"},\"title\":{\"font\":{\"color\":\"#4D5663\"},\"text\":\"\"},\"zerolinecolor\":\"#E1E5ED\"},\"xaxis16\":{\"anchor\":\"y16\",\"domain\":[0.7875,1.0],\"gridcolor\":\"#E1E5ED\",\"showgrid\":false,\"tickfont\":{\"color\":\"#4D5663\"},\"title\":{\"font\":{\"color\":\"#4D5663\"},\"text\":\"\"},\"zerolinecolor\":\"#E1E5ED\"},\"yaxis16\":{\"anchor\":\"x16\",\"domain\":[0.0,0.1975],\"gridcolor\":\"#E1E5ED\",\"showgrid\":false,\"tickfont\":{\"color\":\"#4D5663\"},\"title\":{\"font\":{\"color\":\"#4D5663\"},\"text\":\"\"},\"zerolinecolor\":\"#E1E5ED\"}},                        {\"showLink\": true, \"linkText\": \"Export to plot.ly\", \"plotlyServerURL\": \"https://plot.ly\", \"responsive\": true}                    ).then(function(){\n",
       "                            \n",
       "var gd = document.getElementById('cae9be0b-7a94-460d-9c03-eb6e2b806dfc');\n",
       "var x = new MutationObserver(function (mutations, observer) {{\n",
       "        var display = window.getComputedStyle(gd).display;\n",
       "        if (!display || display === 'none') {{\n",
       "            console.log([gd, 'removed!']);\n",
       "            Plotly.purge(gd);\n",
       "            observer.disconnect();\n",
       "        }}\n",
       "}});\n",
       "\n",
       "// Listen for the removal of the full notebook cells\n",
       "var notebookContainer = gd.closest('#notebook-container');\n",
       "if (notebookContainer) {{\n",
       "    x.observe(notebookContainer, {childList: true});\n",
       "}}\n",
       "\n",
       "// Listen for the clearing of the current output cell\n",
       "var outputEl = gd.closest('.output');\n",
       "if (outputEl) {{\n",
       "    x.observe(outputEl, {childList: true});\n",
       "}}\n",
       "\n",
       "                        })                };                });            </script>        </div>"
      ]
     },
     "metadata": {},
     "output_type": "display_data"
    }
   ],
   "source": [
    "df.scatter_matrix()"
   ]
  },
  {
   "cell_type": "code",
   "execution_count": null,
   "id": "527920c0",
   "metadata": {},
   "outputs": [],
   "source": []
  }
 ],
 "metadata": {
  "kernelspec": {
   "display_name": "Python 3 (ipykernel)",
   "language": "python",
   "name": "python3"
  },
  "language_info": {
   "codemirror_mode": {
    "name": "ipython",
    "version": 3
   },
   "file_extension": ".py",
   "mimetype": "text/x-python",
   "name": "python",
   "nbconvert_exporter": "python",
   "pygments_lexer": "ipython3",
   "version": "3.9.7"
  }
 },
 "nbformat": 4,
 "nbformat_minor": 5
}
