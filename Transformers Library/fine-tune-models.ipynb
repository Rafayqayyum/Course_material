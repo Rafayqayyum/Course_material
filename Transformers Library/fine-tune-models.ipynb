{
  "cells": [
    {
      "cell_type": "markdown",
      "metadata": {
        "id": "tRE7CkSewf-1"
      },
      "source": [
        "# Fine-Tuning Transformer Models"
      ]
    },
    {
      "cell_type": "code",
      "execution_count": null,
      "metadata": {
        "colab": {
          "base_uri": "https://localhost:8080/"
        },
        "id": "qw7IunjCiZah",
        "outputId": "da190d79-d2f8-46bd-d6b2-ed534a8603d9"
      },
      "outputs": [
        {
          "output_type": "stream",
          "name": "stdout",
          "text": [
            "Collecting transformers[torch]\n",
            "  Downloading transformers-4.32.1-py3-none-any.whl (7.5 MB)\n",
            "\u001b[2K     \u001b[90m━━━━━━━━━━━━━━━━━━━━━━━━━━━━━━━━━━━━━━━━\u001b[0m \u001b[32m7.5/7.5 MB\u001b[0m \u001b[31m55.4 MB/s\u001b[0m eta \u001b[36m0:00:00\u001b[0m\n",
            "\u001b[?25hRequirement already satisfied: filelock in /usr/local/lib/python3.10/dist-packages (from transformers[torch]) (3.12.2)\n",
            "Collecting huggingface-hub<1.0,>=0.15.1 (from transformers[torch])\n",
            "  Downloading huggingface_hub-0.16.4-py3-none-any.whl (268 kB)\n",
            "\u001b[2K     \u001b[90m━━━━━━━━━━━━━━━━━━━━━━━━━━━━━━━━━━━━━━\u001b[0m \u001b[32m268.8/268.8 kB\u001b[0m \u001b[31m29.6 MB/s\u001b[0m eta \u001b[36m0:00:00\u001b[0m\n",
            "\u001b[?25hRequirement already satisfied: numpy>=1.17 in /usr/local/lib/python3.10/dist-packages (from transformers[torch]) (1.23.5)\n",
            "Requirement already satisfied: packaging>=20.0 in /usr/local/lib/python3.10/dist-packages (from transformers[torch]) (23.1)\n",
            "Requirement already satisfied: pyyaml>=5.1 in /usr/local/lib/python3.10/dist-packages (from transformers[torch]) (6.0.1)\n",
            "Requirement already satisfied: regex!=2019.12.17 in /usr/local/lib/python3.10/dist-packages (from transformers[torch]) (2023.6.3)\n",
            "Requirement already satisfied: requests in /usr/local/lib/python3.10/dist-packages (from transformers[torch]) (2.31.0)\n",
            "Collecting tokenizers!=0.11.3,<0.14,>=0.11.1 (from transformers[torch])\n",
            "  Downloading tokenizers-0.13.3-cp310-cp310-manylinux_2_17_x86_64.manylinux2014_x86_64.whl (7.8 MB)\n",
            "\u001b[2K     \u001b[90m━━━━━━━━━━━━━━━━━━━━━━━━━━━━━━━━━━━━━━━━\u001b[0m \u001b[32m7.8/7.8 MB\u001b[0m \u001b[31m110.4 MB/s\u001b[0m eta \u001b[36m0:00:00\u001b[0m\n",
            "\u001b[?25hCollecting safetensors>=0.3.1 (from transformers[torch])\n",
            "  Downloading safetensors-0.3.3-cp310-cp310-manylinux_2_17_x86_64.manylinux2014_x86_64.whl (1.3 MB)\n",
            "\u001b[2K     \u001b[90m━━━━━━━━━━━━━━━━━━━━━━━━━━━━━━━━━━━━━━━━\u001b[0m \u001b[32m1.3/1.3 MB\u001b[0m \u001b[31m84.6 MB/s\u001b[0m eta \u001b[36m0:00:00\u001b[0m\n",
            "\u001b[?25hRequirement already satisfied: tqdm>=4.27 in /usr/local/lib/python3.10/dist-packages (from transformers[torch]) (4.66.1)\n",
            "Requirement already satisfied: torch!=1.12.0,>=1.9 in /usr/local/lib/python3.10/dist-packages (from transformers[torch]) (2.0.1+cu118)\n",
            "Collecting accelerate>=0.20.3 (from transformers[torch])\n",
            "  Downloading accelerate-0.22.0-py3-none-any.whl (251 kB)\n",
            "\u001b[2K     \u001b[90m━━━━━━━━━━━━━━━━━━━━━━━━━━━━━━━━━━━━━━\u001b[0m \u001b[32m251.2/251.2 kB\u001b[0m \u001b[31m31.5 MB/s\u001b[0m eta \u001b[36m0:00:00\u001b[0m\n",
            "\u001b[?25hRequirement already satisfied: psutil in /usr/local/lib/python3.10/dist-packages (from accelerate>=0.20.3->transformers[torch]) (5.9.5)\n",
            "Requirement already satisfied: fsspec in /usr/local/lib/python3.10/dist-packages (from huggingface-hub<1.0,>=0.15.1->transformers[torch]) (2023.6.0)\n",
            "Requirement already satisfied: typing-extensions>=3.7.4.3 in /usr/local/lib/python3.10/dist-packages (from huggingface-hub<1.0,>=0.15.1->transformers[torch]) (4.7.1)\n",
            "Requirement already satisfied: sympy in /usr/local/lib/python3.10/dist-packages (from torch!=1.12.0,>=1.9->transformers[torch]) (1.12)\n",
            "Requirement already satisfied: networkx in /usr/local/lib/python3.10/dist-packages (from torch!=1.12.0,>=1.9->transformers[torch]) (3.1)\n",
            "Requirement already satisfied: jinja2 in /usr/local/lib/python3.10/dist-packages (from torch!=1.12.0,>=1.9->transformers[torch]) (3.1.2)\n",
            "Requirement already satisfied: triton==2.0.0 in /usr/local/lib/python3.10/dist-packages (from torch!=1.12.0,>=1.9->transformers[torch]) (2.0.0)\n",
            "Requirement already satisfied: cmake in /usr/local/lib/python3.10/dist-packages (from triton==2.0.0->torch!=1.12.0,>=1.9->transformers[torch]) (3.27.2)\n",
            "Requirement already satisfied: lit in /usr/local/lib/python3.10/dist-packages (from triton==2.0.0->torch!=1.12.0,>=1.9->transformers[torch]) (16.0.6)\n",
            "Requirement already satisfied: charset-normalizer<4,>=2 in /usr/local/lib/python3.10/dist-packages (from requests->transformers[torch]) (3.2.0)\n",
            "Requirement already satisfied: idna<4,>=2.5 in /usr/local/lib/python3.10/dist-packages (from requests->transformers[torch]) (3.4)\n",
            "Requirement already satisfied: urllib3<3,>=1.21.1 in /usr/local/lib/python3.10/dist-packages (from requests->transformers[torch]) (2.0.4)\n",
            "Requirement already satisfied: certifi>=2017.4.17 in /usr/local/lib/python3.10/dist-packages (from requests->transformers[torch]) (2023.7.22)\n",
            "Requirement already satisfied: MarkupSafe>=2.0 in /usr/local/lib/python3.10/dist-packages (from jinja2->torch!=1.12.0,>=1.9->transformers[torch]) (2.1.3)\n",
            "Requirement already satisfied: mpmath>=0.19 in /usr/local/lib/python3.10/dist-packages (from sympy->torch!=1.12.0,>=1.9->transformers[torch]) (1.3.0)\n",
            "Installing collected packages: tokenizers, safetensors, huggingface-hub, transformers, accelerate\n",
            "Successfully installed accelerate-0.22.0 huggingface-hub-0.16.4 safetensors-0.3.3 tokenizers-0.13.3 transformers-4.32.1\n"
          ]
        }
      ],
      "source": [
        "!pip install transformers[torch]"
      ]
    },
    {
      "cell_type": "markdown",
      "metadata": {
        "id": "GyRGUpSUxU1I"
      },
      "source": [
        "## Learning Tokenizer class: AutoTokenizer"
      ]
    },
    {
      "cell_type": "markdown",
      "metadata": {
        "id": "4jOzYumQ3DKO"
      },
      "source": [
        "### Basics"
      ]
    },
    {
      "cell_type": "markdown",
      "metadata": {
        "id": "LSzJ-TMqw2gD"
      },
      "source": [
        "AutoTokenizer is a generic class for the tokenizers in hugging face Transformer library. Instead of using Specific tokenizers from the library, we can use this to make our code more generic. It will download the tokenizer you specify"
      ]
    },
    {
      "cell_type": "code",
      "execution_count": null,
      "metadata": {
        "colab": {
          "base_uri": "https://localhost:8080/",
          "height": 145,
          "referenced_widgets": [
            "7b43797a423a4ea891bab9a3bc57e20d",
            "283daed71386453e9c14d485ac5a09ac",
            "76088e5a749b4ecdb034618e196ff1d3",
            "3515958b2b9649f0b6ca6882f57651c2",
            "a979db303a604f9c9caee856f99c047a",
            "3fe6cbb1ba5c4f1885c7e5c45a0e6023",
            "938d0579da92489b81d40b0705aae031",
            "bc04128c674e4f68a7242d7f468e0351",
            "0a6530aebaec42b4bc27d05884eafbb9",
            "c58a2ebfdc85458aa25e681e3d6a36c2",
            "b6a28e7e61c441bbaf5e2033a4a4070b",
            "ba4581bdf5854e30b362bd208043520b",
            "8b6566b7715e48368b145984377949cd",
            "d79f55fdaf004ddea165bf5c241eca59",
            "cdce98fa6bef4597a58620d747092b52",
            "042f590e18c447769adfe7e9c30dd3f0",
            "3e7e591b149b452280ec098a7d43faa7",
            "a8f8f3ab86ca42c49ef6014be1c852a9",
            "c19da8f5270a4dbf8ea36b9c412f9133",
            "b5082a65b3484e31949666ddac9e0cf0",
            "944ad2dc7108446fbc91a343a523e978",
            "979531d339ad4b398975ce405e2bc7be",
            "88fcdac85e98442bacc0b2dca0b05e53",
            "3dff6d557c7e4051a7244d5dcb90aca2",
            "901df530abb844bea8e6b7477d4d43e1",
            "1dabb16ea7c4417382aac72690fb7743",
            "8c60bb5274dd4e05ba9a3d20e6fa45e1",
            "ee4d791e6daa401eb8d08d743a226930",
            "e1509ea2721e4c20af52fbf198210a18",
            "270c5775368d4407a1a12e9ee7251e1f",
            "1a35299253b74a62b3bef35130c1c482",
            "4f5fad5ae2384e2cabab45fe2f0b39a3",
            "d7425af56de94b63b1969074df501fb5",
            "2f15e17419884e699a6b6880d9b1b8fa",
            "80a06ab5c9ec447899400c00af18f450",
            "3ee00f4ccf95411295c60169766a4a00",
            "6f2de7e0f100475d977752cd1462d77d",
            "7207fb08d65c45949a0a0ba96ca44e36",
            "f3a989288b634498beec9f6438f13711",
            "4cbc3220877c4a2ba8d3ee6d3938f0c1",
            "5799772da8ab447a8d265335ff25c939",
            "0030e4baa56a48d0835fed1d107a2efb",
            "8d5bdca116474008a74a639beb782af6",
            "a5b5a78bae544ca6bcc5382a16f1d889"
          ]
        },
        "id": "COgjB0YGwopG",
        "outputId": "62413dbc-b8b4-4c67-ca0d-0a4404ec3370"
      },
      "outputs": [
        {
          "output_type": "display_data",
          "data": {
            "text/plain": [
              "Downloading (…)okenizer_config.json:   0%|          | 0.00/29.0 [00:00<?, ?B/s]"
            ],
            "application/vnd.jupyter.widget-view+json": {
              "version_major": 2,
              "version_minor": 0,
              "model_id": "7b43797a423a4ea891bab9a3bc57e20d"
            }
          },
          "metadata": {}
        },
        {
          "output_type": "display_data",
          "data": {
            "text/plain": [
              "Downloading (…)lve/main/config.json:   0%|          | 0.00/570 [00:00<?, ?B/s]"
            ],
            "application/vnd.jupyter.widget-view+json": {
              "version_major": 2,
              "version_minor": 0,
              "model_id": "ba4581bdf5854e30b362bd208043520b"
            }
          },
          "metadata": {}
        },
        {
          "output_type": "display_data",
          "data": {
            "text/plain": [
              "Downloading (…)solve/main/vocab.txt:   0%|          | 0.00/213k [00:00<?, ?B/s]"
            ],
            "application/vnd.jupyter.widget-view+json": {
              "version_major": 2,
              "version_minor": 0,
              "model_id": "88fcdac85e98442bacc0b2dca0b05e53"
            }
          },
          "metadata": {}
        },
        {
          "output_type": "display_data",
          "data": {
            "text/plain": [
              "Downloading (…)/main/tokenizer.json:   0%|          | 0.00/436k [00:00<?, ?B/s]"
            ],
            "application/vnd.jupyter.widget-view+json": {
              "version_major": 2,
              "version_minor": 0,
              "model_id": "2f15e17419884e699a6b6880d9b1b8fa"
            }
          },
          "metadata": {}
        }
      ],
      "source": [
        "from transformers import AutoTokenizer\n",
        "checkpoint='bert-base-cased'\n",
        "tokenizer=AutoTokenizer.from_pretrained(checkpoint)"
      ]
    },
    {
      "cell_type": "code",
      "execution_count": null,
      "metadata": {
        "id": "dZuOjcs4xK_2",
        "colab": {
          "base_uri": "https://localhost:8080/"
        },
        "outputId": "637def37-f117-42f3-a576-c8acb10cbe01"
      },
      "outputs": [
        {
          "output_type": "execute_result",
          "data": {
            "text/plain": [
              "{'input_ids': [101, 19082, 1362, 102], 'token_type_ids': [0, 0, 0, 0], 'attention_mask': [1, 1, 1, 1]}"
            ]
          },
          "metadata": {},
          "execution_count": 3
        }
      ],
      "source": [
        "tokenizer(\"hello world\")"
      ]
    },
    {
      "cell_type": "code",
      "execution_count": null,
      "metadata": {
        "id": "q7Vv1jD1xtUv"
      },
      "outputs": [],
      "source": [
        "save=tokenizer(\"hello rafay\")"
      ]
    },
    {
      "cell_type": "code",
      "execution_count": null,
      "metadata": {
        "id": "D39ZDevVyEz0",
        "colab": {
          "base_uri": "https://localhost:8080/"
        },
        "outputId": "0bc61742-adaa-49cf-cb8b-5b0cf842c999"
      },
      "outputs": [
        {
          "output_type": "execute_result",
          "data": {
            "text/plain": [
              "{'input_ids': [101, 19082, 187, 9823, 4164, 102], 'token_type_ids': [0, 0, 0, 0, 0, 0], 'attention_mask': [1, 1, 1, 1, 1, 1]}"
            ]
          },
          "metadata": {},
          "execution_count": 5
        }
      ],
      "source": [
        "save"
      ]
    },
    {
      "cell_type": "markdown",
      "metadata": {
        "id": "EK9O_WMrxTvH"
      },
      "source": [
        "We got three keys in the dictionary.\n",
        "\n",
        "* First, is the input_ids that corresponds to the integer ids of the tokens, Since the tokenizers can be of different types such as word tokenizer, character tokenizer or sub-word tokenizers, the length will not always be same as the no of tokens or characters.\n",
        "* Second is the token_type_ids\n",
        "* Third is attention_mask, These tell our models where to look and where to ignore the inputs. Where the attention mask is 0, our model will ignore those tokens\n",
        "* These might be present for some models and not for others. Like token_type_ids will be present for BERT but not DistilBERT"
      ]
    },
    {
      "cell_type": "markdown",
      "metadata": {
        "id": "UEBeCXCg3FLy"
      },
      "source": [
        "### Functions for step by step"
      ]
    },
    {
      "cell_type": "code",
      "execution_count": null,
      "metadata": {
        "id": "euil2d6Cy9c0",
        "colab": {
          "base_uri": "https://localhost:8080/"
        },
        "outputId": "41892a14-cca7-43a4-ad53-e975073e61e1"
      },
      "outputs": [
        {
          "output_type": "stream",
          "name": "stdout",
          "text": [
            "['hello', 'world']\n",
            "[19082, 1362]\n",
            "[101, 19082, 1362, 102]\n",
            "['[CLS]', 'hello', 'world', '[SEP]']\n",
            "[CLS] hello world [SEP]\n"
          ]
        }
      ],
      "source": [
        "# we can do this step by step just to get more\n",
        "# indepth knowledge of what's happening inside them\n",
        "tokenized=tokenizer.tokenize(\"hello world\")\n",
        "print(tokenized)\n",
        "ids=tokenizer.convert_tokens_to_ids(tokenized)\n",
        "print(ids)\n",
        "# these steps can be done together using the encode method but it also\n",
        "# adds the model specific tokens such as [CLS] and [SEP]\n",
        "ids=tokenizer.encode('hello world')\n",
        "print(ids)\n",
        "# decoding the ids back to tokens\n",
        "tokens=tokenizer.convert_ids_to_tokens(ids)\n",
        "print(tokens)\n",
        "# decoding the ids back to string\n",
        "text=tokenizer.decode(ids)\n",
        "print(text)"
      ]
    },
    {
      "cell_type": "markdown",
      "metadata": {
        "id": "XI6ukuBfze-J"
      },
      "source": [
        "The tokenizer returned dictionaries but you can get them in these types as well\n",
        "\n",
        "* \"pt\" pytorch tensor\n",
        "* \"tf\" tensorflow tensor\n",
        "* 'np' as numpy"
      ]
    },
    {
      "cell_type": "code",
      "execution_count": null,
      "metadata": {
        "id": "HPNysGnT2xU5",
        "colab": {
          "base_uri": "https://localhost:8080/"
        },
        "outputId": "b4facf47-0546-4920-dd8d-737de118feb6"
      },
      "outputs": [
        {
          "output_type": "execute_result",
          "data": {
            "text/plain": [
              "{'input_ids': array([[  101, 19082,  1362,   102]]), 'token_type_ids': array([[0, 0, 0, 0]]), 'attention_mask': array([[1, 1, 1, 1]])}"
            ]
          },
          "metadata": {},
          "execution_count": 7
        }
      ],
      "source": [
        "tokenizer(\"hello world\",return_tensors='np')"
      ]
    },
    {
      "cell_type": "code",
      "execution_count": null,
      "metadata": {
        "id": "_Ece8FV-21Cg",
        "colab": {
          "base_uri": "https://localhost:8080/"
        },
        "outputId": "0a01cf56-4c1f-49f9-bf57-d30d85320817"
      },
      "outputs": [
        {
          "output_type": "execute_result",
          "data": {
            "text/plain": [
              "{'input_ids': <tf.Tensor: shape=(1, 4), dtype=int32, numpy=array([[  101, 19082,  1362,   102]], dtype=int32)>, 'token_type_ids': <tf.Tensor: shape=(1, 4), dtype=int32, numpy=array([[0, 0, 0, 0]], dtype=int32)>, 'attention_mask': <tf.Tensor: shape=(1, 4), dtype=int32, numpy=array([[1, 1, 1, 1]], dtype=int32)>}"
            ]
          },
          "metadata": {},
          "execution_count": 8
        }
      ],
      "source": [
        "tokenizer(\"hello world\",return_tensors='tf')"
      ]
    },
    {
      "cell_type": "code",
      "execution_count": null,
      "metadata": {
        "id": "nuhdFmf726n2",
        "colab": {
          "base_uri": "https://localhost:8080/"
        },
        "outputId": "904dd9b5-fc57-453f-b94b-bee0f8f20d2d"
      },
      "outputs": [
        {
          "output_type": "execute_result",
          "data": {
            "text/plain": [
              "{'input_ids': tensor([[  101, 19082,  1362,   102]]), 'token_type_ids': tensor([[0, 0, 0, 0]]), 'attention_mask': tensor([[1, 1, 1, 1]])}"
            ]
          },
          "metadata": {},
          "execution_count": 9
        }
      ],
      "source": [
        "tokenizer(\"hello world\",return_tensors='pt')"
      ]
    },
    {
      "cell_type": "markdown",
      "metadata": {
        "id": "tBApMl3K28Bu"
      },
      "source": [
        "### Multiple inputs"
      ]
    },
    {
      "cell_type": "markdown",
      "metadata": {
        "id": "80VjuxLB3eZJ"
      },
      "source": [
        "Why the error occurs? because there is no such things as ragged tensors, they should be of the same length, so you'll need to pass truncate and padding parameter to convert all the sentences to same shape"
      ]
    },
    {
      "cell_type": "code",
      "execution_count": null,
      "metadata": {
        "id": "GXOPzY3l3Mk3"
      },
      "outputs": [],
      "source": [
        "data=[\n",
        "    'I like cats.',\n",
        "    'Do you like cats too?',\n",
        "]\n",
        "# model_inputs=tokenizer(data) # Works, but model won't accept\n",
        "# model_inputs=tokenizer(data,return_tensors='pt') # Error"
      ]
    },
    {
      "cell_type": "code",
      "execution_count": null,
      "metadata": {
        "id": "66ZTRRAM3Vv7",
        "colab": {
          "base_uri": "https://localhost:8080/"
        },
        "outputId": "39ece93c-f4bb-4598-e239-e65d4c340a3f"
      },
      "outputs": [
        {
          "output_type": "stream",
          "name": "stdout",
          "text": [
            "{'input_ids': tensor([[  101,   146,  1176, 11771,   119,   102,     0,     0],\n",
            "        [  101,  2091,  1128,  1176, 11771,  1315,   136,   102]]), 'token_type_ids': tensor([[0, 0, 0, 0, 0, 0, 0, 0],\n",
            "        [0, 0, 0, 0, 0, 0, 0, 0]]), 'attention_mask': tensor([[1, 1, 1, 1, 1, 1, 0, 0],\n",
            "        [1, 1, 1, 1, 1, 1, 1, 1]])}\n"
          ]
        }
      ],
      "source": [
        "# Now, it will pad the short sentences and truncate the longer one\n",
        "# if needed\n",
        "model_inputs=tokenizer(data,return_tensors='pt',truncation=True,padding=True)\n",
        "print(model_inputs)"
      ]
    },
    {
      "cell_type": "markdown",
      "metadata": {
        "id": "ryFOdoLD35ct"
      },
      "source": [
        "## Learning AutoModelForSequenceClassification"
      ]
    },
    {
      "cell_type": "code",
      "execution_count": null,
      "metadata": {
        "id": "2Ns0BpUE5S5j"
      },
      "outputs": [],
      "source": [
        "from transformers import AutoModelForSequenceClassification"
      ]
    },
    {
      "cell_type": "code",
      "execution_count": null,
      "metadata": {
        "id": "Nw8gJpbf5Wa9",
        "colab": {
          "base_uri": "https://localhost:8080/",
          "height": 104,
          "referenced_widgets": [
            "2af4f6d6d117481da72550fb48a3f2f7",
            "3293389601e941a0b7aa0d2fda66b1e5",
            "6bf8f0b0b24c4bf088b540fa0acd201f",
            "7793aac7c5244cd094408891516a7142",
            "91dcc200206245428b7c4163bc72584e",
            "7276c989ec0d42aba3d1e84996709b91",
            "3ad5b75db7b94914973dc1c45328888b",
            "6307d99361ad407ca62250120c437d02",
            "0bb518df1a6c458887dd1d2f219e5742",
            "823ce90f11114df48b5d3d77da384473",
            "22bc8d5d9e1543848637d68ee3407e4a"
          ]
        },
        "outputId": "fbebd558-e795-4ae7-de36-5047817ea25b"
      },
      "outputs": [
        {
          "output_type": "display_data",
          "data": {
            "text/plain": [
              "Downloading model.safetensors:   0%|          | 0.00/436M [00:00<?, ?B/s]"
            ],
            "application/vnd.jupyter.widget-view+json": {
              "version_major": 2,
              "version_minor": 0,
              "model_id": "2af4f6d6d117481da72550fb48a3f2f7"
            }
          },
          "metadata": {}
        },
        {
          "output_type": "stream",
          "name": "stderr",
          "text": [
            "Some weights of BertForSequenceClassification were not initialized from the model checkpoint at bert-base-cased and are newly initialized: ['classifier.bias', 'classifier.weight']\n",
            "You should probably TRAIN this model on a down-stream task to be able to use it for predictions and inference.\n"
          ]
        }
      ],
      "source": [
        "model=AutoModelForSequenceClassification.from_pretrained(checkpoint)"
      ]
    },
    {
      "cell_type": "markdown",
      "metadata": {
        "id": "6-Vx5Nok5eu9"
      },
      "source": [
        "```Some weights of BertForSequenceClassification were not initialized from the model checkpoint at bert-base-cased and are newly initialized: ['classifier.weight', 'classifier.bias']\n",
        "You should probably TRAIN this model on a down-stream task to be able to use it for predictions and inference.```\n",
        "\n",
        "What does this warning mean? This shows that the head of the model which was being used for another task has been cut and the body remains the same. A new head is added which is a dense layer with K neurons. By default, the K is 2 which can be changed by specifying **num_labels** parameter"
      ]
    },
    {
      "cell_type": "code",
      "execution_count": null,
      "metadata": {
        "id": "bhaeychm6U70"
      },
      "outputs": [],
      "source": [
        "outputs=model(**model_inputs)"
      ]
    },
    {
      "cell_type": "code",
      "execution_count": null,
      "metadata": {
        "id": "xHxARqaM6aN0",
        "colab": {
          "base_uri": "https://localhost:8080/"
        },
        "outputId": "fa38cb21-12fa-42af-9ebf-93b4cf84bdc2"
      },
      "outputs": [
        {
          "output_type": "stream",
          "name": "stdout",
          "text": [
            "SequenceClassifierOutput(loss=None, logits=tensor([[-0.1157,  0.4246],\n",
            "        [-0.0649,  0.4632]], grad_fn=<AddmmBackward0>), hidden_states=None, attentions=None)\n"
          ]
        }
      ],
      "source": [
        "print(outputs)"
      ]
    },
    {
      "cell_type": "markdown",
      "metadata": {
        "id": "gWiWb5E56bpk"
      },
      "source": [
        "What we get as outputs are the **logits(fancy name for values before applying the softmax)**\n",
        "Softmax converts the output of a layer into probability distribution"
      ]
    },
    {
      "cell_type": "code",
      "execution_count": null,
      "metadata": {
        "id": "mUCIM-5q7hIF",
        "colab": {
          "base_uri": "https://localhost:8080/"
        },
        "outputId": "c209e5bf-9cd5-4e89-cc1b-e013cf3e891b"
      },
      "outputs": [
        {
          "output_type": "stream",
          "name": "stdout",
          "text": [
            "tensor([[-0.1157,  0.4246],\n",
            "        [-0.0649,  0.4632]], grad_fn=<AddmmBackward0>)\n",
            "tensor([[-0.1157,  0.4246],\n",
            "        [-0.0649,  0.4632]], grad_fn=<AddmmBackward0>)\n",
            "tensor([[-0.1157,  0.4246],\n",
            "        [-0.0649,  0.4632]], grad_fn=<AddmmBackward0>)\n",
            "[[-0.11572424  0.4246305 ]\n",
            " [-0.06491487  0.4632028 ]]\n"
          ]
        }
      ],
      "source": [
        "print(outputs.logits)\n",
        "print(outputs[0])\n",
        "print(outputs['logits'])\n",
        "print(outputs.logits.detach().cpu().numpy())\n",
        "# get logits, detach from gradient, copy it to cpu and convert to numpy"
      ]
    },
    {
      "cell_type": "markdown",
      "metadata": {
        "id": "Ub8_dmGjRlpz"
      },
      "source": [
        "## What is Transfer Learning and Fine Tuning\n",
        "\n",
        "* Transfer learning without fine-tuning\n",
        "* Fine tuning without transfer learning\n",
        "* Transfer learning with fine-tuning and transfer learning via fine-tuning"
      ]
    },
    {
      "cell_type": "markdown",
      "metadata": {
        "id": "nadioX8iVyTm"
      },
      "source": [
        "**Greedy Layer-Wise pretraining**\n",
        "\n",
        "* In early days, activation functions like sigmoid/tanh were used and they led to the vanishing gradient problem when training a neural network end-to-end\n",
        "* A method was introduced to train each layer separately.\n",
        "\n",
        "* Consider an autoencoder (a model that learns to output its inputs), we train it on a dataset. We take it's intermediate representation z1 and throw away the second half of the network and now we train another autoencoder on the intermediate representation and keep going, we can add final dense layer at the end.\n",
        "* Then we train the whole model including the previous layers and the dense layer but using a smaller learning rate.\n",
        "* This network produced results better than those networks that were trained only end-to-end\n",
        "\n",
        "* What does this example show? it shows that **\"Fine Tuning\"** isn't always related with transfer learning. Here we are performing fine tuning but without transfer learning."
      ]
    },
    {
      "cell_type": "markdown",
      "metadata": {
        "id": "yu-RNLXWWznD"
      },
      "source": [
        "![image.png](data:image/png;base64,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)"
      ]
    },
    {
      "cell_type": "markdown",
      "metadata": {
        "id": "wMgynRT5W10T"
      },
      "source": [
        "There's also another way where we don't train the head first and just train it with the whole network.\n",
        " * **Remember: Nothing is set in stone.** You can try different things, some might work better for you.\n",
        "\n",
        " * Another paper showed that training only the bias terms (or even a subset) can match or exceed the performance of full fine tuning."
      ]
    },
    {
      "cell_type": "markdown",
      "metadata": {
        "id": "ijfbQX83BxNT"
      },
      "source": [
        "## Fine Tuning: Sentiment Analysis"
      ]
    },
    {
      "cell_type": "markdown",
      "metadata": {
        "id": "PSdYd48kZMSJ"
      },
      "source": [
        "### HuggingFace Dataset library"
      ]
    },
    {
      "cell_type": "code",
      "execution_count": null,
      "metadata": {
        "id": "U2gM_vz1h7KW",
        "colab": {
          "base_uri": "https://localhost:8080/"
        },
        "outputId": "9984f428-c44f-434b-f19b-c5d485ebabb5"
      },
      "outputs": [
        {
          "output_type": "stream",
          "name": "stdout",
          "text": [
            "Collecting datasets\n",
            "  Downloading datasets-2.14.4-py3-none-any.whl (519 kB)\n",
            "\u001b[2K     \u001b[90m━━━━━━━━━━━━━━━━━━━━━━━━━━━━━━━━━━━━━━━\u001b[0m \u001b[32m519.3/519.3 kB\u001b[0m \u001b[31m4.7 MB/s\u001b[0m eta \u001b[36m0:00:00\u001b[0m\n",
            "\u001b[?25hRequirement already satisfied: numpy>=1.17 in /usr/local/lib/python3.10/dist-packages (from datasets) (1.23.5)\n",
            "Requirement already satisfied: pyarrow>=8.0.0 in /usr/local/lib/python3.10/dist-packages (from datasets) (9.0.0)\n",
            "Collecting dill<0.3.8,>=0.3.0 (from datasets)\n",
            "  Downloading dill-0.3.7-py3-none-any.whl (115 kB)\n",
            "\u001b[2K     \u001b[90m━━━━━━━━━━━━━━━━━━━━━━━━━━━━━━━━━━━━━━\u001b[0m \u001b[32m115.3/115.3 kB\u001b[0m \u001b[31m12.7 MB/s\u001b[0m eta \u001b[36m0:00:00\u001b[0m\n",
            "\u001b[?25hRequirement already satisfied: pandas in /usr/local/lib/python3.10/dist-packages (from datasets) (1.5.3)\n",
            "Requirement already satisfied: requests>=2.19.0 in /usr/local/lib/python3.10/dist-packages (from datasets) (2.31.0)\n",
            "Requirement already satisfied: tqdm>=4.62.1 in /usr/local/lib/python3.10/dist-packages (from datasets) (4.66.1)\n",
            "Collecting xxhash (from datasets)\n",
            "  Downloading xxhash-3.3.0-cp310-cp310-manylinux_2_17_x86_64.manylinux2014_x86_64.whl (194 kB)\n",
            "\u001b[2K     \u001b[90m━━━━━━━━━━━━━━━━━━━━━━━━━━━━━━━━━━━━━━\u001b[0m \u001b[32m194.1/194.1 kB\u001b[0m \u001b[31m17.1 MB/s\u001b[0m eta \u001b[36m0:00:00\u001b[0m\n",
            "\u001b[?25hCollecting multiprocess (from datasets)\n",
            "  Downloading multiprocess-0.70.15-py310-none-any.whl (134 kB)\n",
            "\u001b[2K     \u001b[90m━━━━━━━━━━━━━━━━━━━━━━━━━━━━━━━━━━━━━━\u001b[0m \u001b[32m134.8/134.8 kB\u001b[0m \u001b[31m16.0 MB/s\u001b[0m eta \u001b[36m0:00:00\u001b[0m\n",
            "\u001b[?25hRequirement already satisfied: fsspec[http]>=2021.11.1 in /usr/local/lib/python3.10/dist-packages (from datasets) (2023.6.0)\n",
            "Requirement already satisfied: aiohttp in /usr/local/lib/python3.10/dist-packages (from datasets) (3.8.5)\n",
            "Requirement already satisfied: huggingface-hub<1.0.0,>=0.14.0 in /usr/local/lib/python3.10/dist-packages (from datasets) (0.16.4)\n",
            "Requirement already satisfied: packaging in /usr/local/lib/python3.10/dist-packages (from datasets) (23.1)\n",
            "Requirement already satisfied: pyyaml>=5.1 in /usr/local/lib/python3.10/dist-packages (from datasets) (6.0.1)\n",
            "Requirement already satisfied: attrs>=17.3.0 in /usr/local/lib/python3.10/dist-packages (from aiohttp->datasets) (23.1.0)\n",
            "Requirement already satisfied: charset-normalizer<4.0,>=2.0 in /usr/local/lib/python3.10/dist-packages (from aiohttp->datasets) (3.2.0)\n",
            "Requirement already satisfied: multidict<7.0,>=4.5 in /usr/local/lib/python3.10/dist-packages (from aiohttp->datasets) (6.0.4)\n",
            "Requirement already satisfied: async-timeout<5.0,>=4.0.0a3 in /usr/local/lib/python3.10/dist-packages (from aiohttp->datasets) (4.0.3)\n",
            "Requirement already satisfied: yarl<2.0,>=1.0 in /usr/local/lib/python3.10/dist-packages (from aiohttp->datasets) (1.9.2)\n",
            "Requirement already satisfied: frozenlist>=1.1.1 in /usr/local/lib/python3.10/dist-packages (from aiohttp->datasets) (1.4.0)\n",
            "Requirement already satisfied: aiosignal>=1.1.2 in /usr/local/lib/python3.10/dist-packages (from aiohttp->datasets) (1.3.1)\n",
            "Requirement already satisfied: filelock in /usr/local/lib/python3.10/dist-packages (from huggingface-hub<1.0.0,>=0.14.0->datasets) (3.12.2)\n",
            "Requirement already satisfied: typing-extensions>=3.7.4.3 in /usr/local/lib/python3.10/dist-packages (from huggingface-hub<1.0.0,>=0.14.0->datasets) (4.7.1)\n",
            "Requirement already satisfied: idna<4,>=2.5 in /usr/local/lib/python3.10/dist-packages (from requests>=2.19.0->datasets) (3.4)\n",
            "Requirement already satisfied: urllib3<3,>=1.21.1 in /usr/local/lib/python3.10/dist-packages (from requests>=2.19.0->datasets) (2.0.4)\n",
            "Requirement already satisfied: certifi>=2017.4.17 in /usr/local/lib/python3.10/dist-packages (from requests>=2.19.0->datasets) (2023.7.22)\n",
            "Requirement already satisfied: python-dateutil>=2.8.1 in /usr/local/lib/python3.10/dist-packages (from pandas->datasets) (2.8.2)\n",
            "Requirement already satisfied: pytz>=2020.1 in /usr/local/lib/python3.10/dist-packages (from pandas->datasets) (2023.3)\n",
            "Requirement already satisfied: six>=1.5 in /usr/local/lib/python3.10/dist-packages (from python-dateutil>=2.8.1->pandas->datasets) (1.16.0)\n",
            "Installing collected packages: xxhash, dill, multiprocess, datasets\n",
            "Successfully installed datasets-2.14.4 dill-0.3.7 multiprocess-0.70.15 xxhash-3.3.0\n"
          ]
        }
      ],
      "source": [
        "pip install datasets"
      ]
    },
    {
      "cell_type": "code",
      "execution_count": null,
      "metadata": {
        "id": "Eu-pvr3ph8az"
      },
      "outputs": [],
      "source": [
        "from datasets import load_dataset"
      ]
    },
    {
      "cell_type": "code",
      "execution_count": null,
      "metadata": {
        "id": "YEekM15uCAX4"
      },
      "outputs": [],
      "source": [
        "import numpy as np"
      ]
    },
    {
      "cell_type": "markdown",
      "metadata": {
        "id": "I30FXRfAiKKW"
      },
      "source": [
        "### Load Dataset"
      ]
    },
    {
      "cell_type": "code",
      "execution_count": null,
      "metadata": {
        "id": "KxAU4a6VCM91"
      },
      "outputs": [],
      "source": [
        "## amazon_polarity dataset us also for sentiment analysis"
      ]
    },
    {
      "cell_type": "code",
      "execution_count": null,
      "metadata": {
        "id": "c8hcHjI5iBpg",
        "colab": {
          "base_uri": "https://localhost:8080/",
          "height": 241,
          "referenced_widgets": [
            "28e2c82d482840b89daa94b42ee0e95d",
            "364d58faf37f45bfa9f7eeb21d1640d3",
            "a1739a523406416dbbfa4e82196797e3",
            "b8d556f67cb64dfa92dbd2bb539b32d1",
            "68426d8055af4549bac2adefdb3aefdc",
            "48368edd4a42449ba6ef6d4477e16d2e",
            "0172b57f99a9436cb401181078887d05",
            "611b437c5de149c2aaf3a9fd5a5b57f4",
            "4b04d4134f704ec18467efc4e5d80efb",
            "7021e84a70a349dd8fa04de6bee29e15",
            "34a6352e2a344e6f804b7267d62f90eb",
            "d3852b19f21c409394ce0e4e94662042",
            "c41dac93a8f34ea984df4a8f23c4b229",
            "c935acde781847189e3f05f28947ea07",
            "6c391e3ed39c494eb6c928d4c9ddf181",
            "c52754a0d3b44e49b5c1080dac93faec",
            "e1f347fcab934de69d4813d4952962b5",
            "1411874b69064ce18bbec999a701cbd3",
            "560ad3b5df44477a8d3fe911ca44b3ac",
            "502d81bfbe3948529cc19369162a257e",
            "20863d0613ee414bb28f2dfe1d6b3d31",
            "1dd591989caf49249c97a5e1183c9a69",
            "f1448dc145634a3cb3957867891f5904",
            "5d2e05c0370349fabac4baa0f5861b98",
            "074fb8eaf08a47628a60c6b564cc3bd4",
            "e7994ae7dcb34168aa4418a6dc8a1de9",
            "631f6c083a36453982ac094ef58cde54",
            "e1bb811fccac44fa8971053ae2f387f1",
            "409109d0028a46049ebe920984049a46",
            "ee0e9236ee364326ba10af7d020fb2c6",
            "9201505f89094cccb00dd17bcc3856fa",
            "627131404701434ea672f2c2c91d4e98",
            "e37c539708304114a83bb8f9689b8cc3",
            "8a426facdaa542ce8230a13c922f4442",
            "07260a91077c4a919f5a4ba6190383b6",
            "c9f67c51078b4978a53bba28562b5b97",
            "455be50b1f264f4bbf623025760ef992",
            "3dee3034ca3543c0814740273e65241a",
            "35342f16ad8549eea158dbc6cb86a438",
            "f703049a24d04cec97f1c7d96d94a785",
            "7269cda3fa35493d86d78820994ab611",
            "06586d3926a9462299c7ddc0d2599608",
            "4bdbb1d78ac54f7c8218e2d5028ce40a",
            "0995868020b7440aabad98f995f197f2",
            "e61c71e812f84b768688e8479b1a8769",
            "160bc548c29c4c4ab4679505d6db68fb",
            "a7ffd18e0f514b689ea4cd74a1b3d528",
            "c548e96ec7b7498387e3b45e662f6d82",
            "301a64d104744ba0a0a5b14f6940d4e4",
            "9f1122c048c84b44a9b92afe00249c07",
            "7ec1f971dbee49fbbfd63cfa71fcbd17",
            "2ec8b15788c548c3a7671de7e99f903a",
            "57d6f96c111e4dfbb587a590383d8a26",
            "d618706d27f0471080150e862bc57bb4",
            "ee4a5b1a79cf4ca3b810f687e6aaa2f1",
            "b20ab9c7cdc342a496ea7dd23d7591ea",
            "2015b693787b42b2a10c34d323bd1e57",
            "6e33b57456ca4beda99b89dafb7e4a3d",
            "ca75a4a2f4724b2ebd9aff4a79a1246d",
            "7e99c55c1d084243a90bc8dd3f64b960",
            "b0373df58fd146daaa2da955e131cc23",
            "be4764df901f4923ad9c27c300585097",
            "82132596cc7a48d2b5f2870a0fceefa1",
            "c754b8b3d761406cbb1942fce78e52d2",
            "ccfb8635e9fe4c3d9d23b903ece615ba",
            "dbb886882b9f4743bc3a7950ff3e8523",
            "50cc3adb8a694c6c956e623a4cfda808",
            "0882779758944d5ba3c4451e17713ac2",
            "a3a92c61a1ba41dda610ed696437fa91",
            "ffd416eb38344c7bb76c1577a9a5c44c",
            "f3315b8bed37471a8d2716e583c51720",
            "b7de78083339431aae45745d63fb99e2",
            "cbc633fb82f1426bbd63a6951e720d4a",
            "c5bbd4d8782e4cd8998237771f1b6050",
            "6274469def1440ba8824911e316de517",
            "58a1e6ecaba64e28a49c910e82e49482",
            "dd601105f7de4b5dad8c7dbc5245e390"
          ]
        },
        "outputId": "a1064729-e180-4f0e-c2d3-a7c89c19dffe"
      },
      "outputs": [
        {
          "output_type": "display_data",
          "data": {
            "text/plain": [
              "Downloading builder script:   0%|          | 0.00/28.8k [00:00<?, ?B/s]"
            ],
            "application/vnd.jupyter.widget-view+json": {
              "version_major": 2,
              "version_minor": 0,
              "model_id": "28e2c82d482840b89daa94b42ee0e95d"
            }
          },
          "metadata": {}
        },
        {
          "output_type": "display_data",
          "data": {
            "text/plain": [
              "Downloading metadata:   0%|          | 0.00/28.7k [00:00<?, ?B/s]"
            ],
            "application/vnd.jupyter.widget-view+json": {
              "version_major": 2,
              "version_minor": 0,
              "model_id": "d3852b19f21c409394ce0e4e94662042"
            }
          },
          "metadata": {}
        },
        {
          "output_type": "display_data",
          "data": {
            "text/plain": [
              "Downloading readme:   0%|          | 0.00/27.9k [00:00<?, ?B/s]"
            ],
            "application/vnd.jupyter.widget-view+json": {
              "version_major": 2,
              "version_minor": 0,
              "model_id": "f1448dc145634a3cb3957867891f5904"
            }
          },
          "metadata": {}
        },
        {
          "output_type": "display_data",
          "data": {
            "text/plain": [
              "Downloading data:   0%|          | 0.00/7.44M [00:00<?, ?B/s]"
            ],
            "application/vnd.jupyter.widget-view+json": {
              "version_major": 2,
              "version_minor": 0,
              "model_id": "8a426facdaa542ce8230a13c922f4442"
            }
          },
          "metadata": {}
        },
        {
          "output_type": "display_data",
          "data": {
            "text/plain": [
              "Generating train split:   0%|          | 0/67349 [00:00<?, ? examples/s]"
            ],
            "application/vnd.jupyter.widget-view+json": {
              "version_major": 2,
              "version_minor": 0,
              "model_id": "e61c71e812f84b768688e8479b1a8769"
            }
          },
          "metadata": {}
        },
        {
          "output_type": "display_data",
          "data": {
            "text/plain": [
              "Generating validation split:   0%|          | 0/872 [00:00<?, ? examples/s]"
            ],
            "application/vnd.jupyter.widget-view+json": {
              "version_major": 2,
              "version_minor": 0,
              "model_id": "b20ab9c7cdc342a496ea7dd23d7591ea"
            }
          },
          "metadata": {}
        },
        {
          "output_type": "display_data",
          "data": {
            "text/plain": [
              "Generating test split:   0%|          | 0/1821 [00:00<?, ? examples/s]"
            ],
            "application/vnd.jupyter.widget-view+json": {
              "version_major": 2,
              "version_minor": 0,
              "model_id": "50cc3adb8a694c6c956e623a4cfda808"
            }
          },
          "metadata": {}
        }
      ],
      "source": [
        "raw_datasets=load_dataset(\"glue\",\"sst2\")"
      ]
    },
    {
      "cell_type": "markdown",
      "metadata": {
        "id": "Ll2Cb6dSiP3M"
      },
      "source": [
        "It returns a dictionary of datasets divided into training, validation and test"
      ]
    },
    {
      "cell_type": "code",
      "execution_count": null,
      "metadata": {
        "id": "6tMUU3bfiGUZ",
        "colab": {
          "base_uri": "https://localhost:8080/"
        },
        "outputId": "dc187fee-1ec7-4441-aa8a-d0fa144a4512"
      },
      "outputs": [
        {
          "output_type": "execute_result",
          "data": {
            "text/plain": [
              "DatasetDict({\n",
              "    train: Dataset({\n",
              "        features: ['sentence', 'label', 'idx'],\n",
              "        num_rows: 67349\n",
              "    })\n",
              "    validation: Dataset({\n",
              "        features: ['sentence', 'label', 'idx'],\n",
              "        num_rows: 872\n",
              "    })\n",
              "    test: Dataset({\n",
              "        features: ['sentence', 'label', 'idx'],\n",
              "        num_rows: 1821\n",
              "    })\n",
              "})"
            ]
          },
          "metadata": {},
          "execution_count": 22
        }
      ],
      "source": [
        "raw_datasets"
      ]
    },
    {
      "cell_type": "code",
      "execution_count": null,
      "metadata": {
        "id": "eEw1eMx3iNT4",
        "colab": {
          "base_uri": "https://localhost:8080/"
        },
        "outputId": "724a0bca-d7b3-4131-f8ba-81e6608a6635"
      },
      "outputs": [
        {
          "output_type": "execute_result",
          "data": {
            "text/plain": [
              "Dataset({\n",
              "    features: ['sentence', 'label', 'idx'],\n",
              "    num_rows: 67349\n",
              "})"
            ]
          },
          "metadata": {},
          "execution_count": 23
        }
      ],
      "source": [
        "raw_datasets['train']"
      ]
    },
    {
      "cell_type": "markdown",
      "metadata": {
        "id": "6V63_pjoic2x"
      },
      "source": [
        "![image.png](data:image/png;base64,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)"
      ]
    },
    {
      "cell_type": "code",
      "execution_count": null,
      "metadata": {
        "id": "XhrVXC8JCcLL",
        "colab": {
          "base_uri": "https://localhost:8080/"
        },
        "outputId": "3c45fb7e-5fb2-4cb1-f19f-8e0aafb19b8a"
      },
      "outputs": [
        {
          "output_type": "execute_result",
          "data": {
            "text/plain": [
              "datasets.arrow_dataset.Dataset"
            ]
          },
          "metadata": {},
          "execution_count": 24
        }
      ],
      "source": [
        "type(raw_datasets['train'])"
      ]
    },
    {
      "cell_type": "code",
      "execution_count": null,
      "metadata": {
        "id": "PrvTrRUnCUkO",
        "colab": {
          "base_uri": "https://localhost:8080/"
        },
        "outputId": "350fc2e0-2fdb-4f88-c84b-e2544cf04fe9"
      },
      "outputs": [
        {
          "output_type": "execute_result",
          "data": {
            "text/plain": [
              "['_TF_DATASET_REFS',\n",
              " '__class__',\n",
              " '__del__',\n",
              " '__delattr__',\n",
              " '__dict__',\n",
              " '__dir__',\n",
              " '__doc__',\n",
              " '__enter__',\n",
              " '__eq__',\n",
              " '__exit__',\n",
              " '__format__',\n",
              " '__ge__',\n",
              " '__getattribute__',\n",
              " '__getitem__',\n",
              " '__getitems__',\n",
              " '__gt__',\n",
              " '__hash__',\n",
              " '__init__',\n",
              " '__init_subclass__',\n",
              " '__iter__',\n",
              " '__le__',\n",
              " '__len__',\n",
              " '__lt__',\n",
              " '__module__',\n",
              " '__ne__',\n",
              " '__new__',\n",
              " '__reduce__',\n",
              " '__reduce_ex__',\n",
              " '__repr__',\n",
              " '__setattr__',\n",
              " '__sizeof__',\n",
              " '__str__',\n",
              " '__subclasshook__',\n",
              " '__weakref__',\n",
              " '_build_local_temp_path',\n",
              " '_check_index_is_initialized',\n",
              " '_data',\n",
              " '_estimate_nbytes',\n",
              " '_fingerprint',\n",
              " '_format_columns',\n",
              " '_format_kwargs',\n",
              " '_format_type',\n",
              " '_generate_tables_from_cache_file',\n",
              " '_generate_tables_from_shards',\n",
              " '_get_cache_file_path',\n",
              " '_get_output_signature',\n",
              " '_getitem',\n",
              " '_indexes',\n",
              " '_indices',\n",
              " '_info',\n",
              " '_map_single',\n",
              " '_new_dataset_with_indices',\n",
              " '_output_all_columns',\n",
              " '_push_parquet_shards_to_hub',\n",
              " '_save_to_disk_single',\n",
              " '_select_contiguous',\n",
              " '_select_with_indices_mapping',\n",
              " '_split',\n",
              " 'add_column',\n",
              " 'add_elasticsearch_index',\n",
              " 'add_faiss_index',\n",
              " 'add_faiss_index_from_external_arrays',\n",
              " 'add_item',\n",
              " 'align_labels_with_mapping',\n",
              " 'builder_name',\n",
              " 'cache_files',\n",
              " 'cast',\n",
              " 'cast_column',\n",
              " 'citation',\n",
              " 'class_encode_column',\n",
              " 'cleanup_cache_files',\n",
              " 'column_names',\n",
              " 'config_name',\n",
              " 'data',\n",
              " 'dataset_size',\n",
              " 'description',\n",
              " 'download_checksums',\n",
              " 'download_size',\n",
              " 'drop_index',\n",
              " 'export',\n",
              " 'features',\n",
              " 'filter',\n",
              " 'flatten',\n",
              " 'flatten_indices',\n",
              " 'format',\n",
              " 'formatted_as',\n",
              " 'from_buffer',\n",
              " 'from_csv',\n",
              " 'from_dict',\n",
              " 'from_file',\n",
              " 'from_generator',\n",
              " 'from_json',\n",
              " 'from_list',\n",
              " 'from_pandas',\n",
              " 'from_parquet',\n",
              " 'from_spark',\n",
              " 'from_sql',\n",
              " 'from_text',\n",
              " 'get_index',\n",
              " 'get_nearest_examples',\n",
              " 'get_nearest_examples_batch',\n",
              " 'homepage',\n",
              " 'info',\n",
              " 'is_index_initialized',\n",
              " 'iter',\n",
              " 'license',\n",
              " 'list_indexes',\n",
              " 'load_elasticsearch_index',\n",
              " 'load_faiss_index',\n",
              " 'load_from_disk',\n",
              " 'map',\n",
              " 'num_columns',\n",
              " 'num_rows',\n",
              " 'prepare_for_task',\n",
              " 'push_to_hub',\n",
              " 'remove_columns',\n",
              " 'rename_column',\n",
              " 'rename_columns',\n",
              " 'reset_format',\n",
              " 'save_faiss_index',\n",
              " 'save_to_disk',\n",
              " 'search',\n",
              " 'search_batch',\n",
              " 'select',\n",
              " 'select_columns',\n",
              " 'set_format',\n",
              " 'set_transform',\n",
              " 'shape',\n",
              " 'shard',\n",
              " 'shuffle',\n",
              " 'size_in_bytes',\n",
              " 'sort',\n",
              " 'split',\n",
              " 'supervised_keys',\n",
              " 'task_templates',\n",
              " 'to_csv',\n",
              " 'to_dict',\n",
              " 'to_iterable_dataset',\n",
              " 'to_json',\n",
              " 'to_list',\n",
              " 'to_pandas',\n",
              " 'to_parquet',\n",
              " 'to_sql',\n",
              " 'to_tf_dataset',\n",
              " 'train_test_split',\n",
              " 'unique',\n",
              " 'version',\n",
              " 'with_format',\n",
              " 'with_transform']"
            ]
          },
          "metadata": {},
          "execution_count": 25
        }
      ],
      "source": [
        "dir(raw_datasets['train'])"
      ]
    },
    {
      "cell_type": "code",
      "execution_count": null,
      "metadata": {
        "id": "GgyGW-BjCqdV",
        "colab": {
          "base_uri": "https://localhost:8080/"
        },
        "outputId": "c80c229c-ebd3-4b7b-f3b1-c31ff7832022"
      },
      "outputs": [
        {
          "output_type": "execute_result",
          "data": {
            "text/plain": [
              "MemoryMappedTable\n",
              "sentence: string\n",
              "label: int64\n",
              "idx: int32\n",
              "----\n",
              "sentence: [[\"hide new secretions from the parental units \",\"contains no wit , only labored gags \",\"that loves its characters and communicates something rather beautiful about human nature \",\"remains utterly satisfied to remain the same throughout \",\"on the worst revenge-of-the-nerds clichés the filmmakers could dredge up \",...,\"you wish you were at home watching that movie instead of in the theater watching this one \",\"'s no point in extracting the bare bones of byatt 's plot for purposes of bland hollywood romance \",\"underdeveloped \",\"the jokes are flat \",\"a heartening tale of small victories \"],[\"suspense , intriguing characters and bizarre bank robberies , \",\"a gritty police thriller with all the dysfunctional family dynamics one could wish for \",\"with a wonderful ensemble cast of characters that bring the routine day to day struggles of the working class to life \",\"nonetheless appreciates the art and reveals a music scene that transcends culture and race . \",\"do we really need the tiger beat version ? \",...,\"when there 's nothing else happening \",\"on cable \",\"it with ring , \",\"far from a groundbreaking endeavor \",\"that these women are spectacular \"],...,[\"it does turn out to be a bit of a cheat in the end \",\"may be convinced that he has something significant to say \",\"to be both hugely entertaining and uplifting . \",\", boredom never takes hold . \",\"left to work with , sort of like michael jackson 's nose \",...,\"from a severe case of hollywood-itis \",\"the very best of them \",\"thrills , \",\"'s attracting audiences to unfaithful \",\"impressively delicate range \"],[\"starts off promisingly but then proceeds to flop \",\"distinguished actor \",\"on their parents ' anguish \",\"pays off and is effective if you stick with it \",\"is n't particularly funny \",...,\"a delightful comedy \",\"anguish , anger and frustration \",\"at achieving the modest , crowd-pleasing goals it sets for itself \",\"a patient viewer \",\"this new jangle of noise , mayhem and stupidity must be a serious contender for the title . \"]]\n",
              "label: [[0,0,1,0,0,...,0,0,0,0,1],[1,1,1,1,0,...,0,0,1,0,1],...,[0,0,1,1,0,...,0,1,1,1,1],[0,1,0,1,0,...,1,0,1,1,0]]\n",
              "idx: [[0,1,2,3,4,...,995,996,997,998,999],[1000,1001,1002,1003,1004,...,1995,1996,1997,1998,1999],...,[66000,66001,66002,66003,66004,...,66995,66996,66997,66998,66999],[67000,67001,67002,67003,67004,...,67344,67345,67346,67347,67348]]"
            ]
          },
          "metadata": {},
          "execution_count": 26
        }
      ],
      "source": [
        "raw_datasets['train'].data"
      ]
    },
    {
      "cell_type": "code",
      "execution_count": null,
      "metadata": {
        "id": "RoZ2Bz9cC5tq",
        "colab": {
          "base_uri": "https://localhost:8080/"
        },
        "outputId": "35b0e617-80d5-4f82-e361-324e6cacfbb1"
      },
      "outputs": [
        {
          "output_type": "execute_result",
          "data": {
            "text/plain": [
              "{'sentence': 'hide new secretions from the parental units ',\n",
              " 'label': 0,\n",
              " 'idx': 0}"
            ]
          },
          "metadata": {},
          "execution_count": 27
        }
      ],
      "source": [
        "raw_datasets['train'][0]"
      ]
    },
    {
      "cell_type": "code",
      "execution_count": null,
      "metadata": {
        "id": "tZtORyzzDNmf",
        "colab": {
          "base_uri": "https://localhost:8080/"
        },
        "outputId": "8a620c4a-da00-4345-ef0b-bd8c39597748"
      },
      "outputs": [
        {
          "output_type": "execute_result",
          "data": {
            "text/plain": [
              "{'sentence': Value(dtype='string', id=None),\n",
              " 'label': ClassLabel(names=['negative', 'positive'], id=None),\n",
              " 'idx': Value(dtype='int32', id=None)}"
            ]
          },
          "metadata": {},
          "execution_count": 28
        }
      ],
      "source": [
        "raw_datasets['train'].features"
      ]
    },
    {
      "cell_type": "markdown",
      "metadata": {
        "id": "zlFoSLwkiZGe"
      },
      "source": [
        "### Tokenization with datasets: AutoTokenizer"
      ]
    },
    {
      "cell_type": "markdown",
      "metadata": {
        "id": "D2jc4n45i5_3"
      },
      "source": [
        "There is a weird thing going on in this function we are not applying padding but just truncation, the trainer object from the library handles with padding so there is no need to do it"
      ]
    },
    {
      "cell_type": "code",
      "execution_count": null,
      "metadata": {
        "id": "5ez9Ho1fDKGh",
        "colab": {
          "base_uri": "https://localhost:8080/",
          "height": 145,
          "referenced_widgets": [
            "f2c656a70fb94f449d89650e7a84d185",
            "f70bd86ff67e4978a55c0e5747673acc",
            "063ddb2000274fac9e1d105a13d261f5",
            "52b5d822a1cc4e76a52f9fe61395ff47",
            "42483805e03a4f798558651a1735fbb4",
            "1907008cb77849b4b596e2db0307def0",
            "45c6b226030b41e3b61574718f8b82c4",
            "5f797e0fce164a7c889d0ea38773d352",
            "3f8d69e0d377408caed92df15f4e1b7e",
            "7a60df8365324db9b9acef8cad3a9785",
            "bba247fd5fb34a92803136debbea993d",
            "dfe7db8239984a0eab1e7e55fce5e813",
            "f1c97e5aca7a4d848786683f9a6acc36",
            "10dec79a3acf41bb85a930497e757b25",
            "e7004cb3f9b94276b645deff88300bcc",
            "ee39725648124bc3baed23f85e7cc0e8",
            "ff255955972941239a8fe8d29b6bdaaf",
            "14faadae0cde44b8bef0c7a30e1c3e67",
            "8d8165fa25a94e5fb88b9f299e8294f7",
            "3627e57475874a6d8ae19cbb77007b71",
            "900561285df74e80a723767e3865ce76",
            "541414c57c12452dbddb650923cbed4c",
            "74e4072faf9f4cdfb6dcf358f852478c",
            "9c47ddec8f0146d0a23c065039bffe2b",
            "79beaaf9237741a5a62b4f985d865c56",
            "6010b0d61ea042de8b148b93061c89a8",
            "d857201c466047afa4fdf544d2cea628",
            "8b55e15641a7410fa74a5ba8bed91c8c",
            "7d944098c057441bb7f30130b553ca52",
            "d8e24bc64ad341a3be39bc11a445ddf2",
            "c735697e0c8042509ae29d2b5407bdeb",
            "3780276a3fc240d5b2a9b6ccf5ba6c79",
            "d3467d4b934548d49c55b25f35203194",
            "25bdeecf72e34b4aac50e4021c7dec7b",
            "476df54c46ea4650a6334cdf6e08041a",
            "5a86a20efe35438a8c5fcc22bc0af111",
            "e525210c1b1a4b018d6c561b3523398a",
            "17975de3fa5f4f7aaed60a963550c16e",
            "7960c514b756423ebff3cd1353ad519c",
            "4df45d2570ce4ecbbbf0e729fe098489",
            "2b60371fcb9d47aa9eb0b9302d6f63f4",
            "d9112feae65e4ad090621f4df47b34b1",
            "c9591de7eb5f4d96b6da23c1607a46b1",
            "b1001db73fcb4240b6a054cd85ec04f0"
          ]
        },
        "outputId": "bce366c6-b238-4805-b05e-b525fca969e9"
      },
      "outputs": [
        {
          "output_type": "display_data",
          "data": {
            "text/plain": [
              "Downloading (…)okenizer_config.json:   0%|          | 0.00/28.0 [00:00<?, ?B/s]"
            ],
            "application/vnd.jupyter.widget-view+json": {
              "version_major": 2,
              "version_minor": 0,
              "model_id": "f2c656a70fb94f449d89650e7a84d185"
            }
          },
          "metadata": {}
        },
        {
          "output_type": "display_data",
          "data": {
            "text/plain": [
              "Downloading (…)lve/main/config.json:   0%|          | 0.00/483 [00:00<?, ?B/s]"
            ],
            "application/vnd.jupyter.widget-view+json": {
              "version_major": 2,
              "version_minor": 0,
              "model_id": "dfe7db8239984a0eab1e7e55fce5e813"
            }
          },
          "metadata": {}
        },
        {
          "output_type": "display_data",
          "data": {
            "text/plain": [
              "Downloading (…)solve/main/vocab.txt:   0%|          | 0.00/232k [00:00<?, ?B/s]"
            ],
            "application/vnd.jupyter.widget-view+json": {
              "version_major": 2,
              "version_minor": 0,
              "model_id": "74e4072faf9f4cdfb6dcf358f852478c"
            }
          },
          "metadata": {}
        },
        {
          "output_type": "display_data",
          "data": {
            "text/plain": [
              "Downloading (…)/main/tokenizer.json:   0%|          | 0.00/466k [00:00<?, ?B/s]"
            ],
            "application/vnd.jupyter.widget-view+json": {
              "version_major": 2,
              "version_minor": 0,
              "model_id": "25bdeecf72e34b4aac50e4021c7dec7b"
            }
          },
          "metadata": {}
        }
      ],
      "source": [
        "from transformers import AutoTokenizer\n",
        "# checkpoint= \"bert-base-cased\"\n",
        "# distilbert trains faster\n",
        "checkpoint=\"distilbert-base-uncased\"\n",
        "tokenizer= AutoTokenizer.from_pretrained(checkpoint)"
      ]
    },
    {
      "cell_type": "code",
      "execution_count": null,
      "metadata": {
        "id": "F92amMGuDUck",
        "colab": {
          "base_uri": "https://localhost:8080/"
        },
        "outputId": "b53bcc81-674f-4f5b-80a8-47ea4ebfdd78"
      },
      "outputs": [
        {
          "output_type": "stream",
          "name": "stdout",
          "text": [
            "{'attention_mask': [[1, 1, 1, 1, 1, 1, 1, 1, 1, 1],\n",
            "                    [1, 1, 1, 1, 1, 1, 1, 1, 1, 1, 1],\n",
            "                    [1, 1, 1, 1, 1, 1, 1, 1, 1, 1, 1, 1, 1, 1, 1]],\n",
            " 'input_ids': [[101, 5342, 2047, 3595, 8496, 2013, 1996, 18643, 3197, 102],\n",
            "               [101,\n",
            "                3397,\n",
            "                2053,\n",
            "                15966,\n",
            "                1010,\n",
            "                2069,\n",
            "                4450,\n",
            "                2098,\n",
            "                18201,\n",
            "                2015,\n",
            "                102],\n",
            "               [101,\n",
            "                2008,\n",
            "                7459,\n",
            "                2049,\n",
            "                3494,\n",
            "                1998,\n",
            "                10639,\n",
            "                2015,\n",
            "                2242,\n",
            "                2738,\n",
            "                3376,\n",
            "                2055,\n",
            "                2529,\n",
            "                3267,\n",
            "                102]]}\n"
          ]
        }
      ],
      "source": [
        "tokenized_sentences=tokenizer(raw_datasets['train'][0:3]['sentence'])\n",
        "from pprint import pprint\n",
        "pprint(tokenized_sentences)"
      ]
    },
    {
      "cell_type": "code",
      "execution_count": null,
      "metadata": {
        "id": "gASyj6d9irX6",
        "colab": {
          "base_uri": "https://localhost:8080/",
          "height": 113,
          "referenced_widgets": [
            "fcc2433d3fc240e5a138c5e3b3fb86ea",
            "a7ecdb75e8ad4d24becd282956715cc3",
            "c401b69bbc7041589e85fd9805d10233",
            "08eb42e2f56942f88b1f4d4aca0e45af",
            "08043a90e17c4f149b2b168955bd6cc9",
            "49fffc2293754aaf8b1f2cf8abf5c12c",
            "f28ab7eb2cef471fbc994de76e185df0",
            "32e5e68115db40bb9e9fd8d8479e1180",
            "dfb64a073168462a9627095f8b937ff7",
            "387134c081db44a3a309bbdeb69e4ac1",
            "5978fc9b71124559a7bb5d6f558866e3",
            "7889c451200a4dc58fceb4d1e3927ea0",
            "f5f19b7d825f4a29991b11ced7ae395b",
            "e7d969c6466042439052c1bc8e8b604a",
            "bba222052c9446c083f730937a20a8f8",
            "0de284629b7f4471975d94c907fc2e88",
            "de3adbd1c84341e69b671e4b34acb017",
            "b738183a58ce45af97d5c2fd35bdd008",
            "288dfe32369c4604b956e6debc396a34",
            "5c512fd844664181a265791f34631908",
            "407a603af08443fd85328931ced06075",
            "2439c6f3a4064cf08c8f8f6720cf74fc",
            "6de85d3a7a6a4e5b9af3efb0ff67cd7c",
            "7200b21f690d4b02be86d9332007ab1c",
            "354bbfba2b1e44e8b107bd156285a222",
            "b254811811394735b1a2ec7337b2de26",
            "03e2f8987e234a2685548524e3e8f729",
            "15bd7884b40e4bb7ae9896d948954a11",
            "dbe5066a3898462ca4340a3a5845ff41",
            "76b508ac85eb45aaa319ef5f177b27ad",
            "2c846613fb8e4e36a03c6b6a853c219a",
            "bb6de75448214ad2bf6ee70e11190308",
            "b4b822c835d646799ee0f37318281b1b"
          ]
        },
        "outputId": "1ecae988-c0e7-47fa-ce6f-1956bcb0aaf4"
      },
      "outputs": [
        {
          "output_type": "display_data",
          "data": {
            "text/plain": [
              "Map:   0%|          | 0/67349 [00:00<?, ? examples/s]"
            ],
            "application/vnd.jupyter.widget-view+json": {
              "version_major": 2,
              "version_minor": 0,
              "model_id": "fcc2433d3fc240e5a138c5e3b3fb86ea"
            }
          },
          "metadata": {}
        },
        {
          "output_type": "display_data",
          "data": {
            "text/plain": [
              "Map:   0%|          | 0/872 [00:00<?, ? examples/s]"
            ],
            "application/vnd.jupyter.widget-view+json": {
              "version_major": 2,
              "version_minor": 0,
              "model_id": "7889c451200a4dc58fceb4d1e3927ea0"
            }
          },
          "metadata": {}
        },
        {
          "output_type": "display_data",
          "data": {
            "text/plain": [
              "Map:   0%|          | 0/1821 [00:00<?, ? examples/s]"
            ],
            "application/vnd.jupyter.widget-view+json": {
              "version_major": 2,
              "version_minor": 0,
              "model_id": "6de85d3a7a6a4e5b9af3efb0ff67cd7c"
            }
          },
          "metadata": {}
        }
      ],
      "source": [
        "def tokenize_fn(batch):\n",
        "  return tokenizer(batch['sentence'],truncation=True)\n",
        "\n",
        "tokenized_dataset=raw_datasets.map(tokenize_fn,batched=True)"
      ]
    },
    {
      "cell_type": "markdown",
      "metadata": {
        "id": "Y5G9bVSOjM1G"
      },
      "source": [
        "### Training Arugments"
      ]
    },
    {
      "cell_type": "code",
      "execution_count": null,
      "metadata": {
        "id": "Ix7gGfTRjU6U"
      },
      "outputs": [],
      "source": [
        "from transformers import TrainingArguments"
      ]
    },
    {
      "cell_type": "markdown",
      "metadata": {
        "id": "OZKOKWvHju8C"
      },
      "source": [
        "This is like a training configuration object"
      ]
    },
    {
      "cell_type": "code",
      "execution_count": null,
      "metadata": {
        "id": "2z__uyIQjfnC"
      },
      "outputs": [],
      "source": [
        "training_args= TrainingArguments('my_trainer',\n",
        "                                 evaluation_strategy='epoch',\n",
        "                                 save_strategy='epoch',\n",
        "                                 num_train_epochs=1)\n",
        "\n",
        "#save_strategy by default saves the model on each timestep"
      ]
    },
    {
      "cell_type": "markdown",
      "metadata": {
        "id": "OPPTySwTkuJk"
      },
      "source": [
        "### Metrics"
      ]
    },
    {
      "cell_type": "code",
      "execution_count": null,
      "metadata": {
        "id": "zO9rNNRCkyZG",
        "colab": {
          "base_uri": "https://localhost:8080/",
          "height": 104,
          "referenced_widgets": [
            "aecd3f6696fe4440a67e337ae4fef9ae",
            "5bc0b8f6904549e58b80792b8964efa7",
            "c2e26a40eb074546a713892276faf249",
            "df28ef5d2ba349da913f06a26f1c4c08",
            "0245ad21116a473cabd450ef36a063a9",
            "124a7b0973ad4eb986c4013f9898f024",
            "3b21e0c282eb489e8c1398428e5e257d",
            "9ef2d72e44984741b50253ed4aad5ef2",
            "d3e57277dbdb4b08a9463b5b86a65645",
            "62e447b831e64b43a57f5ed2d4581571",
            "1bbc47b670e54669b9ea99c105134b89"
          ]
        },
        "outputId": "5cf7abad-f064-4dd2-a819-7e725eb92a63"
      },
      "outputs": [
        {
          "output_type": "stream",
          "name": "stderr",
          "text": [
            "<ipython-input-34-1bc59d484175>:3: FutureWarning: load_metric is deprecated and will be removed in the next major version of datasets. Use 'evaluate.load' instead, from the new library 🤗 Evaluate: https://huggingface.co/docs/evaluate\n",
            "  metric= load_metric('glue','sst2')\n"
          ]
        },
        {
          "output_type": "display_data",
          "data": {
            "text/plain": [
              "Downloading builder script:   0%|          | 0.00/1.84k [00:00<?, ?B/s]"
            ],
            "application/vnd.jupyter.widget-view+json": {
              "version_major": 2,
              "version_minor": 0,
              "model_id": "aecd3f6696fe4440a67e337ae4fef9ae"
            }
          },
          "metadata": {}
        }
      ],
      "source": [
        "from datasets import load_metric\n",
        "\n",
        "metric= load_metric('glue','sst2')\n",
        "\n",
        "# can also load specific metrics\n",
        "\n",
        "#metric= load_metric('f1')\n",
        "#metric= load_metric('bleu')"
      ]
    },
    {
      "cell_type": "code",
      "execution_count": null,
      "metadata": {
        "id": "sAdnOSCTlLYo"
      },
      "outputs": [],
      "source": [
        "def compute_metrics(logits_and_labels):\n",
        "  metric=load_metric(\"glue\",\"sst2\")\n",
        "  logits,labels=logits_and_labels\n",
        "  predictions=np.argmax(logits,axis=-1)\n",
        "  return metric.compute(predictions=predictions,references=labels)"
      ]
    },
    {
      "cell_type": "code",
      "execution_count": null,
      "metadata": {
        "id": "P05xswT5G6i8",
        "colab": {
          "base_uri": "https://localhost:8080/"
        },
        "outputId": "f6dc4649-09ba-4959-cee7-f516d1254591"
      },
      "outputs": [
        {
          "output_type": "execute_result",
          "data": {
            "text/plain": [
              "{'accuracy': 0.6666666666666666}"
            ]
          },
          "metadata": {},
          "execution_count": 36
        }
      ],
      "source": [
        "metric.compute(predictions=[1,0,1], references=[1,0,0])"
      ]
    },
    {
      "cell_type": "markdown",
      "metadata": {
        "id": "n0TRd1GxFW2m"
      },
      "source": [
        "### Model"
      ]
    },
    {
      "cell_type": "code",
      "execution_count": null,
      "metadata": {
        "id": "3qgMuAvkFYBA",
        "colab": {
          "base_uri": "https://localhost:8080/",
          "height": 104,
          "referenced_widgets": [
            "7d296275ae014207bd64a72e33904416",
            "a881229ded4148dd90f9e97752a6caf5",
            "16e477ef988746ec97a16494f8300aa0",
            "1a21fc6474754941b83f5a8f94a5ba6c",
            "a983683749c347429f494c79984ef064",
            "17dd3f6fd0ef456e873b2a2b4c825904",
            "f6109e095cf2407488afefb8f3781448",
            "3f3c640389b54af3a1d0bdadb6848ce8",
            "db56ff2220d94f64a3a07e47759d0fb6",
            "eded6b4446154c0d8f6c35f6bee77e45",
            "67a3ce9fbc2e488fa317006e6c9cf09f"
          ]
        },
        "outputId": "26710eb2-89ea-40c3-d541-f9091111d802"
      },
      "outputs": [
        {
          "output_type": "display_data",
          "data": {
            "text/plain": [
              "Downloading model.safetensors:   0%|          | 0.00/268M [00:00<?, ?B/s]"
            ],
            "application/vnd.jupyter.widget-view+json": {
              "version_major": 2,
              "version_minor": 0,
              "model_id": "7d296275ae014207bd64a72e33904416"
            }
          },
          "metadata": {}
        },
        {
          "output_type": "stream",
          "name": "stderr",
          "text": [
            "Some weights of DistilBertForSequenceClassification were not initialized from the model checkpoint at distilbert-base-uncased and are newly initialized: ['pre_classifier.weight', 'classifier.bias', 'pre_classifier.bias', 'classifier.weight']\n",
            "You should probably TRAIN this model on a down-stream task to be able to use it for predictions and inference.\n"
          ]
        }
      ],
      "source": [
        "from transformers import AutoModelForSequenceClassification\n",
        "\n",
        "model=AutoModelForSequenceClassification.from_pretrained(checkpoint,\n",
        "                                                         num_labels=2)"
      ]
    },
    {
      "cell_type": "code",
      "execution_count": null,
      "metadata": {
        "id": "ygZ_vHeuFgkd",
        "colab": {
          "base_uri": "https://localhost:8080/"
        },
        "outputId": "170a9154-864d-4a27-a059-eab0fe13a02e"
      },
      "outputs": [
        {
          "output_type": "execute_result",
          "data": {
            "text/plain": [
              "transformers.models.distilbert.modeling_distilbert.DistilBertForSequenceClassification"
            ]
          },
          "metadata": {},
          "execution_count": 38
        }
      ],
      "source": [
        "type(model)"
      ]
    },
    {
      "cell_type": "code",
      "execution_count": null,
      "metadata": {
        "id": "B_zPJ9iHFi55",
        "colab": {
          "base_uri": "https://localhost:8080/"
        },
        "outputId": "a42c23fb-26b3-4137-b366-12b9a34a26e3"
      },
      "outputs": [
        {
          "output_type": "stream",
          "name": "stdout",
          "text": [
            "Collecting torchinfo\n",
            "  Downloading torchinfo-1.8.0-py3-none-any.whl (23 kB)\n",
            "Installing collected packages: torchinfo\n",
            "Successfully installed torchinfo-1.8.0\n"
          ]
        }
      ],
      "source": [
        "!pip install torchinfo"
      ]
    },
    {
      "cell_type": "code",
      "execution_count": null,
      "metadata": {
        "id": "7yYf0eSAFn6j",
        "colab": {
          "base_uri": "https://localhost:8080/"
        },
        "outputId": "fdd7bad0-fb9c-4432-ee97-a17fdc89c792"
      },
      "outputs": [
        {
          "output_type": "execute_result",
          "data": {
            "text/plain": [
              "================================================================================\n",
              "Layer (type:depth-idx)                                  Param #\n",
              "================================================================================\n",
              "DistilBertForSequenceClassification                     --\n",
              "├─DistilBertModel: 1-1                                  --\n",
              "│    └─Embeddings: 2-1                                  --\n",
              "│    │    └─Embedding: 3-1                              23,440,896\n",
              "│    │    └─Embedding: 3-2                              393,216\n",
              "│    │    └─LayerNorm: 3-3                              1,536\n",
              "│    │    └─Dropout: 3-4                                --\n",
              "│    └─Transformer: 2-2                                 --\n",
              "│    │    └─ModuleList: 3-5                             42,527,232\n",
              "├─Linear: 1-2                                           590,592\n",
              "├─Linear: 1-3                                           1,538\n",
              "├─Dropout: 1-4                                          --\n",
              "================================================================================\n",
              "Total params: 66,955,010\n",
              "Trainable params: 66,955,010\n",
              "Non-trainable params: 0\n",
              "================================================================================"
            ]
          },
          "metadata": {},
          "execution_count": 40
        }
      ],
      "source": [
        "from torchinfo import summary\n",
        "# only works on cpu\n",
        "#summary(model,input_size=(16,512), dtypes=['torch.IntTensor'],device='cpu')\n",
        "summary(model)"
      ]
    },
    {
      "cell_type": "code",
      "execution_count": null,
      "metadata": {
        "id": "2ym0IJ_cGCl8"
      },
      "outputs": [],
      "source": [
        "# just to confirm the weights later, whether they save changed or not\n",
        "params_before=[]\n",
        "for name,p in model.named_parameters():\n",
        "  params_before.append(p.detach().cpu().numpy())"
      ]
    },
    {
      "cell_type": "markdown",
      "metadata": {
        "id": "g2M1MCghj6l9"
      },
      "source": [
        "### Trainer"
      ]
    },
    {
      "cell_type": "code",
      "execution_count": null,
      "metadata": {
        "id": "XwXZ-U-7j-Ja"
      },
      "outputs": [],
      "source": [
        "from transformers import Trainer\n",
        "\n",
        "trainer=Trainer(\n",
        "    model,\n",
        "    training_args,\n",
        "    train_dataset=tokenized_dataset['train'],\n",
        "    eval_dataset=tokenized_dataset['validation'],\n",
        "    tokenizer=tokenizer,\n",
        "    compute_metrics=compute_metrics\n",
        ")"
      ]
    },
    {
      "cell_type": "code",
      "execution_count": null,
      "metadata": {
        "id": "fwbqBcpGkNhy",
        "colab": {
          "base_uri": "https://localhost:8080/",
          "height": 178
        },
        "outputId": "40af94d0-ac3b-4e52-b583-4b00424e73a5"
      },
      "outputs": [
        {
          "output_type": "stream",
          "name": "stderr",
          "text": [
            "You're using a DistilBertTokenizerFast tokenizer. Please note that with a fast tokenizer, using the `__call__` method is faster than using a method to encode the text followed by a call to the `pad` method to get a padded encoding.\n"
          ]
        },
        {
          "output_type": "display_data",
          "data": {
            "text/plain": [
              "<IPython.core.display.HTML object>"
            ],
            "text/html": [
              "\n",
              "    <div>\n",
              "      \n",
              "      <progress value='8419' max='8419' style='width:300px; height:20px; vertical-align: middle;'></progress>\n",
              "      [8419/8419 07:46, Epoch 1/1]\n",
              "    </div>\n",
              "    <table border=\"1\" class=\"dataframe\">\n",
              "  <thead>\n",
              " <tr style=\"text-align: left;\">\n",
              "      <th>Epoch</th>\n",
              "      <th>Training Loss</th>\n",
              "      <th>Validation Loss</th>\n",
              "      <th>Accuracy</th>\n",
              "    </tr>\n",
              "  </thead>\n",
              "  <tbody>\n",
              "    <tr>\n",
              "      <td>1</td>\n",
              "      <td>0.213200</td>\n",
              "      <td>0.349110</td>\n",
              "      <td>0.904817</td>\n",
              "    </tr>\n",
              "  </tbody>\n",
              "</table><p>"
            ]
          },
          "metadata": {}
        },
        {
          "output_type": "execute_result",
          "data": {
            "text/plain": [
              "TrainOutput(global_step=8419, training_loss=0.264644761906198, metrics={'train_runtime': 470.3113, 'train_samples_per_second': 143.201, 'train_steps_per_second': 17.901, 'total_flos': 518596929468840.0, 'train_loss': 0.264644761906198, 'epoch': 1.0})"
            ]
          },
          "metadata": {},
          "execution_count": 43
        }
      ],
      "source": [
        "trainer.train()"
      ]
    },
    {
      "cell_type": "code",
      "execution_count": null,
      "metadata": {
        "id": "Px9WGSM6lyRv"
      },
      "outputs": [],
      "source": [
        "trainer.save_model(\"my_saved_model_path\")"
      ]
    },
    {
      "cell_type": "code",
      "execution_count": null,
      "metadata": {
        "id": "XeF_D9Q6l28m"
      },
      "outputs": [],
      "source": [
        "from transformers import pipeline\n",
        "clf=pipeline('text-classification',model='my_saved_model_path',device=0)"
      ]
    },
    {
      "cell_type": "code",
      "execution_count": null,
      "metadata": {
        "id": "VSs4ae93ApJz",
        "colab": {
          "base_uri": "https://localhost:8080/"
        },
        "outputId": "59182a69-e13a-4d44-a22a-8ecbeab05ec8"
      },
      "outputs": [
        {
          "output_type": "execute_result",
          "data": {
            "text/plain": [
              "[{'label': 'LABEL_1', 'score': 0.998968243598938}]"
            ]
          },
          "metadata": {},
          "execution_count": 46
        }
      ],
      "source": [
        "clf('This movie is awesome')"
      ]
    },
    {
      "cell_type": "code",
      "execution_count": null,
      "metadata": {
        "id": "gr4qmBNrAxS2",
        "colab": {
          "base_uri": "https://localhost:8080/"
        },
        "outputId": "8782d821-2a20-4d4d-b5fc-78ee71a36106"
      },
      "outputs": [
        {
          "output_type": "execute_result",
          "data": {
            "text/plain": [
              "[{'label': 'LABEL_0', 'score': 0.9966576099395752}]"
            ]
          },
          "metadata": {},
          "execution_count": 47
        }
      ],
      "source": [
        "clf(\"This movie sucks\")"
      ]
    },
    {
      "cell_type": "markdown",
      "metadata": {
        "id": "oU5_mgrqH89q"
      },
      "source": [
        "### Changing the Generic Labels"
      ]
    },
    {
      "cell_type": "markdown",
      "metadata": {
        "id": "Ykug-Pn-IBn8"
      },
      "source": [
        "We can see from the model output that `[{'label': 'LABEL_0', 'score': 0.9982225298881531}]` the label names are quite generic `LABEL_0` and `LABEL_1`, changing it to some meaningful names will help"
      ]
    },
    {
      "cell_type": "code",
      "execution_count": null,
      "metadata": {
        "id": "abdtIesPG2MC",
        "colab": {
          "base_uri": "https://localhost:8080/"
        },
        "outputId": "c5d9bbf6-66a2-4a80-8c6b-f8df26f28801"
      },
      "outputs": [
        {
          "output_type": "stream",
          "name": "stdout",
          "text": [
            "{\n",
            "  \"_name_or_path\": \"distilbert-base-uncased\",\n",
            "  \"activation\": \"gelu\",\n",
            "  \"architectures\": [\n",
            "    \"DistilBertForSequenceClassification\"\n",
            "  ],\n",
            "  \"attention_dropout\": 0.1,\n",
            "  \"dim\": 768,\n",
            "  \"dropout\": 0.1,\n",
            "  \"hidden_dim\": 3072,\n",
            "  \"initializer_range\": 0.02,\n",
            "  \"max_position_embeddings\": 512,\n",
            "  \"model_type\": \"distilbert\",\n",
            "  \"n_heads\": 12,\n",
            "  \"n_layers\": 6,\n",
            "  \"pad_token_id\": 0,\n",
            "  \"problem_type\": \"single_label_classification\",\n",
            "  \"qa_dropout\": 0.1,\n",
            "  \"seq_classif_dropout\": 0.2,\n",
            "  \"sinusoidal_pos_embds\": false,\n",
            "  \"tie_weights_\": true,\n",
            "  \"torch_dtype\": \"float32\",\n",
            "  \"transformers_version\": \"4.32.1\",\n",
            "  \"vocab_size\": 30522\n",
            "}\n"
          ]
        }
      ],
      "source": [
        "!cat my_saved_model_path/config.json"
      ]
    },
    {
      "cell_type": "code",
      "execution_count": null,
      "metadata": {
        "id": "ILtSL_6gG4YL"
      },
      "outputs": [],
      "source": [
        "import json"
      ]
    },
    {
      "cell_type": "code",
      "execution_count": null,
      "metadata": {
        "id": "z3FzlexXHByR"
      },
      "outputs": [],
      "source": [
        "config_path='my_saved_model_path/config.json'\n",
        "\n",
        "with open(config_path) as f:\n",
        "  j = json.load(f)\n",
        "\n",
        "j['id2label']= {0:'negative',1:'positive'}\n",
        "\n",
        "with open(config_path,'w') as f:\n",
        "  json.dump(j,f,indent=2)"
      ]
    },
    {
      "cell_type": "code",
      "execution_count": null,
      "metadata": {
        "id": "j8amXldlHWoZ",
        "colab": {
          "base_uri": "https://localhost:8080/"
        },
        "outputId": "b67c771e-95ea-4b18-a697-ec13ba10f342"
      },
      "outputs": [
        {
          "output_type": "stream",
          "name": "stdout",
          "text": [
            "{\n",
            "  \"_name_or_path\": \"distilbert-base-uncased\",\n",
            "  \"activation\": \"gelu\",\n",
            "  \"architectures\": [\n",
            "    \"DistilBertForSequenceClassification\"\n",
            "  ],\n",
            "  \"attention_dropout\": 0.1,\n",
            "  \"dim\": 768,\n",
            "  \"dropout\": 0.1,\n",
            "  \"hidden_dim\": 3072,\n",
            "  \"initializer_range\": 0.02,\n",
            "  \"max_position_embeddings\": 512,\n",
            "  \"model_type\": \"distilbert\",\n",
            "  \"n_heads\": 12,\n",
            "  \"n_layers\": 6,\n",
            "  \"pad_token_id\": 0,\n",
            "  \"problem_type\": \"single_label_classification\",\n",
            "  \"qa_dropout\": 0.1,\n",
            "  \"seq_classif_dropout\": 0.2,\n",
            "  \"sinusoidal_pos_embds\": false,\n",
            "  \"tie_weights_\": true,\n",
            "  \"torch_dtype\": \"float32\",\n",
            "  \"transformers_version\": \"4.32.1\",\n",
            "  \"vocab_size\": 30522,\n",
            "  \"id2label\": {\n",
            "    \"0\": \"negative\",\n",
            "    \"1\": \"positive\"\n",
            "  }\n",
            "}"
          ]
        }
      ],
      "source": [
        "!cat my_saved_model_path/config.json"
      ]
    },
    {
      "cell_type": "code",
      "execution_count": null,
      "metadata": {
        "id": "nNNsjsc6Hbc3"
      },
      "outputs": [],
      "source": [
        "clf= pipeline('text-classification',model='my_saved_model_path',device=0)"
      ]
    },
    {
      "cell_type": "code",
      "execution_count": null,
      "metadata": {
        "id": "qNCKlnD7Higt",
        "colab": {
          "base_uri": "https://localhost:8080/"
        },
        "outputId": "8c3f46c4-31f6-4797-b795-63b7b172471d"
      },
      "outputs": [
        {
          "output_type": "execute_result",
          "data": {
            "text/plain": [
              "[{'label': 'positive', 'score': 0.9990053772926331}]"
            ]
          },
          "metadata": {},
          "execution_count": 53
        }
      ],
      "source": [
        "clf('This movie is good')"
      ]
    },
    {
      "cell_type": "markdown",
      "metadata": {
        "id": "hdG7XH45IQ7c"
      },
      "source": [
        "### Comparing the parameters before and after"
      ]
    },
    {
      "cell_type": "code",
      "execution_count": null,
      "metadata": {
        "id": "E4K_2ApoHk1O"
      },
      "outputs": [],
      "source": [
        "params_after=[]\n",
        "for name,p in model.named_parameters():\n",
        "  params_after.append(p.detach().cpu().numpy())"
      ]
    },
    {
      "cell_type": "code",
      "execution_count": null,
      "metadata": {
        "id": "g133RocWHxIn",
        "colab": {
          "base_uri": "https://localhost:8080/"
        },
        "outputId": "b840f57d-627a-4584-b5c6-8d3263223a20"
      },
      "outputs": [
        {
          "output_type": "stream",
          "name": "stdout",
          "text": [
            "13303.753\n",
            "89.75106\n",
            "1.7130709\n",
            "1.1315522\n",
            "1307.3729\n",
            "1.7217941\n",
            "1293.1903\n",
            "0.0030612014\n",
            "1192.3197\n",
            "1.069221\n",
            "1127.1129\n",
            "0.818415\n",
            "1.7032332\n",
            "0.81559217\n",
            "4941.08\n",
            "5.6972923\n",
            "4530.828\n",
            "0.7328278\n",
            "1.5892863\n",
            "0.6830728\n",
            "1256.3373\n",
            "1.5025184\n",
            "1244.6677\n",
            "0.003161064\n",
            "1097.1044\n",
            "0.81728435\n",
            "1049.5505\n",
            "0.7320031\n",
            "1.5749636\n",
            "0.73078793\n",
            "4875.1265\n",
            "5.414797\n",
            "4441.099\n",
            "0.6713344\n",
            "1.4282387\n",
            "0.7354727\n",
            "1258.5199\n",
            "1.5150467\n",
            "1270.4958\n",
            "0.0026412024\n",
            "1094.7488\n",
            "0.74976104\n",
            "1089.8499\n",
            "0.7247991\n",
            "1.4558747\n",
            "0.782705\n",
            "4883.1465\n",
            "5.4705553\n",
            "4341.576\n",
            "0.6965425\n",
            "1.4125599\n",
            "0.6601586\n",
            "1287.1721\n",
            "1.4282153\n",
            "1302.4401\n",
            "0.0031860895\n",
            "1146.448\n",
            "0.69943464\n",
            "1101.9666\n",
            "0.6922081\n",
            "1.4086015\n",
            "0.68425035\n",
            "4764.8784\n",
            "5.343216\n",
            "4082.8853\n",
            "0.74308884\n",
            "1.2863039\n",
            "0.6976103\n",
            "1185.4353\n",
            "1.5154977\n",
            "1174.5879\n",
            "0.001936299\n",
            "953.5134\n",
            "0.78348374\n",
            "968.82526\n",
            "0.9676889\n",
            "1.3590024\n",
            "0.91665703\n",
            "4327.092\n",
            "5.098719\n",
            "3377.715\n",
            "0.75806004\n",
            "1.2775408\n",
            "0.70569676\n",
            "1124.2074\n",
            "1.3984046\n",
            "1149.0922\n",
            "0.0012701114\n",
            "911.46643\n",
            "0.73146653\n",
            "905.94934\n",
            "0.8953213\n",
            "1.2869005\n",
            "1.084619\n",
            "3401.369\n",
            "4.2897015\n",
            "3082.7993\n",
            "0.94139946\n",
            "1.3049061\n",
            "0.6430346\n",
            "849.8148\n",
            "0.95760685\n",
            "2.013476\n",
            "0.0012049433\n"
          ]
        }
      ],
      "source": [
        "for p1,p2 in zip(params_before,params_after):\n",
        "  print(np.sum(np.abs(p1-p2)))"
      ]
    },
    {
      "cell_type": "markdown",
      "metadata": {
        "id": "oviUOxOLH4rZ"
      },
      "source": [
        "## Fine-Tuning Sentiment Custom Dataset"
      ]
    },
    {
      "cell_type": "markdown",
      "metadata": {
        "id": "ivx4m4K-JEle"
      },
      "source": [
        "### Installing and importing some libraries"
      ]
    },
    {
      "cell_type": "code",
      "execution_count": null,
      "metadata": {
        "id": "BnNvNLdLIv4g",
        "colab": {
          "base_uri": "https://localhost:8080/"
        },
        "outputId": "c821fbda-334a-48d7-fb32-86006442946e"
      },
      "outputs": [
        {
          "output_type": "stream",
          "name": "stdout",
          "text": [
            "Requirement already satisfied: transformers in /usr/local/lib/python3.10/dist-packages (4.32.1)\n",
            "Requirement already satisfied: datasets in /usr/local/lib/python3.10/dist-packages (2.14.4)\n",
            "Requirement already satisfied: filelock in /usr/local/lib/python3.10/dist-packages (from transformers) (3.12.2)\n",
            "Requirement already satisfied: huggingface-hub<1.0,>=0.15.1 in /usr/local/lib/python3.10/dist-packages (from transformers) (0.16.4)\n",
            "Requirement already satisfied: numpy>=1.17 in /usr/local/lib/python3.10/dist-packages (from transformers) (1.23.5)\n",
            "Requirement already satisfied: packaging>=20.0 in /usr/local/lib/python3.10/dist-packages (from transformers) (23.1)\n",
            "Requirement already satisfied: pyyaml>=5.1 in /usr/local/lib/python3.10/dist-packages (from transformers) (6.0.1)\n",
            "Requirement already satisfied: regex!=2019.12.17 in /usr/local/lib/python3.10/dist-packages (from transformers) (2023.6.3)\n",
            "Requirement already satisfied: requests in /usr/local/lib/python3.10/dist-packages (from transformers) (2.31.0)\n",
            "Requirement already satisfied: tokenizers!=0.11.3,<0.14,>=0.11.1 in /usr/local/lib/python3.10/dist-packages (from transformers) (0.13.3)\n",
            "Requirement already satisfied: safetensors>=0.3.1 in /usr/local/lib/python3.10/dist-packages (from transformers) (0.3.3)\n",
            "Requirement already satisfied: tqdm>=4.27 in /usr/local/lib/python3.10/dist-packages (from transformers) (4.66.1)\n",
            "Requirement already satisfied: pyarrow>=8.0.0 in /usr/local/lib/python3.10/dist-packages (from datasets) (9.0.0)\n",
            "Requirement already satisfied: dill<0.3.8,>=0.3.0 in /usr/local/lib/python3.10/dist-packages (from datasets) (0.3.7)\n",
            "Requirement already satisfied: pandas in /usr/local/lib/python3.10/dist-packages (from datasets) (1.5.3)\n",
            "Requirement already satisfied: xxhash in /usr/local/lib/python3.10/dist-packages (from datasets) (3.3.0)\n",
            "Requirement already satisfied: multiprocess in /usr/local/lib/python3.10/dist-packages (from datasets) (0.70.15)\n",
            "Requirement already satisfied: fsspec[http]>=2021.11.1 in /usr/local/lib/python3.10/dist-packages (from datasets) (2023.6.0)\n",
            "Requirement already satisfied: aiohttp in /usr/local/lib/python3.10/dist-packages (from datasets) (3.8.5)\n",
            "Requirement already satisfied: attrs>=17.3.0 in /usr/local/lib/python3.10/dist-packages (from aiohttp->datasets) (23.1.0)\n",
            "Requirement already satisfied: charset-normalizer<4.0,>=2.0 in /usr/local/lib/python3.10/dist-packages (from aiohttp->datasets) (3.2.0)\n",
            "Requirement already satisfied: multidict<7.0,>=4.5 in /usr/local/lib/python3.10/dist-packages (from aiohttp->datasets) (6.0.4)\n",
            "Requirement already satisfied: async-timeout<5.0,>=4.0.0a3 in /usr/local/lib/python3.10/dist-packages (from aiohttp->datasets) (4.0.3)\n",
            "Requirement already satisfied: yarl<2.0,>=1.0 in /usr/local/lib/python3.10/dist-packages (from aiohttp->datasets) (1.9.2)\n",
            "Requirement already satisfied: frozenlist>=1.1.1 in /usr/local/lib/python3.10/dist-packages (from aiohttp->datasets) (1.4.0)\n",
            "Requirement already satisfied: aiosignal>=1.1.2 in /usr/local/lib/python3.10/dist-packages (from aiohttp->datasets) (1.3.1)\n",
            "Requirement already satisfied: typing-extensions>=3.7.4.3 in /usr/local/lib/python3.10/dist-packages (from huggingface-hub<1.0,>=0.15.1->transformers) (4.7.1)\n",
            "Requirement already satisfied: idna<4,>=2.5 in /usr/local/lib/python3.10/dist-packages (from requests->transformers) (3.4)\n",
            "Requirement already satisfied: urllib3<3,>=1.21.1 in /usr/local/lib/python3.10/dist-packages (from requests->transformers) (2.0.4)\n",
            "Requirement already satisfied: certifi>=2017.4.17 in /usr/local/lib/python3.10/dist-packages (from requests->transformers) (2023.7.22)\n",
            "Requirement already satisfied: python-dateutil>=2.8.1 in /usr/local/lib/python3.10/dist-packages (from pandas->datasets) (2.8.2)\n",
            "Requirement already satisfied: pytz>=2020.1 in /usr/local/lib/python3.10/dist-packages (from pandas->datasets) (2023.3)\n",
            "Requirement already satisfied: six>=1.5 in /usr/local/lib/python3.10/dist-packages (from python-dateutil>=2.8.1->pandas->datasets) (1.16.0)\n"
          ]
        }
      ],
      "source": [
        "!pip install transformers datasets"
      ]
    },
    {
      "cell_type": "code",
      "execution_count": null,
      "metadata": {
        "id": "M8RjiORnMQyD",
        "colab": {
          "base_uri": "https://localhost:8080/"
        },
        "outputId": "9267162a-6a28-478b-ba91-af8db3540870"
      },
      "outputs": [
        {
          "output_type": "stream",
          "name": "stdout",
          "text": [
            "Requirement already satisfied: torchinfo in /usr/local/lib/python3.10/dist-packages (1.8.0)\n"
          ]
        }
      ],
      "source": [
        "!pip install torchinfo"
      ]
    },
    {
      "cell_type": "code",
      "execution_count": null,
      "metadata": {
        "id": "GkiYapPyJIcg"
      },
      "outputs": [],
      "source": [
        "import numpy as np\n",
        "import pandas as pd\n",
        "import seaborn as sns\n",
        "import matplotlib.pyplot as plt\n",
        "import torch\n",
        "from sklearn.metrics import f1_score,accuracy_score,confusion_matrix"
      ]
    },
    {
      "cell_type": "markdown",
      "metadata": {
        "id": "uDKi1aloI_18"
      },
      "source": [
        "### Getting the dataset"
      ]
    },
    {
      "cell_type": "code",
      "execution_count": null,
      "metadata": {
        "id": "q8ZjCJCAIyfi",
        "colab": {
          "base_uri": "https://localhost:8080/"
        },
        "outputId": "f6cf5918-b56a-458d-da0a-7620037e7f00"
      },
      "outputs": [
        {
          "output_type": "stream",
          "name": "stdout",
          "text": [
            "--2023-09-02 19:41:04--  https://lazyprogrammer.me/course_files/AirlineTweets.csv\n",
            "Resolving lazyprogrammer.me (lazyprogrammer.me)... 104.21.23.210, 172.67.213.166, 2606:4700:3031::6815:17d2, ...\n",
            "Connecting to lazyprogrammer.me (lazyprogrammer.me)|104.21.23.210|:443... connected.\n",
            "HTTP request sent, awaiting response... 200 OK\n",
            "Length: 3421431 (3.3M) [text/csv]\n",
            "Saving to: ‘AirlineTweets.csv’\n",
            "\n",
            "AirlineTweets.csv   100%[===================>]   3.26M  1.58MB/s    in 2.1s    \n",
            "\n",
            "2023-09-02 19:41:08 (1.58 MB/s) - ‘AirlineTweets.csv’ saved [3421431/3421431]\n",
            "\n"
          ]
        }
      ],
      "source": [
        "!wget https://lazyprogrammer.me/course_files/AirlineTweets.csv"
      ]
    },
    {
      "cell_type": "markdown",
      "metadata": {
        "id": "BbMVEbN1I_DZ"
      },
      "source": [
        "### Loading the dataset"
      ]
    },
    {
      "cell_type": "code",
      "execution_count": null,
      "metadata": {
        "id": "7NPzICewJXpU"
      },
      "outputs": [],
      "source": [
        "df_ =pd.read_csv('AirlineTweets.csv')"
      ]
    },
    {
      "cell_type": "code",
      "execution_count": null,
      "metadata": {
        "id": "dsBXUedrJcvZ",
        "colab": {
          "base_uri": "https://localhost:8080/",
          "height": 451
        },
        "outputId": "1c50783f-a149-4e39-9a66-f3a05048f6b2"
      },
      "outputs": [
        {
          "output_type": "execute_result",
          "data": {
            "text/plain": [
              "             tweet_id airline_sentiment  airline_sentiment_confidence  \\\n",
              "0  570306133677760513           neutral                        1.0000   \n",
              "1  570301130888122368          positive                        0.3486   \n",
              "2  570301083672813571           neutral                        0.6837   \n",
              "3  570301031407624196          negative                        1.0000   \n",
              "4  570300817074462722          negative                        1.0000   \n",
              "\n",
              "  negativereason  negativereason_confidence         airline  \\\n",
              "0            NaN                        NaN  Virgin America   \n",
              "1            NaN                     0.0000  Virgin America   \n",
              "2            NaN                        NaN  Virgin America   \n",
              "3     Bad Flight                     0.7033  Virgin America   \n",
              "4     Can't Tell                     1.0000  Virgin America   \n",
              "\n",
              "  airline_sentiment_gold        name negativereason_gold  retweet_count  \\\n",
              "0                    NaN     cairdin                 NaN              0   \n",
              "1                    NaN    jnardino                 NaN              0   \n",
              "2                    NaN  yvonnalynn                 NaN              0   \n",
              "3                    NaN    jnardino                 NaN              0   \n",
              "4                    NaN    jnardino                 NaN              0   \n",
              "\n",
              "                                                text tweet_coord  \\\n",
              "0                @VirginAmerica What @dhepburn said.         NaN   \n",
              "1  @VirginAmerica plus you've added commercials t...         NaN   \n",
              "2  @VirginAmerica I didn't today... Must mean I n...         NaN   \n",
              "3  @VirginAmerica it's really aggressive to blast...         NaN   \n",
              "4  @VirginAmerica and it's a really big bad thing...         NaN   \n",
              "\n",
              "               tweet_created tweet_location               user_timezone  \n",
              "0  2015-02-24 11:35:52 -0800            NaN  Eastern Time (US & Canada)  \n",
              "1  2015-02-24 11:15:59 -0800            NaN  Pacific Time (US & Canada)  \n",
              "2  2015-02-24 11:15:48 -0800      Lets Play  Central Time (US & Canada)  \n",
              "3  2015-02-24 11:15:36 -0800            NaN  Pacific Time (US & Canada)  \n",
              "4  2015-02-24 11:14:45 -0800            NaN  Pacific Time (US & Canada)  "
            ],
            "text/html": [
              "\n",
              "  <div id=\"df-d133f843-0e16-4ab6-9247-f472cd8571a6\" class=\"colab-df-container\">\n",
              "    <div>\n",
              "<style scoped>\n",
              "    .dataframe tbody tr th:only-of-type {\n",
              "        vertical-align: middle;\n",
              "    }\n",
              "\n",
              "    .dataframe tbody tr th {\n",
              "        vertical-align: top;\n",
              "    }\n",
              "\n",
              "    .dataframe thead th {\n",
              "        text-align: right;\n",
              "    }\n",
              "</style>\n",
              "<table border=\"1\" class=\"dataframe\">\n",
              "  <thead>\n",
              "    <tr style=\"text-align: right;\">\n",
              "      <th></th>\n",
              "      <th>tweet_id</th>\n",
              "      <th>airline_sentiment</th>\n",
              "      <th>airline_sentiment_confidence</th>\n",
              "      <th>negativereason</th>\n",
              "      <th>negativereason_confidence</th>\n",
              "      <th>airline</th>\n",
              "      <th>airline_sentiment_gold</th>\n",
              "      <th>name</th>\n",
              "      <th>negativereason_gold</th>\n",
              "      <th>retweet_count</th>\n",
              "      <th>text</th>\n",
              "      <th>tweet_coord</th>\n",
              "      <th>tweet_created</th>\n",
              "      <th>tweet_location</th>\n",
              "      <th>user_timezone</th>\n",
              "    </tr>\n",
              "  </thead>\n",
              "  <tbody>\n",
              "    <tr>\n",
              "      <th>0</th>\n",
              "      <td>570306133677760513</td>\n",
              "      <td>neutral</td>\n",
              "      <td>1.0000</td>\n",
              "      <td>NaN</td>\n",
              "      <td>NaN</td>\n",
              "      <td>Virgin America</td>\n",
              "      <td>NaN</td>\n",
              "      <td>cairdin</td>\n",
              "      <td>NaN</td>\n",
              "      <td>0</td>\n",
              "      <td>@VirginAmerica What @dhepburn said.</td>\n",
              "      <td>NaN</td>\n",
              "      <td>2015-02-24 11:35:52 -0800</td>\n",
              "      <td>NaN</td>\n",
              "      <td>Eastern Time (US &amp; Canada)</td>\n",
              "    </tr>\n",
              "    <tr>\n",
              "      <th>1</th>\n",
              "      <td>570301130888122368</td>\n",
              "      <td>positive</td>\n",
              "      <td>0.3486</td>\n",
              "      <td>NaN</td>\n",
              "      <td>0.0000</td>\n",
              "      <td>Virgin America</td>\n",
              "      <td>NaN</td>\n",
              "      <td>jnardino</td>\n",
              "      <td>NaN</td>\n",
              "      <td>0</td>\n",
              "      <td>@VirginAmerica plus you've added commercials t...</td>\n",
              "      <td>NaN</td>\n",
              "      <td>2015-02-24 11:15:59 -0800</td>\n",
              "      <td>NaN</td>\n",
              "      <td>Pacific Time (US &amp; Canada)</td>\n",
              "    </tr>\n",
              "    <tr>\n",
              "      <th>2</th>\n",
              "      <td>570301083672813571</td>\n",
              "      <td>neutral</td>\n",
              "      <td>0.6837</td>\n",
              "      <td>NaN</td>\n",
              "      <td>NaN</td>\n",
              "      <td>Virgin America</td>\n",
              "      <td>NaN</td>\n",
              "      <td>yvonnalynn</td>\n",
              "      <td>NaN</td>\n",
              "      <td>0</td>\n",
              "      <td>@VirginAmerica I didn't today... Must mean I n...</td>\n",
              "      <td>NaN</td>\n",
              "      <td>2015-02-24 11:15:48 -0800</td>\n",
              "      <td>Lets Play</td>\n",
              "      <td>Central Time (US &amp; Canada)</td>\n",
              "    </tr>\n",
              "    <tr>\n",
              "      <th>3</th>\n",
              "      <td>570301031407624196</td>\n",
              "      <td>negative</td>\n",
              "      <td>1.0000</td>\n",
              "      <td>Bad Flight</td>\n",
              "      <td>0.7033</td>\n",
              "      <td>Virgin America</td>\n",
              "      <td>NaN</td>\n",
              "      <td>jnardino</td>\n",
              "      <td>NaN</td>\n",
              "      <td>0</td>\n",
              "      <td>@VirginAmerica it's really aggressive to blast...</td>\n",
              "      <td>NaN</td>\n",
              "      <td>2015-02-24 11:15:36 -0800</td>\n",
              "      <td>NaN</td>\n",
              "      <td>Pacific Time (US &amp; Canada)</td>\n",
              "    </tr>\n",
              "    <tr>\n",
              "      <th>4</th>\n",
              "      <td>570300817074462722</td>\n",
              "      <td>negative</td>\n",
              "      <td>1.0000</td>\n",
              "      <td>Can't Tell</td>\n",
              "      <td>1.0000</td>\n",
              "      <td>Virgin America</td>\n",
              "      <td>NaN</td>\n",
              "      <td>jnardino</td>\n",
              "      <td>NaN</td>\n",
              "      <td>0</td>\n",
              "      <td>@VirginAmerica and it's a really big bad thing...</td>\n",
              "      <td>NaN</td>\n",
              "      <td>2015-02-24 11:14:45 -0800</td>\n",
              "      <td>NaN</td>\n",
              "      <td>Pacific Time (US &amp; Canada)</td>\n",
              "    </tr>\n",
              "  </tbody>\n",
              "</table>\n",
              "</div>\n",
              "    <div class=\"colab-df-buttons\">\n",
              "\n",
              "  <div class=\"colab-df-container\">\n",
              "    <button class=\"colab-df-convert\" onclick=\"convertToInteractive('df-d133f843-0e16-4ab6-9247-f472cd8571a6')\"\n",
              "            title=\"Convert this dataframe to an interactive table.\"\n",
              "            style=\"display:none;\">\n",
              "\n",
              "  <svg xmlns=\"http://www.w3.org/2000/svg\" height=\"24px\" viewBox=\"0 -960 960 960\">\n",
              "    <path d=\"M120-120v-720h720v720H120Zm60-500h600v-160H180v160Zm220 220h160v-160H400v160Zm0 220h160v-160H400v160ZM180-400h160v-160H180v160Zm440 0h160v-160H620v160ZM180-180h160v-160H180v160Zm440 0h160v-160H620v160Z\"/>\n",
              "  </svg>\n",
              "    </button>\n",
              "\n",
              "  <style>\n",
              "    .colab-df-container {\n",
              "      display:flex;\n",
              "      gap: 12px;\n",
              "    }\n",
              "\n",
              "    .colab-df-convert {\n",
              "      background-color: #E8F0FE;\n",
              "      border: none;\n",
              "      border-radius: 50%;\n",
              "      cursor: pointer;\n",
              "      display: none;\n",
              "      fill: #1967D2;\n",
              "      height: 32px;\n",
              "      padding: 0 0 0 0;\n",
              "      width: 32px;\n",
              "    }\n",
              "\n",
              "    .colab-df-convert:hover {\n",
              "      background-color: #E2EBFA;\n",
              "      box-shadow: 0px 1px 2px rgba(60, 64, 67, 0.3), 0px 1px 3px 1px rgba(60, 64, 67, 0.15);\n",
              "      fill: #174EA6;\n",
              "    }\n",
              "\n",
              "    .colab-df-buttons div {\n",
              "      margin-bottom: 4px;\n",
              "    }\n",
              "\n",
              "    [theme=dark] .colab-df-convert {\n",
              "      background-color: #3B4455;\n",
              "      fill: #D2E3FC;\n",
              "    }\n",
              "\n",
              "    [theme=dark] .colab-df-convert:hover {\n",
              "      background-color: #434B5C;\n",
              "      box-shadow: 0px 1px 3px 1px rgba(0, 0, 0, 0.15);\n",
              "      filter: drop-shadow(0px 1px 2px rgba(0, 0, 0, 0.3));\n",
              "      fill: #FFFFFF;\n",
              "    }\n",
              "  </style>\n",
              "\n",
              "    <script>\n",
              "      const buttonEl =\n",
              "        document.querySelector('#df-d133f843-0e16-4ab6-9247-f472cd8571a6 button.colab-df-convert');\n",
              "      buttonEl.style.display =\n",
              "        google.colab.kernel.accessAllowed ? 'block' : 'none';\n",
              "\n",
              "      async function convertToInteractive(key) {\n",
              "        const element = document.querySelector('#df-d133f843-0e16-4ab6-9247-f472cd8571a6');\n",
              "        const dataTable =\n",
              "          await google.colab.kernel.invokeFunction('convertToInteractive',\n",
              "                                                    [key], {});\n",
              "        if (!dataTable) return;\n",
              "\n",
              "        const docLinkHtml = 'Like what you see? Visit the ' +\n",
              "          '<a target=\"_blank\" href=https://colab.research.google.com/notebooks/data_table.ipynb>data table notebook</a>'\n",
              "          + ' to learn more about interactive tables.';\n",
              "        element.innerHTML = '';\n",
              "        dataTable['output_type'] = 'display_data';\n",
              "        await google.colab.output.renderOutput(dataTable, element);\n",
              "        const docLink = document.createElement('div');\n",
              "        docLink.innerHTML = docLinkHtml;\n",
              "        element.appendChild(docLink);\n",
              "      }\n",
              "    </script>\n",
              "  </div>\n",
              "\n",
              "\n",
              "<div id=\"df-f09b53ea-0a3a-4c3b-a040-4ffe09a556cc\">\n",
              "  <button class=\"colab-df-quickchart\" onclick=\"quickchart('df-f09b53ea-0a3a-4c3b-a040-4ffe09a556cc')\"\n",
              "            title=\"Suggest charts.\"\n",
              "            style=\"display:none;\">\n",
              "\n",
              "<svg xmlns=\"http://www.w3.org/2000/svg\" height=\"24px\"viewBox=\"0 0 24 24\"\n",
              "     width=\"24px\">\n",
              "    <g>\n",
              "        <path d=\"M19 3H5c-1.1 0-2 .9-2 2v14c0 1.1.9 2 2 2h14c1.1 0 2-.9 2-2V5c0-1.1-.9-2-2-2zM9 17H7v-7h2v7zm4 0h-2V7h2v10zm4 0h-2v-4h2v4z\"/>\n",
              "    </g>\n",
              "</svg>\n",
              "  </button>\n",
              "\n",
              "<style>\n",
              "  .colab-df-quickchart {\n",
              "      --bg-color: #E8F0FE;\n",
              "      --fill-color: #1967D2;\n",
              "      --hover-bg-color: #E2EBFA;\n",
              "      --hover-fill-color: #174EA6;\n",
              "      --disabled-fill-color: #AAA;\n",
              "      --disabled-bg-color: #DDD;\n",
              "  }\n",
              "\n",
              "  [theme=dark] .colab-df-quickchart {\n",
              "      --bg-color: #3B4455;\n",
              "      --fill-color: #D2E3FC;\n",
              "      --hover-bg-color: #434B5C;\n",
              "      --hover-fill-color: #FFFFFF;\n",
              "      --disabled-bg-color: #3B4455;\n",
              "      --disabled-fill-color: #666;\n",
              "  }\n",
              "\n",
              "  .colab-df-quickchart {\n",
              "    background-color: var(--bg-color);\n",
              "    border: none;\n",
              "    border-radius: 50%;\n",
              "    cursor: pointer;\n",
              "    display: none;\n",
              "    fill: var(--fill-color);\n",
              "    height: 32px;\n",
              "    padding: 0;\n",
              "    width: 32px;\n",
              "  }\n",
              "\n",
              "  .colab-df-quickchart:hover {\n",
              "    background-color: var(--hover-bg-color);\n",
              "    box-shadow: 0 1px 2px rgba(60, 64, 67, 0.3), 0 1px 3px 1px rgba(60, 64, 67, 0.15);\n",
              "    fill: var(--button-hover-fill-color);\n",
              "  }\n",
              "\n",
              "  .colab-df-quickchart-complete:disabled,\n",
              "  .colab-df-quickchart-complete:disabled:hover {\n",
              "    background-color: var(--disabled-bg-color);\n",
              "    fill: var(--disabled-fill-color);\n",
              "    box-shadow: none;\n",
              "  }\n",
              "\n",
              "  .colab-df-spinner {\n",
              "    border: 2px solid var(--fill-color);\n",
              "    border-color: transparent;\n",
              "    border-bottom-color: var(--fill-color);\n",
              "    animation:\n",
              "      spin 1s steps(1) infinite;\n",
              "  }\n",
              "\n",
              "  @keyframes spin {\n",
              "    0% {\n",
              "      border-color: transparent;\n",
              "      border-bottom-color: var(--fill-color);\n",
              "      border-left-color: var(--fill-color);\n",
              "    }\n",
              "    20% {\n",
              "      border-color: transparent;\n",
              "      border-left-color: var(--fill-color);\n",
              "      border-top-color: var(--fill-color);\n",
              "    }\n",
              "    30% {\n",
              "      border-color: transparent;\n",
              "      border-left-color: var(--fill-color);\n",
              "      border-top-color: var(--fill-color);\n",
              "      border-right-color: var(--fill-color);\n",
              "    }\n",
              "    40% {\n",
              "      border-color: transparent;\n",
              "      border-right-color: var(--fill-color);\n",
              "      border-top-color: var(--fill-color);\n",
              "    }\n",
              "    60% {\n",
              "      border-color: transparent;\n",
              "      border-right-color: var(--fill-color);\n",
              "    }\n",
              "    80% {\n",
              "      border-color: transparent;\n",
              "      border-right-color: var(--fill-color);\n",
              "      border-bottom-color: var(--fill-color);\n",
              "    }\n",
              "    90% {\n",
              "      border-color: transparent;\n",
              "      border-bottom-color: var(--fill-color);\n",
              "    }\n",
              "  }\n",
              "</style>\n",
              "\n",
              "  <script>\n",
              "    async function quickchart(key) {\n",
              "      const quickchartButtonEl =\n",
              "        document.querySelector('#' + key + ' button');\n",
              "      quickchartButtonEl.disabled = true;  // To prevent multiple clicks.\n",
              "      quickchartButtonEl.classList.add('colab-df-spinner');\n",
              "      try {\n",
              "        const charts = await google.colab.kernel.invokeFunction(\n",
              "            'suggestCharts', [key], {});\n",
              "      } catch (error) {\n",
              "        console.error('Error during call to suggestCharts:', error);\n",
              "      }\n",
              "      quickchartButtonEl.classList.remove('colab-df-spinner');\n",
              "      quickchartButtonEl.classList.add('colab-df-quickchart-complete');\n",
              "    }\n",
              "    (() => {\n",
              "      let quickchartButtonEl =\n",
              "        document.querySelector('#df-f09b53ea-0a3a-4c3b-a040-4ffe09a556cc button');\n",
              "      quickchartButtonEl.style.display =\n",
              "        google.colab.kernel.accessAllowed ? 'block' : 'none';\n",
              "    })();\n",
              "  </script>\n",
              "</div>\n",
              "    </div>\n",
              "  </div>\n"
            ]
          },
          "metadata": {},
          "execution_count": 61
        }
      ],
      "source": [
        "df_.head()"
      ]
    },
    {
      "cell_type": "code",
      "execution_count": null,
      "metadata": {
        "id": "0pVm2XJ2JdvO"
      },
      "outputs": [],
      "source": [
        "df= df_[['airline_sentiment','text']].copy()"
      ]
    },
    {
      "cell_type": "code",
      "execution_count": null,
      "metadata": {
        "id": "OHPm4eT8J2XW",
        "colab": {
          "base_uri": "https://localhost:8080/",
          "height": 447
        },
        "outputId": "8f8e6c26-1dab-4e6e-8fd2-457bebbf3336"
      },
      "outputs": [
        {
          "output_type": "execute_result",
          "data": {
            "text/plain": [
              "<Axes: >"
            ]
          },
          "metadata": {},
          "execution_count": 63
        },
        {
          "output_type": "display_data",
          "data": {
            "text/plain": [
              "<Figure size 640x480 with 1 Axes>"
            ],
            "image/png": "[encoded data removed]"
          },
          "metadata": {}
        }
      ],
      "source": [
        "df['airline_sentiment'].hist()"
      ]
    },
    {
      "cell_type": "code",
      "execution_count": null,
      "metadata": {
        "id": "TG9NWPUzJlI1"
      },
      "outputs": [],
      "source": [
        "target_map= {'positive':1,'negative':0,'neutral':2}\n",
        "df['target']=df['airline_sentiment'].map(target_map)"
      ]
    },
    {
      "cell_type": "markdown",
      "metadata": {
        "id": "hvPxp9VvKMbD"
      },
      "source": [
        "for it to work with the hugging face library we must name the label column or target column `label`"
      ]
    },
    {
      "cell_type": "code",
      "execution_count": null,
      "metadata": {
        "id": "w3k7pPJNJ_Iw"
      },
      "outputs": [],
      "source": [
        "df2=df[['text','target']]\n",
        "df2.columns=['sentence','label']\n",
        "df2.to_csv('data.csv',index=None)"
      ]
    },
    {
      "cell_type": "code",
      "execution_count": null,
      "metadata": {
        "id": "UxLsu4y7KZnn",
        "colab": {
          "base_uri": "https://localhost:8080/",
          "height": 113,
          "referenced_widgets": [
            "43dd2f484077431b952f882d499f680e",
            "26c003d756a4451898fc7538af0325b3",
            "9b551a4a6be648c09a39b6a236cba18f",
            "ca0dc00497bc454a831950873b69dcc3",
            "3909fc88f9e54e9d9a8736e2520de382",
            "8ca1b89f34aa4530ab03d2e0f4aa67c2",
            "4255f56d28944f6e835bebf470fae4bc",
            "456b3d5773e64fb1aaffbfc2dc8d4690",
            "d0d2234e41c34858bfe8d2c6d4d4324a",
            "18de96eb47f04cdc828eb83459f43600",
            "60fb5005e2864be0be054c76dad62ac2",
            "f354695afda94734ba3ff0559eec54d8",
            "4cf138324e2b44d582dc05fb539e6004",
            "f2495b152d0b4c809f80eefa48b57171",
            "0b6dd5ec23a8422aa62fcbdc84d05d6b",
            "654b30a065bc4c879e815b272ea4b09b",
            "791e50057bc34d6c9c19af1a136843bf",
            "ed7f1ff694b34fa2bc123424a490159e",
            "6745057781304a259ee487c45f06172d",
            "4826bc538ccd42cabbc3ca1ae89c38a8",
            "074d5ef0ef8e4d1e84972e6be50e2d08",
            "6dbd9bde63a04bb19938002427efa6fd",
            "5251c5b2d2ae4b3ca105995d6bda9198",
            "0664096f1ac2430bb35aa19bc8a9f325",
            "cbe2f4b703214b3daa356eddb8a2038c",
            "5a8988ec4c4b41e292b196daf447ac6b",
            "167d6b04ddd7475ba7de4a97d9a8770b",
            "f24ff08241d547728acf38a035f6c459",
            "89014be70277427a8fc423a1ee5124b0",
            "3d9eec3da8eb426c8c4184448a5bfaf4",
            "296109dce7414c93a87f58c674c9e144",
            "30a35dc4bb1f4503895ff36be8eb82c5",
            "8df99ebef9bc41fc83472825c478f0de"
          ]
        },
        "outputId": "adb8d098-75c1-43dc-f82f-17e8fe135159"
      },
      "outputs": [
        {
          "output_type": "display_data",
          "data": {
            "text/plain": [
              "Downloading data files:   0%|          | 0/1 [00:00<?, ?it/s]"
            ],
            "application/vnd.jupyter.widget-view+json": {
              "version_major": 2,
              "version_minor": 0,
              "model_id": "43dd2f484077431b952f882d499f680e"
            }
          },
          "metadata": {}
        },
        {
          "output_type": "display_data",
          "data": {
            "text/plain": [
              "Extracting data files:   0%|          | 0/1 [00:00<?, ?it/s]"
            ],
            "application/vnd.jupyter.widget-view+json": {
              "version_major": 2,
              "version_minor": 0,
              "model_id": "f354695afda94734ba3ff0559eec54d8"
            }
          },
          "metadata": {}
        },
        {
          "output_type": "display_data",
          "data": {
            "text/plain": [
              "Generating train split: 0 examples [00:00, ? examples/s]"
            ],
            "application/vnd.jupyter.widget-view+json": {
              "version_major": 2,
              "version_minor": 0,
              "model_id": "5251c5b2d2ae4b3ca105995d6bda9198"
            }
          },
          "metadata": {}
        }
      ],
      "source": [
        "from datasets import load_dataset\n",
        "\n",
        "raw_dataset= load_dataset('csv',data_files='data.csv')\n",
        "# for multiple files use a list ['file1.csv','file2'.csv]\n",
        "# if already split data_files={'train':['train1.csv','train2.csv'],\n",
        "#                               'test':'test.csv'}\n",
        "# all of these paths can be urls"
      ]
    },
    {
      "cell_type": "code",
      "execution_count": null,
      "metadata": {
        "id": "ahxgRyEcKi8K",
        "colab": {
          "base_uri": "https://localhost:8080/"
        },
        "outputId": "b18cffe4-2c0c-405d-c381-869238af8ed0"
      },
      "outputs": [
        {
          "output_type": "execute_result",
          "data": {
            "text/plain": [
              "DatasetDict({\n",
              "    train: Dataset({\n",
              "        features: ['sentence', 'label'],\n",
              "        num_rows: 14640\n",
              "    })\n",
              "})"
            ]
          },
          "metadata": {},
          "execution_count": 67
        }
      ],
      "source": [
        "raw_dataset"
      ]
    },
    {
      "cell_type": "code",
      "execution_count": null,
      "metadata": {
        "id": "Js-3mAa9KlOL"
      },
      "outputs": [],
      "source": [
        "split= raw_dataset['train'].train_test_split(test_size=0.3,seed=42)"
      ]
    },
    {
      "cell_type": "code",
      "execution_count": null,
      "metadata": {
        "id": "yogVXt3GKwjX",
        "colab": {
          "base_uri": "https://localhost:8080/"
        },
        "outputId": "fd3a8fa0-e4a6-45ff-80bc-ced8009b6347"
      },
      "outputs": [
        {
          "output_type": "execute_result",
          "data": {
            "text/plain": [
              "DatasetDict({\n",
              "    train: Dataset({\n",
              "        features: ['sentence', 'label'],\n",
              "        num_rows: 10248\n",
              "    })\n",
              "    test: Dataset({\n",
              "        features: ['sentence', 'label'],\n",
              "        num_rows: 4392\n",
              "    })\n",
              "})"
            ]
          },
          "metadata": {},
          "execution_count": 69
        }
      ],
      "source": [
        "split"
      ]
    },
    {
      "cell_type": "markdown",
      "source": [
        "### Loading tokenizer"
      ],
      "metadata": {
        "id": "zFqznQ6ku6f3"
      }
    },
    {
      "cell_type": "code",
      "execution_count": null,
      "metadata": {
        "id": "iBcm1YWUKxy8"
      },
      "outputs": [],
      "source": [
        "checkpoint='distilbert-base-cased'"
      ]
    },
    {
      "cell_type": "code",
      "execution_count": null,
      "metadata": {
        "id": "6PDdnaiMLUJR"
      },
      "outputs": [],
      "source": [
        "from transformers import AutoTokenizer"
      ]
    },
    {
      "cell_type": "code",
      "execution_count": null,
      "metadata": {
        "id": "76hpN-r0LzWK",
        "colab": {
          "base_uri": "https://localhost:8080/",
          "height": 145,
          "referenced_widgets": [
            "7d92918e1fd340bfb78a9176babf888c",
            "c5ab49cdb2414ad2968a4e3011a90ac5",
            "f107fe94e560467f934eb960f8d66d4e",
            "a7ee3e38ed0a4039b6f4365b3d4bc749",
            "20cc7e13802b41ee9701109ae0090220",
            "7edaf1620ad14d78917ab1bd755365c0",
            "43d87284ba294bcf8bbbd99db5f79852",
            "773cdf3b8b124545be7505074c39c3c4",
            "2bf7001dfa5041bf999bdcb35bd69039",
            "b23f46a4d9314775b35dcea4b91afba9",
            "3d8d1838fa2d41409b35a4cdaea07820",
            "4530d637b56f49589eaf637154dba7e8",
            "411a1e0895404f42b809b8703e43a30f",
            "b04ddfd46a414301956eb7623e756346",
            "d19ed90b56b144dbb98ef17c1004602c",
            "61ffbdc4d7e5470a83b2b21daf9bc0bd",
            "86c7f96dc41e4975945c3d8122ccc2dc",
            "0101caf5d32d431f9b7d5498d7b2beba",
            "bc0c43d572e3481ea6b2ef6413206646",
            "652c0515f3b843ff832770b4be7bc120",
            "8be1cb29b29e4907bca7c08b64ba4fab",
            "59465fa338c047cd8a74e9cb1556f990",
            "5f6907f1ca1440c79fe5e1b40842f423",
            "650a01d33c4b48d9b3eef71923e3433e",
            "5c1f42e0435549878fb22858057b82be",
            "873dcfbdc1db4137a5ddd9de00b06ce5",
            "7d35054de91d4c1e9e56d4395c909837",
            "fa21eace7a664eeda6a76ecb018c1a23",
            "8f313af4a3ef4df0884d8b7574bb5241",
            "6c54d55a8041470890620a24eb81cc21",
            "7ac75efe2e454394aaebc74fac9604d1",
            "feca82957e6a464f967abae7706708e1",
            "5b5c11914c1c4d8bb95ac6616fd81b2b",
            "27502ff49b0f4ecab596a9694cd57fde",
            "82ddc38f437743f39b5b3382793ee503",
            "d542eff1af9c40acba02ec4c148ee3ac",
            "25d940697f0d482c9c6d8c5ff224f6f2",
            "540f0cefbe964ea1a7caea271d277536",
            "a3694866111b44b2bf35cfe1a85787a6",
            "8dab1bdc38b54628b2ddb9e362aa3c8c",
            "0f7f24efd090434081bd36ed5faf7dab",
            "a3ab8d2e0f3c49debe183e6506bc6a56",
            "2e5e5b43af99453ab9f6c7a3fc9ead8e",
            "ce4a0e8fdaed4fc59fcaeceb30319bfe"
          ]
        },
        "outputId": "95a0b075-fee8-4d70-92a9-3c45cb807cd6"
      },
      "outputs": [
        {
          "output_type": "display_data",
          "data": {
            "text/plain": [
              "Downloading (…)okenizer_config.json:   0%|          | 0.00/29.0 [00:00<?, ?B/s]"
            ],
            "application/vnd.jupyter.widget-view+json": {
              "version_major": 2,
              "version_minor": 0,
              "model_id": "7d92918e1fd340bfb78a9176babf888c"
            }
          },
          "metadata": {}
        },
        {
          "output_type": "display_data",
          "data": {
            "text/plain": [
              "Downloading (…)lve/main/config.json:   0%|          | 0.00/411 [00:00<?, ?B/s]"
            ],
            "application/vnd.jupyter.widget-view+json": {
              "version_major": 2,
              "version_minor": 0,
              "model_id": "4530d637b56f49589eaf637154dba7e8"
            }
          },
          "metadata": {}
        },
        {
          "output_type": "display_data",
          "data": {
            "text/plain": [
              "Downloading (…)solve/main/vocab.txt:   0%|          | 0.00/213k [00:00<?, ?B/s]"
            ],
            "application/vnd.jupyter.widget-view+json": {
              "version_major": 2,
              "version_minor": 0,
              "model_id": "5f6907f1ca1440c79fe5e1b40842f423"
            }
          },
          "metadata": {}
        },
        {
          "output_type": "display_data",
          "data": {
            "text/plain": [
              "Downloading (…)/main/tokenizer.json:   0%|          | 0.00/436k [00:00<?, ?B/s]"
            ],
            "application/vnd.jupyter.widget-view+json": {
              "version_major": 2,
              "version_minor": 0,
              "model_id": "27502ff49b0f4ecab596a9694cd57fde"
            }
          },
          "metadata": {}
        }
      ],
      "source": [
        "tokenizer=AutoTokenizer.from_pretrained(checkpoint)"
      ]
    },
    {
      "cell_type": "code",
      "execution_count": null,
      "metadata": {
        "id": "fCThomU2LWZW"
      },
      "outputs": [],
      "source": [
        "def tokenize_fn(batch):\n",
        "  return tokenizer(batch['sentence'],truncation=True)"
      ]
    },
    {
      "cell_type": "code",
      "execution_count": null,
      "metadata": {
        "id": "so6FEywhLyhv",
        "colab": {
          "base_uri": "https://localhost:8080/",
          "height": 81,
          "referenced_widgets": [
            "7a99c3e7b2aa4631b59e331c577c3eb6",
            "65209a017237436e8ca6ff0b05e57262",
            "406c4a7b2de24370be77c0a04ecaf5c0",
            "22683a03f7c3484ab486a7303b1af039",
            "fff9bb7742c5419697d6e2b90c7e1b1d",
            "00374449ce9f4400a6f2acc4ec73c765",
            "05c4325449504abe812fa38eec402bb2",
            "4c2b8cfd018d408a8ece4ccb6df47b77",
            "4615880717cf4d0fbf2b00886e1719b6",
            "582d2b11ce4a429eabf287a6ceea373a",
            "6db65a82ceaa49a890ff318559798f4d",
            "452987cc60354327aa20f7c4f8a63b20",
            "662a05fb3bb44d5ab17674108759a85f",
            "0bb138f2f62846bca999099465bcd18c",
            "96f3dd9ed6ec48c38678a4de33cd9eb3",
            "01e4a65cbce34fcb941f7312bc4339ef",
            "ca3401f063fa4e4ea4496e276f2eba9f",
            "d4fba7c258eb4c17b62c999b16fd5278",
            "10a6d4bd004f451d91d281c9c88f67c5",
            "4f8a76b15ee043649b999d87ebf94086",
            "0b6cbc1608ad4c3d969e66963a2534bb",
            "bb4c01f5a8de4816a490cb69f72c6921"
          ]
        },
        "outputId": "7f3a4a69-f44e-4af5-efbf-eb5ee231f4aa"
      },
      "outputs": [
        {
          "output_type": "display_data",
          "data": {
            "text/plain": [
              "Map:   0%|          | 0/10248 [00:00<?, ? examples/s]"
            ],
            "application/vnd.jupyter.widget-view+json": {
              "version_major": 2,
              "version_minor": 0,
              "model_id": "7a99c3e7b2aa4631b59e331c577c3eb6"
            }
          },
          "metadata": {}
        },
        {
          "output_type": "display_data",
          "data": {
            "text/plain": [
              "Map:   0%|          | 0/4392 [00:00<?, ? examples/s]"
            ],
            "application/vnd.jupyter.widget-view+json": {
              "version_major": 2,
              "version_minor": 0,
              "model_id": "452987cc60354327aa20f7c4f8a63b20"
            }
          },
          "metadata": {}
        }
      ],
      "source": [
        "tokenized_datasets=split.map(tokenize_fn,batched=True)"
      ]
    },
    {
      "cell_type": "markdown",
      "source": [
        "### Specifying TrainingArgs and Config"
      ],
      "metadata": {
        "id": "7oFtmCA_vCdT"
      }
    },
    {
      "cell_type": "code",
      "execution_count": null,
      "metadata": {
        "id": "_6RMvTbJMVvl"
      },
      "outputs": [],
      "source": [
        "training_args=TrainingArguments(\n",
        "    output_dir='training_dir',\n",
        "    evaluation_strategy='epoch',\n",
        "    save_strategy = 'epoch',\n",
        "    num_train_epochs=3,\n",
        "    per_device_train_batch_size=16,\n",
        "    per_device_eval_batch_size=64\n",
        ")\n"
      ]
    },
    {
      "cell_type": "code",
      "source": [
        "from transformers import AutoConfig"
      ],
      "metadata": {
        "id": "8KlKKyEWu1Ib"
      },
      "execution_count": null,
      "outputs": []
    },
    {
      "cell_type": "code",
      "source": [
        "config=AutoConfig.from_pretrained(checkpoint)"
      ],
      "metadata": {
        "id": "E00Z5ZzRuPok"
      },
      "execution_count": null,
      "outputs": []
    },
    {
      "cell_type": "code",
      "source": [
        "config"
      ],
      "metadata": {
        "id": "EgGpnyBlucJ3",
        "colab": {
          "base_uri": "https://localhost:8080/"
        },
        "outputId": "2b3b803e-ab28-4a9b-b810-55493aa9ddee"
      },
      "execution_count": null,
      "outputs": [
        {
          "output_type": "execute_result",
          "data": {
            "text/plain": [
              "DistilBertConfig {\n",
              "  \"_name_or_path\": \"distilbert-base-cased\",\n",
              "  \"activation\": \"gelu\",\n",
              "  \"attention_dropout\": 0.1,\n",
              "  \"dim\": 768,\n",
              "  \"dropout\": 0.1,\n",
              "  \"hidden_dim\": 3072,\n",
              "  \"initializer_range\": 0.02,\n",
              "  \"max_position_embeddings\": 512,\n",
              "  \"model_type\": \"distilbert\",\n",
              "  \"n_heads\": 12,\n",
              "  \"n_layers\": 6,\n",
              "  \"output_past\": true,\n",
              "  \"pad_token_id\": 0,\n",
              "  \"qa_dropout\": 0.1,\n",
              "  \"seq_classif_dropout\": 0.2,\n",
              "  \"sinusoidal_pos_embds\": false,\n",
              "  \"tie_weights_\": true,\n",
              "  \"transformers_version\": \"4.32.1\",\n",
              "  \"vocab_size\": 28996\n",
              "}"
            ]
          },
          "metadata": {},
          "execution_count": 78
        }
      ]
    },
    {
      "cell_type": "code",
      "source": [
        "config.id2label"
      ],
      "metadata": {
        "id": "_CDDM8v5ue5h",
        "colab": {
          "base_uri": "https://localhost:8080/"
        },
        "outputId": "612744ca-b13f-4e5c-e449-312f20881d4b"
      },
      "execution_count": null,
      "outputs": [
        {
          "output_type": "execute_result",
          "data": {
            "text/plain": [
              "{0: 'LABEL_0', 1: 'LABEL_1'}"
            ]
          },
          "metadata": {},
          "execution_count": 79
        }
      ]
    },
    {
      "cell_type": "code",
      "source": [
        "config.label2id"
      ],
      "metadata": {
        "id": "qHWpGqXpuhj4",
        "colab": {
          "base_uri": "https://localhost:8080/"
        },
        "outputId": "098d8703-5bd3-464a-d8e3-43e64298d3f7"
      },
      "execution_count": null,
      "outputs": [
        {
          "output_type": "execute_result",
          "data": {
            "text/plain": [
              "{'LABEL_0': 0, 'LABEL_1': 1}"
            ]
          },
          "metadata": {},
          "execution_count": 80
        }
      ]
    },
    {
      "cell_type": "code",
      "source": [
        "config.id2label = {v:k for k,v in target_map.items()}\n",
        "config.label2id = target_map"
      ],
      "metadata": {
        "id": "V2EZ-Zvmui-g"
      },
      "execution_count": null,
      "outputs": []
    },
    {
      "cell_type": "code",
      "source": [
        "config.id2label"
      ],
      "metadata": {
        "id": "IqEnd9ZBvteB",
        "colab": {
          "base_uri": "https://localhost:8080/"
        },
        "outputId": "509525a7-2952-45c7-8637-6fe25b01e39a"
      },
      "execution_count": null,
      "outputs": [
        {
          "output_type": "execute_result",
          "data": {
            "text/plain": [
              "{1: 'positive', 0: 'negative', 2: 'neutral'}"
            ]
          },
          "metadata": {},
          "execution_count": 82
        }
      ]
    },
    {
      "cell_type": "code",
      "source": [
        "config.label2id"
      ],
      "metadata": {
        "id": "pESMRhzCvqb3",
        "colab": {
          "base_uri": "https://localhost:8080/"
        },
        "outputId": "f0a76b0e-4bbe-468d-9c16-de2099404747"
      },
      "execution_count": null,
      "outputs": [
        {
          "output_type": "execute_result",
          "data": {
            "text/plain": [
              "{'positive': 1, 'negative': 0, 'neutral': 2}"
            ]
          },
          "metadata": {},
          "execution_count": 83
        }
      ]
    },
    {
      "cell_type": "markdown",
      "source": [
        "### Loading metrics"
      ],
      "metadata": {
        "id": "xry-4qk3vo37"
      }
    },
    {
      "cell_type": "code",
      "execution_count": null,
      "metadata": {
        "id": "oJSbuGHgMwdQ"
      },
      "outputs": [],
      "source": [
        "def compute_metrics(logits_and_labels):\n",
        "  logits,labels=logits_and_labels\n",
        "  predictions=np.argmax(logits,axis=-1)\n",
        "  acc=accuracy_score(labels,predictions)\n",
        "  f1=f1_score(labels,predictions,average='macro'),\n",
        "  return {'f1':f1,'acc':acc}\n"
      ]
    },
    {
      "cell_type": "markdown",
      "source": [
        "### Loading model"
      ],
      "metadata": {
        "id": "7xNjtJ7Tu-a_"
      }
    },
    {
      "cell_type": "code",
      "execution_count": null,
      "metadata": {
        "id": "Y5Tz0raBL71A"
      },
      "outputs": [],
      "source": [
        "from transformers import AutoModelForSequenceClassification, Trainer, TrainingArguments"
      ]
    },
    {
      "cell_type": "code",
      "execution_count": null,
      "metadata": {
        "id": "BRIsFHcVMDO7",
        "colab": {
          "base_uri": "https://localhost:8080/",
          "height": 104,
          "referenced_widgets": [
            "eafd258d8ce54e60a1f7fa88e02382d0",
            "8838060585174c43b15f68b30c959e21",
            "d24075db555543b388b07ef0e1b73dde",
            "84454127be8446d9b64cc12def931596",
            "b9818dd51f654dc48a5aca5447b1fa0a",
            "ada661b4544a41fba93e1fc139eab59f",
            "dd9acedd4d4049728fa025812226a795",
            "44b8852b21094584a29f3bbcd456f2ae",
            "4f5dac21c6ad442d9fc79f9d8ce1b5cd",
            "3357790187f84030ae7e70116faced66",
            "84015554c65b41feaec91319d7dcbc1c"
          ]
        },
        "outputId": "0093c7b6-936a-465e-dc46-4ec9915ff5a6"
      },
      "outputs": [
        {
          "output_type": "display_data",
          "data": {
            "text/plain": [
              "Downloading pytorch_model.bin:   0%|          | 0.00/263M [00:00<?, ?B/s]"
            ],
            "application/vnd.jupyter.widget-view+json": {
              "version_major": 2,
              "version_minor": 0,
              "model_id": "eafd258d8ce54e60a1f7fa88e02382d0"
            }
          },
          "metadata": {}
        },
        {
          "output_type": "stream",
          "name": "stderr",
          "text": [
            "Some weights of DistilBertForSequenceClassification were not initialized from the model checkpoint at distilbert-base-cased and are newly initialized: ['pre_classifier.weight', 'classifier.bias', 'pre_classifier.bias', 'classifier.weight']\n",
            "You should probably TRAIN this model on a down-stream task to be able to use it for predictions and inference.\n"
          ]
        }
      ],
      "source": [
        "model= AutoModelForSequenceClassification.from_pretrained(checkpoint,\n",
        "                                                          config=config)"
      ]
    },
    {
      "cell_type": "code",
      "execution_count": null,
      "metadata": {
        "id": "SjzoYO0EMLQR",
        "colab": {
          "base_uri": "https://localhost:8080/"
        },
        "outputId": "4aa715ea-e339-4184-edb1-ae5f04e2902c"
      },
      "outputs": [
        {
          "output_type": "execute_result",
          "data": {
            "text/plain": [
              "================================================================================\n",
              "Layer (type:depth-idx)                                  Param #\n",
              "================================================================================\n",
              "DistilBertForSequenceClassification                     --\n",
              "├─DistilBertModel: 1-1                                  --\n",
              "│    └─Embeddings: 2-1                                  --\n",
              "│    │    └─Embedding: 3-1                              22,268,928\n",
              "│    │    └─Embedding: 3-2                              393,216\n",
              "│    │    └─LayerNorm: 3-3                              1,536\n",
              "│    │    └─Dropout: 3-4                                --\n",
              "│    └─Transformer: 2-2                                 --\n",
              "│    │    └─ModuleList: 3-5                             42,527,232\n",
              "├─Linear: 1-2                                           590,592\n",
              "├─Linear: 1-3                                           2,307\n",
              "├─Dropout: 1-4                                          --\n",
              "================================================================================\n",
              "Total params: 65,783,811\n",
              "Trainable params: 65,783,811\n",
              "Non-trainable params: 0\n",
              "================================================================================"
            ]
          },
          "metadata": {},
          "execution_count": 87
        }
      ],
      "source": [
        "from torchinfo import summary\n",
        "summary(model)"
      ]
    },
    {
      "cell_type": "markdown",
      "source": [
        "### Creating a trainer and training"
      ],
      "metadata": {
        "id": "eD-utJGLvIUW"
      }
    },
    {
      "cell_type": "code",
      "execution_count": null,
      "metadata": {
        "id": "Bf89P4HvNLGI"
      },
      "outputs": [],
      "source": [
        "trainer=Trainer(model,\n",
        "                training_args,\n",
        "                train_dataset=tokenized_datasets['train'],\n",
        "                eval_dataset=tokenized_datasets['test'],\n",
        "                tokenizer=tokenizer,\n",
        "                compute_metrics=compute_metrics)"
      ]
    },
    {
      "cell_type": "code",
      "execution_count": null,
      "metadata": {
        "id": "2GL7AYTsNZZl",
        "colab": {
          "base_uri": "https://localhost:8080/",
          "height": 293
        },
        "outputId": "dfa4c4c3-fe3b-4426-f92b-c86eefeab399"
      },
      "outputs": [
        {
          "output_type": "stream",
          "name": "stderr",
          "text": [
            "You're using a DistilBertTokenizerFast tokenizer. Please note that with a fast tokenizer, using the `__call__` method is faster than using a method to encode the text followed by a call to the `pad` method to get a padded encoding.\n"
          ]
        },
        {
          "output_type": "display_data",
          "data": {
            "text/plain": [
              "<IPython.core.display.HTML object>"
            ],
            "text/html": [
              "\n",
              "    <div>\n",
              "      \n",
              "      <progress value='1923' max='1923' style='width:300px; height:20px; vertical-align: middle;'></progress>\n",
              "      [1923/1923 03:15, Epoch 3/3]\n",
              "    </div>\n",
              "    <table border=\"1\" class=\"dataframe\">\n",
              "  <thead>\n",
              " <tr style=\"text-align: left;\">\n",
              "      <th>Epoch</th>\n",
              "      <th>Training Loss</th>\n",
              "      <th>Validation Loss</th>\n",
              "      <th>F1</th>\n",
              "      <th>Acc</th>\n",
              "    </tr>\n",
              "  </thead>\n",
              "  <tbody>\n",
              "    <tr>\n",
              "      <td>1</td>\n",
              "      <td>0.544700</td>\n",
              "      <td>0.427353</td>\n",
              "      <td>(0.7663886718943358,)</td>\n",
              "      <td>0.825820</td>\n",
              "    </tr>\n",
              "    <tr>\n",
              "      <td>2</td>\n",
              "      <td>0.353400</td>\n",
              "      <td>0.487683</td>\n",
              "      <td>(0.7724932565078926,)</td>\n",
              "      <td>0.835155</td>\n",
              "    </tr>\n",
              "    <tr>\n",
              "      <td>3</td>\n",
              "      <td>0.227900</td>\n",
              "      <td>0.645643</td>\n",
              "      <td>(0.7807182214934826,)</td>\n",
              "      <td>0.835838</td>\n",
              "    </tr>\n",
              "  </tbody>\n",
              "</table><p>"
            ]
          },
          "metadata": {}
        },
        {
          "output_type": "stream",
          "name": "stderr",
          "text": [
            "Trainer is attempting to log a value of \"(0.7663886718943358,)\" of type <class 'tuple'> for key \"eval/f1\" as a scalar. This invocation of Tensorboard's writer.add_scalar() is incorrect so we dropped this attribute.\n",
            "Trainer is attempting to log a value of \"(0.7724932565078926,)\" of type <class 'tuple'> for key \"eval/f1\" as a scalar. This invocation of Tensorboard's writer.add_scalar() is incorrect so we dropped this attribute.\n",
            "Trainer is attempting to log a value of \"(0.7807182214934826,)\" of type <class 'tuple'> for key \"eval/f1\" as a scalar. This invocation of Tensorboard's writer.add_scalar() is incorrect so we dropped this attribute.\n"
          ]
        },
        {
          "output_type": "execute_result",
          "data": {
            "text/plain": [
              "TrainOutput(global_step=1923, training_loss=0.32728781380259114, metrics={'train_runtime': 195.898, 'train_samples_per_second': 156.939, 'train_steps_per_second': 9.816, 'total_flos': 387616869956304.0, 'train_loss': 0.32728781380259114, 'epoch': 3.0})"
            ]
          },
          "metadata": {},
          "execution_count": 89
        }
      ],
      "source": [
        "trainer.train()"
      ]
    },
    {
      "cell_type": "code",
      "execution_count": null,
      "metadata": {
        "id": "YMZGN-c-NhyQ",
        "colab": {
          "base_uri": "https://localhost:8080/"
        },
        "outputId": "9768f793-9937-4733-bb36-76878e4d315e"
      },
      "outputs": [
        {
          "output_type": "stream",
          "name": "stdout",
          "text": [
            "checkpoint-1282  checkpoint-1923  checkpoint-641  runs\n"
          ]
        }
      ],
      "source": [
        "!ls training_dir"
      ]
    },
    {
      "cell_type": "code",
      "execution_count": null,
      "metadata": {
        "id": "dWm6XVhiTJZV"
      },
      "outputs": [],
      "source": [
        "trainer.save_model(\"my_saved_custom_model\")"
      ]
    },
    {
      "cell_type": "markdown",
      "source": [
        "### Loading the saved model through pipeline"
      ],
      "metadata": {
        "id": "AuSkHijuvNkG"
      }
    },
    {
      "cell_type": "code",
      "execution_count": null,
      "metadata": {
        "id": "B3bFxY1dNubY"
      },
      "outputs": [],
      "source": [
        "from transformers import pipeline"
      ]
    },
    {
      "cell_type": "code",
      "execution_count": null,
      "metadata": {
        "id": "UPaHL7PCTIHo",
        "colab": {
          "base_uri": "https://localhost:8080/"
        },
        "outputId": "e5208338-a776-4a42-e5d7-000e8f442f33"
      },
      "outputs": [
        {
          "output_type": "execute_result",
          "data": {
            "text/plain": [
              "Dataset({\n",
              "    features: ['sentence', 'label'],\n",
              "    num_rows: 4392\n",
              "})"
            ]
          },
          "metadata": {},
          "execution_count": 93
        }
      ],
      "source": [
        "split['test']"
      ]
    },
    {
      "cell_type": "code",
      "execution_count": null,
      "metadata": {
        "id": "sWspEcvYS4hy"
      },
      "outputs": [],
      "source": [
        "clf= pipeline('text-classification',model='my_saved_custom_model',device=0)"
      ]
    },
    {
      "cell_type": "code",
      "source": [
        "test_preds=clf(split['test']['sentence'])"
      ],
      "metadata": {
        "id": "96ZK5xuErcy4"
      },
      "execution_count": null,
      "outputs": []
    },
    {
      "cell_type": "code",
      "source": [
        "clf(\"love it\")"
      ],
      "metadata": {
        "id": "7GdszikIWese",
        "colab": {
          "base_uri": "https://localhost:8080/"
        },
        "outputId": "706d2839-df17-4e56-9957-d200f9fbdfd1"
      },
      "execution_count": null,
      "outputs": [
        {
          "output_type": "execute_result",
          "data": {
            "text/plain": [
              "[{'label': 'positive', 'score': 0.984031081199646}]"
            ]
          },
          "metadata": {},
          "execution_count": 96
        }
      ]
    },
    {
      "cell_type": "code",
      "source": [
        "test_preds[0:5]"
      ],
      "metadata": {
        "id": "FxVbbszNWm8N",
        "colab": {
          "base_uri": "https://localhost:8080/"
        },
        "outputId": "4dc841e7-5ae2-4ff1-be66-a1991b5f2a12"
      },
      "execution_count": null,
      "outputs": [
        {
          "output_type": "execute_result",
          "data": {
            "text/plain": [
              "[{'label': 'positive', 'score': 0.9656002521514893},\n",
              " {'label': 'positive', 'score': 0.9877353310585022},\n",
              " {'label': 'positive', 'score': 0.9700684547424316},\n",
              " {'label': 'positive', 'score': 0.9840524196624756},\n",
              " {'label': 'neutral', 'score': 0.9914095997810364}]"
            ]
          },
          "metadata": {},
          "execution_count": 97
        }
      ]
    },
    {
      "cell_type": "markdown",
      "source": [
        "### Testing"
      ],
      "metadata": {
        "id": "tDSzIpkyvRyj"
      }
    },
    {
      "cell_type": "code",
      "source": [
        "def get_label(d):\n",
        "  return target_map[d['label']]\n",
        "\n",
        "test_pred=[get_label(d) for d in test_preds]"
      ],
      "metadata": {
        "id": "Bs_RHHQTr862"
      },
      "execution_count": null,
      "outputs": []
    },
    {
      "cell_type": "code",
      "source": [
        "print(\"Accuracy: \",accuracy_score(split['test']['label'],test_pred))"
      ],
      "metadata": {
        "id": "a5BV-owVsKtd",
        "colab": {
          "base_uri": "https://localhost:8080/"
        },
        "outputId": "0a3225f4-7065-4127-a8a9-623c6ce20f1c"
      },
      "execution_count": null,
      "outputs": [
        {
          "output_type": "stream",
          "name": "stdout",
          "text": [
            "Accuracy:  0.8358378870673953\n"
          ]
        }
      ]
    },
    {
      "cell_type": "code",
      "source": [
        "print(\"F1: \",f1_score(split['test']['label'],test_pred,average='macro'))"
      ],
      "metadata": {
        "id": "6rrQpZ-LsUW7",
        "colab": {
          "base_uri": "https://localhost:8080/"
        },
        "outputId": "d69f3ab6-ba6f-4621-f547-00e3881ea0ec"
      },
      "execution_count": null,
      "outputs": [
        {
          "output_type": "stream",
          "name": "stdout",
          "text": [
            "F1:  0.7807182214934826\n"
          ]
        }
      ]
    },
    {
      "cell_type": "code",
      "source": [
        "from sklearn.metrics import ConfusionMatrixDisplay\n",
        "\n",
        "cmp=ConfusionMatrixDisplay.from_predictions(split['test']['label'],test_pred,display_labels=['negative','positive','neutral'])"
      ],
      "metadata": {
        "id": "p_iQVbUxsfiZ",
        "colab": {
          "base_uri": "https://localhost:8080/",
          "height": 449
        },
        "outputId": "2ea7637f-1ab4-4436-8a69-501cdcec1c49"
      },
      "execution_count": null,
      "outputs": [
        {
          "output_type": "display_data",
          "data": {
            "text/plain": [
              "<Figure size 640x480 with 2 Axes>"
            ],
            "image/png": "[encoded data removed]"
          },
          "metadata": {}
        }
      ]
    },
    {
      "cell_type": "markdown",
      "source": [
        "## Multiple Input Sentences\n",
        "\n",
        "Applications:\n",
        "\n",
        "* Answering Multiple Choice\n",
        "* Chatbots with past context\n",
        "* Question Answering"
      ],
      "metadata": {
        "id": "wNOmH_gbsygf"
      }
    },
    {
      "cell_type": "markdown",
      "source": [
        "## Textual Entailment\n",
        "\n",
        "* \"Bob buys a car\" => Entails => \"Bob owns a car\"\n",
        "* \"Bob purchased cheese\" => doesn't entails => \"Bos doesn't have cheese\""
      ],
      "metadata": {
        "id": "wxZ6UCQMxUM4"
      }
    },
    {
      "cell_type": "code",
      "source": [
        "!pip install transformers datasets torchinfo"
      ],
      "metadata": {
        "id": "OijSXU1fxKKq",
        "colab": {
          "base_uri": "https://localhost:8080/"
        },
        "outputId": "1fc6f3c0-e170-432e-ff39-050680b96bb0"
      },
      "execution_count": null,
      "outputs": [
        {
          "output_type": "stream",
          "name": "stdout",
          "text": [
            "Requirement already satisfied: transformers in /usr/local/lib/python3.10/dist-packages (4.32.1)\n",
            "Requirement already satisfied: datasets in /usr/local/lib/python3.10/dist-packages (2.14.4)\n",
            "Requirement already satisfied: torchinfo in /usr/local/lib/python3.10/dist-packages (1.8.0)\n",
            "Requirement already satisfied: filelock in /usr/local/lib/python3.10/dist-packages (from transformers) (3.12.2)\n",
            "Requirement already satisfied: huggingface-hub<1.0,>=0.15.1 in /usr/local/lib/python3.10/dist-packages (from transformers) (0.16.4)\n",
            "Requirement already satisfied: numpy>=1.17 in /usr/local/lib/python3.10/dist-packages (from transformers) (1.23.5)\n",
            "Requirement already satisfied: packaging>=20.0 in /usr/local/lib/python3.10/dist-packages (from transformers) (23.1)\n",
            "Requirement already satisfied: pyyaml>=5.1 in /usr/local/lib/python3.10/dist-packages (from transformers) (6.0.1)\n",
            "Requirement already satisfied: regex!=2019.12.17 in /usr/local/lib/python3.10/dist-packages (from transformers) (2023.6.3)\n",
            "Requirement already satisfied: requests in /usr/local/lib/python3.10/dist-packages (from transformers) (2.31.0)\n",
            "Requirement already satisfied: tokenizers!=0.11.3,<0.14,>=0.11.1 in /usr/local/lib/python3.10/dist-packages (from transformers) (0.13.3)\n",
            "Requirement already satisfied: safetensors>=0.3.1 in /usr/local/lib/python3.10/dist-packages (from transformers) (0.3.3)\n",
            "Requirement already satisfied: tqdm>=4.27 in /usr/local/lib/python3.10/dist-packages (from transformers) (4.66.1)\n",
            "Requirement already satisfied: pyarrow>=8.0.0 in /usr/local/lib/python3.10/dist-packages (from datasets) (9.0.0)\n",
            "Requirement already satisfied: dill<0.3.8,>=0.3.0 in /usr/local/lib/python3.10/dist-packages (from datasets) (0.3.7)\n",
            "Requirement already satisfied: pandas in /usr/local/lib/python3.10/dist-packages (from datasets) (1.5.3)\n",
            "Requirement already satisfied: xxhash in /usr/local/lib/python3.10/dist-packages (from datasets) (3.3.0)\n",
            "Requirement already satisfied: multiprocess in /usr/local/lib/python3.10/dist-packages (from datasets) (0.70.15)\n",
            "Requirement already satisfied: fsspec[http]>=2021.11.1 in /usr/local/lib/python3.10/dist-packages (from datasets) (2023.6.0)\n",
            "Requirement already satisfied: aiohttp in /usr/local/lib/python3.10/dist-packages (from datasets) (3.8.5)\n",
            "Requirement already satisfied: attrs>=17.3.0 in /usr/local/lib/python3.10/dist-packages (from aiohttp->datasets) (23.1.0)\n",
            "Requirement already satisfied: charset-normalizer<4.0,>=2.0 in /usr/local/lib/python3.10/dist-packages (from aiohttp->datasets) (3.2.0)\n",
            "Requirement already satisfied: multidict<7.0,>=4.5 in /usr/local/lib/python3.10/dist-packages (from aiohttp->datasets) (6.0.4)\n",
            "Requirement already satisfied: async-timeout<5.0,>=4.0.0a3 in /usr/local/lib/python3.10/dist-packages (from aiohttp->datasets) (4.0.3)\n",
            "Requirement already satisfied: yarl<2.0,>=1.0 in /usr/local/lib/python3.10/dist-packages (from aiohttp->datasets) (1.9.2)\n",
            "Requirement already satisfied: frozenlist>=1.1.1 in /usr/local/lib/python3.10/dist-packages (from aiohttp->datasets) (1.4.0)\n",
            "Requirement already satisfied: aiosignal>=1.1.2 in /usr/local/lib/python3.10/dist-packages (from aiohttp->datasets) (1.3.1)\n",
            "Requirement already satisfied: typing-extensions>=3.7.4.3 in /usr/local/lib/python3.10/dist-packages (from huggingface-hub<1.0,>=0.15.1->transformers) (4.7.1)\n",
            "Requirement already satisfied: idna<4,>=2.5 in /usr/local/lib/python3.10/dist-packages (from requests->transformers) (3.4)\n",
            "Requirement already satisfied: urllib3<3,>=1.21.1 in /usr/local/lib/python3.10/dist-packages (from requests->transformers) (2.0.4)\n",
            "Requirement already satisfied: certifi>=2017.4.17 in /usr/local/lib/python3.10/dist-packages (from requests->transformers) (2023.7.22)\n",
            "Requirement already satisfied: python-dateutil>=2.8.1 in /usr/local/lib/python3.10/dist-packages (from pandas->datasets) (2.8.2)\n",
            "Requirement already satisfied: pytz>=2020.1 in /usr/local/lib/python3.10/dist-packages (from pandas->datasets) (2023.3)\n",
            "Requirement already satisfied: six>=1.5 in /usr/local/lib/python3.10/dist-packages (from python-dateutil>=2.8.1->pandas->datasets) (1.16.0)\n"
          ]
        }
      ]
    },
    {
      "cell_type": "markdown",
      "source": [
        "### Importing Libs"
      ],
      "metadata": {
        "id": "Pa6XGTY1qYon"
      }
    },
    {
      "cell_type": "code",
      "source": [
        "from datasets import load_dataset\n",
        "import numpy as np\n",
        "from transformers import AutoTokenizer, AutoModelForSequenceClassification, Trainer, TrainingArguments"
      ],
      "metadata": {
        "id": "D45SEHBxq_LN"
      },
      "execution_count": null,
      "outputs": []
    },
    {
      "cell_type": "code",
      "source": [
        "#restart runtime after this\n",
        "!pip install accelerate -U"
      ],
      "metadata": {
        "colab": {
          "base_uri": "https://localhost:8080/"
        },
        "id": "SkZAx8OH51-v",
        "outputId": "ae1755ac-5150-4562-e0c3-aab6ddbb402e"
      },
      "execution_count": null,
      "outputs": [
        {
          "output_type": "stream",
          "name": "stdout",
          "text": [
            "Requirement already satisfied: accelerate in /usr/local/lib/python3.10/dist-packages (0.22.0)\n",
            "Requirement already satisfied: numpy>=1.17 in /usr/local/lib/python3.10/dist-packages (from accelerate) (1.23.5)\n",
            "Requirement already satisfied: packaging>=20.0 in /usr/local/lib/python3.10/dist-packages (from accelerate) (23.1)\n",
            "Requirement already satisfied: psutil in /usr/local/lib/python3.10/dist-packages (from accelerate) (5.9.5)\n",
            "Requirement already satisfied: pyyaml in /usr/local/lib/python3.10/dist-packages (from accelerate) (6.0.1)\n",
            "Requirement already satisfied: torch>=1.10.0 in /usr/local/lib/python3.10/dist-packages (from accelerate) (2.0.1+cu118)\n",
            "Requirement already satisfied: filelock in /usr/local/lib/python3.10/dist-packages (from torch>=1.10.0->accelerate) (3.12.2)\n",
            "Requirement already satisfied: typing-extensions in /usr/local/lib/python3.10/dist-packages (from torch>=1.10.0->accelerate) (4.7.1)\n",
            "Requirement already satisfied: sympy in /usr/local/lib/python3.10/dist-packages (from torch>=1.10.0->accelerate) (1.12)\n",
            "Requirement already satisfied: networkx in /usr/local/lib/python3.10/dist-packages (from torch>=1.10.0->accelerate) (3.1)\n",
            "Requirement already satisfied: jinja2 in /usr/local/lib/python3.10/dist-packages (from torch>=1.10.0->accelerate) (3.1.2)\n",
            "Requirement already satisfied: triton==2.0.0 in /usr/local/lib/python3.10/dist-packages (from torch>=1.10.0->accelerate) (2.0.0)\n",
            "Requirement already satisfied: cmake in /usr/local/lib/python3.10/dist-packages (from triton==2.0.0->torch>=1.10.0->accelerate) (3.27.2)\n",
            "Requirement already satisfied: lit in /usr/local/lib/python3.10/dist-packages (from triton==2.0.0->torch>=1.10.0->accelerate) (16.0.6)\n",
            "Requirement already satisfied: MarkupSafe>=2.0 in /usr/local/lib/python3.10/dist-packages (from jinja2->torch>=1.10.0->accelerate) (2.1.3)\n",
            "Requirement already satisfied: mpmath>=0.19 in /usr/local/lib/python3.10/dist-packages (from sympy->torch>=1.10.0->accelerate) (1.3.0)\n"
          ]
        }
      ]
    },
    {
      "cell_type": "code",
      "source": [
        "import torch"
      ],
      "metadata": {
        "id": "YSOdPb8u9Qix"
      },
      "execution_count": null,
      "outputs": []
    },
    {
      "cell_type": "markdown",
      "source": [
        "### Loading data"
      ],
      "metadata": {
        "id": "g6J7amNrrB07"
      }
    },
    {
      "cell_type": "code",
      "source": [
        "raw_datasets = load_dataset(\"glue\",\"rte\")"
      ],
      "metadata": {
        "id": "P1qzx4gfrE5m",
        "colab": {
          "base_uri": "https://localhost:8080/",
          "height": 145,
          "referenced_widgets": [
            "9eb1ad68e4da4257baa24aa23f377721",
            "a98acb01a50948a7bfcd770f7b61832d",
            "b6ab78c5ae4b441dafeabb06a67650d2",
            "2fdffb3df04a4e04a890c3beeda63085",
            "dd3002e785ed48c49ae4578510980cb3",
            "8e55f3ee674d4dda9d447b972676536b",
            "b11a92b6375545309133f384649bb824",
            "88c9a3a102ac486992a23840921c3930",
            "f06e693aac0a41548a8af3c58316ac13",
            "c26ff695b4234886bafe7130b827aa1d",
            "e2619d1ce77540fda34c4970ba417d22",
            "295474f3221b442589320c77c1d00496",
            "d4783667538c484188da537dfd2ffa11",
            "d60c515fa14f4363a5fd650a79bafea6",
            "8f7d7b3ea9e74c378280fd6ac41e0f58",
            "5c735980269449a6a51c2925670387f1",
            "4956e3c58bb1446ca0c65a5a7682b406",
            "05fb5aeb22ca41269531354e24bc1009",
            "589fba990d4a47f69d57fb6a9ba9fb70",
            "2973a92f9f33455aa23461addd88d955",
            "8feb4f98a1464a1295961195cddc7de7",
            "8fb2990cf7f046509e6e08d51dfb1a30",
            "d636e30a647f49f29ab34fa0cee8bebd",
            "e2f952ec70bb42d481fd928436567aab",
            "3752b53f935b4d12b558489968f71716",
            "be50083bed614b3c884cca7c74848590",
            "bf0e107425794b8fa0f3b5bd035547c2",
            "d28e4692beb94919bc6a2654eaf4e3f0",
            "abc0035335164e7490a875075e9ab0de",
            "f9a5c3d0cfe6482487df546a54ef808d",
            "f79531d6cb5b403da5ea628fc2dae001",
            "9dd1c10fc9f94097934a90879000b988",
            "3cfbbb4578874845a4a06d966d31ad82",
            "4104d8d4014a4f238633bac858b2f86c",
            "1eb35eeb259a4720ad58753b70a2619d",
            "69787439de3049cf8a46acc665addebe",
            "941b5bfe526543b59775ca79eddc19ec",
            "534c4c09b3ef4ea68b3a92b095ab84ea",
            "dba67862e880448badf3488c6599daa9",
            "349dacbc79a047ceaa1aef9a4dd20b1d",
            "57999497168b4711a6ef444bef6b3f3b",
            "9e97ab26db954f11a5e84abebb052034",
            "5875b0079a9b4fda8f0af0a29439ab9c",
            "8ca6480ffb8246c5bf8bf5663aa387b7"
          ]
        },
        "outputId": "88f2b5a2-4630-4f35-e5d4-9733a09cde64"
      },
      "execution_count": null,
      "outputs": [
        {
          "output_type": "display_data",
          "data": {
            "text/plain": [
              "Downloading data:   0%|          | 0.00/697k [00:00<?, ?B/s]"
            ],
            "application/vnd.jupyter.widget-view+json": {
              "version_major": 2,
              "version_minor": 0,
              "model_id": "9eb1ad68e4da4257baa24aa23f377721"
            }
          },
          "metadata": {}
        },
        {
          "output_type": "display_data",
          "data": {
            "text/plain": [
              "Generating train split:   0%|          | 0/2490 [00:00<?, ? examples/s]"
            ],
            "application/vnd.jupyter.widget-view+json": {
              "version_major": 2,
              "version_minor": 0,
              "model_id": "295474f3221b442589320c77c1d00496"
            }
          },
          "metadata": {}
        },
        {
          "output_type": "display_data",
          "data": {
            "text/plain": [
              "Generating validation split:   0%|          | 0/277 [00:00<?, ? examples/s]"
            ],
            "application/vnd.jupyter.widget-view+json": {
              "version_major": 2,
              "version_minor": 0,
              "model_id": "d636e30a647f49f29ab34fa0cee8bebd"
            }
          },
          "metadata": {}
        },
        {
          "output_type": "display_data",
          "data": {
            "text/plain": [
              "Generating test split:   0%|          | 0/3000 [00:00<?, ? examples/s]"
            ],
            "application/vnd.jupyter.widget-view+json": {
              "version_major": 2,
              "version_minor": 0,
              "model_id": "4104d8d4014a4f238633bac858b2f86c"
            }
          },
          "metadata": {}
        }
      ]
    },
    {
      "cell_type": "code",
      "source": [
        "raw_datasets"
      ],
      "metadata": {
        "colab": {
          "base_uri": "https://localhost:8080/"
        },
        "id": "2RcBroqKrK_j",
        "outputId": "14ceb5f4-4c82-45cf-fb9f-f3e884b8339b"
      },
      "execution_count": null,
      "outputs": [
        {
          "output_type": "execute_result",
          "data": {
            "text/plain": [
              "DatasetDict({\n",
              "    train: Dataset({\n",
              "        features: ['sentence1', 'sentence2', 'label', 'idx'],\n",
              "        num_rows: 2490\n",
              "    })\n",
              "    validation: Dataset({\n",
              "        features: ['sentence1', 'sentence2', 'label', 'idx'],\n",
              "        num_rows: 277\n",
              "    })\n",
              "    test: Dataset({\n",
              "        features: ['sentence1', 'sentence2', 'label', 'idx'],\n",
              "        num_rows: 3000\n",
              "    })\n",
              "})"
            ]
          },
          "metadata": {},
          "execution_count": 107
        }
      ]
    },
    {
      "cell_type": "code",
      "source": [
        "raw_datasets['train']['label'][:10]"
      ],
      "metadata": {
        "colab": {
          "base_uri": "https://localhost:8080/"
        },
        "id": "Fk2KnEfm8wai",
        "outputId": "abd272c2-3c4e-4839-a484-0b3fdf7c4d20"
      },
      "execution_count": null,
      "outputs": [
        {
          "output_type": "execute_result",
          "data": {
            "text/plain": [
              "[1, 0, 0, 0, 1, 0, 1, 1, 0, 0]"
            ]
          },
          "metadata": {},
          "execution_count": 108
        }
      ]
    },
    {
      "cell_type": "code",
      "source": [
        "raw_datasets['train'].features"
      ],
      "metadata": {
        "colab": {
          "base_uri": "https://localhost:8080/"
        },
        "id": "jlI4OwSFrMSZ",
        "outputId": "9d212b0c-b63e-4add-9033-aebfd6dcc8e2"
      },
      "execution_count": null,
      "outputs": [
        {
          "output_type": "execute_result",
          "data": {
            "text/plain": [
              "{'sentence1': Value(dtype='string', id=None),\n",
              " 'sentence2': Value(dtype='string', id=None),\n",
              " 'label': ClassLabel(names=['entailment', 'not_entailment'], id=None),\n",
              " 'idx': Value(dtype='int32', id=None)}"
            ]
          },
          "metadata": {},
          "execution_count": 109
        }
      ]
    },
    {
      "cell_type": "code",
      "source": [
        "raw_datasets['train']['sentence1'][:5]"
      ],
      "metadata": {
        "colab": {
          "base_uri": "https://localhost:8080/"
        },
        "id": "1Tz4avBxrSt6",
        "outputId": "eab3ca05-54c1-413e-d06c-403e0a7197aa"
      },
      "execution_count": null,
      "outputs": [
        {
          "output_type": "execute_result",
          "data": {
            "text/plain": [
              "['No Weapons of Mass Destruction Found in Iraq Yet.',\n",
              " 'A place of sorrow, after Pope John Paul II died, became a place of celebration, as Roman Catholic faithful gathered in downtown Chicago to mark the installation of new Pope Benedict XVI.',\n",
              " 'Herceptin was already approved to treat the sickest breast cancer patients, and the company said, Monday, it will discuss with federal regulators the possibility of prescribing the drug for more breast cancer patients.',\n",
              " 'Judie Vivian, chief executive at ProMedica, a medical service company that helps sustain the 2-year-old Vietnam Heart Institute in Ho Chi Minh City (formerly Saigon), said that so far about 1,500 children have received treatment.',\n",
              " \"A man is due in court later charged with the murder 26 years ago of a teenager whose case was the first to be featured on BBC One's Crimewatch. Colette Aram, 16, was walking to her boyfriend's house in Keyworth, Nottinghamshire, on 30 October 1983 when she disappeared. Her body was later found in a field close to her home. Paul Stewart Hutchinson, 50, has been charged with murder and is due before Nottingham magistrates later.\"]"
            ]
          },
          "metadata": {},
          "execution_count": 110
        }
      ]
    },
    {
      "cell_type": "markdown",
      "source": [
        "### Loading Tokenizer"
      ],
      "metadata": {
        "id": "aGMlxvrRrsGa"
      }
    },
    {
      "cell_type": "code",
      "source": [
        "# Try albert-xxlarge-v2 or albert-base-v2\n",
        "# They show good results on this\n",
        "checkpoint = 'bert-base-cased'\n",
        "\n",
        "tokenizer = AutoTokenizer.from_pretrained(checkpoint)"
      ],
      "metadata": {
        "id": "kaQppgu9rZRi"
      },
      "execution_count": null,
      "outputs": []
    },
    {
      "cell_type": "code",
      "source": [
        "result = tokenizer(raw_datasets['train']['sentence1'][0]\n",
        "          ,raw_datasets['train']['sentence2'][0])\n",
        "\n",
        "result"
      ],
      "metadata": {
        "colab": {
          "base_uri": "https://localhost:8080/"
        },
        "id": "mfSEOLcfrgDm",
        "outputId": "636066fe-afd8-4684-e5e5-758094b0177d"
      },
      "execution_count": null,
      "outputs": [
        {
          "output_type": "execute_result",
          "data": {
            "text/plain": [
              "{'input_ids': [101, 1302, 20263, 1104, 8718, 14177, 17993, 17107, 1107, 5008, 6355, 119, 102, 20263, 1104, 8718, 14177, 17993, 17107, 1107, 5008, 119, 102], 'token_type_ids': [0, 0, 0, 0, 0, 0, 0, 0, 0, 0, 0, 0, 0, 1, 1, 1, 1, 1, 1, 1, 1, 1, 1], 'attention_mask': [1, 1, 1, 1, 1, 1, 1, 1, 1, 1, 1, 1, 1, 1, 1, 1, 1, 1, 1, 1, 1, 1, 1]}"
            ]
          },
          "metadata": {},
          "execution_count": 112
        }
      ]
    },
    {
      "cell_type": "code",
      "source": [
        "result.keys()"
      ],
      "metadata": {
        "colab": {
          "base_uri": "https://localhost:8080/"
        },
        "id": "lYzbrPvkr0t1",
        "outputId": "40faa506-5823-465e-9d0d-91062dd33d2b"
      },
      "execution_count": null,
      "outputs": [
        {
          "output_type": "execute_result",
          "data": {
            "text/plain": [
              "dict_keys(['input_ids', 'token_type_ids', 'attention_mask'])"
            ]
          },
          "metadata": {},
          "execution_count": 113
        }
      ]
    },
    {
      "cell_type": "code",
      "source": [
        "tokenizer.decode(result['input_ids'])"
      ],
      "metadata": {
        "colab": {
          "base_uri": "https://localhost:8080/",
          "height": 35
        },
        "id": "-IhPWtO0r5ar",
        "outputId": "b244cb5b-7013-4f0b-eb15-4197781189d5"
      },
      "execution_count": null,
      "outputs": [
        {
          "output_type": "execute_result",
          "data": {
            "text/plain": [
              "'[CLS] No Weapons of Mass Destruction Found in Iraq Yet. [SEP] Weapons of Mass Destruction Found in Iraq. [SEP]'"
            ],
            "application/vnd.google.colaboratory.intrinsic+json": {
              "type": "string"
            }
          },
          "metadata": {},
          "execution_count": 114
        }
      ]
    },
    {
      "cell_type": "markdown",
      "source": [
        "### Loading model"
      ],
      "metadata": {
        "id": "oCLV_ZEpsfe7"
      }
    },
    {
      "cell_type": "code",
      "source": [
        "model = AutoModelForSequenceClassification.from_pretrained(checkpoint,\n",
        "                                                           num_labels=2)"
      ],
      "metadata": {
        "colab": {
          "base_uri": "https://localhost:8080/"
        },
        "id": "QQNMGEeLr99z",
        "outputId": "3895f35a-f811-4a4c-be71-80c37ab16249"
      },
      "execution_count": null,
      "outputs": [
        {
          "output_type": "stream",
          "name": "stderr",
          "text": [
            "Some weights of BertForSequenceClassification were not initialized from the model checkpoint at bert-base-cased and are newly initialized: ['classifier.bias', 'classifier.weight']\n",
            "You should probably TRAIN this model on a down-stream task to be able to use it for predictions and inference.\n"
          ]
        }
      ]
    },
    {
      "cell_type": "markdown",
      "source": [
        "### Defining TrainingArguments"
      ],
      "metadata": {
        "id": "Tu8O82sdsiiV"
      }
    },
    {
      "cell_type": "code",
      "source": [
        "training_args = TrainingArguments(\n",
        "    output_dir='training_dir',\n",
        "    evaluation_strategy='epoch',\n",
        "    save_strategy='epoch',\n",
        "    num_train_epochs=5,\n",
        "    per_device_train_batch_size=16,\n",
        "    per_device_eval_batch_size=32,\n",
        "    logging_steps=150 # otherwise, 'no log\" will appear under training loss since data is small\n",
        ")"
      ],
      "metadata": {
        "id": "JuKiRdyGsJKd"
      },
      "execution_count": null,
      "outputs": []
    },
    {
      "cell_type": "markdown",
      "source": [
        "### Loading Metrics"
      ],
      "metadata": {
        "id": "DTBTctLysyD-"
      }
    },
    {
      "cell_type": "code",
      "source": [
        "from datasets import load_metric"
      ],
      "metadata": {
        "id": "GFy2tnyXs0ZK"
      },
      "execution_count": null,
      "outputs": []
    },
    {
      "cell_type": "code",
      "source": [
        "metric = load_metric('glue','rte')"
      ],
      "metadata": {
        "id": "Bdu7zdiDs2Bs"
      },
      "execution_count": null,
      "outputs": []
    },
    {
      "cell_type": "code",
      "source": [
        "metric.compute(predictions=[1,0,1],references=[1,0,0])"
      ],
      "metadata": {
        "colab": {
          "base_uri": "https://localhost:8080/"
        },
        "id": "6jLAsjhss6fz",
        "outputId": "e6f92c96-1c93-4a11-bcf1-7fcc46a8069c"
      },
      "execution_count": null,
      "outputs": [
        {
          "output_type": "execute_result",
          "data": {
            "text/plain": [
              "{'accuracy': 0.6666666666666666}"
            ]
          },
          "metadata": {},
          "execution_count": 119
        }
      ]
    },
    {
      "cell_type": "markdown",
      "source": [
        "We only get accuracy, so we are going to include F1-score"
      ],
      "metadata": {
        "id": "LoYeIvsQtBQM"
      }
    },
    {
      "cell_type": "code",
      "source": [
        "from sklearn.metrics import f1_score"
      ],
      "metadata": {
        "id": "DPTjBKrGtGxM"
      },
      "execution_count": null,
      "outputs": []
    },
    {
      "cell_type": "code",
      "source": [
        "def compute_metrics(logits_and_labels):\n",
        "  logits, labels = logits_and_labels\n",
        "  predictions = np.argmax(logits,axis=-1)\n",
        "  acc = np.mean(predictions==labels)\n",
        "  f1 = f1_score(labels,predictions)\n",
        "  return {'accuracy':acc, 'f1-score':f1}"
      ],
      "metadata": {
        "id": "wIje7JGvtIye"
      },
      "execution_count": null,
      "outputs": []
    },
    {
      "cell_type": "markdown",
      "source": [
        "### Tokenizing Dataset"
      ],
      "metadata": {
        "id": "9on-EcAitq7c"
      }
    },
    {
      "cell_type": "code",
      "source": [
        "def tokenize_fn(batch):\n",
        "  return tokenizer(batch['sentence1'],batch['sentence2'],truncation=True)"
      ],
      "metadata": {
        "id": "Mk1qzXbWtuE9"
      },
      "execution_count": null,
      "outputs": []
    },
    {
      "cell_type": "code",
      "source": [
        "tokenized_datasets = raw_datasets.map(tokenize_fn,\n",
        "                                      batched=True,\n",
        "                                    remove_columns=['idx'])"
      ],
      "metadata": {
        "colab": {
          "base_uri": "https://localhost:8080/",
          "height": 113,
          "referenced_widgets": [
            "de6051f2c7cc4f4db4757872727c011e",
            "f0ef8c2d813144fa9219f36864f76102",
            "15f09e3ce8aa4db399c5a520366b7887",
            "b1f7bc1fe25f40449d31f4b5941ed45f",
            "e67712fa396145cabc3143eb83ca43ed",
            "78b5e8b1238f42e1beddf75c7fe2a15c",
            "3f1f8f62ec344a57a92de25eabf05c70",
            "8e67df8a63184ccab5c7b6bdc1a98fa5",
            "4d1822889acc401daa136731ea51f8fa",
            "a2a9decbb6da4533bebdc561b91f7fe1",
            "9444df7e62a644888e14f4d968056b31",
            "2147049f74ec4163b22cd128fd7dd07b",
            "960e89862f334761a6444a05785ff915",
            "b93ae273e3c24ba4a3040aebccc67e12",
            "49b999dfbbd64d06b467196dd8d4c391",
            "f65ee3a3c74d47ceae92976e009074f6",
            "6e841906f5ad437e9a1e397691c12118",
            "9f74e8f548ff4080b6d024743854ba04",
            "99722b0d78e848a2a49bf38556804e46",
            "6245aeccf7124db588bda2e68cdc3feb",
            "e53df192464a475caefd7a9a599c036f",
            "3490375ee7cf476d8f432228aeeb2de1",
            "ada2e03c6c924ea4a9f9c71c68eea321",
            "3d501f321225490a9ef9f124ca3d4161",
            "1b53081ba1fc4dd288ea52cee8a95bb0",
            "398f23b11da14290b649f1200ab5964b",
            "fcab4902872b43549c588cf2a636a04a",
            "d03ee4c6b38644709507b3117de08fd3",
            "8836005f48f743d18d9f4967133ff4a2",
            "8be236ea7b574b2597abbccb322fba56",
            "76a508f5d6bd4126a6fed4c8815eabdf",
            "a6165d5010604f5aba4af8029e7aca68",
            "37db5a7ad39e4c02b7f5b34dfa0f04d2"
          ]
        },
        "id": "dD3DNR4ut4G_",
        "outputId": "0f83149a-d1f5-4137-8ce7-1b634bde5bc0"
      },
      "execution_count": null,
      "outputs": [
        {
          "output_type": "display_data",
          "data": {
            "text/plain": [
              "Map:   0%|          | 0/2490 [00:00<?, ? examples/s]"
            ],
            "application/vnd.jupyter.widget-view+json": {
              "version_major": 2,
              "version_minor": 0,
              "model_id": "de6051f2c7cc4f4db4757872727c011e"
            }
          },
          "metadata": {}
        },
        {
          "output_type": "display_data",
          "data": {
            "text/plain": [
              "Map:   0%|          | 0/277 [00:00<?, ? examples/s]"
            ],
            "application/vnd.jupyter.widget-view+json": {
              "version_major": 2,
              "version_minor": 0,
              "model_id": "2147049f74ec4163b22cd128fd7dd07b"
            }
          },
          "metadata": {}
        },
        {
          "output_type": "display_data",
          "data": {
            "text/plain": [
              "Map:   0%|          | 0/3000 [00:00<?, ? examples/s]"
            ],
            "application/vnd.jupyter.widget-view+json": {
              "version_major": 2,
              "version_minor": 0,
              "model_id": "ada2e03c6c924ea4a9f9c71c68eea321"
            }
          },
          "metadata": {}
        }
      ]
    },
    {
      "cell_type": "code",
      "source": [
        "tokenized_datasets"
      ],
      "metadata": {
        "colab": {
          "base_uri": "https://localhost:8080/"
        },
        "id": "JwuSth7q-WyW",
        "outputId": "3bafef42-27ac-411f-f602-518a60c05860"
      },
      "execution_count": null,
      "outputs": [
        {
          "output_type": "execute_result",
          "data": {
            "text/plain": [
              "DatasetDict({\n",
              "    train: Dataset({\n",
              "        features: ['sentence1', 'sentence2', 'label', 'input_ids', 'token_type_ids', 'attention_mask'],\n",
              "        num_rows: 2490\n",
              "    })\n",
              "    validation: Dataset({\n",
              "        features: ['sentence1', 'sentence2', 'label', 'input_ids', 'token_type_ids', 'attention_mask'],\n",
              "        num_rows: 277\n",
              "    })\n",
              "    test: Dataset({\n",
              "        features: ['sentence1', 'sentence2', 'label', 'input_ids', 'token_type_ids', 'attention_mask'],\n",
              "        num_rows: 3000\n",
              "    })\n",
              "})"
            ]
          },
          "metadata": {},
          "execution_count": 124
        }
      ]
    },
    {
      "cell_type": "markdown",
      "source": [
        "### Creating a Trainer"
      ],
      "metadata": {
        "id": "addyscK5t8Qn"
      }
    },
    {
      "cell_type": "code",
      "source": [
        "trainer = Trainer(\n",
        "    model=model,\n",
        "    args=training_args,\n",
        "    train_dataset=tokenized_datasets['train'],\n",
        "    eval_dataset=tokenized_datasets['validation'],\n",
        "    tokenizer=tokenizer,\n",
        "    compute_metrics=compute_metrics\n",
        ")"
      ],
      "metadata": {
        "id": "60Fz869SuFGA"
      },
      "execution_count": null,
      "outputs": []
    },
    {
      "cell_type": "markdown",
      "source": [
        "### Training Model"
      ],
      "metadata": {
        "id": "-p4vYQpyuTOI"
      }
    },
    {
      "cell_type": "code",
      "source": [
        "trainer.train()"
      ],
      "metadata": {
        "colab": {
          "base_uri": "https://localhost:8080/",
          "height": 304
        },
        "id": "97DVuGsMuW2Q",
        "outputId": "155a5d22-5517-4a81-a69c-92a1da3f4131"
      },
      "execution_count": null,
      "outputs": [
        {
          "output_type": "stream",
          "name": "stderr",
          "text": [
            "You're using a BertTokenizerFast tokenizer. Please note that with a fast tokenizer, using the `__call__` method is faster than using a method to encode the text followed by a call to the `pad` method to get a padded encoding.\n"
          ]
        },
        {
          "output_type": "display_data",
          "data": {
            "text/plain": [
              "<IPython.core.display.HTML object>"
            ],
            "text/html": [
              "\n",
              "    <div>\n",
              "      \n",
              "      <progress value='780' max='780' style='width:300px; height:20px; vertical-align: middle;'></progress>\n",
              "      [780/780 06:53, Epoch 5/5]\n",
              "    </div>\n",
              "    <table border=\"1\" class=\"dataframe\">\n",
              "  <thead>\n",
              " <tr style=\"text-align: left;\">\n",
              "      <th>Epoch</th>\n",
              "      <th>Training Loss</th>\n",
              "      <th>Validation Loss</th>\n",
              "      <th>Accuracy</th>\n",
              "      <th>F1-score</th>\n",
              "    </tr>\n",
              "  </thead>\n",
              "  <tbody>\n",
              "    <tr>\n",
              "      <td>1</td>\n",
              "      <td>0.674400</td>\n",
              "      <td>0.628757</td>\n",
              "      <td>0.653430</td>\n",
              "      <td>0.555556</td>\n",
              "    </tr>\n",
              "    <tr>\n",
              "      <td>2</td>\n",
              "      <td>0.578500</td>\n",
              "      <td>0.634800</td>\n",
              "      <td>0.689531</td>\n",
              "      <td>0.635593</td>\n",
              "    </tr>\n",
              "    <tr>\n",
              "      <td>3</td>\n",
              "      <td>0.403400</td>\n",
              "      <td>0.687256</td>\n",
              "      <td>0.664260</td>\n",
              "      <td>0.586667</td>\n",
              "    </tr>\n",
              "    <tr>\n",
              "      <td>4</td>\n",
              "      <td>0.244500</td>\n",
              "      <td>1.168130</td>\n",
              "      <td>0.682310</td>\n",
              "      <td>0.633333</td>\n",
              "    </tr>\n",
              "    <tr>\n",
              "      <td>5</td>\n",
              "      <td>0.134700</td>\n",
              "      <td>1.360326</td>\n",
              "      <td>0.682310</td>\n",
              "      <td>0.630252</td>\n",
              "    </tr>\n",
              "  </tbody>\n",
              "</table><p>"
            ]
          },
          "metadata": {}
        },
        {
          "output_type": "execute_result",
          "data": {
            "text/plain": [
              "TrainOutput(global_step=780, training_loss=0.3941939876629756, metrics={'train_runtime': 414.5115, 'train_samples_per_second': 30.035, 'train_steps_per_second': 1.882, 'total_flos': 1081551909716760.0, 'train_loss': 0.3941939876629756, 'epoch': 5.0})"
            ]
          },
          "metadata": {},
          "execution_count": 126
        }
      ]
    },
    {
      "cell_type": "markdown",
      "source": [
        " ### Testing the Model"
      ],
      "metadata": {
        "id": "DPL9MaMFuXu4"
      }
    },
    {
      "cell_type": "code",
      "source": [
        "trainer.save_model(\"textual-entailment\")"
      ],
      "metadata": {
        "id": "0H3I-dU1zOVx"
      },
      "execution_count": null,
      "outputs": []
    },
    {
      "cell_type": "code",
      "source": [
        "preds = trainer.predict(tokenized_datasets['validation'])"
      ],
      "metadata": {
        "colab": {
          "base_uri": "https://localhost:8080/",
          "height": 17
        },
        "id": "BzY8EJlryBx7",
        "outputId": "07130543-e3e6-4dcb-c6c5-d04a449f3625"
      },
      "execution_count": null,
      "outputs": [
        {
          "output_type": "display_data",
          "data": {
            "text/plain": [
              "<IPython.core.display.HTML object>"
            ],
            "text/html": []
          },
          "metadata": {}
        }
      ]
    },
    {
      "cell_type": "code",
      "source": [
        "predictions = np.argmax(preds[0],axis=-1)"
      ],
      "metadata": {
        "id": "KePmDPaIzaYd"
      },
      "execution_count": null,
      "outputs": []
    },
    {
      "cell_type": "code",
      "source": [
        "compute_metrics((preds[0],tokenized_datasets['validation']['label']))"
      ],
      "metadata": {
        "colab": {
          "base_uri": "https://localhost:8080/"
        },
        "id": "cmt9nSlVAJMF",
        "outputId": "8f9cf4a6-f383-41e5-fdc2-46eb4ef5c52f"
      },
      "execution_count": null,
      "outputs": [
        {
          "output_type": "execute_result",
          "data": {
            "text/plain": [
              "{'accuracy': 0.6823104693140795, 'f1-score': 0.6302521008403361}"
            ]
          },
          "metadata": {},
          "execution_count": 130
        }
      ]
    },
    {
      "cell_type": "code",
      "source": [
        "from sklearn.metrics import ConfusionMatrixDisplay\n",
        "\n",
        "ConfusionMatrixDisplay.from_predictions(tokenized_datasets['validation']['label'],predictions)"
      ],
      "metadata": {
        "colab": {
          "base_uri": "https://localhost:8080/",
          "height": 466
        },
        "id": "mzff7Pq3AjsO",
        "outputId": "30073082-3c7b-4089-9ada-444744903501"
      },
      "execution_count": null,
      "outputs": [
        {
          "output_type": "execute_result",
          "data": {
            "text/plain": [
              "<sklearn.metrics._plot.confusion_matrix.ConfusionMatrixDisplay at 0x79bea9550220>"
            ]
          },
          "metadata": {},
          "execution_count": 131
        },
        {
          "output_type": "display_data",
          "data": {
            "text/plain": [
              "<Figure size 640x480 with 2 Axes>"
            ],
            "image/png": "[encoded data removed]"
          },
          "metadata": {}
        }
      ]
    },
    {
      "cell_type": "code",
      "source": [],
      "metadata": {
        "id": "HczlTAstBirp"
      },
      "execution_count": null,
      "outputs": []
    }
  ],
  "metadata": {
    "accelerator": "GPU",
    "colab": {
      "provenance": []
    },
    "kernelspec": {
      "display_name": "Python 3",
      "name": "python3"
    },
    "language_info": {
      "name": "python"
    },
    "widgets": {
      "application/vnd.jupyter.widget-state+json": {
        "7b43797a423a4ea891bab9a3bc57e20d": {
          "model_module": "@jupyter-widgets/controls",
          "model_name": "HBoxModel",
          "model_module_version": "1.5.0",
          "state": {
            "_dom_classes": [],
            "_model_module": "@jupyter-widgets/controls",
            "_model_module_version": "1.5.0",
            "_model_name": "HBoxModel",
            "_view_count": null,
            "_view_module": "@jupyter-widgets/controls",
            "_view_module_version": "1.5.0",
            "_view_name": "HBoxView",
            "box_style": "",
            "children": [
              "IPY_MODEL_283daed71386453e9c14d485ac5a09ac",
              "IPY_MODEL_76088e5a749b4ecdb034618e196ff1d3",
              "IPY_MODEL_3515958b2b9649f0b6ca6882f57651c2"
            ],
            "layout": "IPY_MODEL_a979db303a604f9c9caee856f99c047a"
          }
        },
        "283daed71386453e9c14d485ac5a09ac": {
          "model_module": "@jupyter-widgets/controls",
          "model_name": "HTMLModel",
          "model_module_version": "1.5.0",
          "state": {
            "_dom_classes": [],
            "_model_module": "@jupyter-widgets/controls",
            "_model_module_version": "1.5.0",
            "_model_name": "HTMLModel",
            "_view_count": null,
            "_view_module": "@jupyter-widgets/controls",
            "_view_module_version": "1.5.0",
            "_view_name": "HTMLView",
            "description": "",
            "description_tooltip": null,
            "layout": "IPY_MODEL_3fe6cbb1ba5c4f1885c7e5c45a0e6023",
            "placeholder": "​",
            "style": "IPY_MODEL_938d0579da92489b81d40b0705aae031",
            "value": "Downloading (…)okenizer_config.json: 100%"
          }
        },
        "76088e5a749b4ecdb034618e196ff1d3": {
          "model_module": "@jupyter-widgets/controls",
          "model_name": "FloatProgressModel",
          "model_module_version": "1.5.0",
          "state": {
            "_dom_classes": [],
            "_model_module": "@jupyter-widgets/controls",
            "_model_module_version": "1.5.0",
            "_model_name": "FloatProgressModel",
            "_view_count": null,
            "_view_module": "@jupyter-widgets/controls",
            "_view_module_version": "1.5.0",
            "_view_name": "ProgressView",
            "bar_style": "success",
            "description": "",
            "description_tooltip": null,
            "layout": "IPY_MODEL_bc04128c674e4f68a7242d7f468e0351",
            "max": 29,
            "min": 0,
            "orientation": "horizontal",
            "style": "IPY_MODEL_0a6530aebaec42b4bc27d05884eafbb9",
            "value": 29
          }
        },
        "3515958b2b9649f0b6ca6882f57651c2": {
          "model_module": "@jupyter-widgets/controls",
          "model_name": "HTMLModel",
          "model_module_version": "1.5.0",
          "state": {
            "_dom_classes": [],
            "_model_module": "@jupyter-widgets/controls",
            "_model_module_version": "1.5.0",
            "_model_name": "HTMLModel",
            "_view_count": null,
            "_view_module": "@jupyter-widgets/controls",
            "_view_module_version": "1.5.0",
            "_view_name": "HTMLView",
            "description": "",
            "description_tooltip": null,
            "layout": "IPY_MODEL_c58a2ebfdc85458aa25e681e3d6a36c2",
            "placeholder": "​",
            "style": "IPY_MODEL_b6a28e7e61c441bbaf5e2033a4a4070b",
            "value": " 29.0/29.0 [00:00&lt;00:00, 483B/s]"
          }
        },
        "a979db303a604f9c9caee856f99c047a": {
          "model_module": "@jupyter-widgets/base",
          "model_name": "LayoutModel",
          "model_module_version": "1.2.0",
          "state": {
            "_model_module": "@jupyter-widgets/base",
            "_model_module_version": "1.2.0",
            "_model_name": "LayoutModel",
            "_view_count": null,
            "_view_module": "@jupyter-widgets/base",
            "_view_module_version": "1.2.0",
            "_view_name": "LayoutView",
            "align_content": null,
            "align_items": null,
            "align_self": null,
            "border": null,
            "bottom": null,
            "display": null,
            "flex": null,
            "flex_flow": null,
            "grid_area": null,
            "grid_auto_columns": null,
            "grid_auto_flow": null,
            "grid_auto_rows": null,
            "grid_column": null,
            "grid_gap": null,
            "grid_row": null,
            "grid_template_areas": null,
            "grid_template_columns": null,
            "grid_template_rows": null,
            "height": null,
            "justify_content": null,
            "justify_items": null,
            "left": null,
            "margin": null,
            "max_height": null,
            "max_width": null,
            "min_height": null,
            "min_width": null,
            "object_fit": null,
            "object_position": null,
            "order": null,
            "overflow": null,
            "overflow_x": null,
            "overflow_y": null,
            "padding": null,
            "right": null,
            "top": null,
            "visibility": null,
            "width": null
          }
        },
        "3fe6cbb1ba5c4f1885c7e5c45a0e6023": {
          "model_module": "@jupyter-widgets/base",
          "model_name": "LayoutModel",
          "model_module_version": "1.2.0",
          "state": {
            "_model_module": "@jupyter-widgets/base",
            "_model_module_version": "1.2.0",
            "_model_name": "LayoutModel",
            "_view_count": null,
            "_view_module": "@jupyter-widgets/base",
            "_view_module_version": "1.2.0",
            "_view_name": "LayoutView",
            "align_content": null,
            "align_items": null,
            "align_self": null,
            "border": null,
            "bottom": null,
            "display": null,
            "flex": null,
            "flex_flow": null,
            "grid_area": null,
            "grid_auto_columns": null,
            "grid_auto_flow": null,
            "grid_auto_rows": null,
            "grid_column": null,
            "grid_gap": null,
            "grid_row": null,
            "grid_template_areas": null,
            "grid_template_columns": null,
            "grid_template_rows": null,
            "height": null,
            "justify_content": null,
            "justify_items": null,
            "left": null,
            "margin": null,
            "max_height": null,
            "max_width": null,
            "min_height": null,
            "min_width": null,
            "object_fit": null,
            "object_position": null,
            "order": null,
            "overflow": null,
            "overflow_x": null,
            "overflow_y": null,
            "padding": null,
            "right": null,
            "top": null,
            "visibility": null,
            "width": null
          }
        },
        "938d0579da92489b81d40b0705aae031": {
          "model_module": "@jupyter-widgets/controls",
          "model_name": "DescriptionStyleModel",
          "model_module_version": "1.5.0",
          "state": {
            "_model_module": "@jupyter-widgets/controls",
            "_model_module_version": "1.5.0",
            "_model_name": "DescriptionStyleModel",
            "_view_count": null,
            "_view_module": "@jupyter-widgets/base",
            "_view_module_version": "1.2.0",
            "_view_name": "StyleView",
            "description_width": ""
          }
        },
        "bc04128c674e4f68a7242d7f468e0351": {
          "model_module": "@jupyter-widgets/base",
          "model_name": "LayoutModel",
          "model_module_version": "1.2.0",
          "state": {
            "_model_module": "@jupyter-widgets/base",
            "_model_module_version": "1.2.0",
            "_model_name": "LayoutModel",
            "_view_count": null,
            "_view_module": "@jupyter-widgets/base",
            "_view_module_version": "1.2.0",
            "_view_name": "LayoutView",
            "align_content": null,
            "align_items": null,
            "align_self": null,
            "border": null,
            "bottom": null,
            "display": null,
            "flex": null,
            "flex_flow": null,
            "grid_area": null,
            "grid_auto_columns": null,
            "grid_auto_flow": null,
            "grid_auto_rows": null,
            "grid_column": null,
            "grid_gap": null,
            "grid_row": null,
            "grid_template_areas": null,
            "grid_template_columns": null,
            "grid_template_rows": null,
            "height": null,
            "justify_content": null,
            "justify_items": null,
            "left": null,
            "margin": null,
            "max_height": null,
            "max_width": null,
            "min_height": null,
            "min_width": null,
            "object_fit": null,
            "object_position": null,
            "order": null,
            "overflow": null,
            "overflow_x": null,
            "overflow_y": null,
            "padding": null,
            "right": null,
            "top": null,
            "visibility": null,
            "width": null
          }
        },
        "0a6530aebaec42b4bc27d05884eafbb9": {
          "model_module": "@jupyter-widgets/controls",
          "model_name": "ProgressStyleModel",
          "model_module_version": "1.5.0",
          "state": {
            "_model_module": "@jupyter-widgets/controls",
            "_model_module_version": "1.5.0",
            "_model_name": "ProgressStyleModel",
            "_view_count": null,
            "_view_module": "@jupyter-widgets/base",
            "_view_module_version": "1.2.0",
            "_view_name": "StyleView",
            "bar_color": null,
            "description_width": ""
          }
        },
        "c58a2ebfdc85458aa25e681e3d6a36c2": {
          "model_module": "@jupyter-widgets/base",
          "model_name": "LayoutModel",
          "model_module_version": "1.2.0",
          "state": {
            "_model_module": "@jupyter-widgets/base",
            "_model_module_version": "1.2.0",
            "_model_name": "LayoutModel",
            "_view_count": null,
            "_view_module": "@jupyter-widgets/base",
            "_view_module_version": "1.2.0",
            "_view_name": "LayoutView",
            "align_content": null,
            "align_items": null,
            "align_self": null,
            "border": null,
            "bottom": null,
            "display": null,
            "flex": null,
            "flex_flow": null,
            "grid_area": null,
            "grid_auto_columns": null,
            "grid_auto_flow": null,
            "grid_auto_rows": null,
            "grid_column": null,
            "grid_gap": null,
            "grid_row": null,
            "grid_template_areas": null,
            "grid_template_columns": null,
            "grid_template_rows": null,
            "height": null,
            "justify_content": null,
            "justify_items": null,
            "left": null,
            "margin": null,
            "max_height": null,
            "max_width": null,
            "min_height": null,
            "min_width": null,
            "object_fit": null,
            "object_position": null,
            "order": null,
            "overflow": null,
            "overflow_x": null,
            "overflow_y": null,
            "padding": null,
            "right": null,
            "top": null,
            "visibility": null,
            "width": null
          }
        },
        "b6a28e7e61c441bbaf5e2033a4a4070b": {
          "model_module": "@jupyter-widgets/controls",
          "model_name": "DescriptionStyleModel",
          "model_module_version": "1.5.0",
          "state": {
            "_model_module": "@jupyter-widgets/controls",
            "_model_module_version": "1.5.0",
            "_model_name": "DescriptionStyleModel",
            "_view_count": null,
            "_view_module": "@jupyter-widgets/base",
            "_view_module_version": "1.2.0",
            "_view_name": "StyleView",
            "description_width": ""
          }
        },
        "ba4581bdf5854e30b362bd208043520b": {
          "model_module": "@jupyter-widgets/controls",
          "model_name": "HBoxModel",
          "model_module_version": "1.5.0",
          "state": {
            "_dom_classes": [],
            "_model_module": "@jupyter-widgets/controls",
            "_model_module_version": "1.5.0",
            "_model_name": "HBoxModel",
            "_view_count": null,
            "_view_module": "@jupyter-widgets/controls",
            "_view_module_version": "1.5.0",
            "_view_name": "HBoxView",
            "box_style": "",
            "children": [
              "IPY_MODEL_8b6566b7715e48368b145984377949cd",
              "IPY_MODEL_d79f55fdaf004ddea165bf5c241eca59",
              "IPY_MODEL_cdce98fa6bef4597a58620d747092b52"
            ],
            "layout": "IPY_MODEL_042f590e18c447769adfe7e9c30dd3f0"
          }
        },
        "8b6566b7715e48368b145984377949cd": {
          "model_module": "@jupyter-widgets/controls",
          "model_name": "HTMLModel",
          "model_module_version": "1.5.0",
          "state": {
            "_dom_classes": [],
            "_model_module": "@jupyter-widgets/controls",
            "_model_module_version": "1.5.0",
            "_model_name": "HTMLModel",
            "_view_count": null,
            "_view_module": "@jupyter-widgets/controls",
            "_view_module_version": "1.5.0",
            "_view_name": "HTMLView",
            "description": "",
            "description_tooltip": null,
            "layout": "IPY_MODEL_3e7e591b149b452280ec098a7d43faa7",
            "placeholder": "​",
            "style": "IPY_MODEL_a8f8f3ab86ca42c49ef6014be1c852a9",
            "value": "Downloading (…)lve/main/config.json: 100%"
          }
        },
        "d79f55fdaf004ddea165bf5c241eca59": {
          "model_module": "@jupyter-widgets/controls",
          "model_name": "FloatProgressModel",
          "model_module_version": "1.5.0",
          "state": {
            "_dom_classes": [],
            "_model_module": "@jupyter-widgets/controls",
            "_model_module_version": "1.5.0",
            "_model_name": "FloatProgressModel",
            "_view_count": null,
            "_view_module": "@jupyter-widgets/controls",
            "_view_module_version": "1.5.0",
            "_view_name": "ProgressView",
            "bar_style": "success",
            "description": "",
            "description_tooltip": null,
            "layout": "IPY_MODEL_c19da8f5270a4dbf8ea36b9c412f9133",
            "max": 570,
            "min": 0,
            "orientation": "horizontal",
            "style": "IPY_MODEL_b5082a65b3484e31949666ddac9e0cf0",
            "value": 570
          }
        },
        "cdce98fa6bef4597a58620d747092b52": {
          "model_module": "@jupyter-widgets/controls",
          "model_name": "HTMLModel",
          "model_module_version": "1.5.0",
          "state": {
            "_dom_classes": [],
            "_model_module": "@jupyter-widgets/controls",
            "_model_module_version": "1.5.0",
            "_model_name": "HTMLModel",
            "_view_count": null,
            "_view_module": "@jupyter-widgets/controls",
            "_view_module_version": "1.5.0",
            "_view_name": "HTMLView",
            "description": "",
            "description_tooltip": null,
            "layout": "IPY_MODEL_944ad2dc7108446fbc91a343a523e978",
            "placeholder": "​",
            "style": "IPY_MODEL_979531d339ad4b398975ce405e2bc7be",
            "value": " 570/570 [00:00&lt;00:00, 42.7kB/s]"
          }
        },
        "042f590e18c447769adfe7e9c30dd3f0": {
          "model_module": "@jupyter-widgets/base",
          "model_name": "LayoutModel",
          "model_module_version": "1.2.0",
          "state": {
            "_model_module": "@jupyter-widgets/base",
            "_model_module_version": "1.2.0",
            "_model_name": "LayoutModel",
            "_view_count": null,
            "_view_module": "@jupyter-widgets/base",
            "_view_module_version": "1.2.0",
            "_view_name": "LayoutView",
            "align_content": null,
            "align_items": null,
            "align_self": null,
            "border": null,
            "bottom": null,
            "display": null,
            "flex": null,
            "flex_flow": null,
            "grid_area": null,
            "grid_auto_columns": null,
            "grid_auto_flow": null,
            "grid_auto_rows": null,
            "grid_column": null,
            "grid_gap": null,
            "grid_row": null,
            "grid_template_areas": null,
            "grid_template_columns": null,
            "grid_template_rows": null,
            "height": null,
            "justify_content": null,
            "justify_items": null,
            "left": null,
            "margin": null,
            "max_height": null,
            "max_width": null,
            "min_height": null,
            "min_width": null,
            "object_fit": null,
            "object_position": null,
            "order": null,
            "overflow": null,
            "overflow_x": null,
            "overflow_y": null,
            "padding": null,
            "right": null,
            "top": null,
            "visibility": null,
            "width": null
          }
        },
        "3e7e591b149b452280ec098a7d43faa7": {
          "model_module": "@jupyter-widgets/base",
          "model_name": "LayoutModel",
          "model_module_version": "1.2.0",
          "state": {
            "_model_module": "@jupyter-widgets/base",
            "_model_module_version": "1.2.0",
            "_model_name": "LayoutModel",
            "_view_count": null,
            "_view_module": "@jupyter-widgets/base",
            "_view_module_version": "1.2.0",
            "_view_name": "LayoutView",
            "align_content": null,
            "align_items": null,
            "align_self": null,
            "border": null,
            "bottom": null,
            "display": null,
            "flex": null,
            "flex_flow": null,
            "grid_area": null,
            "grid_auto_columns": null,
            "grid_auto_flow": null,
            "grid_auto_rows": null,
            "grid_column": null,
            "grid_gap": null,
            "grid_row": null,
            "grid_template_areas": null,
            "grid_template_columns": null,
            "grid_template_rows": null,
            "height": null,
            "justify_content": null,
            "justify_items": null,
            "left": null,
            "margin": null,
            "max_height": null,
            "max_width": null,
            "min_height": null,
            "min_width": null,
            "object_fit": null,
            "object_position": null,
            "order": null,
            "overflow": null,
            "overflow_x": null,
            "overflow_y": null,
            "padding": null,
            "right": null,
            "top": null,
            "visibility": null,
            "width": null
          }
        },
        "a8f8f3ab86ca42c49ef6014be1c852a9": {
          "model_module": "@jupyter-widgets/controls",
          "model_name": "DescriptionStyleModel",
          "model_module_version": "1.5.0",
          "state": {
            "_model_module": "@jupyter-widgets/controls",
            "_model_module_version": "1.5.0",
            "_model_name": "DescriptionStyleModel",
            "_view_count": null,
            "_view_module": "@jupyter-widgets/base",
            "_view_module_version": "1.2.0",
            "_view_name": "StyleView",
            "description_width": ""
          }
        },
        "c19da8f5270a4dbf8ea36b9c412f9133": {
          "model_module": "@jupyter-widgets/base",
          "model_name": "LayoutModel",
          "model_module_version": "1.2.0",
          "state": {
            "_model_module": "@jupyter-widgets/base",
            "_model_module_version": "1.2.0",
            "_model_name": "LayoutModel",
            "_view_count": null,
            "_view_module": "@jupyter-widgets/base",
            "_view_module_version": "1.2.0",
            "_view_name": "LayoutView",
            "align_content": null,
            "align_items": null,
            "align_self": null,
            "border": null,
            "bottom": null,
            "display": null,
            "flex": null,
            "flex_flow": null,
            "grid_area": null,
            "grid_auto_columns": null,
            "grid_auto_flow": null,
            "grid_auto_rows": null,
            "grid_column": null,
            "grid_gap": null,
            "grid_row": null,
            "grid_template_areas": null,
            "grid_template_columns": null,
            "grid_template_rows": null,
            "height": null,
            "justify_content": null,
            "justify_items": null,
            "left": null,
            "margin": null,
            "max_height": null,
            "max_width": null,
            "min_height": null,
            "min_width": null,
            "object_fit": null,
            "object_position": null,
            "order": null,
            "overflow": null,
            "overflow_x": null,
            "overflow_y": null,
            "padding": null,
            "right": null,
            "top": null,
            "visibility": null,
            "width": null
          }
        },
        "b5082a65b3484e31949666ddac9e0cf0": {
          "model_module": "@jupyter-widgets/controls",
          "model_name": "ProgressStyleModel",
          "model_module_version": "1.5.0",
          "state": {
            "_model_module": "@jupyter-widgets/controls",
            "_model_module_version": "1.5.0",
            "_model_name": "ProgressStyleModel",
            "_view_count": null,
            "_view_module": "@jupyter-widgets/base",
            "_view_module_version": "1.2.0",
            "_view_name": "StyleView",
            "bar_color": null,
            "description_width": ""
          }
        },
        "944ad2dc7108446fbc91a343a523e978": {
          "model_module": "@jupyter-widgets/base",
          "model_name": "LayoutModel",
          "model_module_version": "1.2.0",
          "state": {
            "_model_module": "@jupyter-widgets/base",
            "_model_module_version": "1.2.0",
            "_model_name": "LayoutModel",
            "_view_count": null,
            "_view_module": "@jupyter-widgets/base",
            "_view_module_version": "1.2.0",
            "_view_name": "LayoutView",
            "align_content": null,
            "align_items": null,
            "align_self": null,
            "border": null,
            "bottom": null,
            "display": null,
            "flex": null,
            "flex_flow": null,
            "grid_area": null,
            "grid_auto_columns": null,
            "grid_auto_flow": null,
            "grid_auto_rows": null,
            "grid_column": null,
            "grid_gap": null,
            "grid_row": null,
            "grid_template_areas": null,
            "grid_template_columns": null,
            "grid_template_rows": null,
            "height": null,
            "justify_content": null,
            "justify_items": null,
            "left": null,
            "margin": null,
            "max_height": null,
            "max_width": null,
            "min_height": null,
            "min_width": null,
            "object_fit": null,
            "object_position": null,
            "order": null,
            "overflow": null,
            "overflow_x": null,
            "overflow_y": null,
            "padding": null,
            "right": null,
            "top": null,
            "visibility": null,
            "width": null
          }
        },
        "979531d339ad4b398975ce405e2bc7be": {
          "model_module": "@jupyter-widgets/controls",
          "model_name": "DescriptionStyleModel",
          "model_module_version": "1.5.0",
          "state": {
            "_model_module": "@jupyter-widgets/controls",
            "_model_module_version": "1.5.0",
            "_model_name": "DescriptionStyleModel",
            "_view_count": null,
            "_view_module": "@jupyter-widgets/base",
            "_view_module_version": "1.2.0",
            "_view_name": "StyleView",
            "description_width": ""
          }
        },
        "88fcdac85e98442bacc0b2dca0b05e53": {
          "model_module": "@jupyter-widgets/controls",
          "model_name": "HBoxModel",
          "model_module_version": "1.5.0",
          "state": {
            "_dom_classes": [],
            "_model_module": "@jupyter-widgets/controls",
            "_model_module_version": "1.5.0",
            "_model_name": "HBoxModel",
            "_view_count": null,
            "_view_module": "@jupyter-widgets/controls",
            "_view_module_version": "1.5.0",
            "_view_name": "HBoxView",
            "box_style": "",
            "children": [
              "IPY_MODEL_3dff6d557c7e4051a7244d5dcb90aca2",
              "IPY_MODEL_901df530abb844bea8e6b7477d4d43e1",
              "IPY_MODEL_1dabb16ea7c4417382aac72690fb7743"
            ],
            "layout": "IPY_MODEL_8c60bb5274dd4e05ba9a3d20e6fa45e1"
          }
        },
        "3dff6d557c7e4051a7244d5dcb90aca2": {
          "model_module": "@jupyter-widgets/controls",
          "model_name": "HTMLModel",
          "model_module_version": "1.5.0",
          "state": {
            "_dom_classes": [],
            "_model_module": "@jupyter-widgets/controls",
            "_model_module_version": "1.5.0",
            "_model_name": "HTMLModel",
            "_view_count": null,
            "_view_module": "@jupyter-widgets/controls",
            "_view_module_version": "1.5.0",
            "_view_name": "HTMLView",
            "description": "",
            "description_tooltip": null,
            "layout": "IPY_MODEL_ee4d791e6daa401eb8d08d743a226930",
            "placeholder": "​",
            "style": "IPY_MODEL_e1509ea2721e4c20af52fbf198210a18",
            "value": "Downloading (…)solve/main/vocab.txt: 100%"
          }
        },
        "901df530abb844bea8e6b7477d4d43e1": {
          "model_module": "@jupyter-widgets/controls",
          "model_name": "FloatProgressModel",
          "model_module_version": "1.5.0",
          "state": {
            "_dom_classes": [],
            "_model_module": "@jupyter-widgets/controls",
            "_model_module_version": "1.5.0",
            "_model_name": "FloatProgressModel",
            "_view_count": null,
            "_view_module": "@jupyter-widgets/controls",
            "_view_module_version": "1.5.0",
            "_view_name": "ProgressView",
            "bar_style": "success",
            "description": "",
            "description_tooltip": null,
            "layout": "IPY_MODEL_270c5775368d4407a1a12e9ee7251e1f",
            "max": 213450,
            "min": 0,
            "orientation": "horizontal",
            "style": "IPY_MODEL_1a35299253b74a62b3bef35130c1c482",
            "value": 213450
          }
        },
        "1dabb16ea7c4417382aac72690fb7743": {
          "model_module": "@jupyter-widgets/controls",
          "model_name": "HTMLModel",
          "model_module_version": "1.5.0",
          "state": {
            "_dom_classes": [],
            "_model_module": "@jupyter-widgets/controls",
            "_model_module_version": "1.5.0",
            "_model_name": "HTMLModel",
            "_view_count": null,
            "_view_module": "@jupyter-widgets/controls",
            "_view_module_version": "1.5.0",
            "_view_name": "HTMLView",
            "description": "",
            "description_tooltip": null,
            "layout": "IPY_MODEL_4f5fad5ae2384e2cabab45fe2f0b39a3",
            "placeholder": "​",
            "style": "IPY_MODEL_d7425af56de94b63b1969074df501fb5",
            "value": " 213k/213k [00:00&lt;00:00, 7.84MB/s]"
          }
        },
        "8c60bb5274dd4e05ba9a3d20e6fa45e1": {
          "model_module": "@jupyter-widgets/base",
          "model_name": "LayoutModel",
          "model_module_version": "1.2.0",
          "state": {
            "_model_module": "@jupyter-widgets/base",
            "_model_module_version": "1.2.0",
            "_model_name": "LayoutModel",
            "_view_count": null,
            "_view_module": "@jupyter-widgets/base",
            "_view_module_version": "1.2.0",
            "_view_name": "LayoutView",
            "align_content": null,
            "align_items": null,
            "align_self": null,
            "border": null,
            "bottom": null,
            "display": null,
            "flex": null,
            "flex_flow": null,
            "grid_area": null,
            "grid_auto_columns": null,
            "grid_auto_flow": null,
            "grid_auto_rows": null,
            "grid_column": null,
            "grid_gap": null,
            "grid_row": null,
            "grid_template_areas": null,
            "grid_template_columns": null,
            "grid_template_rows": null,
            "height": null,
            "justify_content": null,
            "justify_items": null,
            "left": null,
            "margin": null,
            "max_height": null,
            "max_width": null,
            "min_height": null,
            "min_width": null,
            "object_fit": null,
            "object_position": null,
            "order": null,
            "overflow": null,
            "overflow_x": null,
            "overflow_y": null,
            "padding": null,
            "right": null,
            "top": null,
            "visibility": null,
            "width": null
          }
        },
        "ee4d791e6daa401eb8d08d743a226930": {
          "model_module": "@jupyter-widgets/base",
          "model_name": "LayoutModel",
          "model_module_version": "1.2.0",
          "state": {
            "_model_module": "@jupyter-widgets/base",
            "_model_module_version": "1.2.0",
            "_model_name": "LayoutModel",
            "_view_count": null,
            "_view_module": "@jupyter-widgets/base",
            "_view_module_version": "1.2.0",
            "_view_name": "LayoutView",
            "align_content": null,
            "align_items": null,
            "align_self": null,
            "border": null,
            "bottom": null,
            "display": null,
            "flex": null,
            "flex_flow": null,
            "grid_area": null,
            "grid_auto_columns": null,
            "grid_auto_flow": null,
            "grid_auto_rows": null,
            "grid_column": null,
            "grid_gap": null,
            "grid_row": null,
            "grid_template_areas": null,
            "grid_template_columns": null,
            "grid_template_rows": null,
            "height": null,
            "justify_content": null,
            "justify_items": null,
            "left": null,
            "margin": null,
            "max_height": null,
            "max_width": null,
            "min_height": null,
            "min_width": null,
            "object_fit": null,
            "object_position": null,
            "order": null,
            "overflow": null,
            "overflow_x": null,
            "overflow_y": null,
            "padding": null,
            "right": null,
            "top": null,
            "visibility": null,
            "width": null
          }
        },
        "e1509ea2721e4c20af52fbf198210a18": {
          "model_module": "@jupyter-widgets/controls",
          "model_name": "DescriptionStyleModel",
          "model_module_version": "1.5.0",
          "state": {
            "_model_module": "@jupyter-widgets/controls",
            "_model_module_version": "1.5.0",
            "_model_name": "DescriptionStyleModel",
            "_view_count": null,
            "_view_module": "@jupyter-widgets/base",
            "_view_module_version": "1.2.0",
            "_view_name": "StyleView",
            "description_width": ""
          }
        },
        "270c5775368d4407a1a12e9ee7251e1f": {
          "model_module": "@jupyter-widgets/base",
          "model_name": "LayoutModel",
          "model_module_version": "1.2.0",
          "state": {
            "_model_module": "@jupyter-widgets/base",
            "_model_module_version": "1.2.0",
            "_model_name": "LayoutModel",
            "_view_count": null,
            "_view_module": "@jupyter-widgets/base",
            "_view_module_version": "1.2.0",
            "_view_name": "LayoutView",
            "align_content": null,
            "align_items": null,
            "align_self": null,
            "border": null,
            "bottom": null,
            "display": null,
            "flex": null,
            "flex_flow": null,
            "grid_area": null,
            "grid_auto_columns": null,
            "grid_auto_flow": null,
            "grid_auto_rows": null,
            "grid_column": null,
            "grid_gap": null,
            "grid_row": null,
            "grid_template_areas": null,
            "grid_template_columns": null,
            "grid_template_rows": null,
            "height": null,
            "justify_content": null,
            "justify_items": null,
            "left": null,
            "margin": null,
            "max_height": null,
            "max_width": null,
            "min_height": null,
            "min_width": null,
            "object_fit": null,
            "object_position": null,
            "order": null,
            "overflow": null,
            "overflow_x": null,
            "overflow_y": null,
            "padding": null,
            "right": null,
            "top": null,
            "visibility": null,
            "width": null
          }
        },
        "1a35299253b74a62b3bef35130c1c482": {
          "model_module": "@jupyter-widgets/controls",
          "model_name": "ProgressStyleModel",
          "model_module_version": "1.5.0",
          "state": {
            "_model_module": "@jupyter-widgets/controls",
            "_model_module_version": "1.5.0",
            "_model_name": "ProgressStyleModel",
            "_view_count": null,
            "_view_module": "@jupyter-widgets/base",
            "_view_module_version": "1.2.0",
            "_view_name": "StyleView",
            "bar_color": null,
            "description_width": ""
          }
        },
        "4f5fad5ae2384e2cabab45fe2f0b39a3": {
          "model_module": "@jupyter-widgets/base",
          "model_name": "LayoutModel",
          "model_module_version": "1.2.0",
          "state": {
            "_model_module": "@jupyter-widgets/base",
            "_model_module_version": "1.2.0",
            "_model_name": "LayoutModel",
            "_view_count": null,
            "_view_module": "@jupyter-widgets/base",
            "_view_module_version": "1.2.0",
            "_view_name": "LayoutView",
            "align_content": null,
            "align_items": null,
            "align_self": null,
            "border": null,
            "bottom": null,
            "display": null,
            "flex": null,
            "flex_flow": null,
            "grid_area": null,
            "grid_auto_columns": null,
            "grid_auto_flow": null,
            "grid_auto_rows": null,
            "grid_column": null,
            "grid_gap": null,
            "grid_row": null,
            "grid_template_areas": null,
            "grid_template_columns": null,
            "grid_template_rows": null,
            "height": null,
            "justify_content": null,
            "justify_items": null,
            "left": null,
            "margin": null,
            "max_height": null,
            "max_width": null,
            "min_height": null,
            "min_width": null,
            "object_fit": null,
            "object_position": null,
            "order": null,
            "overflow": null,
            "overflow_x": null,
            "overflow_y": null,
            "padding": null,
            "right": null,
            "top": null,
            "visibility": null,
            "width": null
          }
        },
        "d7425af56de94b63b1969074df501fb5": {
          "model_module": "@jupyter-widgets/controls",
          "model_name": "DescriptionStyleModel",
          "model_module_version": "1.5.0",
          "state": {
            "_model_module": "@jupyter-widgets/controls",
            "_model_module_version": "1.5.0",
            "_model_name": "DescriptionStyleModel",
            "_view_count": null,
            "_view_module": "@jupyter-widgets/base",
            "_view_module_version": "1.2.0",
            "_view_name": "StyleView",
            "description_width": ""
          }
        },
        "2f15e17419884e699a6b6880d9b1b8fa": {
          "model_module": "@jupyter-widgets/controls",
          "model_name": "HBoxModel",
          "model_module_version": "1.5.0",
          "state": {
            "_dom_classes": [],
            "_model_module": "@jupyter-widgets/controls",
            "_model_module_version": "1.5.0",
            "_model_name": "HBoxModel",
            "_view_count": null,
            "_view_module": "@jupyter-widgets/controls",
            "_view_module_version": "1.5.0",
            "_view_name": "HBoxView",
            "box_style": "",
            "children": [
              "IPY_MODEL_80a06ab5c9ec447899400c00af18f450",
              "IPY_MODEL_3ee00f4ccf95411295c60169766a4a00",
              "IPY_MODEL_6f2de7e0f100475d977752cd1462d77d"
            ],
            "layout": "IPY_MODEL_7207fb08d65c45949a0a0ba96ca44e36"
          }
        },
        "80a06ab5c9ec447899400c00af18f450": {
          "model_module": "@jupyter-widgets/controls",
          "model_name": "HTMLModel",
          "model_module_version": "1.5.0",
          "state": {
            "_dom_classes": [],
            "_model_module": "@jupyter-widgets/controls",
            "_model_module_version": "1.5.0",
            "_model_name": "HTMLModel",
            "_view_count": null,
            "_view_module": "@jupyter-widgets/controls",
            "_view_module_version": "1.5.0",
            "_view_name": "HTMLView",
            "description": "",
            "description_tooltip": null,
            "layout": "IPY_MODEL_f3a989288b634498beec9f6438f13711",
            "placeholder": "​",
            "style": "IPY_MODEL_4cbc3220877c4a2ba8d3ee6d3938f0c1",
            "value": "Downloading (…)/main/tokenizer.json: 100%"
          }
        },
        "3ee00f4ccf95411295c60169766a4a00": {
          "model_module": "@jupyter-widgets/controls",
          "model_name": "FloatProgressModel",
          "model_module_version": "1.5.0",
          "state": {
            "_dom_classes": [],
            "_model_module": "@jupyter-widgets/controls",
            "_model_module_version": "1.5.0",
            "_model_name": "FloatProgressModel",
            "_view_count": null,
            "_view_module": "@jupyter-widgets/controls",
            "_view_module_version": "1.5.0",
            "_view_name": "ProgressView",
            "bar_style": "success",
            "description": "",
            "description_tooltip": null,
            "layout": "IPY_MODEL_5799772da8ab447a8d265335ff25c939",
            "max": 435797,
            "min": 0,
            "orientation": "horizontal",
            "style": "IPY_MODEL_0030e4baa56a48d0835fed1d107a2efb",
            "value": 435797
          }
        },
        "6f2de7e0f100475d977752cd1462d77d": {
          "model_module": "@jupyter-widgets/controls",
          "model_name": "HTMLModel",
          "model_module_version": "1.5.0",
          "state": {
            "_dom_classes": [],
            "_model_module": "@jupyter-widgets/controls",
            "_model_module_version": "1.5.0",
            "_model_name": "HTMLModel",
            "_view_count": null,
            "_view_module": "@jupyter-widgets/controls",
            "_view_module_version": "1.5.0",
            "_view_name": "HTMLView",
            "description": "",
            "description_tooltip": null,
            "layout": "IPY_MODEL_8d5bdca116474008a74a639beb782af6",
            "placeholder": "​",
            "style": "IPY_MODEL_a5b5a78bae544ca6bcc5382a16f1d889",
            "value": " 436k/436k [00:00&lt;00:00, 1.84MB/s]"
          }
        },
        "7207fb08d65c45949a0a0ba96ca44e36": {
          "model_module": "@jupyter-widgets/base",
          "model_name": "LayoutModel",
          "model_module_version": "1.2.0",
          "state": {
            "_model_module": "@jupyter-widgets/base",
            "_model_module_version": "1.2.0",
            "_model_name": "LayoutModel",
            "_view_count": null,
            "_view_module": "@jupyter-widgets/base",
            "_view_module_version": "1.2.0",
            "_view_name": "LayoutView",
            "align_content": null,
            "align_items": null,
            "align_self": null,
            "border": null,
            "bottom": null,
            "display": null,
            "flex": null,
            "flex_flow": null,
            "grid_area": null,
            "grid_auto_columns": null,
            "grid_auto_flow": null,
            "grid_auto_rows": null,
            "grid_column": null,
            "grid_gap": null,
            "grid_row": null,
            "grid_template_areas": null,
            "grid_template_columns": null,
            "grid_template_rows": null,
            "height": null,
            "justify_content": null,
            "justify_items": null,
            "left": null,
            "margin": null,
            "max_height": null,
            "max_width": null,
            "min_height": null,
            "min_width": null,
            "object_fit": null,
            "object_position": null,
            "order": null,
            "overflow": null,
            "overflow_x": null,
            "overflow_y": null,
            "padding": null,
            "right": null,
            "top": null,
            "visibility": null,
            "width": null
          }
        },
        "f3a989288b634498beec9f6438f13711": {
          "model_module": "@jupyter-widgets/base",
          "model_name": "LayoutModel",
          "model_module_version": "1.2.0",
          "state": {
            "_model_module": "@jupyter-widgets/base",
            "_model_module_version": "1.2.0",
            "_model_name": "LayoutModel",
            "_view_count": null,
            "_view_module": "@jupyter-widgets/base",
            "_view_module_version": "1.2.0",
            "_view_name": "LayoutView",
            "align_content": null,
            "align_items": null,
            "align_self": null,
            "border": null,
            "bottom": null,
            "display": null,
            "flex": null,
            "flex_flow": null,
            "grid_area": null,
            "grid_auto_columns": null,
            "grid_auto_flow": null,
            "grid_auto_rows": null,
            "grid_column": null,
            "grid_gap": null,
            "grid_row": null,
            "grid_template_areas": null,
            "grid_template_columns": null,
            "grid_template_rows": null,
            "height": null,
            "justify_content": null,
            "justify_items": null,
            "left": null,
            "margin": null,
            "max_height": null,
            "max_width": null,
            "min_height": null,
            "min_width": null,
            "object_fit": null,
            "object_position": null,
            "order": null,
            "overflow": null,
            "overflow_x": null,
            "overflow_y": null,
            "padding": null,
            "right": null,
            "top": null,
            "visibility": null,
            "width": null
          }
        },
        "4cbc3220877c4a2ba8d3ee6d3938f0c1": {
          "model_module": "@jupyter-widgets/controls",
          "model_name": "DescriptionStyleModel",
          "model_module_version": "1.5.0",
          "state": {
            "_model_module": "@jupyter-widgets/controls",
            "_model_module_version": "1.5.0",
            "_model_name": "DescriptionStyleModel",
            "_view_count": null,
            "_view_module": "@jupyter-widgets/base",
            "_view_module_version": "1.2.0",
            "_view_name": "StyleView",
            "description_width": ""
          }
        },
        "5799772da8ab447a8d265335ff25c939": {
          "model_module": "@jupyter-widgets/base",
          "model_name": "LayoutModel",
          "model_module_version": "1.2.0",
          "state": {
            "_model_module": "@jupyter-widgets/base",
            "_model_module_version": "1.2.0",
            "_model_name": "LayoutModel",
            "_view_count": null,
            "_view_module": "@jupyter-widgets/base",
            "_view_module_version": "1.2.0",
            "_view_name": "LayoutView",
            "align_content": null,
            "align_items": null,
            "align_self": null,
            "border": null,
            "bottom": null,
            "display": null,
            "flex": null,
            "flex_flow": null,
            "grid_area": null,
            "grid_auto_columns": null,
            "grid_auto_flow": null,
            "grid_auto_rows": null,
            "grid_column": null,
            "grid_gap": null,
            "grid_row": null,
            "grid_template_areas": null,
            "grid_template_columns": null,
            "grid_template_rows": null,
            "height": null,
            "justify_content": null,
            "justify_items": null,
            "left": null,
            "margin": null,
            "max_height": null,
            "max_width": null,
            "min_height": null,
            "min_width": null,
            "object_fit": null,
            "object_position": null,
            "order": null,
            "overflow": null,
            "overflow_x": null,
            "overflow_y": null,
            "padding": null,
            "right": null,
            "top": null,
            "visibility": null,
            "width": null
          }
        },
        "0030e4baa56a48d0835fed1d107a2efb": {
          "model_module": "@jupyter-widgets/controls",
          "model_name": "ProgressStyleModel",
          "model_module_version": "1.5.0",
          "state": {
            "_model_module": "@jupyter-widgets/controls",
            "_model_module_version": "1.5.0",
            "_model_name": "ProgressStyleModel",
            "_view_count": null,
            "_view_module": "@jupyter-widgets/base",
            "_view_module_version": "1.2.0",
            "_view_name": "StyleView",
            "bar_color": null,
            "description_width": ""
          }
        },
        "8d5bdca116474008a74a639beb782af6": {
          "model_module": "@jupyter-widgets/base",
          "model_name": "LayoutModel",
          "model_module_version": "1.2.0",
          "state": {
            "_model_module": "@jupyter-widgets/base",
            "_model_module_version": "1.2.0",
            "_model_name": "LayoutModel",
            "_view_count": null,
            "_view_module": "@jupyter-widgets/base",
            "_view_module_version": "1.2.0",
            "_view_name": "LayoutView",
            "align_content": null,
            "align_items": null,
            "align_self": null,
            "border": null,
            "bottom": null,
            "display": null,
            "flex": null,
            "flex_flow": null,
            "grid_area": null,
            "grid_auto_columns": null,
            "grid_auto_flow": null,
            "grid_auto_rows": null,
            "grid_column": null,
            "grid_gap": null,
            "grid_row": null,
            "grid_template_areas": null,
            "grid_template_columns": null,
            "grid_template_rows": null,
            "height": null,
            "justify_content": null,
            "justify_items": null,
            "left": null,
            "margin": null,
            "max_height": null,
            "max_width": null,
            "min_height": null,
            "min_width": null,
            "object_fit": null,
            "object_position": null,
            "order": null,
            "overflow": null,
            "overflow_x": null,
            "overflow_y": null,
            "padding": null,
            "right": null,
            "top": null,
            "visibility": null,
            "width": null
          }
        },
        "a5b5a78bae544ca6bcc5382a16f1d889": {
          "model_module": "@jupyter-widgets/controls",
          "model_name": "DescriptionStyleModel",
          "model_module_version": "1.5.0",
          "state": {
            "_model_module": "@jupyter-widgets/controls",
            "_model_module_version": "1.5.0",
            "_model_name": "DescriptionStyleModel",
            "_view_count": null,
            "_view_module": "@jupyter-widgets/base",
            "_view_module_version": "1.2.0",
            "_view_name": "StyleView",
            "description_width": ""
          }
        },
        "2af4f6d6d117481da72550fb48a3f2f7": {
          "model_module": "@jupyter-widgets/controls",
          "model_name": "HBoxModel",
          "model_module_version": "1.5.0",
          "state": {
            "_dom_classes": [],
            "_model_module": "@jupyter-widgets/controls",
            "_model_module_version": "1.5.0",
            "_model_name": "HBoxModel",
            "_view_count": null,
            "_view_module": "@jupyter-widgets/controls",
            "_view_module_version": "1.5.0",
            "_view_name": "HBoxView",
            "box_style": "",
            "children": [
              "IPY_MODEL_3293389601e941a0b7aa0d2fda66b1e5",
              "IPY_MODEL_6bf8f0b0b24c4bf088b540fa0acd201f",
              "IPY_MODEL_7793aac7c5244cd094408891516a7142"
            ],
            "layout": "IPY_MODEL_91dcc200206245428b7c4163bc72584e"
          }
        },
        "3293389601e941a0b7aa0d2fda66b1e5": {
          "model_module": "@jupyter-widgets/controls",
          "model_name": "HTMLModel",
          "model_module_version": "1.5.0",
          "state": {
            "_dom_classes": [],
            "_model_module": "@jupyter-widgets/controls",
            "_model_module_version": "1.5.0",
            "_model_name": "HTMLModel",
            "_view_count": null,
            "_view_module": "@jupyter-widgets/controls",
            "_view_module_version": "1.5.0",
            "_view_name": "HTMLView",
            "description": "",
            "description_tooltip": null,
            "layout": "IPY_MODEL_7276c989ec0d42aba3d1e84996709b91",
            "placeholder": "​",
            "style": "IPY_MODEL_3ad5b75db7b94914973dc1c45328888b",
            "value": "Downloading model.safetensors: 100%"
          }
        },
        "6bf8f0b0b24c4bf088b540fa0acd201f": {
          "model_module": "@jupyter-widgets/controls",
          "model_name": "FloatProgressModel",
          "model_module_version": "1.5.0",
          "state": {
            "_dom_classes": [],
            "_model_module": "@jupyter-widgets/controls",
            "_model_module_version": "1.5.0",
            "_model_name": "FloatProgressModel",
            "_view_count": null,
            "_view_module": "@jupyter-widgets/controls",
            "_view_module_version": "1.5.0",
            "_view_name": "ProgressView",
            "bar_style": "success",
            "description": "",
            "description_tooltip": null,
            "layout": "IPY_MODEL_6307d99361ad407ca62250120c437d02",
            "max": 435755784,
            "min": 0,
            "orientation": "horizontal",
            "style": "IPY_MODEL_0bb518df1a6c458887dd1d2f219e5742",
            "value": 435755784
          }
        },
        "7793aac7c5244cd094408891516a7142": {
          "model_module": "@jupyter-widgets/controls",
          "model_name": "HTMLModel",
          "model_module_version": "1.5.0",
          "state": {
            "_dom_classes": [],
            "_model_module": "@jupyter-widgets/controls",
            "_model_module_version": "1.5.0",
            "_model_name": "HTMLModel",
            "_view_count": null,
            "_view_module": "@jupyter-widgets/controls",
            "_view_module_version": "1.5.0",
            "_view_name": "HTMLView",
            "description": "",
            "description_tooltip": null,
            "layout": "IPY_MODEL_823ce90f11114df48b5d3d77da384473",
            "placeholder": "​",
            "style": "IPY_MODEL_22bc8d5d9e1543848637d68ee3407e4a",
            "value": " 436M/436M [00:02&lt;00:00, 158MB/s]"
          }
        },
        "91dcc200206245428b7c4163bc72584e": {
          "model_module": "@jupyter-widgets/base",
          "model_name": "LayoutModel",
          "model_module_version": "1.2.0",
          "state": {
            "_model_module": "@jupyter-widgets/base",
            "_model_module_version": "1.2.0",
            "_model_name": "LayoutModel",
            "_view_count": null,
            "_view_module": "@jupyter-widgets/base",
            "_view_module_version": "1.2.0",
            "_view_name": "LayoutView",
            "align_content": null,
            "align_items": null,
            "align_self": null,
            "border": null,
            "bottom": null,
            "display": null,
            "flex": null,
            "flex_flow": null,
            "grid_area": null,
            "grid_auto_columns": null,
            "grid_auto_flow": null,
            "grid_auto_rows": null,
            "grid_column": null,
            "grid_gap": null,
            "grid_row": null,
            "grid_template_areas": null,
            "grid_template_columns": null,
            "grid_template_rows": null,
            "height": null,
            "justify_content": null,
            "justify_items": null,
            "left": null,
            "margin": null,
            "max_height": null,
            "max_width": null,
            "min_height": null,
            "min_width": null,
            "object_fit": null,
            "object_position": null,
            "order": null,
            "overflow": null,
            "overflow_x": null,
            "overflow_y": null,
            "padding": null,
            "right": null,
            "top": null,
            "visibility": null,
            "width": null
          }
        },
        "7276c989ec0d42aba3d1e84996709b91": {
          "model_module": "@jupyter-widgets/base",
          "model_name": "LayoutModel",
          "model_module_version": "1.2.0",
          "state": {
            "_model_module": "@jupyter-widgets/base",
            "_model_module_version": "1.2.0",
            "_model_name": "LayoutModel",
            "_view_count": null,
            "_view_module": "@jupyter-widgets/base",
            "_view_module_version": "1.2.0",
            "_view_name": "LayoutView",
            "align_content": null,
            "align_items": null,
            "align_self": null,
            "border": null,
            "bottom": null,
            "display": null,
            "flex": null,
            "flex_flow": null,
            "grid_area": null,
            "grid_auto_columns": null,
            "grid_auto_flow": null,
            "grid_auto_rows": null,
            "grid_column": null,
            "grid_gap": null,
            "grid_row": null,
            "grid_template_areas": null,
            "grid_template_columns": null,
            "grid_template_rows": null,
            "height": null,
            "justify_content": null,
            "justify_items": null,
            "left": null,
            "margin": null,
            "max_height": null,
            "max_width": null,
            "min_height": null,
            "min_width": null,
            "object_fit": null,
            "object_position": null,
            "order": null,
            "overflow": null,
            "overflow_x": null,
            "overflow_y": null,
            "padding": null,
            "right": null,
            "top": null,
            "visibility": null,
            "width": null
          }
        },
        "3ad5b75db7b94914973dc1c45328888b": {
          "model_module": "@jupyter-widgets/controls",
          "model_name": "DescriptionStyleModel",
          "model_module_version": "1.5.0",
          "state": {
            "_model_module": "@jupyter-widgets/controls",
            "_model_module_version": "1.5.0",
            "_model_name": "DescriptionStyleModel",
            "_view_count": null,
            "_view_module": "@jupyter-widgets/base",
            "_view_module_version": "1.2.0",
            "_view_name": "StyleView",
            "description_width": ""
          }
        },
        "6307d99361ad407ca62250120c437d02": {
          "model_module": "@jupyter-widgets/base",
          "model_name": "LayoutModel",
          "model_module_version": "1.2.0",
          "state": {
            "_model_module": "@jupyter-widgets/base",
            "_model_module_version": "1.2.0",
            "_model_name": "LayoutModel",
            "_view_count": null,
            "_view_module": "@jupyter-widgets/base",
            "_view_module_version": "1.2.0",
            "_view_name": "LayoutView",
            "align_content": null,
            "align_items": null,
            "align_self": null,
            "border": null,
            "bottom": null,
            "display": null,
            "flex": null,
            "flex_flow": null,
            "grid_area": null,
            "grid_auto_columns": null,
            "grid_auto_flow": null,
            "grid_auto_rows": null,
            "grid_column": null,
            "grid_gap": null,
            "grid_row": null,
            "grid_template_areas": null,
            "grid_template_columns": null,
            "grid_template_rows": null,
            "height": null,
            "justify_content": null,
            "justify_items": null,
            "left": null,
            "margin": null,
            "max_height": null,
            "max_width": null,
            "min_height": null,
            "min_width": null,
            "object_fit": null,
            "object_position": null,
            "order": null,
            "overflow": null,
            "overflow_x": null,
            "overflow_y": null,
            "padding": null,
            "right": null,
            "top": null,
            "visibility": null,
            "width": null
          }
        },
        "0bb518df1a6c458887dd1d2f219e5742": {
          "model_module": "@jupyter-widgets/controls",
          "model_name": "ProgressStyleModel",
          "model_module_version": "1.5.0",
          "state": {
            "_model_module": "@jupyter-widgets/controls",
            "_model_module_version": "1.5.0",
            "_model_name": "ProgressStyleModel",
            "_view_count": null,
            "_view_module": "@jupyter-widgets/base",
            "_view_module_version": "1.2.0",
            "_view_name": "StyleView",
            "bar_color": null,
            "description_width": ""
          }
        },
        "823ce90f11114df48b5d3d77da384473": {
          "model_module": "@jupyter-widgets/base",
          "model_name": "LayoutModel",
          "model_module_version": "1.2.0",
          "state": {
            "_model_module": "@jupyter-widgets/base",
            "_model_module_version": "1.2.0",
            "_model_name": "LayoutModel",
            "_view_count": null,
            "_view_module": "@jupyter-widgets/base",
            "_view_module_version": "1.2.0",
            "_view_name": "LayoutView",
            "align_content": null,
            "align_items": null,
            "align_self": null,
            "border": null,
            "bottom": null,
            "display": null,
            "flex": null,
            "flex_flow": null,
            "grid_area": null,
            "grid_auto_columns": null,
            "grid_auto_flow": null,
            "grid_auto_rows": null,
            "grid_column": null,
            "grid_gap": null,
            "grid_row": null,
            "grid_template_areas": null,
            "grid_template_columns": null,
            "grid_template_rows": null,
            "height": null,
            "justify_content": null,
            "justify_items": null,
            "left": null,
            "margin": null,
            "max_height": null,
            "max_width": null,
            "min_height": null,
            "min_width": null,
            "object_fit": null,
            "object_position": null,
            "order": null,
            "overflow": null,
            "overflow_x": null,
            "overflow_y": null,
            "padding": null,
            "right": null,
            "top": null,
            "visibility": null,
            "width": null
          }
        },
        "22bc8d5d9e1543848637d68ee3407e4a": {
          "model_module": "@jupyter-widgets/controls",
          "model_name": "DescriptionStyleModel",
          "model_module_version": "1.5.0",
          "state": {
            "_model_module": "@jupyter-widgets/controls",
            "_model_module_version": "1.5.0",
            "_model_name": "DescriptionStyleModel",
            "_view_count": null,
            "_view_module": "@jupyter-widgets/base",
            "_view_module_version": "1.2.0",
            "_view_name": "StyleView",
            "description_width": ""
          }
        },
        "28e2c82d482840b89daa94b42ee0e95d": {
          "model_module": "@jupyter-widgets/controls",
          "model_name": "HBoxModel",
          "model_module_version": "1.5.0",
          "state": {
            "_dom_classes": [],
            "_model_module": "@jupyter-widgets/controls",
            "_model_module_version": "1.5.0",
            "_model_name": "HBoxModel",
            "_view_count": null,
            "_view_module": "@jupyter-widgets/controls",
            "_view_module_version": "1.5.0",
            "_view_name": "HBoxView",
            "box_style": "",
            "children": [
              "IPY_MODEL_364d58faf37f45bfa9f7eeb21d1640d3",
              "IPY_MODEL_a1739a523406416dbbfa4e82196797e3",
              "IPY_MODEL_b8d556f67cb64dfa92dbd2bb539b32d1"
            ],
            "layout": "IPY_MODEL_68426d8055af4549bac2adefdb3aefdc"
          }
        },
        "364d58faf37f45bfa9f7eeb21d1640d3": {
          "model_module": "@jupyter-widgets/controls",
          "model_name": "HTMLModel",
          "model_module_version": "1.5.0",
          "state": {
            "_dom_classes": [],
            "_model_module": "@jupyter-widgets/controls",
            "_model_module_version": "1.5.0",
            "_model_name": "HTMLModel",
            "_view_count": null,
            "_view_module": "@jupyter-widgets/controls",
            "_view_module_version": "1.5.0",
            "_view_name": "HTMLView",
            "description": "",
            "description_tooltip": null,
            "layout": "IPY_MODEL_48368edd4a42449ba6ef6d4477e16d2e",
            "placeholder": "​",
            "style": "IPY_MODEL_0172b57f99a9436cb401181078887d05",
            "value": "Downloading builder script: 100%"
          }
        },
        "a1739a523406416dbbfa4e82196797e3": {
          "model_module": "@jupyter-widgets/controls",
          "model_name": "FloatProgressModel",
          "model_module_version": "1.5.0",
          "state": {
            "_dom_classes": [],
            "_model_module": "@jupyter-widgets/controls",
            "_model_module_version": "1.5.0",
            "_model_name": "FloatProgressModel",
            "_view_count": null,
            "_view_module": "@jupyter-widgets/controls",
            "_view_module_version": "1.5.0",
            "_view_name": "ProgressView",
            "bar_style": "success",
            "description": "",
            "description_tooltip": null,
            "layout": "IPY_MODEL_611b437c5de149c2aaf3a9fd5a5b57f4",
            "max": 28751,
            "min": 0,
            "orientation": "horizontal",
            "style": "IPY_MODEL_4b04d4134f704ec18467efc4e5d80efb",
            "value": 28751
          }
        },
        "b8d556f67cb64dfa92dbd2bb539b32d1": {
          "model_module": "@jupyter-widgets/controls",
          "model_name": "HTMLModel",
          "model_module_version": "1.5.0",
          "state": {
            "_dom_classes": [],
            "_model_module": "@jupyter-widgets/controls",
            "_model_module_version": "1.5.0",
            "_model_name": "HTMLModel",
            "_view_count": null,
            "_view_module": "@jupyter-widgets/controls",
            "_view_module_version": "1.5.0",
            "_view_name": "HTMLView",
            "description": "",
            "description_tooltip": null,
            "layout": "IPY_MODEL_7021e84a70a349dd8fa04de6bee29e15",
            "placeholder": "​",
            "style": "IPY_MODEL_34a6352e2a344e6f804b7267d62f90eb",
            "value": " 28.8k/28.8k [00:00&lt;00:00, 1.81MB/s]"
          }
        },
        "68426d8055af4549bac2adefdb3aefdc": {
          "model_module": "@jupyter-widgets/base",
          "model_name": "LayoutModel",
          "model_module_version": "1.2.0",
          "state": {
            "_model_module": "@jupyter-widgets/base",
            "_model_module_version": "1.2.0",
            "_model_name": "LayoutModel",
            "_view_count": null,
            "_view_module": "@jupyter-widgets/base",
            "_view_module_version": "1.2.0",
            "_view_name": "LayoutView",
            "align_content": null,
            "align_items": null,
            "align_self": null,
            "border": null,
            "bottom": null,
            "display": null,
            "flex": null,
            "flex_flow": null,
            "grid_area": null,
            "grid_auto_columns": null,
            "grid_auto_flow": null,
            "grid_auto_rows": null,
            "grid_column": null,
            "grid_gap": null,
            "grid_row": null,
            "grid_template_areas": null,
            "grid_template_columns": null,
            "grid_template_rows": null,
            "height": null,
            "justify_content": null,
            "justify_items": null,
            "left": null,
            "margin": null,
            "max_height": null,
            "max_width": null,
            "min_height": null,
            "min_width": null,
            "object_fit": null,
            "object_position": null,
            "order": null,
            "overflow": null,
            "overflow_x": null,
            "overflow_y": null,
            "padding": null,
            "right": null,
            "top": null,
            "visibility": null,
            "width": null
          }
        },
        "48368edd4a42449ba6ef6d4477e16d2e": {
          "model_module": "@jupyter-widgets/base",
          "model_name": "LayoutModel",
          "model_module_version": "1.2.0",
          "state": {
            "_model_module": "@jupyter-widgets/base",
            "_model_module_version": "1.2.0",
            "_model_name": "LayoutModel",
            "_view_count": null,
            "_view_module": "@jupyter-widgets/base",
            "_view_module_version": "1.2.0",
            "_view_name": "LayoutView",
            "align_content": null,
            "align_items": null,
            "align_self": null,
            "border": null,
            "bottom": null,
            "display": null,
            "flex": null,
            "flex_flow": null,
            "grid_area": null,
            "grid_auto_columns": null,
            "grid_auto_flow": null,
            "grid_auto_rows": null,
            "grid_column": null,
            "grid_gap": null,
            "grid_row": null,
            "grid_template_areas": null,
            "grid_template_columns": null,
            "grid_template_rows": null,
            "height": null,
            "justify_content": null,
            "justify_items": null,
            "left": null,
            "margin": null,
            "max_height": null,
            "max_width": null,
            "min_height": null,
            "min_width": null,
            "object_fit": null,
            "object_position": null,
            "order": null,
            "overflow": null,
            "overflow_x": null,
            "overflow_y": null,
            "padding": null,
            "right": null,
            "top": null,
            "visibility": null,
            "width": null
          }
        },
        "0172b57f99a9436cb401181078887d05": {
          "model_module": "@jupyter-widgets/controls",
          "model_name": "DescriptionStyleModel",
          "model_module_version": "1.5.0",
          "state": {
            "_model_module": "@jupyter-widgets/controls",
            "_model_module_version": "1.5.0",
            "_model_name": "DescriptionStyleModel",
            "_view_count": null,
            "_view_module": "@jupyter-widgets/base",
            "_view_module_version": "1.2.0",
            "_view_name": "StyleView",
            "description_width": ""
          }
        },
        "611b437c5de149c2aaf3a9fd5a5b57f4": {
          "model_module": "@jupyter-widgets/base",
          "model_name": "LayoutModel",
          "model_module_version": "1.2.0",
          "state": {
            "_model_module": "@jupyter-widgets/base",
            "_model_module_version": "1.2.0",
            "_model_name": "LayoutModel",
            "_view_count": null,
            "_view_module": "@jupyter-widgets/base",
            "_view_module_version": "1.2.0",
            "_view_name": "LayoutView",
            "align_content": null,
            "align_items": null,
            "align_self": null,
            "border": null,
            "bottom": null,
            "display": null,
            "flex": null,
            "flex_flow": null,
            "grid_area": null,
            "grid_auto_columns": null,
            "grid_auto_flow": null,
            "grid_auto_rows": null,
            "grid_column": null,
            "grid_gap": null,
            "grid_row": null,
            "grid_template_areas": null,
            "grid_template_columns": null,
            "grid_template_rows": null,
            "height": null,
            "justify_content": null,
            "justify_items": null,
            "left": null,
            "margin": null,
            "max_height": null,
            "max_width": null,
            "min_height": null,
            "min_width": null,
            "object_fit": null,
            "object_position": null,
            "order": null,
            "overflow": null,
            "overflow_x": null,
            "overflow_y": null,
            "padding": null,
            "right": null,
            "top": null,
            "visibility": null,
            "width": null
          }
        },
        "4b04d4134f704ec18467efc4e5d80efb": {
          "model_module": "@jupyter-widgets/controls",
          "model_name": "ProgressStyleModel",
          "model_module_version": "1.5.0",
          "state": {
            "_model_module": "@jupyter-widgets/controls",
            "_model_module_version": "1.5.0",
            "_model_name": "ProgressStyleModel",
            "_view_count": null,
            "_view_module": "@jupyter-widgets/base",
            "_view_module_version": "1.2.0",
            "_view_name": "StyleView",
            "bar_color": null,
            "description_width": ""
          }
        },
        "7021e84a70a349dd8fa04de6bee29e15": {
          "model_module": "@jupyter-widgets/base",
          "model_name": "LayoutModel",
          "model_module_version": "1.2.0",
          "state": {
            "_model_module": "@jupyter-widgets/base",
            "_model_module_version": "1.2.0",
            "_model_name": "LayoutModel",
            "_view_count": null,
            "_view_module": "@jupyter-widgets/base",
            "_view_module_version": "1.2.0",
            "_view_name": "LayoutView",
            "align_content": null,
            "align_items": null,
            "align_self": null,
            "border": null,
            "bottom": null,
            "display": null,
            "flex": null,
            "flex_flow": null,
            "grid_area": null,
            "grid_auto_columns": null,
            "grid_auto_flow": null,
            "grid_auto_rows": null,
            "grid_column": null,
            "grid_gap": null,
            "grid_row": null,
            "grid_template_areas": null,
            "grid_template_columns": null,
            "grid_template_rows": null,
            "height": null,
            "justify_content": null,
            "justify_items": null,
            "left": null,
            "margin": null,
            "max_height": null,
            "max_width": null,
            "min_height": null,
            "min_width": null,
            "object_fit": null,
            "object_position": null,
            "order": null,
            "overflow": null,
            "overflow_x": null,
            "overflow_y": null,
            "padding": null,
            "right": null,
            "top": null,
            "visibility": null,
            "width": null
          }
        },
        "34a6352e2a344e6f804b7267d62f90eb": {
          "model_module": "@jupyter-widgets/controls",
          "model_name": "DescriptionStyleModel",
          "model_module_version": "1.5.0",
          "state": {
            "_model_module": "@jupyter-widgets/controls",
            "_model_module_version": "1.5.0",
            "_model_name": "DescriptionStyleModel",
            "_view_count": null,
            "_view_module": "@jupyter-widgets/base",
            "_view_module_version": "1.2.0",
            "_view_name": "StyleView",
            "description_width": ""
          }
        },
        "d3852b19f21c409394ce0e4e94662042": {
          "model_module": "@jupyter-widgets/controls",
          "model_name": "HBoxModel",
          "model_module_version": "1.5.0",
          "state": {
            "_dom_classes": [],
            "_model_module": "@jupyter-widgets/controls",
            "_model_module_version": "1.5.0",
            "_model_name": "HBoxModel",
            "_view_count": null,
            "_view_module": "@jupyter-widgets/controls",
            "_view_module_version": "1.5.0",
            "_view_name": "HBoxView",
            "box_style": "",
            "children": [
              "IPY_MODEL_c41dac93a8f34ea984df4a8f23c4b229",
              "IPY_MODEL_c935acde781847189e3f05f28947ea07",
              "IPY_MODEL_6c391e3ed39c494eb6c928d4c9ddf181"
            ],
            "layout": "IPY_MODEL_c52754a0d3b44e49b5c1080dac93faec"
          }
        },
        "c41dac93a8f34ea984df4a8f23c4b229": {
          "model_module": "@jupyter-widgets/controls",
          "model_name": "HTMLModel",
          "model_module_version": "1.5.0",
          "state": {
            "_dom_classes": [],
            "_model_module": "@jupyter-widgets/controls",
            "_model_module_version": "1.5.0",
            "_model_name": "HTMLModel",
            "_view_count": null,
            "_view_module": "@jupyter-widgets/controls",
            "_view_module_version": "1.5.0",
            "_view_name": "HTMLView",
            "description": "",
            "description_tooltip": null,
            "layout": "IPY_MODEL_e1f347fcab934de69d4813d4952962b5",
            "placeholder": "​",
            "style": "IPY_MODEL_1411874b69064ce18bbec999a701cbd3",
            "value": "Downloading metadata: 100%"
          }
        },
        "c935acde781847189e3f05f28947ea07": {
          "model_module": "@jupyter-widgets/controls",
          "model_name": "FloatProgressModel",
          "model_module_version": "1.5.0",
          "state": {
            "_dom_classes": [],
            "_model_module": "@jupyter-widgets/controls",
            "_model_module_version": "1.5.0",
            "_model_name": "FloatProgressModel",
            "_view_count": null,
            "_view_module": "@jupyter-widgets/controls",
            "_view_module_version": "1.5.0",
            "_view_name": "ProgressView",
            "bar_style": "success",
            "description": "",
            "description_tooltip": null,
            "layout": "IPY_MODEL_560ad3b5df44477a8d3fe911ca44b3ac",
            "max": 28682,
            "min": 0,
            "orientation": "horizontal",
            "style": "IPY_MODEL_502d81bfbe3948529cc19369162a257e",
            "value": 28682
          }
        },
        "6c391e3ed39c494eb6c928d4c9ddf181": {
          "model_module": "@jupyter-widgets/controls",
          "model_name": "HTMLModel",
          "model_module_version": "1.5.0",
          "state": {
            "_dom_classes": [],
            "_model_module": "@jupyter-widgets/controls",
            "_model_module_version": "1.5.0",
            "_model_name": "HTMLModel",
            "_view_count": null,
            "_view_module": "@jupyter-widgets/controls",
            "_view_module_version": "1.5.0",
            "_view_name": "HTMLView",
            "description": "",
            "description_tooltip": null,
            "layout": "IPY_MODEL_20863d0613ee414bb28f2dfe1d6b3d31",
            "placeholder": "​",
            "style": "IPY_MODEL_1dd591989caf49249c97a5e1183c9a69",
            "value": " 28.7k/28.7k [00:00&lt;00:00, 2.00MB/s]"
          }
        },
        "c52754a0d3b44e49b5c1080dac93faec": {
          "model_module": "@jupyter-widgets/base",
          "model_name": "LayoutModel",
          "model_module_version": "1.2.0",
          "state": {
            "_model_module": "@jupyter-widgets/base",
            "_model_module_version": "1.2.0",
            "_model_name": "LayoutModel",
            "_view_count": null,
            "_view_module": "@jupyter-widgets/base",
            "_view_module_version": "1.2.0",
            "_view_name": "LayoutView",
            "align_content": null,
            "align_items": null,
            "align_self": null,
            "border": null,
            "bottom": null,
            "display": null,
            "flex": null,
            "flex_flow": null,
            "grid_area": null,
            "grid_auto_columns": null,
            "grid_auto_flow": null,
            "grid_auto_rows": null,
            "grid_column": null,
            "grid_gap": null,
            "grid_row": null,
            "grid_template_areas": null,
            "grid_template_columns": null,
            "grid_template_rows": null,
            "height": null,
            "justify_content": null,
            "justify_items": null,
            "left": null,
            "margin": null,
            "max_height": null,
            "max_width": null,
            "min_height": null,
            "min_width": null,
            "object_fit": null,
            "object_position": null,
            "order": null,
            "overflow": null,
            "overflow_x": null,
            "overflow_y": null,
            "padding": null,
            "right": null,
            "top": null,
            "visibility": null,
            "width": null
          }
        },
        "e1f347fcab934de69d4813d4952962b5": {
          "model_module": "@jupyter-widgets/base",
          "model_name": "LayoutModel",
          "model_module_version": "1.2.0",
          "state": {
            "_model_module": "@jupyter-widgets/base",
            "_model_module_version": "1.2.0",
            "_model_name": "LayoutModel",
            "_view_count": null,
            "_view_module": "@jupyter-widgets/base",
            "_view_module_version": "1.2.0",
            "_view_name": "LayoutView",
            "align_content": null,
            "align_items": null,
            "align_self": null,
            "border": null,
            "bottom": null,
            "display": null,
            "flex": null,
            "flex_flow": null,
            "grid_area": null,
            "grid_auto_columns": null,
            "grid_auto_flow": null,
            "grid_auto_rows": null,
            "grid_column": null,
            "grid_gap": null,
            "grid_row": null,
            "grid_template_areas": null,
            "grid_template_columns": null,
            "grid_template_rows": null,
            "height": null,
            "justify_content": null,
            "justify_items": null,
            "left": null,
            "margin": null,
            "max_height": null,
            "max_width": null,
            "min_height": null,
            "min_width": null,
            "object_fit": null,
            "object_position": null,
            "order": null,
            "overflow": null,
            "overflow_x": null,
            "overflow_y": null,
            "padding": null,
            "right": null,
            "top": null,
            "visibility": null,
            "width": null
          }
        },
        "1411874b69064ce18bbec999a701cbd3": {
          "model_module": "@jupyter-widgets/controls",
          "model_name": "DescriptionStyleModel",
          "model_module_version": "1.5.0",
          "state": {
            "_model_module": "@jupyter-widgets/controls",
            "_model_module_version": "1.5.0",
            "_model_name": "DescriptionStyleModel",
            "_view_count": null,
            "_view_module": "@jupyter-widgets/base",
            "_view_module_version": "1.2.0",
            "_view_name": "StyleView",
            "description_width": ""
          }
        },
        "560ad3b5df44477a8d3fe911ca44b3ac": {
          "model_module": "@jupyter-widgets/base",
          "model_name": "LayoutModel",
          "model_module_version": "1.2.0",
          "state": {
            "_model_module": "@jupyter-widgets/base",
            "_model_module_version": "1.2.0",
            "_model_name": "LayoutModel",
            "_view_count": null,
            "_view_module": "@jupyter-widgets/base",
            "_view_module_version": "1.2.0",
            "_view_name": "LayoutView",
            "align_content": null,
            "align_items": null,
            "align_self": null,
            "border": null,
            "bottom": null,
            "display": null,
            "flex": null,
            "flex_flow": null,
            "grid_area": null,
            "grid_auto_columns": null,
            "grid_auto_flow": null,
            "grid_auto_rows": null,
            "grid_column": null,
            "grid_gap": null,
            "grid_row": null,
            "grid_template_areas": null,
            "grid_template_columns": null,
            "grid_template_rows": null,
            "height": null,
            "justify_content": null,
            "justify_items": null,
            "left": null,
            "margin": null,
            "max_height": null,
            "max_width": null,
            "min_height": null,
            "min_width": null,
            "object_fit": null,
            "object_position": null,
            "order": null,
            "overflow": null,
            "overflow_x": null,
            "overflow_y": null,
            "padding": null,
            "right": null,
            "top": null,
            "visibility": null,
            "width": null
          }
        },
        "502d81bfbe3948529cc19369162a257e": {
          "model_module": "@jupyter-widgets/controls",
          "model_name": "ProgressStyleModel",
          "model_module_version": "1.5.0",
          "state": {
            "_model_module": "@jupyter-widgets/controls",
            "_model_module_version": "1.5.0",
            "_model_name": "ProgressStyleModel",
            "_view_count": null,
            "_view_module": "@jupyter-widgets/base",
            "_view_module_version": "1.2.0",
            "_view_name": "StyleView",
            "bar_color": null,
            "description_width": ""
          }
        },
        "20863d0613ee414bb28f2dfe1d6b3d31": {
          "model_module": "@jupyter-widgets/base",
          "model_name": "LayoutModel",
          "model_module_version": "1.2.0",
          "state": {
            "_model_module": "@jupyter-widgets/base",
            "_model_module_version": "1.2.0",
            "_model_name": "LayoutModel",
            "_view_count": null,
            "_view_module": "@jupyter-widgets/base",
            "_view_module_version": "1.2.0",
            "_view_name": "LayoutView",
            "align_content": null,
            "align_items": null,
            "align_self": null,
            "border": null,
            "bottom": null,
            "display": null,
            "flex": null,
            "flex_flow": null,
            "grid_area": null,
            "grid_auto_columns": null,
            "grid_auto_flow": null,
            "grid_auto_rows": null,
            "grid_column": null,
            "grid_gap": null,
            "grid_row": null,
            "grid_template_areas": null,
            "grid_template_columns": null,
            "grid_template_rows": null,
            "height": null,
            "justify_content": null,
            "justify_items": null,
            "left": null,
            "margin": null,
            "max_height": null,
            "max_width": null,
            "min_height": null,
            "min_width": null,
            "object_fit": null,
            "object_position": null,
            "order": null,
            "overflow": null,
            "overflow_x": null,
            "overflow_y": null,
            "padding": null,
            "right": null,
            "top": null,
            "visibility": null,
            "width": null
          }
        },
        "1dd591989caf49249c97a5e1183c9a69": {
          "model_module": "@jupyter-widgets/controls",
          "model_name": "DescriptionStyleModel",
          "model_module_version": "1.5.0",
          "state": {
            "_model_module": "@jupyter-widgets/controls",
            "_model_module_version": "1.5.0",
            "_model_name": "DescriptionStyleModel",
            "_view_count": null,
            "_view_module": "@jupyter-widgets/base",
            "_view_module_version": "1.2.0",
            "_view_name": "StyleView",
            "description_width": ""
          }
        },
        "f1448dc145634a3cb3957867891f5904": {
          "model_module": "@jupyter-widgets/controls",
          "model_name": "HBoxModel",
          "model_module_version": "1.5.0",
          "state": {
            "_dom_classes": [],
            "_model_module": "@jupyter-widgets/controls",
            "_model_module_version": "1.5.0",
            "_model_name": "HBoxModel",
            "_view_count": null,
            "_view_module": "@jupyter-widgets/controls",
            "_view_module_version": "1.5.0",
            "_view_name": "HBoxView",
            "box_style": "",
            "children": [
              "IPY_MODEL_5d2e05c0370349fabac4baa0f5861b98",
              "IPY_MODEL_074fb8eaf08a47628a60c6b564cc3bd4",
              "IPY_MODEL_e7994ae7dcb34168aa4418a6dc8a1de9"
            ],
            "layout": "IPY_MODEL_631f6c083a36453982ac094ef58cde54"
          }
        },
        "5d2e05c0370349fabac4baa0f5861b98": {
          "model_module": "@jupyter-widgets/controls",
          "model_name": "HTMLModel",
          "model_module_version": "1.5.0",
          "state": {
            "_dom_classes": [],
            "_model_module": "@jupyter-widgets/controls",
            "_model_module_version": "1.5.0",
            "_model_name": "HTMLModel",
            "_view_count": null,
            "_view_module": "@jupyter-widgets/controls",
            "_view_module_version": "1.5.0",
            "_view_name": "HTMLView",
            "description": "",
            "description_tooltip": null,
            "layout": "IPY_MODEL_e1bb811fccac44fa8971053ae2f387f1",
            "placeholder": "​",
            "style": "IPY_MODEL_409109d0028a46049ebe920984049a46",
            "value": "Downloading readme: 100%"
          }
        },
        "074fb8eaf08a47628a60c6b564cc3bd4": {
          "model_module": "@jupyter-widgets/controls",
          "model_name": "FloatProgressModel",
          "model_module_version": "1.5.0",
          "state": {
            "_dom_classes": [],
            "_model_module": "@jupyter-widgets/controls",
            "_model_module_version": "1.5.0",
            "_model_name": "FloatProgressModel",
            "_view_count": null,
            "_view_module": "@jupyter-widgets/controls",
            "_view_module_version": "1.5.0",
            "_view_name": "ProgressView",
            "bar_style": "success",
            "description": "",
            "description_tooltip": null,
            "layout": "IPY_MODEL_ee0e9236ee364326ba10af7d020fb2c6",
            "max": 27887,
            "min": 0,
            "orientation": "horizontal",
            "style": "IPY_MODEL_9201505f89094cccb00dd17bcc3856fa",
            "value": 27887
          }
        },
        "e7994ae7dcb34168aa4418a6dc8a1de9": {
          "model_module": "@jupyter-widgets/controls",
          "model_name": "HTMLModel",
          "model_module_version": "1.5.0",
          "state": {
            "_dom_classes": [],
            "_model_module": "@jupyter-widgets/controls",
            "_model_module_version": "1.5.0",
            "_model_name": "HTMLModel",
            "_view_count": null,
            "_view_module": "@jupyter-widgets/controls",
            "_view_module_version": "1.5.0",
            "_view_name": "HTMLView",
            "description": "",
            "description_tooltip": null,
            "layout": "IPY_MODEL_627131404701434ea672f2c2c91d4e98",
            "placeholder": "​",
            "style": "IPY_MODEL_e37c539708304114a83bb8f9689b8cc3",
            "value": " 27.9k/27.9k [00:00&lt;00:00, 1.67MB/s]"
          }
        },
        "631f6c083a36453982ac094ef58cde54": {
          "model_module": "@jupyter-widgets/base",
          "model_name": "LayoutModel",
          "model_module_version": "1.2.0",
          "state": {
            "_model_module": "@jupyter-widgets/base",
            "_model_module_version": "1.2.0",
            "_model_name": "LayoutModel",
            "_view_count": null,
            "_view_module": "@jupyter-widgets/base",
            "_view_module_version": "1.2.0",
            "_view_name": "LayoutView",
            "align_content": null,
            "align_items": null,
            "align_self": null,
            "border": null,
            "bottom": null,
            "display": null,
            "flex": null,
            "flex_flow": null,
            "grid_area": null,
            "grid_auto_columns": null,
            "grid_auto_flow": null,
            "grid_auto_rows": null,
            "grid_column": null,
            "grid_gap": null,
            "grid_row": null,
            "grid_template_areas": null,
            "grid_template_columns": null,
            "grid_template_rows": null,
            "height": null,
            "justify_content": null,
            "justify_items": null,
            "left": null,
            "margin": null,
            "max_height": null,
            "max_width": null,
            "min_height": null,
            "min_width": null,
            "object_fit": null,
            "object_position": null,
            "order": null,
            "overflow": null,
            "overflow_x": null,
            "overflow_y": null,
            "padding": null,
            "right": null,
            "top": null,
            "visibility": null,
            "width": null
          }
        },
        "e1bb811fccac44fa8971053ae2f387f1": {
          "model_module": "@jupyter-widgets/base",
          "model_name": "LayoutModel",
          "model_module_version": "1.2.0",
          "state": {
            "_model_module": "@jupyter-widgets/base",
            "_model_module_version": "1.2.0",
            "_model_name": "LayoutModel",
            "_view_count": null,
            "_view_module": "@jupyter-widgets/base",
            "_view_module_version": "1.2.0",
            "_view_name": "LayoutView",
            "align_content": null,
            "align_items": null,
            "align_self": null,
            "border": null,
            "bottom": null,
            "display": null,
            "flex": null,
            "flex_flow": null,
            "grid_area": null,
            "grid_auto_columns": null,
            "grid_auto_flow": null,
            "grid_auto_rows": null,
            "grid_column": null,
            "grid_gap": null,
            "grid_row": null,
            "grid_template_areas": null,
            "grid_template_columns": null,
            "grid_template_rows": null,
            "height": null,
            "justify_content": null,
            "justify_items": null,
            "left": null,
            "margin": null,
            "max_height": null,
            "max_width": null,
            "min_height": null,
            "min_width": null,
            "object_fit": null,
            "object_position": null,
            "order": null,
            "overflow": null,
            "overflow_x": null,
            "overflow_y": null,
            "padding": null,
            "right": null,
            "top": null,
            "visibility": null,
            "width": null
          }
        },
        "409109d0028a46049ebe920984049a46": {
          "model_module": "@jupyter-widgets/controls",
          "model_name": "DescriptionStyleModel",
          "model_module_version": "1.5.0",
          "state": {
            "_model_module": "@jupyter-widgets/controls",
            "_model_module_version": "1.5.0",
            "_model_name": "DescriptionStyleModel",
            "_view_count": null,
            "_view_module": "@jupyter-widgets/base",
            "_view_module_version": "1.2.0",
            "_view_name": "StyleView",
            "description_width": ""
          }
        },
        "ee0e9236ee364326ba10af7d020fb2c6": {
          "model_module": "@jupyter-widgets/base",
          "model_name": "LayoutModel",
          "model_module_version": "1.2.0",
          "state": {
            "_model_module": "@jupyter-widgets/base",
            "_model_module_version": "1.2.0",
            "_model_name": "LayoutModel",
            "_view_count": null,
            "_view_module": "@jupyter-widgets/base",
            "_view_module_version": "1.2.0",
            "_view_name": "LayoutView",
            "align_content": null,
            "align_items": null,
            "align_self": null,
            "border": null,
            "bottom": null,
            "display": null,
            "flex": null,
            "flex_flow": null,
            "grid_area": null,
            "grid_auto_columns": null,
            "grid_auto_flow": null,
            "grid_auto_rows": null,
            "grid_column": null,
            "grid_gap": null,
            "grid_row": null,
            "grid_template_areas": null,
            "grid_template_columns": null,
            "grid_template_rows": null,
            "height": null,
            "justify_content": null,
            "justify_items": null,
            "left": null,
            "margin": null,
            "max_height": null,
            "max_width": null,
            "min_height": null,
            "min_width": null,
            "object_fit": null,
            "object_position": null,
            "order": null,
            "overflow": null,
            "overflow_x": null,
            "overflow_y": null,
            "padding": null,
            "right": null,
            "top": null,
            "visibility": null,
            "width": null
          }
        },
        "9201505f89094cccb00dd17bcc3856fa": {
          "model_module": "@jupyter-widgets/controls",
          "model_name": "ProgressStyleModel",
          "model_module_version": "1.5.0",
          "state": {
            "_model_module": "@jupyter-widgets/controls",
            "_model_module_version": "1.5.0",
            "_model_name": "ProgressStyleModel",
            "_view_count": null,
            "_view_module": "@jupyter-widgets/base",
            "_view_module_version": "1.2.0",
            "_view_name": "StyleView",
            "bar_color": null,
            "description_width": ""
          }
        },
        "627131404701434ea672f2c2c91d4e98": {
          "model_module": "@jupyter-widgets/base",
          "model_name": "LayoutModel",
          "model_module_version": "1.2.0",
          "state": {
            "_model_module": "@jupyter-widgets/base",
            "_model_module_version": "1.2.0",
            "_model_name": "LayoutModel",
            "_view_count": null,
            "_view_module": "@jupyter-widgets/base",
            "_view_module_version": "1.2.0",
            "_view_name": "LayoutView",
            "align_content": null,
            "align_items": null,
            "align_self": null,
            "border": null,
            "bottom": null,
            "display": null,
            "flex": null,
            "flex_flow": null,
            "grid_area": null,
            "grid_auto_columns": null,
            "grid_auto_flow": null,
            "grid_auto_rows": null,
            "grid_column": null,
            "grid_gap": null,
            "grid_row": null,
            "grid_template_areas": null,
            "grid_template_columns": null,
            "grid_template_rows": null,
            "height": null,
            "justify_content": null,
            "justify_items": null,
            "left": null,
            "margin": null,
            "max_height": null,
            "max_width": null,
            "min_height": null,
            "min_width": null,
            "object_fit": null,
            "object_position": null,
            "order": null,
            "overflow": null,
            "overflow_x": null,
            "overflow_y": null,
            "padding": null,
            "right": null,
            "top": null,
            "visibility": null,
            "width": null
          }
        },
        "e37c539708304114a83bb8f9689b8cc3": {
          "model_module": "@jupyter-widgets/controls",
          "model_name": "DescriptionStyleModel",
          "model_module_version": "1.5.0",
          "state": {
            "_model_module": "@jupyter-widgets/controls",
            "_model_module_version": "1.5.0",
            "_model_name": "DescriptionStyleModel",
            "_view_count": null,
            "_view_module": "@jupyter-widgets/base",
            "_view_module_version": "1.2.0",
            "_view_name": "StyleView",
            "description_width": ""
          }
        },
        "8a426facdaa542ce8230a13c922f4442": {
          "model_module": "@jupyter-widgets/controls",
          "model_name": "HBoxModel",
          "model_module_version": "1.5.0",
          "state": {
            "_dom_classes": [],
            "_model_module": "@jupyter-widgets/controls",
            "_model_module_version": "1.5.0",
            "_model_name": "HBoxModel",
            "_view_count": null,
            "_view_module": "@jupyter-widgets/controls",
            "_view_module_version": "1.5.0",
            "_view_name": "HBoxView",
            "box_style": "",
            "children": [
              "IPY_MODEL_07260a91077c4a919f5a4ba6190383b6",
              "IPY_MODEL_c9f67c51078b4978a53bba28562b5b97",
              "IPY_MODEL_455be50b1f264f4bbf623025760ef992"
            ],
            "layout": "IPY_MODEL_3dee3034ca3543c0814740273e65241a"
          }
        },
        "07260a91077c4a919f5a4ba6190383b6": {
          "model_module": "@jupyter-widgets/controls",
          "model_name": "HTMLModel",
          "model_module_version": "1.5.0",
          "state": {
            "_dom_classes": [],
            "_model_module": "@jupyter-widgets/controls",
            "_model_module_version": "1.5.0",
            "_model_name": "HTMLModel",
            "_view_count": null,
            "_view_module": "@jupyter-widgets/controls",
            "_view_module_version": "1.5.0",
            "_view_name": "HTMLView",
            "description": "",
            "description_tooltip": null,
            "layout": "IPY_MODEL_35342f16ad8549eea158dbc6cb86a438",
            "placeholder": "​",
            "style": "IPY_MODEL_f703049a24d04cec97f1c7d96d94a785",
            "value": "Downloading data: 100%"
          }
        },
        "c9f67c51078b4978a53bba28562b5b97": {
          "model_module": "@jupyter-widgets/controls",
          "model_name": "FloatProgressModel",
          "model_module_version": "1.5.0",
          "state": {
            "_dom_classes": [],
            "_model_module": "@jupyter-widgets/controls",
            "_model_module_version": "1.5.0",
            "_model_name": "FloatProgressModel",
            "_view_count": null,
            "_view_module": "@jupyter-widgets/controls",
            "_view_module_version": "1.5.0",
            "_view_name": "ProgressView",
            "bar_style": "success",
            "description": "",
            "description_tooltip": null,
            "layout": "IPY_MODEL_7269cda3fa35493d86d78820994ab611",
            "max": 7439277,
            "min": 0,
            "orientation": "horizontal",
            "style": "IPY_MODEL_06586d3926a9462299c7ddc0d2599608",
            "value": 7439277
          }
        },
        "455be50b1f264f4bbf623025760ef992": {
          "model_module": "@jupyter-widgets/controls",
          "model_name": "HTMLModel",
          "model_module_version": "1.5.0",
          "state": {
            "_dom_classes": [],
            "_model_module": "@jupyter-widgets/controls",
            "_model_module_version": "1.5.0",
            "_model_name": "HTMLModel",
            "_view_count": null,
            "_view_module": "@jupyter-widgets/controls",
            "_view_module_version": "1.5.0",
            "_view_name": "HTMLView",
            "description": "",
            "description_tooltip": null,
            "layout": "IPY_MODEL_4bdbb1d78ac54f7c8218e2d5028ce40a",
            "placeholder": "​",
            "style": "IPY_MODEL_0995868020b7440aabad98f995f197f2",
            "value": " 7.44M/7.44M [00:00&lt;00:00, 58.3MB/s]"
          }
        },
        "3dee3034ca3543c0814740273e65241a": {
          "model_module": "@jupyter-widgets/base",
          "model_name": "LayoutModel",
          "model_module_version": "1.2.0",
          "state": {
            "_model_module": "@jupyter-widgets/base",
            "_model_module_version": "1.2.0",
            "_model_name": "LayoutModel",
            "_view_count": null,
            "_view_module": "@jupyter-widgets/base",
            "_view_module_version": "1.2.0",
            "_view_name": "LayoutView",
            "align_content": null,
            "align_items": null,
            "align_self": null,
            "border": null,
            "bottom": null,
            "display": null,
            "flex": null,
            "flex_flow": null,
            "grid_area": null,
            "grid_auto_columns": null,
            "grid_auto_flow": null,
            "grid_auto_rows": null,
            "grid_column": null,
            "grid_gap": null,
            "grid_row": null,
            "grid_template_areas": null,
            "grid_template_columns": null,
            "grid_template_rows": null,
            "height": null,
            "justify_content": null,
            "justify_items": null,
            "left": null,
            "margin": null,
            "max_height": null,
            "max_width": null,
            "min_height": null,
            "min_width": null,
            "object_fit": null,
            "object_position": null,
            "order": null,
            "overflow": null,
            "overflow_x": null,
            "overflow_y": null,
            "padding": null,
            "right": null,
            "top": null,
            "visibility": null,
            "width": null
          }
        },
        "35342f16ad8549eea158dbc6cb86a438": {
          "model_module": "@jupyter-widgets/base",
          "model_name": "LayoutModel",
          "model_module_version": "1.2.0",
          "state": {
            "_model_module": "@jupyter-widgets/base",
            "_model_module_version": "1.2.0",
            "_model_name": "LayoutModel",
            "_view_count": null,
            "_view_module": "@jupyter-widgets/base",
            "_view_module_version": "1.2.0",
            "_view_name": "LayoutView",
            "align_content": null,
            "align_items": null,
            "align_self": null,
            "border": null,
            "bottom": null,
            "display": null,
            "flex": null,
            "flex_flow": null,
            "grid_area": null,
            "grid_auto_columns": null,
            "grid_auto_flow": null,
            "grid_auto_rows": null,
            "grid_column": null,
            "grid_gap": null,
            "grid_row": null,
            "grid_template_areas": null,
            "grid_template_columns": null,
            "grid_template_rows": null,
            "height": null,
            "justify_content": null,
            "justify_items": null,
            "left": null,
            "margin": null,
            "max_height": null,
            "max_width": null,
            "min_height": null,
            "min_width": null,
            "object_fit": null,
            "object_position": null,
            "order": null,
            "overflow": null,
            "overflow_x": null,
            "overflow_y": null,
            "padding": null,
            "right": null,
            "top": null,
            "visibility": null,
            "width": null
          }
        },
        "f703049a24d04cec97f1c7d96d94a785": {
          "model_module": "@jupyter-widgets/controls",
          "model_name": "DescriptionStyleModel",
          "model_module_version": "1.5.0",
          "state": {
            "_model_module": "@jupyter-widgets/controls",
            "_model_module_version": "1.5.0",
            "_model_name": "DescriptionStyleModel",
            "_view_count": null,
            "_view_module": "@jupyter-widgets/base",
            "_view_module_version": "1.2.0",
            "_view_name": "StyleView",
            "description_width": ""
          }
        },
        "7269cda3fa35493d86d78820994ab611": {
          "model_module": "@jupyter-widgets/base",
          "model_name": "LayoutModel",
          "model_module_version": "1.2.0",
          "state": {
            "_model_module": "@jupyter-widgets/base",
            "_model_module_version": "1.2.0",
            "_model_name": "LayoutModel",
            "_view_count": null,
            "_view_module": "@jupyter-widgets/base",
            "_view_module_version": "1.2.0",
            "_view_name": "LayoutView",
            "align_content": null,
            "align_items": null,
            "align_self": null,
            "border": null,
            "bottom": null,
            "display": null,
            "flex": null,
            "flex_flow": null,
            "grid_area": null,
            "grid_auto_columns": null,
            "grid_auto_flow": null,
            "grid_auto_rows": null,
            "grid_column": null,
            "grid_gap": null,
            "grid_row": null,
            "grid_template_areas": null,
            "grid_template_columns": null,
            "grid_template_rows": null,
            "height": null,
            "justify_content": null,
            "justify_items": null,
            "left": null,
            "margin": null,
            "max_height": null,
            "max_width": null,
            "min_height": null,
            "min_width": null,
            "object_fit": null,
            "object_position": null,
            "order": null,
            "overflow": null,
            "overflow_x": null,
            "overflow_y": null,
            "padding": null,
            "right": null,
            "top": null,
            "visibility": null,
            "width": null
          }
        },
        "06586d3926a9462299c7ddc0d2599608": {
          "model_module": "@jupyter-widgets/controls",
          "model_name": "ProgressStyleModel",
          "model_module_version": "1.5.0",
          "state": {
            "_model_module": "@jupyter-widgets/controls",
            "_model_module_version": "1.5.0",
            "_model_name": "ProgressStyleModel",
            "_view_count": null,
            "_view_module": "@jupyter-widgets/base",
            "_view_module_version": "1.2.0",
            "_view_name": "StyleView",
            "bar_color": null,
            "description_width": ""
          }
        },
        "4bdbb1d78ac54f7c8218e2d5028ce40a": {
          "model_module": "@jupyter-widgets/base",
          "model_name": "LayoutModel",
          "model_module_version": "1.2.0",
          "state": {
            "_model_module": "@jupyter-widgets/base",
            "_model_module_version": "1.2.0",
            "_model_name": "LayoutModel",
            "_view_count": null,
            "_view_module": "@jupyter-widgets/base",
            "_view_module_version": "1.2.0",
            "_view_name": "LayoutView",
            "align_content": null,
            "align_items": null,
            "align_self": null,
            "border": null,
            "bottom": null,
            "display": null,
            "flex": null,
            "flex_flow": null,
            "grid_area": null,
            "grid_auto_columns": null,
            "grid_auto_flow": null,
            "grid_auto_rows": null,
            "grid_column": null,
            "grid_gap": null,
            "grid_row": null,
            "grid_template_areas": null,
            "grid_template_columns": null,
            "grid_template_rows": null,
            "height": null,
            "justify_content": null,
            "justify_items": null,
            "left": null,
            "margin": null,
            "max_height": null,
            "max_width": null,
            "min_height": null,
            "min_width": null,
            "object_fit": null,
            "object_position": null,
            "order": null,
            "overflow": null,
            "overflow_x": null,
            "overflow_y": null,
            "padding": null,
            "right": null,
            "top": null,
            "visibility": null,
            "width": null
          }
        },
        "0995868020b7440aabad98f995f197f2": {
          "model_module": "@jupyter-widgets/controls",
          "model_name": "DescriptionStyleModel",
          "model_module_version": "1.5.0",
          "state": {
            "_model_module": "@jupyter-widgets/controls",
            "_model_module_version": "1.5.0",
            "_model_name": "DescriptionStyleModel",
            "_view_count": null,
            "_view_module": "@jupyter-widgets/base",
            "_view_module_version": "1.2.0",
            "_view_name": "StyleView",
            "description_width": ""
          }
        },
        "e61c71e812f84b768688e8479b1a8769": {
          "model_module": "@jupyter-widgets/controls",
          "model_name": "HBoxModel",
          "model_module_version": "1.5.0",
          "state": {
            "_dom_classes": [],
            "_model_module": "@jupyter-widgets/controls",
            "_model_module_version": "1.5.0",
            "_model_name": "HBoxModel",
            "_view_count": null,
            "_view_module": "@jupyter-widgets/controls",
            "_view_module_version": "1.5.0",
            "_view_name": "HBoxView",
            "box_style": "",
            "children": [
              "IPY_MODEL_160bc548c29c4c4ab4679505d6db68fb",
              "IPY_MODEL_a7ffd18e0f514b689ea4cd74a1b3d528",
              "IPY_MODEL_c548e96ec7b7498387e3b45e662f6d82"
            ],
            "layout": "IPY_MODEL_301a64d104744ba0a0a5b14f6940d4e4"
          }
        },
        "160bc548c29c4c4ab4679505d6db68fb": {
          "model_module": "@jupyter-widgets/controls",
          "model_name": "HTMLModel",
          "model_module_version": "1.5.0",
          "state": {
            "_dom_classes": [],
            "_model_module": "@jupyter-widgets/controls",
            "_model_module_version": "1.5.0",
            "_model_name": "HTMLModel",
            "_view_count": null,
            "_view_module": "@jupyter-widgets/controls",
            "_view_module_version": "1.5.0",
            "_view_name": "HTMLView",
            "description": "",
            "description_tooltip": null,
            "layout": "IPY_MODEL_9f1122c048c84b44a9b92afe00249c07",
            "placeholder": "​",
            "style": "IPY_MODEL_7ec1f971dbee49fbbfd63cfa71fcbd17",
            "value": "Generating train split: 100%"
          }
        },
        "a7ffd18e0f514b689ea4cd74a1b3d528": {
          "model_module": "@jupyter-widgets/controls",
          "model_name": "FloatProgressModel",
          "model_module_version": "1.5.0",
          "state": {
            "_dom_classes": [],
            "_model_module": "@jupyter-widgets/controls",
            "_model_module_version": "1.5.0",
            "_model_name": "FloatProgressModel",
            "_view_count": null,
            "_view_module": "@jupyter-widgets/controls",
            "_view_module_version": "1.5.0",
            "_view_name": "ProgressView",
            "bar_style": "success",
            "description": "",
            "description_tooltip": null,
            "layout": "IPY_MODEL_2ec8b15788c548c3a7671de7e99f903a",
            "max": 67349,
            "min": 0,
            "orientation": "horizontal",
            "style": "IPY_MODEL_57d6f96c111e4dfbb587a590383d8a26",
            "value": 67349
          }
        },
        "c548e96ec7b7498387e3b45e662f6d82": {
          "model_module": "@jupyter-widgets/controls",
          "model_name": "HTMLModel",
          "model_module_version": "1.5.0",
          "state": {
            "_dom_classes": [],
            "_model_module": "@jupyter-widgets/controls",
            "_model_module_version": "1.5.0",
            "_model_name": "HTMLModel",
            "_view_count": null,
            "_view_module": "@jupyter-widgets/controls",
            "_view_module_version": "1.5.0",
            "_view_name": "HTMLView",
            "description": "",
            "description_tooltip": null,
            "layout": "IPY_MODEL_d618706d27f0471080150e862bc57bb4",
            "placeholder": "​",
            "style": "IPY_MODEL_ee4a5b1a79cf4ca3b810f687e6aaa2f1",
            "value": " 67349/67349 [00:02&lt;00:00, 24769.24 examples/s]"
          }
        },
        "301a64d104744ba0a0a5b14f6940d4e4": {
          "model_module": "@jupyter-widgets/base",
          "model_name": "LayoutModel",
          "model_module_version": "1.2.0",
          "state": {
            "_model_module": "@jupyter-widgets/base",
            "_model_module_version": "1.2.0",
            "_model_name": "LayoutModel",
            "_view_count": null,
            "_view_module": "@jupyter-widgets/base",
            "_view_module_version": "1.2.0",
            "_view_name": "LayoutView",
            "align_content": null,
            "align_items": null,
            "align_self": null,
            "border": null,
            "bottom": null,
            "display": null,
            "flex": null,
            "flex_flow": null,
            "grid_area": null,
            "grid_auto_columns": null,
            "grid_auto_flow": null,
            "grid_auto_rows": null,
            "grid_column": null,
            "grid_gap": null,
            "grid_row": null,
            "grid_template_areas": null,
            "grid_template_columns": null,
            "grid_template_rows": null,
            "height": null,
            "justify_content": null,
            "justify_items": null,
            "left": null,
            "margin": null,
            "max_height": null,
            "max_width": null,
            "min_height": null,
            "min_width": null,
            "object_fit": null,
            "object_position": null,
            "order": null,
            "overflow": null,
            "overflow_x": null,
            "overflow_y": null,
            "padding": null,
            "right": null,
            "top": null,
            "visibility": null,
            "width": null
          }
        },
        "9f1122c048c84b44a9b92afe00249c07": {
          "model_module": "@jupyter-widgets/base",
          "model_name": "LayoutModel",
          "model_module_version": "1.2.0",
          "state": {
            "_model_module": "@jupyter-widgets/base",
            "_model_module_version": "1.2.0",
            "_model_name": "LayoutModel",
            "_view_count": null,
            "_view_module": "@jupyter-widgets/base",
            "_view_module_version": "1.2.0",
            "_view_name": "LayoutView",
            "align_content": null,
            "align_items": null,
            "align_self": null,
            "border": null,
            "bottom": null,
            "display": null,
            "flex": null,
            "flex_flow": null,
            "grid_area": null,
            "grid_auto_columns": null,
            "grid_auto_flow": null,
            "grid_auto_rows": null,
            "grid_column": null,
            "grid_gap": null,
            "grid_row": null,
            "grid_template_areas": null,
            "grid_template_columns": null,
            "grid_template_rows": null,
            "height": null,
            "justify_content": null,
            "justify_items": null,
            "left": null,
            "margin": null,
            "max_height": null,
            "max_width": null,
            "min_height": null,
            "min_width": null,
            "object_fit": null,
            "object_position": null,
            "order": null,
            "overflow": null,
            "overflow_x": null,
            "overflow_y": null,
            "padding": null,
            "right": null,
            "top": null,
            "visibility": null,
            "width": null
          }
        },
        "7ec1f971dbee49fbbfd63cfa71fcbd17": {
          "model_module": "@jupyter-widgets/controls",
          "model_name": "DescriptionStyleModel",
          "model_module_version": "1.5.0",
          "state": {
            "_model_module": "@jupyter-widgets/controls",
            "_model_module_version": "1.5.0",
            "_model_name": "DescriptionStyleModel",
            "_view_count": null,
            "_view_module": "@jupyter-widgets/base",
            "_view_module_version": "1.2.0",
            "_view_name": "StyleView",
            "description_width": ""
          }
        },
        "2ec8b15788c548c3a7671de7e99f903a": {
          "model_module": "@jupyter-widgets/base",
          "model_name": "LayoutModel",
          "model_module_version": "1.2.0",
          "state": {
            "_model_module": "@jupyter-widgets/base",
            "_model_module_version": "1.2.0",
            "_model_name": "LayoutModel",
            "_view_count": null,
            "_view_module": "@jupyter-widgets/base",
            "_view_module_version": "1.2.0",
            "_view_name": "LayoutView",
            "align_content": null,
            "align_items": null,
            "align_self": null,
            "border": null,
            "bottom": null,
            "display": null,
            "flex": null,
            "flex_flow": null,
            "grid_area": null,
            "grid_auto_columns": null,
            "grid_auto_flow": null,
            "grid_auto_rows": null,
            "grid_column": null,
            "grid_gap": null,
            "grid_row": null,
            "grid_template_areas": null,
            "grid_template_columns": null,
            "grid_template_rows": null,
            "height": null,
            "justify_content": null,
            "justify_items": null,
            "left": null,
            "margin": null,
            "max_height": null,
            "max_width": null,
            "min_height": null,
            "min_width": null,
            "object_fit": null,
            "object_position": null,
            "order": null,
            "overflow": null,
            "overflow_x": null,
            "overflow_y": null,
            "padding": null,
            "right": null,
            "top": null,
            "visibility": null,
            "width": null
          }
        },
        "57d6f96c111e4dfbb587a590383d8a26": {
          "model_module": "@jupyter-widgets/controls",
          "model_name": "ProgressStyleModel",
          "model_module_version": "1.5.0",
          "state": {
            "_model_module": "@jupyter-widgets/controls",
            "_model_module_version": "1.5.0",
            "_model_name": "ProgressStyleModel",
            "_view_count": null,
            "_view_module": "@jupyter-widgets/base",
            "_view_module_version": "1.2.0",
            "_view_name": "StyleView",
            "bar_color": null,
            "description_width": ""
          }
        },
        "d618706d27f0471080150e862bc57bb4": {
          "model_module": "@jupyter-widgets/base",
          "model_name": "LayoutModel",
          "model_module_version": "1.2.0",
          "state": {
            "_model_module": "@jupyter-widgets/base",
            "_model_module_version": "1.2.0",
            "_model_name": "LayoutModel",
            "_view_count": null,
            "_view_module": "@jupyter-widgets/base",
            "_view_module_version": "1.2.0",
            "_view_name": "LayoutView",
            "align_content": null,
            "align_items": null,
            "align_self": null,
            "border": null,
            "bottom": null,
            "display": null,
            "flex": null,
            "flex_flow": null,
            "grid_area": null,
            "grid_auto_columns": null,
            "grid_auto_flow": null,
            "grid_auto_rows": null,
            "grid_column": null,
            "grid_gap": null,
            "grid_row": null,
            "grid_template_areas": null,
            "grid_template_columns": null,
            "grid_template_rows": null,
            "height": null,
            "justify_content": null,
            "justify_items": null,
            "left": null,
            "margin": null,
            "max_height": null,
            "max_width": null,
            "min_height": null,
            "min_width": null,
            "object_fit": null,
            "object_position": null,
            "order": null,
            "overflow": null,
            "overflow_x": null,
            "overflow_y": null,
            "padding": null,
            "right": null,
            "top": null,
            "visibility": null,
            "width": null
          }
        },
        "ee4a5b1a79cf4ca3b810f687e6aaa2f1": {
          "model_module": "@jupyter-widgets/controls",
          "model_name": "DescriptionStyleModel",
          "model_module_version": "1.5.0",
          "state": {
            "_model_module": "@jupyter-widgets/controls",
            "_model_module_version": "1.5.0",
            "_model_name": "DescriptionStyleModel",
            "_view_count": null,
            "_view_module": "@jupyter-widgets/base",
            "_view_module_version": "1.2.0",
            "_view_name": "StyleView",
            "description_width": ""
          }
        },
        "b20ab9c7cdc342a496ea7dd23d7591ea": {
          "model_module": "@jupyter-widgets/controls",
          "model_name": "HBoxModel",
          "model_module_version": "1.5.0",
          "state": {
            "_dom_classes": [],
            "_model_module": "@jupyter-widgets/controls",
            "_model_module_version": "1.5.0",
            "_model_name": "HBoxModel",
            "_view_count": null,
            "_view_module": "@jupyter-widgets/controls",
            "_view_module_version": "1.5.0",
            "_view_name": "HBoxView",
            "box_style": "",
            "children": [
              "IPY_MODEL_2015b693787b42b2a10c34d323bd1e57",
              "IPY_MODEL_6e33b57456ca4beda99b89dafb7e4a3d",
              "IPY_MODEL_ca75a4a2f4724b2ebd9aff4a79a1246d"
            ],
            "layout": "IPY_MODEL_7e99c55c1d084243a90bc8dd3f64b960"
          }
        },
        "2015b693787b42b2a10c34d323bd1e57": {
          "model_module": "@jupyter-widgets/controls",
          "model_name": "HTMLModel",
          "model_module_version": "1.5.0",
          "state": {
            "_dom_classes": [],
            "_model_module": "@jupyter-widgets/controls",
            "_model_module_version": "1.5.0",
            "_model_name": "HTMLModel",
            "_view_count": null,
            "_view_module": "@jupyter-widgets/controls",
            "_view_module_version": "1.5.0",
            "_view_name": "HTMLView",
            "description": "",
            "description_tooltip": null,
            "layout": "IPY_MODEL_b0373df58fd146daaa2da955e131cc23",
            "placeholder": "​",
            "style": "IPY_MODEL_be4764df901f4923ad9c27c300585097",
            "value": "Generating validation split: 100%"
          }
        },
        "6e33b57456ca4beda99b89dafb7e4a3d": {
          "model_module": "@jupyter-widgets/controls",
          "model_name": "FloatProgressModel",
          "model_module_version": "1.5.0",
          "state": {
            "_dom_classes": [],
            "_model_module": "@jupyter-widgets/controls",
            "_model_module_version": "1.5.0",
            "_model_name": "FloatProgressModel",
            "_view_count": null,
            "_view_module": "@jupyter-widgets/controls",
            "_view_module_version": "1.5.0",
            "_view_name": "ProgressView",
            "bar_style": "success",
            "description": "",
            "description_tooltip": null,
            "layout": "IPY_MODEL_82132596cc7a48d2b5f2870a0fceefa1",
            "max": 872,
            "min": 0,
            "orientation": "horizontal",
            "style": "IPY_MODEL_c754b8b3d761406cbb1942fce78e52d2",
            "value": 872
          }
        },
        "ca75a4a2f4724b2ebd9aff4a79a1246d": {
          "model_module": "@jupyter-widgets/controls",
          "model_name": "HTMLModel",
          "model_module_version": "1.5.0",
          "state": {
            "_dom_classes": [],
            "_model_module": "@jupyter-widgets/controls",
            "_model_module_version": "1.5.0",
            "_model_name": "HTMLModel",
            "_view_count": null,
            "_view_module": "@jupyter-widgets/controls",
            "_view_module_version": "1.5.0",
            "_view_name": "HTMLView",
            "description": "",
            "description_tooltip": null,
            "layout": "IPY_MODEL_ccfb8635e9fe4c3d9d23b903ece615ba",
            "placeholder": "​",
            "style": "IPY_MODEL_dbb886882b9f4743bc3a7950ff3e8523",
            "value": " 872/872 [00:00&lt;00:00, 11607.36 examples/s]"
          }
        },
        "7e99c55c1d084243a90bc8dd3f64b960": {
          "model_module": "@jupyter-widgets/base",
          "model_name": "LayoutModel",
          "model_module_version": "1.2.0",
          "state": {
            "_model_module": "@jupyter-widgets/base",
            "_model_module_version": "1.2.0",
            "_model_name": "LayoutModel",
            "_view_count": null,
            "_view_module": "@jupyter-widgets/base",
            "_view_module_version": "1.2.0",
            "_view_name": "LayoutView",
            "align_content": null,
            "align_items": null,
            "align_self": null,
            "border": null,
            "bottom": null,
            "display": null,
            "flex": null,
            "flex_flow": null,
            "grid_area": null,
            "grid_auto_columns": null,
            "grid_auto_flow": null,
            "grid_auto_rows": null,
            "grid_column": null,
            "grid_gap": null,
            "grid_row": null,
            "grid_template_areas": null,
            "grid_template_columns": null,
            "grid_template_rows": null,
            "height": null,
            "justify_content": null,
            "justify_items": null,
            "left": null,
            "margin": null,
            "max_height": null,
            "max_width": null,
            "min_height": null,
            "min_width": null,
            "object_fit": null,
            "object_position": null,
            "order": null,
            "overflow": null,
            "overflow_x": null,
            "overflow_y": null,
            "padding": null,
            "right": null,
            "top": null,
            "visibility": null,
            "width": null
          }
        },
        "b0373df58fd146daaa2da955e131cc23": {
          "model_module": "@jupyter-widgets/base",
          "model_name": "LayoutModel",
          "model_module_version": "1.2.0",
          "state": {
            "_model_module": "@jupyter-widgets/base",
            "_model_module_version": "1.2.0",
            "_model_name": "LayoutModel",
            "_view_count": null,
            "_view_module": "@jupyter-widgets/base",
            "_view_module_version": "1.2.0",
            "_view_name": "LayoutView",
            "align_content": null,
            "align_items": null,
            "align_self": null,
            "border": null,
            "bottom": null,
            "display": null,
            "flex": null,
            "flex_flow": null,
            "grid_area": null,
            "grid_auto_columns": null,
            "grid_auto_flow": null,
            "grid_auto_rows": null,
            "grid_column": null,
            "grid_gap": null,
            "grid_row": null,
            "grid_template_areas": null,
            "grid_template_columns": null,
            "grid_template_rows": null,
            "height": null,
            "justify_content": null,
            "justify_items": null,
            "left": null,
            "margin": null,
            "max_height": null,
            "max_width": null,
            "min_height": null,
            "min_width": null,
            "object_fit": null,
            "object_position": null,
            "order": null,
            "overflow": null,
            "overflow_x": null,
            "overflow_y": null,
            "padding": null,
            "right": null,
            "top": null,
            "visibility": null,
            "width": null
          }
        },
        "be4764df901f4923ad9c27c300585097": {
          "model_module": "@jupyter-widgets/controls",
          "model_name": "DescriptionStyleModel",
          "model_module_version": "1.5.0",
          "state": {
            "_model_module": "@jupyter-widgets/controls",
            "_model_module_version": "1.5.0",
            "_model_name": "DescriptionStyleModel",
            "_view_count": null,
            "_view_module": "@jupyter-widgets/base",
            "_view_module_version": "1.2.0",
            "_view_name": "StyleView",
            "description_width": ""
          }
        },
        "82132596cc7a48d2b5f2870a0fceefa1": {
          "model_module": "@jupyter-widgets/base",
          "model_name": "LayoutModel",
          "model_module_version": "1.2.0",
          "state": {
            "_model_module": "@jupyter-widgets/base",
            "_model_module_version": "1.2.0",
            "_model_name": "LayoutModel",
            "_view_count": null,
            "_view_module": "@jupyter-widgets/base",
            "_view_module_version": "1.2.0",
            "_view_name": "LayoutView",
            "align_content": null,
            "align_items": null,
            "align_self": null,
            "border": null,
            "bottom": null,
            "display": null,
            "flex": null,
            "flex_flow": null,
            "grid_area": null,
            "grid_auto_columns": null,
            "grid_auto_flow": null,
            "grid_auto_rows": null,
            "grid_column": null,
            "grid_gap": null,
            "grid_row": null,
            "grid_template_areas": null,
            "grid_template_columns": null,
            "grid_template_rows": null,
            "height": null,
            "justify_content": null,
            "justify_items": null,
            "left": null,
            "margin": null,
            "max_height": null,
            "max_width": null,
            "min_height": null,
            "min_width": null,
            "object_fit": null,
            "object_position": null,
            "order": null,
            "overflow": null,
            "overflow_x": null,
            "overflow_y": null,
            "padding": null,
            "right": null,
            "top": null,
            "visibility": null,
            "width": null
          }
        },
        "c754b8b3d761406cbb1942fce78e52d2": {
          "model_module": "@jupyter-widgets/controls",
          "model_name": "ProgressStyleModel",
          "model_module_version": "1.5.0",
          "state": {
            "_model_module": "@jupyter-widgets/controls",
            "_model_module_version": "1.5.0",
            "_model_name": "ProgressStyleModel",
            "_view_count": null,
            "_view_module": "@jupyter-widgets/base",
            "_view_module_version": "1.2.0",
            "_view_name": "StyleView",
            "bar_color": null,
            "description_width": ""
          }
        },
        "ccfb8635e9fe4c3d9d23b903ece615ba": {
          "model_module": "@jupyter-widgets/base",
          "model_name": "LayoutModel",
          "model_module_version": "1.2.0",
          "state": {
            "_model_module": "@jupyter-widgets/base",
            "_model_module_version": "1.2.0",
            "_model_name": "LayoutModel",
            "_view_count": null,
            "_view_module": "@jupyter-widgets/base",
            "_view_module_version": "1.2.0",
            "_view_name": "LayoutView",
            "align_content": null,
            "align_items": null,
            "align_self": null,
            "border": null,
            "bottom": null,
            "display": null,
            "flex": null,
            "flex_flow": null,
            "grid_area": null,
            "grid_auto_columns": null,
            "grid_auto_flow": null,
            "grid_auto_rows": null,
            "grid_column": null,
            "grid_gap": null,
            "grid_row": null,
            "grid_template_areas": null,
            "grid_template_columns": null,
            "grid_template_rows": null,
            "height": null,
            "justify_content": null,
            "justify_items": null,
            "left": null,
            "margin": null,
            "max_height": null,
            "max_width": null,
            "min_height": null,
            "min_width": null,
            "object_fit": null,
            "object_position": null,
            "order": null,
            "overflow": null,
            "overflow_x": null,
            "overflow_y": null,
            "padding": null,
            "right": null,
            "top": null,
            "visibility": null,
            "width": null
          }
        },
        "dbb886882b9f4743bc3a7950ff3e8523": {
          "model_module": "@jupyter-widgets/controls",
          "model_name": "DescriptionStyleModel",
          "model_module_version": "1.5.0",
          "state": {
            "_model_module": "@jupyter-widgets/controls",
            "_model_module_version": "1.5.0",
            "_model_name": "DescriptionStyleModel",
            "_view_count": null,
            "_view_module": "@jupyter-widgets/base",
            "_view_module_version": "1.2.0",
            "_view_name": "StyleView",
            "description_width": ""
          }
        },
        "50cc3adb8a694c6c956e623a4cfda808": {
          "model_module": "@jupyter-widgets/controls",
          "model_name": "HBoxModel",
          "model_module_version": "1.5.0",
          "state": {
            "_dom_classes": [],
            "_model_module": "@jupyter-widgets/controls",
            "_model_module_version": "1.5.0",
            "_model_name": "HBoxModel",
            "_view_count": null,
            "_view_module": "@jupyter-widgets/controls",
            "_view_module_version": "1.5.0",
            "_view_name": "HBoxView",
            "box_style": "",
            "children": [
              "IPY_MODEL_0882779758944d5ba3c4451e17713ac2",
              "IPY_MODEL_a3a92c61a1ba41dda610ed696437fa91",
              "IPY_MODEL_ffd416eb38344c7bb76c1577a9a5c44c"
            ],
            "layout": "IPY_MODEL_f3315b8bed37471a8d2716e583c51720"
          }
        },
        "0882779758944d5ba3c4451e17713ac2": {
          "model_module": "@jupyter-widgets/controls",
          "model_name": "HTMLModel",
          "model_module_version": "1.5.0",
          "state": {
            "_dom_classes": [],
            "_model_module": "@jupyter-widgets/controls",
            "_model_module_version": "1.5.0",
            "_model_name": "HTMLModel",
            "_view_count": null,
            "_view_module": "@jupyter-widgets/controls",
            "_view_module_version": "1.5.0",
            "_view_name": "HTMLView",
            "description": "",
            "description_tooltip": null,
            "layout": "IPY_MODEL_b7de78083339431aae45745d63fb99e2",
            "placeholder": "​",
            "style": "IPY_MODEL_cbc633fb82f1426bbd63a6951e720d4a",
            "value": "Generating test split: 100%"
          }
        },
        "a3a92c61a1ba41dda610ed696437fa91": {
          "model_module": "@jupyter-widgets/controls",
          "model_name": "FloatProgressModel",
          "model_module_version": "1.5.0",
          "state": {
            "_dom_classes": [],
            "_model_module": "@jupyter-widgets/controls",
            "_model_module_version": "1.5.0",
            "_model_name": "FloatProgressModel",
            "_view_count": null,
            "_view_module": "@jupyter-widgets/controls",
            "_view_module_version": "1.5.0",
            "_view_name": "ProgressView",
            "bar_style": "success",
            "description": "",
            "description_tooltip": null,
            "layout": "IPY_MODEL_c5bbd4d8782e4cd8998237771f1b6050",
            "max": 1821,
            "min": 0,
            "orientation": "horizontal",
            "style": "IPY_MODEL_6274469def1440ba8824911e316de517",
            "value": 1821
          }
        },
        "ffd416eb38344c7bb76c1577a9a5c44c": {
          "model_module": "@jupyter-widgets/controls",
          "model_name": "HTMLModel",
          "model_module_version": "1.5.0",
          "state": {
            "_dom_classes": [],
            "_model_module": "@jupyter-widgets/controls",
            "_model_module_version": "1.5.0",
            "_model_name": "HTMLModel",
            "_view_count": null,
            "_view_module": "@jupyter-widgets/controls",
            "_view_module_version": "1.5.0",
            "_view_name": "HTMLView",
            "description": "",
            "description_tooltip": null,
            "layout": "IPY_MODEL_58a1e6ecaba64e28a49c910e82e49482",
            "placeholder": "​",
            "style": "IPY_MODEL_dd601105f7de4b5dad8c7dbc5245e390",
            "value": " 1821/1821 [00:00&lt;00:00, 17954.42 examples/s]"
          }
        },
        "f3315b8bed37471a8d2716e583c51720": {
          "model_module": "@jupyter-widgets/base",
          "model_name": "LayoutModel",
          "model_module_version": "1.2.0",
          "state": {
            "_model_module": "@jupyter-widgets/base",
            "_model_module_version": "1.2.0",
            "_model_name": "LayoutModel",
            "_view_count": null,
            "_view_module": "@jupyter-widgets/base",
            "_view_module_version": "1.2.0",
            "_view_name": "LayoutView",
            "align_content": null,
            "align_items": null,
            "align_self": null,
            "border": null,
            "bottom": null,
            "display": null,
            "flex": null,
            "flex_flow": null,
            "grid_area": null,
            "grid_auto_columns": null,
            "grid_auto_flow": null,
            "grid_auto_rows": null,
            "grid_column": null,
            "grid_gap": null,
            "grid_row": null,
            "grid_template_areas": null,
            "grid_template_columns": null,
            "grid_template_rows": null,
            "height": null,
            "justify_content": null,
            "justify_items": null,
            "left": null,
            "margin": null,
            "max_height": null,
            "max_width": null,
            "min_height": null,
            "min_width": null,
            "object_fit": null,
            "object_position": null,
            "order": null,
            "overflow": null,
            "overflow_x": null,
            "overflow_y": null,
            "padding": null,
            "right": null,
            "top": null,
            "visibility": null,
            "width": null
          }
        },
        "b7de78083339431aae45745d63fb99e2": {
          "model_module": "@jupyter-widgets/base",
          "model_name": "LayoutModel",
          "model_module_version": "1.2.0",
          "state": {
            "_model_module": "@jupyter-widgets/base",
            "_model_module_version": "1.2.0",
            "_model_name": "LayoutModel",
            "_view_count": null,
            "_view_module": "@jupyter-widgets/base",
            "_view_module_version": "1.2.0",
            "_view_name": "LayoutView",
            "align_content": null,
            "align_items": null,
            "align_self": null,
            "border": null,
            "bottom": null,
            "display": null,
            "flex": null,
            "flex_flow": null,
            "grid_area": null,
            "grid_auto_columns": null,
            "grid_auto_flow": null,
            "grid_auto_rows": null,
            "grid_column": null,
            "grid_gap": null,
            "grid_row": null,
            "grid_template_areas": null,
            "grid_template_columns": null,
            "grid_template_rows": null,
            "height": null,
            "justify_content": null,
            "justify_items": null,
            "left": null,
            "margin": null,
            "max_height": null,
            "max_width": null,
            "min_height": null,
            "min_width": null,
            "object_fit": null,
            "object_position": null,
            "order": null,
            "overflow": null,
            "overflow_x": null,
            "overflow_y": null,
            "padding": null,
            "right": null,
            "top": null,
            "visibility": null,
            "width": null
          }
        },
        "cbc633fb82f1426bbd63a6951e720d4a": {
          "model_module": "@jupyter-widgets/controls",
          "model_name": "DescriptionStyleModel",
          "model_module_version": "1.5.0",
          "state": {
            "_model_module": "@jupyter-widgets/controls",
            "_model_module_version": "1.5.0",
            "_model_name": "DescriptionStyleModel",
            "_view_count": null,
            "_view_module": "@jupyter-widgets/base",
            "_view_module_version": "1.2.0",
            "_view_name": "StyleView",
            "description_width": ""
          }
        },
        "c5bbd4d8782e4cd8998237771f1b6050": {
          "model_module": "@jupyter-widgets/base",
          "model_name": "LayoutModel",
          "model_module_version": "1.2.0",
          "state": {
            "_model_module": "@jupyter-widgets/base",
            "_model_module_version": "1.2.0",
            "_model_name": "LayoutModel",
            "_view_count": null,
            "_view_module": "@jupyter-widgets/base",
            "_view_module_version": "1.2.0",
            "_view_name": "LayoutView",
            "align_content": null,
            "align_items": null,
            "align_self": null,
            "border": null,
            "bottom": null,
            "display": null,
            "flex": null,
            "flex_flow": null,
            "grid_area": null,
            "grid_auto_columns": null,
            "grid_auto_flow": null,
            "grid_auto_rows": null,
            "grid_column": null,
            "grid_gap": null,
            "grid_row": null,
            "grid_template_areas": null,
            "grid_template_columns": null,
            "grid_template_rows": null,
            "height": null,
            "justify_content": null,
            "justify_items": null,
            "left": null,
            "margin": null,
            "max_height": null,
            "max_width": null,
            "min_height": null,
            "min_width": null,
            "object_fit": null,
            "object_position": null,
            "order": null,
            "overflow": null,
            "overflow_x": null,
            "overflow_y": null,
            "padding": null,
            "right": null,
            "top": null,
            "visibility": null,
            "width": null
          }
        },
        "6274469def1440ba8824911e316de517": {
          "model_module": "@jupyter-widgets/controls",
          "model_name": "ProgressStyleModel",
          "model_module_version": "1.5.0",
          "state": {
            "_model_module": "@jupyter-widgets/controls",
            "_model_module_version": "1.5.0",
            "_model_name": "ProgressStyleModel",
            "_view_count": null,
            "_view_module": "@jupyter-widgets/base",
            "_view_module_version": "1.2.0",
            "_view_name": "StyleView",
            "bar_color": null,
            "description_width": ""
          }
        },
        "58a1e6ecaba64e28a49c910e82e49482": {
          "model_module": "@jupyter-widgets/base",
          "model_name": "LayoutModel",
          "model_module_version": "1.2.0",
          "state": {
            "_model_module": "@jupyter-widgets/base",
            "_model_module_version": "1.2.0",
            "_model_name": "LayoutModel",
            "_view_count": null,
            "_view_module": "@jupyter-widgets/base",
            "_view_module_version": "1.2.0",
            "_view_name": "LayoutView",
            "align_content": null,
            "align_items": null,
            "align_self": null,
            "border": null,
            "bottom": null,
            "display": null,
            "flex": null,
            "flex_flow": null,
            "grid_area": null,
            "grid_auto_columns": null,
            "grid_auto_flow": null,
            "grid_auto_rows": null,
            "grid_column": null,
            "grid_gap": null,
            "grid_row": null,
            "grid_template_areas": null,
            "grid_template_columns": null,
            "grid_template_rows": null,
            "height": null,
            "justify_content": null,
            "justify_items": null,
            "left": null,
            "margin": null,
            "max_height": null,
            "max_width": null,
            "min_height": null,
            "min_width": null,
            "object_fit": null,
            "object_position": null,
            "order": null,
            "overflow": null,
            "overflow_x": null,
            "overflow_y": null,
            "padding": null,
            "right": null,
            "top": null,
            "visibility": null,
            "width": null
          }
        },
        "dd601105f7de4b5dad8c7dbc5245e390": {
          "model_module": "@jupyter-widgets/controls",
          "model_name": "DescriptionStyleModel",
          "model_module_version": "1.5.0",
          "state": {
            "_model_module": "@jupyter-widgets/controls",
            "_model_module_version": "1.5.0",
            "_model_name": "DescriptionStyleModel",
            "_view_count": null,
            "_view_module": "@jupyter-widgets/base",
            "_view_module_version": "1.2.0",
            "_view_name": "StyleView",
            "description_width": ""
          }
        },
        "f2c656a70fb94f449d89650e7a84d185": {
          "model_module": "@jupyter-widgets/controls",
          "model_name": "HBoxModel",
          "model_module_version": "1.5.0",
          "state": {
            "_dom_classes": [],
            "_model_module": "@jupyter-widgets/controls",
            "_model_module_version": "1.5.0",
            "_model_name": "HBoxModel",
            "_view_count": null,
            "_view_module": "@jupyter-widgets/controls",
            "_view_module_version": "1.5.0",
            "_view_name": "HBoxView",
            "box_style": "",
            "children": [
              "IPY_MODEL_f70bd86ff67e4978a55c0e5747673acc",
              "IPY_MODEL_063ddb2000274fac9e1d105a13d261f5",
              "IPY_MODEL_52b5d822a1cc4e76a52f9fe61395ff47"
            ],
            "layout": "IPY_MODEL_42483805e03a4f798558651a1735fbb4"
          }
        },
        "f70bd86ff67e4978a55c0e5747673acc": {
          "model_module": "@jupyter-widgets/controls",
          "model_name": "HTMLModel",
          "model_module_version": "1.5.0",
          "state": {
            "_dom_classes": [],
            "_model_module": "@jupyter-widgets/controls",
            "_model_module_version": "1.5.0",
            "_model_name": "HTMLModel",
            "_view_count": null,
            "_view_module": "@jupyter-widgets/controls",
            "_view_module_version": "1.5.0",
            "_view_name": "HTMLView",
            "description": "",
            "description_tooltip": null,
            "layout": "IPY_MODEL_1907008cb77849b4b596e2db0307def0",
            "placeholder": "​",
            "style": "IPY_MODEL_45c6b226030b41e3b61574718f8b82c4",
            "value": "Downloading (…)okenizer_config.json: 100%"
          }
        },
        "063ddb2000274fac9e1d105a13d261f5": {
          "model_module": "@jupyter-widgets/controls",
          "model_name": "FloatProgressModel",
          "model_module_version": "1.5.0",
          "state": {
            "_dom_classes": [],
            "_model_module": "@jupyter-widgets/controls",
            "_model_module_version": "1.5.0",
            "_model_name": "FloatProgressModel",
            "_view_count": null,
            "_view_module": "@jupyter-widgets/controls",
            "_view_module_version": "1.5.0",
            "_view_name": "ProgressView",
            "bar_style": "success",
            "description": "",
            "description_tooltip": null,
            "layout": "IPY_MODEL_5f797e0fce164a7c889d0ea38773d352",
            "max": 28,
            "min": 0,
            "orientation": "horizontal",
            "style": "IPY_MODEL_3f8d69e0d377408caed92df15f4e1b7e",
            "value": 28
          }
        },
        "52b5d822a1cc4e76a52f9fe61395ff47": {
          "model_module": "@jupyter-widgets/controls",
          "model_name": "HTMLModel",
          "model_module_version": "1.5.0",
          "state": {
            "_dom_classes": [],
            "_model_module": "@jupyter-widgets/controls",
            "_model_module_version": "1.5.0",
            "_model_name": "HTMLModel",
            "_view_count": null,
            "_view_module": "@jupyter-widgets/controls",
            "_view_module_version": "1.5.0",
            "_view_name": "HTMLView",
            "description": "",
            "description_tooltip": null,
            "layout": "IPY_MODEL_7a60df8365324db9b9acef8cad3a9785",
            "placeholder": "​",
            "style": "IPY_MODEL_bba247fd5fb34a92803136debbea993d",
            "value": " 28.0/28.0 [00:00&lt;00:00, 705B/s]"
          }
        },
        "42483805e03a4f798558651a1735fbb4": {
          "model_module": "@jupyter-widgets/base",
          "model_name": "LayoutModel",
          "model_module_version": "1.2.0",
          "state": {
            "_model_module": "@jupyter-widgets/base",
            "_model_module_version": "1.2.0",
            "_model_name": "LayoutModel",
            "_view_count": null,
            "_view_module": "@jupyter-widgets/base",
            "_view_module_version": "1.2.0",
            "_view_name": "LayoutView",
            "align_content": null,
            "align_items": null,
            "align_self": null,
            "border": null,
            "bottom": null,
            "display": null,
            "flex": null,
            "flex_flow": null,
            "grid_area": null,
            "grid_auto_columns": null,
            "grid_auto_flow": null,
            "grid_auto_rows": null,
            "grid_column": null,
            "grid_gap": null,
            "grid_row": null,
            "grid_template_areas": null,
            "grid_template_columns": null,
            "grid_template_rows": null,
            "height": null,
            "justify_content": null,
            "justify_items": null,
            "left": null,
            "margin": null,
            "max_height": null,
            "max_width": null,
            "min_height": null,
            "min_width": null,
            "object_fit": null,
            "object_position": null,
            "order": null,
            "overflow": null,
            "overflow_x": null,
            "overflow_y": null,
            "padding": null,
            "right": null,
            "top": null,
            "visibility": null,
            "width": null
          }
        },
        "1907008cb77849b4b596e2db0307def0": {
          "model_module": "@jupyter-widgets/base",
          "model_name": "LayoutModel",
          "model_module_version": "1.2.0",
          "state": {
            "_model_module": "@jupyter-widgets/base",
            "_model_module_version": "1.2.0",
            "_model_name": "LayoutModel",
            "_view_count": null,
            "_view_module": "@jupyter-widgets/base",
            "_view_module_version": "1.2.0",
            "_view_name": "LayoutView",
            "align_content": null,
            "align_items": null,
            "align_self": null,
            "border": null,
            "bottom": null,
            "display": null,
            "flex": null,
            "flex_flow": null,
            "grid_area": null,
            "grid_auto_columns": null,
            "grid_auto_flow": null,
            "grid_auto_rows": null,
            "grid_column": null,
            "grid_gap": null,
            "grid_row": null,
            "grid_template_areas": null,
            "grid_template_columns": null,
            "grid_template_rows": null,
            "height": null,
            "justify_content": null,
            "justify_items": null,
            "left": null,
            "margin": null,
            "max_height": null,
            "max_width": null,
            "min_height": null,
            "min_width": null,
            "object_fit": null,
            "object_position": null,
            "order": null,
            "overflow": null,
            "overflow_x": null,
            "overflow_y": null,
            "padding": null,
            "right": null,
            "top": null,
            "visibility": null,
            "width": null
          }
        },
        "45c6b226030b41e3b61574718f8b82c4": {
          "model_module": "@jupyter-widgets/controls",
          "model_name": "DescriptionStyleModel",
          "model_module_version": "1.5.0",
          "state": {
            "_model_module": "@jupyter-widgets/controls",
            "_model_module_version": "1.5.0",
            "_model_name": "DescriptionStyleModel",
            "_view_count": null,
            "_view_module": "@jupyter-widgets/base",
            "_view_module_version": "1.2.0",
            "_view_name": "StyleView",
            "description_width": ""
          }
        },
        "5f797e0fce164a7c889d0ea38773d352": {
          "model_module": "@jupyter-widgets/base",
          "model_name": "LayoutModel",
          "model_module_version": "1.2.0",
          "state": {
            "_model_module": "@jupyter-widgets/base",
            "_model_module_version": "1.2.0",
            "_model_name": "LayoutModel",
            "_view_count": null,
            "_view_module": "@jupyter-widgets/base",
            "_view_module_version": "1.2.0",
            "_view_name": "LayoutView",
            "align_content": null,
            "align_items": null,
            "align_self": null,
            "border": null,
            "bottom": null,
            "display": null,
            "flex": null,
            "flex_flow": null,
            "grid_area": null,
            "grid_auto_columns": null,
            "grid_auto_flow": null,
            "grid_auto_rows": null,
            "grid_column": null,
            "grid_gap": null,
            "grid_row": null,
            "grid_template_areas": null,
            "grid_template_columns": null,
            "grid_template_rows": null,
            "height": null,
            "justify_content": null,
            "justify_items": null,
            "left": null,
            "margin": null,
            "max_height": null,
            "max_width": null,
            "min_height": null,
            "min_width": null,
            "object_fit": null,
            "object_position": null,
            "order": null,
            "overflow": null,
            "overflow_x": null,
            "overflow_y": null,
            "padding": null,
            "right": null,
            "top": null,
            "visibility": null,
            "width": null
          }
        },
        "3f8d69e0d377408caed92df15f4e1b7e": {
          "model_module": "@jupyter-widgets/controls",
          "model_name": "ProgressStyleModel",
          "model_module_version": "1.5.0",
          "state": {
            "_model_module": "@jupyter-widgets/controls",
            "_model_module_version": "1.5.0",
            "_model_name": "ProgressStyleModel",
            "_view_count": null,
            "_view_module": "@jupyter-widgets/base",
            "_view_module_version": "1.2.0",
            "_view_name": "StyleView",
            "bar_color": null,
            "description_width": ""
          }
        },
        "7a60df8365324db9b9acef8cad3a9785": {
          "model_module": "@jupyter-widgets/base",
          "model_name": "LayoutModel",
          "model_module_version": "1.2.0",
          "state": {
            "_model_module": "@jupyter-widgets/base",
            "_model_module_version": "1.2.0",
            "_model_name": "LayoutModel",
            "_view_count": null,
            "_view_module": "@jupyter-widgets/base",
            "_view_module_version": "1.2.0",
            "_view_name": "LayoutView",
            "align_content": null,
            "align_items": null,
            "align_self": null,
            "border": null,
            "bottom": null,
            "display": null,
            "flex": null,
            "flex_flow": null,
            "grid_area": null,
            "grid_auto_columns": null,
            "grid_auto_flow": null,
            "grid_auto_rows": null,
            "grid_column": null,
            "grid_gap": null,
            "grid_row": null,
            "grid_template_areas": null,
            "grid_template_columns": null,
            "grid_template_rows": null,
            "height": null,
            "justify_content": null,
            "justify_items": null,
            "left": null,
            "margin": null,
            "max_height": null,
            "max_width": null,
            "min_height": null,
            "min_width": null,
            "object_fit": null,
            "object_position": null,
            "order": null,
            "overflow": null,
            "overflow_x": null,
            "overflow_y": null,
            "padding": null,
            "right": null,
            "top": null,
            "visibility": null,
            "width": null
          }
        },
        "bba247fd5fb34a92803136debbea993d": {
          "model_module": "@jupyter-widgets/controls",
          "model_name": "DescriptionStyleModel",
          "model_module_version": "1.5.0",
          "state": {
            "_model_module": "@jupyter-widgets/controls",
            "_model_module_version": "1.5.0",
            "_model_name": "DescriptionStyleModel",
            "_view_count": null,
            "_view_module": "@jupyter-widgets/base",
            "_view_module_version": "1.2.0",
            "_view_name": "StyleView",
            "description_width": ""
          }
        },
        "dfe7db8239984a0eab1e7e55fce5e813": {
          "model_module": "@jupyter-widgets/controls",
          "model_name": "HBoxModel",
          "model_module_version": "1.5.0",
          "state": {
            "_dom_classes": [],
            "_model_module": "@jupyter-widgets/controls",
            "_model_module_version": "1.5.0",
            "_model_name": "HBoxModel",
            "_view_count": null,
            "_view_module": "@jupyter-widgets/controls",
            "_view_module_version": "1.5.0",
            "_view_name": "HBoxView",
            "box_style": "",
            "children": [
              "IPY_MODEL_f1c97e5aca7a4d848786683f9a6acc36",
              "IPY_MODEL_10dec79a3acf41bb85a930497e757b25",
              "IPY_MODEL_e7004cb3f9b94276b645deff88300bcc"
            ],
            "layout": "IPY_MODEL_ee39725648124bc3baed23f85e7cc0e8"
          }
        },
        "f1c97e5aca7a4d848786683f9a6acc36": {
          "model_module": "@jupyter-widgets/controls",
          "model_name": "HTMLModel",
          "model_module_version": "1.5.0",
          "state": {
            "_dom_classes": [],
            "_model_module": "@jupyter-widgets/controls",
            "_model_module_version": "1.5.0",
            "_model_name": "HTMLModel",
            "_view_count": null,
            "_view_module": "@jupyter-widgets/controls",
            "_view_module_version": "1.5.0",
            "_view_name": "HTMLView",
            "description": "",
            "description_tooltip": null,
            "layout": "IPY_MODEL_ff255955972941239a8fe8d29b6bdaaf",
            "placeholder": "​",
            "style": "IPY_MODEL_14faadae0cde44b8bef0c7a30e1c3e67",
            "value": "Downloading (…)lve/main/config.json: 100%"
          }
        },
        "10dec79a3acf41bb85a930497e757b25": {
          "model_module": "@jupyter-widgets/controls",
          "model_name": "FloatProgressModel",
          "model_module_version": "1.5.0",
          "state": {
            "_dom_classes": [],
            "_model_module": "@jupyter-widgets/controls",
            "_model_module_version": "1.5.0",
            "_model_name": "FloatProgressModel",
            "_view_count": null,
            "_view_module": "@jupyter-widgets/controls",
            "_view_module_version": "1.5.0",
            "_view_name": "ProgressView",
            "bar_style": "success",
            "description": "",
            "description_tooltip": null,
            "layout": "IPY_MODEL_8d8165fa25a94e5fb88b9f299e8294f7",
            "max": 483,
            "min": 0,
            "orientation": "horizontal",
            "style": "IPY_MODEL_3627e57475874a6d8ae19cbb77007b71",
            "value": 483
          }
        },
        "e7004cb3f9b94276b645deff88300bcc": {
          "model_module": "@jupyter-widgets/controls",
          "model_name": "HTMLModel",
          "model_module_version": "1.5.0",
          "state": {
            "_dom_classes": [],
            "_model_module": "@jupyter-widgets/controls",
            "_model_module_version": "1.5.0",
            "_model_name": "HTMLModel",
            "_view_count": null,
            "_view_module": "@jupyter-widgets/controls",
            "_view_module_version": "1.5.0",
            "_view_name": "HTMLView",
            "description": "",
            "description_tooltip": null,
            "layout": "IPY_MODEL_900561285df74e80a723767e3865ce76",
            "placeholder": "​",
            "style": "IPY_MODEL_541414c57c12452dbddb650923cbed4c",
            "value": " 483/483 [00:00&lt;00:00, 12.3kB/s]"
          }
        },
        "ee39725648124bc3baed23f85e7cc0e8": {
          "model_module": "@jupyter-widgets/base",
          "model_name": "LayoutModel",
          "model_module_version": "1.2.0",
          "state": {
            "_model_module": "@jupyter-widgets/base",
            "_model_module_version": "1.2.0",
            "_model_name": "LayoutModel",
            "_view_count": null,
            "_view_module": "@jupyter-widgets/base",
            "_view_module_version": "1.2.0",
            "_view_name": "LayoutView",
            "align_content": null,
            "align_items": null,
            "align_self": null,
            "border": null,
            "bottom": null,
            "display": null,
            "flex": null,
            "flex_flow": null,
            "grid_area": null,
            "grid_auto_columns": null,
            "grid_auto_flow": null,
            "grid_auto_rows": null,
            "grid_column": null,
            "grid_gap": null,
            "grid_row": null,
            "grid_template_areas": null,
            "grid_template_columns": null,
            "grid_template_rows": null,
            "height": null,
            "justify_content": null,
            "justify_items": null,
            "left": null,
            "margin": null,
            "max_height": null,
            "max_width": null,
            "min_height": null,
            "min_width": null,
            "object_fit": null,
            "object_position": null,
            "order": null,
            "overflow": null,
            "overflow_x": null,
            "overflow_y": null,
            "padding": null,
            "right": null,
            "top": null,
            "visibility": null,
            "width": null
          }
        },
        "ff255955972941239a8fe8d29b6bdaaf": {
          "model_module": "@jupyter-widgets/base",
          "model_name": "LayoutModel",
          "model_module_version": "1.2.0",
          "state": {
            "_model_module": "@jupyter-widgets/base",
            "_model_module_version": "1.2.0",
            "_model_name": "LayoutModel",
            "_view_count": null,
            "_view_module": "@jupyter-widgets/base",
            "_view_module_version": "1.2.0",
            "_view_name": "LayoutView",
            "align_content": null,
            "align_items": null,
            "align_self": null,
            "border": null,
            "bottom": null,
            "display": null,
            "flex": null,
            "flex_flow": null,
            "grid_area": null,
            "grid_auto_columns": null,
            "grid_auto_flow": null,
            "grid_auto_rows": null,
            "grid_column": null,
            "grid_gap": null,
            "grid_row": null,
            "grid_template_areas": null,
            "grid_template_columns": null,
            "grid_template_rows": null,
            "height": null,
            "justify_content": null,
            "justify_items": null,
            "left": null,
            "margin": null,
            "max_height": null,
            "max_width": null,
            "min_height": null,
            "min_width": null,
            "object_fit": null,
            "object_position": null,
            "order": null,
            "overflow": null,
            "overflow_x": null,
            "overflow_y": null,
            "padding": null,
            "right": null,
            "top": null,
            "visibility": null,
            "width": null
          }
        },
        "14faadae0cde44b8bef0c7a30e1c3e67": {
          "model_module": "@jupyter-widgets/controls",
          "model_name": "DescriptionStyleModel",
          "model_module_version": "1.5.0",
          "state": {
            "_model_module": "@jupyter-widgets/controls",
            "_model_module_version": "1.5.0",
            "_model_name": "DescriptionStyleModel",
            "_view_count": null,
            "_view_module": "@jupyter-widgets/base",
            "_view_module_version": "1.2.0",
            "_view_name": "StyleView",
            "description_width": ""
          }
        },
        "8d8165fa25a94e5fb88b9f299e8294f7": {
          "model_module": "@jupyter-widgets/base",
          "model_name": "LayoutModel",
          "model_module_version": "1.2.0",
          "state": {
            "_model_module": "@jupyter-widgets/base",
            "_model_module_version": "1.2.0",
            "_model_name": "LayoutModel",
            "_view_count": null,
            "_view_module": "@jupyter-widgets/base",
            "_view_module_version": "1.2.0",
            "_view_name": "LayoutView",
            "align_content": null,
            "align_items": null,
            "align_self": null,
            "border": null,
            "bottom": null,
            "display": null,
            "flex": null,
            "flex_flow": null,
            "grid_area": null,
            "grid_auto_columns": null,
            "grid_auto_flow": null,
            "grid_auto_rows": null,
            "grid_column": null,
            "grid_gap": null,
            "grid_row": null,
            "grid_template_areas": null,
            "grid_template_columns": null,
            "grid_template_rows": null,
            "height": null,
            "justify_content": null,
            "justify_items": null,
            "left": null,
            "margin": null,
            "max_height": null,
            "max_width": null,
            "min_height": null,
            "min_width": null,
            "object_fit": null,
            "object_position": null,
            "order": null,
            "overflow": null,
            "overflow_x": null,
            "overflow_y": null,
            "padding": null,
            "right": null,
            "top": null,
            "visibility": null,
            "width": null
          }
        },
        "3627e57475874a6d8ae19cbb77007b71": {
          "model_module": "@jupyter-widgets/controls",
          "model_name": "ProgressStyleModel",
          "model_module_version": "1.5.0",
          "state": {
            "_model_module": "@jupyter-widgets/controls",
            "_model_module_version": "1.5.0",
            "_model_name": "ProgressStyleModel",
            "_view_count": null,
            "_view_module": "@jupyter-widgets/base",
            "_view_module_version": "1.2.0",
            "_view_name": "StyleView",
            "bar_color": null,
            "description_width": ""
          }
        },
        "900561285df74e80a723767e3865ce76": {
          "model_module": "@jupyter-widgets/base",
          "model_name": "LayoutModel",
          "model_module_version": "1.2.0",
          "state": {
            "_model_module": "@jupyter-widgets/base",
            "_model_module_version": "1.2.0",
            "_model_name": "LayoutModel",
            "_view_count": null,
            "_view_module": "@jupyter-widgets/base",
            "_view_module_version": "1.2.0",
            "_view_name": "LayoutView",
            "align_content": null,
            "align_items": null,
            "align_self": null,
            "border": null,
            "bottom": null,
            "display": null,
            "flex": null,
            "flex_flow": null,
            "grid_area": null,
            "grid_auto_columns": null,
            "grid_auto_flow": null,
            "grid_auto_rows": null,
            "grid_column": null,
            "grid_gap": null,
            "grid_row": null,
            "grid_template_areas": null,
            "grid_template_columns": null,
            "grid_template_rows": null,
            "height": null,
            "justify_content": null,
            "justify_items": null,
            "left": null,
            "margin": null,
            "max_height": null,
            "max_width": null,
            "min_height": null,
            "min_width": null,
            "object_fit": null,
            "object_position": null,
            "order": null,
            "overflow": null,
            "overflow_x": null,
            "overflow_y": null,
            "padding": null,
            "right": null,
            "top": null,
            "visibility": null,
            "width": null
          }
        },
        "541414c57c12452dbddb650923cbed4c": {
          "model_module": "@jupyter-widgets/controls",
          "model_name": "DescriptionStyleModel",
          "model_module_version": "1.5.0",
          "state": {
            "_model_module": "@jupyter-widgets/controls",
            "_model_module_version": "1.5.0",
            "_model_name": "DescriptionStyleModel",
            "_view_count": null,
            "_view_module": "@jupyter-widgets/base",
            "_view_module_version": "1.2.0",
            "_view_name": "StyleView",
            "description_width": ""
          }
        },
        "74e4072faf9f4cdfb6dcf358f852478c": {
          "model_module": "@jupyter-widgets/controls",
          "model_name": "HBoxModel",
          "model_module_version": "1.5.0",
          "state": {
            "_dom_classes": [],
            "_model_module": "@jupyter-widgets/controls",
            "_model_module_version": "1.5.0",
            "_model_name": "HBoxModel",
            "_view_count": null,
            "_view_module": "@jupyter-widgets/controls",
            "_view_module_version": "1.5.0",
            "_view_name": "HBoxView",
            "box_style": "",
            "children": [
              "IPY_MODEL_9c47ddec8f0146d0a23c065039bffe2b",
              "IPY_MODEL_79beaaf9237741a5a62b4f985d865c56",
              "IPY_MODEL_6010b0d61ea042de8b148b93061c89a8"
            ],
            "layout": "IPY_MODEL_d857201c466047afa4fdf544d2cea628"
          }
        },
        "9c47ddec8f0146d0a23c065039bffe2b": {
          "model_module": "@jupyter-widgets/controls",
          "model_name": "HTMLModel",
          "model_module_version": "1.5.0",
          "state": {
            "_dom_classes": [],
            "_model_module": "@jupyter-widgets/controls",
            "_model_module_version": "1.5.0",
            "_model_name": "HTMLModel",
            "_view_count": null,
            "_view_module": "@jupyter-widgets/controls",
            "_view_module_version": "1.5.0",
            "_view_name": "HTMLView",
            "description": "",
            "description_tooltip": null,
            "layout": "IPY_MODEL_8b55e15641a7410fa74a5ba8bed91c8c",
            "placeholder": "​",
            "style": "IPY_MODEL_7d944098c057441bb7f30130b553ca52",
            "value": "Downloading (…)solve/main/vocab.txt: 100%"
          }
        },
        "79beaaf9237741a5a62b4f985d865c56": {
          "model_module": "@jupyter-widgets/controls",
          "model_name": "FloatProgressModel",
          "model_module_version": "1.5.0",
          "state": {
            "_dom_classes": [],
            "_model_module": "@jupyter-widgets/controls",
            "_model_module_version": "1.5.0",
            "_model_name": "FloatProgressModel",
            "_view_count": null,
            "_view_module": "@jupyter-widgets/controls",
            "_view_module_version": "1.5.0",
            "_view_name": "ProgressView",
            "bar_style": "success",
            "description": "",
            "description_tooltip": null,
            "layout": "IPY_MODEL_d8e24bc64ad341a3be39bc11a445ddf2",
            "max": 231508,
            "min": 0,
            "orientation": "horizontal",
            "style": "IPY_MODEL_c735697e0c8042509ae29d2b5407bdeb",
            "value": 231508
          }
        },
        "6010b0d61ea042de8b148b93061c89a8": {
          "model_module": "@jupyter-widgets/controls",
          "model_name": "HTMLModel",
          "model_module_version": "1.5.0",
          "state": {
            "_dom_classes": [],
            "_model_module": "@jupyter-widgets/controls",
            "_model_module_version": "1.5.0",
            "_model_name": "HTMLModel",
            "_view_count": null,
            "_view_module": "@jupyter-widgets/controls",
            "_view_module_version": "1.5.0",
            "_view_name": "HTMLView",
            "description": "",
            "description_tooltip": null,
            "layout": "IPY_MODEL_3780276a3fc240d5b2a9b6ccf5ba6c79",
            "placeholder": "​",
            "style": "IPY_MODEL_d3467d4b934548d49c55b25f35203194",
            "value": " 232k/232k [00:00&lt;00:00, 13.4MB/s]"
          }
        },
        "d857201c466047afa4fdf544d2cea628": {
          "model_module": "@jupyter-widgets/base",
          "model_name": "LayoutModel",
          "model_module_version": "1.2.0",
          "state": {
            "_model_module": "@jupyter-widgets/base",
            "_model_module_version": "1.2.0",
            "_model_name": "LayoutModel",
            "_view_count": null,
            "_view_module": "@jupyter-widgets/base",
            "_view_module_version": "1.2.0",
            "_view_name": "LayoutView",
            "align_content": null,
            "align_items": null,
            "align_self": null,
            "border": null,
            "bottom": null,
            "display": null,
            "flex": null,
            "flex_flow": null,
            "grid_area": null,
            "grid_auto_columns": null,
            "grid_auto_flow": null,
            "grid_auto_rows": null,
            "grid_column": null,
            "grid_gap": null,
            "grid_row": null,
            "grid_template_areas": null,
            "grid_template_columns": null,
            "grid_template_rows": null,
            "height": null,
            "justify_content": null,
            "justify_items": null,
            "left": null,
            "margin": null,
            "max_height": null,
            "max_width": null,
            "min_height": null,
            "min_width": null,
            "object_fit": null,
            "object_position": null,
            "order": null,
            "overflow": null,
            "overflow_x": null,
            "overflow_y": null,
            "padding": null,
            "right": null,
            "top": null,
            "visibility": null,
            "width": null
          }
        },
        "8b55e15641a7410fa74a5ba8bed91c8c": {
          "model_module": "@jupyter-widgets/base",
          "model_name": "LayoutModel",
          "model_module_version": "1.2.0",
          "state": {
            "_model_module": "@jupyter-widgets/base",
            "_model_module_version": "1.2.0",
            "_model_name": "LayoutModel",
            "_view_count": null,
            "_view_module": "@jupyter-widgets/base",
            "_view_module_version": "1.2.0",
            "_view_name": "LayoutView",
            "align_content": null,
            "align_items": null,
            "align_self": null,
            "border": null,
            "bottom": null,
            "display": null,
            "flex": null,
            "flex_flow": null,
            "grid_area": null,
            "grid_auto_columns": null,
            "grid_auto_flow": null,
            "grid_auto_rows": null,
            "grid_column": null,
            "grid_gap": null,
            "grid_row": null,
            "grid_template_areas": null,
            "grid_template_columns": null,
            "grid_template_rows": null,
            "height": null,
            "justify_content": null,
            "justify_items": null,
            "left": null,
            "margin": null,
            "max_height": null,
            "max_width": null,
            "min_height": null,
            "min_width": null,
            "object_fit": null,
            "object_position": null,
            "order": null,
            "overflow": null,
            "overflow_x": null,
            "overflow_y": null,
            "padding": null,
            "right": null,
            "top": null,
            "visibility": null,
            "width": null
          }
        },
        "7d944098c057441bb7f30130b553ca52": {
          "model_module": "@jupyter-widgets/controls",
          "model_name": "DescriptionStyleModel",
          "model_module_version": "1.5.0",
          "state": {
            "_model_module": "@jupyter-widgets/controls",
            "_model_module_version": "1.5.0",
            "_model_name": "DescriptionStyleModel",
            "_view_count": null,
            "_view_module": "@jupyter-widgets/base",
            "_view_module_version": "1.2.0",
            "_view_name": "StyleView",
            "description_width": ""
          }
        },
        "d8e24bc64ad341a3be39bc11a445ddf2": {
          "model_module": "@jupyter-widgets/base",
          "model_name": "LayoutModel",
          "model_module_version": "1.2.0",
          "state": {
            "_model_module": "@jupyter-widgets/base",
            "_model_module_version": "1.2.0",
            "_model_name": "LayoutModel",
            "_view_count": null,
            "_view_module": "@jupyter-widgets/base",
            "_view_module_version": "1.2.0",
            "_view_name": "LayoutView",
            "align_content": null,
            "align_items": null,
            "align_self": null,
            "border": null,
            "bottom": null,
            "display": null,
            "flex": null,
            "flex_flow": null,
            "grid_area": null,
            "grid_auto_columns": null,
            "grid_auto_flow": null,
            "grid_auto_rows": null,
            "grid_column": null,
            "grid_gap": null,
            "grid_row": null,
            "grid_template_areas": null,
            "grid_template_columns": null,
            "grid_template_rows": null,
            "height": null,
            "justify_content": null,
            "justify_items": null,
            "left": null,
            "margin": null,
            "max_height": null,
            "max_width": null,
            "min_height": null,
            "min_width": null,
            "object_fit": null,
            "object_position": null,
            "order": null,
            "overflow": null,
            "overflow_x": null,
            "overflow_y": null,
            "padding": null,
            "right": null,
            "top": null,
            "visibility": null,
            "width": null
          }
        },
        "c735697e0c8042509ae29d2b5407bdeb": {
          "model_module": "@jupyter-widgets/controls",
          "model_name": "ProgressStyleModel",
          "model_module_version": "1.5.0",
          "state": {
            "_model_module": "@jupyter-widgets/controls",
            "_model_module_version": "1.5.0",
            "_model_name": "ProgressStyleModel",
            "_view_count": null,
            "_view_module": "@jupyter-widgets/base",
            "_view_module_version": "1.2.0",
            "_view_name": "StyleView",
            "bar_color": null,
            "description_width": ""
          }
        },
        "3780276a3fc240d5b2a9b6ccf5ba6c79": {
          "model_module": "@jupyter-widgets/base",
          "model_name": "LayoutModel",
          "model_module_version": "1.2.0",
          "state": {
            "_model_module": "@jupyter-widgets/base",
            "_model_module_version": "1.2.0",
            "_model_name": "LayoutModel",
            "_view_count": null,
            "_view_module": "@jupyter-widgets/base",
            "_view_module_version": "1.2.0",
            "_view_name": "LayoutView",
            "align_content": null,
            "align_items": null,
            "align_self": null,
            "border": null,
            "bottom": null,
            "display": null,
            "flex": null,
            "flex_flow": null,
            "grid_area": null,
            "grid_auto_columns": null,
            "grid_auto_flow": null,
            "grid_auto_rows": null,
            "grid_column": null,
            "grid_gap": null,
            "grid_row": null,
            "grid_template_areas": null,
            "grid_template_columns": null,
            "grid_template_rows": null,
            "height": null,
            "justify_content": null,
            "justify_items": null,
            "left": null,
            "margin": null,
            "max_height": null,
            "max_width": null,
            "min_height": null,
            "min_width": null,
            "object_fit": null,
            "object_position": null,
            "order": null,
            "overflow": null,
            "overflow_x": null,
            "overflow_y": null,
            "padding": null,
            "right": null,
            "top": null,
            "visibility": null,
            "width": null
          }
        },
        "d3467d4b934548d49c55b25f35203194": {
          "model_module": "@jupyter-widgets/controls",
          "model_name": "DescriptionStyleModel",
          "model_module_version": "1.5.0",
          "state": {
            "_model_module": "@jupyter-widgets/controls",
            "_model_module_version": "1.5.0",
            "_model_name": "DescriptionStyleModel",
            "_view_count": null,
            "_view_module": "@jupyter-widgets/base",
            "_view_module_version": "1.2.0",
            "_view_name": "StyleView",
            "description_width": ""
          }
        },
        "25bdeecf72e34b4aac50e4021c7dec7b": {
          "model_module": "@jupyter-widgets/controls",
          "model_name": "HBoxModel",
          "model_module_version": "1.5.0",
          "state": {
            "_dom_classes": [],
            "_model_module": "@jupyter-widgets/controls",
            "_model_module_version": "1.5.0",
            "_model_name": "HBoxModel",
            "_view_count": null,
            "_view_module": "@jupyter-widgets/controls",
            "_view_module_version": "1.5.0",
            "_view_name": "HBoxView",
            "box_style": "",
            "children": [
              "IPY_MODEL_476df54c46ea4650a6334cdf6e08041a",
              "IPY_MODEL_5a86a20efe35438a8c5fcc22bc0af111",
              "IPY_MODEL_e525210c1b1a4b018d6c561b3523398a"
            ],
            "layout": "IPY_MODEL_17975de3fa5f4f7aaed60a963550c16e"
          }
        },
        "476df54c46ea4650a6334cdf6e08041a": {
          "model_module": "@jupyter-widgets/controls",
          "model_name": "HTMLModel",
          "model_module_version": "1.5.0",
          "state": {
            "_dom_classes": [],
            "_model_module": "@jupyter-widgets/controls",
            "_model_module_version": "1.5.0",
            "_model_name": "HTMLModel",
            "_view_count": null,
            "_view_module": "@jupyter-widgets/controls",
            "_view_module_version": "1.5.0",
            "_view_name": "HTMLView",
            "description": "",
            "description_tooltip": null,
            "layout": "IPY_MODEL_7960c514b756423ebff3cd1353ad519c",
            "placeholder": "​",
            "style": "IPY_MODEL_4df45d2570ce4ecbbbf0e729fe098489",
            "value": "Downloading (…)/main/tokenizer.json: 100%"
          }
        },
        "5a86a20efe35438a8c5fcc22bc0af111": {
          "model_module": "@jupyter-widgets/controls",
          "model_name": "FloatProgressModel",
          "model_module_version": "1.5.0",
          "state": {
            "_dom_classes": [],
            "_model_module": "@jupyter-widgets/controls",
            "_model_module_version": "1.5.0",
            "_model_name": "FloatProgressModel",
            "_view_count": null,
            "_view_module": "@jupyter-widgets/controls",
            "_view_module_version": "1.5.0",
            "_view_name": "ProgressView",
            "bar_style": "success",
            "description": "",
            "description_tooltip": null,
            "layout": "IPY_MODEL_2b60371fcb9d47aa9eb0b9302d6f63f4",
            "max": 466062,
            "min": 0,
            "orientation": "horizontal",
            "style": "IPY_MODEL_d9112feae65e4ad090621f4df47b34b1",
            "value": 466062
          }
        },
        "e525210c1b1a4b018d6c561b3523398a": {
          "model_module": "@jupyter-widgets/controls",
          "model_name": "HTMLModel",
          "model_module_version": "1.5.0",
          "state": {
            "_dom_classes": [],
            "_model_module": "@jupyter-widgets/controls",
            "_model_module_version": "1.5.0",
            "_model_name": "HTMLModel",
            "_view_count": null,
            "_view_module": "@jupyter-widgets/controls",
            "_view_module_version": "1.5.0",
            "_view_name": "HTMLView",
            "description": "",
            "description_tooltip": null,
            "layout": "IPY_MODEL_c9591de7eb5f4d96b6da23c1607a46b1",
            "placeholder": "​",
            "style": "IPY_MODEL_b1001db73fcb4240b6a054cd85ec04f0",
            "value": " 466k/466k [00:00&lt;00:00, 17.4MB/s]"
          }
        },
        "17975de3fa5f4f7aaed60a963550c16e": {
          "model_module": "@jupyter-widgets/base",
          "model_name": "LayoutModel",
          "model_module_version": "1.2.0",
          "state": {
            "_model_module": "@jupyter-widgets/base",
            "_model_module_version": "1.2.0",
            "_model_name": "LayoutModel",
            "_view_count": null,
            "_view_module": "@jupyter-widgets/base",
            "_view_module_version": "1.2.0",
            "_view_name": "LayoutView",
            "align_content": null,
            "align_items": null,
            "align_self": null,
            "border": null,
            "bottom": null,
            "display": null,
            "flex": null,
            "flex_flow": null,
            "grid_area": null,
            "grid_auto_columns": null,
            "grid_auto_flow": null,
            "grid_auto_rows": null,
            "grid_column": null,
            "grid_gap": null,
            "grid_row": null,
            "grid_template_areas": null,
            "grid_template_columns": null,
            "grid_template_rows": null,
            "height": null,
            "justify_content": null,
            "justify_items": null,
            "left": null,
            "margin": null,
            "max_height": null,
            "max_width": null,
            "min_height": null,
            "min_width": null,
            "object_fit": null,
            "object_position": null,
            "order": null,
            "overflow": null,
            "overflow_x": null,
            "overflow_y": null,
            "padding": null,
            "right": null,
            "top": null,
            "visibility": null,
            "width": null
          }
        },
        "7960c514b756423ebff3cd1353ad519c": {
          "model_module": "@jupyter-widgets/base",
          "model_name": "LayoutModel",
          "model_module_version": "1.2.0",
          "state": {
            "_model_module": "@jupyter-widgets/base",
            "_model_module_version": "1.2.0",
            "_model_name": "LayoutModel",
            "_view_count": null,
            "_view_module": "@jupyter-widgets/base",
            "_view_module_version": "1.2.0",
            "_view_name": "LayoutView",
            "align_content": null,
            "align_items": null,
            "align_self": null,
            "border": null,
            "bottom": null,
            "display": null,
            "flex": null,
            "flex_flow": null,
            "grid_area": null,
            "grid_auto_columns": null,
            "grid_auto_flow": null,
            "grid_auto_rows": null,
            "grid_column": null,
            "grid_gap": null,
            "grid_row": null,
            "grid_template_areas": null,
            "grid_template_columns": null,
            "grid_template_rows": null,
            "height": null,
            "justify_content": null,
            "justify_items": null,
            "left": null,
            "margin": null,
            "max_height": null,
            "max_width": null,
            "min_height": null,
            "min_width": null,
            "object_fit": null,
            "object_position": null,
            "order": null,
            "overflow": null,
            "overflow_x": null,
            "overflow_y": null,
            "padding": null,
            "right": null,
            "top": null,
            "visibility": null,
            "width": null
          }
        },
        "4df45d2570ce4ecbbbf0e729fe098489": {
          "model_module": "@jupyter-widgets/controls",
          "model_name": "DescriptionStyleModel",
          "model_module_version": "1.5.0",
          "state": {
            "_model_module": "@jupyter-widgets/controls",
            "_model_module_version": "1.5.0",
            "_model_name": "DescriptionStyleModel",
            "_view_count": null,
            "_view_module": "@jupyter-widgets/base",
            "_view_module_version": "1.2.0",
            "_view_name": "StyleView",
            "description_width": ""
          }
        },
        "2b60371fcb9d47aa9eb0b9302d6f63f4": {
          "model_module": "@jupyter-widgets/base",
          "model_name": "LayoutModel",
          "model_module_version": "1.2.0",
          "state": {
            "_model_module": "@jupyter-widgets/base",
            "_model_module_version": "1.2.0",
            "_model_name": "LayoutModel",
            "_view_count": null,
            "_view_module": "@jupyter-widgets/base",
            "_view_module_version": "1.2.0",
            "_view_name": "LayoutView",
            "align_content": null,
            "align_items": null,
            "align_self": null,
            "border": null,
            "bottom": null,
            "display": null,
            "flex": null,
            "flex_flow": null,
            "grid_area": null,
            "grid_auto_columns": null,
            "grid_auto_flow": null,
            "grid_auto_rows": null,
            "grid_column": null,
            "grid_gap": null,
            "grid_row": null,
            "grid_template_areas": null,
            "grid_template_columns": null,
            "grid_template_rows": null,
            "height": null,
            "justify_content": null,
            "justify_items": null,
            "left": null,
            "margin": null,
            "max_height": null,
            "max_width": null,
            "min_height": null,
            "min_width": null,
            "object_fit": null,
            "object_position": null,
            "order": null,
            "overflow": null,
            "overflow_x": null,
            "overflow_y": null,
            "padding": null,
            "right": null,
            "top": null,
            "visibility": null,
            "width": null
          }
        },
        "d9112feae65e4ad090621f4df47b34b1": {
          "model_module": "@jupyter-widgets/controls",
          "model_name": "ProgressStyleModel",
          "model_module_version": "1.5.0",
          "state": {
            "_model_module": "@jupyter-widgets/controls",
            "_model_module_version": "1.5.0",
            "_model_name": "ProgressStyleModel",
            "_view_count": null,
            "_view_module": "@jupyter-widgets/base",
            "_view_module_version": "1.2.0",
            "_view_name": "StyleView",
            "bar_color": null,
            "description_width": ""
          }
        },
        "c9591de7eb5f4d96b6da23c1607a46b1": {
          "model_module": "@jupyter-widgets/base",
          "model_name": "LayoutModel",
          "model_module_version": "1.2.0",
          "state": {
            "_model_module": "@jupyter-widgets/base",
            "_model_module_version": "1.2.0",
            "_model_name": "LayoutModel",
            "_view_count": null,
            "_view_module": "@jupyter-widgets/base",
            "_view_module_version": "1.2.0",
            "_view_name": "LayoutView",
            "align_content": null,
            "align_items": null,
            "align_self": null,
            "border": null,
            "bottom": null,
            "display": null,
            "flex": null,
            "flex_flow": null,
            "grid_area": null,
            "grid_auto_columns": null,
            "grid_auto_flow": null,
            "grid_auto_rows": null,
            "grid_column": null,
            "grid_gap": null,
            "grid_row": null,
            "grid_template_areas": null,
            "grid_template_columns": null,
            "grid_template_rows": null,
            "height": null,
            "justify_content": null,
            "justify_items": null,
            "left": null,
            "margin": null,
            "max_height": null,
            "max_width": null,
            "min_height": null,
            "min_width": null,
            "object_fit": null,
            "object_position": null,
            "order": null,
            "overflow": null,
            "overflow_x": null,
            "overflow_y": null,
            "padding": null,
            "right": null,
            "top": null,
            "visibility": null,
            "width": null
          }
        },
        "b1001db73fcb4240b6a054cd85ec04f0": {
          "model_module": "@jupyter-widgets/controls",
          "model_name": "DescriptionStyleModel",
          "model_module_version": "1.5.0",
          "state": {
            "_model_module": "@jupyter-widgets/controls",
            "_model_module_version": "1.5.0",
            "_model_name": "DescriptionStyleModel",
            "_view_count": null,
            "_view_module": "@jupyter-widgets/base",
            "_view_module_version": "1.2.0",
            "_view_name": "StyleView",
            "description_width": ""
          }
        },
        "fcc2433d3fc240e5a138c5e3b3fb86ea": {
          "model_module": "@jupyter-widgets/controls",
          "model_name": "HBoxModel",
          "model_module_version": "1.5.0",
          "state": {
            "_dom_classes": [],
            "_model_module": "@jupyter-widgets/controls",
            "_model_module_version": "1.5.0",
            "_model_name": "HBoxModel",
            "_view_count": null,
            "_view_module": "@jupyter-widgets/controls",
            "_view_module_version": "1.5.0",
            "_view_name": "HBoxView",
            "box_style": "",
            "children": [
              "IPY_MODEL_a7ecdb75e8ad4d24becd282956715cc3",
              "IPY_MODEL_c401b69bbc7041589e85fd9805d10233",
              "IPY_MODEL_08eb42e2f56942f88b1f4d4aca0e45af"
            ],
            "layout": "IPY_MODEL_08043a90e17c4f149b2b168955bd6cc9"
          }
        },
        "a7ecdb75e8ad4d24becd282956715cc3": {
          "model_module": "@jupyter-widgets/controls",
          "model_name": "HTMLModel",
          "model_module_version": "1.5.0",
          "state": {
            "_dom_classes": [],
            "_model_module": "@jupyter-widgets/controls",
            "_model_module_version": "1.5.0",
            "_model_name": "HTMLModel",
            "_view_count": null,
            "_view_module": "@jupyter-widgets/controls",
            "_view_module_version": "1.5.0",
            "_view_name": "HTMLView",
            "description": "",
            "description_tooltip": null,
            "layout": "IPY_MODEL_49fffc2293754aaf8b1f2cf8abf5c12c",
            "placeholder": "​",
            "style": "IPY_MODEL_f28ab7eb2cef471fbc994de76e185df0",
            "value": "Map: 100%"
          }
        },
        "c401b69bbc7041589e85fd9805d10233": {
          "model_module": "@jupyter-widgets/controls",
          "model_name": "FloatProgressModel",
          "model_module_version": "1.5.0",
          "state": {
            "_dom_classes": [],
            "_model_module": "@jupyter-widgets/controls",
            "_model_module_version": "1.5.0",
            "_model_name": "FloatProgressModel",
            "_view_count": null,
            "_view_module": "@jupyter-widgets/controls",
            "_view_module_version": "1.5.0",
            "_view_name": "ProgressView",
            "bar_style": "success",
            "description": "",
            "description_tooltip": null,
            "layout": "IPY_MODEL_32e5e68115db40bb9e9fd8d8479e1180",
            "max": 67349,
            "min": 0,
            "orientation": "horizontal",
            "style": "IPY_MODEL_dfb64a073168462a9627095f8b937ff7",
            "value": 67349
          }
        },
        "08eb42e2f56942f88b1f4d4aca0e45af": {
          "model_module": "@jupyter-widgets/controls",
          "model_name": "HTMLModel",
          "model_module_version": "1.5.0",
          "state": {
            "_dom_classes": [],
            "_model_module": "@jupyter-widgets/controls",
            "_model_module_version": "1.5.0",
            "_model_name": "HTMLModel",
            "_view_count": null,
            "_view_module": "@jupyter-widgets/controls",
            "_view_module_version": "1.5.0",
            "_view_name": "HTMLView",
            "description": "",
            "description_tooltip": null,
            "layout": "IPY_MODEL_387134c081db44a3a309bbdeb69e4ac1",
            "placeholder": "​",
            "style": "IPY_MODEL_5978fc9b71124559a7bb5d6f558866e3",
            "value": " 67349/67349 [00:04&lt;00:00, 13823.25 examples/s]"
          }
        },
        "08043a90e17c4f149b2b168955bd6cc9": {
          "model_module": "@jupyter-widgets/base",
          "model_name": "LayoutModel",
          "model_module_version": "1.2.0",
          "state": {
            "_model_module": "@jupyter-widgets/base",
            "_model_module_version": "1.2.0",
            "_model_name": "LayoutModel",
            "_view_count": null,
            "_view_module": "@jupyter-widgets/base",
            "_view_module_version": "1.2.0",
            "_view_name": "LayoutView",
            "align_content": null,
            "align_items": null,
            "align_self": null,
            "border": null,
            "bottom": null,
            "display": null,
            "flex": null,
            "flex_flow": null,
            "grid_area": null,
            "grid_auto_columns": null,
            "grid_auto_flow": null,
            "grid_auto_rows": null,
            "grid_column": null,
            "grid_gap": null,
            "grid_row": null,
            "grid_template_areas": null,
            "grid_template_columns": null,
            "grid_template_rows": null,
            "height": null,
            "justify_content": null,
            "justify_items": null,
            "left": null,
            "margin": null,
            "max_height": null,
            "max_width": null,
            "min_height": null,
            "min_width": null,
            "object_fit": null,
            "object_position": null,
            "order": null,
            "overflow": null,
            "overflow_x": null,
            "overflow_y": null,
            "padding": null,
            "right": null,
            "top": null,
            "visibility": null,
            "width": null
          }
        },
        "49fffc2293754aaf8b1f2cf8abf5c12c": {
          "model_module": "@jupyter-widgets/base",
          "model_name": "LayoutModel",
          "model_module_version": "1.2.0",
          "state": {
            "_model_module": "@jupyter-widgets/base",
            "_model_module_version": "1.2.0",
            "_model_name": "LayoutModel",
            "_view_count": null,
            "_view_module": "@jupyter-widgets/base",
            "_view_module_version": "1.2.0",
            "_view_name": "LayoutView",
            "align_content": null,
            "align_items": null,
            "align_self": null,
            "border": null,
            "bottom": null,
            "display": null,
            "flex": null,
            "flex_flow": null,
            "grid_area": null,
            "grid_auto_columns": null,
            "grid_auto_flow": null,
            "grid_auto_rows": null,
            "grid_column": null,
            "grid_gap": null,
            "grid_row": null,
            "grid_template_areas": null,
            "grid_template_columns": null,
            "grid_template_rows": null,
            "height": null,
            "justify_content": null,
            "justify_items": null,
            "left": null,
            "margin": null,
            "max_height": null,
            "max_width": null,
            "min_height": null,
            "min_width": null,
            "object_fit": null,
            "object_position": null,
            "order": null,
            "overflow": null,
            "overflow_x": null,
            "overflow_y": null,
            "padding": null,
            "right": null,
            "top": null,
            "visibility": null,
            "width": null
          }
        },
        "f28ab7eb2cef471fbc994de76e185df0": {
          "model_module": "@jupyter-widgets/controls",
          "model_name": "DescriptionStyleModel",
          "model_module_version": "1.5.0",
          "state": {
            "_model_module": "@jupyter-widgets/controls",
            "_model_module_version": "1.5.0",
            "_model_name": "DescriptionStyleModel",
            "_view_count": null,
            "_view_module": "@jupyter-widgets/base",
            "_view_module_version": "1.2.0",
            "_view_name": "StyleView",
            "description_width": ""
          }
        },
        "32e5e68115db40bb9e9fd8d8479e1180": {
          "model_module": "@jupyter-widgets/base",
          "model_name": "LayoutModel",
          "model_module_version": "1.2.0",
          "state": {
            "_model_module": "@jupyter-widgets/base",
            "_model_module_version": "1.2.0",
            "_model_name": "LayoutModel",
            "_view_count": null,
            "_view_module": "@jupyter-widgets/base",
            "_view_module_version": "1.2.0",
            "_view_name": "LayoutView",
            "align_content": null,
            "align_items": null,
            "align_self": null,
            "border": null,
            "bottom": null,
            "display": null,
            "flex": null,
            "flex_flow": null,
            "grid_area": null,
            "grid_auto_columns": null,
            "grid_auto_flow": null,
            "grid_auto_rows": null,
            "grid_column": null,
            "grid_gap": null,
            "grid_row": null,
            "grid_template_areas": null,
            "grid_template_columns": null,
            "grid_template_rows": null,
            "height": null,
            "justify_content": null,
            "justify_items": null,
            "left": null,
            "margin": null,
            "max_height": null,
            "max_width": null,
            "min_height": null,
            "min_width": null,
            "object_fit": null,
            "object_position": null,
            "order": null,
            "overflow": null,
            "overflow_x": null,
            "overflow_y": null,
            "padding": null,
            "right": null,
            "top": null,
            "visibility": null,
            "width": null
          }
        },
        "dfb64a073168462a9627095f8b937ff7": {
          "model_module": "@jupyter-widgets/controls",
          "model_name": "ProgressStyleModel",
          "model_module_version": "1.5.0",
          "state": {
            "_model_module": "@jupyter-widgets/controls",
            "_model_module_version": "1.5.0",
            "_model_name": "ProgressStyleModel",
            "_view_count": null,
            "_view_module": "@jupyter-widgets/base",
            "_view_module_version": "1.2.0",
            "_view_name": "StyleView",
            "bar_color": null,
            "description_width": ""
          }
        },
        "387134c081db44a3a309bbdeb69e4ac1": {
          "model_module": "@jupyter-widgets/base",
          "model_name": "LayoutModel",
          "model_module_version": "1.2.0",
          "state": {
            "_model_module": "@jupyter-widgets/base",
            "_model_module_version": "1.2.0",
            "_model_name": "LayoutModel",
            "_view_count": null,
            "_view_module": "@jupyter-widgets/base",
            "_view_module_version": "1.2.0",
            "_view_name": "LayoutView",
            "align_content": null,
            "align_items": null,
            "align_self": null,
            "border": null,
            "bottom": null,
            "display": null,
            "flex": null,
            "flex_flow": null,
            "grid_area": null,
            "grid_auto_columns": null,
            "grid_auto_flow": null,
            "grid_auto_rows": null,
            "grid_column": null,
            "grid_gap": null,
            "grid_row": null,
            "grid_template_areas": null,
            "grid_template_columns": null,
            "grid_template_rows": null,
            "height": null,
            "justify_content": null,
            "justify_items": null,
            "left": null,
            "margin": null,
            "max_height": null,
            "max_width": null,
            "min_height": null,
            "min_width": null,
            "object_fit": null,
            "object_position": null,
            "order": null,
            "overflow": null,
            "overflow_x": null,
            "overflow_y": null,
            "padding": null,
            "right": null,
            "top": null,
            "visibility": null,
            "width": null
          }
        },
        "5978fc9b71124559a7bb5d6f558866e3": {
          "model_module": "@jupyter-widgets/controls",
          "model_name": "DescriptionStyleModel",
          "model_module_version": "1.5.0",
          "state": {
            "_model_module": "@jupyter-widgets/controls",
            "_model_module_version": "1.5.0",
            "_model_name": "DescriptionStyleModel",
            "_view_count": null,
            "_view_module": "@jupyter-widgets/base",
            "_view_module_version": "1.2.0",
            "_view_name": "StyleView",
            "description_width": ""
          }
        },
        "7889c451200a4dc58fceb4d1e3927ea0": {
          "model_module": "@jupyter-widgets/controls",
          "model_name": "HBoxModel",
          "model_module_version": "1.5.0",
          "state": {
            "_dom_classes": [],
            "_model_module": "@jupyter-widgets/controls",
            "_model_module_version": "1.5.0",
            "_model_name": "HBoxModel",
            "_view_count": null,
            "_view_module": "@jupyter-widgets/controls",
            "_view_module_version": "1.5.0",
            "_view_name": "HBoxView",
            "box_style": "",
            "children": [
              "IPY_MODEL_f5f19b7d825f4a29991b11ced7ae395b",
              "IPY_MODEL_e7d969c6466042439052c1bc8e8b604a",
              "IPY_MODEL_bba222052c9446c083f730937a20a8f8"
            ],
            "layout": "IPY_MODEL_0de284629b7f4471975d94c907fc2e88"
          }
        },
        "f5f19b7d825f4a29991b11ced7ae395b": {
          "model_module": "@jupyter-widgets/controls",
          "model_name": "HTMLModel",
          "model_module_version": "1.5.0",
          "state": {
            "_dom_classes": [],
            "_model_module": "@jupyter-widgets/controls",
            "_model_module_version": "1.5.0",
            "_model_name": "HTMLModel",
            "_view_count": null,
            "_view_module": "@jupyter-widgets/controls",
            "_view_module_version": "1.5.0",
            "_view_name": "HTMLView",
            "description": "",
            "description_tooltip": null,
            "layout": "IPY_MODEL_de3adbd1c84341e69b671e4b34acb017",
            "placeholder": "​",
            "style": "IPY_MODEL_b738183a58ce45af97d5c2fd35bdd008",
            "value": "Map: 100%"
          }
        },
        "e7d969c6466042439052c1bc8e8b604a": {
          "model_module": "@jupyter-widgets/controls",
          "model_name": "FloatProgressModel",
          "model_module_version": "1.5.0",
          "state": {
            "_dom_classes": [],
            "_model_module": "@jupyter-widgets/controls",
            "_model_module_version": "1.5.0",
            "_model_name": "FloatProgressModel",
            "_view_count": null,
            "_view_module": "@jupyter-widgets/controls",
            "_view_module_version": "1.5.0",
            "_view_name": "ProgressView",
            "bar_style": "success",
            "description": "",
            "description_tooltip": null,
            "layout": "IPY_MODEL_288dfe32369c4604b956e6debc396a34",
            "max": 872,
            "min": 0,
            "orientation": "horizontal",
            "style": "IPY_MODEL_5c512fd844664181a265791f34631908",
            "value": 872
          }
        },
        "bba222052c9446c083f730937a20a8f8": {
          "model_module": "@jupyter-widgets/controls",
          "model_name": "HTMLModel",
          "model_module_version": "1.5.0",
          "state": {
            "_dom_classes": [],
            "_model_module": "@jupyter-widgets/controls",
            "_model_module_version": "1.5.0",
            "_model_name": "HTMLModel",
            "_view_count": null,
            "_view_module": "@jupyter-widgets/controls",
            "_view_module_version": "1.5.0",
            "_view_name": "HTMLView",
            "description": "",
            "description_tooltip": null,
            "layout": "IPY_MODEL_407a603af08443fd85328931ced06075",
            "placeholder": "​",
            "style": "IPY_MODEL_2439c6f3a4064cf08c8f8f6720cf74fc",
            "value": " 872/872 [00:00&lt;00:00, 7475.84 examples/s]"
          }
        },
        "0de284629b7f4471975d94c907fc2e88": {
          "model_module": "@jupyter-widgets/base",
          "model_name": "LayoutModel",
          "model_module_version": "1.2.0",
          "state": {
            "_model_module": "@jupyter-widgets/base",
            "_model_module_version": "1.2.0",
            "_model_name": "LayoutModel",
            "_view_count": null,
            "_view_module": "@jupyter-widgets/base",
            "_view_module_version": "1.2.0",
            "_view_name": "LayoutView",
            "align_content": null,
            "align_items": null,
            "align_self": null,
            "border": null,
            "bottom": null,
            "display": null,
            "flex": null,
            "flex_flow": null,
            "grid_area": null,
            "grid_auto_columns": null,
            "grid_auto_flow": null,
            "grid_auto_rows": null,
            "grid_column": null,
            "grid_gap": null,
            "grid_row": null,
            "grid_template_areas": null,
            "grid_template_columns": null,
            "grid_template_rows": null,
            "height": null,
            "justify_content": null,
            "justify_items": null,
            "left": null,
            "margin": null,
            "max_height": null,
            "max_width": null,
            "min_height": null,
            "min_width": null,
            "object_fit": null,
            "object_position": null,
            "order": null,
            "overflow": null,
            "overflow_x": null,
            "overflow_y": null,
            "padding": null,
            "right": null,
            "top": null,
            "visibility": null,
            "width": null
          }
        },
        "de3adbd1c84341e69b671e4b34acb017": {
          "model_module": "@jupyter-widgets/base",
          "model_name": "LayoutModel",
          "model_module_version": "1.2.0",
          "state": {
            "_model_module": "@jupyter-widgets/base",
            "_model_module_version": "1.2.0",
            "_model_name": "LayoutModel",
            "_view_count": null,
            "_view_module": "@jupyter-widgets/base",
            "_view_module_version": "1.2.0",
            "_view_name": "LayoutView",
            "align_content": null,
            "align_items": null,
            "align_self": null,
            "border": null,
            "bottom": null,
            "display": null,
            "flex": null,
            "flex_flow": null,
            "grid_area": null,
            "grid_auto_columns": null,
            "grid_auto_flow": null,
            "grid_auto_rows": null,
            "grid_column": null,
            "grid_gap": null,
            "grid_row": null,
            "grid_template_areas": null,
            "grid_template_columns": null,
            "grid_template_rows": null,
            "height": null,
            "justify_content": null,
            "justify_items": null,
            "left": null,
            "margin": null,
            "max_height": null,
            "max_width": null,
            "min_height": null,
            "min_width": null,
            "object_fit": null,
            "object_position": null,
            "order": null,
            "overflow": null,
            "overflow_x": null,
            "overflow_y": null,
            "padding": null,
            "right": null,
            "top": null,
            "visibility": null,
            "width": null
          }
        },
        "b738183a58ce45af97d5c2fd35bdd008": {
          "model_module": "@jupyter-widgets/controls",
          "model_name": "DescriptionStyleModel",
          "model_module_version": "1.5.0",
          "state": {
            "_model_module": "@jupyter-widgets/controls",
            "_model_module_version": "1.5.0",
            "_model_name": "DescriptionStyleModel",
            "_view_count": null,
            "_view_module": "@jupyter-widgets/base",
            "_view_module_version": "1.2.0",
            "_view_name": "StyleView",
            "description_width": ""
          }
        },
        "288dfe32369c4604b956e6debc396a34": {
          "model_module": "@jupyter-widgets/base",
          "model_name": "LayoutModel",
          "model_module_version": "1.2.0",
          "state": {
            "_model_module": "@jupyter-widgets/base",
            "_model_module_version": "1.2.0",
            "_model_name": "LayoutModel",
            "_view_count": null,
            "_view_module": "@jupyter-widgets/base",
            "_view_module_version": "1.2.0",
            "_view_name": "LayoutView",
            "align_content": null,
            "align_items": null,
            "align_self": null,
            "border": null,
            "bottom": null,
            "display": null,
            "flex": null,
            "flex_flow": null,
            "grid_area": null,
            "grid_auto_columns": null,
            "grid_auto_flow": null,
            "grid_auto_rows": null,
            "grid_column": null,
            "grid_gap": null,
            "grid_row": null,
            "grid_template_areas": null,
            "grid_template_columns": null,
            "grid_template_rows": null,
            "height": null,
            "justify_content": null,
            "justify_items": null,
            "left": null,
            "margin": null,
            "max_height": null,
            "max_width": null,
            "min_height": null,
            "min_width": null,
            "object_fit": null,
            "object_position": null,
            "order": null,
            "overflow": null,
            "overflow_x": null,
            "overflow_y": null,
            "padding": null,
            "right": null,
            "top": null,
            "visibility": null,
            "width": null
          }
        },
        "5c512fd844664181a265791f34631908": {
          "model_module": "@jupyter-widgets/controls",
          "model_name": "ProgressStyleModel",
          "model_module_version": "1.5.0",
          "state": {
            "_model_module": "@jupyter-widgets/controls",
            "_model_module_version": "1.5.0",
            "_model_name": "ProgressStyleModel",
            "_view_count": null,
            "_view_module": "@jupyter-widgets/base",
            "_view_module_version": "1.2.0",
            "_view_name": "StyleView",
            "bar_color": null,
            "description_width": ""
          }
        },
        "407a603af08443fd85328931ced06075": {
          "model_module": "@jupyter-widgets/base",
          "model_name": "LayoutModel",
          "model_module_version": "1.2.0",
          "state": {
            "_model_module": "@jupyter-widgets/base",
            "_model_module_version": "1.2.0",
            "_model_name": "LayoutModel",
            "_view_count": null,
            "_view_module": "@jupyter-widgets/base",
            "_view_module_version": "1.2.0",
            "_view_name": "LayoutView",
            "align_content": null,
            "align_items": null,
            "align_self": null,
            "border": null,
            "bottom": null,
            "display": null,
            "flex": null,
            "flex_flow": null,
            "grid_area": null,
            "grid_auto_columns": null,
            "grid_auto_flow": null,
            "grid_auto_rows": null,
            "grid_column": null,
            "grid_gap": null,
            "grid_row": null,
            "grid_template_areas": null,
            "grid_template_columns": null,
            "grid_template_rows": null,
            "height": null,
            "justify_content": null,
            "justify_items": null,
            "left": null,
            "margin": null,
            "max_height": null,
            "max_width": null,
            "min_height": null,
            "min_width": null,
            "object_fit": null,
            "object_position": null,
            "order": null,
            "overflow": null,
            "overflow_x": null,
            "overflow_y": null,
            "padding": null,
            "right": null,
            "top": null,
            "visibility": null,
            "width": null
          }
        },
        "2439c6f3a4064cf08c8f8f6720cf74fc": {
          "model_module": "@jupyter-widgets/controls",
          "model_name": "DescriptionStyleModel",
          "model_module_version": "1.5.0",
          "state": {
            "_model_module": "@jupyter-widgets/controls",
            "_model_module_version": "1.5.0",
            "_model_name": "DescriptionStyleModel",
            "_view_count": null,
            "_view_module": "@jupyter-widgets/base",
            "_view_module_version": "1.2.0",
            "_view_name": "StyleView",
            "description_width": ""
          }
        },
        "6de85d3a7a6a4e5b9af3efb0ff67cd7c": {
          "model_module": "@jupyter-widgets/controls",
          "model_name": "HBoxModel",
          "model_module_version": "1.5.0",
          "state": {
            "_dom_classes": [],
            "_model_module": "@jupyter-widgets/controls",
            "_model_module_version": "1.5.0",
            "_model_name": "HBoxModel",
            "_view_count": null,
            "_view_module": "@jupyter-widgets/controls",
            "_view_module_version": "1.5.0",
            "_view_name": "HBoxView",
            "box_style": "",
            "children": [
              "IPY_MODEL_7200b21f690d4b02be86d9332007ab1c",
              "IPY_MODEL_354bbfba2b1e44e8b107bd156285a222",
              "IPY_MODEL_b254811811394735b1a2ec7337b2de26"
            ],
            "layout": "IPY_MODEL_03e2f8987e234a2685548524e3e8f729"
          }
        },
        "7200b21f690d4b02be86d9332007ab1c": {
          "model_module": "@jupyter-widgets/controls",
          "model_name": "HTMLModel",
          "model_module_version": "1.5.0",
          "state": {
            "_dom_classes": [],
            "_model_module": "@jupyter-widgets/controls",
            "_model_module_version": "1.5.0",
            "_model_name": "HTMLModel",
            "_view_count": null,
            "_view_module": "@jupyter-widgets/controls",
            "_view_module_version": "1.5.0",
            "_view_name": "HTMLView",
            "description": "",
            "description_tooltip": null,
            "layout": "IPY_MODEL_15bd7884b40e4bb7ae9896d948954a11",
            "placeholder": "​",
            "style": "IPY_MODEL_dbe5066a3898462ca4340a3a5845ff41",
            "value": "Map: 100%"
          }
        },
        "354bbfba2b1e44e8b107bd156285a222": {
          "model_module": "@jupyter-widgets/controls",
          "model_name": "FloatProgressModel",
          "model_module_version": "1.5.0",
          "state": {
            "_dom_classes": [],
            "_model_module": "@jupyter-widgets/controls",
            "_model_module_version": "1.5.0",
            "_model_name": "FloatProgressModel",
            "_view_count": null,
            "_view_module": "@jupyter-widgets/controls",
            "_view_module_version": "1.5.0",
            "_view_name": "ProgressView",
            "bar_style": "success",
            "description": "",
            "description_tooltip": null,
            "layout": "IPY_MODEL_76b508ac85eb45aaa319ef5f177b27ad",
            "max": 1821,
            "min": 0,
            "orientation": "horizontal",
            "style": "IPY_MODEL_2c846613fb8e4e36a03c6b6a853c219a",
            "value": 1821
          }
        },
        "b254811811394735b1a2ec7337b2de26": {
          "model_module": "@jupyter-widgets/controls",
          "model_name": "HTMLModel",
          "model_module_version": "1.5.0",
          "state": {
            "_dom_classes": [],
            "_model_module": "@jupyter-widgets/controls",
            "_model_module_version": "1.5.0",
            "_model_name": "HTMLModel",
            "_view_count": null,
            "_view_module": "@jupyter-widgets/controls",
            "_view_module_version": "1.5.0",
            "_view_name": "HTMLView",
            "description": "",
            "description_tooltip": null,
            "layout": "IPY_MODEL_bb6de75448214ad2bf6ee70e11190308",
            "placeholder": "​",
            "style": "IPY_MODEL_b4b822c835d646799ee0f37318281b1b",
            "value": " 1821/1821 [00:00&lt;00:00, 8680.88 examples/s]"
          }
        },
        "03e2f8987e234a2685548524e3e8f729": {
          "model_module": "@jupyter-widgets/base",
          "model_name": "LayoutModel",
          "model_module_version": "1.2.0",
          "state": {
            "_model_module": "@jupyter-widgets/base",
            "_model_module_version": "1.2.0",
            "_model_name": "LayoutModel",
            "_view_count": null,
            "_view_module": "@jupyter-widgets/base",
            "_view_module_version": "1.2.0",
            "_view_name": "LayoutView",
            "align_content": null,
            "align_items": null,
            "align_self": null,
            "border": null,
            "bottom": null,
            "display": null,
            "flex": null,
            "flex_flow": null,
            "grid_area": null,
            "grid_auto_columns": null,
            "grid_auto_flow": null,
            "grid_auto_rows": null,
            "grid_column": null,
            "grid_gap": null,
            "grid_row": null,
            "grid_template_areas": null,
            "grid_template_columns": null,
            "grid_template_rows": null,
            "height": null,
            "justify_content": null,
            "justify_items": null,
            "left": null,
            "margin": null,
            "max_height": null,
            "max_width": null,
            "min_height": null,
            "min_width": null,
            "object_fit": null,
            "object_position": null,
            "order": null,
            "overflow": null,
            "overflow_x": null,
            "overflow_y": null,
            "padding": null,
            "right": null,
            "top": null,
            "visibility": null,
            "width": null
          }
        },
        "15bd7884b40e4bb7ae9896d948954a11": {
          "model_module": "@jupyter-widgets/base",
          "model_name": "LayoutModel",
          "model_module_version": "1.2.0",
          "state": {
            "_model_module": "@jupyter-widgets/base",
            "_model_module_version": "1.2.0",
            "_model_name": "LayoutModel",
            "_view_count": null,
            "_view_module": "@jupyter-widgets/base",
            "_view_module_version": "1.2.0",
            "_view_name": "LayoutView",
            "align_content": null,
            "align_items": null,
            "align_self": null,
            "border": null,
            "bottom": null,
            "display": null,
            "flex": null,
            "flex_flow": null,
            "grid_area": null,
            "grid_auto_columns": null,
            "grid_auto_flow": null,
            "grid_auto_rows": null,
            "grid_column": null,
            "grid_gap": null,
            "grid_row": null,
            "grid_template_areas": null,
            "grid_template_columns": null,
            "grid_template_rows": null,
            "height": null,
            "justify_content": null,
            "justify_items": null,
            "left": null,
            "margin": null,
            "max_height": null,
            "max_width": null,
            "min_height": null,
            "min_width": null,
            "object_fit": null,
            "object_position": null,
            "order": null,
            "overflow": null,
            "overflow_x": null,
            "overflow_y": null,
            "padding": null,
            "right": null,
            "top": null,
            "visibility": null,
            "width": null
          }
        },
        "dbe5066a3898462ca4340a3a5845ff41": {
          "model_module": "@jupyter-widgets/controls",
          "model_name": "DescriptionStyleModel",
          "model_module_version": "1.5.0",
          "state": {
            "_model_module": "@jupyter-widgets/controls",
            "_model_module_version": "1.5.0",
            "_model_name": "DescriptionStyleModel",
            "_view_count": null,
            "_view_module": "@jupyter-widgets/base",
            "_view_module_version": "1.2.0",
            "_view_name": "StyleView",
            "description_width": ""
          }
        },
        "76b508ac85eb45aaa319ef5f177b27ad": {
          "model_module": "@jupyter-widgets/base",
          "model_name": "LayoutModel",
          "model_module_version": "1.2.0",
          "state": {
            "_model_module": "@jupyter-widgets/base",
            "_model_module_version": "1.2.0",
            "_model_name": "LayoutModel",
            "_view_count": null,
            "_view_module": "@jupyter-widgets/base",
            "_view_module_version": "1.2.0",
            "_view_name": "LayoutView",
            "align_content": null,
            "align_items": null,
            "align_self": null,
            "border": null,
            "bottom": null,
            "display": null,
            "flex": null,
            "flex_flow": null,
            "grid_area": null,
            "grid_auto_columns": null,
            "grid_auto_flow": null,
            "grid_auto_rows": null,
            "grid_column": null,
            "grid_gap": null,
            "grid_row": null,
            "grid_template_areas": null,
            "grid_template_columns": null,
            "grid_template_rows": null,
            "height": null,
            "justify_content": null,
            "justify_items": null,
            "left": null,
            "margin": null,
            "max_height": null,
            "max_width": null,
            "min_height": null,
            "min_width": null,
            "object_fit": null,
            "object_position": null,
            "order": null,
            "overflow": null,
            "overflow_x": null,
            "overflow_y": null,
            "padding": null,
            "right": null,
            "top": null,
            "visibility": null,
            "width": null
          }
        },
        "2c846613fb8e4e36a03c6b6a853c219a": {
          "model_module": "@jupyter-widgets/controls",
          "model_name": "ProgressStyleModel",
          "model_module_version": "1.5.0",
          "state": {
            "_model_module": "@jupyter-widgets/controls",
            "_model_module_version": "1.5.0",
            "_model_name": "ProgressStyleModel",
            "_view_count": null,
            "_view_module": "@jupyter-widgets/base",
            "_view_module_version": "1.2.0",
            "_view_name": "StyleView",
            "bar_color": null,
            "description_width": ""
          }
        },
        "bb6de75448214ad2bf6ee70e11190308": {
          "model_module": "@jupyter-widgets/base",
          "model_name": "LayoutModel",
          "model_module_version": "1.2.0",
          "state": {
            "_model_module": "@jupyter-widgets/base",
            "_model_module_version": "1.2.0",
            "_model_name": "LayoutModel",
            "_view_count": null,
            "_view_module": "@jupyter-widgets/base",
            "_view_module_version": "1.2.0",
            "_view_name": "LayoutView",
            "align_content": null,
            "align_items": null,
            "align_self": null,
            "border": null,
            "bottom": null,
            "display": null,
            "flex": null,
            "flex_flow": null,
            "grid_area": null,
            "grid_auto_columns": null,
            "grid_auto_flow": null,
            "grid_auto_rows": null,
            "grid_column": null,
            "grid_gap": null,
            "grid_row": null,
            "grid_template_areas": null,
            "grid_template_columns": null,
            "grid_template_rows": null,
            "height": null,
            "justify_content": null,
            "justify_items": null,
            "left": null,
            "margin": null,
            "max_height": null,
            "max_width": null,
            "min_height": null,
            "min_width": null,
            "object_fit": null,
            "object_position": null,
            "order": null,
            "overflow": null,
            "overflow_x": null,
            "overflow_y": null,
            "padding": null,
            "right": null,
            "top": null,
            "visibility": null,
            "width": null
          }
        },
        "b4b822c835d646799ee0f37318281b1b": {
          "model_module": "@jupyter-widgets/controls",
          "model_name": "DescriptionStyleModel",
          "model_module_version": "1.5.0",
          "state": {
            "_model_module": "@jupyter-widgets/controls",
            "_model_module_version": "1.5.0",
            "_model_name": "DescriptionStyleModel",
            "_view_count": null,
            "_view_module": "@jupyter-widgets/base",
            "_view_module_version": "1.2.0",
            "_view_name": "StyleView",
            "description_width": ""
          }
        },
        "aecd3f6696fe4440a67e337ae4fef9ae": {
          "model_module": "@jupyter-widgets/controls",
          "model_name": "HBoxModel",
          "model_module_version": "1.5.0",
          "state": {
            "_dom_classes": [],
            "_model_module": "@jupyter-widgets/controls",
            "_model_module_version": "1.5.0",
            "_model_name": "HBoxModel",
            "_view_count": null,
            "_view_module": "@jupyter-widgets/controls",
            "_view_module_version": "1.5.0",
            "_view_name": "HBoxView",
            "box_style": "",
            "children": [
              "IPY_MODEL_5bc0b8f6904549e58b80792b8964efa7",
              "IPY_MODEL_c2e26a40eb074546a713892276faf249",
              "IPY_MODEL_df28ef5d2ba349da913f06a26f1c4c08"
            ],
            "layout": "IPY_MODEL_0245ad21116a473cabd450ef36a063a9"
          }
        },
        "5bc0b8f6904549e58b80792b8964efa7": {
          "model_module": "@jupyter-widgets/controls",
          "model_name": "HTMLModel",
          "model_module_version": "1.5.0",
          "state": {
            "_dom_classes": [],
            "_model_module": "@jupyter-widgets/controls",
            "_model_module_version": "1.5.0",
            "_model_name": "HTMLModel",
            "_view_count": null,
            "_view_module": "@jupyter-widgets/controls",
            "_view_module_version": "1.5.0",
            "_view_name": "HTMLView",
            "description": "",
            "description_tooltip": null,
            "layout": "IPY_MODEL_124a7b0973ad4eb986c4013f9898f024",
            "placeholder": "​",
            "style": "IPY_MODEL_3b21e0c282eb489e8c1398428e5e257d",
            "value": "Downloading builder script: "
          }
        },
        "c2e26a40eb074546a713892276faf249": {
          "model_module": "@jupyter-widgets/controls",
          "model_name": "FloatProgressModel",
          "model_module_version": "1.5.0",
          "state": {
            "_dom_classes": [],
            "_model_module": "@jupyter-widgets/controls",
            "_model_module_version": "1.5.0",
            "_model_name": "FloatProgressModel",
            "_view_count": null,
            "_view_module": "@jupyter-widgets/controls",
            "_view_module_version": "1.5.0",
            "_view_name": "ProgressView",
            "bar_style": "success",
            "description": "",
            "description_tooltip": null,
            "layout": "IPY_MODEL_9ef2d72e44984741b50253ed4aad5ef2",
            "max": 1844,
            "min": 0,
            "orientation": "horizontal",
            "style": "IPY_MODEL_d3e57277dbdb4b08a9463b5b86a65645",
            "value": 1844
          }
        },
        "df28ef5d2ba349da913f06a26f1c4c08": {
          "model_module": "@jupyter-widgets/controls",
          "model_name": "HTMLModel",
          "model_module_version": "1.5.0",
          "state": {
            "_dom_classes": [],
            "_model_module": "@jupyter-widgets/controls",
            "_model_module_version": "1.5.0",
            "_model_name": "HTMLModel",
            "_view_count": null,
            "_view_module": "@jupyter-widgets/controls",
            "_view_module_version": "1.5.0",
            "_view_name": "HTMLView",
            "description": "",
            "description_tooltip": null,
            "layout": "IPY_MODEL_62e447b831e64b43a57f5ed2d4581571",
            "placeholder": "​",
            "style": "IPY_MODEL_1bbc47b670e54669b9ea99c105134b89",
            "value": " 5.76k/? [00:00&lt;00:00, 160kB/s]"
          }
        },
        "0245ad21116a473cabd450ef36a063a9": {
          "model_module": "@jupyter-widgets/base",
          "model_name": "LayoutModel",
          "model_module_version": "1.2.0",
          "state": {
            "_model_module": "@jupyter-widgets/base",
            "_model_module_version": "1.2.0",
            "_model_name": "LayoutModel",
            "_view_count": null,
            "_view_module": "@jupyter-widgets/base",
            "_view_module_version": "1.2.0",
            "_view_name": "LayoutView",
            "align_content": null,
            "align_items": null,
            "align_self": null,
            "border": null,
            "bottom": null,
            "display": null,
            "flex": null,
            "flex_flow": null,
            "grid_area": null,
            "grid_auto_columns": null,
            "grid_auto_flow": null,
            "grid_auto_rows": null,
            "grid_column": null,
            "grid_gap": null,
            "grid_row": null,
            "grid_template_areas": null,
            "grid_template_columns": null,
            "grid_template_rows": null,
            "height": null,
            "justify_content": null,
            "justify_items": null,
            "left": null,
            "margin": null,
            "max_height": null,
            "max_width": null,
            "min_height": null,
            "min_width": null,
            "object_fit": null,
            "object_position": null,
            "order": null,
            "overflow": null,
            "overflow_x": null,
            "overflow_y": null,
            "padding": null,
            "right": null,
            "top": null,
            "visibility": null,
            "width": null
          }
        },
        "124a7b0973ad4eb986c4013f9898f024": {
          "model_module": "@jupyter-widgets/base",
          "model_name": "LayoutModel",
          "model_module_version": "1.2.0",
          "state": {
            "_model_module": "@jupyter-widgets/base",
            "_model_module_version": "1.2.0",
            "_model_name": "LayoutModel",
            "_view_count": null,
            "_view_module": "@jupyter-widgets/base",
            "_view_module_version": "1.2.0",
            "_view_name": "LayoutView",
            "align_content": null,
            "align_items": null,
            "align_self": null,
            "border": null,
            "bottom": null,
            "display": null,
            "flex": null,
            "flex_flow": null,
            "grid_area": null,
            "grid_auto_columns": null,
            "grid_auto_flow": null,
            "grid_auto_rows": null,
            "grid_column": null,
            "grid_gap": null,
            "grid_row": null,
            "grid_template_areas": null,
            "grid_template_columns": null,
            "grid_template_rows": null,
            "height": null,
            "justify_content": null,
            "justify_items": null,
            "left": null,
            "margin": null,
            "max_height": null,
            "max_width": null,
            "min_height": null,
            "min_width": null,
            "object_fit": null,
            "object_position": null,
            "order": null,
            "overflow": null,
            "overflow_x": null,
            "overflow_y": null,
            "padding": null,
            "right": null,
            "top": null,
            "visibility": null,
            "width": null
          }
        },
        "3b21e0c282eb489e8c1398428e5e257d": {
          "model_module": "@jupyter-widgets/controls",
          "model_name": "DescriptionStyleModel",
          "model_module_version": "1.5.0",
          "state": {
            "_model_module": "@jupyter-widgets/controls",
            "_model_module_version": "1.5.0",
            "_model_name": "DescriptionStyleModel",
            "_view_count": null,
            "_view_module": "@jupyter-widgets/base",
            "_view_module_version": "1.2.0",
            "_view_name": "StyleView",
            "description_width": ""
          }
        },
        "9ef2d72e44984741b50253ed4aad5ef2": {
          "model_module": "@jupyter-widgets/base",
          "model_name": "LayoutModel",
          "model_module_version": "1.2.0",
          "state": {
            "_model_module": "@jupyter-widgets/base",
            "_model_module_version": "1.2.0",
            "_model_name": "LayoutModel",
            "_view_count": null,
            "_view_module": "@jupyter-widgets/base",
            "_view_module_version": "1.2.0",
            "_view_name": "LayoutView",
            "align_content": null,
            "align_items": null,
            "align_self": null,
            "border": null,
            "bottom": null,
            "display": null,
            "flex": null,
            "flex_flow": null,
            "grid_area": null,
            "grid_auto_columns": null,
            "grid_auto_flow": null,
            "grid_auto_rows": null,
            "grid_column": null,
            "grid_gap": null,
            "grid_row": null,
            "grid_template_areas": null,
            "grid_template_columns": null,
            "grid_template_rows": null,
            "height": null,
            "justify_content": null,
            "justify_items": null,
            "left": null,
            "margin": null,
            "max_height": null,
            "max_width": null,
            "min_height": null,
            "min_width": null,
            "object_fit": null,
            "object_position": null,
            "order": null,
            "overflow": null,
            "overflow_x": null,
            "overflow_y": null,
            "padding": null,
            "right": null,
            "top": null,
            "visibility": null,
            "width": null
          }
        },
        "d3e57277dbdb4b08a9463b5b86a65645": {
          "model_module": "@jupyter-widgets/controls",
          "model_name": "ProgressStyleModel",
          "model_module_version": "1.5.0",
          "state": {
            "_model_module": "@jupyter-widgets/controls",
            "_model_module_version": "1.5.0",
            "_model_name": "ProgressStyleModel",
            "_view_count": null,
            "_view_module": "@jupyter-widgets/base",
            "_view_module_version": "1.2.0",
            "_view_name": "StyleView",
            "bar_color": null,
            "description_width": ""
          }
        },
        "62e447b831e64b43a57f5ed2d4581571": {
          "model_module": "@jupyter-widgets/base",
          "model_name": "LayoutModel",
          "model_module_version": "1.2.0",
          "state": {
            "_model_module": "@jupyter-widgets/base",
            "_model_module_version": "1.2.0",
            "_model_name": "LayoutModel",
            "_view_count": null,
            "_view_module": "@jupyter-widgets/base",
            "_view_module_version": "1.2.0",
            "_view_name": "LayoutView",
            "align_content": null,
            "align_items": null,
            "align_self": null,
            "border": null,
            "bottom": null,
            "display": null,
            "flex": null,
            "flex_flow": null,
            "grid_area": null,
            "grid_auto_columns": null,
            "grid_auto_flow": null,
            "grid_auto_rows": null,
            "grid_column": null,
            "grid_gap": null,
            "grid_row": null,
            "grid_template_areas": null,
            "grid_template_columns": null,
            "grid_template_rows": null,
            "height": null,
            "justify_content": null,
            "justify_items": null,
            "left": null,
            "margin": null,
            "max_height": null,
            "max_width": null,
            "min_height": null,
            "min_width": null,
            "object_fit": null,
            "object_position": null,
            "order": null,
            "overflow": null,
            "overflow_x": null,
            "overflow_y": null,
            "padding": null,
            "right": null,
            "top": null,
            "visibility": null,
            "width": null
          }
        },
        "1bbc47b670e54669b9ea99c105134b89": {
          "model_module": "@jupyter-widgets/controls",
          "model_name": "DescriptionStyleModel",
          "model_module_version": "1.5.0",
          "state": {
            "_model_module": "@jupyter-widgets/controls",
            "_model_module_version": "1.5.0",
            "_model_name": "DescriptionStyleModel",
            "_view_count": null,
            "_view_module": "@jupyter-widgets/base",
            "_view_module_version": "1.2.0",
            "_view_name": "StyleView",
            "description_width": ""
          }
        },
        "7d296275ae014207bd64a72e33904416": {
          "model_module": "@jupyter-widgets/controls",
          "model_name": "HBoxModel",
          "model_module_version": "1.5.0",
          "state": {
            "_dom_classes": [],
            "_model_module": "@jupyter-widgets/controls",
            "_model_module_version": "1.5.0",
            "_model_name": "HBoxModel",
            "_view_count": null,
            "_view_module": "@jupyter-widgets/controls",
            "_view_module_version": "1.5.0",
            "_view_name": "HBoxView",
            "box_style": "",
            "children": [
              "IPY_MODEL_a881229ded4148dd90f9e97752a6caf5",
              "IPY_MODEL_16e477ef988746ec97a16494f8300aa0",
              "IPY_MODEL_1a21fc6474754941b83f5a8f94a5ba6c"
            ],
            "layout": "IPY_MODEL_a983683749c347429f494c79984ef064"
          }
        },
        "a881229ded4148dd90f9e97752a6caf5": {
          "model_module": "@jupyter-widgets/controls",
          "model_name": "HTMLModel",
          "model_module_version": "1.5.0",
          "state": {
            "_dom_classes": [],
            "_model_module": "@jupyter-widgets/controls",
            "_model_module_version": "1.5.0",
            "_model_name": "HTMLModel",
            "_view_count": null,
            "_view_module": "@jupyter-widgets/controls",
            "_view_module_version": "1.5.0",
            "_view_name": "HTMLView",
            "description": "",
            "description_tooltip": null,
            "layout": "IPY_MODEL_17dd3f6fd0ef456e873b2a2b4c825904",
            "placeholder": "​",
            "style": "IPY_MODEL_f6109e095cf2407488afefb8f3781448",
            "value": "Downloading model.safetensors: 100%"
          }
        },
        "16e477ef988746ec97a16494f8300aa0": {
          "model_module": "@jupyter-widgets/controls",
          "model_name": "FloatProgressModel",
          "model_module_version": "1.5.0",
          "state": {
            "_dom_classes": [],
            "_model_module": "@jupyter-widgets/controls",
            "_model_module_version": "1.5.0",
            "_model_name": "FloatProgressModel",
            "_view_count": null,
            "_view_module": "@jupyter-widgets/controls",
            "_view_module_version": "1.5.0",
            "_view_name": "ProgressView",
            "bar_style": "success",
            "description": "",
            "description_tooltip": null,
            "layout": "IPY_MODEL_3f3c640389b54af3a1d0bdadb6848ce8",
            "max": 267954768,
            "min": 0,
            "orientation": "horizontal",
            "style": "IPY_MODEL_db56ff2220d94f64a3a07e47759d0fb6",
            "value": 267954768
          }
        },
        "1a21fc6474754941b83f5a8f94a5ba6c": {
          "model_module": "@jupyter-widgets/controls",
          "model_name": "HTMLModel",
          "model_module_version": "1.5.0",
          "state": {
            "_dom_classes": [],
            "_model_module": "@jupyter-widgets/controls",
            "_model_module_version": "1.5.0",
            "_model_name": "HTMLModel",
            "_view_count": null,
            "_view_module": "@jupyter-widgets/controls",
            "_view_module_version": "1.5.0",
            "_view_name": "HTMLView",
            "description": "",
            "description_tooltip": null,
            "layout": "IPY_MODEL_eded6b4446154c0d8f6c35f6bee77e45",
            "placeholder": "​",
            "style": "IPY_MODEL_67a3ce9fbc2e488fa317006e6c9cf09f",
            "value": " 268M/268M [00:01&lt;00:00, 187MB/s]"
          }
        },
        "a983683749c347429f494c79984ef064": {
          "model_module": "@jupyter-widgets/base",
          "model_name": "LayoutModel",
          "model_module_version": "1.2.0",
          "state": {
            "_model_module": "@jupyter-widgets/base",
            "_model_module_version": "1.2.0",
            "_model_name": "LayoutModel",
            "_view_count": null,
            "_view_module": "@jupyter-widgets/base",
            "_view_module_version": "1.2.0",
            "_view_name": "LayoutView",
            "align_content": null,
            "align_items": null,
            "align_self": null,
            "border": null,
            "bottom": null,
            "display": null,
            "flex": null,
            "flex_flow": null,
            "grid_area": null,
            "grid_auto_columns": null,
            "grid_auto_flow": null,
            "grid_auto_rows": null,
            "grid_column": null,
            "grid_gap": null,
            "grid_row": null,
            "grid_template_areas": null,
            "grid_template_columns": null,
            "grid_template_rows": null,
            "height": null,
            "justify_content": null,
            "justify_items": null,
            "left": null,
            "margin": null,
            "max_height": null,
            "max_width": null,
            "min_height": null,
            "min_width": null,
            "object_fit": null,
            "object_position": null,
            "order": null,
            "overflow": null,
            "overflow_x": null,
            "overflow_y": null,
            "padding": null,
            "right": null,
            "top": null,
            "visibility": null,
            "width": null
          }
        },
        "17dd3f6fd0ef456e873b2a2b4c825904": {
          "model_module": "@jupyter-widgets/base",
          "model_name": "LayoutModel",
          "model_module_version": "1.2.0",
          "state": {
            "_model_module": "@jupyter-widgets/base",
            "_model_module_version": "1.2.0",
            "_model_name": "LayoutModel",
            "_view_count": null,
            "_view_module": "@jupyter-widgets/base",
            "_view_module_version": "1.2.0",
            "_view_name": "LayoutView",
            "align_content": null,
            "align_items": null,
            "align_self": null,
            "border": null,
            "bottom": null,
            "display": null,
            "flex": null,
            "flex_flow": null,
            "grid_area": null,
            "grid_auto_columns": null,
            "grid_auto_flow": null,
            "grid_auto_rows": null,
            "grid_column": null,
            "grid_gap": null,
            "grid_row": null,
            "grid_template_areas": null,
            "grid_template_columns": null,
            "grid_template_rows": null,
            "height": null,
            "justify_content": null,
            "justify_items": null,
            "left": null,
            "margin": null,
            "max_height": null,
            "max_width": null,
            "min_height": null,
            "min_width": null,
            "object_fit": null,
            "object_position": null,
            "order": null,
            "overflow": null,
            "overflow_x": null,
            "overflow_y": null,
            "padding": null,
            "right": null,
            "top": null,
            "visibility": null,
            "width": null
          }
        },
        "f6109e095cf2407488afefb8f3781448": {
          "model_module": "@jupyter-widgets/controls",
          "model_name": "DescriptionStyleModel",
          "model_module_version": "1.5.0",
          "state": {
            "_model_module": "@jupyter-widgets/controls",
            "_model_module_version": "1.5.0",
            "_model_name": "DescriptionStyleModel",
            "_view_count": null,
            "_view_module": "@jupyter-widgets/base",
            "_view_module_version": "1.2.0",
            "_view_name": "StyleView",
            "description_width": ""
          }
        },
        "3f3c640389b54af3a1d0bdadb6848ce8": {
          "model_module": "@jupyter-widgets/base",
          "model_name": "LayoutModel",
          "model_module_version": "1.2.0",
          "state": {
            "_model_module": "@jupyter-widgets/base",
            "_model_module_version": "1.2.0",
            "_model_name": "LayoutModel",
            "_view_count": null,
            "_view_module": "@jupyter-widgets/base",
            "_view_module_version": "1.2.0",
            "_view_name": "LayoutView",
            "align_content": null,
            "align_items": null,
            "align_self": null,
            "border": null,
            "bottom": null,
            "display": null,
            "flex": null,
            "flex_flow": null,
            "grid_area": null,
            "grid_auto_columns": null,
            "grid_auto_flow": null,
            "grid_auto_rows": null,
            "grid_column": null,
            "grid_gap": null,
            "grid_row": null,
            "grid_template_areas": null,
            "grid_template_columns": null,
            "grid_template_rows": null,
            "height": null,
            "justify_content": null,
            "justify_items": null,
            "left": null,
            "margin": null,
            "max_height": null,
            "max_width": null,
            "min_height": null,
            "min_width": null,
            "object_fit": null,
            "object_position": null,
            "order": null,
            "overflow": null,
            "overflow_x": null,
            "overflow_y": null,
            "padding": null,
            "right": null,
            "top": null,
            "visibility": null,
            "width": null
          }
        },
        "db56ff2220d94f64a3a07e47759d0fb6": {
          "model_module": "@jupyter-widgets/controls",
          "model_name": "ProgressStyleModel",
          "model_module_version": "1.5.0",
          "state": {
            "_model_module": "@jupyter-widgets/controls",
            "_model_module_version": "1.5.0",
            "_model_name": "ProgressStyleModel",
            "_view_count": null,
            "_view_module": "@jupyter-widgets/base",
            "_view_module_version": "1.2.0",
            "_view_name": "StyleView",
            "bar_color": null,
            "description_width": ""
          }
        },
        "eded6b4446154c0d8f6c35f6bee77e45": {
          "model_module": "@jupyter-widgets/base",
          "model_name": "LayoutModel",
          "model_module_version": "1.2.0",
          "state": {
            "_model_module": "@jupyter-widgets/base",
            "_model_module_version": "1.2.0",
            "_model_name": "LayoutModel",
            "_view_count": null,
            "_view_module": "@jupyter-widgets/base",
            "_view_module_version": "1.2.0",
            "_view_name": "LayoutView",
            "align_content": null,
            "align_items": null,
            "align_self": null,
            "border": null,
            "bottom": null,
            "display": null,
            "flex": null,
            "flex_flow": null,
            "grid_area": null,
            "grid_auto_columns": null,
            "grid_auto_flow": null,
            "grid_auto_rows": null,
            "grid_column": null,
            "grid_gap": null,
            "grid_row": null,
            "grid_template_areas": null,
            "grid_template_columns": null,
            "grid_template_rows": null,
            "height": null,
            "justify_content": null,
            "justify_items": null,
            "left": null,
            "margin": null,
            "max_height": null,
            "max_width": null,
            "min_height": null,
            "min_width": null,
            "object_fit": null,
            "object_position": null,
            "order": null,
            "overflow": null,
            "overflow_x": null,
            "overflow_y": null,
            "padding": null,
            "right": null,
            "top": null,
            "visibility": null,
            "width": null
          }
        },
        "67a3ce9fbc2e488fa317006e6c9cf09f": {
          "model_module": "@jupyter-widgets/controls",
          "model_name": "DescriptionStyleModel",
          "model_module_version": "1.5.0",
          "state": {
            "_model_module": "@jupyter-widgets/controls",
            "_model_module_version": "1.5.0",
            "_model_name": "DescriptionStyleModel",
            "_view_count": null,
            "_view_module": "@jupyter-widgets/base",
            "_view_module_version": "1.2.0",
            "_view_name": "StyleView",
            "description_width": ""
          }
        },
        "43dd2f484077431b952f882d499f680e": {
          "model_module": "@jupyter-widgets/controls",
          "model_name": "HBoxModel",
          "model_module_version": "1.5.0",
          "state": {
            "_dom_classes": [],
            "_model_module": "@jupyter-widgets/controls",
            "_model_module_version": "1.5.0",
            "_model_name": "HBoxModel",
            "_view_count": null,
            "_view_module": "@jupyter-widgets/controls",
            "_view_module_version": "1.5.0",
            "_view_name": "HBoxView",
            "box_style": "",
            "children": [
              "IPY_MODEL_26c003d756a4451898fc7538af0325b3",
              "IPY_MODEL_9b551a4a6be648c09a39b6a236cba18f",
              "IPY_MODEL_ca0dc00497bc454a831950873b69dcc3"
            ],
            "layout": "IPY_MODEL_3909fc88f9e54e9d9a8736e2520de382"
          }
        },
        "26c003d756a4451898fc7538af0325b3": {
          "model_module": "@jupyter-widgets/controls",
          "model_name": "HTMLModel",
          "model_module_version": "1.5.0",
          "state": {
            "_dom_classes": [],
            "_model_module": "@jupyter-widgets/controls",
            "_model_module_version": "1.5.0",
            "_model_name": "HTMLModel",
            "_view_count": null,
            "_view_module": "@jupyter-widgets/controls",
            "_view_module_version": "1.5.0",
            "_view_name": "HTMLView",
            "description": "",
            "description_tooltip": null,
            "layout": "IPY_MODEL_8ca1b89f34aa4530ab03d2e0f4aa67c2",
            "placeholder": "​",
            "style": "IPY_MODEL_4255f56d28944f6e835bebf470fae4bc",
            "value": "Downloading data files: 100%"
          }
        },
        "9b551a4a6be648c09a39b6a236cba18f": {
          "model_module": "@jupyter-widgets/controls",
          "model_name": "FloatProgressModel",
          "model_module_version": "1.5.0",
          "state": {
            "_dom_classes": [],
            "_model_module": "@jupyter-widgets/controls",
            "_model_module_version": "1.5.0",
            "_model_name": "FloatProgressModel",
            "_view_count": null,
            "_view_module": "@jupyter-widgets/controls",
            "_view_module_version": "1.5.0",
            "_view_name": "ProgressView",
            "bar_style": "success",
            "description": "",
            "description_tooltip": null,
            "layout": "IPY_MODEL_456b3d5773e64fb1aaffbfc2dc8d4690",
            "max": 1,
            "min": 0,
            "orientation": "horizontal",
            "style": "IPY_MODEL_d0d2234e41c34858bfe8d2c6d4d4324a",
            "value": 1
          }
        },
        "ca0dc00497bc454a831950873b69dcc3": {
          "model_module": "@jupyter-widgets/controls",
          "model_name": "HTMLModel",
          "model_module_version": "1.5.0",
          "state": {
            "_dom_classes": [],
            "_model_module": "@jupyter-widgets/controls",
            "_model_module_version": "1.5.0",
            "_model_name": "HTMLModel",
            "_view_count": null,
            "_view_module": "@jupyter-widgets/controls",
            "_view_module_version": "1.5.0",
            "_view_name": "HTMLView",
            "description": "",
            "description_tooltip": null,
            "layout": "IPY_MODEL_18de96eb47f04cdc828eb83459f43600",
            "placeholder": "​",
            "style": "IPY_MODEL_60fb5005e2864be0be054c76dad62ac2",
            "value": " 1/1 [00:00&lt;00:00, 56.36it/s]"
          }
        },
        "3909fc88f9e54e9d9a8736e2520de382": {
          "model_module": "@jupyter-widgets/base",
          "model_name": "LayoutModel",
          "model_module_version": "1.2.0",
          "state": {
            "_model_module": "@jupyter-widgets/base",
            "_model_module_version": "1.2.0",
            "_model_name": "LayoutModel",
            "_view_count": null,
            "_view_module": "@jupyter-widgets/base",
            "_view_module_version": "1.2.0",
            "_view_name": "LayoutView",
            "align_content": null,
            "align_items": null,
            "align_self": null,
            "border": null,
            "bottom": null,
            "display": null,
            "flex": null,
            "flex_flow": null,
            "grid_area": null,
            "grid_auto_columns": null,
            "grid_auto_flow": null,
            "grid_auto_rows": null,
            "grid_column": null,
            "grid_gap": null,
            "grid_row": null,
            "grid_template_areas": null,
            "grid_template_columns": null,
            "grid_template_rows": null,
            "height": null,
            "justify_content": null,
            "justify_items": null,
            "left": null,
            "margin": null,
            "max_height": null,
            "max_width": null,
            "min_height": null,
            "min_width": null,
            "object_fit": null,
            "object_position": null,
            "order": null,
            "overflow": null,
            "overflow_x": null,
            "overflow_y": null,
            "padding": null,
            "right": null,
            "top": null,
            "visibility": null,
            "width": null
          }
        },
        "8ca1b89f34aa4530ab03d2e0f4aa67c2": {
          "model_module": "@jupyter-widgets/base",
          "model_name": "LayoutModel",
          "model_module_version": "1.2.0",
          "state": {
            "_model_module": "@jupyter-widgets/base",
            "_model_module_version": "1.2.0",
            "_model_name": "LayoutModel",
            "_view_count": null,
            "_view_module": "@jupyter-widgets/base",
            "_view_module_version": "1.2.0",
            "_view_name": "LayoutView",
            "align_content": null,
            "align_items": null,
            "align_self": null,
            "border": null,
            "bottom": null,
            "display": null,
            "flex": null,
            "flex_flow": null,
            "grid_area": null,
            "grid_auto_columns": null,
            "grid_auto_flow": null,
            "grid_auto_rows": null,
            "grid_column": null,
            "grid_gap": null,
            "grid_row": null,
            "grid_template_areas": null,
            "grid_template_columns": null,
            "grid_template_rows": null,
            "height": null,
            "justify_content": null,
            "justify_items": null,
            "left": null,
            "margin": null,
            "max_height": null,
            "max_width": null,
            "min_height": null,
            "min_width": null,
            "object_fit": null,
            "object_position": null,
            "order": null,
            "overflow": null,
            "overflow_x": null,
            "overflow_y": null,
            "padding": null,
            "right": null,
            "top": null,
            "visibility": null,
            "width": null
          }
        },
        "4255f56d28944f6e835bebf470fae4bc": {
          "model_module": "@jupyter-widgets/controls",
          "model_name": "DescriptionStyleModel",
          "model_module_version": "1.5.0",
          "state": {
            "_model_module": "@jupyter-widgets/controls",
            "_model_module_version": "1.5.0",
            "_model_name": "DescriptionStyleModel",
            "_view_count": null,
            "_view_module": "@jupyter-widgets/base",
            "_view_module_version": "1.2.0",
            "_view_name": "StyleView",
            "description_width": ""
          }
        },
        "456b3d5773e64fb1aaffbfc2dc8d4690": {
          "model_module": "@jupyter-widgets/base",
          "model_name": "LayoutModel",
          "model_module_version": "1.2.0",
          "state": {
            "_model_module": "@jupyter-widgets/base",
            "_model_module_version": "1.2.0",
            "_model_name": "LayoutModel",
            "_view_count": null,
            "_view_module": "@jupyter-widgets/base",
            "_view_module_version": "1.2.0",
            "_view_name": "LayoutView",
            "align_content": null,
            "align_items": null,
            "align_self": null,
            "border": null,
            "bottom": null,
            "display": null,
            "flex": null,
            "flex_flow": null,
            "grid_area": null,
            "grid_auto_columns": null,
            "grid_auto_flow": null,
            "grid_auto_rows": null,
            "grid_column": null,
            "grid_gap": null,
            "grid_row": null,
            "grid_template_areas": null,
            "grid_template_columns": null,
            "grid_template_rows": null,
            "height": null,
            "justify_content": null,
            "justify_items": null,
            "left": null,
            "margin": null,
            "max_height": null,
            "max_width": null,
            "min_height": null,
            "min_width": null,
            "object_fit": null,
            "object_position": null,
            "order": null,
            "overflow": null,
            "overflow_x": null,
            "overflow_y": null,
            "padding": null,
            "right": null,
            "top": null,
            "visibility": null,
            "width": null
          }
        },
        "d0d2234e41c34858bfe8d2c6d4d4324a": {
          "model_module": "@jupyter-widgets/controls",
          "model_name": "ProgressStyleModel",
          "model_module_version": "1.5.0",
          "state": {
            "_model_module": "@jupyter-widgets/controls",
            "_model_module_version": "1.5.0",
            "_model_name": "ProgressStyleModel",
            "_view_count": null,
            "_view_module": "@jupyter-widgets/base",
            "_view_module_version": "1.2.0",
            "_view_name": "StyleView",
            "bar_color": null,
            "description_width": ""
          }
        },
        "18de96eb47f04cdc828eb83459f43600": {
          "model_module": "@jupyter-widgets/base",
          "model_name": "LayoutModel",
          "model_module_version": "1.2.0",
          "state": {
            "_model_module": "@jupyter-widgets/base",
            "_model_module_version": "1.2.0",
            "_model_name": "LayoutModel",
            "_view_count": null,
            "_view_module": "@jupyter-widgets/base",
            "_view_module_version": "1.2.0",
            "_view_name": "LayoutView",
            "align_content": null,
            "align_items": null,
            "align_self": null,
            "border": null,
            "bottom": null,
            "display": null,
            "flex": null,
            "flex_flow": null,
            "grid_area": null,
            "grid_auto_columns": null,
            "grid_auto_flow": null,
            "grid_auto_rows": null,
            "grid_column": null,
            "grid_gap": null,
            "grid_row": null,
            "grid_template_areas": null,
            "grid_template_columns": null,
            "grid_template_rows": null,
            "height": null,
            "justify_content": null,
            "justify_items": null,
            "left": null,
            "margin": null,
            "max_height": null,
            "max_width": null,
            "min_height": null,
            "min_width": null,
            "object_fit": null,
            "object_position": null,
            "order": null,
            "overflow": null,
            "overflow_x": null,
            "overflow_y": null,
            "padding": null,
            "right": null,
            "top": null,
            "visibility": null,
            "width": null
          }
        },
        "60fb5005e2864be0be054c76dad62ac2": {
          "model_module": "@jupyter-widgets/controls",
          "model_name": "DescriptionStyleModel",
          "model_module_version": "1.5.0",
          "state": {
            "_model_module": "@jupyter-widgets/controls",
            "_model_module_version": "1.5.0",
            "_model_name": "DescriptionStyleModel",
            "_view_count": null,
            "_view_module": "@jupyter-widgets/base",
            "_view_module_version": "1.2.0",
            "_view_name": "StyleView",
            "description_width": ""
          }
        },
        "f354695afda94734ba3ff0559eec54d8": {
          "model_module": "@jupyter-widgets/controls",
          "model_name": "HBoxModel",
          "model_module_version": "1.5.0",
          "state": {
            "_dom_classes": [],
            "_model_module": "@jupyter-widgets/controls",
            "_model_module_version": "1.5.0",
            "_model_name": "HBoxModel",
            "_view_count": null,
            "_view_module": "@jupyter-widgets/controls",
            "_view_module_version": "1.5.0",
            "_view_name": "HBoxView",
            "box_style": "",
            "children": [
              "IPY_MODEL_4cf138324e2b44d582dc05fb539e6004",
              "IPY_MODEL_f2495b152d0b4c809f80eefa48b57171",
              "IPY_MODEL_0b6dd5ec23a8422aa62fcbdc84d05d6b"
            ],
            "layout": "IPY_MODEL_654b30a065bc4c879e815b272ea4b09b"
          }
        },
        "4cf138324e2b44d582dc05fb539e6004": {
          "model_module": "@jupyter-widgets/controls",
          "model_name": "HTMLModel",
          "model_module_version": "1.5.0",
          "state": {
            "_dom_classes": [],
            "_model_module": "@jupyter-widgets/controls",
            "_model_module_version": "1.5.0",
            "_model_name": "HTMLModel",
            "_view_count": null,
            "_view_module": "@jupyter-widgets/controls",
            "_view_module_version": "1.5.0",
            "_view_name": "HTMLView",
            "description": "",
            "description_tooltip": null,
            "layout": "IPY_MODEL_791e50057bc34d6c9c19af1a136843bf",
            "placeholder": "​",
            "style": "IPY_MODEL_ed7f1ff694b34fa2bc123424a490159e",
            "value": "Extracting data files: 100%"
          }
        },
        "f2495b152d0b4c809f80eefa48b57171": {
          "model_module": "@jupyter-widgets/controls",
          "model_name": "FloatProgressModel",
          "model_module_version": "1.5.0",
          "state": {
            "_dom_classes": [],
            "_model_module": "@jupyter-widgets/controls",
            "_model_module_version": "1.5.0",
            "_model_name": "FloatProgressModel",
            "_view_count": null,
            "_view_module": "@jupyter-widgets/controls",
            "_view_module_version": "1.5.0",
            "_view_name": "ProgressView",
            "bar_style": "success",
            "description": "",
            "description_tooltip": null,
            "layout": "IPY_MODEL_6745057781304a259ee487c45f06172d",
            "max": 1,
            "min": 0,
            "orientation": "horizontal",
            "style": "IPY_MODEL_4826bc538ccd42cabbc3ca1ae89c38a8",
            "value": 1
          }
        },
        "0b6dd5ec23a8422aa62fcbdc84d05d6b": {
          "model_module": "@jupyter-widgets/controls",
          "model_name": "HTMLModel",
          "model_module_version": "1.5.0",
          "state": {
            "_dom_classes": [],
            "_model_module": "@jupyter-widgets/controls",
            "_model_module_version": "1.5.0",
            "_model_name": "HTMLModel",
            "_view_count": null,
            "_view_module": "@jupyter-widgets/controls",
            "_view_module_version": "1.5.0",
            "_view_name": "HTMLView",
            "description": "",
            "description_tooltip": null,
            "layout": "IPY_MODEL_074d5ef0ef8e4d1e84972e6be50e2d08",
            "placeholder": "​",
            "style": "IPY_MODEL_6dbd9bde63a04bb19938002427efa6fd",
            "value": " 1/1 [00:00&lt;00:00, 42.82it/s]"
          }
        },
        "654b30a065bc4c879e815b272ea4b09b": {
          "model_module": "@jupyter-widgets/base",
          "model_name": "LayoutModel",
          "model_module_version": "1.2.0",
          "state": {
            "_model_module": "@jupyter-widgets/base",
            "_model_module_version": "1.2.0",
            "_model_name": "LayoutModel",
            "_view_count": null,
            "_view_module": "@jupyter-widgets/base",
            "_view_module_version": "1.2.0",
            "_view_name": "LayoutView",
            "align_content": null,
            "align_items": null,
            "align_self": null,
            "border": null,
            "bottom": null,
            "display": null,
            "flex": null,
            "flex_flow": null,
            "grid_area": null,
            "grid_auto_columns": null,
            "grid_auto_flow": null,
            "grid_auto_rows": null,
            "grid_column": null,
            "grid_gap": null,
            "grid_row": null,
            "grid_template_areas": null,
            "grid_template_columns": null,
            "grid_template_rows": null,
            "height": null,
            "justify_content": null,
            "justify_items": null,
            "left": null,
            "margin": null,
            "max_height": null,
            "max_width": null,
            "min_height": null,
            "min_width": null,
            "object_fit": null,
            "object_position": null,
            "order": null,
            "overflow": null,
            "overflow_x": null,
            "overflow_y": null,
            "padding": null,
            "right": null,
            "top": null,
            "visibility": null,
            "width": null
          }
        },
        "791e50057bc34d6c9c19af1a136843bf": {
          "model_module": "@jupyter-widgets/base",
          "model_name": "LayoutModel",
          "model_module_version": "1.2.0",
          "state": {
            "_model_module": "@jupyter-widgets/base",
            "_model_module_version": "1.2.0",
            "_model_name": "LayoutModel",
            "_view_count": null,
            "_view_module": "@jupyter-widgets/base",
            "_view_module_version": "1.2.0",
            "_view_name": "LayoutView",
            "align_content": null,
            "align_items": null,
            "align_self": null,
            "border": null,
            "bottom": null,
            "display": null,
            "flex": null,
            "flex_flow": null,
            "grid_area": null,
            "grid_auto_columns": null,
            "grid_auto_flow": null,
            "grid_auto_rows": null,
            "grid_column": null,
            "grid_gap": null,
            "grid_row": null,
            "grid_template_areas": null,
            "grid_template_columns": null,
            "grid_template_rows": null,
            "height": null,
            "justify_content": null,
            "justify_items": null,
            "left": null,
            "margin": null,
            "max_height": null,
            "max_width": null,
            "min_height": null,
            "min_width": null,
            "object_fit": null,
            "object_position": null,
            "order": null,
            "overflow": null,
            "overflow_x": null,
            "overflow_y": null,
            "padding": null,
            "right": null,
            "top": null,
            "visibility": null,
            "width": null
          }
        },
        "ed7f1ff694b34fa2bc123424a490159e": {
          "model_module": "@jupyter-widgets/controls",
          "model_name": "DescriptionStyleModel",
          "model_module_version": "1.5.0",
          "state": {
            "_model_module": "@jupyter-widgets/controls",
            "_model_module_version": "1.5.0",
            "_model_name": "DescriptionStyleModel",
            "_view_count": null,
            "_view_module": "@jupyter-widgets/base",
            "_view_module_version": "1.2.0",
            "_view_name": "StyleView",
            "description_width": ""
          }
        },
        "6745057781304a259ee487c45f06172d": {
          "model_module": "@jupyter-widgets/base",
          "model_name": "LayoutModel",
          "model_module_version": "1.2.0",
          "state": {
            "_model_module": "@jupyter-widgets/base",
            "_model_module_version": "1.2.0",
            "_model_name": "LayoutModel",
            "_view_count": null,
            "_view_module": "@jupyter-widgets/base",
            "_view_module_version": "1.2.0",
            "_view_name": "LayoutView",
            "align_content": null,
            "align_items": null,
            "align_self": null,
            "border": null,
            "bottom": null,
            "display": null,
            "flex": null,
            "flex_flow": null,
            "grid_area": null,
            "grid_auto_columns": null,
            "grid_auto_flow": null,
            "grid_auto_rows": null,
            "grid_column": null,
            "grid_gap": null,
            "grid_row": null,
            "grid_template_areas": null,
            "grid_template_columns": null,
            "grid_template_rows": null,
            "height": null,
            "justify_content": null,
            "justify_items": null,
            "left": null,
            "margin": null,
            "max_height": null,
            "max_width": null,
            "min_height": null,
            "min_width": null,
            "object_fit": null,
            "object_position": null,
            "order": null,
            "overflow": null,
            "overflow_x": null,
            "overflow_y": null,
            "padding": null,
            "right": null,
            "top": null,
            "visibility": null,
            "width": null
          }
        },
        "4826bc538ccd42cabbc3ca1ae89c38a8": {
          "model_module": "@jupyter-widgets/controls",
          "model_name": "ProgressStyleModel",
          "model_module_version": "1.5.0",
          "state": {
            "_model_module": "@jupyter-widgets/controls",
            "_model_module_version": "1.5.0",
            "_model_name": "ProgressStyleModel",
            "_view_count": null,
            "_view_module": "@jupyter-widgets/base",
            "_view_module_version": "1.2.0",
            "_view_name": "StyleView",
            "bar_color": null,
            "description_width": ""
          }
        },
        "074d5ef0ef8e4d1e84972e6be50e2d08": {
          "model_module": "@jupyter-widgets/base",
          "model_name": "LayoutModel",
          "model_module_version": "1.2.0",
          "state": {
            "_model_module": "@jupyter-widgets/base",
            "_model_module_version": "1.2.0",
            "_model_name": "LayoutModel",
            "_view_count": null,
            "_view_module": "@jupyter-widgets/base",
            "_view_module_version": "1.2.0",
            "_view_name": "LayoutView",
            "align_content": null,
            "align_items": null,
            "align_self": null,
            "border": null,
            "bottom": null,
            "display": null,
            "flex": null,
            "flex_flow": null,
            "grid_area": null,
            "grid_auto_columns": null,
            "grid_auto_flow": null,
            "grid_auto_rows": null,
            "grid_column": null,
            "grid_gap": null,
            "grid_row": null,
            "grid_template_areas": null,
            "grid_template_columns": null,
            "grid_template_rows": null,
            "height": null,
            "justify_content": null,
            "justify_items": null,
            "left": null,
            "margin": null,
            "max_height": null,
            "max_width": null,
            "min_height": null,
            "min_width": null,
            "object_fit": null,
            "object_position": null,
            "order": null,
            "overflow": null,
            "overflow_x": null,
            "overflow_y": null,
            "padding": null,
            "right": null,
            "top": null,
            "visibility": null,
            "width": null
          }
        },
        "6dbd9bde63a04bb19938002427efa6fd": {
          "model_module": "@jupyter-widgets/controls",
          "model_name": "DescriptionStyleModel",
          "model_module_version": "1.5.0",
          "state": {
            "_model_module": "@jupyter-widgets/controls",
            "_model_module_version": "1.5.0",
            "_model_name": "DescriptionStyleModel",
            "_view_count": null,
            "_view_module": "@jupyter-widgets/base",
            "_view_module_version": "1.2.0",
            "_view_name": "StyleView",
            "description_width": ""
          }
        },
        "5251c5b2d2ae4b3ca105995d6bda9198": {
          "model_module": "@jupyter-widgets/controls",
          "model_name": "HBoxModel",
          "model_module_version": "1.5.0",
          "state": {
            "_dom_classes": [],
            "_model_module": "@jupyter-widgets/controls",
            "_model_module_version": "1.5.0",
            "_model_name": "HBoxModel",
            "_view_count": null,
            "_view_module": "@jupyter-widgets/controls",
            "_view_module_version": "1.5.0",
            "_view_name": "HBoxView",
            "box_style": "",
            "children": [
              "IPY_MODEL_0664096f1ac2430bb35aa19bc8a9f325",
              "IPY_MODEL_cbe2f4b703214b3daa356eddb8a2038c",
              "IPY_MODEL_5a8988ec4c4b41e292b196daf447ac6b"
            ],
            "layout": "IPY_MODEL_167d6b04ddd7475ba7de4a97d9a8770b"
          }
        },
        "0664096f1ac2430bb35aa19bc8a9f325": {
          "model_module": "@jupyter-widgets/controls",
          "model_name": "HTMLModel",
          "model_module_version": "1.5.0",
          "state": {
            "_dom_classes": [],
            "_model_module": "@jupyter-widgets/controls",
            "_model_module_version": "1.5.0",
            "_model_name": "HTMLModel",
            "_view_count": null,
            "_view_module": "@jupyter-widgets/controls",
            "_view_module_version": "1.5.0",
            "_view_name": "HTMLView",
            "description": "",
            "description_tooltip": null,
            "layout": "IPY_MODEL_f24ff08241d547728acf38a035f6c459",
            "placeholder": "​",
            "style": "IPY_MODEL_89014be70277427a8fc423a1ee5124b0",
            "value": "Generating train split: "
          }
        },
        "cbe2f4b703214b3daa356eddb8a2038c": {
          "model_module": "@jupyter-widgets/controls",
          "model_name": "FloatProgressModel",
          "model_module_version": "1.5.0",
          "state": {
            "_dom_classes": [],
            "_model_module": "@jupyter-widgets/controls",
            "_model_module_version": "1.5.0",
            "_model_name": "FloatProgressModel",
            "_view_count": null,
            "_view_module": "@jupyter-widgets/controls",
            "_view_module_version": "1.5.0",
            "_view_name": "ProgressView",
            "bar_style": "success",
            "description": "",
            "description_tooltip": null,
            "layout": "IPY_MODEL_3d9eec3da8eb426c8c4184448a5bfaf4",
            "max": 1,
            "min": 0,
            "orientation": "horizontal",
            "style": "IPY_MODEL_296109dce7414c93a87f58c674c9e144",
            "value": 1
          }
        },
        "5a8988ec4c4b41e292b196daf447ac6b": {
          "model_module": "@jupyter-widgets/controls",
          "model_name": "HTMLModel",
          "model_module_version": "1.5.0",
          "state": {
            "_dom_classes": [],
            "_model_module": "@jupyter-widgets/controls",
            "_model_module_version": "1.5.0",
            "_model_name": "HTMLModel",
            "_view_count": null,
            "_view_module": "@jupyter-widgets/controls",
            "_view_module_version": "1.5.0",
            "_view_name": "HTMLView",
            "description": "",
            "description_tooltip": null,
            "layout": "IPY_MODEL_30a35dc4bb1f4503895ff36be8eb82c5",
            "placeholder": "​",
            "style": "IPY_MODEL_8df99ebef9bc41fc83472825c478f0de",
            "value": " 14640/0 [00:00&lt;00:00, 186972.61 examples/s]"
          }
        },
        "167d6b04ddd7475ba7de4a97d9a8770b": {
          "model_module": "@jupyter-widgets/base",
          "model_name": "LayoutModel",
          "model_module_version": "1.2.0",
          "state": {
            "_model_module": "@jupyter-widgets/base",
            "_model_module_version": "1.2.0",
            "_model_name": "LayoutModel",
            "_view_count": null,
            "_view_module": "@jupyter-widgets/base",
            "_view_module_version": "1.2.0",
            "_view_name": "LayoutView",
            "align_content": null,
            "align_items": null,
            "align_self": null,
            "border": null,
            "bottom": null,
            "display": null,
            "flex": null,
            "flex_flow": null,
            "grid_area": null,
            "grid_auto_columns": null,
            "grid_auto_flow": null,
            "grid_auto_rows": null,
            "grid_column": null,
            "grid_gap": null,
            "grid_row": null,
            "grid_template_areas": null,
            "grid_template_columns": null,
            "grid_template_rows": null,
            "height": null,
            "justify_content": null,
            "justify_items": null,
            "left": null,
            "margin": null,
            "max_height": null,
            "max_width": null,
            "min_height": null,
            "min_width": null,
            "object_fit": null,
            "object_position": null,
            "order": null,
            "overflow": null,
            "overflow_x": null,
            "overflow_y": null,
            "padding": null,
            "right": null,
            "top": null,
            "visibility": null,
            "width": null
          }
        },
        "f24ff08241d547728acf38a035f6c459": {
          "model_module": "@jupyter-widgets/base",
          "model_name": "LayoutModel",
          "model_module_version": "1.2.0",
          "state": {
            "_model_module": "@jupyter-widgets/base",
            "_model_module_version": "1.2.0",
            "_model_name": "LayoutModel",
            "_view_count": null,
            "_view_module": "@jupyter-widgets/base",
            "_view_module_version": "1.2.0",
            "_view_name": "LayoutView",
            "align_content": null,
            "align_items": null,
            "align_self": null,
            "border": null,
            "bottom": null,
            "display": null,
            "flex": null,
            "flex_flow": null,
            "grid_area": null,
            "grid_auto_columns": null,
            "grid_auto_flow": null,
            "grid_auto_rows": null,
            "grid_column": null,
            "grid_gap": null,
            "grid_row": null,
            "grid_template_areas": null,
            "grid_template_columns": null,
            "grid_template_rows": null,
            "height": null,
            "justify_content": null,
            "justify_items": null,
            "left": null,
            "margin": null,
            "max_height": null,
            "max_width": null,
            "min_height": null,
            "min_width": null,
            "object_fit": null,
            "object_position": null,
            "order": null,
            "overflow": null,
            "overflow_x": null,
            "overflow_y": null,
            "padding": null,
            "right": null,
            "top": null,
            "visibility": null,
            "width": null
          }
        },
        "89014be70277427a8fc423a1ee5124b0": {
          "model_module": "@jupyter-widgets/controls",
          "model_name": "DescriptionStyleModel",
          "model_module_version": "1.5.0",
          "state": {
            "_model_module": "@jupyter-widgets/controls",
            "_model_module_version": "1.5.0",
            "_model_name": "DescriptionStyleModel",
            "_view_count": null,
            "_view_module": "@jupyter-widgets/base",
            "_view_module_version": "1.2.0",
            "_view_name": "StyleView",
            "description_width": ""
          }
        },
        "3d9eec3da8eb426c8c4184448a5bfaf4": {
          "model_module": "@jupyter-widgets/base",
          "model_name": "LayoutModel",
          "model_module_version": "1.2.0",
          "state": {
            "_model_module": "@jupyter-widgets/base",
            "_model_module_version": "1.2.0",
            "_model_name": "LayoutModel",
            "_view_count": null,
            "_view_module": "@jupyter-widgets/base",
            "_view_module_version": "1.2.0",
            "_view_name": "LayoutView",
            "align_content": null,
            "align_items": null,
            "align_self": null,
            "border": null,
            "bottom": null,
            "display": null,
            "flex": null,
            "flex_flow": null,
            "grid_area": null,
            "grid_auto_columns": null,
            "grid_auto_flow": null,
            "grid_auto_rows": null,
            "grid_column": null,
            "grid_gap": null,
            "grid_row": null,
            "grid_template_areas": null,
            "grid_template_columns": null,
            "grid_template_rows": null,
            "height": null,
            "justify_content": null,
            "justify_items": null,
            "left": null,
            "margin": null,
            "max_height": null,
            "max_width": null,
            "min_height": null,
            "min_width": null,
            "object_fit": null,
            "object_position": null,
            "order": null,
            "overflow": null,
            "overflow_x": null,
            "overflow_y": null,
            "padding": null,
            "right": null,
            "top": null,
            "visibility": null,
            "width": "20px"
          }
        },
        "296109dce7414c93a87f58c674c9e144": {
          "model_module": "@jupyter-widgets/controls",
          "model_name": "ProgressStyleModel",
          "model_module_version": "1.5.0",
          "state": {
            "_model_module": "@jupyter-widgets/controls",
            "_model_module_version": "1.5.0",
            "_model_name": "ProgressStyleModel",
            "_view_count": null,
            "_view_module": "@jupyter-widgets/base",
            "_view_module_version": "1.2.0",
            "_view_name": "StyleView",
            "bar_color": null,
            "description_width": ""
          }
        },
        "30a35dc4bb1f4503895ff36be8eb82c5": {
          "model_module": "@jupyter-widgets/base",
          "model_name": "LayoutModel",
          "model_module_version": "1.2.0",
          "state": {
            "_model_module": "@jupyter-widgets/base",
            "_model_module_version": "1.2.0",
            "_model_name": "LayoutModel",
            "_view_count": null,
            "_view_module": "@jupyter-widgets/base",
            "_view_module_version": "1.2.0",
            "_view_name": "LayoutView",
            "align_content": null,
            "align_items": null,
            "align_self": null,
            "border": null,
            "bottom": null,
            "display": null,
            "flex": null,
            "flex_flow": null,
            "grid_area": null,
            "grid_auto_columns": null,
            "grid_auto_flow": null,
            "grid_auto_rows": null,
            "grid_column": null,
            "grid_gap": null,
            "grid_row": null,
            "grid_template_areas": null,
            "grid_template_columns": null,
            "grid_template_rows": null,
            "height": null,
            "justify_content": null,
            "justify_items": null,
            "left": null,
            "margin": null,
            "max_height": null,
            "max_width": null,
            "min_height": null,
            "min_width": null,
            "object_fit": null,
            "object_position": null,
            "order": null,
            "overflow": null,
            "overflow_x": null,
            "overflow_y": null,
            "padding": null,
            "right": null,
            "top": null,
            "visibility": null,
            "width": null
          }
        },
        "8df99ebef9bc41fc83472825c478f0de": {
          "model_module": "@jupyter-widgets/controls",
          "model_name": "DescriptionStyleModel",
          "model_module_version": "1.5.0",
          "state": {
            "_model_module": "@jupyter-widgets/controls",
            "_model_module_version": "1.5.0",
            "_model_name": "DescriptionStyleModel",
            "_view_count": null,
            "_view_module": "@jupyter-widgets/base",
            "_view_module_version": "1.2.0",
            "_view_name": "StyleView",
            "description_width": ""
          }
        },
        "7d92918e1fd340bfb78a9176babf888c": {
          "model_module": "@jupyter-widgets/controls",
          "model_name": "HBoxModel",
          "model_module_version": "1.5.0",
          "state": {
            "_dom_classes": [],
            "_model_module": "@jupyter-widgets/controls",
            "_model_module_version": "1.5.0",
            "_model_name": "HBoxModel",
            "_view_count": null,
            "_view_module": "@jupyter-widgets/controls",
            "_view_module_version": "1.5.0",
            "_view_name": "HBoxView",
            "box_style": "",
            "children": [
              "IPY_MODEL_c5ab49cdb2414ad2968a4e3011a90ac5",
              "IPY_MODEL_f107fe94e560467f934eb960f8d66d4e",
              "IPY_MODEL_a7ee3e38ed0a4039b6f4365b3d4bc749"
            ],
            "layout": "IPY_MODEL_20cc7e13802b41ee9701109ae0090220"
          }
        },
        "c5ab49cdb2414ad2968a4e3011a90ac5": {
          "model_module": "@jupyter-widgets/controls",
          "model_name": "HTMLModel",
          "model_module_version": "1.5.0",
          "state": {
            "_dom_classes": [],
            "_model_module": "@jupyter-widgets/controls",
            "_model_module_version": "1.5.0",
            "_model_name": "HTMLModel",
            "_view_count": null,
            "_view_module": "@jupyter-widgets/controls",
            "_view_module_version": "1.5.0",
            "_view_name": "HTMLView",
            "description": "",
            "description_tooltip": null,
            "layout": "IPY_MODEL_7edaf1620ad14d78917ab1bd755365c0",
            "placeholder": "​",
            "style": "IPY_MODEL_43d87284ba294bcf8bbbd99db5f79852",
            "value": "Downloading (…)okenizer_config.json: 100%"
          }
        },
        "f107fe94e560467f934eb960f8d66d4e": {
          "model_module": "@jupyter-widgets/controls",
          "model_name": "FloatProgressModel",
          "model_module_version": "1.5.0",
          "state": {
            "_dom_classes": [],
            "_model_module": "@jupyter-widgets/controls",
            "_model_module_version": "1.5.0",
            "_model_name": "FloatProgressModel",
            "_view_count": null,
            "_view_module": "@jupyter-widgets/controls",
            "_view_module_version": "1.5.0",
            "_view_name": "ProgressView",
            "bar_style": "success",
            "description": "",
            "description_tooltip": null,
            "layout": "IPY_MODEL_773cdf3b8b124545be7505074c39c3c4",
            "max": 29,
            "min": 0,
            "orientation": "horizontal",
            "style": "IPY_MODEL_2bf7001dfa5041bf999bdcb35bd69039",
            "value": 29
          }
        },
        "a7ee3e38ed0a4039b6f4365b3d4bc749": {
          "model_module": "@jupyter-widgets/controls",
          "model_name": "HTMLModel",
          "model_module_version": "1.5.0",
          "state": {
            "_dom_classes": [],
            "_model_module": "@jupyter-widgets/controls",
            "_model_module_version": "1.5.0",
            "_model_name": "HTMLModel",
            "_view_count": null,
            "_view_module": "@jupyter-widgets/controls",
            "_view_module_version": "1.5.0",
            "_view_name": "HTMLView",
            "description": "",
            "description_tooltip": null,
            "layout": "IPY_MODEL_b23f46a4d9314775b35dcea4b91afba9",
            "placeholder": "​",
            "style": "IPY_MODEL_3d8d1838fa2d41409b35a4cdaea07820",
            "value": " 29.0/29.0 [00:00&lt;00:00, 1.88kB/s]"
          }
        },
        "20cc7e13802b41ee9701109ae0090220": {
          "model_module": "@jupyter-widgets/base",
          "model_name": "LayoutModel",
          "model_module_version": "1.2.0",
          "state": {
            "_model_module": "@jupyter-widgets/base",
            "_model_module_version": "1.2.0",
            "_model_name": "LayoutModel",
            "_view_count": null,
            "_view_module": "@jupyter-widgets/base",
            "_view_module_version": "1.2.0",
            "_view_name": "LayoutView",
            "align_content": null,
            "align_items": null,
            "align_self": null,
            "border": null,
            "bottom": null,
            "display": null,
            "flex": null,
            "flex_flow": null,
            "grid_area": null,
            "grid_auto_columns": null,
            "grid_auto_flow": null,
            "grid_auto_rows": null,
            "grid_column": null,
            "grid_gap": null,
            "grid_row": null,
            "grid_template_areas": null,
            "grid_template_columns": null,
            "grid_template_rows": null,
            "height": null,
            "justify_content": null,
            "justify_items": null,
            "left": null,
            "margin": null,
            "max_height": null,
            "max_width": null,
            "min_height": null,
            "min_width": null,
            "object_fit": null,
            "object_position": null,
            "order": null,
            "overflow": null,
            "overflow_x": null,
            "overflow_y": null,
            "padding": null,
            "right": null,
            "top": null,
            "visibility": null,
            "width": null
          }
        },
        "7edaf1620ad14d78917ab1bd755365c0": {
          "model_module": "@jupyter-widgets/base",
          "model_name": "LayoutModel",
          "model_module_version": "1.2.0",
          "state": {
            "_model_module": "@jupyter-widgets/base",
            "_model_module_version": "1.2.0",
            "_model_name": "LayoutModel",
            "_view_count": null,
            "_view_module": "@jupyter-widgets/base",
            "_view_module_version": "1.2.0",
            "_view_name": "LayoutView",
            "align_content": null,
            "align_items": null,
            "align_self": null,
            "border": null,
            "bottom": null,
            "display": null,
            "flex": null,
            "flex_flow": null,
            "grid_area": null,
            "grid_auto_columns": null,
            "grid_auto_flow": null,
            "grid_auto_rows": null,
            "grid_column": null,
            "grid_gap": null,
            "grid_row": null,
            "grid_template_areas": null,
            "grid_template_columns": null,
            "grid_template_rows": null,
            "height": null,
            "justify_content": null,
            "justify_items": null,
            "left": null,
            "margin": null,
            "max_height": null,
            "max_width": null,
            "min_height": null,
            "min_width": null,
            "object_fit": null,
            "object_position": null,
            "order": null,
            "overflow": null,
            "overflow_x": null,
            "overflow_y": null,
            "padding": null,
            "right": null,
            "top": null,
            "visibility": null,
            "width": null
          }
        },
        "43d87284ba294bcf8bbbd99db5f79852": {
          "model_module": "@jupyter-widgets/controls",
          "model_name": "DescriptionStyleModel",
          "model_module_version": "1.5.0",
          "state": {
            "_model_module": "@jupyter-widgets/controls",
            "_model_module_version": "1.5.0",
            "_model_name": "DescriptionStyleModel",
            "_view_count": null,
            "_view_module": "@jupyter-widgets/base",
            "_view_module_version": "1.2.0",
            "_view_name": "StyleView",
            "description_width": ""
          }
        },
        "773cdf3b8b124545be7505074c39c3c4": {
          "model_module": "@jupyter-widgets/base",
          "model_name": "LayoutModel",
          "model_module_version": "1.2.0",
          "state": {
            "_model_module": "@jupyter-widgets/base",
            "_model_module_version": "1.2.0",
            "_model_name": "LayoutModel",
            "_view_count": null,
            "_view_module": "@jupyter-widgets/base",
            "_view_module_version": "1.2.0",
            "_view_name": "LayoutView",
            "align_content": null,
            "align_items": null,
            "align_self": null,
            "border": null,
            "bottom": null,
            "display": null,
            "flex": null,
            "flex_flow": null,
            "grid_area": null,
            "grid_auto_columns": null,
            "grid_auto_flow": null,
            "grid_auto_rows": null,
            "grid_column": null,
            "grid_gap": null,
            "grid_row": null,
            "grid_template_areas": null,
            "grid_template_columns": null,
            "grid_template_rows": null,
            "height": null,
            "justify_content": null,
            "justify_items": null,
            "left": null,
            "margin": null,
            "max_height": null,
            "max_width": null,
            "min_height": null,
            "min_width": null,
            "object_fit": null,
            "object_position": null,
            "order": null,
            "overflow": null,
            "overflow_x": null,
            "overflow_y": null,
            "padding": null,
            "right": null,
            "top": null,
            "visibility": null,
            "width": null
          }
        },
        "2bf7001dfa5041bf999bdcb35bd69039": {
          "model_module": "@jupyter-widgets/controls",
          "model_name": "ProgressStyleModel",
          "model_module_version": "1.5.0",
          "state": {
            "_model_module": "@jupyter-widgets/controls",
            "_model_module_version": "1.5.0",
            "_model_name": "ProgressStyleModel",
            "_view_count": null,
            "_view_module": "@jupyter-widgets/base",
            "_view_module_version": "1.2.0",
            "_view_name": "StyleView",
            "bar_color": null,
            "description_width": ""
          }
        },
        "b23f46a4d9314775b35dcea4b91afba9": {
          "model_module": "@jupyter-widgets/base",
          "model_name": "LayoutModel",
          "model_module_version": "1.2.0",
          "state": {
            "_model_module": "@jupyter-widgets/base",
            "_model_module_version": "1.2.0",
            "_model_name": "LayoutModel",
            "_view_count": null,
            "_view_module": "@jupyter-widgets/base",
            "_view_module_version": "1.2.0",
            "_view_name": "LayoutView",
            "align_content": null,
            "align_items": null,
            "align_self": null,
            "border": null,
            "bottom": null,
            "display": null,
            "flex": null,
            "flex_flow": null,
            "grid_area": null,
            "grid_auto_columns": null,
            "grid_auto_flow": null,
            "grid_auto_rows": null,
            "grid_column": null,
            "grid_gap": null,
            "grid_row": null,
            "grid_template_areas": null,
            "grid_template_columns": null,
            "grid_template_rows": null,
            "height": null,
            "justify_content": null,
            "justify_items": null,
            "left": null,
            "margin": null,
            "max_height": null,
            "max_width": null,
            "min_height": null,
            "min_width": null,
            "object_fit": null,
            "object_position": null,
            "order": null,
            "overflow": null,
            "overflow_x": null,
            "overflow_y": null,
            "padding": null,
            "right": null,
            "top": null,
            "visibility": null,
            "width": null
          }
        },
        "3d8d1838fa2d41409b35a4cdaea07820": {
          "model_module": "@jupyter-widgets/controls",
          "model_name": "DescriptionStyleModel",
          "model_module_version": "1.5.0",
          "state": {
            "_model_module": "@jupyter-widgets/controls",
            "_model_module_version": "1.5.0",
            "_model_name": "DescriptionStyleModel",
            "_view_count": null,
            "_view_module": "@jupyter-widgets/base",
            "_view_module_version": "1.2.0",
            "_view_name": "StyleView",
            "description_width": ""
          }
        },
        "4530d637b56f49589eaf637154dba7e8": {
          "model_module": "@jupyter-widgets/controls",
          "model_name": "HBoxModel",
          "model_module_version": "1.5.0",
          "state": {
            "_dom_classes": [],
            "_model_module": "@jupyter-widgets/controls",
            "_model_module_version": "1.5.0",
            "_model_name": "HBoxModel",
            "_view_count": null,
            "_view_module": "@jupyter-widgets/controls",
            "_view_module_version": "1.5.0",
            "_view_name": "HBoxView",
            "box_style": "",
            "children": [
              "IPY_MODEL_411a1e0895404f42b809b8703e43a30f",
              "IPY_MODEL_b04ddfd46a414301956eb7623e756346",
              "IPY_MODEL_d19ed90b56b144dbb98ef17c1004602c"
            ],
            "layout": "IPY_MODEL_61ffbdc4d7e5470a83b2b21daf9bc0bd"
          }
        },
        "411a1e0895404f42b809b8703e43a30f": {
          "model_module": "@jupyter-widgets/controls",
          "model_name": "HTMLModel",
          "model_module_version": "1.5.0",
          "state": {
            "_dom_classes": [],
            "_model_module": "@jupyter-widgets/controls",
            "_model_module_version": "1.5.0",
            "_model_name": "HTMLModel",
            "_view_count": null,
            "_view_module": "@jupyter-widgets/controls",
            "_view_module_version": "1.5.0",
            "_view_name": "HTMLView",
            "description": "",
            "description_tooltip": null,
            "layout": "IPY_MODEL_86c7f96dc41e4975945c3d8122ccc2dc",
            "placeholder": "​",
            "style": "IPY_MODEL_0101caf5d32d431f9b7d5498d7b2beba",
            "value": "Downloading (…)lve/main/config.json: 100%"
          }
        },
        "b04ddfd46a414301956eb7623e756346": {
          "model_module": "@jupyter-widgets/controls",
          "model_name": "FloatProgressModel",
          "model_module_version": "1.5.0",
          "state": {
            "_dom_classes": [],
            "_model_module": "@jupyter-widgets/controls",
            "_model_module_version": "1.5.0",
            "_model_name": "FloatProgressModel",
            "_view_count": null,
            "_view_module": "@jupyter-widgets/controls",
            "_view_module_version": "1.5.0",
            "_view_name": "ProgressView",
            "bar_style": "success",
            "description": "",
            "description_tooltip": null,
            "layout": "IPY_MODEL_bc0c43d572e3481ea6b2ef6413206646",
            "max": 411,
            "min": 0,
            "orientation": "horizontal",
            "style": "IPY_MODEL_652c0515f3b843ff832770b4be7bc120",
            "value": 411
          }
        },
        "d19ed90b56b144dbb98ef17c1004602c": {
          "model_module": "@jupyter-widgets/controls",
          "model_name": "HTMLModel",
          "model_module_version": "1.5.0",
          "state": {
            "_dom_classes": [],
            "_model_module": "@jupyter-widgets/controls",
            "_model_module_version": "1.5.0",
            "_model_name": "HTMLModel",
            "_view_count": null,
            "_view_module": "@jupyter-widgets/controls",
            "_view_module_version": "1.5.0",
            "_view_name": "HTMLView",
            "description": "",
            "description_tooltip": null,
            "layout": "IPY_MODEL_8be1cb29b29e4907bca7c08b64ba4fab",
            "placeholder": "​",
            "style": "IPY_MODEL_59465fa338c047cd8a74e9cb1556f990",
            "value": " 411/411 [00:00&lt;00:00, 29.7kB/s]"
          }
        },
        "61ffbdc4d7e5470a83b2b21daf9bc0bd": {
          "model_module": "@jupyter-widgets/base",
          "model_name": "LayoutModel",
          "model_module_version": "1.2.0",
          "state": {
            "_model_module": "@jupyter-widgets/base",
            "_model_module_version": "1.2.0",
            "_model_name": "LayoutModel",
            "_view_count": null,
            "_view_module": "@jupyter-widgets/base",
            "_view_module_version": "1.2.0",
            "_view_name": "LayoutView",
            "align_content": null,
            "align_items": null,
            "align_self": null,
            "border": null,
            "bottom": null,
            "display": null,
            "flex": null,
            "flex_flow": null,
            "grid_area": null,
            "grid_auto_columns": null,
            "grid_auto_flow": null,
            "grid_auto_rows": null,
            "grid_column": null,
            "grid_gap": null,
            "grid_row": null,
            "grid_template_areas": null,
            "grid_template_columns": null,
            "grid_template_rows": null,
            "height": null,
            "justify_content": null,
            "justify_items": null,
            "left": null,
            "margin": null,
            "max_height": null,
            "max_width": null,
            "min_height": null,
            "min_width": null,
            "object_fit": null,
            "object_position": null,
            "order": null,
            "overflow": null,
            "overflow_x": null,
            "overflow_y": null,
            "padding": null,
            "right": null,
            "top": null,
            "visibility": null,
            "width": null
          }
        },
        "86c7f96dc41e4975945c3d8122ccc2dc": {
          "model_module": "@jupyter-widgets/base",
          "model_name": "LayoutModel",
          "model_module_version": "1.2.0",
          "state": {
            "_model_module": "@jupyter-widgets/base",
            "_model_module_version": "1.2.0",
            "_model_name": "LayoutModel",
            "_view_count": null,
            "_view_module": "@jupyter-widgets/base",
            "_view_module_version": "1.2.0",
            "_view_name": "LayoutView",
            "align_content": null,
            "align_items": null,
            "align_self": null,
            "border": null,
            "bottom": null,
            "display": null,
            "flex": null,
            "flex_flow": null,
            "grid_area": null,
            "grid_auto_columns": null,
            "grid_auto_flow": null,
            "grid_auto_rows": null,
            "grid_column": null,
            "grid_gap": null,
            "grid_row": null,
            "grid_template_areas": null,
            "grid_template_columns": null,
            "grid_template_rows": null,
            "height": null,
            "justify_content": null,
            "justify_items": null,
            "left": null,
            "margin": null,
            "max_height": null,
            "max_width": null,
            "min_height": null,
            "min_width": null,
            "object_fit": null,
            "object_position": null,
            "order": null,
            "overflow": null,
            "overflow_x": null,
            "overflow_y": null,
            "padding": null,
            "right": null,
            "top": null,
            "visibility": null,
            "width": null
          }
        },
        "0101caf5d32d431f9b7d5498d7b2beba": {
          "model_module": "@jupyter-widgets/controls",
          "model_name": "DescriptionStyleModel",
          "model_module_version": "1.5.0",
          "state": {
            "_model_module": "@jupyter-widgets/controls",
            "_model_module_version": "1.5.0",
            "_model_name": "DescriptionStyleModel",
            "_view_count": null,
            "_view_module": "@jupyter-widgets/base",
            "_view_module_version": "1.2.0",
            "_view_name": "StyleView",
            "description_width": ""
          }
        },
        "bc0c43d572e3481ea6b2ef6413206646": {
          "model_module": "@jupyter-widgets/base",
          "model_name": "LayoutModel",
          "model_module_version": "1.2.0",
          "state": {
            "_model_module": "@jupyter-widgets/base",
            "_model_module_version": "1.2.0",
            "_model_name": "LayoutModel",
            "_view_count": null,
            "_view_module": "@jupyter-widgets/base",
            "_view_module_version": "1.2.0",
            "_view_name": "LayoutView",
            "align_content": null,
            "align_items": null,
            "align_self": null,
            "border": null,
            "bottom": null,
            "display": null,
            "flex": null,
            "flex_flow": null,
            "grid_area": null,
            "grid_auto_columns": null,
            "grid_auto_flow": null,
            "grid_auto_rows": null,
            "grid_column": null,
            "grid_gap": null,
            "grid_row": null,
            "grid_template_areas": null,
            "grid_template_columns": null,
            "grid_template_rows": null,
            "height": null,
            "justify_content": null,
            "justify_items": null,
            "left": null,
            "margin": null,
            "max_height": null,
            "max_width": null,
            "min_height": null,
            "min_width": null,
            "object_fit": null,
            "object_position": null,
            "order": null,
            "overflow": null,
            "overflow_x": null,
            "overflow_y": null,
            "padding": null,
            "right": null,
            "top": null,
            "visibility": null,
            "width": null
          }
        },
        "652c0515f3b843ff832770b4be7bc120": {
          "model_module": "@jupyter-widgets/controls",
          "model_name": "ProgressStyleModel",
          "model_module_version": "1.5.0",
          "state": {
            "_model_module": "@jupyter-widgets/controls",
            "_model_module_version": "1.5.0",
            "_model_name": "ProgressStyleModel",
            "_view_count": null,
            "_view_module": "@jupyter-widgets/base",
            "_view_module_version": "1.2.0",
            "_view_name": "StyleView",
            "bar_color": null,
            "description_width": ""
          }
        },
        "8be1cb29b29e4907bca7c08b64ba4fab": {
          "model_module": "@jupyter-widgets/base",
          "model_name": "LayoutModel",
          "model_module_version": "1.2.0",
          "state": {
            "_model_module": "@jupyter-widgets/base",
            "_model_module_version": "1.2.0",
            "_model_name": "LayoutModel",
            "_view_count": null,
            "_view_module": "@jupyter-widgets/base",
            "_view_module_version": "1.2.0",
            "_view_name": "LayoutView",
            "align_content": null,
            "align_items": null,
            "align_self": null,
            "border": null,
            "bottom": null,
            "display": null,
            "flex": null,
            "flex_flow": null,
            "grid_area": null,
            "grid_auto_columns": null,
            "grid_auto_flow": null,
            "grid_auto_rows": null,
            "grid_column": null,
            "grid_gap": null,
            "grid_row": null,
            "grid_template_areas": null,
            "grid_template_columns": null,
            "grid_template_rows": null,
            "height": null,
            "justify_content": null,
            "justify_items": null,
            "left": null,
            "margin": null,
            "max_height": null,
            "max_width": null,
            "min_height": null,
            "min_width": null,
            "object_fit": null,
            "object_position": null,
            "order": null,
            "overflow": null,
            "overflow_x": null,
            "overflow_y": null,
            "padding": null,
            "right": null,
            "top": null,
            "visibility": null,
            "width": null
          }
        },
        "59465fa338c047cd8a74e9cb1556f990": {
          "model_module": "@jupyter-widgets/controls",
          "model_name": "DescriptionStyleModel",
          "model_module_version": "1.5.0",
          "state": {
            "_model_module": "@jupyter-widgets/controls",
            "_model_module_version": "1.5.0",
            "_model_name": "DescriptionStyleModel",
            "_view_count": null,
            "_view_module": "@jupyter-widgets/base",
            "_view_module_version": "1.2.0",
            "_view_name": "StyleView",
            "description_width": ""
          }
        },
        "5f6907f1ca1440c79fe5e1b40842f423": {
          "model_module": "@jupyter-widgets/controls",
          "model_name": "HBoxModel",
          "model_module_version": "1.5.0",
          "state": {
            "_dom_classes": [],
            "_model_module": "@jupyter-widgets/controls",
            "_model_module_version": "1.5.0",
            "_model_name": "HBoxModel",
            "_view_count": null,
            "_view_module": "@jupyter-widgets/controls",
            "_view_module_version": "1.5.0",
            "_view_name": "HBoxView",
            "box_style": "",
            "children": [
              "IPY_MODEL_650a01d33c4b48d9b3eef71923e3433e",
              "IPY_MODEL_5c1f42e0435549878fb22858057b82be",
              "IPY_MODEL_873dcfbdc1db4137a5ddd9de00b06ce5"
            ],
            "layout": "IPY_MODEL_7d35054de91d4c1e9e56d4395c909837"
          }
        },
        "650a01d33c4b48d9b3eef71923e3433e": {
          "model_module": "@jupyter-widgets/controls",
          "model_name": "HTMLModel",
          "model_module_version": "1.5.0",
          "state": {
            "_dom_classes": [],
            "_model_module": "@jupyter-widgets/controls",
            "_model_module_version": "1.5.0",
            "_model_name": "HTMLModel",
            "_view_count": null,
            "_view_module": "@jupyter-widgets/controls",
            "_view_module_version": "1.5.0",
            "_view_name": "HTMLView",
            "description": "",
            "description_tooltip": null,
            "layout": "IPY_MODEL_fa21eace7a664eeda6a76ecb018c1a23",
            "placeholder": "​",
            "style": "IPY_MODEL_8f313af4a3ef4df0884d8b7574bb5241",
            "value": "Downloading (…)solve/main/vocab.txt: 100%"
          }
        },
        "5c1f42e0435549878fb22858057b82be": {
          "model_module": "@jupyter-widgets/controls",
          "model_name": "FloatProgressModel",
          "model_module_version": "1.5.0",
          "state": {
            "_dom_classes": [],
            "_model_module": "@jupyter-widgets/controls",
            "_model_module_version": "1.5.0",
            "_model_name": "FloatProgressModel",
            "_view_count": null,
            "_view_module": "@jupyter-widgets/controls",
            "_view_module_version": "1.5.0",
            "_view_name": "ProgressView",
            "bar_style": "success",
            "description": "",
            "description_tooltip": null,
            "layout": "IPY_MODEL_6c54d55a8041470890620a24eb81cc21",
            "max": 213450,
            "min": 0,
            "orientation": "horizontal",
            "style": "IPY_MODEL_7ac75efe2e454394aaebc74fac9604d1",
            "value": 213450
          }
        },
        "873dcfbdc1db4137a5ddd9de00b06ce5": {
          "model_module": "@jupyter-widgets/controls",
          "model_name": "HTMLModel",
          "model_module_version": "1.5.0",
          "state": {
            "_dom_classes": [],
            "_model_module": "@jupyter-widgets/controls",
            "_model_module_version": "1.5.0",
            "_model_name": "HTMLModel",
            "_view_count": null,
            "_view_module": "@jupyter-widgets/controls",
            "_view_module_version": "1.5.0",
            "_view_name": "HTMLView",
            "description": "",
            "description_tooltip": null,
            "layout": "IPY_MODEL_feca82957e6a464f967abae7706708e1",
            "placeholder": "​",
            "style": "IPY_MODEL_5b5c11914c1c4d8bb95ac6616fd81b2b",
            "value": " 213k/213k [00:00&lt;00:00, 869kB/s]"
          }
        },
        "7d35054de91d4c1e9e56d4395c909837": {
          "model_module": "@jupyter-widgets/base",
          "model_name": "LayoutModel",
          "model_module_version": "1.2.0",
          "state": {
            "_model_module": "@jupyter-widgets/base",
            "_model_module_version": "1.2.0",
            "_model_name": "LayoutModel",
            "_view_count": null,
            "_view_module": "@jupyter-widgets/base",
            "_view_module_version": "1.2.0",
            "_view_name": "LayoutView",
            "align_content": null,
            "align_items": null,
            "align_self": null,
            "border": null,
            "bottom": null,
            "display": null,
            "flex": null,
            "flex_flow": null,
            "grid_area": null,
            "grid_auto_columns": null,
            "grid_auto_flow": null,
            "grid_auto_rows": null,
            "grid_column": null,
            "grid_gap": null,
            "grid_row": null,
            "grid_template_areas": null,
            "grid_template_columns": null,
            "grid_template_rows": null,
            "height": null,
            "justify_content": null,
            "justify_items": null,
            "left": null,
            "margin": null,
            "max_height": null,
            "max_width": null,
            "min_height": null,
            "min_width": null,
            "object_fit": null,
            "object_position": null,
            "order": null,
            "overflow": null,
            "overflow_x": null,
            "overflow_y": null,
            "padding": null,
            "right": null,
            "top": null,
            "visibility": null,
            "width": null
          }
        },
        "fa21eace7a664eeda6a76ecb018c1a23": {
          "model_module": "@jupyter-widgets/base",
          "model_name": "LayoutModel",
          "model_module_version": "1.2.0",
          "state": {
            "_model_module": "@jupyter-widgets/base",
            "_model_module_version": "1.2.0",
            "_model_name": "LayoutModel",
            "_view_count": null,
            "_view_module": "@jupyter-widgets/base",
            "_view_module_version": "1.2.0",
            "_view_name": "LayoutView",
            "align_content": null,
            "align_items": null,
            "align_self": null,
            "border": null,
            "bottom": null,
            "display": null,
            "flex": null,
            "flex_flow": null,
            "grid_area": null,
            "grid_auto_columns": null,
            "grid_auto_flow": null,
            "grid_auto_rows": null,
            "grid_column": null,
            "grid_gap": null,
            "grid_row": null,
            "grid_template_areas": null,
            "grid_template_columns": null,
            "grid_template_rows": null,
            "height": null,
            "justify_content": null,
            "justify_items": null,
            "left": null,
            "margin": null,
            "max_height": null,
            "max_width": null,
            "min_height": null,
            "min_width": null,
            "object_fit": null,
            "object_position": null,
            "order": null,
            "overflow": null,
            "overflow_x": null,
            "overflow_y": null,
            "padding": null,
            "right": null,
            "top": null,
            "visibility": null,
            "width": null
          }
        },
        "8f313af4a3ef4df0884d8b7574bb5241": {
          "model_module": "@jupyter-widgets/controls",
          "model_name": "DescriptionStyleModel",
          "model_module_version": "1.5.0",
          "state": {
            "_model_module": "@jupyter-widgets/controls",
            "_model_module_version": "1.5.0",
            "_model_name": "DescriptionStyleModel",
            "_view_count": null,
            "_view_module": "@jupyter-widgets/base",
            "_view_module_version": "1.2.0",
            "_view_name": "StyleView",
            "description_width": ""
          }
        },
        "6c54d55a8041470890620a24eb81cc21": {
          "model_module": "@jupyter-widgets/base",
          "model_name": "LayoutModel",
          "model_module_version": "1.2.0",
          "state": {
            "_model_module": "@jupyter-widgets/base",
            "_model_module_version": "1.2.0",
            "_model_name": "LayoutModel",
            "_view_count": null,
            "_view_module": "@jupyter-widgets/base",
            "_view_module_version": "1.2.0",
            "_view_name": "LayoutView",
            "align_content": null,
            "align_items": null,
            "align_self": null,
            "border": null,
            "bottom": null,
            "display": null,
            "flex": null,
            "flex_flow": null,
            "grid_area": null,
            "grid_auto_columns": null,
            "grid_auto_flow": null,
            "grid_auto_rows": null,
            "grid_column": null,
            "grid_gap": null,
            "grid_row": null,
            "grid_template_areas": null,
            "grid_template_columns": null,
            "grid_template_rows": null,
            "height": null,
            "justify_content": null,
            "justify_items": null,
            "left": null,
            "margin": null,
            "max_height": null,
            "max_width": null,
            "min_height": null,
            "min_width": null,
            "object_fit": null,
            "object_position": null,
            "order": null,
            "overflow": null,
            "overflow_x": null,
            "overflow_y": null,
            "padding": null,
            "right": null,
            "top": null,
            "visibility": null,
            "width": null
          }
        },
        "7ac75efe2e454394aaebc74fac9604d1": {
          "model_module": "@jupyter-widgets/controls",
          "model_name": "ProgressStyleModel",
          "model_module_version": "1.5.0",
          "state": {
            "_model_module": "@jupyter-widgets/controls",
            "_model_module_version": "1.5.0",
            "_model_name": "ProgressStyleModel",
            "_view_count": null,
            "_view_module": "@jupyter-widgets/base",
            "_view_module_version": "1.2.0",
            "_view_name": "StyleView",
            "bar_color": null,
            "description_width": ""
          }
        },
        "feca82957e6a464f967abae7706708e1": {
          "model_module": "@jupyter-widgets/base",
          "model_name": "LayoutModel",
          "model_module_version": "1.2.0",
          "state": {
            "_model_module": "@jupyter-widgets/base",
            "_model_module_version": "1.2.0",
            "_model_name": "LayoutModel",
            "_view_count": null,
            "_view_module": "@jupyter-widgets/base",
            "_view_module_version": "1.2.0",
            "_view_name": "LayoutView",
            "align_content": null,
            "align_items": null,
            "align_self": null,
            "border": null,
            "bottom": null,
            "display": null,
            "flex": null,
            "flex_flow": null,
            "grid_area": null,
            "grid_auto_columns": null,
            "grid_auto_flow": null,
            "grid_auto_rows": null,
            "grid_column": null,
            "grid_gap": null,
            "grid_row": null,
            "grid_template_areas": null,
            "grid_template_columns": null,
            "grid_template_rows": null,
            "height": null,
            "justify_content": null,
            "justify_items": null,
            "left": null,
            "margin": null,
            "max_height": null,
            "max_width": null,
            "min_height": null,
            "min_width": null,
            "object_fit": null,
            "object_position": null,
            "order": null,
            "overflow": null,
            "overflow_x": null,
            "overflow_y": null,
            "padding": null,
            "right": null,
            "top": null,
            "visibility": null,
            "width": null
          }
        },
        "5b5c11914c1c4d8bb95ac6616fd81b2b": {
          "model_module": "@jupyter-widgets/controls",
          "model_name": "DescriptionStyleModel",
          "model_module_version": "1.5.0",
          "state": {
            "_model_module": "@jupyter-widgets/controls",
            "_model_module_version": "1.5.0",
            "_model_name": "DescriptionStyleModel",
            "_view_count": null,
            "_view_module": "@jupyter-widgets/base",
            "_view_module_version": "1.2.0",
            "_view_name": "StyleView",
            "description_width": ""
          }
        },
        "27502ff49b0f4ecab596a9694cd57fde": {
          "model_module": "@jupyter-widgets/controls",
          "model_name": "HBoxModel",
          "model_module_version": "1.5.0",
          "state": {
            "_dom_classes": [],
            "_model_module": "@jupyter-widgets/controls",
            "_model_module_version": "1.5.0",
            "_model_name": "HBoxModel",
            "_view_count": null,
            "_view_module": "@jupyter-widgets/controls",
            "_view_module_version": "1.5.0",
            "_view_name": "HBoxView",
            "box_style": "",
            "children": [
              "IPY_MODEL_82ddc38f437743f39b5b3382793ee503",
              "IPY_MODEL_d542eff1af9c40acba02ec4c148ee3ac",
              "IPY_MODEL_25d940697f0d482c9c6d8c5ff224f6f2"
            ],
            "layout": "IPY_MODEL_540f0cefbe964ea1a7caea271d277536"
          }
        },
        "82ddc38f437743f39b5b3382793ee503": {
          "model_module": "@jupyter-widgets/controls",
          "model_name": "HTMLModel",
          "model_module_version": "1.5.0",
          "state": {
            "_dom_classes": [],
            "_model_module": "@jupyter-widgets/controls",
            "_model_module_version": "1.5.0",
            "_model_name": "HTMLModel",
            "_view_count": null,
            "_view_module": "@jupyter-widgets/controls",
            "_view_module_version": "1.5.0",
            "_view_name": "HTMLView",
            "description": "",
            "description_tooltip": null,
            "layout": "IPY_MODEL_a3694866111b44b2bf35cfe1a85787a6",
            "placeholder": "​",
            "style": "IPY_MODEL_8dab1bdc38b54628b2ddb9e362aa3c8c",
            "value": "Downloading (…)/main/tokenizer.json: 100%"
          }
        },
        "d542eff1af9c40acba02ec4c148ee3ac": {
          "model_module": "@jupyter-widgets/controls",
          "model_name": "FloatProgressModel",
          "model_module_version": "1.5.0",
          "state": {
            "_dom_classes": [],
            "_model_module": "@jupyter-widgets/controls",
            "_model_module_version": "1.5.0",
            "_model_name": "FloatProgressModel",
            "_view_count": null,
            "_view_module": "@jupyter-widgets/controls",
            "_view_module_version": "1.5.0",
            "_view_name": "ProgressView",
            "bar_style": "success",
            "description": "",
            "description_tooltip": null,
            "layout": "IPY_MODEL_0f7f24efd090434081bd36ed5faf7dab",
            "max": 435797,
            "min": 0,
            "orientation": "horizontal",
            "style": "IPY_MODEL_a3ab8d2e0f3c49debe183e6506bc6a56",
            "value": 435797
          }
        },
        "25d940697f0d482c9c6d8c5ff224f6f2": {
          "model_module": "@jupyter-widgets/controls",
          "model_name": "HTMLModel",
          "model_module_version": "1.5.0",
          "state": {
            "_dom_classes": [],
            "_model_module": "@jupyter-widgets/controls",
            "_model_module_version": "1.5.0",
            "_model_name": "HTMLModel",
            "_view_count": null,
            "_view_module": "@jupyter-widgets/controls",
            "_view_module_version": "1.5.0",
            "_view_name": "HTMLView",
            "description": "",
            "description_tooltip": null,
            "layout": "IPY_MODEL_2e5e5b43af99453ab9f6c7a3fc9ead8e",
            "placeholder": "​",
            "style": "IPY_MODEL_ce4a0e8fdaed4fc59fcaeceb30319bfe",
            "value": " 436k/436k [00:00&lt;00:00, 26.1MB/s]"
          }
        },
        "540f0cefbe964ea1a7caea271d277536": {
          "model_module": "@jupyter-widgets/base",
          "model_name": "LayoutModel",
          "model_module_version": "1.2.0",
          "state": {
            "_model_module": "@jupyter-widgets/base",
            "_model_module_version": "1.2.0",
            "_model_name": "LayoutModel",
            "_view_count": null,
            "_view_module": "@jupyter-widgets/base",
            "_view_module_version": "1.2.0",
            "_view_name": "LayoutView",
            "align_content": null,
            "align_items": null,
            "align_self": null,
            "border": null,
            "bottom": null,
            "display": null,
            "flex": null,
            "flex_flow": null,
            "grid_area": null,
            "grid_auto_columns": null,
            "grid_auto_flow": null,
            "grid_auto_rows": null,
            "grid_column": null,
            "grid_gap": null,
            "grid_row": null,
            "grid_template_areas": null,
            "grid_template_columns": null,
            "grid_template_rows": null,
            "height": null,
            "justify_content": null,
            "justify_items": null,
            "left": null,
            "margin": null,
            "max_height": null,
            "max_width": null,
            "min_height": null,
            "min_width": null,
            "object_fit": null,
            "object_position": null,
            "order": null,
            "overflow": null,
            "overflow_x": null,
            "overflow_y": null,
            "padding": null,
            "right": null,
            "top": null,
            "visibility": null,
            "width": null
          }
        },
        "a3694866111b44b2bf35cfe1a85787a6": {
          "model_module": "@jupyter-widgets/base",
          "model_name": "LayoutModel",
          "model_module_version": "1.2.0",
          "state": {
            "_model_module": "@jupyter-widgets/base",
            "_model_module_version": "1.2.0",
            "_model_name": "LayoutModel",
            "_view_count": null,
            "_view_module": "@jupyter-widgets/base",
            "_view_module_version": "1.2.0",
            "_view_name": "LayoutView",
            "align_content": null,
            "align_items": null,
            "align_self": null,
            "border": null,
            "bottom": null,
            "display": null,
            "flex": null,
            "flex_flow": null,
            "grid_area": null,
            "grid_auto_columns": null,
            "grid_auto_flow": null,
            "grid_auto_rows": null,
            "grid_column": null,
            "grid_gap": null,
            "grid_row": null,
            "grid_template_areas": null,
            "grid_template_columns": null,
            "grid_template_rows": null,
            "height": null,
            "justify_content": null,
            "justify_items": null,
            "left": null,
            "margin": null,
            "max_height": null,
            "max_width": null,
            "min_height": null,
            "min_width": null,
            "object_fit": null,
            "object_position": null,
            "order": null,
            "overflow": null,
            "overflow_x": null,
            "overflow_y": null,
            "padding": null,
            "right": null,
            "top": null,
            "visibility": null,
            "width": null
          }
        },
        "8dab1bdc38b54628b2ddb9e362aa3c8c": {
          "model_module": "@jupyter-widgets/controls",
          "model_name": "DescriptionStyleModel",
          "model_module_version": "1.5.0",
          "state": {
            "_model_module": "@jupyter-widgets/controls",
            "_model_module_version": "1.5.0",
            "_model_name": "DescriptionStyleModel",
            "_view_count": null,
            "_view_module": "@jupyter-widgets/base",
            "_view_module_version": "1.2.0",
            "_view_name": "StyleView",
            "description_width": ""
          }
        },
        "0f7f24efd090434081bd36ed5faf7dab": {
          "model_module": "@jupyter-widgets/base",
          "model_name": "LayoutModel",
          "model_module_version": "1.2.0",
          "state": {
            "_model_module": "@jupyter-widgets/base",
            "_model_module_version": "1.2.0",
            "_model_name": "LayoutModel",
            "_view_count": null,
            "_view_module": "@jupyter-widgets/base",
            "_view_module_version": "1.2.0",
            "_view_name": "LayoutView",
            "align_content": null,
            "align_items": null,
            "align_self": null,
            "border": null,
            "bottom": null,
            "display": null,
            "flex": null,
            "flex_flow": null,
            "grid_area": null,
            "grid_auto_columns": null,
            "grid_auto_flow": null,
            "grid_auto_rows": null,
            "grid_column": null,
            "grid_gap": null,
            "grid_row": null,
            "grid_template_areas": null,
            "grid_template_columns": null,
            "grid_template_rows": null,
            "height": null,
            "justify_content": null,
            "justify_items": null,
            "left": null,
            "margin": null,
            "max_height": null,
            "max_width": null,
            "min_height": null,
            "min_width": null,
            "object_fit": null,
            "object_position": null,
            "order": null,
            "overflow": null,
            "overflow_x": null,
            "overflow_y": null,
            "padding": null,
            "right": null,
            "top": null,
            "visibility": null,
            "width": null
          }
        },
        "a3ab8d2e0f3c49debe183e6506bc6a56": {
          "model_module": "@jupyter-widgets/controls",
          "model_name": "ProgressStyleModel",
          "model_module_version": "1.5.0",
          "state": {
            "_model_module": "@jupyter-widgets/controls",
            "_model_module_version": "1.5.0",
            "_model_name": "ProgressStyleModel",
            "_view_count": null,
            "_view_module": "@jupyter-widgets/base",
            "_view_module_version": "1.2.0",
            "_view_name": "StyleView",
            "bar_color": null,
            "description_width": ""
          }
        },
        "2e5e5b43af99453ab9f6c7a3fc9ead8e": {
          "model_module": "@jupyter-widgets/base",
          "model_name": "LayoutModel",
          "model_module_version": "1.2.0",
          "state": {
            "_model_module": "@jupyter-widgets/base",
            "_model_module_version": "1.2.0",
            "_model_name": "LayoutModel",
            "_view_count": null,
            "_view_module": "@jupyter-widgets/base",
            "_view_module_version": "1.2.0",
            "_view_name": "LayoutView",
            "align_content": null,
            "align_items": null,
            "align_self": null,
            "border": null,
            "bottom": null,
            "display": null,
            "flex": null,
            "flex_flow": null,
            "grid_area": null,
            "grid_auto_columns": null,
            "grid_auto_flow": null,
            "grid_auto_rows": null,
            "grid_column": null,
            "grid_gap": null,
            "grid_row": null,
            "grid_template_areas": null,
            "grid_template_columns": null,
            "grid_template_rows": null,
            "height": null,
            "justify_content": null,
            "justify_items": null,
            "left": null,
            "margin": null,
            "max_height": null,
            "max_width": null,
            "min_height": null,
            "min_width": null,
            "object_fit": null,
            "object_position": null,
            "order": null,
            "overflow": null,
            "overflow_x": null,
            "overflow_y": null,
            "padding": null,
            "right": null,
            "top": null,
            "visibility": null,
            "width": null
          }
        },
        "ce4a0e8fdaed4fc59fcaeceb30319bfe": {
          "model_module": "@jupyter-widgets/controls",
          "model_name": "DescriptionStyleModel",
          "model_module_version": "1.5.0",
          "state": {
            "_model_module": "@jupyter-widgets/controls",
            "_model_module_version": "1.5.0",
            "_model_name": "DescriptionStyleModel",
            "_view_count": null,
            "_view_module": "@jupyter-widgets/base",
            "_view_module_version": "1.2.0",
            "_view_name": "StyleView",
            "description_width": ""
          }
        },
        "7a99c3e7b2aa4631b59e331c577c3eb6": {
          "model_module": "@jupyter-widgets/controls",
          "model_name": "HBoxModel",
          "model_module_version": "1.5.0",
          "state": {
            "_dom_classes": [],
            "_model_module": "@jupyter-widgets/controls",
            "_model_module_version": "1.5.0",
            "_model_name": "HBoxModel",
            "_view_count": null,
            "_view_module": "@jupyter-widgets/controls",
            "_view_module_version": "1.5.0",
            "_view_name": "HBoxView",
            "box_style": "",
            "children": [
              "IPY_MODEL_65209a017237436e8ca6ff0b05e57262",
              "IPY_MODEL_406c4a7b2de24370be77c0a04ecaf5c0",
              "IPY_MODEL_22683a03f7c3484ab486a7303b1af039"
            ],
            "layout": "IPY_MODEL_fff9bb7742c5419697d6e2b90c7e1b1d"
          }
        },
        "65209a017237436e8ca6ff0b05e57262": {
          "model_module": "@jupyter-widgets/controls",
          "model_name": "HTMLModel",
          "model_module_version": "1.5.0",
          "state": {
            "_dom_classes": [],
            "_model_module": "@jupyter-widgets/controls",
            "_model_module_version": "1.5.0",
            "_model_name": "HTMLModel",
            "_view_count": null,
            "_view_module": "@jupyter-widgets/controls",
            "_view_module_version": "1.5.0",
            "_view_name": "HTMLView",
            "description": "",
            "description_tooltip": null,
            "layout": "IPY_MODEL_00374449ce9f4400a6f2acc4ec73c765",
            "placeholder": "​",
            "style": "IPY_MODEL_05c4325449504abe812fa38eec402bb2",
            "value": "Map: 100%"
          }
        },
        "406c4a7b2de24370be77c0a04ecaf5c0": {
          "model_module": "@jupyter-widgets/controls",
          "model_name": "FloatProgressModel",
          "model_module_version": "1.5.0",
          "state": {
            "_dom_classes": [],
            "_model_module": "@jupyter-widgets/controls",
            "_model_module_version": "1.5.0",
            "_model_name": "FloatProgressModel",
            "_view_count": null,
            "_view_module": "@jupyter-widgets/controls",
            "_view_module_version": "1.5.0",
            "_view_name": "ProgressView",
            "bar_style": "success",
            "description": "",
            "description_tooltip": null,
            "layout": "IPY_MODEL_4c2b8cfd018d408a8ece4ccb6df47b77",
            "max": 10248,
            "min": 0,
            "orientation": "horizontal",
            "style": "IPY_MODEL_4615880717cf4d0fbf2b00886e1719b6",
            "value": 10248
          }
        },
        "22683a03f7c3484ab486a7303b1af039": {
          "model_module": "@jupyter-widgets/controls",
          "model_name": "HTMLModel",
          "model_module_version": "1.5.0",
          "state": {
            "_dom_classes": [],
            "_model_module": "@jupyter-widgets/controls",
            "_model_module_version": "1.5.0",
            "_model_name": "HTMLModel",
            "_view_count": null,
            "_view_module": "@jupyter-widgets/controls",
            "_view_module_version": "1.5.0",
            "_view_name": "HTMLView",
            "description": "",
            "description_tooltip": null,
            "layout": "IPY_MODEL_582d2b11ce4a429eabf287a6ceea373a",
            "placeholder": "​",
            "style": "IPY_MODEL_6db65a82ceaa49a890ff318559798f4d",
            "value": " 10248/10248 [00:01&lt;00:00, 8294.95 examples/s]"
          }
        },
        "fff9bb7742c5419697d6e2b90c7e1b1d": {
          "model_module": "@jupyter-widgets/base",
          "model_name": "LayoutModel",
          "model_module_version": "1.2.0",
          "state": {
            "_model_module": "@jupyter-widgets/base",
            "_model_module_version": "1.2.0",
            "_model_name": "LayoutModel",
            "_view_count": null,
            "_view_module": "@jupyter-widgets/base",
            "_view_module_version": "1.2.0",
            "_view_name": "LayoutView",
            "align_content": null,
            "align_items": null,
            "align_self": null,
            "border": null,
            "bottom": null,
            "display": null,
            "flex": null,
            "flex_flow": null,
            "grid_area": null,
            "grid_auto_columns": null,
            "grid_auto_flow": null,
            "grid_auto_rows": null,
            "grid_column": null,
            "grid_gap": null,
            "grid_row": null,
            "grid_template_areas": null,
            "grid_template_columns": null,
            "grid_template_rows": null,
            "height": null,
            "justify_content": null,
            "justify_items": null,
            "left": null,
            "margin": null,
            "max_height": null,
            "max_width": null,
            "min_height": null,
            "min_width": null,
            "object_fit": null,
            "object_position": null,
            "order": null,
            "overflow": null,
            "overflow_x": null,
            "overflow_y": null,
            "padding": null,
            "right": null,
            "top": null,
            "visibility": null,
            "width": null
          }
        },
        "00374449ce9f4400a6f2acc4ec73c765": {
          "model_module": "@jupyter-widgets/base",
          "model_name": "LayoutModel",
          "model_module_version": "1.2.0",
          "state": {
            "_model_module": "@jupyter-widgets/base",
            "_model_module_version": "1.2.0",
            "_model_name": "LayoutModel",
            "_view_count": null,
            "_view_module": "@jupyter-widgets/base",
            "_view_module_version": "1.2.0",
            "_view_name": "LayoutView",
            "align_content": null,
            "align_items": null,
            "align_self": null,
            "border": null,
            "bottom": null,
            "display": null,
            "flex": null,
            "flex_flow": null,
            "grid_area": null,
            "grid_auto_columns": null,
            "grid_auto_flow": null,
            "grid_auto_rows": null,
            "grid_column": null,
            "grid_gap": null,
            "grid_row": null,
            "grid_template_areas": null,
            "grid_template_columns": null,
            "grid_template_rows": null,
            "height": null,
            "justify_content": null,
            "justify_items": null,
            "left": null,
            "margin": null,
            "max_height": null,
            "max_width": null,
            "min_height": null,
            "min_width": null,
            "object_fit": null,
            "object_position": null,
            "order": null,
            "overflow": null,
            "overflow_x": null,
            "overflow_y": null,
            "padding": null,
            "right": null,
            "top": null,
            "visibility": null,
            "width": null
          }
        },
        "05c4325449504abe812fa38eec402bb2": {
          "model_module": "@jupyter-widgets/controls",
          "model_name": "DescriptionStyleModel",
          "model_module_version": "1.5.0",
          "state": {
            "_model_module": "@jupyter-widgets/controls",
            "_model_module_version": "1.5.0",
            "_model_name": "DescriptionStyleModel",
            "_view_count": null,
            "_view_module": "@jupyter-widgets/base",
            "_view_module_version": "1.2.0",
            "_view_name": "StyleView",
            "description_width": ""
          }
        },
        "4c2b8cfd018d408a8ece4ccb6df47b77": {
          "model_module": "@jupyter-widgets/base",
          "model_name": "LayoutModel",
          "model_module_version": "1.2.0",
          "state": {
            "_model_module": "@jupyter-widgets/base",
            "_model_module_version": "1.2.0",
            "_model_name": "LayoutModel",
            "_view_count": null,
            "_view_module": "@jupyter-widgets/base",
            "_view_module_version": "1.2.0",
            "_view_name": "LayoutView",
            "align_content": null,
            "align_items": null,
            "align_self": null,
            "border": null,
            "bottom": null,
            "display": null,
            "flex": null,
            "flex_flow": null,
            "grid_area": null,
            "grid_auto_columns": null,
            "grid_auto_flow": null,
            "grid_auto_rows": null,
            "grid_column": null,
            "grid_gap": null,
            "grid_row": null,
            "grid_template_areas": null,
            "grid_template_columns": null,
            "grid_template_rows": null,
            "height": null,
            "justify_content": null,
            "justify_items": null,
            "left": null,
            "margin": null,
            "max_height": null,
            "max_width": null,
            "min_height": null,
            "min_width": null,
            "object_fit": null,
            "object_position": null,
            "order": null,
            "overflow": null,
            "overflow_x": null,
            "overflow_y": null,
            "padding": null,
            "right": null,
            "top": null,
            "visibility": null,
            "width": null
          }
        },
        "4615880717cf4d0fbf2b00886e1719b6": {
          "model_module": "@jupyter-widgets/controls",
          "model_name": "ProgressStyleModel",
          "model_module_version": "1.5.0",
          "state": {
            "_model_module": "@jupyter-widgets/controls",
            "_model_module_version": "1.5.0",
            "_model_name": "ProgressStyleModel",
            "_view_count": null,
            "_view_module": "@jupyter-widgets/base",
            "_view_module_version": "1.2.0",
            "_view_name": "StyleView",
            "bar_color": null,
            "description_width": ""
          }
        },
        "582d2b11ce4a429eabf287a6ceea373a": {
          "model_module": "@jupyter-widgets/base",
          "model_name": "LayoutModel",
          "model_module_version": "1.2.0",
          "state": {
            "_model_module": "@jupyter-widgets/base",
            "_model_module_version": "1.2.0",
            "_model_name": "LayoutModel",
            "_view_count": null,
            "_view_module": "@jupyter-widgets/base",
            "_view_module_version": "1.2.0",
            "_view_name": "LayoutView",
            "align_content": null,
            "align_items": null,
            "align_self": null,
            "border": null,
            "bottom": null,
            "display": null,
            "flex": null,
            "flex_flow": null,
            "grid_area": null,
            "grid_auto_columns": null,
            "grid_auto_flow": null,
            "grid_auto_rows": null,
            "grid_column": null,
            "grid_gap": null,
            "grid_row": null,
            "grid_template_areas": null,
            "grid_template_columns": null,
            "grid_template_rows": null,
            "height": null,
            "justify_content": null,
            "justify_items": null,
            "left": null,
            "margin": null,
            "max_height": null,
            "max_width": null,
            "min_height": null,
            "min_width": null,
            "object_fit": null,
            "object_position": null,
            "order": null,
            "overflow": null,
            "overflow_x": null,
            "overflow_y": null,
            "padding": null,
            "right": null,
            "top": null,
            "visibility": null,
            "width": null
          }
        },
        "6db65a82ceaa49a890ff318559798f4d": {
          "model_module": "@jupyter-widgets/controls",
          "model_name": "DescriptionStyleModel",
          "model_module_version": "1.5.0",
          "state": {
            "_model_module": "@jupyter-widgets/controls",
            "_model_module_version": "1.5.0",
            "_model_name": "DescriptionStyleModel",
            "_view_count": null,
            "_view_module": "@jupyter-widgets/base",
            "_view_module_version": "1.2.0",
            "_view_name": "StyleView",
            "description_width": ""
          }
        },
        "452987cc60354327aa20f7c4f8a63b20": {
          "model_module": "@jupyter-widgets/controls",
          "model_name": "HBoxModel",
          "model_module_version": "1.5.0",
          "state": {
            "_dom_classes": [],
            "_model_module": "@jupyter-widgets/controls",
            "_model_module_version": "1.5.0",
            "_model_name": "HBoxModel",
            "_view_count": null,
            "_view_module": "@jupyter-widgets/controls",
            "_view_module_version": "1.5.0",
            "_view_name": "HBoxView",
            "box_style": "",
            "children": [
              "IPY_MODEL_662a05fb3bb44d5ab17674108759a85f",
              "IPY_MODEL_0bb138f2f62846bca999099465bcd18c",
              "IPY_MODEL_96f3dd9ed6ec48c38678a4de33cd9eb3"
            ],
            "layout": "IPY_MODEL_01e4a65cbce34fcb941f7312bc4339ef"
          }
        },
        "662a05fb3bb44d5ab17674108759a85f": {
          "model_module": "@jupyter-widgets/controls",
          "model_name": "HTMLModel",
          "model_module_version": "1.5.0",
          "state": {
            "_dom_classes": [],
            "_model_module": "@jupyter-widgets/controls",
            "_model_module_version": "1.5.0",
            "_model_name": "HTMLModel",
            "_view_count": null,
            "_view_module": "@jupyter-widgets/controls",
            "_view_module_version": "1.5.0",
            "_view_name": "HTMLView",
            "description": "",
            "description_tooltip": null,
            "layout": "IPY_MODEL_ca3401f063fa4e4ea4496e276f2eba9f",
            "placeholder": "​",
            "style": "IPY_MODEL_d4fba7c258eb4c17b62c999b16fd5278",
            "value": "Map: 100%"
          }
        },
        "0bb138f2f62846bca999099465bcd18c": {
          "model_module": "@jupyter-widgets/controls",
          "model_name": "FloatProgressModel",
          "model_module_version": "1.5.0",
          "state": {
            "_dom_classes": [],
            "_model_module": "@jupyter-widgets/controls",
            "_model_module_version": "1.5.0",
            "_model_name": "FloatProgressModel",
            "_view_count": null,
            "_view_module": "@jupyter-widgets/controls",
            "_view_module_version": "1.5.0",
            "_view_name": "ProgressView",
            "bar_style": "success",
            "description": "",
            "description_tooltip": null,
            "layout": "IPY_MODEL_10a6d4bd004f451d91d281c9c88f67c5",
            "max": 4392,
            "min": 0,
            "orientation": "horizontal",
            "style": "IPY_MODEL_4f8a76b15ee043649b999d87ebf94086",
            "value": 4392
          }
        },
        "96f3dd9ed6ec48c38678a4de33cd9eb3": {
          "model_module": "@jupyter-widgets/controls",
          "model_name": "HTMLModel",
          "model_module_version": "1.5.0",
          "state": {
            "_dom_classes": [],
            "_model_module": "@jupyter-widgets/controls",
            "_model_module_version": "1.5.0",
            "_model_name": "HTMLModel",
            "_view_count": null,
            "_view_module": "@jupyter-widgets/controls",
            "_view_module_version": "1.5.0",
            "_view_name": "HTMLView",
            "description": "",
            "description_tooltip": null,
            "layout": "IPY_MODEL_0b6cbc1608ad4c3d969e66963a2534bb",
            "placeholder": "​",
            "style": "IPY_MODEL_bb4c01f5a8de4816a490cb69f72c6921",
            "value": " 4392/4392 [00:00&lt;00:00, 6388.71 examples/s]"
          }
        },
        "01e4a65cbce34fcb941f7312bc4339ef": {
          "model_module": "@jupyter-widgets/base",
          "model_name": "LayoutModel",
          "model_module_version": "1.2.0",
          "state": {
            "_model_module": "@jupyter-widgets/base",
            "_model_module_version": "1.2.0",
            "_model_name": "LayoutModel",
            "_view_count": null,
            "_view_module": "@jupyter-widgets/base",
            "_view_module_version": "1.2.0",
            "_view_name": "LayoutView",
            "align_content": null,
            "align_items": null,
            "align_self": null,
            "border": null,
            "bottom": null,
            "display": null,
            "flex": null,
            "flex_flow": null,
            "grid_area": null,
            "grid_auto_columns": null,
            "grid_auto_flow": null,
            "grid_auto_rows": null,
            "grid_column": null,
            "grid_gap": null,
            "grid_row": null,
            "grid_template_areas": null,
            "grid_template_columns": null,
            "grid_template_rows": null,
            "height": null,
            "justify_content": null,
            "justify_items": null,
            "left": null,
            "margin": null,
            "max_height": null,
            "max_width": null,
            "min_height": null,
            "min_width": null,
            "object_fit": null,
            "object_position": null,
            "order": null,
            "overflow": null,
            "overflow_x": null,
            "overflow_y": null,
            "padding": null,
            "right": null,
            "top": null,
            "visibility": null,
            "width": null
          }
        },
        "ca3401f063fa4e4ea4496e276f2eba9f": {
          "model_module": "@jupyter-widgets/base",
          "model_name": "LayoutModel",
          "model_module_version": "1.2.0",
          "state": {
            "_model_module": "@jupyter-widgets/base",
            "_model_module_version": "1.2.0",
            "_model_name": "LayoutModel",
            "_view_count": null,
            "_view_module": "@jupyter-widgets/base",
            "_view_module_version": "1.2.0",
            "_view_name": "LayoutView",
            "align_content": null,
            "align_items": null,
            "align_self": null,
            "border": null,
            "bottom": null,
            "display": null,
            "flex": null,
            "flex_flow": null,
            "grid_area": null,
            "grid_auto_columns": null,
            "grid_auto_flow": null,
            "grid_auto_rows": null,
            "grid_column": null,
            "grid_gap": null,
            "grid_row": null,
            "grid_template_areas": null,
            "grid_template_columns": null,
            "grid_template_rows": null,
            "height": null,
            "justify_content": null,
            "justify_items": null,
            "left": null,
            "margin": null,
            "max_height": null,
            "max_width": null,
            "min_height": null,
            "min_width": null,
            "object_fit": null,
            "object_position": null,
            "order": null,
            "overflow": null,
            "overflow_x": null,
            "overflow_y": null,
            "padding": null,
            "right": null,
            "top": null,
            "visibility": null,
            "width": null
          }
        },
        "d4fba7c258eb4c17b62c999b16fd5278": {
          "model_module": "@jupyter-widgets/controls",
          "model_name": "DescriptionStyleModel",
          "model_module_version": "1.5.0",
          "state": {
            "_model_module": "@jupyter-widgets/controls",
            "_model_module_version": "1.5.0",
            "_model_name": "DescriptionStyleModel",
            "_view_count": null,
            "_view_module": "@jupyter-widgets/base",
            "_view_module_version": "1.2.0",
            "_view_name": "StyleView",
            "description_width": ""
          }
        },
        "10a6d4bd004f451d91d281c9c88f67c5": {
          "model_module": "@jupyter-widgets/base",
          "model_name": "LayoutModel",
          "model_module_version": "1.2.0",
          "state": {
            "_model_module": "@jupyter-widgets/base",
            "_model_module_version": "1.2.0",
            "_model_name": "LayoutModel",
            "_view_count": null,
            "_view_module": "@jupyter-widgets/base",
            "_view_module_version": "1.2.0",
            "_view_name": "LayoutView",
            "align_content": null,
            "align_items": null,
            "align_self": null,
            "border": null,
            "bottom": null,
            "display": null,
            "flex": null,
            "flex_flow": null,
            "grid_area": null,
            "grid_auto_columns": null,
            "grid_auto_flow": null,
            "grid_auto_rows": null,
            "grid_column": null,
            "grid_gap": null,
            "grid_row": null,
            "grid_template_areas": null,
            "grid_template_columns": null,
            "grid_template_rows": null,
            "height": null,
            "justify_content": null,
            "justify_items": null,
            "left": null,
            "margin": null,
            "max_height": null,
            "max_width": null,
            "min_height": null,
            "min_width": null,
            "object_fit": null,
            "object_position": null,
            "order": null,
            "overflow": null,
            "overflow_x": null,
            "overflow_y": null,
            "padding": null,
            "right": null,
            "top": null,
            "visibility": null,
            "width": null
          }
        },
        "4f8a76b15ee043649b999d87ebf94086": {
          "model_module": "@jupyter-widgets/controls",
          "model_name": "ProgressStyleModel",
          "model_module_version": "1.5.0",
          "state": {
            "_model_module": "@jupyter-widgets/controls",
            "_model_module_version": "1.5.0",
            "_model_name": "ProgressStyleModel",
            "_view_count": null,
            "_view_module": "@jupyter-widgets/base",
            "_view_module_version": "1.2.0",
            "_view_name": "StyleView",
            "bar_color": null,
            "description_width": ""
          }
        },
        "0b6cbc1608ad4c3d969e66963a2534bb": {
          "model_module": "@jupyter-widgets/base",
          "model_name": "LayoutModel",
          "model_module_version": "1.2.0",
          "state": {
            "_model_module": "@jupyter-widgets/base",
            "_model_module_version": "1.2.0",
            "_model_name": "LayoutModel",
            "_view_count": null,
            "_view_module": "@jupyter-widgets/base",
            "_view_module_version": "1.2.0",
            "_view_name": "LayoutView",
            "align_content": null,
            "align_items": null,
            "align_self": null,
            "border": null,
            "bottom": null,
            "display": null,
            "flex": null,
            "flex_flow": null,
            "grid_area": null,
            "grid_auto_columns": null,
            "grid_auto_flow": null,
            "grid_auto_rows": null,
            "grid_column": null,
            "grid_gap": null,
            "grid_row": null,
            "grid_template_areas": null,
            "grid_template_columns": null,
            "grid_template_rows": null,
            "height": null,
            "justify_content": null,
            "justify_items": null,
            "left": null,
            "margin": null,
            "max_height": null,
            "max_width": null,
            "min_height": null,
            "min_width": null,
            "object_fit": null,
            "object_position": null,
            "order": null,
            "overflow": null,
            "overflow_x": null,
            "overflow_y": null,
            "padding": null,
            "right": null,
            "top": null,
            "visibility": null,
            "width": null
          }
        },
        "bb4c01f5a8de4816a490cb69f72c6921": {
          "model_module": "@jupyter-widgets/controls",
          "model_name": "DescriptionStyleModel",
          "model_module_version": "1.5.0",
          "state": {
            "_model_module": "@jupyter-widgets/controls",
            "_model_module_version": "1.5.0",
            "_model_name": "DescriptionStyleModel",
            "_view_count": null,
            "_view_module": "@jupyter-widgets/base",
            "_view_module_version": "1.2.0",
            "_view_name": "StyleView",
            "description_width": ""
          }
        },
        "eafd258d8ce54e60a1f7fa88e02382d0": {
          "model_module": "@jupyter-widgets/controls",
          "model_name": "HBoxModel",
          "model_module_version": "1.5.0",
          "state": {
            "_dom_classes": [],
            "_model_module": "@jupyter-widgets/controls",
            "_model_module_version": "1.5.0",
            "_model_name": "HBoxModel",
            "_view_count": null,
            "_view_module": "@jupyter-widgets/controls",
            "_view_module_version": "1.5.0",
            "_view_name": "HBoxView",
            "box_style": "",
            "children": [
              "IPY_MODEL_8838060585174c43b15f68b30c959e21",
              "IPY_MODEL_d24075db555543b388b07ef0e1b73dde",
              "IPY_MODEL_84454127be8446d9b64cc12def931596"
            ],
            "layout": "IPY_MODEL_b9818dd51f654dc48a5aca5447b1fa0a"
          }
        },
        "8838060585174c43b15f68b30c959e21": {
          "model_module": "@jupyter-widgets/controls",
          "model_name": "HTMLModel",
          "model_module_version": "1.5.0",
          "state": {
            "_dom_classes": [],
            "_model_module": "@jupyter-widgets/controls",
            "_model_module_version": "1.5.0",
            "_model_name": "HTMLModel",
            "_view_count": null,
            "_view_module": "@jupyter-widgets/controls",
            "_view_module_version": "1.5.0",
            "_view_name": "HTMLView",
            "description": "",
            "description_tooltip": null,
            "layout": "IPY_MODEL_ada661b4544a41fba93e1fc139eab59f",
            "placeholder": "​",
            "style": "IPY_MODEL_dd9acedd4d4049728fa025812226a795",
            "value": "Downloading pytorch_model.bin: 100%"
          }
        },
        "d24075db555543b388b07ef0e1b73dde": {
          "model_module": "@jupyter-widgets/controls",
          "model_name": "FloatProgressModel",
          "model_module_version": "1.5.0",
          "state": {
            "_dom_classes": [],
            "_model_module": "@jupyter-widgets/controls",
            "_model_module_version": "1.5.0",
            "_model_name": "FloatProgressModel",
            "_view_count": null,
            "_view_module": "@jupyter-widgets/controls",
            "_view_module_version": "1.5.0",
            "_view_name": "ProgressView",
            "bar_style": "success",
            "description": "",
            "description_tooltip": null,
            "layout": "IPY_MODEL_44b8852b21094584a29f3bbcd456f2ae",
            "max": 263273408,
            "min": 0,
            "orientation": "horizontal",
            "style": "IPY_MODEL_4f5dac21c6ad442d9fc79f9d8ce1b5cd",
            "value": 263273408
          }
        },
        "84454127be8446d9b64cc12def931596": {
          "model_module": "@jupyter-widgets/controls",
          "model_name": "HTMLModel",
          "model_module_version": "1.5.0",
          "state": {
            "_dom_classes": [],
            "_model_module": "@jupyter-widgets/controls",
            "_model_module_version": "1.5.0",
            "_model_name": "HTMLModel",
            "_view_count": null,
            "_view_module": "@jupyter-widgets/controls",
            "_view_module_version": "1.5.0",
            "_view_name": "HTMLView",
            "description": "",
            "description_tooltip": null,
            "layout": "IPY_MODEL_3357790187f84030ae7e70116faced66",
            "placeholder": "​",
            "style": "IPY_MODEL_84015554c65b41feaec91319d7dcbc1c",
            "value": " 263M/263M [00:32&lt;00:00, 13.1MB/s]"
          }
        },
        "b9818dd51f654dc48a5aca5447b1fa0a": {
          "model_module": "@jupyter-widgets/base",
          "model_name": "LayoutModel",
          "model_module_version": "1.2.0",
          "state": {
            "_model_module": "@jupyter-widgets/base",
            "_model_module_version": "1.2.0",
            "_model_name": "LayoutModel",
            "_view_count": null,
            "_view_module": "@jupyter-widgets/base",
            "_view_module_version": "1.2.0",
            "_view_name": "LayoutView",
            "align_content": null,
            "align_items": null,
            "align_self": null,
            "border": null,
            "bottom": null,
            "display": null,
            "flex": null,
            "flex_flow": null,
            "grid_area": null,
            "grid_auto_columns": null,
            "grid_auto_flow": null,
            "grid_auto_rows": null,
            "grid_column": null,
            "grid_gap": null,
            "grid_row": null,
            "grid_template_areas": null,
            "grid_template_columns": null,
            "grid_template_rows": null,
            "height": null,
            "justify_content": null,
            "justify_items": null,
            "left": null,
            "margin": null,
            "max_height": null,
            "max_width": null,
            "min_height": null,
            "min_width": null,
            "object_fit": null,
            "object_position": null,
            "order": null,
            "overflow": null,
            "overflow_x": null,
            "overflow_y": null,
            "padding": null,
            "right": null,
            "top": null,
            "visibility": null,
            "width": null
          }
        },
        "ada661b4544a41fba93e1fc139eab59f": {
          "model_module": "@jupyter-widgets/base",
          "model_name": "LayoutModel",
          "model_module_version": "1.2.0",
          "state": {
            "_model_module": "@jupyter-widgets/base",
            "_model_module_version": "1.2.0",
            "_model_name": "LayoutModel",
            "_view_count": null,
            "_view_module": "@jupyter-widgets/base",
            "_view_module_version": "1.2.0",
            "_view_name": "LayoutView",
            "align_content": null,
            "align_items": null,
            "align_self": null,
            "border": null,
            "bottom": null,
            "display": null,
            "flex": null,
            "flex_flow": null,
            "grid_area": null,
            "grid_auto_columns": null,
            "grid_auto_flow": null,
            "grid_auto_rows": null,
            "grid_column": null,
            "grid_gap": null,
            "grid_row": null,
            "grid_template_areas": null,
            "grid_template_columns": null,
            "grid_template_rows": null,
            "height": null,
            "justify_content": null,
            "justify_items": null,
            "left": null,
            "margin": null,
            "max_height": null,
            "max_width": null,
            "min_height": null,
            "min_width": null,
            "object_fit": null,
            "object_position": null,
            "order": null,
            "overflow": null,
            "overflow_x": null,
            "overflow_y": null,
            "padding": null,
            "right": null,
            "top": null,
            "visibility": null,
            "width": null
          }
        },
        "dd9acedd4d4049728fa025812226a795": {
          "model_module": "@jupyter-widgets/controls",
          "model_name": "DescriptionStyleModel",
          "model_module_version": "1.5.0",
          "state": {
            "_model_module": "@jupyter-widgets/controls",
            "_model_module_version": "1.5.0",
            "_model_name": "DescriptionStyleModel",
            "_view_count": null,
            "_view_module": "@jupyter-widgets/base",
            "_view_module_version": "1.2.0",
            "_view_name": "StyleView",
            "description_width": ""
          }
        },
        "44b8852b21094584a29f3bbcd456f2ae": {
          "model_module": "@jupyter-widgets/base",
          "model_name": "LayoutModel",
          "model_module_version": "1.2.0",
          "state": {
            "_model_module": "@jupyter-widgets/base",
            "_model_module_version": "1.2.0",
            "_model_name": "LayoutModel",
            "_view_count": null,
            "_view_module": "@jupyter-widgets/base",
            "_view_module_version": "1.2.0",
            "_view_name": "LayoutView",
            "align_content": null,
            "align_items": null,
            "align_self": null,
            "border": null,
            "bottom": null,
            "display": null,
            "flex": null,
            "flex_flow": null,
            "grid_area": null,
            "grid_auto_columns": null,
            "grid_auto_flow": null,
            "grid_auto_rows": null,
            "grid_column": null,
            "grid_gap": null,
            "grid_row": null,
            "grid_template_areas": null,
            "grid_template_columns": null,
            "grid_template_rows": null,
            "height": null,
            "justify_content": null,
            "justify_items": null,
            "left": null,
            "margin": null,
            "max_height": null,
            "max_width": null,
            "min_height": null,
            "min_width": null,
            "object_fit": null,
            "object_position": null,
            "order": null,
            "overflow": null,
            "overflow_x": null,
            "overflow_y": null,
            "padding": null,
            "right": null,
            "top": null,
            "visibility": null,
            "width": null
          }
        },
        "4f5dac21c6ad442d9fc79f9d8ce1b5cd": {
          "model_module": "@jupyter-widgets/controls",
          "model_name": "ProgressStyleModel",
          "model_module_version": "1.5.0",
          "state": {
            "_model_module": "@jupyter-widgets/controls",
            "_model_module_version": "1.5.0",
            "_model_name": "ProgressStyleModel",
            "_view_count": null,
            "_view_module": "@jupyter-widgets/base",
            "_view_module_version": "1.2.0",
            "_view_name": "StyleView",
            "bar_color": null,
            "description_width": ""
          }
        },
        "3357790187f84030ae7e70116faced66": {
          "model_module": "@jupyter-widgets/base",
          "model_name": "LayoutModel",
          "model_module_version": "1.2.0",
          "state": {
            "_model_module": "@jupyter-widgets/base",
            "_model_module_version": "1.2.0",
            "_model_name": "LayoutModel",
            "_view_count": null,
            "_view_module": "@jupyter-widgets/base",
            "_view_module_version": "1.2.0",
            "_view_name": "LayoutView",
            "align_content": null,
            "align_items": null,
            "align_self": null,
            "border": null,
            "bottom": null,
            "display": null,
            "flex": null,
            "flex_flow": null,
            "grid_area": null,
            "grid_auto_columns": null,
            "grid_auto_flow": null,
            "grid_auto_rows": null,
            "grid_column": null,
            "grid_gap": null,
            "grid_row": null,
            "grid_template_areas": null,
            "grid_template_columns": null,
            "grid_template_rows": null,
            "height": null,
            "justify_content": null,
            "justify_items": null,
            "left": null,
            "margin": null,
            "max_height": null,
            "max_width": null,
            "min_height": null,
            "min_width": null,
            "object_fit": null,
            "object_position": null,
            "order": null,
            "overflow": null,
            "overflow_x": null,
            "overflow_y": null,
            "padding": null,
            "right": null,
            "top": null,
            "visibility": null,
            "width": null
          }
        },
        "84015554c65b41feaec91319d7dcbc1c": {
          "model_module": "@jupyter-widgets/controls",
          "model_name": "DescriptionStyleModel",
          "model_module_version": "1.5.0",
          "state": {
            "_model_module": "@jupyter-widgets/controls",
            "_model_module_version": "1.5.0",
            "_model_name": "DescriptionStyleModel",
            "_view_count": null,
            "_view_module": "@jupyter-widgets/base",
            "_view_module_version": "1.2.0",
            "_view_name": "StyleView",
            "description_width": ""
          }
        },
        "9eb1ad68e4da4257baa24aa23f377721": {
          "model_module": "@jupyter-widgets/controls",
          "model_name": "HBoxModel",
          "model_module_version": "1.5.0",
          "state": {
            "_dom_classes": [],
            "_model_module": "@jupyter-widgets/controls",
            "_model_module_version": "1.5.0",
            "_model_name": "HBoxModel",
            "_view_count": null,
            "_view_module": "@jupyter-widgets/controls",
            "_view_module_version": "1.5.0",
            "_view_name": "HBoxView",
            "box_style": "",
            "children": [
              "IPY_MODEL_a98acb01a50948a7bfcd770f7b61832d",
              "IPY_MODEL_b6ab78c5ae4b441dafeabb06a67650d2",
              "IPY_MODEL_2fdffb3df04a4e04a890c3beeda63085"
            ],
            "layout": "IPY_MODEL_dd3002e785ed48c49ae4578510980cb3"
          }
        },
        "a98acb01a50948a7bfcd770f7b61832d": {
          "model_module": "@jupyter-widgets/controls",
          "model_name": "HTMLModel",
          "model_module_version": "1.5.0",
          "state": {
            "_dom_classes": [],
            "_model_module": "@jupyter-widgets/controls",
            "_model_module_version": "1.5.0",
            "_model_name": "HTMLModel",
            "_view_count": null,
            "_view_module": "@jupyter-widgets/controls",
            "_view_module_version": "1.5.0",
            "_view_name": "HTMLView",
            "description": "",
            "description_tooltip": null,
            "layout": "IPY_MODEL_8e55f3ee674d4dda9d447b972676536b",
            "placeholder": "​",
            "style": "IPY_MODEL_b11a92b6375545309133f384649bb824",
            "value": "Downloading data: 100%"
          }
        },
        "b6ab78c5ae4b441dafeabb06a67650d2": {
          "model_module": "@jupyter-widgets/controls",
          "model_name": "FloatProgressModel",
          "model_module_version": "1.5.0",
          "state": {
            "_dom_classes": [],
            "_model_module": "@jupyter-widgets/controls",
            "_model_module_version": "1.5.0",
            "_model_name": "FloatProgressModel",
            "_view_count": null,
            "_view_module": "@jupyter-widgets/controls",
            "_view_module_version": "1.5.0",
            "_view_name": "ProgressView",
            "bar_style": "success",
            "description": "",
            "description_tooltip": null,
            "layout": "IPY_MODEL_88c9a3a102ac486992a23840921c3930",
            "max": 697150,
            "min": 0,
            "orientation": "horizontal",
            "style": "IPY_MODEL_f06e693aac0a41548a8af3c58316ac13",
            "value": 697150
          }
        },
        "2fdffb3df04a4e04a890c3beeda63085": {
          "model_module": "@jupyter-widgets/controls",
          "model_name": "HTMLModel",
          "model_module_version": "1.5.0",
          "state": {
            "_dom_classes": [],
            "_model_module": "@jupyter-widgets/controls",
            "_model_module_version": "1.5.0",
            "_model_name": "HTMLModel",
            "_view_count": null,
            "_view_module": "@jupyter-widgets/controls",
            "_view_module_version": "1.5.0",
            "_view_name": "HTMLView",
            "description": "",
            "description_tooltip": null,
            "layout": "IPY_MODEL_c26ff695b4234886bafe7130b827aa1d",
            "placeholder": "​",
            "style": "IPY_MODEL_e2619d1ce77540fda34c4970ba417d22",
            "value": " 697k/697k [00:00&lt;00:00, 17.2MB/s]"
          }
        },
        "dd3002e785ed48c49ae4578510980cb3": {
          "model_module": "@jupyter-widgets/base",
          "model_name": "LayoutModel",
          "model_module_version": "1.2.0",
          "state": {
            "_model_module": "@jupyter-widgets/base",
            "_model_module_version": "1.2.0",
            "_model_name": "LayoutModel",
            "_view_count": null,
            "_view_module": "@jupyter-widgets/base",
            "_view_module_version": "1.2.0",
            "_view_name": "LayoutView",
            "align_content": null,
            "align_items": null,
            "align_self": null,
            "border": null,
            "bottom": null,
            "display": null,
            "flex": null,
            "flex_flow": null,
            "grid_area": null,
            "grid_auto_columns": null,
            "grid_auto_flow": null,
            "grid_auto_rows": null,
            "grid_column": null,
            "grid_gap": null,
            "grid_row": null,
            "grid_template_areas": null,
            "grid_template_columns": null,
            "grid_template_rows": null,
            "height": null,
            "justify_content": null,
            "justify_items": null,
            "left": null,
            "margin": null,
            "max_height": null,
            "max_width": null,
            "min_height": null,
            "min_width": null,
            "object_fit": null,
            "object_position": null,
            "order": null,
            "overflow": null,
            "overflow_x": null,
            "overflow_y": null,
            "padding": null,
            "right": null,
            "top": null,
            "visibility": null,
            "width": null
          }
        },
        "8e55f3ee674d4dda9d447b972676536b": {
          "model_module": "@jupyter-widgets/base",
          "model_name": "LayoutModel",
          "model_module_version": "1.2.0",
          "state": {
            "_model_module": "@jupyter-widgets/base",
            "_model_module_version": "1.2.0",
            "_model_name": "LayoutModel",
            "_view_count": null,
            "_view_module": "@jupyter-widgets/base",
            "_view_module_version": "1.2.0",
            "_view_name": "LayoutView",
            "align_content": null,
            "align_items": null,
            "align_self": null,
            "border": null,
            "bottom": null,
            "display": null,
            "flex": null,
            "flex_flow": null,
            "grid_area": null,
            "grid_auto_columns": null,
            "grid_auto_flow": null,
            "grid_auto_rows": null,
            "grid_column": null,
            "grid_gap": null,
            "grid_row": null,
            "grid_template_areas": null,
            "grid_template_columns": null,
            "grid_template_rows": null,
            "height": null,
            "justify_content": null,
            "justify_items": null,
            "left": null,
            "margin": null,
            "max_height": null,
            "max_width": null,
            "min_height": null,
            "min_width": null,
            "object_fit": null,
            "object_position": null,
            "order": null,
            "overflow": null,
            "overflow_x": null,
            "overflow_y": null,
            "padding": null,
            "right": null,
            "top": null,
            "visibility": null,
            "width": null
          }
        },
        "b11a92b6375545309133f384649bb824": {
          "model_module": "@jupyter-widgets/controls",
          "model_name": "DescriptionStyleModel",
          "model_module_version": "1.5.0",
          "state": {
            "_model_module": "@jupyter-widgets/controls",
            "_model_module_version": "1.5.0",
            "_model_name": "DescriptionStyleModel",
            "_view_count": null,
            "_view_module": "@jupyter-widgets/base",
            "_view_module_version": "1.2.0",
            "_view_name": "StyleView",
            "description_width": ""
          }
        },
        "88c9a3a102ac486992a23840921c3930": {
          "model_module": "@jupyter-widgets/base",
          "model_name": "LayoutModel",
          "model_module_version": "1.2.0",
          "state": {
            "_model_module": "@jupyter-widgets/base",
            "_model_module_version": "1.2.0",
            "_model_name": "LayoutModel",
            "_view_count": null,
            "_view_module": "@jupyter-widgets/base",
            "_view_module_version": "1.2.0",
            "_view_name": "LayoutView",
            "align_content": null,
            "align_items": null,
            "align_self": null,
            "border": null,
            "bottom": null,
            "display": null,
            "flex": null,
            "flex_flow": null,
            "grid_area": null,
            "grid_auto_columns": null,
            "grid_auto_flow": null,
            "grid_auto_rows": null,
            "grid_column": null,
            "grid_gap": null,
            "grid_row": null,
            "grid_template_areas": null,
            "grid_template_columns": null,
            "grid_template_rows": null,
            "height": null,
            "justify_content": null,
            "justify_items": null,
            "left": null,
            "margin": null,
            "max_height": null,
            "max_width": null,
            "min_height": null,
            "min_width": null,
            "object_fit": null,
            "object_position": null,
            "order": null,
            "overflow": null,
            "overflow_x": null,
            "overflow_y": null,
            "padding": null,
            "right": null,
            "top": null,
            "visibility": null,
            "width": null
          }
        },
        "f06e693aac0a41548a8af3c58316ac13": {
          "model_module": "@jupyter-widgets/controls",
          "model_name": "ProgressStyleModel",
          "model_module_version": "1.5.0",
          "state": {
            "_model_module": "@jupyter-widgets/controls",
            "_model_module_version": "1.5.0",
            "_model_name": "ProgressStyleModel",
            "_view_count": null,
            "_view_module": "@jupyter-widgets/base",
            "_view_module_version": "1.2.0",
            "_view_name": "StyleView",
            "bar_color": null,
            "description_width": ""
          }
        },
        "c26ff695b4234886bafe7130b827aa1d": {
          "model_module": "@jupyter-widgets/base",
          "model_name": "LayoutModel",
          "model_module_version": "1.2.0",
          "state": {
            "_model_module": "@jupyter-widgets/base",
            "_model_module_version": "1.2.0",
            "_model_name": "LayoutModel",
            "_view_count": null,
            "_view_module": "@jupyter-widgets/base",
            "_view_module_version": "1.2.0",
            "_view_name": "LayoutView",
            "align_content": null,
            "align_items": null,
            "align_self": null,
            "border": null,
            "bottom": null,
            "display": null,
            "flex": null,
            "flex_flow": null,
            "grid_area": null,
            "grid_auto_columns": null,
            "grid_auto_flow": null,
            "grid_auto_rows": null,
            "grid_column": null,
            "grid_gap": null,
            "grid_row": null,
            "grid_template_areas": null,
            "grid_template_columns": null,
            "grid_template_rows": null,
            "height": null,
            "justify_content": null,
            "justify_items": null,
            "left": null,
            "margin": null,
            "max_height": null,
            "max_width": null,
            "min_height": null,
            "min_width": null,
            "object_fit": null,
            "object_position": null,
            "order": null,
            "overflow": null,
            "overflow_x": null,
            "overflow_y": null,
            "padding": null,
            "right": null,
            "top": null,
            "visibility": null,
            "width": null
          }
        },
        "e2619d1ce77540fda34c4970ba417d22": {
          "model_module": "@jupyter-widgets/controls",
          "model_name": "DescriptionStyleModel",
          "model_module_version": "1.5.0",
          "state": {
            "_model_module": "@jupyter-widgets/controls",
            "_model_module_version": "1.5.0",
            "_model_name": "DescriptionStyleModel",
            "_view_count": null,
            "_view_module": "@jupyter-widgets/base",
            "_view_module_version": "1.2.0",
            "_view_name": "StyleView",
            "description_width": ""
          }
        },
        "295474f3221b442589320c77c1d00496": {
          "model_module": "@jupyter-widgets/controls",
          "model_name": "HBoxModel",
          "model_module_version": "1.5.0",
          "state": {
            "_dom_classes": [],
            "_model_module": "@jupyter-widgets/controls",
            "_model_module_version": "1.5.0",
            "_model_name": "HBoxModel",
            "_view_count": null,
            "_view_module": "@jupyter-widgets/controls",
            "_view_module_version": "1.5.0",
            "_view_name": "HBoxView",
            "box_style": "",
            "children": [
              "IPY_MODEL_d4783667538c484188da537dfd2ffa11",
              "IPY_MODEL_d60c515fa14f4363a5fd650a79bafea6",
              "IPY_MODEL_8f7d7b3ea9e74c378280fd6ac41e0f58"
            ],
            "layout": "IPY_MODEL_5c735980269449a6a51c2925670387f1"
          }
        },
        "d4783667538c484188da537dfd2ffa11": {
          "model_module": "@jupyter-widgets/controls",
          "model_name": "HTMLModel",
          "model_module_version": "1.5.0",
          "state": {
            "_dom_classes": [],
            "_model_module": "@jupyter-widgets/controls",
            "_model_module_version": "1.5.0",
            "_model_name": "HTMLModel",
            "_view_count": null,
            "_view_module": "@jupyter-widgets/controls",
            "_view_module_version": "1.5.0",
            "_view_name": "HTMLView",
            "description": "",
            "description_tooltip": null,
            "layout": "IPY_MODEL_4956e3c58bb1446ca0c65a5a7682b406",
            "placeholder": "​",
            "style": "IPY_MODEL_05fb5aeb22ca41269531354e24bc1009",
            "value": "Generating train split: 100%"
          }
        },
        "d60c515fa14f4363a5fd650a79bafea6": {
          "model_module": "@jupyter-widgets/controls",
          "model_name": "FloatProgressModel",
          "model_module_version": "1.5.0",
          "state": {
            "_dom_classes": [],
            "_model_module": "@jupyter-widgets/controls",
            "_model_module_version": "1.5.0",
            "_model_name": "FloatProgressModel",
            "_view_count": null,
            "_view_module": "@jupyter-widgets/controls",
            "_view_module_version": "1.5.0",
            "_view_name": "ProgressView",
            "bar_style": "success",
            "description": "",
            "description_tooltip": null,
            "layout": "IPY_MODEL_589fba990d4a47f69d57fb6a9ba9fb70",
            "max": 2490,
            "min": 0,
            "orientation": "horizontal",
            "style": "IPY_MODEL_2973a92f9f33455aa23461addd88d955",
            "value": 2490
          }
        },
        "8f7d7b3ea9e74c378280fd6ac41e0f58": {
          "model_module": "@jupyter-widgets/controls",
          "model_name": "HTMLModel",
          "model_module_version": "1.5.0",
          "state": {
            "_dom_classes": [],
            "_model_module": "@jupyter-widgets/controls",
            "_model_module_version": "1.5.0",
            "_model_name": "HTMLModel",
            "_view_count": null,
            "_view_module": "@jupyter-widgets/controls",
            "_view_module_version": "1.5.0",
            "_view_name": "HTMLView",
            "description": "",
            "description_tooltip": null,
            "layout": "IPY_MODEL_8feb4f98a1464a1295961195cddc7de7",
            "placeholder": "​",
            "style": "IPY_MODEL_8fb2990cf7f046509e6e08d51dfb1a30",
            "value": " 2490/2490 [00:00&lt;00:00, 9185.68 examples/s]"
          }
        },
        "5c735980269449a6a51c2925670387f1": {
          "model_module": "@jupyter-widgets/base",
          "model_name": "LayoutModel",
          "model_module_version": "1.2.0",
          "state": {
            "_model_module": "@jupyter-widgets/base",
            "_model_module_version": "1.2.0",
            "_model_name": "LayoutModel",
            "_view_count": null,
            "_view_module": "@jupyter-widgets/base",
            "_view_module_version": "1.2.0",
            "_view_name": "LayoutView",
            "align_content": null,
            "align_items": null,
            "align_self": null,
            "border": null,
            "bottom": null,
            "display": null,
            "flex": null,
            "flex_flow": null,
            "grid_area": null,
            "grid_auto_columns": null,
            "grid_auto_flow": null,
            "grid_auto_rows": null,
            "grid_column": null,
            "grid_gap": null,
            "grid_row": null,
            "grid_template_areas": null,
            "grid_template_columns": null,
            "grid_template_rows": null,
            "height": null,
            "justify_content": null,
            "justify_items": null,
            "left": null,
            "margin": null,
            "max_height": null,
            "max_width": null,
            "min_height": null,
            "min_width": null,
            "object_fit": null,
            "object_position": null,
            "order": null,
            "overflow": null,
            "overflow_x": null,
            "overflow_y": null,
            "padding": null,
            "right": null,
            "top": null,
            "visibility": null,
            "width": null
          }
        },
        "4956e3c58bb1446ca0c65a5a7682b406": {
          "model_module": "@jupyter-widgets/base",
          "model_name": "LayoutModel",
          "model_module_version": "1.2.0",
          "state": {
            "_model_module": "@jupyter-widgets/base",
            "_model_module_version": "1.2.0",
            "_model_name": "LayoutModel",
            "_view_count": null,
            "_view_module": "@jupyter-widgets/base",
            "_view_module_version": "1.2.0",
            "_view_name": "LayoutView",
            "align_content": null,
            "align_items": null,
            "align_self": null,
            "border": null,
            "bottom": null,
            "display": null,
            "flex": null,
            "flex_flow": null,
            "grid_area": null,
            "grid_auto_columns": null,
            "grid_auto_flow": null,
            "grid_auto_rows": null,
            "grid_column": null,
            "grid_gap": null,
            "grid_row": null,
            "grid_template_areas": null,
            "grid_template_columns": null,
            "grid_template_rows": null,
            "height": null,
            "justify_content": null,
            "justify_items": null,
            "left": null,
            "margin": null,
            "max_height": null,
            "max_width": null,
            "min_height": null,
            "min_width": null,
            "object_fit": null,
            "object_position": null,
            "order": null,
            "overflow": null,
            "overflow_x": null,
            "overflow_y": null,
            "padding": null,
            "right": null,
            "top": null,
            "visibility": null,
            "width": null
          }
        },
        "05fb5aeb22ca41269531354e24bc1009": {
          "model_module": "@jupyter-widgets/controls",
          "model_name": "DescriptionStyleModel",
          "model_module_version": "1.5.0",
          "state": {
            "_model_module": "@jupyter-widgets/controls",
            "_model_module_version": "1.5.0",
            "_model_name": "DescriptionStyleModel",
            "_view_count": null,
            "_view_module": "@jupyter-widgets/base",
            "_view_module_version": "1.2.0",
            "_view_name": "StyleView",
            "description_width": ""
          }
        },
        "589fba990d4a47f69d57fb6a9ba9fb70": {
          "model_module": "@jupyter-widgets/base",
          "model_name": "LayoutModel",
          "model_module_version": "1.2.0",
          "state": {
            "_model_module": "@jupyter-widgets/base",
            "_model_module_version": "1.2.0",
            "_model_name": "LayoutModel",
            "_view_count": null,
            "_view_module": "@jupyter-widgets/base",
            "_view_module_version": "1.2.0",
            "_view_name": "LayoutView",
            "align_content": null,
            "align_items": null,
            "align_self": null,
            "border": null,
            "bottom": null,
            "display": null,
            "flex": null,
            "flex_flow": null,
            "grid_area": null,
            "grid_auto_columns": null,
            "grid_auto_flow": null,
            "grid_auto_rows": null,
            "grid_column": null,
            "grid_gap": null,
            "grid_row": null,
            "grid_template_areas": null,
            "grid_template_columns": null,
            "grid_template_rows": null,
            "height": null,
            "justify_content": null,
            "justify_items": null,
            "left": null,
            "margin": null,
            "max_height": null,
            "max_width": null,
            "min_height": null,
            "min_width": null,
            "object_fit": null,
            "object_position": null,
            "order": null,
            "overflow": null,
            "overflow_x": null,
            "overflow_y": null,
            "padding": null,
            "right": null,
            "top": null,
            "visibility": null,
            "width": null
          }
        },
        "2973a92f9f33455aa23461addd88d955": {
          "model_module": "@jupyter-widgets/controls",
          "model_name": "ProgressStyleModel",
          "model_module_version": "1.5.0",
          "state": {
            "_model_module": "@jupyter-widgets/controls",
            "_model_module_version": "1.5.0",
            "_model_name": "ProgressStyleModel",
            "_view_count": null,
            "_view_module": "@jupyter-widgets/base",
            "_view_module_version": "1.2.0",
            "_view_name": "StyleView",
            "bar_color": null,
            "description_width": ""
          }
        },
        "8feb4f98a1464a1295961195cddc7de7": {
          "model_module": "@jupyter-widgets/base",
          "model_name": "LayoutModel",
          "model_module_version": "1.2.0",
          "state": {
            "_model_module": "@jupyter-widgets/base",
            "_model_module_version": "1.2.0",
            "_model_name": "LayoutModel",
            "_view_count": null,
            "_view_module": "@jupyter-widgets/base",
            "_view_module_version": "1.2.0",
            "_view_name": "LayoutView",
            "align_content": null,
            "align_items": null,
            "align_self": null,
            "border": null,
            "bottom": null,
            "display": null,
            "flex": null,
            "flex_flow": null,
            "grid_area": null,
            "grid_auto_columns": null,
            "grid_auto_flow": null,
            "grid_auto_rows": null,
            "grid_column": null,
            "grid_gap": null,
            "grid_row": null,
            "grid_template_areas": null,
            "grid_template_columns": null,
            "grid_template_rows": null,
            "height": null,
            "justify_content": null,
            "justify_items": null,
            "left": null,
            "margin": null,
            "max_height": null,
            "max_width": null,
            "min_height": null,
            "min_width": null,
            "object_fit": null,
            "object_position": null,
            "order": null,
            "overflow": null,
            "overflow_x": null,
            "overflow_y": null,
            "padding": null,
            "right": null,
            "top": null,
            "visibility": null,
            "width": null
          }
        },
        "8fb2990cf7f046509e6e08d51dfb1a30": {
          "model_module": "@jupyter-widgets/controls",
          "model_name": "DescriptionStyleModel",
          "model_module_version": "1.5.0",
          "state": {
            "_model_module": "@jupyter-widgets/controls",
            "_model_module_version": "1.5.0",
            "_model_name": "DescriptionStyleModel",
            "_view_count": null,
            "_view_module": "@jupyter-widgets/base",
            "_view_module_version": "1.2.0",
            "_view_name": "StyleView",
            "description_width": ""
          }
        },
        "d636e30a647f49f29ab34fa0cee8bebd": {
          "model_module": "@jupyter-widgets/controls",
          "model_name": "HBoxModel",
          "model_module_version": "1.5.0",
          "state": {
            "_dom_classes": [],
            "_model_module": "@jupyter-widgets/controls",
            "_model_module_version": "1.5.0",
            "_model_name": "HBoxModel",
            "_view_count": null,
            "_view_module": "@jupyter-widgets/controls",
            "_view_module_version": "1.5.0",
            "_view_name": "HBoxView",
            "box_style": "",
            "children": [
              "IPY_MODEL_e2f952ec70bb42d481fd928436567aab",
              "IPY_MODEL_3752b53f935b4d12b558489968f71716",
              "IPY_MODEL_be50083bed614b3c884cca7c74848590"
            ],
            "layout": "IPY_MODEL_bf0e107425794b8fa0f3b5bd035547c2"
          }
        },
        "e2f952ec70bb42d481fd928436567aab": {
          "model_module": "@jupyter-widgets/controls",
          "model_name": "HTMLModel",
          "model_module_version": "1.5.0",
          "state": {
            "_dom_classes": [],
            "_model_module": "@jupyter-widgets/controls",
            "_model_module_version": "1.5.0",
            "_model_name": "HTMLModel",
            "_view_count": null,
            "_view_module": "@jupyter-widgets/controls",
            "_view_module_version": "1.5.0",
            "_view_name": "HTMLView",
            "description": "",
            "description_tooltip": null,
            "layout": "IPY_MODEL_d28e4692beb94919bc6a2654eaf4e3f0",
            "placeholder": "​",
            "style": "IPY_MODEL_abc0035335164e7490a875075e9ab0de",
            "value": "Generating validation split: 100%"
          }
        },
        "3752b53f935b4d12b558489968f71716": {
          "model_module": "@jupyter-widgets/controls",
          "model_name": "FloatProgressModel",
          "model_module_version": "1.5.0",
          "state": {
            "_dom_classes": [],
            "_model_module": "@jupyter-widgets/controls",
            "_model_module_version": "1.5.0",
            "_model_name": "FloatProgressModel",
            "_view_count": null,
            "_view_module": "@jupyter-widgets/controls",
            "_view_module_version": "1.5.0",
            "_view_name": "ProgressView",
            "bar_style": "success",
            "description": "",
            "description_tooltip": null,
            "layout": "IPY_MODEL_f9a5c3d0cfe6482487df546a54ef808d",
            "max": 277,
            "min": 0,
            "orientation": "horizontal",
            "style": "IPY_MODEL_f79531d6cb5b403da5ea628fc2dae001",
            "value": 277
          }
        },
        "be50083bed614b3c884cca7c74848590": {
          "model_module": "@jupyter-widgets/controls",
          "model_name": "HTMLModel",
          "model_module_version": "1.5.0",
          "state": {
            "_dom_classes": [],
            "_model_module": "@jupyter-widgets/controls",
            "_model_module_version": "1.5.0",
            "_model_name": "HTMLModel",
            "_view_count": null,
            "_view_module": "@jupyter-widgets/controls",
            "_view_module_version": "1.5.0",
            "_view_name": "HTMLView",
            "description": "",
            "description_tooltip": null,
            "layout": "IPY_MODEL_9dd1c10fc9f94097934a90879000b988",
            "placeholder": "​",
            "style": "IPY_MODEL_3cfbbb4578874845a4a06d966d31ad82",
            "value": " 277/277 [00:00&lt;00:00, 5293.43 examples/s]"
          }
        },
        "bf0e107425794b8fa0f3b5bd035547c2": {
          "model_module": "@jupyter-widgets/base",
          "model_name": "LayoutModel",
          "model_module_version": "1.2.0",
          "state": {
            "_model_module": "@jupyter-widgets/base",
            "_model_module_version": "1.2.0",
            "_model_name": "LayoutModel",
            "_view_count": null,
            "_view_module": "@jupyter-widgets/base",
            "_view_module_version": "1.2.0",
            "_view_name": "LayoutView",
            "align_content": null,
            "align_items": null,
            "align_self": null,
            "border": null,
            "bottom": null,
            "display": null,
            "flex": null,
            "flex_flow": null,
            "grid_area": null,
            "grid_auto_columns": null,
            "grid_auto_flow": null,
            "grid_auto_rows": null,
            "grid_column": null,
            "grid_gap": null,
            "grid_row": null,
            "grid_template_areas": null,
            "grid_template_columns": null,
            "grid_template_rows": null,
            "height": null,
            "justify_content": null,
            "justify_items": null,
            "left": null,
            "margin": null,
            "max_height": null,
            "max_width": null,
            "min_height": null,
            "min_width": null,
            "object_fit": null,
            "object_position": null,
            "order": null,
            "overflow": null,
            "overflow_x": null,
            "overflow_y": null,
            "padding": null,
            "right": null,
            "top": null,
            "visibility": null,
            "width": null
          }
        },
        "d28e4692beb94919bc6a2654eaf4e3f0": {
          "model_module": "@jupyter-widgets/base",
          "model_name": "LayoutModel",
          "model_module_version": "1.2.0",
          "state": {
            "_model_module": "@jupyter-widgets/base",
            "_model_module_version": "1.2.0",
            "_model_name": "LayoutModel",
            "_view_count": null,
            "_view_module": "@jupyter-widgets/base",
            "_view_module_version": "1.2.0",
            "_view_name": "LayoutView",
            "align_content": null,
            "align_items": null,
            "align_self": null,
            "border": null,
            "bottom": null,
            "display": null,
            "flex": null,
            "flex_flow": null,
            "grid_area": null,
            "grid_auto_columns": null,
            "grid_auto_flow": null,
            "grid_auto_rows": null,
            "grid_column": null,
            "grid_gap": null,
            "grid_row": null,
            "grid_template_areas": null,
            "grid_template_columns": null,
            "grid_template_rows": null,
            "height": null,
            "justify_content": null,
            "justify_items": null,
            "left": null,
            "margin": null,
            "max_height": null,
            "max_width": null,
            "min_height": null,
            "min_width": null,
            "object_fit": null,
            "object_position": null,
            "order": null,
            "overflow": null,
            "overflow_x": null,
            "overflow_y": null,
            "padding": null,
            "right": null,
            "top": null,
            "visibility": null,
            "width": null
          }
        },
        "abc0035335164e7490a875075e9ab0de": {
          "model_module": "@jupyter-widgets/controls",
          "model_name": "DescriptionStyleModel",
          "model_module_version": "1.5.0",
          "state": {
            "_model_module": "@jupyter-widgets/controls",
            "_model_module_version": "1.5.0",
            "_model_name": "DescriptionStyleModel",
            "_view_count": null,
            "_view_module": "@jupyter-widgets/base",
            "_view_module_version": "1.2.0",
            "_view_name": "StyleView",
            "description_width": ""
          }
        },
        "f9a5c3d0cfe6482487df546a54ef808d": {
          "model_module": "@jupyter-widgets/base",
          "model_name": "LayoutModel",
          "model_module_version": "1.2.0",
          "state": {
            "_model_module": "@jupyter-widgets/base",
            "_model_module_version": "1.2.0",
            "_model_name": "LayoutModel",
            "_view_count": null,
            "_view_module": "@jupyter-widgets/base",
            "_view_module_version": "1.2.0",
            "_view_name": "LayoutView",
            "align_content": null,
            "align_items": null,
            "align_self": null,
            "border": null,
            "bottom": null,
            "display": null,
            "flex": null,
            "flex_flow": null,
            "grid_area": null,
            "grid_auto_columns": null,
            "grid_auto_flow": null,
            "grid_auto_rows": null,
            "grid_column": null,
            "grid_gap": null,
            "grid_row": null,
            "grid_template_areas": null,
            "grid_template_columns": null,
            "grid_template_rows": null,
            "height": null,
            "justify_content": null,
            "justify_items": null,
            "left": null,
            "margin": null,
            "max_height": null,
            "max_width": null,
            "min_height": null,
            "min_width": null,
            "object_fit": null,
            "object_position": null,
            "order": null,
            "overflow": null,
            "overflow_x": null,
            "overflow_y": null,
            "padding": null,
            "right": null,
            "top": null,
            "visibility": null,
            "width": null
          }
        },
        "f79531d6cb5b403da5ea628fc2dae001": {
          "model_module": "@jupyter-widgets/controls",
          "model_name": "ProgressStyleModel",
          "model_module_version": "1.5.0",
          "state": {
            "_model_module": "@jupyter-widgets/controls",
            "_model_module_version": "1.5.0",
            "_model_name": "ProgressStyleModel",
            "_view_count": null,
            "_view_module": "@jupyter-widgets/base",
            "_view_module_version": "1.2.0",
            "_view_name": "StyleView",
            "bar_color": null,
            "description_width": ""
          }
        },
        "9dd1c10fc9f94097934a90879000b988": {
          "model_module": "@jupyter-widgets/base",
          "model_name": "LayoutModel",
          "model_module_version": "1.2.0",
          "state": {
            "_model_module": "@jupyter-widgets/base",
            "_model_module_version": "1.2.0",
            "_model_name": "LayoutModel",
            "_view_count": null,
            "_view_module": "@jupyter-widgets/base",
            "_view_module_version": "1.2.0",
            "_view_name": "LayoutView",
            "align_content": null,
            "align_items": null,
            "align_self": null,
            "border": null,
            "bottom": null,
            "display": null,
            "flex": null,
            "flex_flow": null,
            "grid_area": null,
            "grid_auto_columns": null,
            "grid_auto_flow": null,
            "grid_auto_rows": null,
            "grid_column": null,
            "grid_gap": null,
            "grid_row": null,
            "grid_template_areas": null,
            "grid_template_columns": null,
            "grid_template_rows": null,
            "height": null,
            "justify_content": null,
            "justify_items": null,
            "left": null,
            "margin": null,
            "max_height": null,
            "max_width": null,
            "min_height": null,
            "min_width": null,
            "object_fit": null,
            "object_position": null,
            "order": null,
            "overflow": null,
            "overflow_x": null,
            "overflow_y": null,
            "padding": null,
            "right": null,
            "top": null,
            "visibility": null,
            "width": null
          }
        },
        "3cfbbb4578874845a4a06d966d31ad82": {
          "model_module": "@jupyter-widgets/controls",
          "model_name": "DescriptionStyleModel",
          "model_module_version": "1.5.0",
          "state": {
            "_model_module": "@jupyter-widgets/controls",
            "_model_module_version": "1.5.0",
            "_model_name": "DescriptionStyleModel",
            "_view_count": null,
            "_view_module": "@jupyter-widgets/base",
            "_view_module_version": "1.2.0",
            "_view_name": "StyleView",
            "description_width": ""
          }
        },
        "4104d8d4014a4f238633bac858b2f86c": {
          "model_module": "@jupyter-widgets/controls",
          "model_name": "HBoxModel",
          "model_module_version": "1.5.0",
          "state": {
            "_dom_classes": [],
            "_model_module": "@jupyter-widgets/controls",
            "_model_module_version": "1.5.0",
            "_model_name": "HBoxModel",
            "_view_count": null,
            "_view_module": "@jupyter-widgets/controls",
            "_view_module_version": "1.5.0",
            "_view_name": "HBoxView",
            "box_style": "",
            "children": [
              "IPY_MODEL_1eb35eeb259a4720ad58753b70a2619d",
              "IPY_MODEL_69787439de3049cf8a46acc665addebe",
              "IPY_MODEL_941b5bfe526543b59775ca79eddc19ec"
            ],
            "layout": "IPY_MODEL_534c4c09b3ef4ea68b3a92b095ab84ea"
          }
        },
        "1eb35eeb259a4720ad58753b70a2619d": {
          "model_module": "@jupyter-widgets/controls",
          "model_name": "HTMLModel",
          "model_module_version": "1.5.0",
          "state": {
            "_dom_classes": [],
            "_model_module": "@jupyter-widgets/controls",
            "_model_module_version": "1.5.0",
            "_model_name": "HTMLModel",
            "_view_count": null,
            "_view_module": "@jupyter-widgets/controls",
            "_view_module_version": "1.5.0",
            "_view_name": "HTMLView",
            "description": "",
            "description_tooltip": null,
            "layout": "IPY_MODEL_dba67862e880448badf3488c6599daa9",
            "placeholder": "​",
            "style": "IPY_MODEL_349dacbc79a047ceaa1aef9a4dd20b1d",
            "value": "Generating test split: 100%"
          }
        },
        "69787439de3049cf8a46acc665addebe": {
          "model_module": "@jupyter-widgets/controls",
          "model_name": "FloatProgressModel",
          "model_module_version": "1.5.0",
          "state": {
            "_dom_classes": [],
            "_model_module": "@jupyter-widgets/controls",
            "_model_module_version": "1.5.0",
            "_model_name": "FloatProgressModel",
            "_view_count": null,
            "_view_module": "@jupyter-widgets/controls",
            "_view_module_version": "1.5.0",
            "_view_name": "ProgressView",
            "bar_style": "success",
            "description": "",
            "description_tooltip": null,
            "layout": "IPY_MODEL_57999497168b4711a6ef444bef6b3f3b",
            "max": 3000,
            "min": 0,
            "orientation": "horizontal",
            "style": "IPY_MODEL_9e97ab26db954f11a5e84abebb052034",
            "value": 3000
          }
        },
        "941b5bfe526543b59775ca79eddc19ec": {
          "model_module": "@jupyter-widgets/controls",
          "model_name": "HTMLModel",
          "model_module_version": "1.5.0",
          "state": {
            "_dom_classes": [],
            "_model_module": "@jupyter-widgets/controls",
            "_model_module_version": "1.5.0",
            "_model_name": "HTMLModel",
            "_view_count": null,
            "_view_module": "@jupyter-widgets/controls",
            "_view_module_version": "1.5.0",
            "_view_name": "HTMLView",
            "description": "",
            "description_tooltip": null,
            "layout": "IPY_MODEL_5875b0079a9b4fda8f0af0a29439ab9c",
            "placeholder": "​",
            "style": "IPY_MODEL_8ca6480ffb8246c5bf8bf5663aa387b7",
            "value": " 3000/3000 [00:00&lt;00:00, 9397.88 examples/s]"
          }
        },
        "534c4c09b3ef4ea68b3a92b095ab84ea": {
          "model_module": "@jupyter-widgets/base",
          "model_name": "LayoutModel",
          "model_module_version": "1.2.0",
          "state": {
            "_model_module": "@jupyter-widgets/base",
            "_model_module_version": "1.2.0",
            "_model_name": "LayoutModel",
            "_view_count": null,
            "_view_module": "@jupyter-widgets/base",
            "_view_module_version": "1.2.0",
            "_view_name": "LayoutView",
            "align_content": null,
            "align_items": null,
            "align_self": null,
            "border": null,
            "bottom": null,
            "display": null,
            "flex": null,
            "flex_flow": null,
            "grid_area": null,
            "grid_auto_columns": null,
            "grid_auto_flow": null,
            "grid_auto_rows": null,
            "grid_column": null,
            "grid_gap": null,
            "grid_row": null,
            "grid_template_areas": null,
            "grid_template_columns": null,
            "grid_template_rows": null,
            "height": null,
            "justify_content": null,
            "justify_items": null,
            "left": null,
            "margin": null,
            "max_height": null,
            "max_width": null,
            "min_height": null,
            "min_width": null,
            "object_fit": null,
            "object_position": null,
            "order": null,
            "overflow": null,
            "overflow_x": null,
            "overflow_y": null,
            "padding": null,
            "right": null,
            "top": null,
            "visibility": null,
            "width": null
          }
        },
        "dba67862e880448badf3488c6599daa9": {
          "model_module": "@jupyter-widgets/base",
          "model_name": "LayoutModel",
          "model_module_version": "1.2.0",
          "state": {
            "_model_module": "@jupyter-widgets/base",
            "_model_module_version": "1.2.0",
            "_model_name": "LayoutModel",
            "_view_count": null,
            "_view_module": "@jupyter-widgets/base",
            "_view_module_version": "1.2.0",
            "_view_name": "LayoutView",
            "align_content": null,
            "align_items": null,
            "align_self": null,
            "border": null,
            "bottom": null,
            "display": null,
            "flex": null,
            "flex_flow": null,
            "grid_area": null,
            "grid_auto_columns": null,
            "grid_auto_flow": null,
            "grid_auto_rows": null,
            "grid_column": null,
            "grid_gap": null,
            "grid_row": null,
            "grid_template_areas": null,
            "grid_template_columns": null,
            "grid_template_rows": null,
            "height": null,
            "justify_content": null,
            "justify_items": null,
            "left": null,
            "margin": null,
            "max_height": null,
            "max_width": null,
            "min_height": null,
            "min_width": null,
            "object_fit": null,
            "object_position": null,
            "order": null,
            "overflow": null,
            "overflow_x": null,
            "overflow_y": null,
            "padding": null,
            "right": null,
            "top": null,
            "visibility": null,
            "width": null
          }
        },
        "349dacbc79a047ceaa1aef9a4dd20b1d": {
          "model_module": "@jupyter-widgets/controls",
          "model_name": "DescriptionStyleModel",
          "model_module_version": "1.5.0",
          "state": {
            "_model_module": "@jupyter-widgets/controls",
            "_model_module_version": "1.5.0",
            "_model_name": "DescriptionStyleModel",
            "_view_count": null,
            "_view_module": "@jupyter-widgets/base",
            "_view_module_version": "1.2.0",
            "_view_name": "StyleView",
            "description_width": ""
          }
        },
        "57999497168b4711a6ef444bef6b3f3b": {
          "model_module": "@jupyter-widgets/base",
          "model_name": "LayoutModel",
          "model_module_version": "1.2.0",
          "state": {
            "_model_module": "@jupyter-widgets/base",
            "_model_module_version": "1.2.0",
            "_model_name": "LayoutModel",
            "_view_count": null,
            "_view_module": "@jupyter-widgets/base",
            "_view_module_version": "1.2.0",
            "_view_name": "LayoutView",
            "align_content": null,
            "align_items": null,
            "align_self": null,
            "border": null,
            "bottom": null,
            "display": null,
            "flex": null,
            "flex_flow": null,
            "grid_area": null,
            "grid_auto_columns": null,
            "grid_auto_flow": null,
            "grid_auto_rows": null,
            "grid_column": null,
            "grid_gap": null,
            "grid_row": null,
            "grid_template_areas": null,
            "grid_template_columns": null,
            "grid_template_rows": null,
            "height": null,
            "justify_content": null,
            "justify_items": null,
            "left": null,
            "margin": null,
            "max_height": null,
            "max_width": null,
            "min_height": null,
            "min_width": null,
            "object_fit": null,
            "object_position": null,
            "order": null,
            "overflow": null,
            "overflow_x": null,
            "overflow_y": null,
            "padding": null,
            "right": null,
            "top": null,
            "visibility": null,
            "width": null
          }
        },
        "9e97ab26db954f11a5e84abebb052034": {
          "model_module": "@jupyter-widgets/controls",
          "model_name": "ProgressStyleModel",
          "model_module_version": "1.5.0",
          "state": {
            "_model_module": "@jupyter-widgets/controls",
            "_model_module_version": "1.5.0",
            "_model_name": "ProgressStyleModel",
            "_view_count": null,
            "_view_module": "@jupyter-widgets/base",
            "_view_module_version": "1.2.0",
            "_view_name": "StyleView",
            "bar_color": null,
            "description_width": ""
          }
        },
        "5875b0079a9b4fda8f0af0a29439ab9c": {
          "model_module": "@jupyter-widgets/base",
          "model_name": "LayoutModel",
          "model_module_version": "1.2.0",
          "state": {
            "_model_module": "@jupyter-widgets/base",
            "_model_module_version": "1.2.0",
            "_model_name": "LayoutModel",
            "_view_count": null,
            "_view_module": "@jupyter-widgets/base",
            "_view_module_version": "1.2.0",
            "_view_name": "LayoutView",
            "align_content": null,
            "align_items": null,
            "align_self": null,
            "border": null,
            "bottom": null,
            "display": null,
            "flex": null,
            "flex_flow": null,
            "grid_area": null,
            "grid_auto_columns": null,
            "grid_auto_flow": null,
            "grid_auto_rows": null,
            "grid_column": null,
            "grid_gap": null,
            "grid_row": null,
            "grid_template_areas": null,
            "grid_template_columns": null,
            "grid_template_rows": null,
            "height": null,
            "justify_content": null,
            "justify_items": null,
            "left": null,
            "margin": null,
            "max_height": null,
            "max_width": null,
            "min_height": null,
            "min_width": null,
            "object_fit": null,
            "object_position": null,
            "order": null,
            "overflow": null,
            "overflow_x": null,
            "overflow_y": null,
            "padding": null,
            "right": null,
            "top": null,
            "visibility": null,
            "width": null
          }
        },
        "8ca6480ffb8246c5bf8bf5663aa387b7": {
          "model_module": "@jupyter-widgets/controls",
          "model_name": "DescriptionStyleModel",
          "model_module_version": "1.5.0",
          "state": {
            "_model_module": "@jupyter-widgets/controls",
            "_model_module_version": "1.5.0",
            "_model_name": "DescriptionStyleModel",
            "_view_count": null,
            "_view_module": "@jupyter-widgets/base",
            "_view_module_version": "1.2.0",
            "_view_name": "StyleView",
            "description_width": ""
          }
        },
        "de6051f2c7cc4f4db4757872727c011e": {
          "model_module": "@jupyter-widgets/controls",
          "model_name": "HBoxModel",
          "model_module_version": "1.5.0",
          "state": {
            "_dom_classes": [],
            "_model_module": "@jupyter-widgets/controls",
            "_model_module_version": "1.5.0",
            "_model_name": "HBoxModel",
            "_view_count": null,
            "_view_module": "@jupyter-widgets/controls",
            "_view_module_version": "1.5.0",
            "_view_name": "HBoxView",
            "box_style": "",
            "children": [
              "IPY_MODEL_f0ef8c2d813144fa9219f36864f76102",
              "IPY_MODEL_15f09e3ce8aa4db399c5a520366b7887",
              "IPY_MODEL_b1f7bc1fe25f40449d31f4b5941ed45f"
            ],
            "layout": "IPY_MODEL_e67712fa396145cabc3143eb83ca43ed"
          }
        },
        "f0ef8c2d813144fa9219f36864f76102": {
          "model_module": "@jupyter-widgets/controls",
          "model_name": "HTMLModel",
          "model_module_version": "1.5.0",
          "state": {
            "_dom_classes": [],
            "_model_module": "@jupyter-widgets/controls",
            "_model_module_version": "1.5.0",
            "_model_name": "HTMLModel",
            "_view_count": null,
            "_view_module": "@jupyter-widgets/controls",
            "_view_module_version": "1.5.0",
            "_view_name": "HTMLView",
            "description": "",
            "description_tooltip": null,
            "layout": "IPY_MODEL_78b5e8b1238f42e1beddf75c7fe2a15c",
            "placeholder": "​",
            "style": "IPY_MODEL_3f1f8f62ec344a57a92de25eabf05c70",
            "value": "Map: 100%"
          }
        },
        "15f09e3ce8aa4db399c5a520366b7887": {
          "model_module": "@jupyter-widgets/controls",
          "model_name": "FloatProgressModel",
          "model_module_version": "1.5.0",
          "state": {
            "_dom_classes": [],
            "_model_module": "@jupyter-widgets/controls",
            "_model_module_version": "1.5.0",
            "_model_name": "FloatProgressModel",
            "_view_count": null,
            "_view_module": "@jupyter-widgets/controls",
            "_view_module_version": "1.5.0",
            "_view_name": "ProgressView",
            "bar_style": "success",
            "description": "",
            "description_tooltip": null,
            "layout": "IPY_MODEL_8e67df8a63184ccab5c7b6bdc1a98fa5",
            "max": 2490,
            "min": 0,
            "orientation": "horizontal",
            "style": "IPY_MODEL_4d1822889acc401daa136731ea51f8fa",
            "value": 2490
          }
        },
        "b1f7bc1fe25f40449d31f4b5941ed45f": {
          "model_module": "@jupyter-widgets/controls",
          "model_name": "HTMLModel",
          "model_module_version": "1.5.0",
          "state": {
            "_dom_classes": [],
            "_model_module": "@jupyter-widgets/controls",
            "_model_module_version": "1.5.0",
            "_model_name": "HTMLModel",
            "_view_count": null,
            "_view_module": "@jupyter-widgets/controls",
            "_view_module_version": "1.5.0",
            "_view_name": "HTMLView",
            "description": "",
            "description_tooltip": null,
            "layout": "IPY_MODEL_a2a9decbb6da4533bebdc561b91f7fe1",
            "placeholder": "​",
            "style": "IPY_MODEL_9444df7e62a644888e14f4d968056b31",
            "value": " 2490/2490 [00:00&lt;00:00, 3407.88 examples/s]"
          }
        },
        "e67712fa396145cabc3143eb83ca43ed": {
          "model_module": "@jupyter-widgets/base",
          "model_name": "LayoutModel",
          "model_module_version": "1.2.0",
          "state": {
            "_model_module": "@jupyter-widgets/base",
            "_model_module_version": "1.2.0",
            "_model_name": "LayoutModel",
            "_view_count": null,
            "_view_module": "@jupyter-widgets/base",
            "_view_module_version": "1.2.0",
            "_view_name": "LayoutView",
            "align_content": null,
            "align_items": null,
            "align_self": null,
            "border": null,
            "bottom": null,
            "display": null,
            "flex": null,
            "flex_flow": null,
            "grid_area": null,
            "grid_auto_columns": null,
            "grid_auto_flow": null,
            "grid_auto_rows": null,
            "grid_column": null,
            "grid_gap": null,
            "grid_row": null,
            "grid_template_areas": null,
            "grid_template_columns": null,
            "grid_template_rows": null,
            "height": null,
            "justify_content": null,
            "justify_items": null,
            "left": null,
            "margin": null,
            "max_height": null,
            "max_width": null,
            "min_height": null,
            "min_width": null,
            "object_fit": null,
            "object_position": null,
            "order": null,
            "overflow": null,
            "overflow_x": null,
            "overflow_y": null,
            "padding": null,
            "right": null,
            "top": null,
            "visibility": null,
            "width": null
          }
        },
        "78b5e8b1238f42e1beddf75c7fe2a15c": {
          "model_module": "@jupyter-widgets/base",
          "model_name": "LayoutModel",
          "model_module_version": "1.2.0",
          "state": {
            "_model_module": "@jupyter-widgets/base",
            "_model_module_version": "1.2.0",
            "_model_name": "LayoutModel",
            "_view_count": null,
            "_view_module": "@jupyter-widgets/base",
            "_view_module_version": "1.2.0",
            "_view_name": "LayoutView",
            "align_content": null,
            "align_items": null,
            "align_self": null,
            "border": null,
            "bottom": null,
            "display": null,
            "flex": null,
            "flex_flow": null,
            "grid_area": null,
            "grid_auto_columns": null,
            "grid_auto_flow": null,
            "grid_auto_rows": null,
            "grid_column": null,
            "grid_gap": null,
            "grid_row": null,
            "grid_template_areas": null,
            "grid_template_columns": null,
            "grid_template_rows": null,
            "height": null,
            "justify_content": null,
            "justify_items": null,
            "left": null,
            "margin": null,
            "max_height": null,
            "max_width": null,
            "min_height": null,
            "min_width": null,
            "object_fit": null,
            "object_position": null,
            "order": null,
            "overflow": null,
            "overflow_x": null,
            "overflow_y": null,
            "padding": null,
            "right": null,
            "top": null,
            "visibility": null,
            "width": null
          }
        },
        "3f1f8f62ec344a57a92de25eabf05c70": {
          "model_module": "@jupyter-widgets/controls",
          "model_name": "DescriptionStyleModel",
          "model_module_version": "1.5.0",
          "state": {
            "_model_module": "@jupyter-widgets/controls",
            "_model_module_version": "1.5.0",
            "_model_name": "DescriptionStyleModel",
            "_view_count": null,
            "_view_module": "@jupyter-widgets/base",
            "_view_module_version": "1.2.0",
            "_view_name": "StyleView",
            "description_width": ""
          }
        },
        "8e67df8a63184ccab5c7b6bdc1a98fa5": {
          "model_module": "@jupyter-widgets/base",
          "model_name": "LayoutModel",
          "model_module_version": "1.2.0",
          "state": {
            "_model_module": "@jupyter-widgets/base",
            "_model_module_version": "1.2.0",
            "_model_name": "LayoutModel",
            "_view_count": null,
            "_view_module": "@jupyter-widgets/base",
            "_view_module_version": "1.2.0",
            "_view_name": "LayoutView",
            "align_content": null,
            "align_items": null,
            "align_self": null,
            "border": null,
            "bottom": null,
            "display": null,
            "flex": null,
            "flex_flow": null,
            "grid_area": null,
            "grid_auto_columns": null,
            "grid_auto_flow": null,
            "grid_auto_rows": null,
            "grid_column": null,
            "grid_gap": null,
            "grid_row": null,
            "grid_template_areas": null,
            "grid_template_columns": null,
            "grid_template_rows": null,
            "height": null,
            "justify_content": null,
            "justify_items": null,
            "left": null,
            "margin": null,
            "max_height": null,
            "max_width": null,
            "min_height": null,
            "min_width": null,
            "object_fit": null,
            "object_position": null,
            "order": null,
            "overflow": null,
            "overflow_x": null,
            "overflow_y": null,
            "padding": null,
            "right": null,
            "top": null,
            "visibility": null,
            "width": null
          }
        },
        "4d1822889acc401daa136731ea51f8fa": {
          "model_module": "@jupyter-widgets/controls",
          "model_name": "ProgressStyleModel",
          "model_module_version": "1.5.0",
          "state": {
            "_model_module": "@jupyter-widgets/controls",
            "_model_module_version": "1.5.0",
            "_model_name": "ProgressStyleModel",
            "_view_count": null,
            "_view_module": "@jupyter-widgets/base",
            "_view_module_version": "1.2.0",
            "_view_name": "StyleView",
            "bar_color": null,
            "description_width": ""
          }
        },
        "a2a9decbb6da4533bebdc561b91f7fe1": {
          "model_module": "@jupyter-widgets/base",
          "model_name": "LayoutModel",
          "model_module_version": "1.2.0",
          "state": {
            "_model_module": "@jupyter-widgets/base",
            "_model_module_version": "1.2.0",
            "_model_name": "LayoutModel",
            "_view_count": null,
            "_view_module": "@jupyter-widgets/base",
            "_view_module_version": "1.2.0",
            "_view_name": "LayoutView",
            "align_content": null,
            "align_items": null,
            "align_self": null,
            "border": null,
            "bottom": null,
            "display": null,
            "flex": null,
            "flex_flow": null,
            "grid_area": null,
            "grid_auto_columns": null,
            "grid_auto_flow": null,
            "grid_auto_rows": null,
            "grid_column": null,
            "grid_gap": null,
            "grid_row": null,
            "grid_template_areas": null,
            "grid_template_columns": null,
            "grid_template_rows": null,
            "height": null,
            "justify_content": null,
            "justify_items": null,
            "left": null,
            "margin": null,
            "max_height": null,
            "max_width": null,
            "min_height": null,
            "min_width": null,
            "object_fit": null,
            "object_position": null,
            "order": null,
            "overflow": null,
            "overflow_x": null,
            "overflow_y": null,
            "padding": null,
            "right": null,
            "top": null,
            "visibility": null,
            "width": null
          }
        },
        "9444df7e62a644888e14f4d968056b31": {
          "model_module": "@jupyter-widgets/controls",
          "model_name": "DescriptionStyleModel",
          "model_module_version": "1.5.0",
          "state": {
            "_model_module": "@jupyter-widgets/controls",
            "_model_module_version": "1.5.0",
            "_model_name": "DescriptionStyleModel",
            "_view_count": null,
            "_view_module": "@jupyter-widgets/base",
            "_view_module_version": "1.2.0",
            "_view_name": "StyleView",
            "description_width": ""
          }
        },
        "2147049f74ec4163b22cd128fd7dd07b": {
          "model_module": "@jupyter-widgets/controls",
          "model_name": "HBoxModel",
          "model_module_version": "1.5.0",
          "state": {
            "_dom_classes": [],
            "_model_module": "@jupyter-widgets/controls",
            "_model_module_version": "1.5.0",
            "_model_name": "HBoxModel",
            "_view_count": null,
            "_view_module": "@jupyter-widgets/controls",
            "_view_module_version": "1.5.0",
            "_view_name": "HBoxView",
            "box_style": "",
            "children": [
              "IPY_MODEL_960e89862f334761a6444a05785ff915",
              "IPY_MODEL_b93ae273e3c24ba4a3040aebccc67e12",
              "IPY_MODEL_49b999dfbbd64d06b467196dd8d4c391"
            ],
            "layout": "IPY_MODEL_f65ee3a3c74d47ceae92976e009074f6"
          }
        },
        "960e89862f334761a6444a05785ff915": {
          "model_module": "@jupyter-widgets/controls",
          "model_name": "HTMLModel",
          "model_module_version": "1.5.0",
          "state": {
            "_dom_classes": [],
            "_model_module": "@jupyter-widgets/controls",
            "_model_module_version": "1.5.0",
            "_model_name": "HTMLModel",
            "_view_count": null,
            "_view_module": "@jupyter-widgets/controls",
            "_view_module_version": "1.5.0",
            "_view_name": "HTMLView",
            "description": "",
            "description_tooltip": null,
            "layout": "IPY_MODEL_6e841906f5ad437e9a1e397691c12118",
            "placeholder": "​",
            "style": "IPY_MODEL_9f74e8f548ff4080b6d024743854ba04",
            "value": "Map: 100%"
          }
        },
        "b93ae273e3c24ba4a3040aebccc67e12": {
          "model_module": "@jupyter-widgets/controls",
          "model_name": "FloatProgressModel",
          "model_module_version": "1.5.0",
          "state": {
            "_dom_classes": [],
            "_model_module": "@jupyter-widgets/controls",
            "_model_module_version": "1.5.0",
            "_model_name": "FloatProgressModel",
            "_view_count": null,
            "_view_module": "@jupyter-widgets/controls",
            "_view_module_version": "1.5.0",
            "_view_name": "ProgressView",
            "bar_style": "success",
            "description": "",
            "description_tooltip": null,
            "layout": "IPY_MODEL_99722b0d78e848a2a49bf38556804e46",
            "max": 277,
            "min": 0,
            "orientation": "horizontal",
            "style": "IPY_MODEL_6245aeccf7124db588bda2e68cdc3feb",
            "value": 277
          }
        },
        "49b999dfbbd64d06b467196dd8d4c391": {
          "model_module": "@jupyter-widgets/controls",
          "model_name": "HTMLModel",
          "model_module_version": "1.5.0",
          "state": {
            "_dom_classes": [],
            "_model_module": "@jupyter-widgets/controls",
            "_model_module_version": "1.5.0",
            "_model_name": "HTMLModel",
            "_view_count": null,
            "_view_module": "@jupyter-widgets/controls",
            "_view_module_version": "1.5.0",
            "_view_name": "HTMLView",
            "description": "",
            "description_tooltip": null,
            "layout": "IPY_MODEL_e53df192464a475caefd7a9a599c036f",
            "placeholder": "​",
            "style": "IPY_MODEL_3490375ee7cf476d8f432228aeeb2de1",
            "value": " 277/277 [00:00&lt;00:00, 3009.25 examples/s]"
          }
        },
        "f65ee3a3c74d47ceae92976e009074f6": {
          "model_module": "@jupyter-widgets/base",
          "model_name": "LayoutModel",
          "model_module_version": "1.2.0",
          "state": {
            "_model_module": "@jupyter-widgets/base",
            "_model_module_version": "1.2.0",
            "_model_name": "LayoutModel",
            "_view_count": null,
            "_view_module": "@jupyter-widgets/base",
            "_view_module_version": "1.2.0",
            "_view_name": "LayoutView",
            "align_content": null,
            "align_items": null,
            "align_self": null,
            "border": null,
            "bottom": null,
            "display": null,
            "flex": null,
            "flex_flow": null,
            "grid_area": null,
            "grid_auto_columns": null,
            "grid_auto_flow": null,
            "grid_auto_rows": null,
            "grid_column": null,
            "grid_gap": null,
            "grid_row": null,
            "grid_template_areas": null,
            "grid_template_columns": null,
            "grid_template_rows": null,
            "height": null,
            "justify_content": null,
            "justify_items": null,
            "left": null,
            "margin": null,
            "max_height": null,
            "max_width": null,
            "min_height": null,
            "min_width": null,
            "object_fit": null,
            "object_position": null,
            "order": null,
            "overflow": null,
            "overflow_x": null,
            "overflow_y": null,
            "padding": null,
            "right": null,
            "top": null,
            "visibility": null,
            "width": null
          }
        },
        "6e841906f5ad437e9a1e397691c12118": {
          "model_module": "@jupyter-widgets/base",
          "model_name": "LayoutModel",
          "model_module_version": "1.2.0",
          "state": {
            "_model_module": "@jupyter-widgets/base",
            "_model_module_version": "1.2.0",
            "_model_name": "LayoutModel",
            "_view_count": null,
            "_view_module": "@jupyter-widgets/base",
            "_view_module_version": "1.2.0",
            "_view_name": "LayoutView",
            "align_content": null,
            "align_items": null,
            "align_self": null,
            "border": null,
            "bottom": null,
            "display": null,
            "flex": null,
            "flex_flow": null,
            "grid_area": null,
            "grid_auto_columns": null,
            "grid_auto_flow": null,
            "grid_auto_rows": null,
            "grid_column": null,
            "grid_gap": null,
            "grid_row": null,
            "grid_template_areas": null,
            "grid_template_columns": null,
            "grid_template_rows": null,
            "height": null,
            "justify_content": null,
            "justify_items": null,
            "left": null,
            "margin": null,
            "max_height": null,
            "max_width": null,
            "min_height": null,
            "min_width": null,
            "object_fit": null,
            "object_position": null,
            "order": null,
            "overflow": null,
            "overflow_x": null,
            "overflow_y": null,
            "padding": null,
            "right": null,
            "top": null,
            "visibility": null,
            "width": null
          }
        },
        "9f74e8f548ff4080b6d024743854ba04": {
          "model_module": "@jupyter-widgets/controls",
          "model_name": "DescriptionStyleModel",
          "model_module_version": "1.5.0",
          "state": {
            "_model_module": "@jupyter-widgets/controls",
            "_model_module_version": "1.5.0",
            "_model_name": "DescriptionStyleModel",
            "_view_count": null,
            "_view_module": "@jupyter-widgets/base",
            "_view_module_version": "1.2.0",
            "_view_name": "StyleView",
            "description_width": ""
          }
        },
        "99722b0d78e848a2a49bf38556804e46": {
          "model_module": "@jupyter-widgets/base",
          "model_name": "LayoutModel",
          "model_module_version": "1.2.0",
          "state": {
            "_model_module": "@jupyter-widgets/base",
            "_model_module_version": "1.2.0",
            "_model_name": "LayoutModel",
            "_view_count": null,
            "_view_module": "@jupyter-widgets/base",
            "_view_module_version": "1.2.0",
            "_view_name": "LayoutView",
            "align_content": null,
            "align_items": null,
            "align_self": null,
            "border": null,
            "bottom": null,
            "display": null,
            "flex": null,
            "flex_flow": null,
            "grid_area": null,
            "grid_auto_columns": null,
            "grid_auto_flow": null,
            "grid_auto_rows": null,
            "grid_column": null,
            "grid_gap": null,
            "grid_row": null,
            "grid_template_areas": null,
            "grid_template_columns": null,
            "grid_template_rows": null,
            "height": null,
            "justify_content": null,
            "justify_items": null,
            "left": null,
            "margin": null,
            "max_height": null,
            "max_width": null,
            "min_height": null,
            "min_width": null,
            "object_fit": null,
            "object_position": null,
            "order": null,
            "overflow": null,
            "overflow_x": null,
            "overflow_y": null,
            "padding": null,
            "right": null,
            "top": null,
            "visibility": null,
            "width": null
          }
        },
        "6245aeccf7124db588bda2e68cdc3feb": {
          "model_module": "@jupyter-widgets/controls",
          "model_name": "ProgressStyleModel",
          "model_module_version": "1.5.0",
          "state": {
            "_model_module": "@jupyter-widgets/controls",
            "_model_module_version": "1.5.0",
            "_model_name": "ProgressStyleModel",
            "_view_count": null,
            "_view_module": "@jupyter-widgets/base",
            "_view_module_version": "1.2.0",
            "_view_name": "StyleView",
            "bar_color": null,
            "description_width": ""
          }
        },
        "e53df192464a475caefd7a9a599c036f": {
          "model_module": "@jupyter-widgets/base",
          "model_name": "LayoutModel",
          "model_module_version": "1.2.0",
          "state": {
            "_model_module": "@jupyter-widgets/base",
            "_model_module_version": "1.2.0",
            "_model_name": "LayoutModel",
            "_view_count": null,
            "_view_module": "@jupyter-widgets/base",
            "_view_module_version": "1.2.0",
            "_view_name": "LayoutView",
            "align_content": null,
            "align_items": null,
            "align_self": null,
            "border": null,
            "bottom": null,
            "display": null,
            "flex": null,
            "flex_flow": null,
            "grid_area": null,
            "grid_auto_columns": null,
            "grid_auto_flow": null,
            "grid_auto_rows": null,
            "grid_column": null,
            "grid_gap": null,
            "grid_row": null,
            "grid_template_areas": null,
            "grid_template_columns": null,
            "grid_template_rows": null,
            "height": null,
            "justify_content": null,
            "justify_items": null,
            "left": null,
            "margin": null,
            "max_height": null,
            "max_width": null,
            "min_height": null,
            "min_width": null,
            "object_fit": null,
            "object_position": null,
            "order": null,
            "overflow": null,
            "overflow_x": null,
            "overflow_y": null,
            "padding": null,
            "right": null,
            "top": null,
            "visibility": null,
            "width": null
          }
        },
        "3490375ee7cf476d8f432228aeeb2de1": {
          "model_module": "@jupyter-widgets/controls",
          "model_name": "DescriptionStyleModel",
          "model_module_version": "1.5.0",
          "state": {
            "_model_module": "@jupyter-widgets/controls",
            "_model_module_version": "1.5.0",
            "_model_name": "DescriptionStyleModel",
            "_view_count": null,
            "_view_module": "@jupyter-widgets/base",
            "_view_module_version": "1.2.0",
            "_view_name": "StyleView",
            "description_width": ""
          }
        },
        "ada2e03c6c924ea4a9f9c71c68eea321": {
          "model_module": "@jupyter-widgets/controls",
          "model_name": "HBoxModel",
          "model_module_version": "1.5.0",
          "state": {
            "_dom_classes": [],
            "_model_module": "@jupyter-widgets/controls",
            "_model_module_version": "1.5.0",
            "_model_name": "HBoxModel",
            "_view_count": null,
            "_view_module": "@jupyter-widgets/controls",
            "_view_module_version": "1.5.0",
            "_view_name": "HBoxView",
            "box_style": "",
            "children": [
              "IPY_MODEL_3d501f321225490a9ef9f124ca3d4161",
              "IPY_MODEL_1b53081ba1fc4dd288ea52cee8a95bb0",
              "IPY_MODEL_398f23b11da14290b649f1200ab5964b"
            ],
            "layout": "IPY_MODEL_fcab4902872b43549c588cf2a636a04a"
          }
        },
        "3d501f321225490a9ef9f124ca3d4161": {
          "model_module": "@jupyter-widgets/controls",
          "model_name": "HTMLModel",
          "model_module_version": "1.5.0",
          "state": {
            "_dom_classes": [],
            "_model_module": "@jupyter-widgets/controls",
            "_model_module_version": "1.5.0",
            "_model_name": "HTMLModel",
            "_view_count": null,
            "_view_module": "@jupyter-widgets/controls",
            "_view_module_version": "1.5.0",
            "_view_name": "HTMLView",
            "description": "",
            "description_tooltip": null,
            "layout": "IPY_MODEL_d03ee4c6b38644709507b3117de08fd3",
            "placeholder": "​",
            "style": "IPY_MODEL_8836005f48f743d18d9f4967133ff4a2",
            "value": "Map: 100%"
          }
        },
        "1b53081ba1fc4dd288ea52cee8a95bb0": {
          "model_module": "@jupyter-widgets/controls",
          "model_name": "FloatProgressModel",
          "model_module_version": "1.5.0",
          "state": {
            "_dom_classes": [],
            "_model_module": "@jupyter-widgets/controls",
            "_model_module_version": "1.5.0",
            "_model_name": "FloatProgressModel",
            "_view_count": null,
            "_view_module": "@jupyter-widgets/controls",
            "_view_module_version": "1.5.0",
            "_view_name": "ProgressView",
            "bar_style": "success",
            "description": "",
            "description_tooltip": null,
            "layout": "IPY_MODEL_8be236ea7b574b2597abbccb322fba56",
            "max": 3000,
            "min": 0,
            "orientation": "horizontal",
            "style": "IPY_MODEL_76a508f5d6bd4126a6fed4c8815eabdf",
            "value": 3000
          }
        },
        "398f23b11da14290b649f1200ab5964b": {
          "model_module": "@jupyter-widgets/controls",
          "model_name": "HTMLModel",
          "model_module_version": "1.5.0",
          "state": {
            "_dom_classes": [],
            "_model_module": "@jupyter-widgets/controls",
            "_model_module_version": "1.5.0",
            "_model_name": "HTMLModel",
            "_view_count": null,
            "_view_module": "@jupyter-widgets/controls",
            "_view_module_version": "1.5.0",
            "_view_name": "HTMLView",
            "description": "",
            "description_tooltip": null,
            "layout": "IPY_MODEL_a6165d5010604f5aba4af8029e7aca68",
            "placeholder": "​",
            "style": "IPY_MODEL_37db5a7ad39e4c02b7f5b34dfa0f04d2",
            "value": " 3000/3000 [00:00&lt;00:00, 4237.22 examples/s]"
          }
        },
        "fcab4902872b43549c588cf2a636a04a": {
          "model_module": "@jupyter-widgets/base",
          "model_name": "LayoutModel",
          "model_module_version": "1.2.0",
          "state": {
            "_model_module": "@jupyter-widgets/base",
            "_model_module_version": "1.2.0",
            "_model_name": "LayoutModel",
            "_view_count": null,
            "_view_module": "@jupyter-widgets/base",
            "_view_module_version": "1.2.0",
            "_view_name": "LayoutView",
            "align_content": null,
            "align_items": null,
            "align_self": null,
            "border": null,
            "bottom": null,
            "display": null,
            "flex": null,
            "flex_flow": null,
            "grid_area": null,
            "grid_auto_columns": null,
            "grid_auto_flow": null,
            "grid_auto_rows": null,
            "grid_column": null,
            "grid_gap": null,
            "grid_row": null,
            "grid_template_areas": null,
            "grid_template_columns": null,
            "grid_template_rows": null,
            "height": null,
            "justify_content": null,
            "justify_items": null,
            "left": null,
            "margin": null,
            "max_height": null,
            "max_width": null,
            "min_height": null,
            "min_width": null,
            "object_fit": null,
            "object_position": null,
            "order": null,
            "overflow": null,
            "overflow_x": null,
            "overflow_y": null,
            "padding": null,
            "right": null,
            "top": null,
            "visibility": null,
            "width": null
          }
        },
        "d03ee4c6b38644709507b3117de08fd3": {
          "model_module": "@jupyter-widgets/base",
          "model_name": "LayoutModel",
          "model_module_version": "1.2.0",
          "state": {
            "_model_module": "@jupyter-widgets/base",
            "_model_module_version": "1.2.0",
            "_model_name": "LayoutModel",
            "_view_count": null,
            "_view_module": "@jupyter-widgets/base",
            "_view_module_version": "1.2.0",
            "_view_name": "LayoutView",
            "align_content": null,
            "align_items": null,
            "align_self": null,
            "border": null,
            "bottom": null,
            "display": null,
            "flex": null,
            "flex_flow": null,
            "grid_area": null,
            "grid_auto_columns": null,
            "grid_auto_flow": null,
            "grid_auto_rows": null,
            "grid_column": null,
            "grid_gap": null,
            "grid_row": null,
            "grid_template_areas": null,
            "grid_template_columns": null,
            "grid_template_rows": null,
            "height": null,
            "justify_content": null,
            "justify_items": null,
            "left": null,
            "margin": null,
            "max_height": null,
            "max_width": null,
            "min_height": null,
            "min_width": null,
            "object_fit": null,
            "object_position": null,
            "order": null,
            "overflow": null,
            "overflow_x": null,
            "overflow_y": null,
            "padding": null,
            "right": null,
            "top": null,
            "visibility": null,
            "width": null
          }
        },
        "8836005f48f743d18d9f4967133ff4a2": {
          "model_module": "@jupyter-widgets/controls",
          "model_name": "DescriptionStyleModel",
          "model_module_version": "1.5.0",
          "state": {
            "_model_module": "@jupyter-widgets/controls",
            "_model_module_version": "1.5.0",
            "_model_name": "DescriptionStyleModel",
            "_view_count": null,
            "_view_module": "@jupyter-widgets/base",
            "_view_module_version": "1.2.0",
            "_view_name": "StyleView",
            "description_width": ""
          }
        },
        "8be236ea7b574b2597abbccb322fba56": {
          "model_module": "@jupyter-widgets/base",
          "model_name": "LayoutModel",
          "model_module_version": "1.2.0",
          "state": {
            "_model_module": "@jupyter-widgets/base",
            "_model_module_version": "1.2.0",
            "_model_name": "LayoutModel",
            "_view_count": null,
            "_view_module": "@jupyter-widgets/base",
            "_view_module_version": "1.2.0",
            "_view_name": "LayoutView",
            "align_content": null,
            "align_items": null,
            "align_self": null,
            "border": null,
            "bottom": null,
            "display": null,
            "flex": null,
            "flex_flow": null,
            "grid_area": null,
            "grid_auto_columns": null,
            "grid_auto_flow": null,
            "grid_auto_rows": null,
            "grid_column": null,
            "grid_gap": null,
            "grid_row": null,
            "grid_template_areas": null,
            "grid_template_columns": null,
            "grid_template_rows": null,
            "height": null,
            "justify_content": null,
            "justify_items": null,
            "left": null,
            "margin": null,
            "max_height": null,
            "max_width": null,
            "min_height": null,
            "min_width": null,
            "object_fit": null,
            "object_position": null,
            "order": null,
            "overflow": null,
            "overflow_x": null,
            "overflow_y": null,
            "padding": null,
            "right": null,
            "top": null,
            "visibility": null,
            "width": null
          }
        },
        "76a508f5d6bd4126a6fed4c8815eabdf": {
          "model_module": "@jupyter-widgets/controls",
          "model_name": "ProgressStyleModel",
          "model_module_version": "1.5.0",
          "state": {
            "_model_module": "@jupyter-widgets/controls",
            "_model_module_version": "1.5.0",
            "_model_name": "ProgressStyleModel",
            "_view_count": null,
            "_view_module": "@jupyter-widgets/base",
            "_view_module_version": "1.2.0",
            "_view_name": "StyleView",
            "bar_color": null,
            "description_width": ""
          }
        },
        "a6165d5010604f5aba4af8029e7aca68": {
          "model_module": "@jupyter-widgets/base",
          "model_name": "LayoutModel",
          "model_module_version": "1.2.0",
          "state": {
            "_model_module": "@jupyter-widgets/base",
            "_model_module_version": "1.2.0",
            "_model_name": "LayoutModel",
            "_view_count": null,
            "_view_module": "@jupyter-widgets/base",
            "_view_module_version": "1.2.0",
            "_view_name": "LayoutView",
            "align_content": null,
            "align_items": null,
            "align_self": null,
            "border": null,
            "bottom": null,
            "display": null,
            "flex": null,
            "flex_flow": null,
            "grid_area": null,
            "grid_auto_columns": null,
            "grid_auto_flow": null,
            "grid_auto_rows": null,
            "grid_column": null,
            "grid_gap": null,
            "grid_row": null,
            "grid_template_areas": null,
            "grid_template_columns": null,
            "grid_template_rows": null,
            "height": null,
            "justify_content": null,
            "justify_items": null,
            "left": null,
            "margin": null,
            "max_height": null,
            "max_width": null,
            "min_height": null,
            "min_width": null,
            "object_fit": null,
            "object_position": null,
            "order": null,
            "overflow": null,
            "overflow_x": null,
            "overflow_y": null,
            "padding": null,
            "right": null,
            "top": null,
            "visibility": null,
            "width": null
          }
        },
        "37db5a7ad39e4c02b7f5b34dfa0f04d2": {
          "model_module": "@jupyter-widgets/controls",
          "model_name": "DescriptionStyleModel",
          "model_module_version": "1.5.0",
          "state": {
            "_model_module": "@jupyter-widgets/controls",
            "_model_module_version": "1.5.0",
            "_model_name": "DescriptionStyleModel",
            "_view_count": null,
            "_view_module": "@jupyter-widgets/base",
            "_view_module_version": "1.2.0",
            "_view_name": "StyleView",
            "description_width": ""
          }
        }
      }
    }
  },
  "nbformat": 4,
  "nbformat_minor": 0
}